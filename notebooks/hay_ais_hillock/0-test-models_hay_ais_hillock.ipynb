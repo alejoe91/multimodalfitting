{
 "cells": [
  {
   "cell_type": "markdown",
   "id": "f278ad77",
   "metadata": {},
   "source": [
    "# Test model example - HAY_AIS_HILLOCK"
   ]
  },
  {
   "cell_type": "code",
   "execution_count": null,
   "id": "de6ec5c5",
   "metadata": {},
   "outputs": [],
   "source": [
    "import json\n",
    "import sys\n",
    "import os\n",
    "import time\n",
    "import neuron\n",
    "from pathlib import Path\n",
    "\n",
    "import matplotlib.pyplot as plt\n",
    "import neuroplotlib as nplt\n",
    "\n",
    "import bluepyopt as bpopt\n",
    "import bluepyopt.ephys as ephys\n",
    "\n",
    "import shutil\n",
    "\n",
    "import numpy as np\n",
    "\n",
    "import model\n",
    "import evaluator\n",
    "import plotting\n",
    "import utils\n",
    "\n",
    "# %matplotlib notebook\n",
    "%matplotlib notebook"
   ]
  },
  {
   "cell_type": "code",
   "execution_count": null,
   "id": "e3415b31",
   "metadata": {},
   "outputs": [],
   "source": [
    "probe_type = \"planar\"\n",
    "model_name = \"hay_ais_hillock\" #'hallermann' # \"hay\" hay_ais\n",
    "model_folder = (Path(\".\") / f\"{model_name}_model\").absolute()"
   ]
  },
  {
   "cell_type": "code",
   "execution_count": null,
   "id": "ae5f5596",
   "metadata": {},
   "outputs": [],
   "source": [
    "protocols_file = \"../data/hay_ecode_probe_planar/efeatures/protocols_BPO.json\"\n",
    "features_file = \"../data/hay_ecode_probe_planar/efeatures/features_BPO.json\""
   ]
  },
  {
   "cell_type": "code",
   "execution_count": null,
   "id": "3dc8c653",
   "metadata": {},
   "outputs": [],
   "source": [
    "ais_recordings = utils.get_ais_hillock_extra_recordings()\n",
    "ais_recordings"
   ]
  },
  {
   "cell_type": "code",
   "execution_count": null,
   "id": "8f831330",
   "metadata": {},
   "outputs": [],
   "source": [
    "cell = model.create(model_name=model_name, release=True)\n",
    "\n",
    "probe = model.define_electrode(probe_type=probe_type)\n",
    "# probe=None\n",
    "\n",
    "param_names = [param.name for param in cell.params.values() if not param.frozen]\n",
    "\n",
    "fitness_protocols = evaluator.define_protocols(\n",
    "    model_name,\n",
    "    feature_set=\"soma\",\n",
    "    feature_file=features_file,\n",
    "    protocols_file=protocols_file,\n",
    "    electrode=probe,\n",
    "    protocols_with_lfp=[\"IDrest_300\"],\n",
    "    extra_recordings=dict(IDrest_300=ais_recordings)  \n",
    ")\n",
    "\n",
    "fitness_calculator = ephys.objectivescalculators.ObjectivesCalculator([])\n",
    "\n",
    "sim = ephys.simulators.LFPySimulator(cell, cvode_active=True, electrode=probe, mechs_folders=model_folder)\n",
    "\n",
    "eva = ephys.evaluators.CellEvaluator(                    \n",
    "        cell_model=cell,                                                       \n",
    "        param_names=param_names,                                                    \n",
    "        fitness_protocols=fitness_protocols,                                        \n",
    "        fitness_calculator=fitness_calculator,                                      \n",
    "        sim=sim)"
   ]
  },
  {
   "cell_type": "code",
   "execution_count": null,
   "id": "874e55ce",
   "metadata": {},
   "outputs": [],
   "source": [
    "idrest_300 = fitness_protocols[\"IDrest_300\"]\n",
    "# print(eva)"
   ]
  },
  {
   "cell_type": "code",
   "execution_count": null,
   "id": "33b08ba4",
   "metadata": {},
   "outputs": [],
   "source": [
    "idrest_300.recordings"
   ]
  },
  {
   "cell_type": "code",
   "execution_count": null,
   "id": "4eff7a14",
   "metadata": {},
   "outputs": [],
   "source": [
    "t_start = time.time()\n",
    "responses = eva.run_protocols(protocols=fitness_protocols.values(), param_values={})\n",
    "print(f\"Elapsed time: {time.time() - t_start}\")"
   ]
  },
  {
   "cell_type": "code",
   "execution_count": null,
   "id": "aa1da92c",
   "metadata": {},
   "outputs": [],
   "source": [
    "responses[\"IDrest_250.soma.v\"]"
   ]
  },
  {
   "cell_type": "code",
   "execution_count": null,
   "id": "0d74fdef",
   "metadata": {},
   "outputs": [],
   "source": [
    "plotting.plot_responses(responses)"
   ]
  },
  {
   "cell_type": "markdown",
   "id": "1c576d07",
   "metadata": {},
   "source": [
    "## Validate AIS channel distributions"
   ]
  },
  {
   "cell_type": "code",
   "execution_count": null,
   "id": "bff8b0da",
   "metadata": {},
   "outputs": [],
   "source": [
    "cell.freeze({})\n",
    "cell.instantiate(sim)"
   ]
  },
  {
   "cell_type": "code",
   "execution_count": null,
   "id": "0bf5d1df",
   "metadata": {},
   "outputs": [],
   "source": [
    "nplt.plot_detailed_neuron(cell.LFPyCell, plane=\"xy\", color_ais=\"r\", color_hillock=\"g\")"
   ]
  },
  {
   "cell_type": "code",
   "execution_count": null,
   "id": "c76b55d7",
   "metadata": {},
   "outputs": [],
   "source": [
    "ais = cell.icell.ais[0]"
   ]
  },
  {
   "cell_type": "code",
   "execution_count": null,
   "id": "a3907663",
   "metadata": {},
   "outputs": [],
   "source": [
    "mechs = ais.psection()[\"density_mechs\"]\n",
    "\n",
    "plt.figure()\n",
    "# plt.plot(mechs[\"Na12Hu2009\"][\"gNa12bar\"] / np.max(mechs[\"Na12Hu2009\"][\"gNa12bar\"] ), label=\"gNa12bar_Na12Hu2009\")\n",
    "# plt.plot(mechs[\"Na16Hu2009\"][\"gNa16bar\"] / np.max(mechs[\"Na16Hu2009\"][\"gNa16bar\"]) , label=\"gNa16bar_Na16Hu2009\")\n",
    "# plt.plot(mechs[\"KdShu2007\"][\"gkbar\"] / np.max(mechs[\"KdShu2007\"][\"gkbar\"]) , label=\"gkbar_KdShu2007\")\n",
    "\n",
    "plt.plot(mechs[\"Na12Hu2009\"][\"gNa12bar\"], label=\"gNa12bar_Na12Hu2009\")\n",
    "plt.plot(mechs[\"Na16Hu2009\"][\"gNa16bar\"] , label=\"gNa16bar_Na16Hu2009\")\n",
    "plt.plot(mechs[\"KdShu2007\"][\"gkbar\"] , label=\"gkbar_KdShu2007\")\n",
    "plt.legend()"
   ]
  },
  {
   "cell_type": "code",
   "execution_count": null,
   "id": "11bb9a15",
   "metadata": {},
   "outputs": [],
   "source": [
    "cell.destroy(sim)\n",
    "cell.unfreeze({})"
   ]
  },
  {
   "cell_type": "markdown",
   "id": "51c1aa8f",
   "metadata": {},
   "source": [
    "## Plot AP at soma and AIS locations"
   ]
  },
  {
   "cell_type": "code",
   "execution_count": null,
   "id": "a652864a",
   "metadata": {},
   "outputs": [],
   "source": [
    "target_protocol = \"IDrest_300\"\n",
    "plt.figure()\n",
    "for resp_name, response in responses.items():\n",
    "    if target_protocol in resp_name and \".v\" in resp_name and \"begin\" not in resp_name:\n",
    "        plt.plot(response['time'], response['voltage'], label=resp_name)\n",
    "plt.legend()"
   ]
  }
 ],
 "metadata": {
  "language_info": {
   "name": "python"
  }
 },
 "nbformat": 4,
 "nbformat_minor": 5
}
