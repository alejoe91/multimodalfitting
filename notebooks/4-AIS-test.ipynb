{
 "cells": [
  {
   "cell_type": "markdown",
   "id": "f278ad77",
   "metadata": {},
   "source": [
    "# Validation - BAC response of models\n",
    "\n",
    "This notebook evaluates qualitatively the capability of fitted models to reproduce BAC behavior."
   ]
  },
  {
   "cell_type": "code",
   "execution_count": null,
   "id": "de6ec5c5",
   "metadata": {},
   "outputs": [],
   "source": [
    "import json\n",
    "import sys\n",
    "import os\n",
    "import time\n",
    "import neuron\n",
    "from pathlib import Path\n",
    "import pickle\n",
    "import pandas as pd\n",
    "\n",
    "import matplotlib.pyplot as plt\n",
    "import neuroplotlib as nplt\n",
    "\n",
    "import bluepyopt as bpopt\n",
    "import bluepyopt.ephys as ephys\n",
    "\n",
    "import LFPy\n",
    "import neuron\n",
    "import numpy as np\n",
    "\n",
    "import shutil\n",
    "\n",
    "import model\n",
    "import evaluator\n",
    "import plotting\n",
    "import utils\n",
    "\n",
    "# %matplotlib notebook\n",
    "%matplotlib widget"
   ]
  },
  {
   "cell_type": "code",
   "execution_count": null,
   "id": "e3415b31",
   "metadata": {},
   "outputs": [],
   "source": [
    "probe_type = \"planar\"\n",
    "model_name = \"hay_ais\" #'hallermann' # \"hay\" hay_ais\n",
    "model_folder = (Path(\".\") / f\"{model_name}_model\").absolute()"
   ]
  },
  {
   "cell_type": "code",
   "execution_count": null,
   "id": "1ecb3296",
   "metadata": {},
   "outputs": [],
   "source": [
    "data_folder = Path('..') / \"data\" / f\"{model_name}_ecode_probe_{probe_type}\"\n",
    "result_folder = Path(\"..\") / \"results\" / 'models' / 'opt_results' "
   ]
  },
  {
   "cell_type": "code",
   "execution_count": null,
   "id": "f8543b20",
   "metadata": {},
   "outputs": [],
   "source": [
    "# compile model-specific mechanisms\n",
    "if not (model_folder / \"x86_64\").is_dir():\n",
    "    curr_dir = Path(\".\").absolute()\n",
    "    os.chdir(model_folder)\n",
    "    print(os.getcwd())\n",
    "    os.system(\"nrnivmodl mechanisms\")\n",
    "    os.chdir(curr_dir)\n",
    "else:\n",
    "    print(f\"Mechanisms already compiled for {model_name}\")\n",
    "    compiled_folder = Path(\"./x86_64\")\n",
    "    if compiled_folder.is_dir():\n",
    "        shutil.rmtree(compiled_folder)\n",
    "    shutil.copytree(model_folder / \"x86_64\", compiled_folder)"
   ]
  },
  {
   "cell_type": "code",
   "execution_count": null,
   "id": "1d734edd",
   "metadata": {},
   "outputs": [],
   "source": [
    "data = pickle.load(open(result_folder / 'runs.pkl', 'rb'))\n",
    "df_optimization = pd.DataFrame(data)\n",
    "df_model = df_optimization.query(f\"model == '{model_name}'\")"
   ]
  },
  {
   "cell_type": "code",
   "execution_count": null,
   "id": "7175fcea",
   "metadata": {},
   "outputs": [],
   "source": [
    "opt_soma = df_model.query(\"feature_set == 'soma'\")\n",
    "opt_extra = df_model.query(\"feature_set == 'extra'\")\n",
    "print(f\"Somatic optimizations: {len(opt_soma)}\")\n",
    "print(f\"Extra optimizations: {len(opt_extra)}\")"
   ]
  },
  {
   "cell_type": "code",
   "execution_count": null,
   "id": "ae5f5596",
   "metadata": {},
   "outputs": [],
   "source": [
    "protocols_file = data_folder / \"efeatures/protocols_BPO.json\"\n",
    "features_file = data_folder /  \"efeatures/features_BPO.json\""
   ]
  },
  {
   "cell_type": "code",
   "execution_count": null,
   "id": "3dc8c653",
   "metadata": {},
   "outputs": [],
   "source": [
    "ais_recordings = utils.get_ais_extra_recordings()"
   ]
  },
  {
   "cell_type": "code",
   "execution_count": null,
   "id": "f681dae3",
   "metadata": {},
   "outputs": [],
   "source": [
    "protocols_file"
   ]
  },
  {
   "cell_type": "code",
   "execution_count": null,
   "id": "8f831330",
   "metadata": {},
   "outputs": [],
   "source": [
    "cell = model.create(model_name=model_name, release=False)\n",
    "cell_release = model.create(model_name=model_name, release=True)\n",
    "\n",
    "probe = model.define_electrode(probe_type=probe_type)\n",
    "# probe=None\n",
    "\n",
    "param_names = [param.name for param in cell.params.values() if not param.frozen]\n",
    "sim = ephys.simulators.LFPySimulator(cell, cvode_active=True, electrode=probe)\n",
    "\n",
    "fitness_protocols = evaluator.define_protocols(\n",
    "    model_name,\n",
    "    feature_set=\"soma\",\n",
    "    feature_file=features_file,#f\"{model_name}_model/features_list.json\",\n",
    "    protocols_file=protocols_file,\n",
    "    electrode=probe,\n",
    "    protocols_with_lfp=[\"firepattern_200\"],\n",
    "    extra_recordings=dict(firepattern_200=ais_recordings)  #[\"Step1\", \"bAP\", \"BAC\", \"EPSP\", \"CaBurst\" ]\n",
    ")\n",
    "\n",
    "params_release = {}\n",
    "for param in cell_release.params_by_names(param_names):\n",
    "    params_release[param.name] = param.value"
   ]
  },
  {
   "cell_type": "code",
   "execution_count": null,
   "id": "a32bf710",
   "metadata": {},
   "outputs": [],
   "source": [
    "params_release"
   ]
  },
  {
   "cell_type": "markdown",
   "id": "bed3f54f",
   "metadata": {},
   "source": [
    "# Test AIS dynamics"
   ]
  },
  {
   "cell_type": "code",
   "execution_count": null,
   "id": "96a16c96",
   "metadata": {},
   "outputs": [],
   "source": [
    "fitness_protocols"
   ]
  },
  {
   "cell_type": "code",
   "execution_count": null,
   "id": "498bff50",
   "metadata": {},
   "outputs": [],
   "source": [
    "def simulate_firepattern_responses(cell, params, sim, protocols, protocol_name=\"firepattern_200\"):\n",
    "    response = protocols[protocol_name].run(cell, params, sim)\n",
    "    eap = utils.calculate_eap(responses=responses, protocols=eva_extra.fitness_protocols, \n",
    "                              protocol_name=\"firepattern_200\", **extra_kwargs)\n",
    "    return response, eap"
   ]
  },
  {
   "cell_type": "code",
   "execution_count": null,
   "id": "70cc6392",
   "metadata": {},
   "outputs": [],
   "source": [
    "response_release = simulate_firepattern_responses(cell, params_release, sim, fitness_protocols)\n",
    "\n",
    "print(\"Computing SOMA\")\n",
    "responses_soma = []\n",
    "eaps_soma = []\n",
    "for i, (index, opt) in enumerate(opt_soma.iterrows()):\n",
    "    print(f\"Computing {i + 1} / {len(opt_soma)}\")\n",
    "    params_dict = {k: v for k, v in zip(param_names, opt.best_params)}\n",
    "    response, eap = simulate_firepattern_responses(cell, params_dict, sim, fitness_protocols)\n",
    "    responses_soma.append(response)\n",
    "    eaps_soma.append(eap)\n",
    "\n",
    "print(\"Computing EXTRA\")\n",
    "responses_extra = []\n",
    "eaps_extra = []\n",
    "for i, (index, opt) in enumerate(opt_extra.iterrows()):\n",
    "    print(f\"Computing {i + 1} / {len(opt_soma)}\")\n",
    "    params_dict = {k: v for k, v in zip(param_names, opt.best_params)}\n",
    "    response, eap = simulate_firepattern_responses(cell, params_dict, sim, fitness_protocols)\n",
    "    responses_extra.append(response)\n",
    "    eaps_extra.append(eap)"
   ]
  },
  {
   "cell_type": "code",
   "execution_count": null,
   "id": "e0c14520",
   "metadata": {},
   "outputs": [],
   "source": [
    "ax_dict = {}\n",
    "\n",
    "loc_names = resp_release.keys()\n",
    "\n",
    "for loc in loc_names:\n",
    "    fig, ax = plt.subplots()\n",
    "    ax_dict[loc] = ax\n",
    "\n",
    "    for i, resp in enumerate(responses_soma):\n",
    "        if i == 0:\n",
    "            ax.plot(resp[loc][\"time\"], resp[loc][\"voltage\"], alpha=0.4, color=\"C0\", label=\"soma\")\n",
    "        else:\n",
    "            ax.plot(resp[loc][\"time\"], resp[loc][\"voltage\"], alpha=0.4, color=\"C0\")\n",
    "\n",
    "    for i, resp in enumerate(responses_extra):\n",
    "        if i == 0:\n",
    "            ax.plot(resp[loc][\"time\"], resp[loc][\"voltage\"], alpha=0.4, color=\"C1\", label=\"extra\")\n",
    "        else:\n",
    "            ax.plot(resp[loc][\"time\"], resp[loc][\"voltage\"], alpha=0.4, color=\"C1\")\n",
    "\n",
    "    ax.plot(resp_release[loc][\"time\"], resp_release[loc][\"voltage\"], alpha=0.8, color=\"k\", lw=2, \n",
    "            label=\"GT\")\n",
    "    ax.set_title(f\"Recording from {loc}\")\n",
    "    ax.legend()"
   ]
  },
  {
   "cell_type": "code",
   "execution_count": null,
   "id": "995afd7b",
   "metadata": {},
   "outputs": [],
   "source": []
  }
 ],
 "metadata": {
  "language_info": {
   "name": "python"
  }
 },
 "nbformat": 4,
 "nbformat_minor": 5
}
