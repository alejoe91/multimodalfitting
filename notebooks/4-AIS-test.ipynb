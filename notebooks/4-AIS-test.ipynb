{
 "cells": [
  {
   "cell_type": "markdown",
   "id": "f278ad77",
   "metadata": {},
   "source": [
    "# Validation - AIS response of models\n",
    "\n",
    "This notebook evaluates qualitatively the capability of fitted models to reproduce BAC behavior."
   ]
  },
  {
   "cell_type": "code",
   "execution_count": null,
   "id": "de6ec5c5",
   "metadata": {},
   "outputs": [],
   "source": [
    "import json\n",
    "import sys\n",
    "import os\n",
    "import time\n",
    "import neuron\n",
    "from pathlib import Path\n",
    "import pickle\n",
    "import pandas as pd\n",
    "\n",
    "import matplotlib.pyplot as plt\n",
    "import neuroplotlib as nplt\n",
    "\n",
    "import bluepyopt as bpopt\n",
    "import bluepyopt.ephys as ephys\n",
    "import efel\n",
    "\n",
    "import LFPy\n",
    "import neuron\n",
    "import numpy as np\n",
    "\n",
    "import shutil\n",
    "\n",
    "import multimodalfitting as mf\n",
    "\n",
    "# %matplotlib notebook\n",
    "%matplotlib widget"
   ]
  },
  {
   "cell_type": "code",
   "execution_count": null,
   "id": "e3415b31",
   "metadata": {},
   "outputs": [],
   "source": [
    "probe_type = \"planar\"\n",
    "model_name = \"hay_ais\" # \"hay\", \"hay_ais\", \"hay_ais_hillock\"\n",
    "cell_models_folder = Path(\"..\") / \"cell_models\"\n",
    "\n",
    "model_folder = cell_models_folder / f\"{model_name}\""
   ]
  },
  {
   "cell_type": "code",
   "execution_count": null,
   "id": "1ecb3296",
   "metadata": {},
   "outputs": [],
   "source": [
    "result_folder = Path(\"..\") / \"results\" / '211124' \n",
    "pkl_file_name = \"runs.pkl\"\n",
    "\n",
    "data = pickle.load(open(result_folder / pkl_file_name, 'rb'))\n",
    "df_optimization = pd.DataFrame(data)\n",
    "df_model = df_optimization.query(f\"model == '{model_name}'\")"
   ]
  },
  {
   "cell_type": "code",
   "execution_count": null,
   "id": "d2a49ea5",
   "metadata": {},
   "outputs": [],
   "source": [
    "opt_soma = df_model.query(\"feature_set == 'soma'\")\n",
    "opt_extra = df_model.query(\"feature_set == 'extra'\")\n",
    "print(f\"Somatic optimizations: {len(opt_soma)}\")\n",
    "print(f\"Extra optimizations: {len(opt_extra)}\")"
   ]
  },
  {
   "cell_type": "code",
   "execution_count": null,
   "id": "ae5f5596",
   "metadata": {},
   "outputs": [],
   "source": [
    "protocols_file = model_folder / \"fitting\" / \"efeatures\" / \"protocols_BPO_all.json\"\n",
    "features_file = model_folder / \"fitting\" / \"efeatures\" / \"features_BPO_all.json\""
   ]
  },
  {
   "cell_type": "code",
   "execution_count": null,
   "id": "3dc8c653",
   "metadata": {},
   "outputs": [],
   "source": [
    "ais_recordings = mf.utils.get_ais_extra_recordings()\n",
    "protocol_for_eap = \"IDrest_300\""
   ]
  },
  {
   "cell_type": "code",
   "execution_count": null,
   "id": "f681dae3",
   "metadata": {},
   "outputs": [],
   "source": [
    "extra_kwargs = dict(fs=20,\n",
    "                    fcut=[300, 6000],\n",
    "                    filt_type=\"filtfilt\",\n",
    "                    ms_cut=[3, 5])"
   ]
  },
  {
   "cell_type": "code",
   "execution_count": null,
   "id": "8f831330",
   "metadata": {},
   "outputs": [],
   "source": [
    "cell = mf.create_ground_truth_model(model_name=model_name, release=False)\n",
    "cell_release = mf.create_ground_truth_model(model_name=model_name, release=True)\n",
    "\n",
    "probe = mf.define_electrode(probe_type=probe_type)\n",
    "# probe=None\n",
    "\n",
    "param_names = [param.name for param in cell.params.values() if not param.frozen]\n",
    "sim = ephys.simulators.LFPySimulator(cell, cvode_active=True, electrode=probe, mechs_folders=model_folder)\n",
    "\n",
    "fitness_protocols = mf.define_protocols(\n",
    "    model_name,\n",
    "    feature_set=\"soma\",\n",
    "    protocols_file=protocols_file,\n",
    "    feature_file=features_file,\n",
    "    electrode=probe,\n",
    "    protocols_with_lfp=[protocol_for_eap],\n",
    "    extra_recordings={protocol_for_eap: ais_recordings}\n",
    ")\n",
    "\n",
    "params_release = {}\n",
    "for param in cell_release.params_by_names(param_names):\n",
    "    params_release[param.name] = param.value"
   ]
  },
  {
   "cell_type": "markdown",
   "id": "bed3f54f",
   "metadata": {},
   "source": [
    "# Test AIS dynamics"
   ]
  },
  {
   "cell_type": "code",
   "execution_count": null,
   "id": "498bff50",
   "metadata": {},
   "outputs": [],
   "source": [
    "def simulate_responses(cell, params, sim, protocols, protocol_name=\"IDrest_300\", **extra_kwargs):\n",
    "    response = protocols[protocol_name].run(cell, params, sim)\n",
    "    eap = mf.calculate_eap(responses=response, protocols=protocols, \n",
    "                           protocol_name=protocol_name, **extra_kwargs)\n",
    "    return response, eap"
   ]
  },
  {
   "cell_type": "code",
   "execution_count": null,
   "id": "04f18488",
   "metadata": {},
   "outputs": [],
   "source": [
    "best_soma = np.argmin(opt_soma.best_fitness)\n",
    "best_sample_soma = opt_soma.iloc[best_soma]\n",
    "best_params_soma_dict = {k: v for k, v in zip(param_names, best_sample_soma.best_params)}\n",
    "display(best_sample_soma.best_fitness)\n",
    "\n",
    "opt_all = opt_extra.query(\"extra_strategy == 'all'\")\n",
    "opt_sections = opt_extra.query(\"extra_strategy == 'sections'\")\n",
    "opt_single = opt_extra.query(\"extra_strategy == 'single'\")\n",
    "\n",
    "best_all = np.argmin(opt_all.best_fitness)\n",
    "best_sections = np.argmin(opt_sections.best_fitness)\n",
    "best_single = np.argmin(opt_single.best_fitness)\n",
    "\n",
    "best_sample_all = opt_all.iloc[best_all]\n",
    "best_params_all_dict = {k: v for k, v in zip(param_names, best_sample_all.best_params)}\n",
    "display(\"ALL\", best_sample_all.best_fitness)\n",
    "\n",
    "best_sample_sections = opt_sections.iloc[best_sections]\n",
    "best_params_sections_dict = {k: v for k, v in zip(param_names, best_sample_sections.best_params)}\n",
    "display(\"SECTIONS\", best_sample_sections.best_fitness)\n",
    "\n",
    "best_sample_single = opt_single.iloc[best_single]\n",
    "best_params_single_dict = {k: v for k, v in zip(param_names, best_sample_single.best_params)}\n",
    "display(\"SINGLE\", best_sample_single.best_fitness)"
   ]
  },
  {
   "cell_type": "code",
   "execution_count": null,
   "id": "70cc6392",
   "metadata": {},
   "outputs": [],
   "source": [
    "print(\"Computing RELEASE\")\n",
    "response_release, eap_release = simulate_responses(cell, params_release, sim, fitness_protocols, \n",
    "                                                   protocol_name=protocol_for_eap, **extra_kwargs)\n",
    "print(\"Computing SOMA\")\n",
    "response_soma, eap_soma = simulate_responses(cell, best_params_soma_dict, sim, fitness_protocols, \n",
    "                                             protocol_name=protocol_for_eap, **extra_kwargs)\n",
    "print(\"Computing ALL\")\n",
    "response_all, eap_all = simulate_responses(cell, best_params_all_dict, sim, fitness_protocols, \n",
    "                                           protocol_name=protocol_for_eap, **extra_kwargs)\n",
    "print(\"Computing SECTIONS\")\n",
    "response_sections, eap_sections = simulate_responses(cell, best_params_sections_dict, sim, fitness_protocols, \n",
    "                                                     protocol_name=protocol_for_eap, **extra_kwargs)\n",
    "print(\"Computing SINGLE\")\n",
    "response_single, eap_single = simulate_responses(cell, best_params_single_dict, sim, fitness_protocols, \n",
    "                                                 protocol_name=protocol_for_eap, **extra_kwargs)"
   ]
  },
  {
   "cell_type": "code",
   "execution_count": null,
   "id": "43ff1954",
   "metadata": {},
   "outputs": [],
   "source": [
    "# helper functions to cutout one spike"
   ]
  },
  {
   "cell_type": "code",
   "execution_count": null,
   "id": "7d20a6b0",
   "metadata": {},
   "outputs": [],
   "source": [
    "resp_cut_release = mf.utils.get_peak_cutout(response_release)\n",
    "resp_cut_soma = mf.utils.get_peak_cutout(response_soma)\n",
    "resp_cut_all = mf.utils.get_peak_cutout(response_all)\n",
    "resp_cut_sections = mf.utils.get_peak_cutout(response_sections)\n",
    "resp_cut_single = mf.utils.get_peak_cutout(response_single)"
   ]
  },
  {
   "cell_type": "code",
   "execution_count": null,
   "id": "2e80aa56",
   "metadata": {},
   "outputs": [],
   "source": [
    "responses_to_plot = ['IDrest_300.soma.v', \n",
    "                     'IDrest_300.ais_mid_v.v', \n",
    "                     'IDrest_300.ais_end_v.v']"
   ]
  },
  {
   "cell_type": "code",
   "execution_count": null,
   "id": "d5df705a",
   "metadata": {},
   "outputs": [],
   "source": [
    "for resp_name in responses_to_plot:\n",
    "    fig, ax = plt.subplots()\n",
    "    ax.plot(resp_cut_release[resp_name][\"time\"], resp_cut_release[resp_name][\"voltage\"], color=\"k\", label=\"GT\")\n",
    "    ax.plot(resp_cut_soma[resp_name][\"time\"], resp_cut_soma[resp_name][\"voltage\"], color=\"C0\", label=\"SOMA\")\n",
    "    ax.plot(resp_cut_all[resp_name][\"time\"], resp_cut_all[resp_name][\"voltage\"], color=\"C1\", label=\"ALL\")\n",
    "    ax.plot(resp_cut_sections[resp_name][\"time\"], resp_cut_sections[resp_name][\"voltage\"], color=\"C2\", \n",
    "            label=\"SECTIONS\")\n",
    "    ax.axvline(1., color=\"gray\", ls=\"--\")\n",
    "#     ax.plot(resp_cut_single[resp_name][\"time\"], resp_cut_single[resp_name][\"voltage\"], color=\"C3\", label=\"SINGLE\")\n",
    "    ax.legend()\n",
    "    ax.set_title(resp_name)"
   ]
  },
  {
   "cell_type": "code",
   "execution_count": null,
   "id": "e20d56d1",
   "metadata": {},
   "outputs": [],
   "source": []
  }
 ],
 "metadata": {
  "kernelspec": {
   "display_name": "Python 3 (ipykernel)",
   "language": "python",
   "name": "python3"
  },
  "language_info": {
   "codemirror_mode": {
    "name": "ipython",
    "version": 3
   },
   "file_extension": ".py",
   "mimetype": "text/x-python",
   "name": "python",
   "nbconvert_exporter": "python",
   "pygments_lexer": "ipython3",
   "version": "3.8.11"
  }
 },
 "nbformat": 4,
 "nbformat_minor": 5
}
