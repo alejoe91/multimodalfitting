{
 "cells": [
  {
   "cell_type": "markdown",
   "metadata": {},
   "source": [
    "# 3) Analyze and evaluate optimization output\n",
    "\n",
    "This final notebook uses the `runs.pkl` file created in notebook 2 and it analyzes:\n",
    "\n",
    "- the distance between different feature sets in the parameter space\n",
    "- the distance between different feature sets in the feature space\n",
    "- the distance between different feature sets in the extracellular signals"
   ]
  },
  {
   "cell_type": "code",
   "execution_count": null,
   "metadata": {},
   "outputs": [],
   "source": [
    "import pickle\n",
    "import pandas as pd\n",
    "import seaborn as sns\n",
    "import sys\n",
    "import shutil\n",
    "\n",
    "import bluepyopt as bpopt\n",
    "import bluepyopt.ephys as ephys\n",
    "\n",
    "import matplotlib.pyplot as plt\n",
    "from scipy.spatial import distance\n",
    "import MEAutility as mu\n",
    "import json\n",
    "import time\n",
    "import numpy as np\n",
    "from pathlib import Path\n",
    "\n",
    "import multimodalfitting as mf\n",
    "\n",
    "%matplotlib notebook"
   ]
  },
  {
   "cell_type": "markdown",
   "metadata": {},
   "source": [
    "## Load GT params and optimization output"
   ]
  },
  {
   "cell_type": "code",
   "execution_count": null,
   "metadata": {},
   "outputs": [],
   "source": [
    "# general\n",
    "model_name = \"hay_ais\"\n",
    "probe_type = \"planar\" # linear \n",
    "data_base_folder = Path(f\"/Users/abuccino/Documents/Codes/modeling/multimodal-fitting/multimodalfitting/data_210927\")\n",
    "\n",
    "cell_models_folder = Path(\"..\") / \"cell_models\"\n",
    "model_folder = cell_models_folder / f\"{model_name}_model\""
   ]
  },
  {
   "cell_type": "code",
   "execution_count": null,
   "metadata": {},
   "outputs": [],
   "source": [
    "data_folder = data_base_folder / f\"{model_name}_ecode_probe_{probe_type}\"\n",
    "\n",
    "# change this with folder containing your pkl file\n",
    "result_folder = Path(\"..\") / \"results\" / '211021' "
   ]
  },
  {
   "cell_type": "code",
   "execution_count": null,
   "metadata": {},
   "outputs": [],
   "source": [
    "cell = mf.create_ground_truth_model(model_name=model_name, cell_model_folder=model_folder,\n",
    "                                    release=False)\n",
    "cell_release = mf.create_ground_truth_model(model_name=model_name, cell_model_folder=model_folder,\n",
    "                                               release=True)\n",
    "\n",
    "probe = mf.define_electrode(probe_type=probe_type)\n",
    "\n",
    "param_names = [param.name for param in cell.params.values() if not param.frozen]\n",
    "sim = ephys.simulators.LFPySimulator(cell, cvode_active=True, electrode=probe, mechs_folders=model_folder)\n",
    "\n",
    "params_release = {}\n",
    "for param in cell_release.params_by_names(param_names):\n",
    "    params_release[param.name] = param.value"
   ]
  },
  {
   "cell_type": "code",
   "execution_count": null,
   "metadata": {},
   "outputs": [],
   "source": [
    "protocol_for_eap = \"IDrest_300\""
   ]
  },
  {
   "cell_type": "code",
   "execution_count": null,
   "metadata": {},
   "outputs": [],
   "source": [
    "pkl_file_name = \"runs.pkl\""
   ]
  },
  {
   "cell_type": "code",
   "execution_count": null,
   "metadata": {},
   "outputs": [],
   "source": [
    "data = pickle.load(open(result_folder / pkl_file_name, 'rb'))\n",
    "df_optimization = pd.DataFrame(data)\n",
    "df_model = df_optimization.query(f\"model == '{model_name}'\")"
   ]
  },
  {
   "cell_type": "code",
   "execution_count": null,
   "metadata": {},
   "outputs": [],
   "source": [
    "opt_soma = df_model.query(\"feature_set == 'soma'\")\n",
    "opt_extra = df_model.query(\"feature_set == 'extra'\")\n",
    "print(f\"Somatic optimizations: {len(opt_soma)}\")\n",
    "print(f\"Extra optimizations: {len(opt_extra)}\")"
   ]
  },
  {
   "cell_type": "code",
   "execution_count": null,
   "metadata": {},
   "outputs": [],
   "source": [
    "df_model.extra_strategy"
   ]
  },
  {
   "cell_type": "code",
   "execution_count": null,
   "metadata": {},
   "outputs": [],
   "source": [
    "fig, ax = plt.subplots()\n",
    "min_evals = 8000\n",
    "\n",
    "keep_idxs_soma = []\n",
    "for idx, row in opt_soma.iterrows():\n",
    "    if max(row[\"nevals\"]) > min_evals:\n",
    "        keep_idxs_soma.append(idx)\n",
    "        ax.plot(row[\"nevals\"], \n",
    "                row[\"logbook\"].select(\"min\"),\n",
    "                color=\"C0\",\n",
    "                ls='-', \n",
    "                lw=0.8,\n",
    "                alpha=0.75)\n",
    "    else:\n",
    "        ax.plot(row[\"nevals\"], \n",
    "                row[\"logbook\"].select(\"min\"),\n",
    "                color=\"C0\",\n",
    "                ls='--', \n",
    "                lw=0.5,\n",
    "                alpha=0.75)\n",
    "keep_idx_extra = []\n",
    "for idx, row in opt_extra.iterrows():\n",
    "    print(max(row['nevals']))\n",
    "    if max(row[\"nevals\"]) > min_evals:\n",
    "        keep_idx_extra.append(idx)\n",
    "        ax.plot(row[\"nevals\"], \n",
    "                row[\"logbook\"].select(\"min\"),\n",
    "                color=\"C1\",\n",
    "                ls='-', \n",
    "                lw=0.8,\n",
    "                alpha=0.75, \n",
    "                label=idx)\n",
    "    else:\n",
    "        ax.plot(row[\"nevals\"], \n",
    "                row[\"logbook\"].select(\"min\"),\n",
    "                color=\"C1\",\n",
    "                ls='--', \n",
    "                lw=0.5,\n",
    "                alpha=0.75, \n",
    "                label=idx)\n",
    "ax.set_title(\"Min fitness\")\n",
    "ax.spines[\"top\"].set_visible(False)\n",
    "ax.spines[\"right\"].set_visible(False)\n",
    "ax.set_xlabel(\"Neval\")\n",
    "ax.set_ylabel(\"Min fitness\")\n"
   ]
  },
  {
   "cell_type": "markdown",
   "metadata": {},
   "source": [
    "# Load protocols and original features"
   ]
  },
  {
   "cell_type": "code",
   "execution_count": null,
   "metadata": {},
   "outputs": [],
   "source": [
    "protocols_file = data_folder / \"efeatures\" / \"protocols_BPO_all.json\"\n",
    "feature_file = data_folder / \"efeatures\" / \"features_BPO_all.json\""
   ]
  },
  {
   "cell_type": "code",
   "execution_count": null,
   "metadata": {},
   "outputs": [],
   "source": [
    "extra_kwargs = dict(fs=20,\n",
    "                    fcut=[300, 6000],\n",
    "                    filt_type=\"filtfilt\",\n",
    "                    ms_cut=[3, 5])"
   ]
  },
  {
   "cell_type": "code",
   "execution_count": null,
   "metadata": {},
   "outputs": [],
   "source": [
    "eva_soma = mf.create_evaluator(\n",
    "    model_name=model_name,\n",
    "    cell_model_folder=model_folder,\n",
    "    feature_set=\"soma\",\n",
    "    feature_file=feature_file,\n",
    "    protocol_file=protocols_file,\n",
    "    **extra_kwargs\n",
    ")"
   ]
  },
  {
   "cell_type": "code",
   "execution_count": null,
   "metadata": {},
   "outputs": [],
   "source": [
    "eva_extra = mf.create_evaluator(\n",
    "    model_name=model_name,\n",
    "    cell_model_folder=model_folder,\n",
    "    feature_set=\"extra\",\n",
    "    feature_file=feature_file,\n",
    "    protocol_file=protocols_file,\n",
    "    probe_type=probe_type,\n",
    "    protocols_with_lfp=\"IDrest_300\",\n",
    "    **extra_kwargs\n",
    ")"
   ]
  },
  {
   "cell_type": "code",
   "execution_count": null,
   "metadata": {},
   "outputs": [],
   "source": [
    "len(eva_extra.fitness_calculator.objectives)"
   ]
  },
  {
   "cell_type": "code",
   "execution_count": null,
   "metadata": {},
   "outputs": [],
   "source": [
    "len(eva_soma.fitness_calculator.objectives)"
   ]
  },
  {
   "cell_type": "code",
   "execution_count": null,
   "metadata": {},
   "outputs": [],
   "source": [
    "len(keep_idx_extra)"
   ]
  },
  {
   "cell_type": "code",
   "execution_count": null,
   "metadata": {},
   "outputs": [],
   "source": [
    "opt_soma = opt_soma.loc[keep_idxs_soma]"
   ]
  },
  {
   "cell_type": "code",
   "execution_count": null,
   "metadata": {},
   "outputs": [],
   "source": [
    "opt_extra = opt_extra.loc[keep_idx_extra]"
   ]
  },
  {
   "cell_type": "code",
   "execution_count": null,
   "metadata": {},
   "outputs": [],
   "source": [
    "opt_extra.extra_strategy"
   ]
  },
  {
   "cell_type": "markdown",
   "metadata": {},
   "source": [
    "# Compute release responses"
   ]
  },
  {
   "cell_type": "code",
   "execution_count": null,
   "metadata": {},
   "outputs": [],
   "source": [
    "responses_release = eva_extra.run_protocols(eva_extra.fitness_protocols.values(), param_values=params_release)"
   ]
  },
  {
   "cell_type": "code",
   "execution_count": null,
   "metadata": {},
   "outputs": [],
   "source": [
    "eap_release = mf.utils.calculate_eap(responses=responses_release, protocols=eva_extra.fitness_protocols, \n",
    "                                     protocol_name=protocol_for_eap, **extra_kwargs)"
   ]
  },
  {
   "cell_type": "code",
   "execution_count": null,
   "metadata": {},
   "outputs": [],
   "source": [
    "features_release = {}"
   ]
  },
  {
   "cell_type": "code",
   "execution_count": null,
   "metadata": {},
   "outputs": [],
   "source": [
    "for obj in eva_extra.fitness_calculator.objectives:\n",
    "    if len(obj.features) == 1:\n",
    "        if \"soma\" in obj.features[0].name:\n",
    "            feat_value = obj.features[0].calculate_feature(responses_release)\n",
    "            features_release[obj.features[0].name] = feat_value\n",
    "    else:\n",
    "        print(f\"More than one feature for objective: {obj.name}\")"
   ]
  },
  {
   "cell_type": "markdown",
   "metadata": {},
   "source": [
    "## \"soma\" example"
   ]
  },
  {
   "cell_type": "code",
   "execution_count": null,
   "metadata": {},
   "outputs": [],
   "source": [
    "best_soma = np.argmin(opt_soma.best_fitness)"
   ]
  },
  {
   "cell_type": "code",
   "execution_count": null,
   "metadata": {},
   "outputs": [],
   "source": [
    "params_sample_soma = opt_soma.iloc[best_soma]\n",
    "params_sample_soma_dict = {k: v for k, v in zip(param_names, params_sample_soma.best_params)}\n",
    "display(params_sample_soma.best_fitness)"
   ]
  },
  {
   "cell_type": "code",
   "execution_count": null,
   "metadata": {},
   "outputs": [],
   "source": [
    "response_soma = eva_extra.run_protocols(eva_extra.fitness_protocols.values(), param_values=params_sample_soma_dict)"
   ]
  },
  {
   "cell_type": "code",
   "execution_count": null,
   "metadata": {},
   "outputs": [],
   "source": [
    "eap_soma = mf.utils.calculate_eap(responses=response_soma, protocols=eva_extra.fitness_protocols, \n",
    "                                  protocol_name=protocol_for_eap, **extra_kwargs)"
   ]
  },
  {
   "cell_type": "code",
   "execution_count": null,
   "metadata": {},
   "outputs": [],
   "source": [
    "mf.plot_multiple_responses([responses_release, response_soma], colors=[\"k\", \"C0\"])"
   ]
  },
  {
   "cell_type": "code",
   "execution_count": null,
   "metadata": {},
   "outputs": [],
   "source": [
    "mf.plot_multiple_eaps([responses_release, response_soma], eva_extra.fitness_protocols, probe,\n",
    "                            protocol_name=protocol_for_eap, colors=[\"k\", \"C0\"])"
   ]
  },
  {
   "cell_type": "code",
   "execution_count": null,
   "metadata": {},
   "outputs": [],
   "source": [
    "eap_dist_soma = distance.cosine(eap_release.ravel(), eap_soma.ravel())\n",
    "print(eap_dist_soma)"
   ]
  },
  {
   "cell_type": "markdown",
   "metadata": {},
   "source": [
    "## \"extra\" example"
   ]
  },
  {
   "cell_type": "code",
   "execution_count": null,
   "metadata": {},
   "outputs": [],
   "source": [
    "best_extra = np.argmin(opt_extra.best_fitness)"
   ]
  },
  {
   "cell_type": "code",
   "execution_count": null,
   "metadata": {},
   "outputs": [],
   "source": [
    "params_sample_extra = opt_extra.iloc[best_extra]\n",
    "params_sample_extra_dict = {k: v for k, v in zip(param_names, params_sample_extra.best_params)}\n",
    "display(params_sample_extra.best_fitness, params_sample_extra.extra_strategy)"
   ]
  },
  {
   "cell_type": "code",
   "execution_count": null,
   "metadata": {},
   "outputs": [],
   "source": [
    "response_extra = eva_extra.run_protocols(eva_extra.fitness_protocols.values(), param_values=params_sample_extra_dict)"
   ]
  },
  {
   "cell_type": "code",
   "execution_count": null,
   "metadata": {},
   "outputs": [],
   "source": [
    "eap_extra = mf.utils.calculate_eap(responses=response_extra, protocols=eva_extra.fitness_protocols, \n",
    "                                   protocol_name=protocol_for_eap, **extra_kwargs)"
   ]
  },
  {
   "cell_type": "code",
   "execution_count": null,
   "metadata": {},
   "outputs": [],
   "source": [
    "mf.plot_multiple_responses([responses_release, response_extra], colors=[\"k\", \"C1\"])"
   ]
  },
  {
   "cell_type": "code",
   "execution_count": null,
   "metadata": {},
   "outputs": [],
   "source": [
    "mf.plot_multiple_eaps([responses_release, response_extra], eva_extra.fitness_protocols, probe,\n",
    "                       protocol_name=protocol_for_eap, colors=[\"k\", \"C1\"])"
   ]
  },
  {
   "cell_type": "code",
   "execution_count": null,
   "metadata": {},
   "outputs": [],
   "source": [
    "eap_dist_extra = distance.cosine(eap_release.ravel(), eap_extra.ravel())"
   ]
  },
  {
   "cell_type": "code",
   "execution_count": null,
   "metadata": {},
   "outputs": [],
   "source": [
    "print(eap_dist_soma, eap_dist_extra)"
   ]
  },
  {
   "cell_type": "markdown",
   "metadata": {},
   "source": [
    "## Run protocols and compute features for all tested models"
   ]
  },
  {
   "cell_type": "code",
   "execution_count": null,
   "metadata": {},
   "outputs": [],
   "source": [
    "feat_gt_dict = {}\n",
    "for obj in eva_extra.fitness_calculator.objectives:\n",
    "    feat_gt_dict[obj.features[0].name] = {}\n",
    "    if len(obj.features) == 1:\n",
    "        feat_value = obj.features[0].calculate_feature(responses_release)\n",
    "        feat_score = obj.features[0].calculate_score(responses_release)\n",
    "        feat_gt_dict[obj.features[0].name][\"value\"] = feat_value\n",
    "        feat_gt_dict[obj.features[0].name][\"score\"] = feat_score\n",
    "    else:\n",
    "        print(f\"More than one feature for objective: {obj.name}\")"
   ]
  },
  {
   "cell_type": "code",
   "execution_count": null,
   "metadata": {},
   "outputs": [],
   "source": [
    "feat_gt_dict[\"IDrest_300.soma.AP_amplitude\"]"
   ]
  },
  {
   "cell_type": "code",
   "execution_count": null,
   "metadata": {},
   "outputs": [],
   "source": [
    "feats_soma = []\n",
    "eaps_soma = []\n",
    "params_soma = []\n",
    "responses_soma = []\n",
    "\n",
    "print(\"SOMA\")\n",
    "for i, (index, opt) in enumerate(opt_soma.iterrows()):\n",
    "    print(f\"Computing {i + 1} / {len(opt_soma)}\")\n",
    "    # get best params\n",
    "    params_dict = {k: v for k, v in zip(param_names, opt.best_params)}\n",
    "    params_soma.append(params_dict)\n",
    "    \n",
    "    # run protocols\n",
    "    responses = eva_extra.run_protocols(eva_extra.fitness_protocols.values(), \n",
    "                                        param_values=params_dict) \n",
    "    responses_soma.append(responses)\n",
    "    try:\n",
    "        eap = mf.utils.calculate_eap(responses=responses, protocols=eva_extra.fitness_protocols, \n",
    "                                     protocol_name=protocol_for_eap, **extra_kwargs)\n",
    "    except:\n",
    "        eap = np.zeros(eaps_soma[-1].shape)\n",
    "    feat_dict = {}\n",
    "    for obj in eva_extra.fitness_calculator.objectives:\n",
    "        feat_dict[obj.features[0].name] = {}\n",
    "        if len(obj.features) == 1:\n",
    "            feat_value = obj.features[0].calculate_feature(responses)\n",
    "            feat_score = obj.features[0].calculate_score(responses)\n",
    "            feat_dict[obj.features[0].name][\"value\"] = feat_value\n",
    "            feat_dict[obj.features[0].name][\"score\"] = feat_score\n",
    "        else:\n",
    "            print(f\"More than one feature for objective: {obj.name}\")\n",
    "            \n",
    "    feats_soma.append(feat_dict)\n",
    "    eaps_soma.append(eap)\n",
    "    \n",
    "print(\"EXTRA\")\n",
    "feats_extra = []\n",
    "eaps_extra = []\n",
    "params_extra = []\n",
    "responses_extra = []\n",
    "strategy_extra = []\n",
    "\n",
    "for i, (index, opt) in enumerate(opt_extra.iterrows()):\n",
    "    print(f\"Computing {i + 1} / {len(opt_extra)}\")\n",
    "    # get best params\n",
    "    params_dict = {k: v for k, v in zip(param_names, opt.best_params)}\n",
    "    params_extra.append(params_dict)\n",
    "    \n",
    "    # run protocols\n",
    "    responses = eva_extra.run_protocols(eva_extra.fitness_protocols.values(), \n",
    "                                        param_values=params_dict)  \n",
    "    responses_extra.append(responses)\n",
    "    try:\n",
    "        eap = mf.utils.calculate_eap(responses=responses, protocols=eva_extra.fitness_protocols, \n",
    "                                     protocol_name=protocol_for_eap, **extra_kwargs)\n",
    "    except:\n",
    "        eap = np.zeros(eaps_extra[-1].shape)\n",
    "        \n",
    "    feat_dict = {}\n",
    "    for obj in eva_extra.fitness_calculator.objectives:\n",
    "        feat_dict[obj.features[0].name] = {}\n",
    "        if len(obj.features) == 1:\n",
    "            feat_value = obj.features[0].calculate_feature(responses)\n",
    "            feat_score = obj.features[0].calculate_score(responses)\n",
    "            feat_dict[obj.features[0].name][\"value\"] = feat_value\n",
    "            feat_dict[obj.features[0].name][\"score\"] = feat_score\n",
    "        else:\n",
    "            print(f\"More than one feature for objective: {obj.name}\")\n",
    "            \n",
    "    feats_extra.append(feat_dict)\n",
    "    eaps_extra.append(eap)\n",
    "    strategy_extra.append(opt.extra_strategy)"
   ]
  },
  {
   "cell_type": "markdown",
   "metadata": {},
   "source": [
    "## Compare parameters "
   ]
  },
  {
   "cell_type": "code",
   "execution_count": null,
   "metadata": {},
   "outputs": [],
   "source": [
    "param_json = model_folder / \"parameters.json\"\n",
    "\n",
    "with param_json.open() as f:\n",
    "    params = json.load(f)\n",
    "\n",
    "param_boundaries = {}\n",
    "for param in params:\n",
    "    if \"bounds\" in param:\n",
    "        param_boundaries[f\"{param['param_name']}_{param['sectionlist']}\"] = param[\"bounds\"]\n",
    "\n",
    "# scale params_release by boundaries\n",
    "params_release_norm = {}\n",
    "for param_name, param_val in params_release.items():\n",
    "    bounds = param_boundaries[param_name]\n",
    "    param_norm = (param_val - bounds[0]) / (bounds[1] - bounds[0])\n",
    "    params_release_norm[param_name] = param_norm"
   ]
  },
  {
   "cell_type": "code",
   "execution_count": null,
   "metadata": {},
   "outputs": [],
   "source": [
    "params_release_norm"
   ]
  },
  {
   "cell_type": "code",
   "execution_count": null,
   "metadata": {},
   "outputs": [],
   "source": [
    "feature_set_array = []\n",
    "seed_array = []\n",
    "param_name_array = []\n",
    "param_value_array = []\n",
    "param_norm_array = []\n",
    "release_value_array = []\n",
    "release_norm_array = []\n",
    "diff_with_release_array = []\n",
    "section_array = []\n",
    "\n",
    "for i, (index, opt) in enumerate(opt_soma.iterrows()):\n",
    "    params_dict = {k: v for k, v in zip(param_names, opt.best_params)}\n",
    "    \n",
    "    for param_name, param_value in params_dict.items():\n",
    "        feature_set_array.append(opt.feature_set)\n",
    "        seed_array.append(opt.seed)   \n",
    "        param_name_array.append(param_name)\n",
    "        param_value_array.append(param_value)\n",
    "        section_array.append(param_name.split(\"_\")[-1])\n",
    "        release_value_array.append(params_release[param_name])\n",
    "        release_norm_array.append(params_release_norm[param_name])\n",
    "        # compute norm value\n",
    "        bounds = param_boundaries[param_name]\n",
    "        param_norm = (param_value - bounds[0]) / (bounds[1] - bounds[0])\n",
    "        param_norm_array.append(param_norm)\n",
    "        diff_with_release_array.append(abs(param_norm - params_release_norm[param_name]))\n",
    "\n",
    "for i, (index, opt) in enumerate(opt_extra.iterrows()):\n",
    "    params_dict = {k: v for k, v in zip(param_names, opt.best_params)}\n",
    "    \n",
    "    for param_name, param_value in params_dict.items():\n",
    "        feature_set_array.append(opt.feature_set)\n",
    "        seed_array.append(opt.seed)   \n",
    "        param_name_array.append(param_name)\n",
    "        param_value_array.append(param_value)\n",
    "        section_array.append(param_name.split(\"_\")[-1])\n",
    "        release_value_array.append(params_release[param_name])\n",
    "        release_norm_array.append(params_release_norm[param_name])\n",
    "        # compute norm value\n",
    "        bounds = param_boundaries[param_name]\n",
    "        param_norm = (param_value - bounds[0]) / (bounds[1] - bounds[0])\n",
    "        param_norm_array.append(param_norm)\n",
    "        diff_with_release_array.append(abs(param_norm - params_release_norm[param_name]))\n",
    "        \n",
    "df_params = pd.DataFrame({\"seed\": seed_array, \"feature_set\": feature_set_array, \"param_name\": param_name_array,\n",
    "                          \"param_value\": param_value_array, \"param_norm\": param_norm_array, \n",
    "                          \"release_value\": release_value_array, \"release_norm\": release_norm_array,\n",
    "                          \"diff_release\": diff_with_release_array, \"section\": section_array})"
   ]
  },
  {
   "cell_type": "code",
   "execution_count": null,
   "metadata": {},
   "outputs": [],
   "source": [
    "df_params"
   ]
  },
  {
   "cell_type": "code",
   "execution_count": null,
   "metadata": {},
   "outputs": [],
   "source": [
    "plt.figure()\n",
    "sns.barplot(data=df_params, x=\"param_name\", y=\"diff_release\", hue=\"feature_set\")\n",
    "plt.xticks(rotation=45)"
   ]
  },
  {
   "cell_type": "code",
   "execution_count": null,
   "metadata": {},
   "outputs": [],
   "source": [
    "fig, ax = plt.subplots()\n",
    "sns.boxenplot(data=df_params.query(\"section in ['apical', 'somatic']\"), \n",
    "              x=\"section\", y=\"diff_release\", hue=\"feature_set\", ax=ax)\n",
    "g = sns.swarmplot(data=df_params.query(\"section in ['apical', 'somatic']\"), \n",
    "              x=\"section\", y=\"diff_release\", hue=\"feature_set\", dodge=True,\n",
    "              ax=ax)\n"
   ]
  },
  {
   "cell_type": "code",
   "execution_count": null,
   "metadata": {},
   "outputs": [],
   "source": [
    "plt.figure()\n",
    "sns.barplot(data=df_params.query(\"section in ['apical', 'somatic']\"), \n",
    "            y=\"param_name\", x=\"diff_release\", hue=\"feature_set\")\n",
    "sns.despine(left=True, bottom=True)"
   ]
  },
  {
   "cell_type": "markdown",
   "metadata": {},
   "source": [
    "## Compare features"
   ]
  },
  {
   "cell_type": "code",
   "execution_count": null,
   "metadata": {},
   "outputs": [],
   "source": [
    "feature_set_array = []\n",
    "seed_array = []\n",
    "feature_name_array = []\n",
    "feature_value_array = []\n",
    "feature_score_array = []\n",
    "feature_type_array = []\n",
    "\n",
    "for i, feats in enumerate(feats_soma):\n",
    "    for feat_name, feat_dict in feats.items():\n",
    "        feature_set_array.append(\"soma\")\n",
    "        seed_array.append(i)\n",
    "        feature_name_array.append(feat_name)\n",
    "        if \"MEA\" not in feat_name:\n",
    "            feature_type_array.append(\"soma\")\n",
    "            feature_value_array.append(feat_dict[\"value\"])\n",
    "        else:\n",
    "            feature_type_array.append(\"MEA\")\n",
    "            feature_value_array.append(np.nan)\n",
    "        feature_score_array.append(feat_dict[\"score\"])\n",
    "    \n",
    "for i, feats in enumerate(feats_extra):\n",
    "    for feat_name, feat_dict in feats.items():\n",
    "        feature_set_array.append(\"extra\")\n",
    "        seed_array.append(i)\n",
    "        feature_name_array.append(feat_name)\n",
    "        if \"MEA\" not in feat_name:\n",
    "            feature_type_array.append(\"soma\")\n",
    "            feature_value_array.append(feat_dict[\"value\"])\n",
    "        else:\n",
    "            feature_type_array.append(\"MEA\")\n",
    "            feature_value_array.append(np.nan)\n",
    "        feature_score_array.append(feat_dict[\"score\"])\n",
    "    \n",
    "df_feats = pd.DataFrame({\"seed\": seed_array, \"feature_set\": feature_set_array, \"feat_name\": feature_name_array,\n",
    "                         \"feat_value\": feature_value_array, \"feat_score\": feature_score_array,\n",
    "                         \"feat_type\": feature_type_array})"
   ]
  },
  {
   "cell_type": "code",
   "execution_count": null,
   "metadata": {},
   "outputs": [],
   "source": [
    "fig, ax = plt.subplots()\n",
    "\n",
    "sns.boxenplot(data=df_feats.query(\"feat_type == 'soma'\"), x=\"feature_set\", y=\"feat_score\", ax=ax)\n",
    "g = sns.swarmplot(data=df_feats.query(\"feat_type == 'soma'\"), x=\"feature_set\", y=\"feat_score\", ax=ax)\n",
    "ax.set_ylabel(\"Feature scores (intracellular)\", fontsize=12)\n",
    "ax.spines[\"top\"].set_visible(False)\n",
    "ax.spines[\"right\"].set_visible(False)\n",
    "ax.set_title(\"Intracellular features\", fontsize=15)\n",
    "\n",
    "fig, ax = plt.subplots()\n",
    "\n",
    "sns.boxenplot(data=df_feats.query(\"feat_type == 'MEA'\"), x=\"feature_set\", y=\"feat_score\", ax=ax)\n",
    "g = sns.swarmplot(data=df_feats.query(\"feat_type == 'MEA'\"), x=\"feature_set\", y=\"feat_score\", ax=ax)\n",
    "ax.set_ylabel(\"Feature scores (extracellular)\", fontsize=12)\n",
    "ax.spines[\"top\"].set_visible(False)\n",
    "ax.spines[\"right\"].set_visible(False)\n",
    "ax.set_title(\"Extracellular features\", fontsize=15)\n"
   ]
  },
  {
   "cell_type": "code",
   "execution_count": null,
   "metadata": {},
   "outputs": [],
   "source": [
    "plt.figure()\n",
    "sns.barplot(data=df_feats.query(\"feat_type == 'MEA'\"), \n",
    "            y=\"feat_name\", x=\"feat_score\", hue=\"feature_set\")\n",
    "sns.despine(left=True, bottom=True)"
   ]
  },
  {
   "cell_type": "code",
   "execution_count": null,
   "metadata": {},
   "outputs": [],
   "source": [
    "plt.figure()\n",
    "sns.barplot(data=df_feats.query(\"feat_type == 'soma'\"), \n",
    "            y=\"feat_name\", x=\"feat_score\", hue=\"feature_set\")\n",
    "sns.despine(left=True, bottom=True)"
   ]
  },
  {
   "cell_type": "markdown",
   "metadata": {},
   "source": [
    "## Compare EAP distance"
   ]
  },
  {
   "cell_type": "code",
   "execution_count": null,
   "metadata": {},
   "outputs": [],
   "source": [
    "feature_set_array = []\n",
    "seed_array = []\n",
    "eap_dist_array = []\n",
    "\n",
    "for i, eap in enumerate(eaps_soma):\n",
    "    feature_set_array.append(\"soma\")\n",
    "    seed_array.append(i)\n",
    "    eap_dist_array.append(distance.cosine(eap_release.ravel(), eap.ravel()))\n",
    "    \n",
    "for i, eap in enumerate(eaps_extra):\n",
    "    feature_set_array.append(\"extra\")\n",
    "    seed_array.append(i)\n",
    "    eap_dist_array.append(distance.cosine(eap_release.ravel(), eap.ravel()))\n",
    "\n",
    "    \n",
    "df_eap = pd.DataFrame({\"seed\": seed_array, \"feature_set\": feature_set_array, \"eap_dist\": eap_dist_array})"
   ]
  },
  {
   "cell_type": "code",
   "execution_count": null,
   "metadata": {},
   "outputs": [],
   "source": [
    "fig, ax = plt.subplots()\n",
    "sns.barplot(data=df_eap, x=\"feature_set\", y=\"eap_dist\", ax=ax)\n",
    "sns.swarmplot(data=df_eap, x=\"feature_set\", y=\"eap_dist\", dodge=True, ax=ax, palette=[\"cornflowerblue\", \"orange\"])\n",
    "ax.set_ylabel(\"Cosine distance\", fontsize=12)\n",
    "ax.spines[\"top\"].set_visible(False)\n",
    "ax.spines[\"right\"].set_visible(False)\n",
    "ax.set_title(\"Extracellular difference\", fontsize=15)"
   ]
  },
  {
   "cell_type": "markdown",
   "metadata": {},
   "source": [
    "## Plot responses"
   ]
  },
  {
   "cell_type": "code",
   "execution_count": null,
   "metadata": {},
   "outputs": [],
   "source": [
    "mf.plot_multiple_eaps(responses_soma + [responses_release], eva_extra.fitness_protocols, probe,\n",
    "                      protocol_name=protocol_for_eap, colors=[\"C0\"] * len(responses_soma) + [\"k\"])\n",
    "mf.plot_multiple_eaps(responses_soma + [responses_release], eva_extra.fitness_protocols, probe,\n",
    "                      protocol_name=protocol_for_eap, colors=[\"C0\"] * len(responses_soma) + [\"k\"], \n",
    "                      norm=False)"
   ]
  },
  {
   "cell_type": "code",
   "execution_count": null,
   "metadata": {},
   "outputs": [],
   "source": [
    "mf.plot_multiple_eaps(responses_extra + [responses_release], eva_extra.fitness_protocols, probe,\n",
    "                      protocol_name=protocol_for_eap, colors=[\"C1\"] * len(responses_extra) + [\"k\"])\n",
    "mf.plot_multiple_eaps(responses_extra + [responses_release], eva_extra.fitness_protocols, probe,\n",
    "                      protocol_name=protocol_for_eap, colors=[\"C1\"] * len(responses_extra) + [\"k\"], \n",
    "                      norm=False)"
   ]
  },
  {
   "cell_type": "code",
   "execution_count": null,
   "metadata": {},
   "outputs": [],
   "source": [
    "fig_soma = mf.plot_multiple_responses(responses_list=responses_soma + [responses_release], \n",
    "                                      max_rows=3, colors=[\"C0\"] * len(responses_soma) + ['k'], \n",
    "                                      return_fig=True)"
   ]
  },
  {
   "cell_type": "code",
   "execution_count": null,
   "metadata": {},
   "outputs": [],
   "source": [
    "fig_extra = mf.plot_multiple_responses(responses_list=responses_extra + [responses_release], \n",
    "                                      max_rows=3, colors=[\"C1\"] * len(responses_extra) + ['k'], \n",
    "                                      return_fig=True)"
   ]
  },
  {
   "cell_type": "code",
   "execution_count": null,
   "metadata": {},
   "outputs": [],
   "source": []
  }
 ],
 "metadata": {
  "kernelspec": {
   "display_name": "Python 3 (ipykernel)",
   "language": "python",
   "name": "python3"
  },
  "language_info": {
   "codemirror_mode": {
    "name": "ipython",
    "version": 3
   },
   "file_extension": ".py",
   "mimetype": "text/x-python",
   "name": "python",
   "nbconvert_exporter": "python",
   "pygments_lexer": "ipython3",
   "version": "3.8.11"
  }
 },
 "nbformat": 4,
 "nbformat_minor": 4
}
