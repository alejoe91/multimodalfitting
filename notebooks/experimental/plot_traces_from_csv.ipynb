{
 "cells": [
  {
   "cell_type": "code",
   "execution_count": null,
   "id": "9fdc7a0e",
   "metadata": {},
   "outputs": [],
   "source": [
    "import pandas as pd\n",
    "import matplotlib.pyplot as plt\n",
    "import numpy as np\n",
    "import efel\n",
    "import json\n",
    "from pathlib import Path\n",
    "from natsort import natsorted\n",
    "%matplotlib notebook"
   ]
  },
  {
   "cell_type": "code",
   "execution_count": null,
   "id": "c0a4d3c0",
   "metadata": {},
   "outputs": [],
   "source": [
    "data_folder = Path(\"/Users/abuccino/Documents/Codes/modeling/multimodal-fitting/multimodalfitting/data_211028/models/hay_ais_ecode_probe_planar\")"
   ]
  },
  {
   "cell_type": "code",
   "execution_count": null,
   "id": "512da03c",
   "metadata": {},
   "outputs": [],
   "source": [
    "responses = {}\n",
    "for folder in data_folder.iterdir():\n",
    "    if 'efeature' not in folder.name and \"extracellular\" not in folder.name and folder.is_dir():\n",
    "        responses[folder.name] = []\n",
    "        \n",
    "        files = [p for p in folder.iterdir()]\n",
    "        sweep_ids = [int(p.stem.split(\"-\")[1]) for p in files]\n",
    "        \n",
    "        print(sorted(sweep_ids))\n",
    "        for sweep in natsorted(sweep_ids):\n",
    "            for file in folder.iterdir():\n",
    "                if f\"-{sweep}.\" in file.name:\n",
    "                    print(file.name)\n",
    "                    data = pd.read_csv(file)\n",
    "                    responses[folder.name].append(data)\n"
   ]
  },
  {
   "cell_type": "code",
   "execution_count": null,
   "id": "0016541c",
   "metadata": {},
   "outputs": [],
   "source": [
    "response = responses[\"IDrest\"]\n",
    "for i, resp in enumerate(response):\n",
    "    plt.figure()\n",
    "    plt.plot(resp[\"time\"], resp[\"voltage\"], label=f\"Sweep{i}\")\n",
    "    plt.title(f\"Sweep{i}\")"
   ]
  },
  {
   "cell_type": "code",
   "execution_count": null,
   "id": "fa6c32be",
   "metadata": {},
   "outputs": [],
   "source": [
    "idrest_150 = response[2]"
   ]
  },
  {
   "cell_type": "code",
   "execution_count": null,
   "id": "57fdebc7",
   "metadata": {},
   "outputs": [],
   "source": [
    "plt.figure()\n",
    "plt.plot(idrest_150[\"time\"], idrest_150[\"voltage\"])"
   ]
  },
  {
   "cell_type": "code",
   "execution_count": null,
   "id": "efd20ee7",
   "metadata": {},
   "outputs": [],
   "source": [
    "trace = {}\n",
    "trace[\"T\"] = idrest_150[\"time\"]\n",
    "trace[\"V\"] = idrest_150[\"voltage\"]\n",
    "trace[\"stim_start\"] = [250]\n",
    "trace[\"stim_end\"] = [250 + 1350]\n",
    "\n",
    "efel.setDoubleSetting(\"interp_step\", 0.1)"
   ]
  },
  {
   "cell_type": "code",
   "execution_count": null,
   "id": "24ceb02e",
   "metadata": {},
   "outputs": [],
   "source": [
    "feats = efel.getFeatureValues([trace], [\"voltage_base\", \"AHP_depth\", \"min_AHP_values\", \"AHP_time_from_peak\",\n",
    "                                        \"peak_time\", \"AP_amplitude\", \"AP_begin_indices\", \"AP_duration_half_width\",\n",
    "                                        \"AP_fall_indices\", \"AP_rise_indices\"])[0]"
   ]
  },
  {
   "cell_type": "code",
   "execution_count": null,
   "id": "daba56ae",
   "metadata": {},
   "outputs": [],
   "source": [
    "for b in feats[\"AP_begin_indices\"]:\n",
    "    plt.axvline(b * 0.1, color=\"y\")   \n",
    "for b in feats[\"AP_rise_indices\"]:\n",
    "    plt.axvline(b * 0.1, color=\"g\") \n",
    "for b in feats[\"AP_fall_indices\"]:\n",
    "    plt.axvline(b * 0.1, color=\"r\") "
   ]
  },
  {
   "cell_type": "code",
   "execution_count": null,
   "id": "e3014dc2",
   "metadata": {},
   "outputs": [],
   "source": [
    "feats[\"AP_duration_half_width\"]"
   ]
  },
  {
   "cell_type": "code",
   "execution_count": null,
   "id": "672ff489",
   "metadata": {},
   "outputs": [],
   "source": [
    "(feats[\"AP_fall_indices\"] - feats[\"AP_rise_indices\"]) * 0.1"
   ]
  },
  {
   "cell_type": "code",
   "execution_count": null,
   "id": "8da9cb1f",
   "metadata": {},
   "outputs": [],
   "source": [
    "for (p, ah) in zip(feats[\"peak_time\"], feats[\"AHP_time_from_peak\"]):\n",
    "    plt.axvline(p + ah, color=\"g\")\n",
    "    plt.axvline(p, color=\"y\")    "
   ]
  },
  {
   "cell_type": "code",
   "execution_count": null,
   "id": "4aca3a1b",
   "metadata": {},
   "outputs": [],
   "source": [
    "feats[\"min_AHP_values\"]"
   ]
  },
  {
   "cell_type": "code",
   "execution_count": null,
   "id": "596babc0",
   "metadata": {},
   "outputs": [],
   "source": [
    "plt.axhline(feats[\"voltage_base\"], color=\"r\")"
   ]
  },
  {
   "cell_type": "code",
   "execution_count": null,
   "id": "86c80216",
   "metadata": {},
   "outputs": [],
   "source": [
    "efel.getFeatureNames()"
   ]
  },
  {
   "cell_type": "code",
   "execution_count": null,
   "id": "72b234e9",
   "metadata": {},
   "outputs": [],
   "source": []
  }
 ],
 "metadata": {
  "kernelspec": {
   "display_name": "Python 3 (ipykernel)",
   "language": "python",
   "name": "python3"
  },
  "language_info": {
   "codemirror_mode": {
    "name": "ipython",
    "version": 3
   },
   "file_extension": ".py",
   "mimetype": "text/x-python",
   "name": "python",
   "nbconvert_exporter": "python",
   "pygments_lexer": "ipython3",
   "version": "3.8.11"
  }
 },
 "nbformat": 4,
 "nbformat_minor": 5
}
