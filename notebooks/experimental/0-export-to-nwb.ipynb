{
 "cells": [
  {
   "cell_type": "code",
   "execution_count": null,
   "id": "0d40b1e7",
   "metadata": {},
   "outputs": [],
   "source": [
    "import numpy as np\n",
    "import matplotlib.pyplot as plt\n",
    "from pathlib import Path\n",
    "import h5py\n",
    "\n",
    "import pynwb \n",
    "import spikeinterface.full as si\n",
    "from natsort import natsorted\n",
    "\n",
    "import sync_mea_patch as smp\n",
    "from nwb_conversion_tools.utils.spike_interface import write_recording, get_nwb_metadata, add_electrical_series\n",
    "\n",
    "from nwbwidgets import nwb2widget\n",
    "\n",
    "%matplotlib inline"
   ]
  },
  {
   "cell_type": "code",
   "execution_count": null,
   "id": "87ee094a",
   "metadata": {},
   "outputs": [],
   "source": [
    "# Standard Python imports\n",
    "from datetime import datetime, timedelta\n",
    "from dateutil.tz import tzlocal\n",
    "import numpy as np\n",
    "import pandas\n",
    "# Set pandas rendering option to avoid very wide tables in the html docs\n",
    "pandas.set_option(\"display.max_colwidth\", 30)\n",
    "pandas.set_option(\"display.max_rows\", 10)\n",
    "\n",
    "# Import main NWB file class\n",
    "from pynwb import NWBFile\n",
    "\n",
    "from pynwb.file import Subject\n",
    "# Import icephys TimeSeries types used\n",
    "from pynwb.icephys import CurrentClampStimulusSeries, CurrentClampSeries\n",
    "# Import I/O class used for reading and writing NWB files\n",
    "from pynwb import NWBHDF5IO\n",
    "# Import additional core datatypes used in the example\n",
    "from pynwb.core import DynamicTable, VectorData"
   ]
  },
  {
   "cell_type": "code",
   "execution_count": null,
   "id": "741dbfdd",
   "metadata": {},
   "outputs": [],
   "source": [
    "def get_recording_start_time(mea_file):\n",
    "\n",
    "    # get correct start time\n",
    "    f = h5py.File(mea_file, \"r\")\n",
    "    date_str = f['time'][0].decode()\n",
    "    date_str_split = date_str.split(\"\\n\")[0][date_str.find(\n",
    "        \"start:\") + len(\"start:\") + 1:date_str.find(\";\")]\n",
    "\n",
    "\n",
    "    date = datetime.fromisoformat(date_str_split)\n",
    "    return date"
   ]
  },
  {
   "cell_type": "code",
   "execution_count": null,
   "id": "5d0b22f4",
   "metadata": {},
   "outputs": [],
   "source": [
    "base_dir = Path(\"../../\")"
   ]
  },
  {
   "cell_type": "code",
   "execution_count": null,
   "id": "f579e60a",
   "metadata": {},
   "outputs": [],
   "source": [
    "cell_name = \"cell1_211006_3148\"\n",
    "experimental_folder = base_dir / \"experimental_data\" / cell_name"
   ]
  },
  {
   "cell_type": "code",
   "execution_count": null,
   "id": "65e66871",
   "metadata": {},
   "outputs": [],
   "source": [
    "mea_folder = experimental_folder / \"mea_data\"\n",
    "patch_folder = experimental_folder / \"patch_data\""
   ]
  },
  {
   "cell_type": "code",
   "execution_count": null,
   "id": "080d54af",
   "metadata": {},
   "outputs": [],
   "source": [
    "mea_files = sorted([p for p in mea_folder.iterdir() if \"raw.h5\" in p.name])\n",
    "patch_files = sorted([p for p in patch_folder.iterdir() if \"wcp\" in p.name])"
   ]
  },
  {
   "cell_type": "code",
   "execution_count": null,
   "id": "3ba3a7d4",
   "metadata": {},
   "outputs": [],
   "source": [
    "mea_files"
   ]
  },
  {
   "cell_type": "code",
   "execution_count": null,
   "id": "11ece4ac",
   "metadata": {},
   "outputs": [],
   "source": [
    "runs = [p.name.split(\".\")[0] for p in mea_files]\n",
    "print(runs)"
   ]
  },
  {
   "cell_type": "code",
   "execution_count": null,
   "id": "7db4b715",
   "metadata": {},
   "outputs": [],
   "source": [
    "start_time = get_recording_start_time(mea_files[0])"
   ]
  },
  {
   "cell_type": "code",
   "execution_count": null,
   "id": "b1b62f37",
   "metadata": {},
   "outputs": [],
   "source": [
    "# Create Subject\n",
    "subject = Subject(subject_id=cell_name.split(\"_\")[-1], \n",
    "                  description=\"Cortical embryonic cell culture\",\n",
    "                  species=\"Wistar Rat\")\n",
    "\n",
    "# Create an ICEphysFile\n",
    "nwbfile = NWBFile(\n",
    "    session_description=\"Simultaneous patch-clamp/HD-MEA recording using E-CODE protocols.\",\n",
    "    identifier=cell_name,\n",
    "    session_start_time=start_time,\n",
    "    subject=subject\n",
    ")"
   ]
  },
  {
   "cell_type": "code",
   "execution_count": null,
   "id": "c54f6bd6",
   "metadata": {},
   "outputs": [],
   "source": [
    "# add basic metadata\n",
    "nwbfile.experimenter = \"Alessio Buccino\"\n",
    "nwbfile.lab = \"Bio Engineering Laboratory (BEL) - Department of Bio Systems Science and Engineeering (D-BSSE)\"\n",
    "nwbfile.institution = \"ETH Zurich\"\n",
    "nwbfile.experiment_description = experiment_description"
   ]
  },
  {
   "cell_type": "code",
   "execution_count": null,
   "id": "9400de5a",
   "metadata": {},
   "outputs": [],
   "source": [
    "# Add a device\n",
    "device = nwbfile.create_device(name='MultiClamp 700B amplifier (Axon Instruments) - Axon Digidata 1440A (Axon Instruments)')\n",
    "\n",
    "# Add an intracellular electrode\n",
    "electrode = nwbfile.create_icephys_electrode(\n",
    "    name=\"elec0\",\n",
    "    description='Whole-cell patch pipette',\n",
    "    device=device\n",
    ")\n"
   ]
  },
  {
   "cell_type": "code",
   "execution_count": null,
   "id": "1eb61607",
   "metadata": {},
   "outputs": [],
   "source": [
    "protocol_names = []\n",
    "run_names = []\n",
    "current_sweep = 0\n",
    "\n",
    "for i, run in enumerate(runs):\n",
    "    print(f\"\\n\\nAdding run {run}\\n\\n\")\n",
    "    mea_file_run = [m for m in mea_files if run in m.name][0]\n",
    "    patch_files_protocols = natsorted([p.name.split(\".\")[1] for p in patch_files if run in p.name])\n",
    "    patch_files_run = []\n",
    "    for prot in patch_files_protocols:\n",
    "        patch_files_run.append([p for p in patch_files if prot in p.name and run in p.name][0])\n",
    "        \n",
    "    subrec, patch, timestamps, ttl_mea_sync = smp.sync_patch_mea(mea_file_run, patch_files_run, patch_ttl_channel=2, \n",
    "                                                             correct_mea_times=True, verbose=True,\n",
    "                                                             remove_blank_mea_channels=False, average_sweeps=False,\n",
    "                                                             return_single_sweeps=True)\n",
    "    electrodes = subrec.get_property(\"electrode\")\n",
    "    print(electrodes[:5])\n",
    "    \n",
    "    start_time_run = get_recording_start_time(mea_file_run)\n",
    "    tdelta = (start_time_run - start_time).seconds\n",
    "    subrec.set_times(subrec.get_times() + tdelta)\n",
    "    starting_time_ecephys = subrec.get_times()[0]\n",
    "\n",
    "    last_protocol = None\n",
    "    sweeps_in_protocol = []\n",
    "    sequences_in_run = []\n",
    "\n",
    "    for p in patch:\n",
    "        rate = float(np.round(1. / np.median(np.diff(p[\"time\"]))))\n",
    "        stim = p[\"data\"][3]\n",
    "        resp = p[\"data\"][0]\n",
    "        sweep_id = int(p['name'].split('-')[1])\n",
    "        protocol_name = p['name'].split('.')[1].split(\"_\")[1]\n",
    "        run_name = p['name'].split('.')[0]\n",
    "        timestamps = p[\"time\"] + tdelta\n",
    "\n",
    "        # Create an ic-ephys stimulus\n",
    "        stimulus = CurrentClampStimulusSeries(\n",
    "            name=f\"stimulus_{p['name']}\",\n",
    "            data=stim,\n",
    "            timestamps=timestamps,\n",
    "            electrode=electrode,\n",
    "            gain=1.,\n",
    "            sweep_number=current_sweep\n",
    "        )\n",
    "\n",
    "        # Create an ic-response\n",
    "        response = CurrentClampSeries(\n",
    "            name=f\"response_{p['name']}\",\n",
    "            data=resp,\n",
    "            resolution=np.nan,\n",
    "            timestamps=timestamps,\n",
    "            electrode=electrode,\n",
    "            gain=1.,\n",
    "            sweep_number=current_sweep\n",
    "        )\n",
    "\n",
    "        # Create recording\n",
    "        ir_index = nwbfile.add_intracellular_recording(\n",
    "            electrode=electrode,\n",
    "            stimulus=stimulus,\n",
    "            response=response\n",
    "        )\n",
    "\n",
    "        # Create simultaneous recording (only one rec in our case)\n",
    "        sweep_index = ex_nwbfile.add_icephys_simultaneous_recording(recordings=[ir_index,])\n",
    "\n",
    "        if last_protocol is None:\n",
    "            sweeps_in_protocol.append(sweep_index)\n",
    "        elif protocol_name == last_protocol:\n",
    "            sweeps_in_protocol.append(sweep_index)\n",
    "        else:\n",
    "            # (C) Add a list of simultaneous recordings table indices as a sequential recording\n",
    "            sequence_index = nwbfile.add_icephys_sequential_recording(\n",
    "                simultaneous_recordings=sweeps_in_protocol,\n",
    "                stimulus_type=last_protocol\n",
    "            )\n",
    "            sweeps_in_protocol = []\n",
    "            sequences_in_run.append(sequence_index)\n",
    "        last_protocol = protocol_name\n",
    "\n",
    "        current_sweep += 1\n",
    "        protocol_names.append(protocol_name)\n",
    "        run_names.append(run_name)\n",
    "\n",
    "    # Add a list of sequential recordings table indices as a repetition\n",
    "    run_index = nwbfile.add_icephys_repetition(sequential_recordings=sequences_in_run)\n",
    "    \n",
    "#     # Add Ecephys\n",
    "#     es_key = f\"ElectricalSeries_{run}\"\n",
    "#     metadata_ecephys = get_nwb_metadata(subrec)\n",
    "#     metadata_ecephys[\"Ecephys\"][\"Device\"][0][\"name\"] = \"Mea1k HD-MEA\"\n",
    "#     metadata_ecephys[\"Ecephys\"][\"Device\"][0][\"description\"] = \"Mea1k HD-MEA device with 26'400 electrodes. 1024 recorded simultaneously.\"\n",
    "#     metadata_ecephys[\"Ecephys\"][\"ElectrodeGroup\"][0][\"device\"] = \"Mea1k HD-MEA\"\n",
    "#     metadata_ecephys['Ecephys'][es_key] = {\n",
    "#             'name': es_key,\n",
    "#             'description': f\"HD-MEA extracellular recording for {run}\"\n",
    "#         }\n",
    "    \n",
    "#     if i == 0:\n",
    "#         nwbfile = write_recording(subrec, nwbfile=nwbfile, metadata=metadata_ecephys,\n",
    "#                                   es_key=es_key, use_times=True)\n",
    "#     else:\n",
    "#         add_electrical_series(subrec, nwbfile=nwbfile, starting_time=starting_time_ecephys,\n",
    "#                               metadata=metadata_ecephys, es_key=es_key, use_times=True)\n",
    "        \n",
    "\n",
    "nwbfile.intracellular_recordings.add_column(\n",
    "    name='protocol_name',\n",
    "    data=protocol_names,\n",
    "    description='E-CODE protocol name'\n",
    ")\n",
    "nwbfile.intracellular_recordings.add_column(\n",
    "    name='run',\n",
    "    data=run_names,\n",
    "    description='Run number'\n",
    ")"
   ]
  },
  {
   "cell_type": "code",
   "execution_count": null,
   "id": "1db6819b",
   "metadata": {},
   "outputs": [],
   "source": [
    "with NWBHDF5IO(f\"{cell_name}.nwb\", \"w\") as io:\n",
    "    io.write(nwbfile)"
   ]
  },
  {
   "cell_type": "code",
   "execution_count": null,
   "id": "f8361bb8",
   "metadata": {},
   "outputs": [],
   "source": [
    "max_chan = '885'\n",
    "\n",
    "with NWBHDF5IO(f\"{cell_name}.nwb\", \"r\") as io:\n",
    "    read_nwbfile = io.read()\n",
    "#     max_id = read_nwbfile.electrodes[\"channel_id\"].data.index(max_chan)\n",
    "    \n",
    "    fig, axs = plt.subplots(nrows=2, sharex=True)\n",
    "    for acq_name in read_nwbfile.acquisition:\n",
    "        acq = read_nwbfile.acquisition[acq_name]\n",
    "        run_id = acq_name[acq_name.find(\"run\") + 3:acq_name.find(\"run\") + 4]\n",
    "        if isinstance(acq, pynwb.icephys.CurrentClampSeries):\n",
    "            axs[0].plot(acq.timestamps[()], acq.data[()], color=f\"C{run_id}\")\n",
    "        else:\n",
    "            print(acq_name, acq.data.shape)\n",
    "#             axs[1].plot(acq.timestamps[()], acq.data[:, max_id], color=f\"C{run_id}\")"
   ]
  },
  {
   "cell_type": "markdown",
   "id": "722602d1",
   "metadata": {},
   "source": [
    "## Test one run"
   ]
  },
  {
   "cell_type": "code",
   "execution_count": null,
   "id": "90662c09",
   "metadata": {},
   "outputs": [],
   "source": [
    "run = runs[0]"
   ]
  },
  {
   "cell_type": "code",
   "execution_count": null,
   "id": "4d3f389c",
   "metadata": {},
   "outputs": [],
   "source": [
    "mea_file_run = [m for m in mea_files if run in m.name][0]\n",
    "patch_files_protocols = natsorted([p.name.split(\".\")[1] for p in patch_files if run in p.name])\n",
    "patch_files_run = []\n",
    "for prot in patch_files_protocols:\n",
    "    patch_files_run.append([p for p in patch_files if prot in p.name and run in p.name][0])"
   ]
  },
  {
   "cell_type": "code",
   "execution_count": null,
   "id": "47f0a465",
   "metadata": {},
   "outputs": [],
   "source": [
    "mea_file_run"
   ]
  },
  {
   "cell_type": "code",
   "execution_count": null,
   "id": "48a419a3",
   "metadata": {},
   "outputs": [],
   "source": [
    "patch_files_run"
   ]
  },
  {
   "cell_type": "code",
   "execution_count": null,
   "id": "61244b6e",
   "metadata": {},
   "outputs": [],
   "source": [
    "subrec, patch, timestamps, ttl_mea_sync = smp.sync_patch_mea(mea_file_run, patch_files_run, patch_ttl_channel=2, \n",
    "                                                             correct_mea_times=True, verbose=True,\n",
    "                                                             remove_blank_mea_channels=False, average_sweeps=False,\n",
    "                                                             return_single_sweeps=True)"
   ]
  },
  {
   "cell_type": "code",
   "execution_count": null,
   "id": "674dd619",
   "metadata": {},
   "outputs": [],
   "source": [
    "plot_signals = False"
   ]
  },
  {
   "cell_type": "code",
   "execution_count": null,
   "id": "fa29bdc1",
   "metadata": {},
   "outputs": [],
   "source": [
    "if plot_signals:\n",
    "    plt.figure()\n",
    "    rec_f = si.bandpass_filter(subrec)\n",
    "    tr_max = rec_f.get_traces(channel_ids=['885'])\n",
    "\n",
    "    for p in patch:\n",
    "        plt.plot(p[\"time\"], p[\"data\"][3], alpha=0.5, label=p[\"name\"])\n",
    "\n",
    "    plt.plot(rec_f.get_times(), tr_max[:, 0], alpha=0.5, color=\"C1\", label=\"extra\")"
   ]
  },
  {
   "cell_type": "code",
   "execution_count": null,
   "id": "f2d92f85",
   "metadata": {},
   "outputs": [],
   "source": [
    "protocol_names = []\n",
    "run_names = []\n",
    "\n",
    "last_protocol = None\n",
    "sweeps_in_protocol = []\n",
    "sequences_in_run = []\n",
    "current_sweep = 0\n",
    "\n",
    "for p in patch:\n",
    "    rate = float(np.round(1. / np.median(np.diff(p[\"time\"]))))\n",
    "    stim = p[\"data\"][3]\n",
    "    resp = p[\"data\"][0]\n",
    "    sweep_id = int(p['name'].split('-')[1])\n",
    "    name = f\"{p['name'].split('.')[1]}-{p['name'].split('-')[1]}\"\n",
    "    protocol_name = p['name'].split('.')[1].split(\"_\")[1]\n",
    "    run_name = p['name'].split('.')[0]\n",
    "    \n",
    "    # Create an ic-ephys stimulus\n",
    "    stimulus = CurrentClampStimulusSeries(\n",
    "        name=f\"stimulus_{name}\",\n",
    "        data=stim,\n",
    "        timestamps=p[\"time\"],\n",
    "        electrode=electrode,\n",
    "        gain=1.,\n",
    "        sweep_number=current_sweep\n",
    "    )\n",
    "\n",
    "    # Create an ic-response\n",
    "    response = CurrentClampSeries(\n",
    "        name=f\"response_{name}\",\n",
    "        data=resp,\n",
    "        resolution=np.nan,\n",
    "        timestamps=p[\"time\"],\n",
    "        electrode=electrode,\n",
    "        gain=1.,\n",
    "        sweep_number=current_sweep\n",
    "    )\n",
    "    \n",
    "    # Create recording\n",
    "    ir_index = nwbfile.add_intracellular_recording(\n",
    "        electrode=electrode,\n",
    "        stimulus=stimulus,\n",
    "        response=response\n",
    "    )\n",
    "    \n",
    "    # Create simultaneous recording (only one rec in our case)\n",
    "    sweep_index = ex_nwbfile.add_icephys_simultaneous_recording(recordings=[ir_index,])\n",
    "    \n",
    "    if last_protocol is None:\n",
    "        sweeps_in_protocol.append(sweep_index)\n",
    "    elif protocol_name == last_protocol:\n",
    "        sweeps_in_protocol.append(sweep_index)\n",
    "    else:\n",
    "        # (C) Add a list of simultaneous recordings table indices as a sequential recording\n",
    "        sequence_index = nwbfile.add_icephys_sequential_recording(\n",
    "            simultaneous_recordings=sweeps_in_protocol,\n",
    "            stimulus_type=last_protocol\n",
    "        )\n",
    "        sweeps_in_protocol = []\n",
    "        sequences_in_run.append(sequence_index)\n",
    "    last_protocol = protocol_name\n",
    "    \n",
    "    current_sweep += 1\n",
    "    protocol_names.append(protocol_name)\n",
    "    run_names.append(run_name)\n",
    "\n",
    "# (D) Add a list of sequential recordings table indices as a repetition\n",
    "run_index = nwbfile.add_icephys_repetition(sequential_recordings=sequences_in_run)\n",
    "\n",
    "nwbfile.intracellular_recordings.add_column(\n",
    "    name='protocol_name',\n",
    "    data=protocol_names,\n",
    "    description='E-CODE protocol name'\n",
    ")\n",
    "nwbfile.intracellular_recordings.add_column(\n",
    "    name='run',\n",
    "    data=run_names,\n",
    "    description='Run number'\n",
    ")"
   ]
  },
  {
   "cell_type": "code",
   "execution_count": null,
   "id": "eb56e52e",
   "metadata": {},
   "outputs": [],
   "source": [
    "nwbfile.intracellular_recordings.to_dataframe()"
   ]
  }
 ],
 "metadata": {
  "kernelspec": {
   "display_name": "Python 3 (ipykernel)",
   "language": "python",
   "name": "python3"
  },
  "language_info": {
   "codemirror_mode": {
    "name": "ipython",
    "version": 3
   },
   "file_extension": ".py",
   "mimetype": "text/x-python",
   "name": "python",
   "nbconvert_exporter": "python",
   "pygments_lexer": "ipython3",
   "version": "3.8.11"
  }
 },
 "nbformat": 4,
 "nbformat_minor": 5
}
