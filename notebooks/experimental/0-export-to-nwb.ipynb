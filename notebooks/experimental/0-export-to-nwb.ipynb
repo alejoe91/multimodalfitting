{
 "cells": [
  {
   "cell_type": "markdown",
   "id": "b5e0aa77",
   "metadata": {},
   "source": [
    "# Export multimodal datasets to NWB\n",
    "\n",
    "This notebook requires these additional packages:\n",
    "\n",
    "- pynwb\n",
    "- pillow\n",
    "- nwb-conversion-tools (version >= 0.11.38)\n",
    "- spikeinterface (version >= 0.94)\n",
    "- nwbwidgets (optional)\n",
    "\n",
    "The notebook assumes that the experimental data are available in the `experimental_data` folder, including:\n",
    "- mea\n",
    "- patch\n",
    "- imaging (only used for max Z projection)"
   ]
  },
  {
   "cell_type": "code",
   "execution_count": null,
   "id": "0d40b1e7",
   "metadata": {},
   "outputs": [],
   "source": [
    "import numpy as np\n",
    "import matplotlib.pyplot as plt\n",
    "import h5py\n",
    "import os\n",
    "import shutil\n",
    "from pathlib import Path\n",
    "from PIL import Image\n",
    "from natsort import natsorted\n",
    "from datetime import datetime, timedelta\n",
    "\n",
    "import multimodalfitting.mea_patch as mp\n",
    "\n",
    "import pynwb\n",
    "from pynwb import NWBFile, NWBHDF5IO\n",
    "from pynwb.file import Subject\n",
    "from pynwb.icephys import CurrentClampStimulusSeries, CurrentClampSeries\n",
    "\n",
    "from nwb_conversion_tools.tools.spikeinterface import write_recording, get_nwb_metadata, add_electrical_series\n",
    "from nwbwidgets import nwb2widget\n",
    "\n",
    "%matplotlib inline"
   ]
  },
  {
   "cell_type": "code",
   "execution_count": null,
   "id": "a1fc082b",
   "metadata": {},
   "outputs": [],
   "source": [
    "job_kwargs = dict(n_jobs=10, chunk_duration=\"1s\", progress_bar=True)"
   ]
  },
  {
   "cell_type": "code",
   "execution_count": null,
   "id": "46d9d52e",
   "metadata": {},
   "outputs": [],
   "source": [
    "def get_recording_start_time(mea_file):\n",
    "\n",
    "    # get correct start time\n",
    "    f = h5py.File(mea_file, \"r\")\n",
    "    date_str = f['time'][0].decode()\n",
    "    date_str_split = date_str.split(\"\\n\")[0][date_str.find(\n",
    "        \"start:\") + len(\"start:\") + 1:date_str.find(\";\")]\n",
    "\n",
    "\n",
    "    date = datetime.fromisoformat(date_str_split)\n",
    "    return date"
   ]
  },
  {
   "cell_type": "code",
   "execution_count": null,
   "id": "e0788c61",
   "metadata": {},
   "outputs": [],
   "source": [
    "base_dir = Path(\"../../\")"
   ]
  },
  {
   "cell_type": "code",
   "execution_count": null,
   "id": "f579e60a",
   "metadata": {},
   "outputs": [],
   "source": [
    "cell_name = \"cell1_211006_3148\"\n",
    "# cell_name = \"cell1_211011_3436\"\n",
    "\n",
    "experimental_folder = base_dir / \"experimental_data\" / cell_name"
   ]
  },
  {
   "cell_type": "code",
   "execution_count": null,
   "id": "22007aa8",
   "metadata": {},
   "outputs": [],
   "source": [
    "mea_folder = experimental_folder / \"mea_data\"\n",
    "patch_folder = experimental_folder / \"patch_data\""
   ]
  },
  {
   "cell_type": "code",
   "execution_count": null,
   "id": "d3d575ba",
   "metadata": {},
   "outputs": [],
   "source": [
    "mea_files = sorted([p for p in mea_folder.iterdir() if \"raw.h5\" in p.name])\n",
    "patch_files = sorted([p for p in patch_folder.iterdir() if \"wcp\" in p.name])"
   ]
  },
  {
   "cell_type": "code",
   "execution_count": null,
   "id": "0660204b",
   "metadata": {},
   "outputs": [],
   "source": [
    "runs = [p.name.split(\".\")[0] for p in mea_files]\n",
    "print(runs)"
   ]
  },
  {
   "cell_type": "code",
   "execution_count": null,
   "id": "5c134122",
   "metadata": {},
   "outputs": [],
   "source": [
    "if cell_name == \"cell1_211006_3148\":\n",
    "    run_ids = [1, 2, 3, 4, 5]  \n",
    "elif cell_name == \"cell1_211011_3436\":\n",
    "    run_ids = [3, 4, 5, 6]\n",
    "\n",
    "runs = [run for run in runs if any([int(run[-1]) in run_ids])]\n",
    "print(runs)"
   ]
  },
  {
   "cell_type": "code",
   "execution_count": null,
   "id": "322bf096",
   "metadata": {},
   "outputs": [],
   "source": [
    "start_file = [mea for mea in mea_files if runs[0] in mea.name][0]"
   ]
  },
  {
   "cell_type": "code",
   "execution_count": null,
   "id": "a8c288fd",
   "metadata": {},
   "outputs": [],
   "source": [
    "start_time = get_recording_start_time(start_file)"
   ]
  },
  {
   "cell_type": "code",
   "execution_count": null,
   "id": "686c4382",
   "metadata": {},
   "outputs": [],
   "source": [
    "if cell_name == \"cell1_211006_3148\":\n",
    "    run_map = None\n",
    "elif cell_name == \"cell1_211011_3436\":\n",
    "    run_map = {'run3': 'run1', 'run4': 'run2', 'run5': 'run3', 'run6': 'run4'}"
   ]
  },
  {
   "cell_type": "code",
   "execution_count": null,
   "id": "516011b3",
   "metadata": {},
   "outputs": [],
   "source": [
    "session_description = f\"Simultaneous patch-clamp/HD-MEA recording using E-CODE protocols for cell {cell_name} for {len(runs)} experimental runs.\"\n",
    "experiment_description = f\"Simultaneous patch-clamp/HD-MEA recording using E-CODE protocols\"\n",
    "\n",
    "# Create Subject\n",
    "subject = Subject(subject_id=cell_name.split(\"_\")[-1], \n",
    "                  description=\"Rat cortical embryonic cell culture\",\n",
    "                  species=\"Rattus norvegicus\")\n",
    "\n",
    "# Create an ICEphysFile\n",
    "nwbfile = NWBFile(\n",
    "    session_description=session_description,\n",
    "    identifier=cell_name,\n",
    "    session_start_time=start_time,\n",
    "    subject=subject\n",
    ")"
   ]
  },
  {
   "cell_type": "code",
   "execution_count": null,
   "id": "60dd7153",
   "metadata": {},
   "outputs": [],
   "source": [
    "# add basic metadata\n",
    "nwbfile.experimenter = \"Alessio Buccino and Julian Bartram\"\n",
    "nwbfile.lab = \"Bio Engineering Laboratory (BEL) - Department of Bio Systems Science and Engineeering (D-BSSE)\"\n",
    "nwbfile.institution = \"ETH Zurich\"\n",
    "nwbfile.experiment_description = experiment_description"
   ]
  },
  {
   "cell_type": "code",
   "execution_count": null,
   "id": "62ff357f",
   "metadata": {},
   "outputs": [],
   "source": [
    "# Add a device\n",
    "device = nwbfile.create_device(name='MultiClamp 700B amplifier (Axon Instruments) - Axon Digidata 1440A (Axon Instruments)')\n",
    "\n",
    "# Add an intracellular electrode\n",
    "electrode = nwbfile.create_icephys_electrode(\n",
    "    name=\"Patch-clamp electrode\",\n",
    "    description='Whole-cell patch pipette',\n",
    "    device=device\n",
    ")"
   ]
  },
  {
   "cell_type": "code",
   "execution_count": null,
   "id": "5b2382e8",
   "metadata": {},
   "outputs": [],
   "source": [
    "# load image\n",
    "image_file = experimental_folder / \"imaging_data\" / \"deconvolved\" / \"max_projection.tif\"\n",
    "img = Image.open(image_file)\n",
    "img_array = np.array(img)\n",
    "plt.matshow(img_array)"
   ]
  },
  {
   "cell_type": "code",
   "execution_count": null,
   "id": "6599f03b",
   "metadata": {},
   "outputs": [],
   "source": [
    "resolution = 112.5 * 1e-7 #cm per pixels\n",
    "print(1 / resolution, \"pixels * cm\")"
   ]
  },
  {
   "cell_type": "code",
   "execution_count": null,
   "id": "4f771009",
   "metadata": {},
   "outputs": [],
   "source": [
    "max_z_proj = pynwb.image.GrayscaleImage(name=\"Confocal max z projection\", \n",
    "                                        data=img_array, \n",
    "                                        description=\"Maximum Z projection of the Z-stack used for morphology reconstruction\",\n",
    "                                        resolution=resolution)"
   ]
  },
  {
   "cell_type": "code",
   "execution_count": null,
   "id": "495dd010",
   "metadata": {},
   "outputs": [],
   "source": [
    "imaging_module = nwbfile.create_processing_module(\n",
    "    name=\"imaging\", description=\"processed imaging data\"\n",
    ")\n",
    "images = pynwb.base.Images(name=\"confocal\", images=[max_z_proj])\n",
    "imaging_module.add(images)"
   ]
  },
  {
   "cell_type": "code",
   "execution_count": null,
   "id": "01ddbc85",
   "metadata": {},
   "outputs": [],
   "source": [
    "protocol_names = []\n",
    "run_names = []\n",
    "current_sweep = 0\n",
    "\n",
    "bin_folder = Path(f\"{cell_name}_bin\")\n",
    "if bin_folder.is_dir():\n",
    "    shutil.rmtree(bin_folder)\n",
    "bin_folder.mkdir()\n",
    "\n",
    "for i, run in enumerate(runs):\n",
    "    print(f\"\\n\\nAdding run: {run}\\n\\n\")\n",
    "    mea_file_run = [m for m in mea_files if run in m.name][0]\n",
    "    patch_files_protocols = natsorted([p.name.split(\".\")[1] for p in patch_files if run in p.name])\n",
    "    patch_files_run = []\n",
    "    for prot in patch_files_protocols:\n",
    "        patch_files_run.append([p for p in patch_files if prot in p.name and run in p.name][0])\n",
    "        \n",
    "    subrec, patch, timestamps, ttl_mea_sync = mp.sync_patch_mea(mea_file_run, patch_files_run, \n",
    "                                                                patch_ttl_channel=2, \n",
    "                                                                correct_mea_times=True, verbose=True,\n",
    "                                                                remove_blank_mea_channels=False, \n",
    "                                                                return_patch_single_sweeps=True)\n",
    "    electrodes = subrec.get_property(\"electrode\")\n",
    "    subrec_bin = subrec.save(folder=bin_folder / run, **job_kwargs)\n",
    "    start_time_run = get_recording_start_time(mea_file_run)\n",
    "    tdelta = (start_time_run - start_time).seconds\n",
    "    subrec_bin.set_times(subrec.get_times() + tdelta)\n",
    "\n",
    "    last_protocol = None\n",
    "    sweeps_in_protocol = []\n",
    "    sequences_in_run = []\n",
    "\n",
    "    for p in patch:\n",
    "        resp = p[\"data\"][0]\n",
    "        stim = p[\"data\"][3]\n",
    "        name = str(Path(p['name']).stem)\n",
    "        if run_map:\n",
    "            name = name.replace(run, run_map[run])\n",
    "        protocol_name = name.split('.')[1].split(\"_\")[1]\n",
    "        run_name = name.split('.')[0]\n",
    "        timestamps = p[\"time\"] + tdelta\n",
    "\n",
    "        # Create an ic-ephys stimulus\n",
    "        stimulus = CurrentClampStimulusSeries(\n",
    "            name=f\"stimulus_{protocol_name}_{run_name}_{current_sweep}\",\n",
    "            data=stim,\n",
    "            timestamps=timestamps,\n",
    "            electrode=electrode,\n",
    "            stimulus_description=protocol_name,\n",
    "            description=f\"Injected current\",\n",
    "            gain=1e-9,\n",
    "            sweep_number=current_sweep,\n",
    "            unit=\"amperes\"\n",
    "        )\n",
    "\n",
    "        # Create an ic-response\n",
    "        response = CurrentClampSeries(\n",
    "            name=f\"response_{protocol_name}_{run_name}_{current_sweep}\",\n",
    "            data=resp,\n",
    "            resolution=np.nan,\n",
    "            timestamps=timestamps,\n",
    "            electrode=electrode,\n",
    "            stimulus_description=protocol_name,\n",
    "            description=f\"Recorded somatic membrane potential\",\n",
    "            gain=1e-3,\n",
    "            sweep_number=current_sweep,\n",
    "            unit=\"volts\"\n",
    "        )\n",
    "\n",
    "        # Create recording\n",
    "        ir_index = nwbfile.add_intracellular_recording(\n",
    "            electrode=electrode,\n",
    "            stimulus=stimulus,\n",
    "            response=response\n",
    "        )\n",
    "\n",
    "        # Create simultaneous recording (only one rec in our case)\n",
    "        sweep_index = nwbfile.add_icephys_simultaneous_recording(recordings=[ir_index,])\n",
    "\n",
    "        if last_protocol is None:\n",
    "            sweeps_in_protocol.append(sweep_index)\n",
    "        elif protocol_name == last_protocol:\n",
    "            sweeps_in_protocol.append(sweep_index)\n",
    "        else:\n",
    "            # (C) Add a list of simultaneous recordings table indices as a sequential recording\n",
    "            sequence_index = nwbfile.add_icephys_sequential_recording(\n",
    "                simultaneous_recordings=sweeps_in_protocol,\n",
    "                stimulus_type=last_protocol\n",
    "            )\n",
    "            sweeps_in_protocol = []\n",
    "            sequences_in_run.append(sequence_index)\n",
    "        last_protocol = protocol_name\n",
    "\n",
    "        current_sweep += 1\n",
    "        protocol_names.append(protocol_name)\n",
    "        run_names.append(run_name)\n",
    "\n",
    "    # Add a list of sequential recordings table indices as a repetition\n",
    "    run_index = nwbfile.add_icephys_repetition(sequential_recordings=sequences_in_run)\n",
    "    \n",
    "    # Add Ecephys\n",
    "    if run_map:\n",
    "        run_name = run_map[run]\n",
    "    else:\n",
    "        run_name = run\n",
    "    es_key = f\"ElectricalSeries_{run_name}\"\n",
    "    print(es_key)\n",
    "    metadata_ecephys = get_nwb_metadata(subrec)\n",
    "    metadata_ecephys[\"Ecephys\"][\"Device\"][0][\"name\"] = \"Mea1k HD-MEA\"\n",
    "    metadata_ecephys[\"Ecephys\"][\"Device\"][0][\"description\"] = \"Mea1k HD-MEA device with 26'400 electrodes. 1024 recorded simultaneously.\"\n",
    "    metadata_ecephys[\"Ecephys\"][\"ElectrodeGroup\"][0][\"device\"] = \"Mea1k HD-MEA\"\n",
    "    metadata_ecephys['Ecephys'][es_key] = {\n",
    "            'name': es_key,\n",
    "            'description': f\"HD-MEA extracellular recording for {run}\"\n",
    "        }\n",
    "    \n",
    "    if i == 0:\n",
    "        nwbfile = write_recording(subrec_bin, nwbfile=nwbfile, metadata=metadata_ecephys,\n",
    "                                  es_key=es_key, use_times=True)\n",
    "    else:\n",
    "        add_electrical_series(subrec_bin, nwbfile=nwbfile, metadata=metadata_ecephys, \n",
    "                              es_key=es_key, use_times=True)\n",
    "        \n",
    "\n",
    "nwbfile.intracellular_recordings.add_column(\n",
    "    name='protocol_name',\n",
    "    data=protocol_names,\n",
    "    description='eCode protocol name'\n",
    ")\n",
    "nwbfile.intracellular_recordings.add_column(\n",
    "    name='run',\n",
    "    data=run_names,\n",
    "    description='Run number'\n",
    ")"
   ]
  },
  {
   "cell_type": "code",
   "execution_count": null,
   "id": "3e326928",
   "metadata": {},
   "outputs": [],
   "source": [
    "nwbfile.processing"
   ]
  },
  {
   "cell_type": "code",
   "execution_count": null,
   "id": "12ba352c",
   "metadata": {},
   "outputs": [],
   "source": [
    "nwb_path = Path(f\"{cell_name}.nwb\")"
   ]
  },
  {
   "cell_type": "code",
   "execution_count": null,
   "id": "e1589f04",
   "metadata": {},
   "outputs": [],
   "source": [
    "if nwb_path.is_file():\n",
    "    nwb_path.unlink()"
   ]
  },
  {
   "cell_type": "code",
   "execution_count": null,
   "id": "e794796e",
   "metadata": {},
   "outputs": [],
   "source": [
    "with NWBHDF5IO(str(nwb_path), \"w\") as io:\n",
    "    io.write(nwbfile)"
   ]
  },
  {
   "cell_type": "code",
   "execution_count": null,
   "id": "d5217a2a",
   "metadata": {},
   "outputs": [],
   "source": [
    "if cell_name == \"cell1_211006_3148\":\n",
    "    max_chan = 'ch885'\n",
    "elif cell_name == \"cell1_211011_3436\":\n",
    "    max_chan = 'ch384'\n",
    "\n",
    "with NWBHDF5IO(str(nwb_path), \"r\") as io:\n",
    "    read_nwbfile = io.read()\n",
    "    max_chan_name = [ch for ch in read_nwbfile.electrodes[\"channel_name\"].data[:] if max_chan in ch][0]\n",
    "    max_id = list(read_nwbfile.electrodes[\"channel_name\"].data[:]).index(max_chan_name)\n",
    "    \n",
    "    fig, axs = plt.subplots(nrows=2, sharex=True, figsize=(10, 10))\n",
    "    ax0 = axs[0]\n",
    "    ax1 = axs[1]\n",
    "    for acq_name in read_nwbfile.acquisition:\n",
    "        acq = read_nwbfile.acquisition[acq_name]\n",
    "        run_id = acq_name[acq_name.find(\"run\") + 3:acq_name.find(\"run\") + 4]\n",
    "        if isinstance(acq, pynwb.icephys.CurrentClampSeries):\n",
    "            ax0.plot(acq.timestamps[()], acq.data[()], color=f\"C{run_id}\", lw=1)\n",
    "        else:\n",
    "            ax1.plot(acq.timestamps[()], acq.data[:, max_id], color=f\"C{run_id}\", lw=0.5, alpha=0.8)"
   ]
  },
  {
   "cell_type": "markdown",
   "id": "61c2e98f",
   "metadata": {},
   "source": [
    "### (optional) View saved NWB dataset with NWBwidgets"
   ]
  },
  {
   "cell_type": "code",
   "execution_count": null,
   "id": "f0d90b4a",
   "metadata": {},
   "outputs": [],
   "source": [
    "io = NWBHDF5IO(str(nwb_path), \"r\") \n",
    "read_nwbfile = io.read()\n",
    "\n",
    "nwb2widget(read_nwbfile)"
   ]
  },
  {
   "cell_type": "code",
   "execution_count": null,
   "id": "1bcdb53a",
   "metadata": {},
   "outputs": [],
   "source": [
    "io.close()"
   ]
  }
 ],
 "metadata": {
  "kernelspec": {
   "display_name": "Python 3 (ipykernel)",
   "language": "python",
   "name": "python3"
  },
  "language_info": {
   "codemirror_mode": {
    "name": "ipython",
    "version": 3
   },
   "file_extension": ".py",
   "mimetype": "text/x-python",
   "name": "python",
   "nbconvert_exporter": "python",
   "pygments_lexer": "ipython3",
   "version": "3.8.13"
  }
 },
 "nbformat": 4,
 "nbformat_minor": 5
}
