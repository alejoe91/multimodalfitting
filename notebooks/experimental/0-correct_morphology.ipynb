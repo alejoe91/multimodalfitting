{
 "cells": [
  {
   "cell_type": "markdown",
   "id": "a6cf18c8",
   "metadata": {},
   "source": [
    "# correct morphologies"
   ]
  },
  {
   "cell_type": "code",
   "execution_count": null,
   "id": "d3d48b2d",
   "metadata": {},
   "outputs": [],
   "source": [
    "import neuroplotlib as nplt\n",
    "import matplotlib.pyplot as plt\n",
    "from multimodalfitting.imaging_tools import correct_swc\n",
    "from multimodalfitting.imaging_tools.correct_swc import swc_dtype\n",
    "import multimodalfitting as mf\n",
    "from pathlib import Path\n",
    "from bluepyopt import ephys\n",
    "import numpy as np\n",
    "\n",
    "%matplotlib widget"
   ]
  },
  {
   "cell_type": "code",
   "execution_count": null,
   "id": "8b354142",
   "metadata": {},
   "outputs": [],
   "source": [
    "morphology_file_raw = \"../experimental_data/cell1_211006_3148/morphology/morphology_raw.swc\"\n",
    "morphology_file_correct = \"../experimental_data/cell1_211006_3148/morphology/morphology_corrected.swc\""
   ]
  },
  {
   "cell_type": "code",
   "execution_count": null,
   "id": "d72e5282",
   "metadata": {},
   "outputs": [],
   "source": [
    "swc_data = np.loadtxt(morphology_file_raw, dtype=swc_dtype)"
   ]
  },
  {
   "cell_type": "code",
   "execution_count": null,
   "id": "316ba46a",
   "metadata": {},
   "outputs": [],
   "source": [
    "plt.figure()\n",
    "plt.plot(swc_data[\"x\"], swc_data[\"y\"], \".\", alpha=0.05)\n",
    "axon_idxs = np.where(swc_data[\"type\"] == 2)\n",
    "plt.plot(swc_data[\"x\"][axon_idxs], swc_data[\"y\"][axon_idxs], \".\", alpha=0.8, color=\"g\")"
   ]
  },
  {
   "cell_type": "code",
   "execution_count": null,
   "id": "9638a58f",
   "metadata": {},
   "outputs": [],
   "source": [
    "swc_new = correct_swc(morphology_file_raw, morphology_file_correct, reset_tags=None, smooth_samples=20,\n",
    "                      min_radius_value=0.15, interp=True)"
   ]
  },
  {
   "cell_type": "markdown",
   "id": "491b4734",
   "metadata": {},
   "source": [
    "#TODO fix this!"
   ]
  },
  {
   "cell_type": "code",
   "execution_count": null,
   "id": "22f5e32b",
   "metadata": {},
   "outputs": [],
   "source": [
    "ax = nplt.plot_detailed_neuron(morphology=morphology_file_raw, plane=\"xy\", color_axon=\"g\")"
   ]
  },
  {
   "cell_type": "code",
   "execution_count": null,
   "id": "f17b44d3",
   "metadata": {},
   "outputs": [],
   "source": [
    "ax = nplt.plot_detailed_neuron(morphology=morphology_file_correct, plane=\"xy\", color=\"b\", color_axon=\"m\")"
   ]
  },
  {
   "cell_type": "code",
   "execution_count": null,
   "id": "89de8390",
   "metadata": {},
   "outputs": [],
   "source": [
    "ax = nplt.plot_detailed_neuron(morphology=morphology_file_correct, plane=\"xy\", \n",
    "                               color_apic='r', color_axon='g')"
   ]
  },
  {
   "cell_type": "code",
   "execution_count": null,
   "id": "d9cfe456",
   "metadata": {},
   "outputs": [],
   "source": [
    "base_folder = Path(\"../\")\n",
    "cell_models_folder = base_folder / \"cell_models\"\n",
    "model_name = \"cell1_211011_3436\"\n",
    "model_folder = cell_models_folder / model_name"
   ]
  },
  {
   "cell_type": "code",
   "execution_count": null,
   "id": "17ed59ba",
   "metadata": {},
   "outputs": [],
   "source": [
    "# morphology_file = data_folder / \"morphology\" / \"morphology_raw.swc\"\n",
    "cell = mf.create_experimental_model(model_name=model_name, release=True)\n",
    "sim = ephys.simulators.LFPySimulator(cvode_active=True, mechanisms_directory=model_folder)"
   ]
  },
  {
   "cell_type": "code",
   "execution_count": null,
   "id": "23131467",
   "metadata": {},
   "outputs": [],
   "source": [
    "mf.plot_cell(cell, sim, color_axon=\"g\", color_ais=\"r\")"
   ]
  },
  {
   "cell_type": "code",
   "execution_count": null,
   "id": "065cdb59",
   "metadata": {},
   "outputs": [],
   "source": []
  }
 ],
 "metadata": {
  "kernelspec": {
   "display_name": "Python 3 (ipykernel)",
   "language": "python",
   "name": "python3"
  },
  "language_info": {
   "codemirror_mode": {
    "name": "ipython",
    "version": 3
   },
   "file_extension": ".py",
   "mimetype": "text/x-python",
   "name": "python",
   "nbconvert_exporter": "python",
   "pygments_lexer": "ipython3",
   "version": "3.9.7"
  }
 },
 "nbformat": 4,
 "nbformat_minor": 5
}
