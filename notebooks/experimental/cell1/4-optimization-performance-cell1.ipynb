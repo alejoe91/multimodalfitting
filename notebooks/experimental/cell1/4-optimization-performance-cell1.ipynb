{
 "cells": [
  {
   "cell_type": "markdown",
   "id": "2802976d",
   "metadata": {},
   "source": [
    "# 4) Analyze and evaluate optimization output - training protocols\n",
    "\n",
    "## cell1_211006_3148\n",
    "\n",
    "This final notebook uses the `runs.pkl` file created in notebook 2 and it analyzes:\n",
    "\n",
    "- the distance between different feature sets in the feature space\n",
    "- the distance between different feature sets in the extracellular signals"
   ]
  },
  {
   "cell_type": "code",
   "execution_count": null,
   "id": "0100d836",
   "metadata": {},
   "outputs": [],
   "source": [
    "import pickle\n",
    "import pandas as pd\n",
    "import seaborn as sns\n",
    "import sys\n",
    "import shutil\n",
    "from tqdm import tqdm\n",
    "\n",
    "import bluepyopt as bpopt\n",
    "import bluepyopt.ephys as ephys\n",
    "import neuroplotlib as nplt\n",
    "\n",
    "import matplotlib as mpl\n",
    "import matplotlib.pyplot as plt\n",
    "from matplotlib.patches import Ellipse\n",
    "\n",
    "from scipy.spatial import distance\n",
    "import MEAutility as mu\n",
    "import json\n",
    "import time\n",
    "import numpy as np\n",
    "from pathlib import Path\n",
    "from pprint import pprint\n",
    "\n",
    "import multimodalfitting as mf\n",
    "\n",
    "%matplotlib notebook"
   ]
  },
  {
   "cell_type": "code",
   "execution_count": null,
   "id": "cc192288",
   "metadata": {},
   "outputs": [],
   "source": [
    "# general\n",
    "base_dir = Path(\"../../..\")\n"
   ]
  },
  {
   "cell_type": "code",
   "execution_count": null,
   "id": "2b4e9ef0",
   "metadata": {},
   "outputs": [],
   "source": [
    "# general\n",
    "cell_name = \"cell1_211006_3148\" # \"cell1_211006_3148\" | \"cell1_211011_3436\"\n",
    "model_name = cell_name\n",
    "ephys_dir = base_dir / \"experimental_data\" / cell_name / \"patch_data\"\n",
    "\n",
    "cell_models_folder = base_dir / \"cell_models\"\n",
    "model_folder = cell_models_folder / cell_name"
   ]
  },
  {
   "cell_type": "code",
   "execution_count": null,
   "id": "31bf26f8",
   "metadata": {},
   "outputs": [],
   "source": [
    "result_dates = [r.name for r in (base_dir / \"results\").iterdir()]\n",
    "# use latest results\n",
    "results_date = max(result_dates)\n",
    "result_folder = base_dir / \"results\" / results_date"
   ]
  },
  {
   "cell_type": "code",
   "execution_count": null,
   "id": "e711ad1b",
   "metadata": {},
   "outputs": [],
   "source": [
    "# select abd (axon_bearing_dendrite) option\n",
    "abd = False"
   ]
  },
  {
   "cell_type": "code",
   "execution_count": null,
   "id": "cbd38d0b",
   "metadata": {},
   "outputs": [],
   "source": [
    "save_fig = False\n",
    "fig_folder = Path(\"../../figures\")\n",
    "\n",
    "if save_fig:\n",
    "    fig_folder.mkdir(exist_ok=True)"
   ]
  },
  {
   "cell_type": "code",
   "execution_count": null,
   "id": "be3355f7",
   "metadata": {},
   "outputs": [],
   "source": [
    "colors_dict = {\"soma\": \"C0\",\n",
    "               \"all\": \"C1\",\n",
    "               \"sections\": \"C2\",\n",
    "               \"single\": \"C3\"}\n",
    "feature_sets = {\"soma\": \"soma\",\n",
    "                \"all\": \"extra\",\n",
    "                \"sections\": \"extra\",\n",
    "                \"single\": \"extra\"}\n",
    "figsize = (10, 7)"
   ]
  },
  {
   "cell_type": "markdown",
   "id": "7f3462e3",
   "metadata": {},
   "source": [
    "# Define cell model and load optimization output"
   ]
  },
  {
   "cell_type": "code",
   "execution_count": null,
   "id": "566dfb7c",
   "metadata": {},
   "outputs": [],
   "source": [
    "cell = mf.create_experimental_model(model_name=cell_name, abd=abd)\n",
    "cell_sample = mf.create_experimental_model(model_name=cell_name, release=True, abd=abd)\n",
    "\n",
    "probe = mf.define_electrode(probe_file=model_folder / \"fitting\" / \"efeatures\" / \"probe_BPO.json\")\n",
    "param_names = [param.name for param in cell.params.values() if not param.frozen]"
   ]
  },
  {
   "cell_type": "code",
   "execution_count": null,
   "id": "2aa8fded",
   "metadata": {},
   "outputs": [],
   "source": [
    "print(f\"Number of parameters: {len(param_names)} (ABD={abd})\")"
   ]
  },
  {
   "cell_type": "code",
   "execution_count": null,
   "id": "f3669851",
   "metadata": {},
   "outputs": [],
   "source": [
    "pkl_file_name = \"runs.pkl\""
   ]
  },
  {
   "cell_type": "code",
   "execution_count": null,
   "id": "cf1a954f",
   "metadata": {},
   "outputs": [],
   "source": [
    "data = pickle.load(open(result_folder / pkl_file_name, 'rb'))\n",
    "df_optimization = pd.DataFrame(data)\n",
    "df_model = df_optimization.query(f\"model == '{model_name}'\")\n",
    "# set strategy column\n",
    "\n",
    "results_name = f\"opt_results_training_{model_name}\"\n",
    "if abd:\n",
    "    results_name += \"_abd\"\n",
    "else:\n",
    "    results_name += \"_noabd\"\n",
    "results_file = f\"{results_name}.pkl\"\n",
    "\n",
    "opt_results_training = None\n",
    "if (result_folder / results_file).is_file():\n",
    "    with open(result_folder / results_file, 'rb') as f:\n",
    "        opt_results_training = pickle.load(f)\n",
    "else:\n",
    "    opt_results_all = None\n",
    "\n",
    "all_responses_file = result_folder / f\"all_responses_{model_name}.pkl\"\n",
    "\n",
    "assert all_responses_file.is_file(), \"run notebook 3) first\"\n",
    "\n",
    "with open(all_responses_file, \"rb\") as f:\n",
    "    opt_results_df = pickle.load(f)\n",
    "\n",
    "strategies = np.unique(df_model.strategy)"
   ]
  },
  {
   "cell_type": "code",
   "execution_count": null,
   "id": "47774cbc",
   "metadata": {},
   "outputs": [],
   "source": [
    "df_model = df_model.query(f\"abd == {abd}\")"
   ]
  },
  {
   "cell_type": "markdown",
   "id": "f82df2d2",
   "metadata": {},
   "source": [
    "# Load protocols and experimental features"
   ]
  },
  {
   "cell_type": "code",
   "execution_count": null,
   "id": "2f7db931",
   "metadata": {},
   "outputs": [],
   "source": [
    "extra_kwargs = mf.utils.get_extra_kwargs()\n",
    "extra_kwargs[\"ms_cut\"] = [2, 5]"
   ]
  },
  {
   "cell_type": "code",
   "execution_count": null,
   "id": "30972ccb",
   "metadata": {},
   "outputs": [],
   "source": [
    "protocol_for_eap = \"IDrest_300\""
   ]
  },
  {
   "cell_type": "code",
   "execution_count": null,
   "id": "cfd8b2f8",
   "metadata": {},
   "outputs": [],
   "source": [
    "eva_extra = mf.create_evaluator(\n",
    "    model_name=model_name,\n",
    "    strategy=\"all\",\n",
    "    protocols_with_lfp=protocol_for_eap,\n",
    "    abd=abd,\n",
    "    **extra_kwargs\n",
    ")"
   ]
  },
  {
   "cell_type": "markdown",
   "id": "4129411f",
   "metadata": {},
   "source": [
    "## Load experimental responses"
   ]
  },
  {
   "cell_type": "code",
   "execution_count": null,
   "id": "c2ff2ac2",
   "metadata": {},
   "outputs": [],
   "source": [
    "from bluepyefe.extract import read_recordings, extract_efeatures_at_targets, compute_rheobase,\\\n",
    "    group_efeatures, create_feature_protocol_files, convert_legacy_targets\n",
    "from bluepyefe.plotting import plot_all_recordings_efeatures\n",
    "\n",
    "from multimodalfitting.efeatures_extraction import build_wcp_metadata, wcp_reader, get_ecode_targets, \\\n",
    "    ecodes_wcp_timings"
   ]
  },
  {
   "cell_type": "code",
   "execution_count": null,
   "id": "ba8b8787",
   "metadata": {},
   "outputs": [],
   "source": [
    "# define timings for this experiment\n",
    "ecodes_cell_timings = {\n",
    "    \"IDthres\": {\n",
    "        'ton': 400,\n",
    "        'toff': 670\n",
    "    },\n",
    "    \"firepattern\": {\n",
    "        'ton': 500,\n",
    "        'toff': 4100\n",
    "    },\n",
    "    \"IV\": {\n",
    "        'ton': 400,\n",
    "        'toff': 3400\n",
    "    },\n",
    "    \"IDrest\": {\n",
    "        'ton': 400,\n",
    "        'toff': 1750\n",
    "    },\n",
    "    \"APWaveform\": {\n",
    "        'ton': 350,\n",
    "        'toff': 400\n",
    "    },\n",
    "    \"HyperDepol\": {\n",
    "        'ton': 400,\n",
    "        'toff': 1120,\n",
    "        'tmid': 850\n",
    "    },\n",
    "    \"sAHP\": {\n",
    "        'ton': 400,\n",
    "        'toff': 1325,\n",
    "        'tmid': 650,\n",
    "        'tmid2': 875\n",
    "    },\n",
    "    \"PosCheops\": {\n",
    "        'ton': 1000,\n",
    "        't1': 9000,\n",
    "        't2': 10500,\n",
    "        't3': 14500,\n",
    "        't4': 16000,\n",
    "        'toff': 18660\n",
    "    }\n",
    "}"
   ]
  },
  {
   "cell_type": "code",
   "execution_count": null,
   "id": "ad6baf49",
   "metadata": {},
   "outputs": [],
   "source": [
    "if cell_name == \"cell1_211006_3148\":\n",
    "    runs = [1, 2, 3, 4, 5]  # run1 --> different rheobase\n",
    "elif cell_name == \"cell1_211011_3436\":\n",
    "    runs = [3, 4, 5, 6]\n",
    "    \n",
    "ecode_names = list(ecodes_cell_timings.keys())\n",
    "\n",
    "files_list = []\n",
    "\n",
    "for run in runs:\n",
    "    rep_dict = {}\n",
    "    for ecode in ecode_names:\n",
    "        for patch_file in ephys_dir.iterdir():\n",
    "            if f\"run{run}\" in patch_file.name and ecode.lower() in patch_file.name:\n",
    "                rep_dict[ecode] = patch_file\n",
    "    files_list.append(rep_dict)"
   ]
  },
  {
   "cell_type": "code",
   "execution_count": null,
   "id": "57b66586",
   "metadata": {},
   "outputs": [],
   "source": [
    "files_metadata = build_wcp_metadata(cell_id=cell_name, \n",
    "                                    files_list=files_list, \n",
    "                                    ecode_timings=ecodes_cell_timings, \n",
    "                                    repetition_as_different_cells=False)"
   ]
  },
  {
   "cell_type": "code",
   "execution_count": null,
   "id": "70cdd173",
   "metadata": {},
   "outputs": [],
   "source": [
    "cells = read_recordings(\n",
    "    files_metadata=files_metadata,\n",
    "    recording_reader=wcp_reader\n",
    ")"
   ]
  },
  {
   "cell_type": "code",
   "execution_count": null,
   "id": "adb19a1c",
   "metadata": {},
   "outputs": [],
   "source": [
    "# define target features for different protocols\n",
    "targets = get_ecode_targets(ecodes_cell_timings)"
   ]
  },
  {
   "cell_type": "code",
   "execution_count": null,
   "id": "b57dfcee",
   "metadata": {},
   "outputs": [],
   "source": [
    "global_tolerance = 30\n",
    "for target in targets:\n",
    "    target[\"tolerance\"] = global_tolerance"
   ]
  },
  {
   "cell_type": "code",
   "execution_count": null,
   "id": "500c1afa",
   "metadata": {},
   "outputs": [],
   "source": [
    "if cell_name == \"cell1_211006_3148\":\n",
    "    majority = 0.4\n",
    "else:\n",
    "    majority = 0.2"
   ]
  },
  {
   "cell_type": "code",
   "execution_count": null,
   "id": "6467a09d",
   "metadata": {},
   "outputs": [],
   "source": [
    "compute_rheobase(\n",
    "    cells, \n",
    "    protocols_rheobase=['IDthres'],\n",
    "    rheobase_strategy=\"majority\",\n",
    "    rheobase_settings={\"majority\": majority}\n",
    ")"
   ]
  },
  {
   "cell_type": "code",
   "execution_count": null,
   "id": "747509b0",
   "metadata": {},
   "outputs": [],
   "source": [
    "print(f\"Cell rheobase: {cells[0].rheobase}\")"
   ]
  },
  {
   "cell_type": "code",
   "execution_count": null,
   "id": "0df92139",
   "metadata": {},
   "outputs": [],
   "source": [
    "protocols = group_efeatures(cells, targets, use_global_rheobase=True)"
   ]
  },
  {
   "cell_type": "code",
   "execution_count": null,
   "id": "8d8bc08e",
   "metadata": {},
   "outputs": [],
   "source": [
    "protocols_opt = list(eva_extra.fitness_protocols.keys())\n",
    "print(protocols_opt)"
   ]
  },
  {
   "cell_type": "code",
   "execution_count": null,
   "id": "7a166d89",
   "metadata": {},
   "outputs": [],
   "source": [
    "all_protocols = list(ecodes_cell_timings.keys())\n",
    "print(all_protocols)"
   ]
  },
  {
   "cell_type": "markdown",
   "id": "73b1302d",
   "metadata": {},
   "source": [
    "### Build BPO response dicts"
   ]
  },
  {
   "cell_type": "code",
   "execution_count": null,
   "id": "59b61551",
   "metadata": {},
   "outputs": [],
   "source": [
    "responses_experimental = []\n",
    "responses_all = []\n",
    "num_runs = len(protocols[0].recordings)\n",
    "for run in range(num_runs):\n",
    "    print(f\"Populating responses for run {run}\")\n",
    "    response_dict = {}\n",
    "    response_all_dict = {}\n",
    "    for protocol in protocols:\n",
    "        for i, rec in enumerate(protocol.recordings):\n",
    "            if i == run:\n",
    "                response = bpopt.ephys.responses.TimeVoltageResponse(name=protocol.name,\n",
    "                                                                     time=rec.t, voltage=rec.voltage)\n",
    "                response_all_dict[f\"{protocol.stimulus_name}.soma.v\"] = response\n",
    "                if protocol.stimulus_name in protocols_opt:\n",
    "                    response_dict[f\"{protocol.stimulus_name}.soma.v\"] = response\n",
    "    responses_experimental.append(response_dict)\n",
    "    responses_all.append(response_all_dict)"
   ]
  },
  {
   "cell_type": "code",
   "execution_count": null,
   "id": "7e4d8fb9",
   "metadata": {},
   "outputs": [],
   "source": [
    "responses_to_plot = [\"APWaveform_290\", \"IDrest_250\", \"firepattern_200\", \"sAHP_250\", \"PosCheops_300\"]\n",
    "titles = responses_to_plot"
   ]
  },
  {
   "cell_type": "code",
   "execution_count": null,
   "id": "26b36522",
   "metadata": {},
   "outputs": [],
   "source": [
    "fig_exp_sample = mf.plot_responses(responses_all[2], return_fig=True, \n",
    "                                   titles=titles, protocol_names=responses_to_plot,\n",
    "                                   color=\"k\")"
   ]
  },
  {
   "cell_type": "code",
   "execution_count": null,
   "id": "0c687397",
   "metadata": {},
   "outputs": [],
   "source": [
    "if save_fig:\n",
    "    fig_exp_sample.savefig(fig_folder / f\"fig6up_{cell_name}_sample_response.pdf\")\n",
    "    fig_exp_sample.savefig(fig_folder / f\"fig6up_{cell_name}_sample_response.png\", dpi=300)  "
   ]
  },
  {
   "cell_type": "code",
   "execution_count": null,
   "id": "59489e00",
   "metadata": {},
   "outputs": [],
   "source": [
    "eap_exp = np.load(model_folder / \"fitting\" / \"efeatures\" / \"template_BPO.npy\") / 1000"
   ]
  },
  {
   "cell_type": "code",
   "execution_count": null,
   "id": "b58c6cfd",
   "metadata": {},
   "outputs": [],
   "source": [
    "ax = mu.plot_mea_recording(eap_exp, probe)\n",
    "fig_exp_extra = ax.get_figure()"
   ]
  },
  {
   "cell_type": "code",
   "execution_count": null,
   "id": "69f47200",
   "metadata": {},
   "outputs": [],
   "source": [
    "vscale = np.max(np.abs(eap_exp))"
   ]
  },
  {
   "cell_type": "code",
   "execution_count": null,
   "id": "59df1656",
   "metadata": {},
   "outputs": [],
   "source": [
    "if save_fig:\n",
    "    fig_exp_intra.savefig(figure_folder / \"exp_intra.png\", dpi=300)\n",
    "    fig_exp_extra.savefig(figure_folder / \"exp_extra.png\", dpi=300)"
   ]
  },
  {
   "cell_type": "markdown",
   "id": "bb783473",
   "metadata": {},
   "source": [
    "# Retrieve and plot training performance"
   ]
  },
  {
   "cell_type": "code",
   "execution_count": null,
   "id": "38ef98b3",
   "metadata": {},
   "outputs": [],
   "source": [
    "selected_strategies = [\"soma\", \"all\"]\n",
    "\n",
    "opt_results_df_abd = opt_results_df.query(f\"abd == {abd}\")\n",
    "\n",
    "colors = [colors_dict[strat] for strat in selected_strategies]\n",
    "fig_intra_seeds, ax = plt.subplots(figsize=(4.5, 10.5))\n",
    "sns.boxplot(data=opt_results_df_abd, x=\"strategy\", y=\"intra_score\", \n",
    "            order=selected_strategies, showfliers=False,  ax=ax, palette=colors)\n",
    "ax.set_xlabel(\"Strategy\", fontsize=22)\n",
    "ax.set_ylabel(\"Score\", fontsize=22)\n",
    "ax.spines[\"top\"].set_visible(False)\n",
    "ax.spines[\"right\"].set_visible(False)\n",
    "ax.tick_params(axis='both', which='major', labelsize=18)\n",
    "ax.set_title(\"Intracellular\\n(10 seeds)\", fontsize=30)\n",
    "\n",
    "fig_extra_seeds, ax = plt.subplots(figsize=(4, 10))\n",
    "sns.boxplot(data=opt_results_df_abd, x=\"strategy\", y=\"extra_score\",\n",
    "            showfliers=True,  order=selected_strategies, palette=colors)\n",
    "ax.set_xlabel(\"Strategy\", fontsize=22)\n",
    "ax.set_ylabel(\"Score\", fontsize=22)\n",
    "ax.spines[\"top\"].set_visible(False)\n",
    "ax.spines[\"right\"].set_visible(False)\n",
    "ax.tick_params(axis='both', which='major', labelsize=18)\n",
    "ax.set_title(\"Extracellular\\n(10 seeds)\", fontsize=30)\n"
   ]
  },
  {
   "cell_type": "code",
   "execution_count": null,
   "id": "4159494a",
   "metadata": {},
   "outputs": [],
   "source": [
    "if save_fig:\n",
    "    fig_intra_seeds.savefig(fig_folder / f\"fig7A1_{cell_name}_intra.pdf\", \n",
    "                        transparent=True, bbox_inches=\"tight\")\n",
    "    fig_extra_seeds.savefig(fig_folder / f\"fig7A2_{cell_name}_extra.pdf\", \n",
    "                            transparent=True, bbox_inches=\"tight\")"
   ]
  },
  {
   "cell_type": "markdown",
   "id": "d4e7b0ff",
   "metadata": {},
   "source": [
    "## Compute validation responses for best solutions"
   ]
  },
  {
   "cell_type": "code",
   "execution_count": null,
   "id": "abba9b74",
   "metadata": {},
   "outputs": [],
   "source": [
    "# best responses are the solutions that minimize intra_scores\n",
    "best_intras = opt_results_df_abd.loc[opt_results_df_abd.groupby(\"strategy\")[\"intra_score\"].idxmin()]\n",
    "\n",
    "opt_results_best = {}\n",
    "for idx, row in best_intras.iterrows():\n",
    "\n",
    "    strategy = row[\"strategy\"]\n",
    "    seed = row[\"seed\"]\n",
    "    abd = row.abd\n",
    "    eap = row.eap\n",
    "\n",
    "    opt_results_best[strategy] = {}\n",
    "\n",
    "    print(\"Strategy\", strategy, \"best seed\", seed, \"abd\", abd)\n",
    "    responses = row[\"responses\"]\n",
    "    opt_results_best[strategy][\"best_seed\"] = row.seed\n",
    "    opt_results_best[strategy][\"best_responses\"] = row.responses\n",
    "    opt_results_best[strategy][\"best_eap\"] = row.eap\n",
    "    opt_results_best[strategy][\"best_params\"] = row.params\n",
    "    eap_exp_norm = eap_exp / np.ptp(np.abs(eap_exp), 1, keepdims=True)\n",
    "    eap_norm = eap / np.ptp(np.abs(eap), 1, keepdims=True)\n",
    "    eap_dist = np.sum(np.abs(eap_exp_norm.ravel() - eap_norm.ravel()))\n",
    "    opt_results_best[strategy][\"best_eap_dist\"] = eap_dist"
   ]
  },
  {
   "cell_type": "code",
   "execution_count": null,
   "id": "c8938a87",
   "metadata": {},
   "outputs": [],
   "source": [
    "best_responses_filename = result_folder / f\"best_responses_{model_name}.pkl\"\n",
    "with open(best_responses_filename, \"wb\") as f:\n",
    "    pickle.dump(opt_results_best, f)"
   ]
  },
  {
   "cell_type": "code",
   "execution_count": null,
   "id": "e342030f",
   "metadata": {},
   "outputs": [],
   "source": [
    "protocol_for_eap = \"firepattern_200\"\n",
    "protocols_to_exclude = [\"IV\", \"APWaveform\", \"IDrest\"]\n",
    "\n",
    "eva_extra_testing = mf.create_evaluator(\n",
    "    model_name=model_name,\n",
    "    strategy=\"all\",\n",
    "    protocols_with_lfp=protocol_for_eap,\n",
    "    all_protocols=True,\n",
    "    exclude_protocols=protocols_to_exclude,\n",
    "    **extra_kwargs\n",
    ")\n",
    "\n",
    "print(f\"All test features --> num features {len(eva_extra_testing.fitness_calculator.objectives)}\")"
   ]
  },
  {
   "cell_type": "code",
   "execution_count": null,
   "id": "e7722040",
   "metadata": {},
   "outputs": [],
   "source": [
    "val_responses_filename = result_folder / f\"validation_responses_{model_name}.pkl\"\n",
    "\n",
    "if val_responses_filename.exists():\n",
    "    opt_results_validation = pickle.load(open(val_responses_filename, \"rb\"))\n",
    "else:\n",
    "    opt_results_validation = {}\n",
    "\n",
    "    for strategy in selected_strategies:\n",
    "\n",
    "        print(f\"Simulating best '{strategy}' -- seed: {opt_results_best[strategy]['best_seed']}\")\n",
    "        t_start = time.time()\n",
    "        responses = eva_extra_testing.run_protocols(\n",
    "            eva_extra_testing.fitness_protocols.values(), \n",
    "            param_values=opt_results_best[strategy][\"best_params\"]\n",
    "        )\n",
    "        print(f\"Simulated responses in {np.round(time.time() - t_start, 2)} s\")\n",
    "\n",
    "        eap = mf.utils.calculate_eap(\n",
    "            responses=responses, protocols=eva_extra_testing.fitness_protocols,\n",
    "            protocol_name=protocol_for_eap, align_extra=True, **extra_kwargs)\n",
    "\n",
    "        opt_results_validation[strategy] = {\n",
    "            \"responses\": responses,\n",
    "            \"eap\": eap,\n",
    "            \"features\": eva_extra_testing.fitness_calculator.calculate_scores(responses),\n",
    "            \"params\": opt_results_best[strategy][\"best_params\"]\n",
    "        }\n",
    "    with open(val_responses_filename, \"wb\") as f:\n",
    "        pickle.dump(opt_results_validation, f)"
   ]
  },
  {
   "cell_type": "code",
   "execution_count": null,
   "id": "009b8cc3",
   "metadata": {},
   "outputs": [],
   "source": [
    "eap_exp = np.load(model_folder / \"fitting\" / \"efeatures\" / \"template_BPO.npy\") / 1000\n",
    "vscale = 0.8 * np.max(np.abs(eap_exp))\n",
    "\n",
    "fig_extra, ax_extra = plt.subplots(figsize=figsize)\n",
    "\n",
    "mf.plot_cell(\n",
    "    eva_extra.cell_model, eva_extra.sim,\n",
    "    color=\"gray\",\n",
    "    color_ais=\"g\",\n",
    "    color_axon=\"b\",\n",
    "    detailed=True,\n",
    "    param_values=opt_results_best[\"all\"][\"best_params\"],\n",
    "    ax=ax_extra, \n",
    "    exclude_sections=[\"soma\"],\n",
    "    alpha=0.5,\n",
    "    lw=0.5\n",
    ")\n",
    "ellipse = Ellipse(xy=(0, 0), width=30, height=30, \n",
    "                  edgecolor=\"grey\", color=\"grey\", lw=2)\n",
    "ax_extra.add_patch(ellipse)\n",
    "\n",
    "ax_extra = mu.plot_mea_recording(eap_exp, probe, vscale=vscale, lw=1, ax=ax_extra)\n",
    "ax_extra.get_lines()[-1].set_label(\"EXP\")\n",
    "\n",
    "ax_extra = mu.plot_mea_recording(opt_results_validation[\"soma\"][\"eap\"], probe, ax=ax_extra, vscale=vscale, \n",
    "                                 colors=colors_dict[\"soma\"], lw=1)\n",
    "ax_extra.get_lines()[-1].set_label(\"SOMA\")\n",
    "\n",
    "ax_extra = mu.plot_mea_recording(opt_results_validation[\"all\"][\"eap\"], probe, ax=ax_extra, vscale=vscale, \n",
    "                                 colors=colors_dict[\"all\"], lw=1)\n",
    "ax_extra.get_lines()[-1].set_label(\"ALL\")\n",
    "\n",
    "ax_extra.set_xlim(-110, 110)\n",
    "ax_extra.set_ylim(-80, 80)\n",
    "ax_extra.legend()"
   ]
  },
  {
   "cell_type": "code",
   "execution_count": null,
   "id": "ef96250e",
   "metadata": {},
   "outputs": [],
   "source": [
    "if save_fig:\n",
    "    fig_extra.savefig(fig_folder / f\"fig7bottom-center_{cell_name}_responses_extra.pdf\", \n",
    "                      transparent=True, bbox_inches=\"tight\")"
   ]
  },
  {
   "cell_type": "code",
   "execution_count": null,
   "id": "adb63730",
   "metadata": {},
   "outputs": [],
   "source": [
    "# make zoomed in\n",
    "el0 = [-50, 28, 0]\n",
    "el1 = [38, -38, 0]\n",
    "\n",
    "figs_zoom = []\n",
    "for el in [el0, el1]:\n",
    "    fig_zoom, axs = plt.subplots(nrows=2, figsize=(5, 10))\n",
    "    elec_idx = np.argmin([np.linalg.norm(el - p) for p in probe.positions])\n",
    "    axs[0].plot(eap_exp[elec_idx], color=\"k\")\n",
    "    axs[0].plot(opt_results_validation[\"soma\"][\"eap\"][elec_idx], color=colors_dict[\"soma\"])    \n",
    "    axs[1].plot(eap_exp[elec_idx], color=\"k\")    \n",
    "    axs[1].plot(opt_results_validation[\"all\"][\"eap\"][elec_idx], color=colors_dict[\"all\"])\n",
    "    for ax in axs:\n",
    "        ax.axis(\"off\")\n",
    "        ax.set_ylim(-0.2, 0.2)\n",
    "    figs_zoom.append(fig_zoom)"
   ]
  },
  {
   "cell_type": "code",
   "execution_count": null,
   "id": "e1c24c98",
   "metadata": {},
   "outputs": [],
   "source": [
    "if save_fig:\n",
    "    figs_zoom[0].savefig(fig_folder / f\"fig7bottom-left_{cell_name}_responses_extra.pdf\", \n",
    "                         transparent=True, bbox_inches=\"tight\")\n",
    "    figs_zoom[1].savefig(fig_folder / f\"fig7bottom-right_{cell_name}_responses_extra.pdf\", \n",
    "                         transparent=True, bbox_inches=\"tight\")"
   ]
  }
 ],
 "metadata": {
  "kernelspec": {
   "display_name": "Python 3 (ipykernel)",
   "language": "python",
   "name": "python3"
  },
  "language_info": {
   "codemirror_mode": {
    "name": "ipython",
    "version": 3
   },
   "file_extension": ".py",
   "mimetype": "text/x-python",
   "name": "python",
   "nbconvert_exporter": "python",
   "pygments_lexer": "ipython3",
   "version": "3.8.13"
  }
 },
 "nbformat": 4,
 "nbformat_minor": 5
}
