{
 "cells": [
  {
   "cell_type": "markdown",
   "id": "f278ad77",
   "metadata": {},
   "source": [
    "# 5) Distribution of optimized AP potentials\n",
    "\n",
    "This notebook evaluates qualitatively the distributions of membrane potentials and transmembrane currents of an action potential over the neuron morphology."
   ]
  },
  {
   "cell_type": "code",
   "execution_count": null,
   "id": "de6ec5c5",
   "metadata": {},
   "outputs": [],
   "source": [
    "import pickle\n",
    "import pandas as pd\n",
    "import seaborn as sns\n",
    "import sys\n",
    "import shutil\n",
    "\n",
    "import bluepyopt as bpopt\n",
    "import bluepyopt.ephys as ephys\n",
    "\n",
    "import matplotlib.pyplot as plt\n",
    "from matplotlib.patches import Ellipse\n",
    "\n",
    "from scipy.spatial import distance\n",
    "import MEAutility as mu\n",
    "import json\n",
    "import time\n",
    "import numpy as np\n",
    "from pathlib import Path\n",
    "\n",
    "import pandas as pd\n",
    "import seaborn as sns\n",
    "from scipy.spatial.distance import cosine\n",
    "\n",
    "import multimodalfitting as mf\n",
    "\n",
    "%matplotlib notebook"
   ]
  },
  {
   "cell_type": "code",
   "execution_count": null,
   "id": "e7463828",
   "metadata": {},
   "outputs": [],
   "source": [
    "base_path = Path(\"../../..\")"
   ]
  },
  {
   "cell_type": "code",
   "execution_count": null,
   "id": "22560f86",
   "metadata": {},
   "outputs": [],
   "source": [
    "abd = False"
   ]
  },
  {
   "cell_type": "code",
   "execution_count": null,
   "id": "4463cd8d",
   "metadata": {},
   "outputs": [],
   "source": [
    "colors_dict = {\"soma\": \"C0\",\n",
    "               \"all\": \"C1\",\n",
    "               \"sections\": \"C2\",\n",
    "               \"single\": \"C3\"}\n",
    "figsize = (10, 7)"
   ]
  },
  {
   "cell_type": "markdown",
   "id": "44d1c7cf",
   "metadata": {},
   "source": [
    "## Load results and define model"
   ]
  },
  {
   "cell_type": "code",
   "execution_count": null,
   "id": "e3415b31",
   "metadata": {},
   "outputs": [],
   "source": [
    "# general\n",
    "cell_name = \"cell1_211006_3148\" # \"cell1_211006_3148\" | \"cell1_211011_3436\"\n",
    "model_name = cell_name\n",
    "ephys_dir = base_path / \"experimental_data\" / cell_name / \"patch_data\"\n",
    "\n",
    "cell_models_folder = base_path / \"cell_models\"\n",
    "model_folder = cell_models_folder / cell_name"
   ]
  },
  {
   "cell_type": "code",
   "execution_count": null,
   "id": "a39b0303",
   "metadata": {},
   "outputs": [],
   "source": [
    "# change this with folder containing your pkl file\n",
    "results_date = '220429'  # '211124' '220111' # \n",
    "result_folder = base_path / \"results\" / results_date"
   ]
  },
  {
   "cell_type": "code",
   "execution_count": null,
   "id": "1ecb3296",
   "metadata": {},
   "outputs": [],
   "source": [
    "val_responses_filename = result_folder / f\"validation_responses_{model_name}.pkl\"\n",
    "with open(val_responses_filename, \"rb\") as f:\n",
    "    opt_results_validation = pickle.load(f)"
   ]
  },
  {
   "cell_type": "code",
   "execution_count": null,
   "id": "68db2c8c",
   "metadata": {},
   "outputs": [],
   "source": [
    "protocols_file = model_folder / \"fitting\" / \"efeatures\" / \"protocols_BPO_all.json\"\n",
    "features_file = model_folder / \"fitting\" / \"efeatures\" / \"features_BPO_all.json\"\n",
    "probe_file = model_folder / \"fitting\" / \"efeatures\" / \"probe_BPO.json\""
   ]
  },
  {
   "cell_type": "code",
   "execution_count": null,
   "id": "f8543b20",
   "metadata": {},
   "outputs": [],
   "source": [
    "cell = mf.create_experimental_model(model_name=model_name, release=False, abd=abd)\n",
    "cell_release = mf.create_experimental_model(model_name=model_name, release=True, abd=abd)\n",
    "\n",
    "probe = mf.define_electrode(probe_file=probe_file)\n",
    "\n",
    "param_names = [param.name for param in cell.params.values() if not param.frozen]\n",
    "\n",
    "params_release = {}\n",
    "for param in cell_release.params_by_names(param_names):\n",
    "    params_release[param.name] = param.value"
   ]
  },
  {
   "cell_type": "code",
   "execution_count": null,
   "id": "1d734edd",
   "metadata": {},
   "outputs": [],
   "source": [
    "protocol_for_eap = \"IDrest_300\""
   ]
  },
  {
   "cell_type": "code",
   "execution_count": null,
   "id": "a422adcd",
   "metadata": {},
   "outputs": [],
   "source": [
    "eap_exp = np.load(model_folder / \"fitting\" / \"efeatures\" / \"template_BPO.npy\") / 1000\n",
    "eap_soma =  opt_results_validation[\"soma\"][\"eap\"]\n",
    "eap_all =  opt_results_validation[\"all\"][\"eap\"]"
   ]
  },
  {
   "cell_type": "code",
   "execution_count": null,
   "id": "1d11dfce",
   "metadata": {},
   "outputs": [],
   "source": [
    "vscale = 0.8 * np.max(np.abs(eap_exp))"
   ]
  },
  {
   "cell_type": "markdown",
   "id": "c86bfa85",
   "metadata": {},
   "source": [
    "### Define more recording points "
   ]
  },
  {
   "cell_type": "code",
   "execution_count": null,
   "id": "b5e5cabf",
   "metadata": {},
   "outputs": [],
   "source": [
    "extra_kwargs = mf.utils.get_extra_kwargs()\n",
    "extra_kwargs[\"ms_cut\"] = [2, 5]"
   ]
  },
  {
   "cell_type": "code",
   "execution_count": null,
   "id": "ff1799e2",
   "metadata": {},
   "outputs": [],
   "source": [
    "eva_extra = mf.create_evaluator(\n",
    "    model_name=model_name,\n",
    "    strategy=\"all\",\n",
    "    all_protocols=True,\n",
    "    protocols_with_lfp=protocol_for_eap,\n",
    "    **extra_kwargs\n",
    ")"
   ]
  },
  {
   "cell_type": "code",
   "execution_count": null,
   "id": "f1fb1dfe",
   "metadata": {},
   "outputs": [],
   "source": [
    "fig_morph, ax_morph = plt.subplots(figsize=(10, 7))\n",
    "mf.plot_cell(eva_extra.cell_model, eva_extra.sim, param_values=params_release, color_ais=\"g\",\n",
    "             color_axon=\"b\", exclude_sections=[\"soma\"], detailed=True, ax=ax_morph)\n",
    "ellipse = Ellipse(xy=(0, 0), width=30, height=30, \n",
    "                  edgecolor=\"grey\", color=\"grey\", lw=2)\n",
    "ax_morph.add_patch(ellipse)\n",
    "\n",
    "\n",
    "ax_morph = mu.plot_mea_recording(eap_exp, probe, vscale=vscale, lw=1, ax=ax_morph)\n",
    "ax_morph.get_lines()[-1].set_label(\"EXP\")\n",
    "\n",
    "ax_morph = mu.plot_mea_recording(eap_soma, probe, ax=ax_morph, vscale=vscale, \n",
    "                                 colors=\"C0\", lw=1)\n",
    "ax_morph.get_lines()[-1].set_label(\"SOMA\")\n",
    "\n",
    "ax_morph = mu.plot_mea_recording(eap_all, probe, ax=ax_morph, vscale=vscale, \n",
    "                                 colors=\"C1\", lw=1)\n",
    "ax_morph.get_lines()[-1].set_label(\"ALL\")\n",
    "\n",
    "ax_morph.set_xlim(-110, 110)\n",
    "ax_morph.set_ylim(-80, 200)\n"
   ]
  },
  {
   "cell_type": "code",
   "execution_count": null,
   "id": "53ade14c",
   "metadata": {},
   "outputs": [],
   "source": [
    "ais_location = [24, -41, 0]\n",
    "basal_location = [-32, 53, 0]\n",
    "soma_location = [0, 0, 0]\n",
    "\n",
    "position_names = [\"soma\", \"basal\", \"ais\"]\n",
    "positions = [soma_location, basal_location, ais_location]\n",
    "\n",
    "best_params = opt_results_validation[\"soma\"][\"params\"]\n",
    "\n",
    "extra_recordings = mf.utils.extra_recordings_from_positions(eva_extra.cell_model, \n",
    "                                                            eva_extra.sim, params=best_params,\n",
    "                                                            position_names=position_names,\n",
    "                                                            positions=positions,\n",
    "                                                            with_currents=True)"
   ]
  },
  {
   "cell_type": "code",
   "execution_count": null,
   "id": "44bb9ea6",
   "metadata": {},
   "outputs": [],
   "source": [
    "colors_pos = {\n",
    "    \"soma\": \"C3\",\n",
    "    \"ais\": \"C4\",\n",
    "    \"basal\": \"C5\",\n",
    "}"
   ]
  },
  {
   "cell_type": "code",
   "execution_count": null,
   "id": "33f3f412",
   "metadata": {},
   "outputs": [],
   "source": [
    "for i, (pos_name, pos) in enumerate(zip(position_names, positions)):\n",
    "    pos_tip = np.array(pos[:2])\n",
    "    x = np.array([pos_tip, pos_tip + [50, 50], pos_tip + [48, 52]])\n",
    "    t = plt.Polygon(x, color=colors_pos[pos_name], label=pos_name)\n",
    "    ax_morph.add_patch(t)\n",
    "ax_morph.legend(fontsize=18)"
   ]
  },
  {
   "cell_type": "code",
   "execution_count": null,
   "id": "e36e58e4",
   "metadata": {},
   "outputs": [],
   "source": [
    "eva_extra = mf.create_evaluator(\n",
    "    model_name=model_name,\n",
    "    strategy=\"all\",\n",
    "    protocols_with_lfp=protocol_for_eap,\n",
    "    abd=abd,\n",
    "    extra_recordings={\"IDrest_250\": extra_recordings},\n",
    "    **extra_kwargs\n",
    ")"
   ]
  },
  {
   "cell_type": "code",
   "execution_count": null,
   "id": "8becf810",
   "metadata": {},
   "outputs": [],
   "source": [
    "responses_extra = eva_extra.run_protocol(eva_extra.fitness_protocols[\"IDrest_250\"], best_params)"
   ]
  },
  {
   "cell_type": "code",
   "execution_count": null,
   "id": "7d6e54b6",
   "metadata": {},
   "outputs": [],
   "source": [
    "responses_extra_cut = mf.utils.get_peak_cutout(responses_extra, ms_before=extra_kwargs[\"ms_cut\"][0], \n",
    "                                               ms_after=extra_kwargs[\"ms_cut\"][1], average=True)"
   ]
  },
  {
   "cell_type": "code",
   "execution_count": null,
   "id": "46615d90",
   "metadata": {},
   "outputs": [],
   "source": [
    "mf.plot_responses(responses_extra)"
   ]
  },
  {
   "cell_type": "code",
   "execution_count": null,
   "id": "134a04b0",
   "metadata": {},
   "outputs": [],
   "source": [
    "mf.plot_responses(responses_extra_cut)"
   ]
  },
  {
   "cell_type": "code",
   "execution_count": null,
   "id": "0eab09ef",
   "metadata": {},
   "outputs": [],
   "source": [
    "# Show that AP starts at AIS\n",
    "fig_v, ax_v = plt.subplots(figsize=(7, 7))\n",
    "\n",
    "v_ais = responses_extra_cut[\"IDrest_250.ais.v\"]\n",
    "v_soma = responses_extra_cut[\"IDrest_250.soma.v\"]\n",
    "\n",
    "\n",
    "ax_v.plot(v_soma[\"time\"], v_soma[\"voltage\"], colors_pos[\"soma\"], label=\"soma\", lw=2)\n",
    "ax_v.plot(v_ais[\"time\"], v_ais[\"voltage\"], colors_pos[\"ais\"], label=\"ais\", lw=2)\n",
    "\n",
    "ax_v.legend(fontsize=20)\n",
    "ax_v.set_ylabel(\"$V_m$ (mV)\", fontsize=20)\n",
    "ax_v.set_xlabel(\"time (ms)\", fontsize=20)\n",
    "ax_v.set_title(\"Cell1\", fontsize=25)\n",
    "\n",
    "ax_v.spines[\"top\"].set_visible(False)\n",
    "ax_v.spines[\"right\"].set_visible(False)"
   ]
  },
  {
   "cell_type": "code",
   "execution_count": null,
   "id": "200e1a8a",
   "metadata": {},
   "outputs": [],
   "source": [
    "# Show that AP starts at AIS\n",
    "fig_c, ax_c = plt.subplots(nrows=3, figsize=(10, 12))\n",
    "\n",
    "elec_idx_basal = np.argmin([np.linalg.norm(basal_location - p) for p in probe.positions])\n",
    "elec_idx_ais = np.argmin([np.linalg.norm(ais_location - p) for p in probe.positions])\n",
    "\n",
    "\n",
    "time_idxs = slice(20, 80)\n",
    "\n",
    "i_ais = responses_extra_cut[\"IDrest_250.ais.i_membrane\"][\"current\"]\n",
    "i_soma = responses_extra_cut[\"IDrest_250.soma.i_membrane\"][\"current\"]\n",
    "i_basal = responses_extra_cut[\"IDrest_250.basal.i_membrane\"][\"current\"]\n",
    "\n",
    "\n",
    "ax_c[0].plot(i_soma[time_idxs] / np.ptp(i_soma[time_idxs]), colors_pos[\"soma\"], label=\"soma\", lw=2)\n",
    "ax_c[0].plot(i_basal[time_idxs] / np.ptp(i_basal[time_idxs]), colors_pos[\"basal\"], label=\"basal\", lw=2)\n",
    "ax_c[0].plot(i_ais[time_idxs] / np.ptp(i_ais[time_idxs]), colors_pos[\"ais\"], label=\"ais\", lw=2)\n",
    "\n",
    "\n",
    "ax_c[1].plot(eap_exp[elec_idx_basal, time_idxs] / np.ptp(eap_exp[elec_idx_basal, time_idxs]), \n",
    "             color=\"k\", label=\"exp\")\n",
    "ax_c[1].plot(eap_soma[elec_idx_basal, time_idxs] / np.ptp(eap_soma[elec_idx_basal, time_idxs]), \n",
    "             color=\"C0\", label=\"soma\")\n",
    "ax_c[1].plot(eap_all[elec_idx_basal, time_idxs] / np.ptp(eap_all[elec_idx_basal, time_idxs]), \n",
    "             color=\"C1\", label=\"all\")\n",
    "\n",
    "\n",
    "ax_c[2].plot(eap_exp[elec_idx_ais, time_idxs] / np.ptp(eap_exp[elec_idx_ais, time_idxs]), \n",
    "             color=\"k\", label=\"exp\")\n",
    "ax_c[2].plot(eap_soma[elec_idx_ais, time_idxs] / np.ptp(eap_soma[elec_idx_ais, time_idxs]), \n",
    "             color=\"C0\", label=\"soma\")\n",
    "ax_c[2].plot(eap_all[elec_idx_ais, time_idxs] / np.ptp(eap_all[elec_idx_ais, time_idxs]), \n",
    "             color=\"C1\", label=\"all\")\n",
    "\n",
    "\n",
    "ax_c[0].legend(fontsize=20)\n",
    "ax_c[0].set_ylabel(\"a.u.\", fontsize=20)\n",
    "ax_c[0].set_title(\"$I_m$ (model)\", fontsize=20)\n",
    "\n",
    "ax_c[1].legend(fontsize=20)\n",
    "ax_c[1].set_ylabel(\"a.u.\", fontsize=20)\n",
    "ax_c[1].set_title(\"$V_{ext}$ (basal)\", fontsize=20)\n",
    "\n",
    "ax_c[2].set_title(\"$V_{ext}$ (ais)\", fontsize=20)\n",
    "ax_c[2].set_ylabel(\"a.u.\", fontsize=20)\n",
    "ax_c[2].set_xlabel(\"time (ms)\", fontsize=20)\n",
    "\n",
    "for ax in ax_c.flatten():\n",
    "    ax.spines[\"top\"].set_visible(False)\n",
    "    ax.spines[\"right\"].set_visible(False)\n",
    "\n",
    "fig_c.subplots_adjust(hspace=0.3)"
   ]
  },
  {
   "cell_type": "code",
   "execution_count": null,
   "id": "b917421d",
   "metadata": {},
   "outputs": [],
   "source": [
    "# save fig\n",
    "save_fig = True\n",
    "fig_folder = Path(\"../../figures\")\n",
    "\n",
    "if save_fig:\n",
    "    fig_folder.mkdir(exist_ok=True)"
   ]
  },
  {
   "cell_type": "code",
   "execution_count": null,
   "id": "02767cf9",
   "metadata": {},
   "outputs": [],
   "source": [
    "fig_morph.savefig(fig_folder / f\"figS2_{model_name}-extra-rec.pdf\")\n",
    "fig_v.savefig(fig_folder / f\"figS3_{model_name}-AP.pdf\")\n",
    "fig_c.savefig(fig_folder / f\"figS4_{model_name}-Im-contrib.pdf\")"
   ]
  },
  {
   "cell_type": "code",
   "execution_count": null,
   "id": "93a1ea9a",
   "metadata": {},
   "outputs": [],
   "source": []
  }
 ],
 "metadata": {
  "kernelspec": {
   "display_name": "Python 3 (ipykernel)",
   "language": "python",
   "name": "python3"
  },
  "language_info": {
   "codemirror_mode": {
    "name": "ipython",
    "version": 3
   },
   "file_extension": ".py",
   "mimetype": "text/x-python",
   "name": "python",
   "nbconvert_exporter": "python",
   "pygments_lexer": "ipython3",
   "version": "3.8.13"
  }
 },
 "nbformat": 4,
 "nbformat_minor": 5
}
