{
 "cells": [
  {
   "cell_type": "markdown",
   "id": "2802976d",
   "metadata": {},
   "source": [
    "# 3) Analyze and evaluate optimization output - EXPERIMENTAL\n",
    "\n",
    "This final notebook uses the `runs.pkl` file created in notebook 2 and it analyzes:\n",
    "\n",
    "- the distance between different feature sets in the parameter space\n",
    "- the distance between different feature sets in the feature space\n",
    "- the distance between different feature sets in the extracellular signals"
   ]
  },
  {
   "cell_type": "code",
   "execution_count": null,
   "id": "0100d836",
   "metadata": {},
   "outputs": [],
   "source": [
    "import pickle\n",
    "import pandas as pd\n",
    "import seaborn as sns\n",
    "import sys\n",
    "import shutil\n",
    "\n",
    "import bluepyopt as bpopt\n",
    "import bluepyopt.ephys as ephys\n",
    "\n",
    "import matplotlib.pyplot as plt\n",
    "from scipy.spatial import distance\n",
    "import MEAutility as mu\n",
    "import json\n",
    "import time\n",
    "import numpy as np\n",
    "from pathlib import Path\n",
    "from pprint import pprint\n",
    "\n",
    "import multimodalfitting as mf\n",
    "\n",
    "%matplotlib notebook"
   ]
  },
  {
   "cell_type": "code",
   "execution_count": null,
   "id": "2b4e9ef0",
   "metadata": {},
   "outputs": [],
   "source": [
    "# general\n",
    "base_folder =Path(\"../..\")\n",
    "model_name = \"experimental\"\n",
    "data_folder = Path(\".\") / \"data_test\"\n",
    "ephys_dir = base_folder / \"data_210916\" / \"experimental\" / \"cell1_210301\" / \"patch_data\"\n",
    "\n",
    "cell_models_folder = base_folder/ \"cell_models\"\n",
    "model_folder = cell_models_folder / f\"{model_name}_model\""
   ]
  },
  {
   "cell_type": "code",
   "execution_count": null,
   "id": "a9473fa3",
   "metadata": {},
   "outputs": [],
   "source": [
    "morphology_file = model_folder / \"morphology_corrected.swc\""
   ]
  },
  {
   "cell_type": "code",
   "execution_count": null,
   "id": "ed7cb463",
   "metadata": {},
   "outputs": [],
   "source": [
    "result_folder = base_folder / \"results\" / '240821'"
   ]
  },
  {
   "cell_type": "markdown",
   "id": "7f3462e3",
   "metadata": {},
   "source": [
    "# Define cell model and load optimization output"
   ]
  },
  {
   "cell_type": "code",
   "execution_count": null,
   "id": "566dfb7c",
   "metadata": {},
   "outputs": [],
   "source": [
    "cell = mf.create_experimental_model(morphology_file=morphology_file,\n",
    "                                    cell_model_folder=model_folder)\n",
    "probe = mf.define_electrode(probe_file=data_folder / \"efeatures\" / \"probe_BPO.json\")\n",
    "param_names = [param.name for param in cell.params.values() if not param.frozen]\n",
    "sim = ephys.simulators.LFPySimulator(cell, cvode_active=True, electrode=probe, mechs_folders=model_folder)"
   ]
  },
  {
   "cell_type": "code",
   "execution_count": null,
   "id": "f3669851",
   "metadata": {},
   "outputs": [],
   "source": [
    "pkl_file_name = \"experimental_runs.pkl\""
   ]
  },
  {
   "cell_type": "code",
   "execution_count": null,
   "id": "cf1a954f",
   "metadata": {},
   "outputs": [],
   "source": [
    "data = pickle.load(open(result_folder / pkl_file_name, 'rb'))\n",
    "df_optimization = pd.DataFrame(data)\n",
    "df_model = df_optimization.query(f\"model == '{model_name}'\")"
   ]
  },
  {
   "cell_type": "code",
   "execution_count": null,
   "id": "5e681fe5",
   "metadata": {},
   "outputs": [],
   "source": [
    "opt_soma = df_model.query(\"feature_set == 'soma'\")\n",
    "opt_extra = df_model.query(\"feature_set == 'extra'\")\n",
    "print(f\"Somatic optimizations: {len(opt_soma)}\")\n",
    "print(f\"Extra optimizations: {len(opt_extra)}\")"
   ]
  },
  {
   "cell_type": "code",
   "execution_count": null,
   "id": "2367846e",
   "metadata": {},
   "outputs": [],
   "source": [
    "fig, ax = plt.subplots()\n",
    "for idx, row in opt_soma.iterrows():\n",
    "    ax.plot(row[\"nevals\"], \n",
    "            row[\"logbook\"].select(\"min\"),\n",
    "            color=\"C0\",\n",
    "            ls='--', \n",
    "            lw=0.5,\n",
    "            alpha=0.75)\n",
    "for idx, row in opt_extra.iterrows():\n",
    "    ax.plot(row[\"nevals\"], \n",
    "            row[\"logbook\"].select(\"min\"),\n",
    "            color=\"C1\",\n",
    "            ls='--', \n",
    "            lw=0.5,\n",
    "            alpha=0.75)\n",
    "    \n",
    "ax.set_title(\"Min fitness\")\n",
    "ax.spines[\"top\"].set_visible(False)\n",
    "ax.spines[\"right\"].set_visible(False)\n",
    "ax.set_xlabel(\"Neval\")\n",
    "ax.set_ylabel(\"Min fitness\")"
   ]
  },
  {
   "cell_type": "markdown",
   "id": "f82df2d2",
   "metadata": {},
   "source": [
    "# Load protocols and experimental features"
   ]
  },
  {
   "cell_type": "code",
   "execution_count": null,
   "id": "0fa538b5",
   "metadata": {},
   "outputs": [],
   "source": [
    "protocols_file = data_folder / \"efeatures\" / \"protocols_BPO_all.json\"\n",
    "feature_file = data_folder / \"efeatures\" / \"features_BPO_all.json\"\n",
    "all_protocols_file = data_folder / \"efeatures\" / \"protocols.json\"\n",
    "all_feature_file = data_folder / \"efeatures\" / \"features.json\"\n",
    "probe_file = data_folder / \"efeatures\" / \"probe_BPO.json\""
   ]
  },
  {
   "cell_type": "code",
   "execution_count": null,
   "id": "2f7db931",
   "metadata": {},
   "outputs": [],
   "source": [
    "extra_kwargs = dict(fs=20,\n",
    "                    fcut=[300, 6000],\n",
    "                    filt_type=\"filtfilt\",\n",
    "                    ms_cut=[2, 5]) # use 2-5 to match exp"
   ]
  },
  {
   "cell_type": "code",
   "execution_count": null,
   "id": "30972ccb",
   "metadata": {},
   "outputs": [],
   "source": [
    "protocol_for_eap = \"IDrest_300\""
   ]
  },
  {
   "cell_type": "code",
   "execution_count": null,
   "id": "cfd8b2f8",
   "metadata": {},
   "outputs": [],
   "source": [
    "eva_extra = mf.create_evaluator(\n",
    "    model_name=model_name,\n",
    "    cell_model_folder=model_folder,\n",
    "    feature_set=\"extra\",\n",
    "    feature_file=feature_file,\n",
    "    protocol_file=protocols_file,\n",
    "    probe_file=probe_file,\n",
    "    protocols_with_lfp=protocol_for_eap,\n",
    "    morphology_file=morphology_file,\n",
    "    v_init=-70,\n",
    "    **extra_kwargs\n",
    ")"
   ]
  },
  {
   "cell_type": "code",
   "execution_count": null,
   "id": "febcdbe5",
   "metadata": {},
   "outputs": [],
   "source": [
    "protocols_opt = list(eva_extra.fitness_protocols.keys())"
   ]
  },
  {
   "cell_type": "code",
   "execution_count": null,
   "id": "5c7aa826",
   "metadata": {},
   "outputs": [],
   "source": [
    "protocols_opt"
   ]
  },
  {
   "cell_type": "markdown",
   "id": "4129411f",
   "metadata": {},
   "source": [
    "## Load experimental responses"
   ]
  },
  {
   "cell_type": "code",
   "execution_count": null,
   "id": "c2ff2ac2",
   "metadata": {},
   "outputs": [],
   "source": [
    "from bluepyefe.extract import read_recordings, extract_efeatures_at_targets, compute_rheobase,\\\n",
    "    group_efeatures, create_feature_protocol_files, convert_legacy_targets\n",
    "from bluepyefe.plotting import plot_all_recordings_efeatures\n",
    "\n",
    "from multimodalfitting.efeatures_extraction import build_wcp_metadata, wcp_reader, get_ecode_targets, \\\n",
    "    ecodes_wcp_timings"
   ]
  },
  {
   "cell_type": "code",
   "execution_count": null,
   "id": "42c94946",
   "metadata": {},
   "outputs": [],
   "source": [
    "runs = [2, 3, 4]  # run1 --> different rheobase\n",
    "\n",
    "ecode_to_index = {\n",
    "    \"IDthres\": 0,\n",
    "    \"firepattern\": 1,\n",
    "    \"IV\": 2,\n",
    "    \"IDrest\": 3,\n",
    "    \"APWaveform\": 4,\n",
    "    \"HyperDepol\": 5,\n",
    "    \"sAHP\": 6,\n",
    "    \"PosCheops\": 7\n",
    "}\n",
    "\n",
    "files_list = []\n",
    "\n",
    "for run in runs:\n",
    "    rep_dict = {}\n",
    "    for ecode in ecode_to_index:\n",
    "        rep_dict[ecode] = Path(ephys_dir) / f\"cell1_run{run}.{ecode_to_index[ecode]}.wcp\"\n",
    "    files_list.append(rep_dict)"
   ]
  },
  {
   "cell_type": "code",
   "execution_count": null,
   "id": "ba8b8787",
   "metadata": {},
   "outputs": [],
   "source": [
    "# define timings for this experiment\n",
    "ecodes_cell1_timings = {\n",
    "    \"IDthres\": {\n",
    "        'ton': 200,\n",
    "        'toff': 470\n",
    "    },\n",
    "    \"firepattern\": {\n",
    "        'ton': 500,\n",
    "        'toff': 4100\n",
    "    },\n",
    "    \"IV\": {\n",
    "        'ton': 250,\n",
    "        'toff': 3250\n",
    "    },\n",
    "    \"IDrest\": {\n",
    "        'ton': 200,\n",
    "        'toff': 1550\n",
    "    },\n",
    "    \"APWaveform\": {\n",
    "        'ton': 150,\n",
    "        'toff': 200\n",
    "    },\n",
    "    \"HyperDepol\": {\n",
    "        'ton': 200,\n",
    "        'toff': 920,\n",
    "        'tmid': 650\n",
    "    },\n",
    "    \"sAHP\": {\n",
    "        'ton': 200,\n",
    "        'toff': 1125,\n",
    "        'tmid': 450,\n",
    "        'tmid2': 675\n",
    "    },\n",
    "    \"PosCheops\": {\n",
    "        'ton': 1000,\n",
    "        't1': 9000,\n",
    "        't2': 10500,\n",
    "        't3': 14500,\n",
    "        't4': 16000,\n",
    "        'toff': 18660\n",
    "    }\n",
    "}"
   ]
  },
  {
   "cell_type": "code",
   "execution_count": null,
   "id": "57b66586",
   "metadata": {},
   "outputs": [],
   "source": [
    "files_metadata = build_wcp_metadata(cell_id=\"cell1_010321\", files_list=files_list, \n",
    "                                    ecode_timings=ecodes_cell1_timings, \n",
    "                                    repetition_as_different_cells=False)\n",
    "pprint(files_metadata[\"cell1_010321\"])"
   ]
  },
  {
   "cell_type": "code",
   "execution_count": null,
   "id": "70cdd173",
   "metadata": {},
   "outputs": [],
   "source": [
    "cells = read_recordings(\n",
    "    files_metadata=files_metadata,\n",
    "    recording_reader=wcp_reader\n",
    ")"
   ]
  },
  {
   "cell_type": "code",
   "execution_count": null,
   "id": "adb19a1c",
   "metadata": {},
   "outputs": [],
   "source": [
    "# define target features for different protocols\n",
    "targets = get_ecode_targets(ecodes_cell1_timings)\n",
    "\n",
    "targets[\"firepattern\"][\"tolerances\"] = [20, 40]\n",
    "targets[\"IDrest\"][\"tolerances\"] = [20]\n",
    "targets[\"PosCheops\"][\"tolerances\"] = [50]\n",
    "targets[\"HyperDepol\"][\"tolerances\"] = [30]\n",
    "targets[\"APWaveform\"][\"tolerances\"] = [40]\n",
    "targets[\"sAHP\"][\"tolerances\"] = [40]\n",
    "\n",
    "targets = convert_legacy_targets(targets)"
   ]
  },
  {
   "cell_type": "code",
   "execution_count": null,
   "id": "6467a09d",
   "metadata": {},
   "outputs": [],
   "source": [
    "compute_rheobase(\n",
    "    cells, \n",
    "    protocols_rheobase=['IDthres']\n",
    ")"
   ]
  },
  {
   "cell_type": "code",
   "execution_count": null,
   "id": "747509b0",
   "metadata": {},
   "outputs": [],
   "source": [
    "print(f\"Cell rheobase: {cells[0].rheobase}\")"
   ]
  },
  {
   "cell_type": "code",
   "execution_count": null,
   "id": "0df92139",
   "metadata": {},
   "outputs": [],
   "source": [
    "protocols = group_efeatures(cells, targets, use_global_rheobase=True)"
   ]
  },
  {
   "cell_type": "markdown",
   "id": "73b1302d",
   "metadata": {},
   "source": [
    "### Build BPO response dicts"
   ]
  },
  {
   "cell_type": "code",
   "execution_count": null,
   "id": "59b61551",
   "metadata": {},
   "outputs": [],
   "source": [
    "responses_experimental = []\n",
    "num_runs = len(protocols[0].recordings)\n",
    "for run in range(num_runs):\n",
    "    print(f\"Populating responses for run {run}\")\n",
    "    response_dict = {}\n",
    "    for protocol in protocols:\n",
    "        for i, rec in enumerate(protocol.recordings):\n",
    "            if i == run:\n",
    "                if protocol.stimulus_name in protocols_opt:\n",
    "                    response = bpopt.ephys.responses.TimeVoltageResponse(name=protocol.name,\n",
    "                                                                         time=rec.t, voltage=rec.voltage)\n",
    "                    response_dict[f\"{protocol.stimulus_name}.soma.v\"] = response\n",
    "    responses_experimental.append(response_dict)"
   ]
  },
  {
   "cell_type": "code",
   "execution_count": null,
   "id": "f2470c60",
   "metadata": {},
   "outputs": [],
   "source": [
    "response_dict"
   ]
  },
  {
   "cell_type": "code",
   "execution_count": null,
   "id": "c7c81594",
   "metadata": {},
   "outputs": [],
   "source": [
    "mf.plot_multiple_responses(responses_experimental, max_rows=3)"
   ]
  },
  {
   "cell_type": "code",
   "execution_count": null,
   "id": "59489e00",
   "metadata": {},
   "outputs": [],
   "source": [
    "eap_exp = np.load(data_folder / \"efeatures\" / \"template_BPO.npy\") / 1000"
   ]
  },
  {
   "cell_type": "code",
   "execution_count": null,
   "id": "b58c6cfd",
   "metadata": {},
   "outputs": [],
   "source": [
    "ax = mu.plot_mea_recording(eap_exp, probe)"
   ]
  },
  {
   "cell_type": "markdown",
   "id": "9c049ffe",
   "metadata": {},
   "source": [
    "## \"soma\" example"
   ]
  },
  {
   "cell_type": "code",
   "execution_count": null,
   "id": "62f91db4",
   "metadata": {},
   "outputs": [],
   "source": [
    "params_sample_soma = opt_soma.iloc[0]\n",
    "params_sample_soma_dict = {k: v for k, v in zip(param_names, params_sample_soma.best_params)}\n",
    "display(params_sample_soma)"
   ]
  },
  {
   "cell_type": "code",
   "execution_count": null,
   "id": "ee6b4900",
   "metadata": {},
   "outputs": [],
   "source": [
    "response_soma = eva_extra.run_protocols(eva_extra.fitness_protocols.values(), param_values=params_sample_soma_dict)"
   ]
  },
  {
   "cell_type": "code",
   "execution_count": null,
   "id": "004f8741",
   "metadata": {},
   "outputs": [],
   "source": [
    "eap_soma = mf.utils.calculate_eap(responses=response_soma, protocols=eva_extra.fitness_protocols, \n",
    "                                  protocol_name=protocol_for_eap, **extra_kwargs)"
   ]
  },
  {
   "cell_type": "code",
   "execution_count": null,
   "id": "4c0815c2",
   "metadata": {},
   "outputs": [],
   "source": [
    "mf.plot_multiple_responses([responses_experimental[0], response_soma], colors=[\"k\", \"C0\"])"
   ]
  },
  {
   "cell_type": "code",
   "execution_count": null,
   "id": "dd974a33",
   "metadata": {},
   "outputs": [],
   "source": [
    "# plot extracellular\n",
    "vscale = 1 * np.max(np.abs(eap_exp))\n",
    "ax_soma = mu.plot_mea_recording(eap_exp, probe, vscale=vscale, lw=1)\n",
    "ax_soma = mu.plot_mea_recording(eap_soma, probe, ax=ax_soma, vscale=vscale, colors=\"C0\", lw=1)"
   ]
  },
  {
   "cell_type": "code",
   "execution_count": null,
   "id": "957607fc",
   "metadata": {},
   "outputs": [],
   "source": [
    "eap_dist_soma = distance.cosine(eap_exp.ravel(), eap_soma.ravel())"
   ]
  },
  {
   "cell_type": "markdown",
   "id": "362fa12f",
   "metadata": {},
   "source": [
    "## \"extra\" example"
   ]
  },
  {
   "cell_type": "code",
   "execution_count": null,
   "id": "9ebd984d",
   "metadata": {},
   "outputs": [],
   "source": [
    "params_sample_extra = opt_extra.iloc[1]\n",
    "params_sample_extra_dict = {k: v for k, v in zip(param_names, params_sample_extra.best_params)}\n",
    "display(params_sample_extra)"
   ]
  },
  {
   "cell_type": "code",
   "execution_count": null,
   "id": "070d2007",
   "metadata": {},
   "outputs": [],
   "source": [
    "response_extra = eva_extra.run_protocols(eva_extra.fitness_protocols.values(), param_values=params_sample_extra_dict)"
   ]
  },
  {
   "cell_type": "code",
   "execution_count": null,
   "id": "da0df2fe",
   "metadata": {},
   "outputs": [],
   "source": [
    "eap_extra = mf.utils.calculate_eap(responses=response_extra, protocols=eva_extra.fitness_protocols, \n",
    "                                protocol_name=protocol_for_eap, **extra_kwargs)"
   ]
  },
  {
   "cell_type": "code",
   "execution_count": null,
   "id": "8e17aa91",
   "metadata": {},
   "outputs": [],
   "source": [
    "mf.plot_multiple_responses([responses_experimental[0], response_extra], colors=[\"k\", \"C1\"])"
   ]
  },
  {
   "cell_type": "code",
   "execution_count": null,
   "id": "a7c7c53a",
   "metadata": {},
   "outputs": [],
   "source": [
    "# plot extracellular\n",
    "vscale = 1 * np.max(np.abs(eap_exp))\n",
    "ax_extra = mu.plot_mea_recording(eap_exp, probe, vscale=vscale, lw=2)\n",
    "ax_extra = mu.plot_mea_recording(eap_extra, probe, ax=ax_extra, vscale=vscale, colors=\"C1\", lw=2)"
   ]
  },
  {
   "cell_type": "code",
   "execution_count": null,
   "id": "3fc1626d",
   "metadata": {},
   "outputs": [],
   "source": [
    "eap_dist_extra = distance.cosine(eap_exp.ravel(), eap_extra.ravel())"
   ]
  },
  {
   "cell_type": "code",
   "execution_count": null,
   "id": "ce5419db",
   "metadata": {},
   "outputs": [],
   "source": [
    "print(eap_dist_soma, eap_dist_extra)"
   ]
  },
  {
   "cell_type": "markdown",
   "id": "3ceb6da1",
   "metadata": {},
   "source": [
    "## Run protocols and compute features for all tested models\n"
   ]
  },
  {
   "cell_type": "code",
   "execution_count": null,
   "id": "48935452",
   "metadata": {},
   "outputs": [],
   "source": [
    "feats_soma = []\n",
    "eaps_soma = []\n",
    "params_soma = []\n",
    "responses_soma = []\n",
    "\n",
    "print(\"SOMA\")\n",
    "for i, (index, opt) in enumerate(opt_soma.iterrows()):\n",
    "    print(f\"Computing {i + 1} / {len(opt_soma)}\")\n",
    "    # get best params\n",
    "    params_dict = {k: v for k, v in zip(param_names, opt.best_params)}\n",
    "    params_soma.append(params_dict)\n",
    "    \n",
    "    # run protocols\n",
    "    responses = eva_extra.run_protocols(eva_extra.fitness_protocols.values(), \n",
    "                                        param_values=params_dict) \n",
    "    responses_soma.append(responses)\n",
    "    try:\n",
    "        eap = mf.utils.calculate_eap(responses=responses, protocols=eva_extra.fitness_protocols, \n",
    "                                  protocol_name=protocol_for_eap, **extra_kwargs)\n",
    "    except:\n",
    "        eap = np.zeros(eaps_soma[-1].shape)\n",
    "    feat_dict = {}\n",
    "    for obj in eva_extra.fitness_calculator.objectives:\n",
    "        feat_dict[obj.features[0].name] = {}\n",
    "        if len(obj.features) == 1:\n",
    "            feat_value = obj.features[0].calculate_feature(responses)\n",
    "            feat_score = obj.features[0].calculate_score(responses)\n",
    "            feat_dict[obj.features[0].name][\"value\"] = feat_value\n",
    "            feat_dict[obj.features[0].name][\"score\"] = feat_score\n",
    "        else:\n",
    "            print(f\"More than one feature for objective: {obj.name}\")\n",
    "            \n",
    "    feats_soma.append(feat_dict)\n",
    "    eaps_soma.append(eap)\n",
    "    \n",
    "print(\"EXTRA\")\n",
    "feats_extra = []\n",
    "eaps_extra = []\n",
    "params_extra = []\n",
    "responses_extra = []\n",
    "\n",
    "for i, (index, opt) in enumerate(opt_extra.iterrows()):\n",
    "    print(f\"Computing {i + 1} / {len(opt_soma)}\")\n",
    "    # get best params\n",
    "    params_dict = {k: v for k, v in zip(param_names, opt.best_params)}\n",
    "    params_extra.append(params_dict)\n",
    "    \n",
    "    # run protocols\n",
    "    responses = eva_extra.run_protocols(eva_extra.fitness_protocols.values(), \n",
    "                                        param_values=params_dict)  \n",
    "    responses_extra.append(responses)\n",
    "    try:\n",
    "        eap = mf.utils.calculate_eap(responses=responses, protocols=eva_extra.fitness_protocols, \n",
    "                                  protocol_name=protocol_for_eap, **extra_kwargs)\n",
    "    except:\n",
    "        eap = np.zeros(eaps_extra[-1].shape)\n",
    "        \n",
    "    feat_dict = {}\n",
    "    for obj in eva_extra.fitness_calculator.objectives:\n",
    "        feat_dict[obj.features[0].name] = {}\n",
    "        if len(obj.features) == 1:\n",
    "            feat_value = obj.features[0].calculate_feature(responses)\n",
    "            feat_score = obj.features[0].calculate_score(responses)\n",
    "            feat_dict[obj.features[0].name][\"value\"] = feat_value\n",
    "            feat_dict[obj.features[0].name][\"score\"] = feat_score\n",
    "        else:\n",
    "            print(f\"More than one feature for objective: {obj.name}\")\n",
    "            \n",
    "    feats_extra.append(feat_dict)\n",
    "    eaps_extra.append(eap)"
   ]
  },
  {
   "cell_type": "code",
   "execution_count": null,
   "id": "60ddd331",
   "metadata": {},
   "outputs": [],
   "source": [
    "feature_set_array = []\n",
    "seed_array = []\n",
    "feature_name_array = []\n",
    "feature_value_array = []\n",
    "feature_score_array = []\n",
    "feature_type_array = []\n",
    "\n",
    "for i, feats in enumerate(feats_soma):\n",
    "    for feat_name, feat_dict in feats.items():\n",
    "        feature_set_array.append(\"soma\")\n",
    "        seed_array.append(i)\n",
    "        feature_name_array.append(feat_name)\n",
    "        if \"MEA\" not in feat_name:\n",
    "            feature_type_array.append(\"soma\")\n",
    "            feature_value_array.append(feat_dict[\"value\"])\n",
    "        else:\n",
    "            feature_type_array.append(\"MEA\")\n",
    "            feature_value_array.append(np.nan)\n",
    "        feature_score_array.append(feat_dict[\"score\"])\n",
    "    \n",
    "for i, feats in enumerate(feats_extra):\n",
    "    for feat_name, feat_dict in feats.items():\n",
    "        feature_set_array.append(\"extra\")\n",
    "        seed_array.append(i)\n",
    "        feature_name_array.append(feat_name)\n",
    "        if \"MEA\" not in feat_name:\n",
    "            feature_type_array.append(\"soma\")\n",
    "            feature_value_array.append(feat_dict[\"value\"])\n",
    "        else:\n",
    "            feature_type_array.append(\"MEA\")\n",
    "            feature_value_array.append(np.nan)\n",
    "        feature_score_array.append(feat_dict[\"score\"])\n",
    "    \n",
    "df_feats = pd.DataFrame({\"seed\": seed_array, \"feature_set\": feature_set_array, \"feat_name\": feature_name_array,\n",
    "                         \"feat_value\": feature_value_array, \"feat_score\": feature_score_array,\n",
    "                         \"feat_type\": feature_type_array})"
   ]
  },
  {
   "cell_type": "code",
   "execution_count": null,
   "id": "6ecaa634",
   "metadata": {},
   "outputs": [],
   "source": [
    "df_feats"
   ]
  },
  {
   "cell_type": "code",
   "execution_count": null,
   "id": "6fffe22b",
   "metadata": {},
   "outputs": [],
   "source": [
    "plt.figure()\n",
    "sns.barplot(data=df_feats, x=\"feature_set\", y=\"feat_score\")"
   ]
  },
  {
   "cell_type": "code",
   "execution_count": null,
   "id": "85213931",
   "metadata": {},
   "outputs": [],
   "source": [
    "fig = plt.figure()\n",
    "ax = sns.barplot(data=df_feats.query(\"feat_type == 'MEA'\"), \n",
    "            y=\"feat_name\", x=\"feat_score\", hue=\"feature_set\")\n",
    "sns.despine(left=True, bottom=True)\n",
    "fig.subplots_adjust(left=0.4)"
   ]
  },
  {
   "cell_type": "code",
   "execution_count": null,
   "id": "3d534494",
   "metadata": {},
   "outputs": [],
   "source": [
    "fig = plt.figure()\n",
    "sns.barplot(data=df_feats.query(\"feat_type == 'soma'\"), \n",
    "            y=\"feat_name\", x=\"feat_score\", hue=\"feature_set\")\n",
    "sns.despine(left=True, bottom=True)\n",
    "fig.subplots_adjust(left=0.4)"
   ]
  },
  {
   "cell_type": "markdown",
   "id": "cb7e1bb2",
   "metadata": {},
   "source": [
    "## Compare EAP distances"
   ]
  },
  {
   "cell_type": "code",
   "execution_count": null,
   "id": "b007e16e",
   "metadata": {},
   "outputs": [],
   "source": [
    "feature_set_array = []\n",
    "seed_array = []\n",
    "eap_dist_array = []\n",
    "\n",
    "for i, eap in enumerate(eaps_soma):\n",
    "    feature_set_array.append(\"soma\")\n",
    "    seed_array.append(i)\n",
    "    eap_dist_array.append(distance.cosine(eap_exp.ravel(), eap.ravel()))\n",
    "    \n",
    "for i, eap in enumerate(eaps_extra):\n",
    "    feature_set_array.append(\"extra\")\n",
    "    seed_array.append(i)\n",
    "    eap_dist_array.append(distance.cosine(eap_exp.ravel(), eap.ravel()))\n",
    "\n",
    "    \n",
    "df_eap = pd.DataFrame({\"seed\": seed_array, \"feature_set\": feature_set_array, \"eap_dist\": eap_dist_array})"
   ]
  },
  {
   "cell_type": "code",
   "execution_count": null,
   "id": "f7ff0812",
   "metadata": {},
   "outputs": [],
   "source": [
    "fig, ax = plt.subplots()\n",
    "sns.barplot(data=df_eap, x=\"feature_set\", y=\"eap_dist\", ax=ax)\n",
    "sns.swarmplot(data=df_eap, x=\"feature_set\", y=\"eap_dist\", dodge=True, ax=ax, palette=[\"cornflowerblue\", \"orange\"])"
   ]
  },
  {
   "cell_type": "markdown",
   "id": "e13b4e18",
   "metadata": {},
   "source": [
    "# Plot responses"
   ]
  },
  {
   "cell_type": "code",
   "execution_count": null,
   "id": "f70ac6d3",
   "metadata": {},
   "outputs": [],
   "source": [
    "fig_soma = mf.plot_multiple_responses(responses_list=responses_soma + responses_experimental, \n",
    "                                            max_rows=3, colors=[\"C0\"] * len(responses_soma) + ['k'] * \n",
    "                                            len(responses_experimental), \n",
    "                                            return_fig=True)"
   ]
  },
  {
   "cell_type": "code",
   "execution_count": null,
   "id": "a06d39b3",
   "metadata": {},
   "outputs": [],
   "source": [
    "fig_extra = mf.plot_multiple_responses(responses_list=responses_extra + responses_experimental, \n",
    "                                             max_rows=3, colors=[\"C1\"] * len(responses_extra) + ['k'] * \n",
    "                                             len(responses_experimental), \n",
    "                                             return_fig=True)"
   ]
  }
 ],
 "metadata": {
  "language_info": {
   "name": "python"
  }
 },
 "nbformat": 4,
 "nbformat_minor": 5
}
