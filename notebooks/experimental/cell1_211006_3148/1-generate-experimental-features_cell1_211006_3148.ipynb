{
 "cells": [
  {
   "cell_type": "markdown",
   "metadata": {},
   "source": [
    "# Generate experimental features -  experiments - cell1_211006_3148"
   ]
  },
  {
   "cell_type": "code",
   "execution_count": null,
   "metadata": {},
   "outputs": [],
   "source": [
    "import json\n",
    "import matplotlib.pyplot as plt\n",
    "\n",
    "import bluepyopt as bpopt\n",
    "import bluepyopt.ephys as ephys\n",
    "\n",
    "import MEAutility as mu\n",
    "from pprint import pprint\n",
    "import time\n",
    "import numpy as np\n",
    "import neuroplotlib as nplt\n",
    "\n",
    "import multimodalfitting as mf\n",
    "\n",
    "import sys\n",
    "import shutil\n",
    "\n",
    "from pathlib import Path\n",
    "import os\n",
    "from datetime import datetime\n",
    "\n",
    "%matplotlib notebook"
   ]
  },
  {
   "cell_type": "code",
   "execution_count": null,
   "metadata": {},
   "outputs": [],
   "source": [
    "save_fig = False"
   ]
  },
  {
   "cell_type": "code",
   "execution_count": null,
   "metadata": {},
   "outputs": [],
   "source": [
    "base_folder = Path(\"../../..\")"
   ]
  },
  {
   "cell_type": "code",
   "execution_count": null,
   "metadata": {},
   "outputs": [],
   "source": [
    "cell_name = \"cell1_211006_3148\"  # \"cell1_211006_3148\" | \"cell1_211011_3436\""
   ]
  },
  {
   "cell_type": "code",
   "execution_count": null,
   "metadata": {},
   "outputs": [],
   "source": [
    "data_folder = base_folder / \"experimental_data\" / cell_name\n",
    "\n",
    "cell_models_folder = base_folder / \"cell_models\"\n",
    "model_folder = cell_models_folder / cell_name\n",
    "model_name = cell_name\n",
    "fitting_folder = model_folder / \"fitting\"\n",
    "extra_folder = data_folder / \"extracellular\""
   ]
  },
  {
   "cell_type": "markdown",
   "metadata": {},
   "source": [
    "## 1) Generate features and protocols with BluePyEfe"
   ]
  },
  {
   "cell_type": "code",
   "execution_count": null,
   "metadata": {},
   "outputs": [],
   "source": [
    "from bluepyefe.extract import read_recordings, extract_efeatures_at_targets, compute_rheobase,\\\n",
    "    group_efeatures, create_feature_protocol_files, convert_legacy_targets\n",
    "from bluepyefe.plotting import plot_all_recordings_efeatures"
   ]
  },
  {
   "cell_type": "code",
   "execution_count": null,
   "metadata": {},
   "outputs": [],
   "source": [
    "with (extra_folder / \"probe.json\").open() as f:\n",
    "    probe_info = json.load(f)\n",
    "    probe_info[\"pitch\"] = 17.5\n",
    "    probe = mu.return_mea(info=probe_info)"
   ]
  },
  {
   "cell_type": "code",
   "execution_count": null,
   "metadata": {},
   "outputs": [],
   "source": [
    "eap = np.load(extra_folder / \"template.npy\")\n",
    "locations = np.load(extra_folder / \"locations.npy\")\n",
    "fs = 20000"
   ]
  },
  {
   "cell_type": "code",
   "execution_count": null,
   "metadata": {},
   "outputs": [],
   "source": [
    "ax_eap = mu.plot_mea_recording(eap, probe)"
   ]
  },
  {
   "cell_type": "code",
   "execution_count": null,
   "metadata": {},
   "outputs": [],
   "source": [
    "efeatures_output_directory = fitting_folder / \"efeatures\"\n",
    "ephys_dir = data_folder / \"patch_data\""
   ]
  },
  {
   "cell_type": "code",
   "execution_count": null,
   "metadata": {},
   "outputs": [],
   "source": [
    "from bluepyefe.extract import read_recordings, extract_efeatures_at_targets, compute_rheobase,\\\n",
    "    group_efeatures, create_feature_protocol_files, convert_legacy_targets\n",
    "from bluepyefe.plotting import plot_all_recordings_efeatures"
   ]
  },
  {
   "cell_type": "code",
   "execution_count": null,
   "metadata": {},
   "outputs": [],
   "source": [
    "from multimodalfitting.efeatures_extraction import build_wcp_metadata, wcp_reader, get_ecode_targets"
   ]
  },
  {
   "cell_type": "code",
   "execution_count": null,
   "metadata": {},
   "outputs": [],
   "source": [
    "# select files for different repetitions"
   ]
  },
  {
   "cell_type": "code",
   "execution_count": null,
   "metadata": {},
   "outputs": [],
   "source": [
    "# define timings for this experiment\n",
    "ecodes_cell_timings = {\n",
    "    \"IDthres\": {\n",
    "        'ton': 400,\n",
    "        'toff': 670\n",
    "    },\n",
    "    \"firepattern\": {\n",
    "        'ton': 500,\n",
    "        'toff': 4100\n",
    "    },\n",
    "    \"IV\": {\n",
    "        'ton': 400,\n",
    "        'toff': 3400\n",
    "    },\n",
    "    \"IDrest\": {\n",
    "        'ton': 400,\n",
    "        'toff': 1750\n",
    "    },\n",
    "    \"APWaveform\": {\n",
    "        'ton': 350,\n",
    "        'toff': 400\n",
    "    },\n",
    "    \"HyperDepol\": {\n",
    "        'ton': 400,\n",
    "        'toff': 1120,\n",
    "        'tmid': 850\n",
    "    },\n",
    "    \"sAHP\": {\n",
    "        'ton': 400,\n",
    "        'toff': 1325,\n",
    "        'tmid': 650,\n",
    "        'tmid2': 875\n",
    "    },\n",
    "    \"PosCheops\": {\n",
    "        'ton': 1000,\n",
    "        't1': 9000,\n",
    "        't2': 10500,\n",
    "        't3': 14500,\n",
    "        't4': 16000,\n",
    "        'toff': 18660\n",
    "    }\n",
    "}"
   ]
  },
  {
   "cell_type": "code",
   "execution_count": null,
   "metadata": {},
   "outputs": [],
   "source": [
    "if cell_name == \"cell1_211006_3148\":\n",
    "    runs = [1, 2, 3, 4, 5]  # run1 --> different rheobase\n",
    "elif cell_name == \"cell1_211011_3436\":\n",
    "    runs = [3, 4, 5, 6]\n",
    "    \n",
    "ecode_names = list(ecodes_cell_timings.keys())\n",
    "\n",
    "files_list = []\n",
    "\n",
    "for run in runs:\n",
    "    rep_dict = {}\n",
    "    for ecode in ecode_names:\n",
    "        for patch_file in ephys_dir.iterdir():\n",
    "            if f\"run{run}\" in patch_file.name and ecode.lower() in patch_file.name:\n",
    "                rep_dict[ecode] = patch_file\n",
    "    files_list.append(rep_dict)"
   ]
  },
  {
   "cell_type": "code",
   "execution_count": null,
   "metadata": {},
   "outputs": [],
   "source": [
    "files_metadata = build_wcp_metadata(cell_id=cell_name, \n",
    "                                    files_list=files_list, \n",
    "                                    ecode_timings=ecodes_cell_timings, \n",
    "                                    repetition_as_different_cells=False)\n",
    "pprint(files_metadata[cell_name])"
   ]
  },
  {
   "cell_type": "code",
   "execution_count": null,
   "metadata": {},
   "outputs": [],
   "source": [
    "cells = read_recordings(\n",
    "    files_metadata=files_metadata,\n",
    "    recording_reader=wcp_reader\n",
    ")"
   ]
  },
  {
   "cell_type": "code",
   "execution_count": null,
   "metadata": {},
   "outputs": [],
   "source": [
    "# define target features for different protocols\n",
    "targets = get_ecode_targets(ecodes_cell_timings)"
   ]
  },
  {
   "cell_type": "code",
   "execution_count": null,
   "metadata": {},
   "outputs": [],
   "source": [
    "targets"
   ]
  },
  {
   "cell_type": "code",
   "execution_count": null,
   "metadata": {},
   "outputs": [],
   "source": [
    "global_tolerance = 30\n",
    "for target in targets:\n",
    "    target[\"tolerance\"] = global_tolerance"
   ]
  },
  {
   "cell_type": "code",
   "execution_count": null,
   "metadata": {},
   "outputs": [],
   "source": [
    "pprint(targets)"
   ]
  },
  {
   "cell_type": "code",
   "execution_count": null,
   "metadata": {},
   "outputs": [],
   "source": [
    "t_start = time.time()\n",
    "extract_efeatures_at_targets(\n",
    "    cells, \n",
    "    targets,\n",
    "    efel_settings={'interp_step': 0.1,\n",
    "                   'strict_stiminterval': True}\n",
    ")\n",
    "t_stop = time.time()\n",
    "print(f\"Elapsed time {t_stop - t_start}\")"
   ]
  },
  {
   "cell_type": "code",
   "execution_count": null,
   "metadata": {},
   "outputs": [],
   "source": [
    "if cell_name == \"cell1_211006_3148\":\n",
    "    majority = 0.4\n",
    "else:\n",
    "    majority = 0.2"
   ]
  },
  {
   "cell_type": "code",
   "execution_count": null,
   "metadata": {},
   "outputs": [],
   "source": [
    "compute_rheobase(\n",
    "    cells,\n",
    "    protocols_rheobase=['IDthres'],\n",
    "    rheobase_strategy=\"majority\",\n",
    "    rheobase_settings={\"majority\": majority}\n",
    ")"
   ]
  },
  {
   "cell_type": "code",
   "execution_count": null,
   "metadata": {},
   "outputs": [],
   "source": [
    "print(f\"Cell rheobase: {cells[0].rheobase} nA\")"
   ]
  },
  {
   "cell_type": "code",
   "execution_count": null,
   "metadata": {},
   "outputs": [],
   "source": [
    "protocols = group_efeatures(cells, targets, use_global_rheobase=True)"
   ]
  },
  {
   "cell_type": "code",
   "execution_count": null,
   "metadata": {},
   "outputs": [],
   "source": [
    "efeatures, protocol_definitions, current = create_feature_protocol_files(\n",
    "    cells,\n",
    "    protocols,\n",
    "    output_directory=efeatures_output_directory,\n",
    "    threshold_nvalue_save=1,\n",
    "    write_files=True,\n",
    ")"
   ]
  },
  {
   "cell_type": "code",
   "execution_count": null,
   "metadata": {},
   "outputs": [],
   "source": [
    "efeatures[\"IDrest_300\"][\"soma\"]"
   ]
  },
  {
   "cell_type": "markdown",
   "metadata": {},
   "source": [
    "## 2) Convert to BPO format and append extra features\n"
   ]
  },
  {
   "cell_type": "code",
   "execution_count": null,
   "metadata": {},
   "outputs": [],
   "source": [
    "from multimodalfitting.efeatures_extraction import compute_extra_features, convert_to_bpo_format,\\\n",
    "    append_extrafeatures_to_json"
   ]
  },
  {
   "cell_type": "code",
   "execution_count": null,
   "metadata": {},
   "outputs": [],
   "source": [
    "protocols_of_interest = [\"IDrest_150\", \"IDrest_250\", \"IDrest_300\", \"IV_-100\", \"IV_-20\", \"APWaveform_290\"]\n",
    "\n",
    "# remove sag features from IV_-20\n",
    "exclude_features = {\"IV_-20\": ['sag_amplitude', 'sag_ratio1', 'sag_ratio2']}\n",
    "# if cell_name == \"cell1_211006_3148\":\n",
    "#     exclude_features.update({\"IDrest_150\": ['burst_number'],\n",
    "#                              \"IDrest_250\": ['burst_number'],\n",
    "#                              \"IDrest_300\": ['burst_number']})\n",
    "\n",
    "in_protocol_path = efeatures_output_directory / \"protocols.json\"\n",
    "in_efeatures_path = efeatures_output_directory / \"features.json\""
   ]
  },
  {
   "cell_type": "markdown",
   "metadata": {},
   "source": [
    "## Threshold EAP and extract featrues"
   ]
  },
  {
   "cell_type": "code",
   "execution_count": null,
   "metadata": {},
   "outputs": [],
   "source": [
    "thresh_uV = 5"
   ]
  },
  {
   "cell_type": "code",
   "execution_count": null,
   "metadata": {},
   "outputs": [],
   "source": [
    "amp_eap = np.ptp(eap, 1)\n",
    "above_tr = np.where(amp_eap > thresh_uV)\n",
    "eap_above = eap[above_tr]\n",
    "probe_info = probe.info\n",
    "locations_above = locations[above_tr]\n",
    "probe_info[\"pos\"] = locations_above.tolist()\n",
    "probe_above = mu.return_mea(info=probe_info)"
   ]
  },
  {
   "cell_type": "code",
   "execution_count": null,
   "metadata": {},
   "outputs": [],
   "source": [
    "fig_t, ax_t = plt.subplots(figsize=(10, 10))\n",
    "ax_t = mu.plot_mea_recording(eap, probe, vscale=150, ax=ax_t)"
   ]
  },
  {
   "cell_type": "code",
   "execution_count": null,
   "metadata": {},
   "outputs": [],
   "source": [
    "min_chan_above, _ = np.unravel_index(np.argmin(eap_above), eap_above.shape)"
   ]
  },
  {
   "cell_type": "code",
   "execution_count": null,
   "metadata": {},
   "outputs": [],
   "source": [
    "second_chan_loc = np.array([-85, 50])\n",
    "distances_sec = [np.linalg.norm(second_chan_loc - loc) for loc in locations_above[:, :2]]\n",
    "second_chan_idx = np.argmin(distances_sec)"
   ]
  },
  {
   "cell_type": "code",
   "execution_count": null,
   "metadata": {},
   "outputs": [],
   "source": [
    "fig_max, axs = plt.subplots(nrows=2, sharex=True) \n",
    "axs[0].plot(eap_above[min_chan_above, 15:80], color=\"C0\", lw=3)\n",
    "axs[1].plot(eap_above[second_chan_idx, 15:80], color=\"C1\", lw=3)\n",
    "axs[0].axis(\"off\")\n",
    "axs[1].axis(\"off\")"
   ]
  },
  {
   "cell_type": "code",
   "execution_count": null,
   "metadata": {},
   "outputs": [],
   "source": [
    "fig_t_max, ax_t = plt.subplots(figsize=(10, 10))\n",
    "ax_t = mu.plot_mea_recording(eap_above, probe_above, vscale=150, ax=ax_t)\n",
    "ax_t = mu.plot_mea_recording(eap_above, probe_above, channels=[min_chan_above],  colors=\"C0\",\n",
    "                             vscale=150, ax=ax_t, lw=2)\n",
    "ax_t = mu.plot_mea_recording(eap_above, probe_above, channels=[second_chan_idx],  colors=\"C1\",\n",
    "                             vscale=150, ax=ax_t, lw=2)"
   ]
  },
  {
   "cell_type": "code",
   "execution_count": null,
   "metadata": {},
   "outputs": [],
   "source": [
    "if save_fig:\n",
    "    fig_t.savefig(\"/Users/abuccino/Documents/Submissions/papers/multimodal/template_above.pdf\", dpi=300, transparent=True)\n",
    "    fig_max.savefig(\"/Users/abuccino/Documents/Submissions/papers/multimodal/template_max.pdf\", dpi=300, transparent=True)\n",
    "    fig_t_max.savefig(\"/Users/abuccino/Documents/Submissions/papers/multimodal/template_above_max.pdf\", dpi=300, transparent=True)"
   ]
  },
  {
   "cell_type": "code",
   "execution_count": null,
   "metadata": {},
   "outputs": [],
   "source": [
    "# save thresholded probe_above.json and template\n",
    "json.dump(probe_above.info, (efeatures_output_directory / \"probe_BPO.json\").open(\"w\"))\n",
    "np.save(efeatures_output_directory / \"template_BPO.npy\", eap_above)"
   ]
  },
  {
   "cell_type": "code",
   "execution_count": null,
   "metadata": {},
   "outputs": [],
   "source": [
    "extra_features = compute_extra_features(eap_above, fs, upsample=10)"
   ]
  },
  {
   "cell_type": "code",
   "execution_count": null,
   "metadata": {},
   "outputs": [],
   "source": [
    "pprint(extra_features.keys())"
   ]
  },
  {
   "cell_type": "code",
   "execution_count": null,
   "metadata": {},
   "outputs": [],
   "source": [
    "fig_p2t = mf.plot_feature_map_w_colorbar(extra_features[\"peak_trough_ratio\"], probe_above, \n",
    "                                         feature_name=\"Peak to trough ratio\", label=\"a.u.\", \n",
    "                                         cmap=\"coolwarm\")\n",
    "fig_negdiff = mf.plot_feature_map_w_colorbar(extra_features[\"neg_peak_diff\"] * 1000, probe_above, \n",
    "                                             feature_name=\"Negative peak time difference\", label=\"ms\",\n",
    "                                             cmap=\"PRGn\")"
   ]
  },
  {
   "cell_type": "code",
   "execution_count": null,
   "metadata": {},
   "outputs": [],
   "source": [
    "if save_fig:\n",
    "    fig_p2t.savefig(\"/Users/abuccino/Documents/Submissions/papers/multimodal/p2t_ratio.pdf\", transparent=True)\n",
    "    fig_negdiff.savefig(\"/Users/abuccino/Documents/Submissions/papers/multimodal/neg_diff.pdf\", transparent=True)\n",
    "    fig_p2t.savefig(\"/Users/abuccino/Documents/Submissions/papers/multimodal/p2t_ratio.png\", dpi=300, transparent=True)\n",
    "    fig_negdiff.savefig(\"/Users/abuccino/Documents/Submissions/papers/multimodal/neg_diff.png\", dpi=300, transparent=True)"
   ]
  },
  {
   "cell_type": "markdown",
   "metadata": {},
   "source": [
    "### 3.1) \"soma\" features"
   ]
  },
  {
   "cell_type": "code",
   "execution_count": null,
   "metadata": {},
   "outputs": [],
   "source": [
    "in_efeatures = json.load(open(in_efeatures_path, 'r'))"
   ]
  },
  {
   "cell_type": "code",
   "execution_count": null,
   "metadata": {},
   "outputs": [],
   "source": [
    "out_protocol_path_soma = efeatures_output_directory / \"protocols_BPO_soma.json\"\n",
    "out_efeatures_path_soma = efeatures_output_directory / \"features_BPO_soma.json\""
   ]
  },
  {
   "cell_type": "code",
   "execution_count": null,
   "metadata": {},
   "outputs": [],
   "source": [
    "protocols_dict_soma, efeatures_dict_soma = convert_to_bpo_format(in_protocol_path, in_efeatures_path, \n",
    "                                                                 out_protocol_path_soma, \n",
    "                                                                 out_efeatures_path_soma, \n",
    "                                                                 protocols_of_interest=protocols_of_interest, \n",
    "                                                                 exclude_features=exclude_features,\n",
    "                                                                 std_from_mean=None)"
   ]
  },
  {
   "cell_type": "markdown",
   "metadata": {},
   "source": [
    "### 3.2) \"all\" strategy"
   ]
  },
  {
   "cell_type": "code",
   "execution_count": null,
   "metadata": {},
   "outputs": [],
   "source": [
    "out_protocol_path_all = efeatures_output_directory / \"protocols_BPO_all.json\"\n",
    "out_efeatures_path_all = efeatures_output_directory / \"features_BPO_all.json\""
   ]
  },
  {
   "cell_type": "code",
   "execution_count": null,
   "metadata": {},
   "outputs": [],
   "source": [
    "protocols_dict_all, efeatures_dict_all = convert_to_bpo_format(in_protocol_path, in_efeatures_path, \n",
    "                                                               out_protocol_path_all, \n",
    "                                                               out_efeatures_path_all, \n",
    "                                                               protocols_of_interest=protocols_of_interest, \n",
    "                                                               exclude_features=exclude_features,\n",
    "                                                               std_from_mean=None)"
   ]
  },
  {
   "cell_type": "code",
   "execution_count": null,
   "metadata": {},
   "outputs": [],
   "source": [
    "channel_ids_all = None"
   ]
  },
  {
   "cell_type": "code",
   "execution_count": null,
   "metadata": {},
   "outputs": [],
   "source": [
    "extrafeatures_dict_all = append_extrafeatures_to_json(extra_features, protocol_name=\"IDrest_300\",\n",
    "                                                      efeatures_dict=efeatures_dict_all,\n",
    "                                                      efeatures_path=out_efeatures_path_all, \n",
    "                                                      channel_ids=None,\n",
    "                                                      single_channel_features=False, \n",
    "                                                      std_from_mean=None)"
   ]
  },
  {
   "cell_type": "code",
   "execution_count": null,
   "metadata": {},
   "outputs": [],
   "source": [
    "pprint(extrafeatures_dict_all[\"IDrest_300\"][\"MEA\"])"
   ]
  },
  {
   "cell_type": "markdown",
   "metadata": {},
   "source": [
    "### 3.3) \"single\" strategy"
   ]
  },
  {
   "cell_type": "code",
   "execution_count": null,
   "metadata": {},
   "outputs": [],
   "source": [
    "cell = mf.create_experimental_model(model_name=model_name,\n",
    "                                    release=True)\n",
    "sim = ephys.simulators.LFPySimulator(cell, cvode_active=True, electrode=probe_above, \n",
    "                                     mechanisms_directory=model_folder)"
   ]
  },
  {
   "cell_type": "code",
   "execution_count": null,
   "metadata": {},
   "outputs": [],
   "source": [
    "out_protocol_path_single = efeatures_output_directory / \"protocols_BPO_single.json\"\n",
    "out_efeatures_path_single = efeatures_output_directory / \"features_BPO_single.json\""
   ]
  },
  {
   "cell_type": "code",
   "execution_count": null,
   "metadata": {},
   "outputs": [],
   "source": [
    "protocols_dict_single, efeatures_dict_single = convert_to_bpo_format(in_protocol_path, in_efeatures_path, \n",
    "                                                                     out_protocol_path_single, \n",
    "                                                                     out_efeatures_path_single, \n",
    "                                                                     protocols_of_interest=protocols_of_interest,\n",
    "                                                                     exclude_features=exclude_features,\n",
    "                                                                     std_from_mean=None)"
   ]
  },
  {
   "cell_type": "code",
   "execution_count": null,
   "metadata": {},
   "outputs": [],
   "source": [
    "# ax_eap = mu.plot_mea_recording(eap_above / np.max(np.abs(eap_above), axis=1, keepdims=True), probe_above)"
   ]
  },
  {
   "cell_type": "code",
   "execution_count": null,
   "metadata": {},
   "outputs": [],
   "source": [
    "# channel_ids_single = mf.select_single_channels(cell, sim, probe_above)\n",
    "channel_ids_single = [186, 191, 84, 97, 68, 155, 203]"
   ]
  },
  {
   "cell_type": "code",
   "execution_count": null,
   "metadata": {},
   "outputs": [],
   "source": [
    "channel_ids_single"
   ]
  },
  {
   "cell_type": "code",
   "execution_count": null,
   "metadata": {},
   "outputs": [],
   "source": [
    "std_from_mean = 0.05"
   ]
  },
  {
   "cell_type": "code",
   "execution_count": null,
   "metadata": {},
   "outputs": [],
   "source": [
    "extrafeatures_dict_single = append_extrafeatures_to_json(extra_features, protocol_name=\"IDrest_300\",\n",
    "                                                         efeatures_dict=efeatures_dict_single,\n",
    "                                                         efeatures_path=out_efeatures_path_single, \n",
    "                                                         channel_ids=channel_ids_single,\n",
    "                                                         single_channel_features=True, \n",
    "                                                         std_from_mean=std_from_mean)"
   ]
  },
  {
   "cell_type": "markdown",
   "metadata": {},
   "source": [
    "### 3.4) \"sections\" strategy"
   ]
  },
  {
   "cell_type": "code",
   "execution_count": null,
   "metadata": {},
   "outputs": [],
   "source": [
    "out_protocol_path_sections = efeatures_output_directory / \"protocols_BPO_sections.json\"\n",
    "out_efeatures_path_sections = efeatures_output_directory / \"features_BPO_sections.json\""
   ]
  },
  {
   "cell_type": "code",
   "execution_count": null,
   "metadata": {},
   "outputs": [],
   "source": [
    "protocols_dict_sections, efeatures_dict_sections = convert_to_bpo_format(in_protocol_path, in_efeatures_path, \n",
    "                                                                         out_protocol_path_sections, \n",
    "                                                                         out_efeatures_path_sections, \n",
    "                                                                         protocols_of_interest=protocols_of_interest,\n",
    "                                                                         exclude_features=exclude_features,\n",
    "                                                                         std_from_mean=None)"
   ]
  },
  {
   "cell_type": "code",
   "execution_count": null,
   "metadata": {},
   "outputs": [],
   "source": [
    "# ax_eap = mu.plot_mea_recording(eap_above / np.max(np.abs(eap_above), axis=1, keepdims=True), probe_above)"
   ]
  },
  {
   "cell_type": "code",
   "execution_count": null,
   "metadata": {},
   "outputs": [],
   "source": [
    "# channel_ids_sections = mf.select_mea_sections(cell, sim, probe_above)\n",
    "channel_ids_sections = [\n",
    "    [4,15, 20, 42, 48, 60, 99, 127, 130, 138, 145, 150, 157, 161, 183, 186],\n",
    "    [0, 11, 12, 24, 35, 54, 72, 74, 80, 81, 83,  84, 94, 110, 114, 121, 128, 129, 133, 203, 207],\n",
    "    [10, 14, 21, 26, 58, 67, 68, 70, 79, 87, 93, 131, 153, 155, 165, 182, 199],\n",
    "    [5, 6, 29, 46, 77, 78, 125, 132, 171, 205]\n",
    "]"
   ]
  },
  {
   "cell_type": "code",
   "execution_count": null,
   "metadata": {},
   "outputs": [],
   "source": [
    "channel_ids_sections"
   ]
  },
  {
   "cell_type": "code",
   "execution_count": null,
   "metadata": {},
   "outputs": [],
   "source": [
    "extrafeatures_dict_sections = append_extrafeatures_to_json(extra_features, protocol_name=\"IDrest_300\",\n",
    "                                                           efeatures_dict=efeatures_dict_sections,\n",
    "                                                           efeatures_path=out_efeatures_path_sections, \n",
    "                                                           channel_ids=channel_ids_sections,\n",
    "                                                           single_channel_features=False, \n",
    "                                                           std_from_mean=None)"
   ]
  },
  {
   "cell_type": "code",
   "execution_count": null,
   "metadata": {},
   "outputs": [],
   "source": [
    "pprint(extrafeatures_dict_sections[\"IDrest_300\"][\"MEA\"])"
   ]
  },
  {
   "cell_type": "markdown",
   "metadata": {},
   "source": [
    "### Plot selected channels"
   ]
  },
  {
   "cell_type": "code",
   "execution_count": null,
   "metadata": {},
   "outputs": [],
   "source": [
    "from matplotlib.patches import Ellipse, Rectangle"
   ]
  },
  {
   "cell_type": "code",
   "execution_count": null,
   "metadata": {},
   "outputs": [],
   "source": [
    "fig_single, ax_single = plt.subplots()\n",
    "\n",
    "for pos in probe.positions:\n",
    "    rect = Rectangle(xy=pos[:2] - probe.info[\"size\"], width=probe.info[\"size\"][0],\n",
    "                     height=probe.info[\"size\"][1], edgecolor=f\"orange\",\n",
    "                     fc=f\"orange\", lw=1, alpha=0.7)\n",
    "    ax_single.add_patch(rect)\n",
    "\n",
    "\n",
    "mf.plot_cell(cell, sim, detailed=False, exclude_sections=[\"soma\"], ax=ax_single)\n",
    "ellipse = Ellipse(xy=(0, 0), width=15, height=15, \n",
    "                  edgecolor=\"grey\", color=\"grey\", lw=2)\n",
    "ax_single.add_patch(ellipse)\n",
    "\n",
    "for i, chan in enumerate(channel_ids_single):\n",
    "    rect = Rectangle(xy=probe_above.positions[chan, :2] - probe.info[\"size\"], width=probe.info[\"size\"][0],\n",
    "                     height=probe.info[\"size\"][1], edgecolor=f\"C{i}\",\n",
    "                     fc=f\"C{i}\", lw=2, label=f\"Channel {chan}\", alpha=1)\n",
    "    ax_single.add_patch(rect)\n",
    "ax_single.legend()\n",
    "ax_single.set_xlim(-300, 300)\n",
    "ax_single.set_ylim(-320, 320)"
   ]
  },
  {
   "cell_type": "code",
   "execution_count": null,
   "metadata": {},
   "outputs": [],
   "source": [
    "fig_sections, ax_sections = plt.subplots()\n",
    "\n",
    "for pos in probe.positions:\n",
    "    rect = Rectangle(xy=pos[:2] - probe.info[\"size\"], width=probe.info[\"size\"][0],\n",
    "                     height=probe.info[\"size\"][1], edgecolor=f\"orange\",\n",
    "                     fc=f\"orange\", lw=1, alpha=0.7)\n",
    "    ax_sections.add_patch(rect)\n",
    "    \n",
    "mf.plot_cell(cell, sim, detailed=False, exclude_sections=[\"soma\"], ax=ax_sections)\n",
    "ellipse = Ellipse(xy=(0, 0), width=15, height=15, \n",
    "                  edgecolor=\"grey\", color=\"grey\", lw=2)\n",
    "ax_sections.add_patch(ellipse)\n",
    "\n",
    "for i, chan_sect in enumerate(channel_ids_sections):\n",
    "    for c, chan in enumerate(chan_sect):\n",
    "        if c == 0:\n",
    "            label = f\"Section {i}\"\n",
    "        else:\n",
    "            label = None\n",
    "        rect = Rectangle(xy=probe_above.positions[chan, :2] - probe.info[\"size\"], width=probe.info[\"size\"][0],\n",
    "                         height=probe.info[\"size\"][1], edgecolor=f\"C{i}\",\n",
    "                         fc=f\"C{i}\", lw=1, label=label)\n",
    "        ax_sections.add_patch(rect)\n",
    "ax_sections.legend()\n",
    "ax_sections.set_xlim(-300, 300)\n",
    "ax_sections.set_ylim(-320, 320)"
   ]
  },
  {
   "cell_type": "code",
   "execution_count": null,
   "metadata": {},
   "outputs": [],
   "source": [
    "fig_single.savefig(f\"single_{cell_name}.pdf\")\n",
    "fig_sections.savefig(f\"sections_{cell_name}.pdf\")"
   ]
  }
 ],
 "metadata": {
  "kernelspec": {
   "display_name": "Python 3 (ipykernel)",
   "language": "python",
   "name": "python3"
  },
  "language_info": {
   "codemirror_mode": {
    "name": "ipython",
    "version": 3
   },
   "file_extension": ".py",
   "mimetype": "text/x-python",
   "name": "python",
   "nbconvert_exporter": "python",
   "pygments_lexer": "ipython3",
   "version": "3.8.12"
  }
 },
 "nbformat": 4,
 "nbformat_minor": 1
}
