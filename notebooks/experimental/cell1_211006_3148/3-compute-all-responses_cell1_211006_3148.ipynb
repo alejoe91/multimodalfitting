{
 "cells": [
  {
   "cell_type": "markdown",
   "id": "2802976d",
   "metadata": {},
   "source": [
    "# 3) Compute all responses\n",
    "\n",
    "## cell1_211006_3148\n",
    "\n",
    "This notebook uses the `runs.pkl` file created in notebook 2 and it computes and saves the responses and scores for all seeds and options."
   ]
  },
  {
   "cell_type": "code",
   "execution_count": null,
   "id": "0100d836",
   "metadata": {},
   "outputs": [],
   "source": [
    "import pickle\n",
    "import pandas as pd\n",
    "import seaborn as sns\n",
    "import sys\n",
    "import shutil\n",
    "from tqdm import tqdm\n",
    "\n",
    "import bluepyopt as bpopt\n",
    "import bluepyopt.ephys as ephys\n",
    "import neuroplotlib as nplt\n",
    "\n",
    "import matplotlib as mpl\n",
    "import matplotlib.pyplot as plt\n",
    "from scipy.spatial import distance\n",
    "import MEAutility as mu\n",
    "import json\n",
    "import time\n",
    "import numpy as np\n",
    "from pathlib import Path\n",
    "from pprint import pprint\n",
    "\n",
    "import multimodalfitting as mf\n",
    "\n",
    "%matplotlib notebook"
   ]
  },
  {
   "cell_type": "code",
   "execution_count": null,
   "id": "cc192288",
   "metadata": {},
   "outputs": [],
   "source": [
    "# general\n",
    "base_dir = Path(\"../../..\")"
   ]
  },
  {
   "cell_type": "code",
   "execution_count": null,
   "id": "2b4e9ef0",
   "metadata": {},
   "outputs": [],
   "source": [
    "# general\n",
    "cell_name = \"cell1_211006_3148\" # \"cell1_211006_3148\" | \"cell1_211011_3436\"\n",
    "model_name = cell_name\n",
    "ephys_dir = base_dir / \"experimental_data\" / cell_name / \"patch_data\"\n",
    "\n",
    "cell_models_folder = base_dir / \"cell_models\"\n",
    "model_folder = cell_models_folder / cell_name"
   ]
  },
  {
   "cell_type": "code",
   "execution_count": null,
   "id": "31bf26f8",
   "metadata": {},
   "outputs": [],
   "source": [
    "result_dates = [r.name for r in (base_dir / \"results\").iterdir()]\n",
    "# use latest results\n",
    "results_date = max(result_dates)\n",
    "result_folder = base_dir / \"results\" / results_date"
   ]
  },
  {
   "cell_type": "code",
   "execution_count": null,
   "id": "e711ad1b",
   "metadata": {},
   "outputs": [],
   "source": [
    "# # select abd (axon_bearing_dendrite) option\n",
    "# abd = True"
   ]
  },
  {
   "cell_type": "code",
   "execution_count": null,
   "id": "cbd38d0b",
   "metadata": {},
   "outputs": [],
   "source": [
    "save_fig = False\n",
    "figure_folder = Path(\".\") / f\"figures_{cell_name}\"\n",
    "\n",
    "if save_fig:\n",
    "    figure_folder.mkdir(exist_ok=True)"
   ]
  },
  {
   "cell_type": "code",
   "execution_count": null,
   "id": "be3355f7",
   "metadata": {},
   "outputs": [],
   "source": [
    "colors_dict = {\"soma\": \"C0\",\n",
    "               \"all\": \"C1\",\n",
    "               \"sections\": \"C2\",\n",
    "               \"single\": \"C3\"}\n",
    "feature_sets = {\"soma\": \"soma\",\n",
    "                \"all\": \"extra\",\n",
    "                \"sections\": \"extra\",\n",
    "                \"single\": \"extra\"}\n",
    "figsize = (10, 7)"
   ]
  },
  {
   "cell_type": "markdown",
   "id": "7f3462e3",
   "metadata": {},
   "source": [
    "# Define cell model and load optimization output"
   ]
  },
  {
   "cell_type": "code",
   "execution_count": null,
   "id": "566dfb7c",
   "metadata": {},
   "outputs": [],
   "source": [
    "for abd in [False, True]:\n",
    "\n",
    "    cell = mf.create_experimental_model(model_name=cell_name, abd=abd)\n",
    "    cell_sample = mf.create_experimental_model(model_name=cell_name, release=True, abd=abd)\n",
    "\n",
    "    probe = mf.define_electrode(probe_file=model_folder / \"fitting\" / \"efeatures\" / \"probe_BPO.json\")\n",
    "    param_names = [param.name for param in cell.params.values() if not param.frozen]\n",
    "    print(f\"Number of parameters: {len(param_names)} (ABD={abd})\")"
   ]
  },
  {
   "cell_type": "code",
   "execution_count": null,
   "id": "f3669851",
   "metadata": {},
   "outputs": [],
   "source": [
    "pkl_file_name = \"runs.pkl\""
   ]
  },
  {
   "cell_type": "code",
   "execution_count": null,
   "id": "cf1a954f",
   "metadata": {},
   "outputs": [],
   "source": [
    "data = pickle.load(open(result_folder / pkl_file_name, 'rb'))\n",
    "df_optimization = pd.DataFrame(data)\n",
    "df_model = df_optimization.query(f\"model == '{model_name}'\")\n",
    "\n",
    "strategies = np.unique(df_model.strategy)"
   ]
  },
  {
   "cell_type": "code",
   "execution_count": null,
   "id": "2367846e",
   "metadata": {},
   "outputs": [],
   "source": [
    "fig, ax = plt.subplots()\n",
    "min_evals = 3000\n",
    "\n",
    "keep_idxs = []\n",
    "for idx, row in df_model.iterrows():\n",
    "    color = mpl.colors.to_rgb(colors_dict[row[\"strategy\"]])\n",
    "    if row[\"abd\"]:\n",
    "        keep_idxs.append(idx)\n",
    "        ax.plot(row[\"nevals\"], \n",
    "                row[\"logbook\"].select(\"min\"),\n",
    "                color=color,\n",
    "                ls='-', \n",
    "                lw=0.5,\n",
    "                alpha=0.75)\n",
    "    else:\n",
    "        color = np.clip(np.array(color) - 0.3, 0, 1)\n",
    "        ax.plot(row[\"nevals\"], \n",
    "                row[\"logbook\"].select(\"min\"),\n",
    "                color=color,\n",
    "                ls='-', \n",
    "                lw=0.5,\n",
    "                alpha=0.75)\n",
    "\n",
    "ax.set_title(\"Min fitness\")\n",
    "ax.spines[\"top\"].set_visible(False)\n",
    "ax.spines[\"right\"].set_visible(False)\n",
    "ax.set_xlabel(\"Neval\")\n",
    "ax.set_ylabel(\"Min fitness\")\n",
    "ax.set_yscale('log')"
   ]
  },
  {
   "cell_type": "code",
   "execution_count": null,
   "id": "47774cbc",
   "metadata": {},
   "outputs": [],
   "source": [
    "# df_model = df_model.query(f\"abd == {abd}\")"
   ]
  },
  {
   "cell_type": "markdown",
   "id": "f82df2d2",
   "metadata": {},
   "source": [
    "# Load protocols and experimental features"
   ]
  },
  {
   "cell_type": "code",
   "execution_count": null,
   "id": "2f7db931",
   "metadata": {},
   "outputs": [],
   "source": [
    "extra_kwargs = mf.utils.get_extra_kwargs()\n",
    "extra_kwargs[\"ms_cut\"] = [2, 5]"
   ]
  },
  {
   "cell_type": "code",
   "execution_count": null,
   "id": "30972ccb",
   "metadata": {},
   "outputs": [],
   "source": [
    "protocol_for_eap = \"IDrest_300\""
   ]
  },
  {
   "cell_type": "code",
   "execution_count": null,
   "id": "33d6eb25",
   "metadata": {},
   "outputs": [],
   "source": [
    "# check num features\n",
    "for strategy in np.unique(df_model.strategy):\n",
    "    extra_strategy = strategy if strategy in [\"all\", \"single\", \"sections\"] else None\n",
    "    eva = mf.create_evaluator(\n",
    "        model_name=model_name,\n",
    "        strategy=strategy,\n",
    "        protocols_with_lfp=protocol_for_eap,\n",
    "        **extra_kwargs\n",
    "    )\n",
    "    print(f\"Strategy {strategy} --> num features {len(eva.fitness_calculator.objectives)}\")"
   ]
  },
  {
   "cell_type": "code",
   "execution_count": null,
   "id": "e854be7f",
   "metadata": {},
   "outputs": [],
   "source": [
    "eva_extra = mf.create_evaluator(\n",
    "    model_name=model_name,\n",
    "    strategy=\"all\",\n",
    "    protocols_with_lfp=protocol_for_eap,\n",
    "    abd=abd,\n",
    "    **extra_kwargs\n",
    ")"
   ]
  },
  {
   "cell_type": "markdown",
   "id": "4129411f",
   "metadata": {},
   "source": [
    "## Load experimental responses"
   ]
  },
  {
   "cell_type": "code",
   "execution_count": null,
   "id": "c2ff2ac2",
   "metadata": {},
   "outputs": [],
   "source": [
    "from bluepyefe.extract import read_recordings, extract_efeatures_at_targets, compute_rheobase,\\\n",
    "    group_efeatures, create_feature_protocol_files, convert_legacy_targets\n",
    "from bluepyefe.plotting import plot_all_recordings_efeatures\n",
    "\n",
    "from multimodalfitting.efeatures_extraction import build_wcp_metadata, wcp_reader, get_ecode_targets, \\\n",
    "    ecodes_wcp_timings"
   ]
  },
  {
   "cell_type": "code",
   "execution_count": null,
   "id": "ba8b8787",
   "metadata": {},
   "outputs": [],
   "source": [
    "# define timings for this experiment\n",
    "ecodes_cell_timings = {\n",
    "    \"IDthres\": {\n",
    "        'ton': 400,\n",
    "        'toff': 670\n",
    "    },\n",
    "    \"firepattern\": {\n",
    "        'ton': 500,\n",
    "        'toff': 4100\n",
    "    },\n",
    "    \"IV\": {\n",
    "        'ton': 400,\n",
    "        'toff': 3400\n",
    "    },\n",
    "    \"IDrest\": {\n",
    "        'ton': 400,\n",
    "        'toff': 1750\n",
    "    },\n",
    "    \"APWaveform\": {\n",
    "        'ton': 350,\n",
    "        'toff': 400\n",
    "    },\n",
    "    \"HyperDepol\": {\n",
    "        'ton': 400,\n",
    "        'toff': 1120,\n",
    "        'tmid': 850\n",
    "    },\n",
    "    \"sAHP\": {\n",
    "        'ton': 400,\n",
    "        'toff': 1325,\n",
    "        'tmid': 650,\n",
    "        'tmid2': 875\n",
    "    },\n",
    "    \"PosCheops\": {\n",
    "        'ton': 1000,\n",
    "        't1': 9000,\n",
    "        't2': 10500,\n",
    "        't3': 14500,\n",
    "        't4': 16000,\n",
    "        'toff': 18660\n",
    "    }\n",
    "}"
   ]
  },
  {
   "cell_type": "code",
   "execution_count": null,
   "id": "ad6baf49",
   "metadata": {},
   "outputs": [],
   "source": [
    "if cell_name == \"cell1_211006_3148\":\n",
    "    runs = [1, 2, 3, 4, 5]  # run1 --> different rheobase\n",
    "elif cell_name == \"cell1_211011_3436\":\n",
    "    runs = [3, 4, 5, 6]\n",
    "    \n",
    "ecode_names = list(ecodes_cell_timings.keys())\n",
    "\n",
    "files_list = []\n",
    "\n",
    "for run in runs:\n",
    "    rep_dict = {}\n",
    "    for ecode in ecode_names:\n",
    "        for patch_file in ephys_dir.iterdir():\n",
    "            if f\"run{run}\" in patch_file.name and ecode.lower() in patch_file.name:\n",
    "                rep_dict[ecode] = patch_file\n",
    "    files_list.append(rep_dict)"
   ]
  },
  {
   "cell_type": "code",
   "execution_count": null,
   "id": "57b66586",
   "metadata": {},
   "outputs": [],
   "source": [
    "files_metadata = build_wcp_metadata(cell_id=cell_name, \n",
    "                                    files_list=files_list, \n",
    "                                    ecode_timings=ecodes_cell_timings, \n",
    "                                    repetition_as_different_cells=False)"
   ]
  },
  {
   "cell_type": "code",
   "execution_count": null,
   "id": "70cdd173",
   "metadata": {},
   "outputs": [],
   "source": [
    "cells = read_recordings(\n",
    "    files_metadata=files_metadata,\n",
    "    recording_reader=wcp_reader\n",
    ")"
   ]
  },
  {
   "cell_type": "code",
   "execution_count": null,
   "id": "adb19a1c",
   "metadata": {},
   "outputs": [],
   "source": [
    "# define target features for different protocols\n",
    "targets = get_ecode_targets(ecodes_cell_timings)"
   ]
  },
  {
   "cell_type": "code",
   "execution_count": null,
   "id": "b57dfcee",
   "metadata": {},
   "outputs": [],
   "source": [
    "global_tolerance = 30\n",
    "for target in targets:\n",
    "    target[\"tolerance\"] = global_tolerance"
   ]
  },
  {
   "cell_type": "code",
   "execution_count": null,
   "id": "500c1afa",
   "metadata": {},
   "outputs": [],
   "source": [
    "if cell_name == \"cell1_211006_3148\":\n",
    "    majority = 0.4\n",
    "else:\n",
    "    majority = 0.2"
   ]
  },
  {
   "cell_type": "code",
   "execution_count": null,
   "id": "6467a09d",
   "metadata": {},
   "outputs": [],
   "source": [
    "compute_rheobase(\n",
    "    cells, \n",
    "    protocols_rheobase=['IDthres'],\n",
    "    rheobase_strategy=\"majority\",\n",
    "    rheobase_settings={\"majority\": majority}\n",
    ")"
   ]
  },
  {
   "cell_type": "code",
   "execution_count": null,
   "id": "747509b0",
   "metadata": {},
   "outputs": [],
   "source": [
    "print(f\"Cell rheobase: {cells[0].rheobase}\")"
   ]
  },
  {
   "cell_type": "code",
   "execution_count": null,
   "id": "0df92139",
   "metadata": {},
   "outputs": [],
   "source": [
    "protocols = group_efeatures(cells, targets, use_global_rheobase=True)"
   ]
  },
  {
   "cell_type": "code",
   "execution_count": null,
   "id": "8d8bc08e",
   "metadata": {},
   "outputs": [],
   "source": [
    "protocols_opt = list(eva_extra.fitness_protocols.keys())\n",
    "print(protocols_opt)"
   ]
  },
  {
   "cell_type": "code",
   "execution_count": null,
   "id": "7a166d89",
   "metadata": {},
   "outputs": [],
   "source": [
    "all_protocols = list(ecodes_cell_timings.keys())\n",
    "print(all_protocols)"
   ]
  },
  {
   "cell_type": "markdown",
   "id": "73b1302d",
   "metadata": {},
   "source": [
    "### Build BPO response dicts"
   ]
  },
  {
   "cell_type": "code",
   "execution_count": null,
   "id": "59b61551",
   "metadata": {},
   "outputs": [],
   "source": [
    "responses_experimental = []\n",
    "responses_all = []\n",
    "num_runs = len(protocols[0].recordings)\n",
    "for run in range(num_runs):\n",
    "    print(f\"Populating responses for run {run}\")\n",
    "    response_dict = {}\n",
    "    response_all_dict = {}\n",
    "    for protocol in protocols:\n",
    "        for i, rec in enumerate(protocol.recordings):\n",
    "            if i == run:\n",
    "                response = bpopt.ephys.responses.TimeVoltageResponse(name=protocol.name,\n",
    "                                                                     time=rec.t, voltage=rec.voltage)\n",
    "                response_all_dict[f\"{protocol.stimulus_name}.soma.v\"] = response\n",
    "                if protocol.stimulus_name in protocols_opt:\n",
    "                    response_dict[f\"{protocol.stimulus_name}.soma.v\"] = response\n",
    "    responses_experimental.append(response_dict)\n",
    "    responses_all.append(response_all_dict)"
   ]
  },
  {
   "cell_type": "code",
   "execution_count": null,
   "id": "7e4d8fb9",
   "metadata": {},
   "outputs": [],
   "source": [
    "responses_to_plot = [\"APWaveform_290\", \"IDrest_250\", \"firepattern_200\", \"sAHP_250\", \"PosCheops_300\"]\n",
    "titles = responses_to_plot"
   ]
  },
  {
   "cell_type": "code",
   "execution_count": null,
   "id": "26b36522",
   "metadata": {},
   "outputs": [],
   "source": [
    "fig_exp_sample = mf.plot_responses(responses_all[2], return_fig=True, \n",
    "                                   titles=titles, protocol_names=responses_to_plot,\n",
    "                                   color=\"k\")"
   ]
  },
  {
   "cell_type": "code",
   "execution_count": null,
   "id": "0c687397",
   "metadata": {},
   "outputs": [],
   "source": [
    "if save_fig:\n",
    "    fig_exp_sample.savefig(figure_folder / f\"{cell_name}_sample_response.pdf\")\n",
    "    fig_exp_sample.savefig(figure_folder / f\"{cell_name}_sample_response.png\", dpi=300)  "
   ]
  },
  {
   "cell_type": "code",
   "execution_count": null,
   "id": "59489e00",
   "metadata": {},
   "outputs": [],
   "source": [
    "eap_exp = np.load(model_folder / \"fitting\" / \"efeatures\" / \"template_BPO.npy\") / 1000"
   ]
  },
  {
   "cell_type": "code",
   "execution_count": null,
   "id": "b58c6cfd",
   "metadata": {},
   "outputs": [],
   "source": [
    "ax = mu.plot_mea_recording(eap_exp, probe)\n",
    "fig_exp_extra = ax.get_figure()"
   ]
  },
  {
   "cell_type": "code",
   "execution_count": null,
   "id": "69f47200",
   "metadata": {},
   "outputs": [],
   "source": [
    "vscale = np.max(np.abs(eap_exp))"
   ]
  },
  {
   "cell_type": "code",
   "execution_count": null,
   "id": "59df1656",
   "metadata": {},
   "outputs": [],
   "source": [
    "if save_fig:\n",
    "    fig_exp_intra.savefig(figure_folder / \"exp_intra.png\", dpi=300)\n",
    "    fig_exp_extra.savefig(figure_folder / \"exp_extra.png\", dpi=300)"
   ]
  },
  {
   "cell_type": "markdown",
   "id": "bb783473",
   "metadata": {},
   "source": [
    "# Compute and plot best responses"
   ]
  },
  {
   "cell_type": "code",
   "execution_count": null,
   "id": "d34cc97d",
   "metadata": {},
   "outputs": [],
   "source": [
    "max_feature_value = 50"
   ]
  },
  {
   "cell_type": "code",
   "execution_count": null,
   "id": "81d84153",
   "metadata": {},
   "outputs": [],
   "source": [
    "#TODO keep track of ABD better"
   ]
  },
  {
   "cell_type": "code",
   "execution_count": null,
   "id": "132647ca",
   "metadata": {},
   "outputs": [],
   "source": [
    "all_responses = []\n",
    "all_eaps = []\n",
    "all_params = []\n",
    "all_abds = []\n",
    "all_seeds = []\n",
    "all_strategies = []\n",
    "\n",
    "for strategy in strategies:\n",
    "    print(f\"Simulating '{strategy}'\")\n",
    "    # simulate all responses\n",
    "    opt_df = df_model.query(f\"strategy == '{strategy}'\")\n",
    "\n",
    "    for idx, row in opt_df.iterrows():\n",
    "        abd = row.abd\n",
    "\n",
    "        eva_extra = mf.create_evaluator(\n",
    "            model_name=model_name,\n",
    "            strategy=\"all\",\n",
    "            protocols_with_lfp=protocol_for_eap,\n",
    "            abd=abd,\n",
    "            **extra_kwargs\n",
    "        )\n",
    "\n",
    "        param_names = [param.name for param in eva_extra.cell_model.params.values() if not param.frozen]\n",
    "\n",
    "        param_boundaries = {}\n",
    "        for param_name, param in eva_extra.cell_model.params.items():\n",
    "            if not param.frozen:\n",
    "                param_boundaries[param_name] = param.bounds\n",
    "\n",
    "        seed = row.seed\n",
    "        print(f\"\\tSeed {row.seed} -- ABD: {row.abd}\")\n",
    "        population = row.population\n",
    "        scores = [sum(pop.fitness.values) for pop in population]\n",
    "        best_individual_idx = np.argmin(scores)\n",
    "        params = population[best_individual_idx]\n",
    "        params_dict = {k: v for k, v in zip(param_names, params)}\n",
    "        for param_name, param_value in params_dict.items():\n",
    "            bounds = param_boundaries[param_name]\n",
    "            if param_value < bounds[0] or param_value > bounds[1]:\n",
    "                print(f\"{param_name} out of bounds: {bounds}\")\n",
    "\n",
    "        responses_seed = eva_extra.run_protocols(eva_extra.fitness_protocols.values(), \n",
    "                                                 param_values=params_dict)\n",
    "        eap_seed = mf.utils.calculate_eap(responses=responses_seed, protocols=eva_extra.fitness_protocols, \n",
    "                                          protocol_name=protocol_for_eap, align_extra=True, **extra_kwargs)\n",
    "        all_strategies.append(strategy)\n",
    "        all_params.append(params_dict)\n",
    "        all_eaps.append(eap_seed)\n",
    "        all_abds.append(abd)\n",
    "        all_responses.append(responses_seed)\n",
    "        all_seeds.append(seed)\n",
    "\n",
    "opt_results_df = pd.DataFrame({\"strategy\": all_strategies, \"params\": all_params, \"eap\": all_eaps,\n",
    "                               \"abd\": all_abds, \"responses\": all_responses, \"seed\": all_seeds})"
   ]
  },
  {
   "cell_type": "code",
   "execution_count": null,
   "id": "0245b59f",
   "metadata": {},
   "outputs": [],
   "source": [
    "intra_scores = []\n",
    "extra_scores = []\n",
    "total_scores = []\n",
    "\n",
    "for index, row in opt_results_df.iterrows():\n",
    "    abd = row.abd\n",
    "    responses  =row.responses\n",
    "    seed = row.seed\n",
    "    strategy = row.strategy\n",
    "\n",
    "    eva_extra = mf.create_evaluator(\n",
    "        model_name=model_name,\n",
    "        strategy=\"all\",\n",
    "        protocols_with_lfp=protocol_for_eap,\n",
    "        abd=abd,\n",
    "        **extra_kwargs\n",
    "    )\n",
    "\n",
    "    param_names = [param.name for param in eva_extra.cell_model.params.values() if not param.frozen]\n",
    "\n",
    "    extra_fitness = 0\n",
    "    intra_fitness = 0\n",
    "    for i in tqdm(np.arange(len(eva_extra.fitness_calculator.objectives)), \n",
    "                  desc=f\"computing features {strategy}\"):\n",
    "        obj = eva_extra.fitness_calculator.objectives[i]\n",
    "        feat = obj.features[0]\n",
    "        if len(obj.features) == 1:\n",
    "            feat_value = obj.features[0].calculate_feature(responses)\n",
    "            feat_score = obj.features[0].calculate_score(responses)\n",
    "            if \"MEA\" in feat.name:\n",
    "                extra_fitness += feat_score\n",
    "            else:\n",
    "                intra_fitness += feat_score\n",
    "    opt_results_df.at[index, \"intra_score\"] = intra_fitness\n",
    "    opt_results_df.at[index, \"extra_score\"] = extra_fitness\n",
    "    opt_results_df.at[index, \"total_score\"] = intra_fitness + extra_fitness\n",
    "\n",
    "    print(\"strategy\", strategy, \"seed\", seed, \"abd\", abd)\n",
    "    print(\"\\tINTRA\", intra_fitness)\n",
    "    print(\"\\tEXTRA\", extra_fitness)\n",
    "    print(\"\\tTOTAL\", intra_fitness + extra_fitness)"
   ]
  },
  {
   "cell_type": "markdown",
   "id": "24cc5976",
   "metadata": {},
   "source": [
    "### Save all responses and scores"
   ]
  },
  {
   "cell_type": "code",
   "execution_count": null,
   "id": "1af9eb46",
   "metadata": {},
   "outputs": [],
   "source": [
    "opt_results_df.to_pickle(result_folder / f\"all_responses_{model_name}.pkl\")"
   ]
  },
  {
   "cell_type": "code",
   "execution_count": null,
   "id": "a3f887e1",
   "metadata": {},
   "outputs": [],
   "source": [
    "opt_results_df.columns"
   ]
  },
  {
   "cell_type": "markdown",
   "id": "d60b3854",
   "metadata": {},
   "source": [
    "## ABD Vs NO ABD"
   ]
  },
  {
   "cell_type": "code",
   "execution_count": null,
   "id": "27308bdb",
   "metadata": {},
   "outputs": [],
   "source": [
    "order = [\"soma\", \"all\", \"sections\", \"single\"]"
   ]
  },
  {
   "cell_type": "code",
   "execution_count": null,
   "id": "60994bd3",
   "metadata": {
    "scrolled": false
   },
   "outputs": [],
   "source": [
    "colors = [colors_dict[strat] for strat in order]\n",
    "fig_intra_seeds, ax = plt.subplots(figsize=(7, 10))\n",
    "sns.boxplot(data=opt_results_df, x=\"strategy\", y=\"intra_score\", hue=\"abd\", order=order, \n",
    "            showfliers=False,  ax=ax) #palette=colors_dict,\n",
    "ax.set_xlabel(\"Strategy\", fontsize=15)\n",
    "ax.set_ylabel(\"Score\", fontsize=15)\n",
    "ax.spines[\"top\"].set_visible(False)\n",
    "ax.spines[\"right\"].set_visible(False)\n",
    "ax.set_xticklabels(ax.get_xticklabels(), fontsize=12)\n",
    "ax.set_title(\"Intracellular\\n(10 seeds)\", fontsize=20)\n",
    "\n",
    "fig_extra_seeds, ax = plt.subplots(figsize=(7, 10))\n",
    "sns.boxplot(data=opt_results_df, x=\"strategy\", y=\"extra_score\", hue=\"abd\",\n",
    "            showfliers=True,  order=order) #palette=colors_dict,\n",
    "ax.set_xlabel(\"Strategy\", fontsize=15)\n",
    "ax.set_ylabel(\"Score\", fontsize=15)\n",
    "ax.spines[\"top\"].set_visible(False)\n",
    "ax.spines[\"right\"].set_visible(False)\n",
    "ax.set_xticklabels(ax.get_xticklabels(), fontsize=12)\n",
    "ax.set_title(\"Extracellular\\n(10 seeds)\", fontsize=20)"
   ]
  },
  {
   "cell_type": "code",
   "execution_count": null,
   "id": "ce614343",
   "metadata": {},
   "outputs": [],
   "source": [
    "index_na = []\n",
    "for index, row in opt_results_df.iterrows():\n",
    "    eap = row.eap\n",
    "    if np.any(np.isnan(eap)):\n",
    "        index_na.append(index)\n",
    "opt_results_df = opt_results_df.drop(index_na)\n",
    "print(f\"Dropped {len(index_na)} rows for no spikes\")"
   ]
  },
  {
   "cell_type": "code",
   "execution_count": null,
   "id": "d099a319",
   "metadata": {},
   "outputs": [],
   "source": [
    "opt_results_df_no_abd = opt_results_df.query(\"abd == False\")\n",
    "# best responses are the solutions that minimize extra_score\n",
    "best_total = opt_results_df_no_abd.loc[opt_results_df_no_abd.groupby(\"strategy\")[\"total_score\"].idxmin()]\n",
    "best_extras = opt_results_df_no_abd.loc[opt_results_df_no_abd.groupby(\"strategy\")[\"extra_score\"].idxmin()]\n",
    "best_intras = opt_results_df_no_abd.loc[opt_results_df_no_abd.groupby(\"strategy\")[\"intra_score\"].idxmin()]"
   ]
  },
  {
   "cell_type": "code",
   "execution_count": null,
   "id": "abba9b74",
   "metadata": {},
   "outputs": [],
   "source": [
    "opt_results_best_no_abd = {}\n",
    "for idx, row in best_extras.iterrows():\n",
    "    strategy = row[\"strategy\"]\n",
    "    seed = row[\"seed\"]\n",
    "    abd = row.abd\n",
    "    eap = row.eap\n",
    "    \n",
    "    opt_results_best_no_abd[strategy] = {}\n",
    "    \n",
    "    print(\"Strategy\", strategy, \"best seed\", seed, \"abd\", abd)\n",
    "    responses = row[\"responses\"]\n",
    "    opt_results_best_no_abd[strategy][\"best_seed\"] = row.seed\n",
    "    opt_results_best_no_abd[strategy][\"best_responses\"] = row.responses\n",
    "    opt_results_best_no_abd[strategy][\"best_eap\"] = row.eap\n",
    "    opt_results_best_no_abd[strategy][\"best_params\"] = row.params\n",
    "    eap_exp_norm = eap_exp / np.ptp(np.abs(eap_exp), 1, keepdims=True)\n",
    "    eap_norm = eap / np.ptp(np.abs(eap), 1, keepdims=True)\n",
    "    eap_dist = np.sum(np.abs(eap_exp_norm.ravel() - eap_norm.ravel()))\n",
    "    opt_results_best_no_abd[strategy][\"best_eap_dist\"] = eap_dist\n",
    "    print(eap_dist)"
   ]
  },
  {
   "cell_type": "code",
   "execution_count": null,
   "id": "b1d72d23",
   "metadata": {},
   "outputs": [],
   "source": [
    "opt_results_df_abd = opt_results_df.query(\"abd == True\")\n",
    "# best responses are the solutions that minimize extra_score\n",
    "best_total = opt_results_df_abd.loc[opt_results_df_abd.groupby(\"strategy\")[\"total_score\"].idxmin()]\n",
    "best_extras = opt_results_df_abd.loc[opt_results_df_abd.groupby(\"strategy\")[\"extra_score\"].idxmin()]\n",
    "best_intras = opt_results_df_abd.loc[opt_results_df_abd.groupby(\"strategy\")[\"intra_score\"].idxmin()]"
   ]
  },
  {
   "cell_type": "code",
   "execution_count": null,
   "id": "1430ea5a",
   "metadata": {},
   "outputs": [],
   "source": [
    "opt_results_best_abd = {}\n",
    "\n",
    "for idx, row in best_extras.iterrows():\n",
    "    strategy = row[\"strategy\"]\n",
    "    seed = row[\"seed\"]\n",
    "    abd = row.abd\n",
    "    eap = row.eap\n",
    "    \n",
    "    opt_results_best_abd[strategy] = {}\n",
    "    \n",
    "    print(\"Strategy\", strategy, \"best seed\", seed, \"abd\", abd)\n",
    "    responses = row[\"responses\"]\n",
    "    opt_results_best_abd[strategy][\"best_seed\"] = row.seed\n",
    "    opt_results_best_abd[strategy][\"best_responses\"] = row.responses\n",
    "    opt_results_best_abd[strategy][\"best_eap\"] = row.eap\n",
    "    opt_results_best_abd[strategy][\"best_params\"] = row.params\n",
    "    eap_exp_norm = eap_exp / np.ptp(np.abs(eap_exp), 1, keepdims=True)\n",
    "    eap_norm = eap / np.ptp(np.abs(eap), 1, keepdims=True)\n",
    "    eap_dist = np.sum(np.abs(eap_exp_norm.ravel() - eap_norm.ravel()))\n",
    "    opt_results_best_abd[strategy][\"best_eap_dist\"] = eap_dist\n",
    "    print(eap_dist)"
   ]
  },
  {
   "cell_type": "code",
   "execution_count": null,
   "id": "35b34880",
   "metadata": {},
   "outputs": [],
   "source": [
    "selected_strategies = [\"soma\", \"all\"]\n",
    "responses_exp = responses_experimental[1]"
   ]
  },
  {
   "cell_type": "code",
   "execution_count": null,
   "id": "c62f174d",
   "metadata": {
    "scrolled": false
   },
   "outputs": [],
   "source": [
    "# plot\n",
    "figs_intra = {}\n",
    "figs_extra = {}\n",
    "protocols_to_plot = [\"APWaveform_290\", \"IDrest_250\", \"IV_-100\"]\n",
    "titles = protocols_to_plot\n",
    "for strategy in selected_strategies:\n",
    "    responses_to_plot = [responses_exp, opt_results_best_no_abd[strategy][\"best_responses\"]]\n",
    "    colors = [\"k\", colors_dict[strategy]]\n",
    "    labels = [\"GT\", strategy.upper()]\n",
    "    fig_intra = mf.plot_multiple_responses(responses_to_plot, \n",
    "                                           protocol_names=protocols_to_plot,\n",
    "                                           colors=colors, \n",
    "                                           titles=titles,\n",
    "                                           return_fig=True, \n",
    "                                           labels=labels)\n",
    "    \n",
    "    \n",
    "# plor extra\n",
    "fig_extra, ax_extra = plt.subplots(figsize=figsize)\n",
    "ax_extra = mu.plot_mea_recording(eap_exp, probe, vscale=vscale, lw=1, ax=ax_extra)\n",
    "ax_extra.get_lines()[-1].set_label(\"GT\")\n",
    "\n",
    "for strategy in selected_strategies:\n",
    "    eap = opt_results_best_no_abd[strategy][\"best_eap\"]\n",
    "    ax_extra = mu.plot_mea_recording(eap, probe, ax=ax_extra, vscale=vscale, \n",
    "                                     colors=colors_dict[strategy], lw=1)\n",
    "    ax_extra.get_lines()[-1].set_label(strategy.upper())\n",
    "    ax_extra.set_title(\"EAP\", fontsize=15)\n",
    "ax_extra.legend()"
   ]
  },
  {
   "cell_type": "code",
   "execution_count": null,
   "id": "cdfb8f2c",
   "metadata": {
    "scrolled": false
   },
   "outputs": [],
   "source": [
    "# plot\n",
    "figs_intra = {}\n",
    "figs_extra = {}\n",
    "protocols_to_plot = [\"APWaveform_290\", \"IDrest_250\", \"IV_-100\"]\n",
    "titles = protocols_to_plot\n",
    "for strategy in selected_strategies:\n",
    "    responses_to_plot = [responses_exp, opt_results_best_abd[strategy][\"best_responses\"]]\n",
    "    colors = [\"k\", colors_dict[strategy]]\n",
    "    labels = [\"GT\", strategy.upper()]\n",
    "    fig_intra = mf.plot_multiple_responses(responses_to_plot, \n",
    "                                           protocol_names=protocols_to_plot,\n",
    "                                           colors=colors, \n",
    "                                           titles=titles,\n",
    "                                           return_fig=True, \n",
    "                                           labels=labels)\n",
    "    \n",
    "    \n",
    "# plor extra\n",
    "fig_extra, ax_extra = plt.subplots(figsize=figsize)\n",
    "ax_extra = mu.plot_mea_recording(eap_exp, probe, vscale=vscale, lw=1, ax=ax_extra)\n",
    "ax_extra.get_lines()[-1].set_label(\"GT\")\n",
    "\n",
    "for strategy in selected_strategies:\n",
    "    eap = opt_results_best_abd[strategy][\"best_eap\"]\n",
    "    ax_extra = mu.plot_mea_recording(eap, probe, ax=ax_extra, vscale=vscale, \n",
    "                                     colors=colors_dict[strategy], lw=1)\n",
    "    ax_extra.get_lines()[-1].set_label(strategy.upper())\n",
    "    ax_extra.set_title(\"EAP\", fontsize=15)\n",
    "ax_extra.legend()"
   ]
  },
  {
   "cell_type": "markdown",
   "id": "5c9047f9",
   "metadata": {},
   "source": [
    "### Best \"ALL\" ABD vs no ABD"
   ]
  },
  {
   "cell_type": "code",
   "execution_count": null,
   "id": "eda70a80",
   "metadata": {
    "scrolled": false
   },
   "outputs": [],
   "source": [
    "# plot\n",
    "figs_intra = {}\n",
    "figs_extra = {}\n",
    "protocols_to_plot = [\"APWaveform_290\", \"IDrest_250\", \"IV_-100\"]\n",
    "titles = protocols_to_plot\n",
    "\n",
    "strategy = \"all\"\n",
    "\n",
    "responses_to_plot = [responses_exp,\n",
    "                     opt_results_best_no_abd[strategy][\"best_responses\"],\n",
    "                     opt_results_best_abd[strategy][\"best_responses\"]]\n",
    "colors = [\"k\", \"C3\", \"C6\"]\n",
    "labels = [\"GT\", \"No ABD\", \"ABD\"]\n",
    "fig_intra = mf.plot_multiple_responses(responses_to_plot, \n",
    "                                       protocol_names=protocols_to_plot,\n",
    "                                       colors=colors, \n",
    "                                       titles=titles,\n",
    "                                       return_fig=True, \n",
    "                                       labels=labels)\n",
    "\n",
    "    \n",
    "# plor extra\n",
    "fig_extra, ax_extra = plt.subplots(figsize=figsize)\n",
    "ax_extra = mu.plot_mea_recording(eap_exp, probe, vscale=vscale, lw=1, ax=ax_extra)\n",
    "ax_extra.get_lines()[-1].set_label(\"GT\")\n",
    "\n",
    "eap_no_abd = opt_results_best_no_abd[strategy][\"best_eap\"]\n",
    "ax_extra = mu.plot_mea_recording(eap_no_abd, probe, ax=ax_extra, vscale=vscale, \n",
    "                                 colors=colors[1], lw=2)\n",
    "ax_extra.get_lines()[-1].set_label(labels[1])\n",
    "\n",
    "eap_abd = opt_results_best_abd[strategy][\"best_eap\"]\n",
    "ax_extra = mu.plot_mea_recording(eap_abd, probe, ax=ax_extra, vscale=vscale, \n",
    "                                 colors=colors[2], lw=2)\n",
    "ax_extra.get_lines()[-1].set_label(labels[2])\n",
    "\n",
    "ax_extra.set_title(\"EAP\", fontsize=15)\n",
    "ax_extra.legend()"
   ]
  }
 ],
 "metadata": {
  "kernelspec": {
   "display_name": "Python 3 (ipykernel)",
   "language": "python",
   "name": "python3"
  },
  "language_info": {
   "codemirror_mode": {
    "name": "ipython",
    "version": 3
   },
   "file_extension": ".py",
   "mimetype": "text/x-python",
   "name": "python",
   "nbconvert_exporter": "python",
   "pygments_lexer": "ipython3",
   "version": "3.8.13"
  }
 },
 "nbformat": 4,
 "nbformat_minor": 5
}
