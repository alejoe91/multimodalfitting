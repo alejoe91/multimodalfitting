{
 "cells": [
  {
   "cell_type": "markdown",
   "id": "2802976d",
   "metadata": {},
   "source": [
    "# 3) Analyze and evaluate optimization output - training protocols\n",
    "\n",
    "## cell1_211006_3148\n",
    "\n",
    "This final notebook uses the `runs.pkl` file created in notebook 2 and it analyzes:\n",
    "\n",
    "- the distance between different feature sets in the feature space\n",
    "- the distance between different feature sets in the extracellular signals"
   ]
  },
  {
   "cell_type": "code",
   "execution_count": null,
   "id": "0100d836",
   "metadata": {},
   "outputs": [],
   "source": [
    "import pickle\n",
    "import pandas as pd\n",
    "import seaborn as sns\n",
    "import sys\n",
    "import shutil\n",
    "from tqdm import tqdm\n",
    "\n",
    "import bluepyopt as bpopt\n",
    "import bluepyopt.ephys as ephys\n",
    "import neuroplotlib as nplt\n",
    "\n",
    "import matplotlib as mpl\n",
    "import matplotlib.pyplot as plt\n",
    "from scipy.spatial import distance\n",
    "import MEAutility as mu\n",
    "import json\n",
    "import time\n",
    "import numpy as np\n",
    "from pathlib import Path\n",
    "from pprint import pprint\n",
    "\n",
    "import multimodalfitting as mf\n",
    "\n",
    "%matplotlib notebook"
   ]
  },
  {
   "cell_type": "code",
   "execution_count": null,
   "id": "cc192288",
   "metadata": {},
   "outputs": [],
   "source": [
    "# general\n",
    "base_dir = Path(\"../../..\")"
   ]
  },
  {
   "cell_type": "code",
   "execution_count": null,
   "id": "2b4e9ef0",
   "metadata": {},
   "outputs": [],
   "source": [
    "# general\n",
    "cell_name = \"cell1_211006_3148\" # \"cell1_211006_3148\" | \"cell1_211011_3436\"\n",
    "model_name = cell_name\n",
    "ephys_dir = base_dir / \"experimental_data\" / cell_name / \"patch_data\"\n",
    "\n",
    "cell_models_folder = base_dir / \"cell_models\"\n",
    "model_folder = cell_models_folder / cell_name"
   ]
  },
  {
   "cell_type": "code",
   "execution_count": null,
   "id": "31bf26f8",
   "metadata": {},
   "outputs": [],
   "source": [
    "# change this with folder containing your pkl file\n",
    "results_date = '220214'  # '211124' '220111' # \n",
    "result_folder = base_dir / \"results\" / results_date"
   ]
  },
  {
   "cell_type": "code",
   "execution_count": null,
   "id": "e711ad1b",
   "metadata": {},
   "outputs": [],
   "source": [
    "# select abd (axon_bearing_dendrite) option\n",
    "abd = True"
   ]
  },
  {
   "cell_type": "code",
   "execution_count": null,
   "id": "cbd38d0b",
   "metadata": {},
   "outputs": [],
   "source": [
    "save_fig = False\n",
    "figure_folder = Path(\".\") / f\"figures_{cell_name}\"\n",
    "\n",
    "if save_fig:\n",
    "    figure_folder.mkdir(exist_ok=True)"
   ]
  },
  {
   "cell_type": "code",
   "execution_count": null,
   "id": "be3355f7",
   "metadata": {},
   "outputs": [],
   "source": [
    "colors_dict = {\"soma\": \"C0\",\n",
    "               \"all\": \"C1\",\n",
    "               \"sections\": \"C2\",\n",
    "               \"single\": \"C3\"}\n",
    "feature_sets = {\"soma\": \"soma\",\n",
    "                \"all\": \"extra\",\n",
    "                \"sections\": \"extra\",\n",
    "                \"single\": \"extra\"}\n",
    "figsize = (10, 7)"
   ]
  },
  {
   "cell_type": "markdown",
   "id": "7f3462e3",
   "metadata": {},
   "source": [
    "# Define cell model and load optimization output"
   ]
  },
  {
   "cell_type": "code",
   "execution_count": null,
   "id": "566dfb7c",
   "metadata": {},
   "outputs": [],
   "source": [
    "cell = mf.create_experimental_model(model_name=cell_name, abd=abd)\n",
    "cell_sample = mf.create_experimental_model(model_name=cell_name, release=True, abd=abd)\n",
    "\n",
    "probe = mf.define_electrode(probe_file=model_folder / \"fitting\" / \"efeatures\" / \"probe_BPO.json\")\n",
    "param_names = [param.name for param in cell.params.values() if not param.frozen]"
   ]
  },
  {
   "cell_type": "code",
   "execution_count": null,
   "id": "f3669851",
   "metadata": {},
   "outputs": [],
   "source": [
    "pkl_file_name = \"runs.pkl\""
   ]
  },
  {
   "cell_type": "code",
   "execution_count": null,
   "id": "cf1a954f",
   "metadata": {},
   "outputs": [],
   "source": [
    "data = pickle.load(open(result_folder / pkl_file_name, 'rb'))\n",
    "df_optimization = pd.DataFrame(data)\n",
    "df_model = df_optimization.query(f\"model == '{model_name}'\")\n",
    "# set strategy column\n",
    "df_model.loc[:, \"strategy\"] = df_model[\"extra_strategy\"].values.copy()\n",
    "df_model.loc[df_model[\"feature_set\"] == \"soma\", \"strategy\"] = \"soma\"\n",
    "\n",
    "results_name = f\"opt_results_training_{model_name}\"\n",
    "if abd:\n",
    "    results_name += \"_abd\"\n",
    "else:\n",
    "    results_name += \"_noabd\"\n",
    "results_file = f\"{results_name}.pkl\"\n",
    "\n",
    "opt_results_training = None\n",
    "if (result_folder / results_file).is_file():\n",
    "    with open(result_folder / results_file, 'rb') as f:\n",
    "        opt_results_training = pickle.load(f)"
   ]
  },
  {
   "cell_type": "code",
   "execution_count": null,
   "id": "2367846e",
   "metadata": {},
   "outputs": [],
   "source": [
    "fig, ax = plt.subplots()\n",
    "min_evals = 3000\n",
    "\n",
    "keep_idxs = []\n",
    "for idx, row in df_model.iterrows():\n",
    "    color = mpl.colors.to_rgb(colors_dict[row[\"strategy\"]])\n",
    "    if row[\"abd\"]:\n",
    "        keep_idxs.append(idx)\n",
    "        ax.plot(row[\"nevals\"], \n",
    "                row[\"logbook\"].select(\"min\"),\n",
    "                color=color,\n",
    "                ls='-', \n",
    "                lw=0.5,\n",
    "                alpha=0.75)\n",
    "    else:\n",
    "        color = np.clip(np.array(color) - 0.3, 0, 1)\n",
    "        ax.plot(row[\"nevals\"], \n",
    "                row[\"logbook\"].select(\"min\"),\n",
    "                color=color,\n",
    "                ls='-', \n",
    "                lw=0.5,\n",
    "                alpha=0.75)\n",
    "\n",
    "ax.set_title(\"Min fitness\")\n",
    "ax.spines[\"top\"].set_visible(False)\n",
    "ax.spines[\"right\"].set_visible(False)\n",
    "ax.set_xlabel(\"Neval\")\n",
    "ax.set_ylabel(\"Min fitness\")\n",
    "ax.set_yscale('log')"
   ]
  },
  {
   "cell_type": "code",
   "execution_count": null,
   "id": "47774cbc",
   "metadata": {},
   "outputs": [],
   "source": [
    "df_model = df_model.query(f\"abd == {abd}\")"
   ]
  },
  {
   "cell_type": "markdown",
   "id": "f82df2d2",
   "metadata": {},
   "source": [
    "# Load protocols and experimental features"
   ]
  },
  {
   "cell_type": "code",
   "execution_count": null,
   "id": "2f7db931",
   "metadata": {},
   "outputs": [],
   "source": [
    "extra_kwargs = mf.utils.get_extra_kwargs()\n",
    "extra_kwargs[\"ms_cut\"] = [2, 5]"
   ]
  },
  {
   "cell_type": "code",
   "execution_count": null,
   "id": "d42063ad",
   "metadata": {},
   "outputs": [],
   "source": [
    "extra_kwargs"
   ]
  },
  {
   "cell_type": "code",
   "execution_count": null,
   "id": "30972ccb",
   "metadata": {},
   "outputs": [],
   "source": [
    "protocol_for_eap = \"IDrest_300\""
   ]
  },
  {
   "cell_type": "code",
   "execution_count": null,
   "id": "cfd8b2f8",
   "metadata": {},
   "outputs": [],
   "source": [
    "eva_extra = mf.create_evaluator(\n",
    "    model_name=model_name,\n",
    "    feature_set=\"extra\",\n",
    "    extra_strategy=\"all\",\n",
    "    protocols_with_lfp=protocol_for_eap,\n",
    "    abd=abd,\n",
    "    **extra_kwargs\n",
    ")"
   ]
  },
  {
   "cell_type": "code",
   "execution_count": null,
   "id": "33d6eb25",
   "metadata": {},
   "outputs": [],
   "source": [
    "# check num features\n",
    "for strategy in np.unique(df_model.strategy):\n",
    "    extra_strategy = strategy if strategy in [\"all\", \"single\", \"sections\"] else None\n",
    "    eva = mf.create_evaluator(\n",
    "        model_name=model_name,\n",
    "        feature_set=feature_sets[strategy],\n",
    "        extra_strategy=extra_strategy,\n",
    "        protocols_with_lfp=\"IDrest_300\",\n",
    "        **extra_kwargs\n",
    "    )\n",
    "    print(f\"Strategy {strategy} --> num features {len(eva.fitness_calculator.objectives)}\")\n",
    "    \n",
    "print(f\"Validation: --> num features {len(eva_extra.fitness_calculator.objectives)}\")"
   ]
  },
  {
   "cell_type": "markdown",
   "id": "4129411f",
   "metadata": {},
   "source": [
    "## Load experimental responses"
   ]
  },
  {
   "cell_type": "code",
   "execution_count": null,
   "id": "c2ff2ac2",
   "metadata": {},
   "outputs": [],
   "source": [
    "from bluepyefe.extract import read_recordings, extract_efeatures_at_targets, compute_rheobase,\\\n",
    "    group_efeatures, create_feature_protocol_files, convert_legacy_targets\n",
    "from bluepyefe.plotting import plot_all_recordings_efeatures\n",
    "\n",
    "from multimodalfitting.efeatures_extraction import build_wcp_metadata, wcp_reader, get_ecode_targets, \\\n",
    "    ecodes_wcp_timings"
   ]
  },
  {
   "cell_type": "code",
   "execution_count": null,
   "id": "ba8b8787",
   "metadata": {},
   "outputs": [],
   "source": [
    "# define timings for this experiment\n",
    "ecodes_cell_timings = {\n",
    "    \"IDthres\": {\n",
    "        'ton': 400,\n",
    "        'toff': 670\n",
    "    },\n",
    "    \"firepattern\": {\n",
    "        'ton': 500,\n",
    "        'toff': 4100\n",
    "    },\n",
    "    \"IV\": {\n",
    "        'ton': 400,\n",
    "        'toff': 3400\n",
    "    },\n",
    "    \"IDrest\": {\n",
    "        'ton': 400,\n",
    "        'toff': 1750\n",
    "    },\n",
    "    \"APWaveform\": {\n",
    "        'ton': 350,\n",
    "        'toff': 400\n",
    "    },\n",
    "    \"HyperDepol\": {\n",
    "        'ton': 400,\n",
    "        'toff': 1120,\n",
    "        'tmid': 850\n",
    "    },\n",
    "    \"sAHP\": {\n",
    "        'ton': 400,\n",
    "        'toff': 1325,\n",
    "        'tmid': 650,\n",
    "        'tmid2': 875\n",
    "    },\n",
    "    \"PosCheops\": {\n",
    "        'ton': 1000,\n",
    "        't1': 9000,\n",
    "        't2': 10500,\n",
    "        't3': 14500,\n",
    "        't4': 16000,\n",
    "        'toff': 18660\n",
    "    }\n",
    "}"
   ]
  },
  {
   "cell_type": "code",
   "execution_count": null,
   "id": "ad6baf49",
   "metadata": {},
   "outputs": [],
   "source": [
    "if cell_name == \"cell1_211006_3148\":\n",
    "    runs = [1, 2, 3, 4, 5]  # run1 --> different rheobase\n",
    "elif cell_name == \"cell1_211011_3436\":\n",
    "    runs = [3, 4, 5, 6]\n",
    "    \n",
    "ecode_names = list(ecodes_cell_timings.keys())\n",
    "\n",
    "files_list = []\n",
    "\n",
    "for run in runs:\n",
    "    rep_dict = {}\n",
    "    for ecode in ecode_names:\n",
    "        for patch_file in ephys_dir.iterdir():\n",
    "            if f\"run{run}\" in patch_file.name and ecode.lower() in patch_file.name:\n",
    "                rep_dict[ecode] = patch_file\n",
    "    files_list.append(rep_dict)"
   ]
  },
  {
   "cell_type": "code",
   "execution_count": null,
   "id": "57b66586",
   "metadata": {},
   "outputs": [],
   "source": [
    "files_metadata = build_wcp_metadata(cell_id=cell_name, \n",
    "                                    files_list=files_list, \n",
    "                                    ecode_timings=ecodes_cell_timings, \n",
    "                                    repetition_as_different_cells=False)"
   ]
  },
  {
   "cell_type": "code",
   "execution_count": null,
   "id": "70cdd173",
   "metadata": {},
   "outputs": [],
   "source": [
    "cells = read_recordings(\n",
    "    files_metadata=files_metadata,\n",
    "    recording_reader=wcp_reader\n",
    ")"
   ]
  },
  {
   "cell_type": "code",
   "execution_count": null,
   "id": "adb19a1c",
   "metadata": {},
   "outputs": [],
   "source": [
    "# define target features for different protocols\n",
    "targets = get_ecode_targets(ecodes_cell_timings)"
   ]
  },
  {
   "cell_type": "code",
   "execution_count": null,
   "id": "b57dfcee",
   "metadata": {},
   "outputs": [],
   "source": [
    "global_tolerance = 30\n",
    "for target in targets:\n",
    "    target[\"tolerance\"] = global_tolerance"
   ]
  },
  {
   "cell_type": "code",
   "execution_count": null,
   "id": "500c1afa",
   "metadata": {},
   "outputs": [],
   "source": [
    "if cell_name == \"cell1_211006_3148\":\n",
    "    majority = 0.4\n",
    "else:\n",
    "    majority = 0.2"
   ]
  },
  {
   "cell_type": "code",
   "execution_count": null,
   "id": "6467a09d",
   "metadata": {},
   "outputs": [],
   "source": [
    "compute_rheobase(\n",
    "    cells, \n",
    "    protocols_rheobase=['IDthres'],\n",
    "    rheobase_strategy=\"majority\",\n",
    "    rheobase_settings={\"majority\": majority}\n",
    ")"
   ]
  },
  {
   "cell_type": "code",
   "execution_count": null,
   "id": "747509b0",
   "metadata": {},
   "outputs": [],
   "source": [
    "print(f\"Cell rheobase: {cells[0].rheobase}\")"
   ]
  },
  {
   "cell_type": "code",
   "execution_count": null,
   "id": "0df92139",
   "metadata": {},
   "outputs": [],
   "source": [
    "protocols = group_efeatures(cells, targets, use_global_rheobase=True)"
   ]
  },
  {
   "cell_type": "code",
   "execution_count": null,
   "id": "8d8bc08e",
   "metadata": {},
   "outputs": [],
   "source": [
    "protocols_opt = list(eva_extra.fitness_protocols.keys())\n",
    "print(protocols_opt)"
   ]
  },
  {
   "cell_type": "code",
   "execution_count": null,
   "id": "7a166d89",
   "metadata": {},
   "outputs": [],
   "source": [
    "all_protocols = list(ecodes_cell_timings.keys())\n",
    "print(all_protocols)"
   ]
  },
  {
   "cell_type": "markdown",
   "id": "73b1302d",
   "metadata": {},
   "source": [
    "### Build BPO response dicts"
   ]
  },
  {
   "cell_type": "code",
   "execution_count": null,
   "id": "59b61551",
   "metadata": {},
   "outputs": [],
   "source": [
    "responses_experimental = []\n",
    "responses_all = []\n",
    "num_runs = len(protocols[0].recordings)\n",
    "for run in range(num_runs):\n",
    "    print(f\"Populating responses for run {run}\")\n",
    "    response_dict = {}\n",
    "    response_all_dict = {}\n",
    "    for protocol in protocols:\n",
    "        for i, rec in enumerate(protocol.recordings):\n",
    "            if i == run:\n",
    "                response = bpopt.ephys.responses.TimeVoltageResponse(name=protocol.name,\n",
    "                                                                     time=rec.t, voltage=rec.voltage)\n",
    "                response_all_dict[f\"{protocol.stimulus_name}.soma.v\"] = response\n",
    "                if protocol.stimulus_name in protocols_opt:\n",
    "                    response_dict[f\"{protocol.stimulus_name}.soma.v\"] = response\n",
    "    responses_experimental.append(response_dict)\n",
    "    responses_all.append(response_all_dict)"
   ]
  },
  {
   "cell_type": "code",
   "execution_count": null,
   "id": "7e4d8fb9",
   "metadata": {},
   "outputs": [],
   "source": [
    "responses_to_plot = [\"APWaveform_290\", \"IDrest_250\", \"firepattern_200\", \"sAHP_250\", \"PosCheops_300\"]\n",
    "titles = responses_to_plot"
   ]
  },
  {
   "cell_type": "code",
   "execution_count": null,
   "id": "26b36522",
   "metadata": {},
   "outputs": [],
   "source": [
    "fig_exp_sample = mf.plot_responses(responses_all[2], return_fig=True, \n",
    "                                   titles=titles, protocol_names=responses_to_plot,\n",
    "                                   color=\"k\")"
   ]
  },
  {
   "cell_type": "code",
   "execution_count": null,
   "id": "0c687397",
   "metadata": {},
   "outputs": [],
   "source": [
    "if save_fig:\n",
    "    fig_exp_sample.savefig(figure_folder / f\"{cell_name}_sample_response.pdf\")\n",
    "    fig_exp_sample.savefig(figure_folder / f\"{cell_name}_sample_response.png\", dpi=300)  "
   ]
  },
  {
   "cell_type": "code",
   "execution_count": null,
   "id": "9c61e39d",
   "metadata": {},
   "outputs": [],
   "source": [
    "# fig_exp_intra = mf.plot_multiple_responses(responses_all, return_fig=True, \n",
    "#                                            labels=[f\"run{i}\" for i in range(num_runs)])"
   ]
  },
  {
   "cell_type": "code",
   "execution_count": null,
   "id": "59489e00",
   "metadata": {},
   "outputs": [],
   "source": [
    "eap_exp = np.load(model_folder / \"fitting\" / \"efeatures\" / \"template_BPO.npy\") / 1000"
   ]
  },
  {
   "cell_type": "code",
   "execution_count": null,
   "id": "b58c6cfd",
   "metadata": {},
   "outputs": [],
   "source": [
    "ax = mu.plot_mea_recording(eap_exp, probe)\n",
    "fig_exp_extra = ax.get_figure()"
   ]
  },
  {
   "cell_type": "code",
   "execution_count": null,
   "id": "69f47200",
   "metadata": {},
   "outputs": [],
   "source": [
    "vscale = np.max(np.abs(eap_exp))"
   ]
  },
  {
   "cell_type": "code",
   "execution_count": null,
   "id": "59df1656",
   "metadata": {},
   "outputs": [],
   "source": [
    "if save_fig:\n",
    "    fig_exp_intra.savefig(figure_folder / \"exp_intra.png\", dpi=300)\n",
    "    fig_exp_extra.savefig(figure_folder / \"exp_extra.png\", dpi=300)"
   ]
  },
  {
   "cell_type": "markdown",
   "id": "bb783473",
   "metadata": {},
   "source": [
    "# Compute and plot best responses"
   ]
  },
  {
   "cell_type": "code",
   "execution_count": null,
   "id": "d34cc97d",
   "metadata": {},
   "outputs": [],
   "source": [
    "max_feature_value = 50\n",
    "if opt_results_all is None:\n",
    "    opt_results_all = {}\n",
    "    compute_responses = True\n",
    "else:\n",
    "    compute_responses = False"
   ]
  },
  {
   "cell_type": "code",
   "execution_count": null,
   "id": "a9ed7a2e",
   "metadata": {},
   "outputs": [],
   "source": [
    "param_boundaries = {}\n",
    "for param_name, param in eva_extra.cell_model.params.items():\n",
    "    if not param.frozen:\n",
    "        param_boundaries[param_name] = param.bounds"
   ]
  },
  {
   "cell_type": "code",
   "execution_count": null,
   "id": "132647ca",
   "metadata": {},
   "outputs": [],
   "source": [
    "if compute_responses:\n",
    "    for strategy in np.unique(df_model.strategy):\n",
    "        print(f\"Simulating best '{strategy}'\")\n",
    "        # simulate all responses\n",
    "        opt_df = df_model.query(f\"strategy == '{strategy}'\")\n",
    "        opt_results_all[strategy] = {}\n",
    "\n",
    "        all_responses = {}\n",
    "        all_eaps = {}\n",
    "        all_params = {}\n",
    "        for idx, row in opt_df.iterrows():\n",
    "            seed = row.seed\n",
    "            print(\"\\tSeed\", row.seed)\n",
    "            population = row.population\n",
    "            scores = [sum(pop.fitness.values) for pop in population]\n",
    "            best_individual_idx = np.argmin(scores)\n",
    "            params = population[best_individual_idx]\n",
    "            params_dict = {k: v for k, v in zip(param_names, params)}\n",
    "            for param_name, param_value in params_dict.items():\n",
    "                bounds = param_boundaries[param_name]\n",
    "                if param_value < bounds[0] or param_value > bounds[1]:\n",
    "                    print(f\"{param_name} out of bounds: {bounds}\")\n",
    "            all_params[seed] = params_dict\n",
    "            responses_seed = eva_extra.run_protocols(eva_extra.fitness_protocols.values(), \n",
    "                                                     param_values=params_dict)\n",
    "            all_responses[seed] = responses_seed\n",
    "            eap_seed = mf.utils.calculate_eap(responses=responses_seed, protocols=eva_extra.fitness_protocols, \n",
    "                                              protocol_name=protocol_for_eap, align_extra=True, **extra_kwargs)\n",
    "            all_eaps[seed] = eap_seed\n",
    "        opt_results_all[strategy][\"eaps\"] = all_eaps\n",
    "        opt_results_all[strategy][\"responses\"] = all_responses\n",
    "        opt_results_all[strategy][\"params\"] = all_params"
   ]
  },
  {
   "cell_type": "code",
   "execution_count": null,
   "id": "5a08bc23",
   "metadata": {},
   "outputs": [],
   "source": [
    "if compute_responses:\n",
    "    for strategy in opt_results_all:\n",
    "        print(strategy)\n",
    "        opt_results_all[strategy][\"fitness\"] = {}\n",
    "        for seed, responses in opt_results_all[strategy][\"responses\"].items():\n",
    "            extra_fitness = 0\n",
    "            intra_fitness = 0\n",
    "            for i in tqdm(np.arange(len(eva_extra.fitness_calculator.objectives)), \n",
    "                          desc=f\"computing features {strategy}\"):\n",
    "                obj = eva_extra.fitness_calculator.objectives[i]\n",
    "                feat = obj.features[0]\n",
    "                if len(obj.features) == 1:\n",
    "                    feat_value = obj.features[0].calculate_feature(responses)\n",
    "                    feat_score = obj.features[0].calculate_score(responses)\n",
    "                    if \"MEA\" in feat.name:\n",
    "                        extra_fitness += feat_score\n",
    "                    else:\n",
    "                        intra_fitness += feat_score\n",
    "            opt_results_all[strategy][\"fitness\"][seed] = {\"intra\": intra_fitness, \"extra\": extra_fitness, \n",
    "                                                          \"total\": intra_fitness + extra_fitness}\n",
    "            print(\"seed\", seed)\n",
    "            print(\"\\tINTRA\", intra_fitness)\n",
    "            print(\"\\tEXTRA\", extra_fitness)\n",
    "            print(\"\\tTOTAL\", intra_fitness + extra_fitness)"
   ]
  },
  {
   "cell_type": "code",
   "execution_count": null,
   "id": "3657f829",
   "metadata": {},
   "outputs": [],
   "source": [
    "seeds_array = []\n",
    "strategy_array = []\n",
    "intra_score_array = []\n",
    "extra_score_array = []\n",
    "total_score_array = []\n",
    "\n",
    "for strategy in opt_results_all:\n",
    "    for seed, fitness in opt_results_all[strategy][\"fitness\"].items():\n",
    "        seeds_array.append(seed)\n",
    "        strategy_array.append(strategy)\n",
    "        intra_score_array.append(fitness[\"intra\"])\n",
    "        extra_score_array.append(fitness[\"extra\"])\n",
    "        total_score_array.append(fitness[\"total\"])\n",
    "df_fitness = pd.DataFrame({\"seed\": seeds_array, \"strategy\": strategy_array,\n",
    "                           \"intra_score\": intra_score_array, \"extra_score\": extra_score_array, \n",
    "                           \"total_score\": total_score_array})"
   ]
  },
  {
   "cell_type": "code",
   "execution_count": null,
   "id": "12d53dfc",
   "metadata": {},
   "outputs": [],
   "source": [
    "# best responses are the solutions that minimize extra_score\n",
    "best_extras = df_fitness.iloc[df_fitness.groupby(\"strategy\")[\"extra_score\"].idxmin()]\n",
    "best_extras"
   ]
  },
  {
   "cell_type": "code",
   "execution_count": null,
   "id": "caf70dc4",
   "metadata": {},
   "outputs": [],
   "source": [
    "colors = [colors_dict[strat] for strat in order]\n",
    "fig_intra_seeds, ax = plt.subplots(figsize=(7, 10))\n",
    "sns.boxplot(data=df_fitness, x=\"strategy\", y=\"intra_score\", order=order, \n",
    "            palette=colors_dict, ax=ax)\n",
    "ax.set_xlabel(\"Strategy\", fontsize=15)\n",
    "ax.set_ylabel(\"Score\", fontsize=15)\n",
    "ax.spines[\"top\"].set_visible(False)\n",
    "ax.spines[\"right\"].set_visible(False)\n",
    "ax.set_xticklabels(ax.get_xticklabels(), fontsize=12)\n",
    "ax.set_title(\"Intracellular\\n(10 seeds)\", fontsize=20)\n",
    "\n",
    "fig_extra_seeds, ax = plt.subplots(figsize=(7, 10))\n",
    "sns.boxplot(data=df_fitness, x=\"strategy\", y=\"extra_score\", \n",
    "            palette=colors_dict, order=order)\n",
    "ax.set_xlabel(\"Strategy\", fontsize=15)\n",
    "ax.set_ylabel(\"Score\", fontsize=15)\n",
    "ax.spines[\"top\"].set_visible(False)\n",
    "ax.spines[\"right\"].set_visible(False)\n",
    "ax.set_xticklabels(ax.get_xticklabels(), fontsize=12)\n",
    "ax.set_title(\"Extracellular\\n(10 seeds)\", fontsize=20)"
   ]
  },
  {
   "cell_type": "code",
   "execution_count": null,
   "id": "abba9b74",
   "metadata": {},
   "outputs": [],
   "source": [
    "for idx, row in best_extras.iterrows():\n",
    "    strategy = row[\"strategy\"]\n",
    "    seed = row[\"seed\"]\n",
    "    print(\"Strategy\", strategy, \"best seed\", seed)\n",
    "    responses = opt_results_all[strategy][\"responses\"][seed]\n",
    "    eap = opt_results_all[strategy][\"eaps\"][seed]\n",
    "    params = opt_results_all[strategy][\"params\"][seed]\n",
    "    opt_results_all[strategy][\"best_seed\"] = seed\n",
    "    opt_results_all[strategy][\"best_responses\"] = responses\n",
    "    opt_results_all[strategy][\"best_eap\"] = eap\n",
    "    opt_results_all[strategy][\"best_params\"] = params\n",
    "    eap_exp_norm = eap_exp / np.ptp(np.abs(eap_exp), 1, keepdims=True)\n",
    "    eap_norm = eap / np.ptp(np.abs(eap), 1, keepdims=True)\n",
    "    eap_dist = np.sum(np.abs(eap_exp_norm.ravel() - eap_norm.ravel()))\n",
    "    opt_results_all[strategy][\"best_eap_dist\"] = eap_dist\n",
    "    print(eap_dist)"
   ]
  },
  {
   "cell_type": "code",
   "execution_count": null,
   "id": "615b0a80",
   "metadata": {},
   "outputs": [],
   "source": [
    "responses_exp = responses_experimental[1]"
   ]
  },
  {
   "cell_type": "code",
   "execution_count": null,
   "id": "905f3cdc",
   "metadata": {},
   "outputs": [],
   "source": [
    "# plot\n",
    "figs_intra = {}\n",
    "figs_extra = {}\n",
    "protocols_to_plot = [\"APWaveform_290\", \"IDrest_250\", \"IV_-100\"]\n",
    "titles = protocols_to_plot\n",
    "for strategy in np.unique(df_model.strategy):\n",
    "    responses_to_plot = [responses_exp, opt_results_all[strategy][\"best_responses\"]]\n",
    "    colors = [\"k\", colors_dict[strategy]]\n",
    "    labels = [\"GT\", strategy.upper()]\n",
    "    fig_intra = mf.plot_multiple_responses(responses_to_plot, \n",
    "                                           protocol_names=protocols_to_plot,\n",
    "                                           colors=colors, \n",
    "                                           titles=titles,\n",
    "                                           return_fig=True, \n",
    "                                           labels=labels)\n",
    "    eap = opt_results_all[strategy][\"best_eap\"]\n",
    "    fig_extra, ax_extra = plt.subplots(figsize=figsize)\n",
    "    ax_extra = mu.plot_mea_recording(eap_exp, probe, vscale=vscale, lw=1, ax=ax_extra)\n",
    "    ax_extra.get_lines()[-1].set_label(\"GT\")\n",
    "    ax_extra = mu.plot_mea_recording(eap, probe, ax=ax_extra, vscale=vscale, \n",
    "                                     colors=colors_dict[strategy], lw=1)\n",
    "    ax_extra.get_lines()[-1].set_label(strategy.upper())\n",
    "    ax_extra.set_title(\"EAP\", fontsize=15)\n",
    "    ax_extra.legend()\n",
    "    figs_intra[strategy] = fig_intra\n",
    "    figs_extra[strategy] = fig_extra"
   ]
  },
  {
   "cell_type": "code",
   "execution_count": null,
   "id": "abe9dc53",
   "metadata": {},
   "outputs": [],
   "source": [
    "# for strategy in np.unique(df_model.strategy):\n",
    "#     opt_results[strategy] = {}\n",
    "#     opt_df = df_model.query(f\"strategy == '{strategy}'\")\n",
    "#     best_idx = np.argmin(opt_df.best_fitness)\n",
    "#     params_sample = opt_df.iloc[best_idx]\n",
    "#     params_dict = {k: v for k, v in zip(param_names, params_sample.best_params)}\n",
    "#     opt_results[strategy][\"best_fitness\"] = params_sample.best_fitness\n",
    "#     opt_results[strategy][\"best_params\"] = params_dict\n",
    "#     print(f\"{strategy} --  best fitness: {params_sample.best_fitness}\")"
   ]
  },
  {
   "cell_type": "code",
   "execution_count": null,
   "id": "eca9aea0",
   "metadata": {},
   "outputs": [],
   "source": [
    "# for strategy in np.unique(df_model.strategy):\n",
    "#     print(f\"Simulating best '{strategy}'\")\n",
    "#     responses = eva_extra.run_protocols(eva_extra.fitness_protocols.values(), \n",
    "#                                         param_values=opt_results[strategy][\"best_params\"])\n",
    "#     opt_results[strategy][\"responses\"] = responses\n",
    "#     eap = mf.utils.calculate_eap(responses=responses, protocols=eva_extra.fitness_protocols, \n",
    "#                                  protocol_name=protocol_for_eap, align_extra=True, **extra_kwargs)\n",
    "#     opt_results[strategy][\"eap\"] = eap   \n",
    "#     eap_dist = distance.cosine(eap_exp.ravel(), eap.ravel())\n",
    "#     opt_results[strategy][\"eap_dist\"] = eap_dist"
   ]
  },
  {
   "cell_type": "code",
   "execution_count": null,
   "id": "e7468b15",
   "metadata": {},
   "outputs": [],
   "source": [
    "for strategy in np.unique(df_model.strategy):\n",
    "    responses = opt_results_all[strategy][\"best_responses\"]\n",
    "    features_best = {}\n",
    "    for i in tqdm(np.arange(len(eva_extra.fitness_calculator.objectives)), \n",
    "                  desc=f\"computing features {strategy}\"):\n",
    "        obj = eva_extra.fitness_calculator.objectives[i]\n",
    "        feat = obj.features[0]\n",
    "        features_best[feat.name] = {}\n",
    "        if len(obj.features) == 1:\n",
    "            feat_value = obj.features[0].calculate_feature(responses)\n",
    "            if feat_value is None:\n",
    "                feat_value = max_feature_value\n",
    "            features_best[feat.name][\"value\"] = feat_value\n",
    "            if \"MEA\" not in feat.name:\n",
    "                feat_score = np.abs(feat.exp_mean - feat_value) / feat.exp_std\n",
    "            else:\n",
    "                feat_score = np.abs(distance.cosine(feat.exp_mean, feat_value))\n",
    "            features_best[feat.name][\"score\"] = feat_score\n",
    "        else:\n",
    "            print(f\"More than one feature for objective: {obj.name}\")\n",
    "    opt_results_all[strategy][\"features\"] = features_best"
   ]
  },
  {
   "cell_type": "code",
   "execution_count": null,
   "id": "d1b3c65c",
   "metadata": {},
   "outputs": [],
   "source": [
    "opt_results_all[\"exp\"] = {}\n",
    "opt_results_all[\"exp\"][\"responses\"] = responses_all\n",
    "opt_results_all[\"exp\"][\"eap\"] = eap_exp"
   ]
  },
  {
   "cell_type": "code",
   "execution_count": null,
   "id": "a0a9ddaa",
   "metadata": {},
   "outputs": [],
   "source": [
    "with open(result_folder / results_file, 'wb') as f:\n",
    "    pickle.dump(opt_results_all, f, protocol=pickle.HIGHEST_PROTOCOL)"
   ]
  },
  {
   "cell_type": "code",
   "execution_count": null,
   "id": "05c37a04",
   "metadata": {},
   "outputs": [],
   "source": [
    "# # plot\n",
    "# response_experimental_plot = responses_experimental[1]\n",
    "# for strategy in np.unique(df_model.strategy):\n",
    "#     responses_to_plot = [response_experimental_plot, opt_results[strategy][\"responses\"]]\n",
    "#     eap = opt_results[strategy][\"eap\"]\n",
    "#     colors = [\"k\", colors_dict[strategy]]\n",
    "#     labels = [\"GT\", strategy.upper()]\n",
    "#     fig_extra_intra_single = mf.plot_multiple_responses(responses_to_plot, \n",
    "#                                                         colors=colors, return_fig=True, \n",
    "#                                                         labels=labels)\n",
    "#     fig, ax_extra = plt.subplots(figsize=figsize)\n",
    "#     ax_extra = mu.plot_mea_recording(eap_exp, probe, vscale=vscale, lw=1, ax=ax_extra)\n",
    "#     ax_extra.get_lines()[-1].set_label(\"GT\")\n",
    "#     ax_extra = mu.plot_mea_recording(eap, probe, ax=ax_extra, vscale=vscale, \n",
    "#                                      colors=colors_dict[strategy], lw=1)\n",
    "#     ax_extra.get_lines()[-1].set_label(strategy.upper())\n",
    "#     ax_extra.set_title(\"EAP\", fontsize=15)\n",
    "#     ax_extra.legend()\n",
    "# #     ax_extra = mf.plot_multiple_eaps(responses_to_plot, \n",
    "# #                                      eva_extra.fitness_protocols, probe,\n",
    "# #                                      protocol_name=protocol_for_eap, \n",
    "# #                                      colors=colors, labels=labels)"
   ]
  },
  {
   "cell_type": "code",
   "execution_count": null,
   "id": "6007c08b",
   "metadata": {},
   "outputs": [],
   "source": [
    "# for strategy in opt_results:\n",
    "#     print(f\"Cosine dist {strategy}: {opt_results[strategy]['eap_dist']}\")"
   ]
  },
  {
   "cell_type": "markdown",
   "id": "1f0812df",
   "metadata": {},
   "source": [
    "## Compare best-fitted models"
   ]
  },
  {
   "cell_type": "code",
   "execution_count": null,
   "id": "78a2a557",
   "metadata": {},
   "outputs": [],
   "source": [
    "# df_test = pd.DataFrame.from_dict(opt_results_all, orient=\"index\")\n",
    "# df_test[\"strategy\"] = df_test.index"
   ]
  },
  {
   "cell_type": "markdown",
   "id": "ea5152ac",
   "metadata": {},
   "source": [
    "### Compare features"
   ]
  },
  {
   "cell_type": "code",
   "execution_count": null,
   "id": "6743c85a",
   "metadata": {},
   "outputs": [],
   "source": [
    "feature_name_array = []\n",
    "feature_set_array = []\n",
    "feature_score_array = []\n",
    "feature_type_array = []\n",
    "\n",
    "for strategy in np.unique(df_model.strategy):\n",
    "    res = opt_results_all[strategy]\n",
    "    feats = res[\"features\"]\n",
    "    for feat_name, feat_dict in feats.items():\n",
    "        feature_set_array.append(strategy)\n",
    "        feature_name_array.append(feat_name)\n",
    "        if \"MEA\" not in feat_name:\n",
    "            feature_type_array.append(\"intra\")\n",
    "        else:\n",
    "            feature_type_array.append(\"extra\")\n",
    "        feature_score_array.append(feat_dict[\"score\"])\n",
    "        \n",
    "df_feats = pd.DataFrame({\"feature_set\": feature_set_array, \"feat_name\": feature_name_array,\n",
    "                         \"feat_score\": feature_score_array, \"feature_type\": feature_type_array})"
   ]
  },
  {
   "cell_type": "code",
   "execution_count": null,
   "id": "73b04325",
   "metadata": {},
   "outputs": [],
   "source": [
    "fig_feat_intra, ax = plt.subplots(figsize=figsize)\n",
    "\n",
    "sns.boxplot(data=df_feats.query(\"feature_type == 'intra'\"), y=\"feature_set\",\n",
    "            x=\"feat_score\", ax=ax, palette=colors_dict)\n",
    "ax.set_ylabel(\"Feature scores (intracellular)\", fontsize=12)\n",
    "ax.spines[\"top\"].set_visible(False)\n",
    "ax.spines[\"right\"].set_visible(False)\n",
    "ax.set_title(\"Intracellular features\", fontsize=15)\n",
    "\n",
    "fig_feat_extra, ax = plt.subplots(figsize=figsize)\n",
    "\n",
    "sns.boxplot(data=df_feats.query(\"feature_type == 'extra'\"), \n",
    "            y=\"feature_set\", x=\"feat_score\", ax=ax, palette=colors_dict)\n",
    "ax.set_ylabel(\"Feature scores (extracellular)\", fontsize=12)\n",
    "ax.spines[\"top\"].set_visible(False)\n",
    "ax.spines[\"right\"].set_visible(False)\n",
    "ax.set_title(\"Extracellular features\", fontsize=15)\n"
   ]
  },
  {
   "cell_type": "markdown",
   "id": "1dfce32e",
   "metadata": {},
   "source": [
    "### Compare EAP dist"
   ]
  },
  {
   "cell_type": "code",
   "execution_count": null,
   "id": "aa7fffda",
   "metadata": {},
   "outputs": [],
   "source": [
    "fig_cos, ax = plt.subplots()\n",
    "sns.barplot(data=df_test, x=\"strategy\", y=\"eap_dist\", ax=ax)\n",
    "ax.set_ylabel(\"Cosine distance\", fontsize=12)\n",
    "ax.spines[\"top\"].set_visible(False)\n",
    "ax.spines[\"right\"].set_visible(False)\n",
    "ax.set_title(\"Extracellular difference\", fontsize=15)"
   ]
  },
  {
   "cell_type": "code",
   "execution_count": null,
   "id": "be0a5dad",
   "metadata": {},
   "outputs": [],
   "source": [
    "fig, ax = plt.subplots(figsize=(10, 10))\n",
    "ax = mu.plot_mea_recording(eap_exp, probe, ax=ax)\n",
    "mf.plot_cell(cell=eva_extra.cell_model, sim=eva_extra.sim, ax=ax, param_values=opt_results[\"soma\"][\"best_params\"],\n",
    "             color_ais=\"g\", color_axon=\"b\", alpha=0.4, detailed=False)\n",
    "fig_morph_eap = ax.get_figure()"
   ]
  },
  {
   "cell_type": "code",
   "execution_count": null,
   "id": "e32f6fd5",
   "metadata": {},
   "outputs": [],
   "source": [
    "if save_fig:\n",
    "    fig_morph_eap.savefig(figure_folder / f\"{cell_name}_eap_morph.png\", dpi=300)"
   ]
  },
  {
   "cell_type": "code",
   "execution_count": null,
   "id": "0fdb0bae",
   "metadata": {},
   "outputs": [],
   "source": []
  }
 ],
 "metadata": {
  "kernelspec": {
   "display_name": "Python 3 (ipykernel)",
   "language": "python",
   "name": "python3"
  },
  "language_info": {
   "codemirror_mode": {
    "name": "ipython",
    "version": 3
   },
   "file_extension": ".py",
   "mimetype": "text/x-python",
   "name": "python",
   "nbconvert_exporter": "python",
   "pygments_lexer": "ipython3",
   "version": "3.8.11"
  }
 },
 "nbformat": 4,
 "nbformat_minor": 5
}
