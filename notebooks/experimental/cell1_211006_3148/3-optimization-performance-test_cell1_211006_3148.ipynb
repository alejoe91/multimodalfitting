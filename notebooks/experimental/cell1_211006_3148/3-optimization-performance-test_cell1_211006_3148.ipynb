{
 "cells": [
  {
   "cell_type": "markdown",
   "id": "2802976d",
   "metadata": {},
   "source": [
    "# 3) Analyze and evaluate optimization output - test protocols\n",
    "\n",
    "## cell1_211006_3148\n",
    "\n",
    "This final notebook uses the `runs.pkl` file created in notebook 2 and it analyzes:\n",
    "\n",
    "- the distance between different feature sets in the feature space\n",
    "- the distance between different feature sets in the extracellular signals"
   ]
  },
  {
   "cell_type": "code",
   "execution_count": null,
   "id": "0100d836",
   "metadata": {},
   "outputs": [],
   "source": [
    "import pickle\n",
    "import pandas as pd\n",
    "import seaborn as sns\n",
    "import sys\n",
    "import shutil\n",
    "\n",
    "from tqdm import tqdm\n",
    "import bluepyopt as bpopt\n",
    "import bluepyopt.ephys as ephys\n",
    "import neuroplotlib as nplt\n",
    "\n",
    "import matplotlib as mpl\n",
    "import matplotlib.pyplot as plt\n",
    "from scipy.spatial import distance\n",
    "import MEAutility as mu\n",
    "import json\n",
    "import time\n",
    "import numpy as np\n",
    "from pathlib import Path\n",
    "from pprint import pprint\n",
    "\n",
    "import multimodalfitting as mf\n",
    "\n",
    "%matplotlib notebook"
   ]
  },
  {
   "cell_type": "code",
   "execution_count": null,
   "id": "d204a315",
   "metadata": {},
   "outputs": [],
   "source": [
    "colors_dict = {\"soma\": \"C0\",\n",
    "               \"all\": \"C1\",\n",
    "               \"sections\": \"C2\",\n",
    "               \"single\": \"C3\"}\n",
    "figsize = (10, 7)"
   ]
  },
  {
   "cell_type": "code",
   "execution_count": null,
   "id": "005fac6c",
   "metadata": {},
   "outputs": [],
   "source": [
    "# general\n",
    "base_dir = Path(\"../../..\")"
   ]
  },
  {
   "cell_type": "code",
   "execution_count": null,
   "id": "2b4e9ef0",
   "metadata": {},
   "outputs": [],
   "source": [
    "# general\n",
    "cell_name = \"cell1_211006_3148\" # \"cell1_211006_3148\" | \"cell1_211011_3436\"\n",
    "model_name = cell_name\n",
    "ephys_dir = base_dir / \"experimental_data\" / cell_name / \"patch_data\"\n",
    "\n",
    "cell_models_folder = base_dir / \"cell_models\"\n",
    "model_folder = cell_models_folder / cell_name"
   ]
  },
  {
   "cell_type": "code",
   "execution_count": null,
   "id": "cbd38d0b",
   "metadata": {},
   "outputs": [],
   "source": [
    "save_fig = False\n",
    "figure_folder = Path(\".\") / f\"figures_{cell_name}\"\n",
    "\n",
    "if save_fig:\n",
    "    figure_folder.mkdir(exist_ok=True)"
   ]
  },
  {
   "cell_type": "code",
   "execution_count": null,
   "id": "f396d88e",
   "metadata": {},
   "outputs": [],
   "source": [
    "# change this with folder containing your pkl file\n",
    "results_date = '220214'  # '211124' '220111' # \n",
    "result_folder = base_dir / \"results\" / results_date"
   ]
  },
  {
   "cell_type": "code",
   "execution_count": null,
   "id": "775c3cce",
   "metadata": {},
   "outputs": [],
   "source": [
    "protocol_for_eap = \"firepattern_120\""
   ]
  },
  {
   "cell_type": "code",
   "execution_count": null,
   "id": "154c615d",
   "metadata": {},
   "outputs": [],
   "source": [
    "pkl_file_name = \"runs.pkl\""
   ]
  },
  {
   "cell_type": "code",
   "execution_count": null,
   "id": "e711ad1b",
   "metadata": {},
   "outputs": [],
   "source": [
    "# select abd (axon_bearing_dendrite) option\n",
    "abd = True"
   ]
  },
  {
   "cell_type": "code",
   "execution_count": null,
   "id": "8e97c1fd",
   "metadata": {},
   "outputs": [],
   "source": [
    "data = pickle.load(open(result_folder / pkl_file_name, 'rb'))\n",
    "df_optimization = pd.DataFrame(data)\n",
    "df_model = df_optimization.query(f\"model == '{model_name}'\")\n",
    "# set strategy column\n",
    "df_model.loc[:, \"strategy\"] = df_model[\"extra_strategy\"].values.copy()\n",
    "df_model.loc[df_model[\"feature_set\"] == \"soma\", \"strategy\"] = \"soma\"\n",
    "\n",
    "results_name = \"opt_results_training\"\n",
    "if abd:\n",
    "    results_name += \"_abd\"\n",
    "else:\n",
    "    results_name += \"_noabd\"\n",
    "\n",
    "if (result_folder / f\"{results_name}.pkl\").is_file():\n",
    "    with open(result_folder / f\"{results_name}.pkl\", 'rb') as f:\n",
    "        opt_results_all = pickle.load(f)\n",
    "else:\n",
    "    print(f\"Couldn't find {results_name}.pkl. Run training validation first!\")"
   ]
  },
  {
   "cell_type": "markdown",
   "id": "7f3462e3",
   "metadata": {},
   "source": [
    "# Define cell model and load optimization output"
   ]
  },
  {
   "cell_type": "code",
   "execution_count": null,
   "id": "566dfb7c",
   "metadata": {},
   "outputs": [],
   "source": [
    "cell = mf.create_experimental_model(model_name=cell_name, abd=abd)\n",
    "cell_sample = mf.create_experimental_model(model_name=cell_name, release=True, abd=abd)\n",
    "\n",
    "probe = mf.define_electrode(probe_file=model_folder / \"fitting\" / \"efeatures\" / \"probe_BPO.json\")\n",
    "param_names = [param.name for param in cell.params.values() if not param.frozen]"
   ]
  },
  {
   "cell_type": "code",
   "execution_count": null,
   "id": "2367846e",
   "metadata": {},
   "outputs": [],
   "source": [
    "fig, ax = plt.subplots()\n",
    "min_evals = 3000\n",
    "\n",
    "keep_idxs = []\n",
    "for idx, row in df_model.iterrows():\n",
    "    color = mpl.colors.to_rgb(colors_dict[row[\"strategy\"]])\n",
    "    if row[\"abd\"]:\n",
    "        keep_idxs.append(idx)\n",
    "        ax.plot(row[\"nevals\"], \n",
    "                row[\"logbook\"].select(\"min\"),\n",
    "                color=color,\n",
    "                ls='-', \n",
    "                lw=0.5,\n",
    "                alpha=0.75)\n",
    "    else:\n",
    "        color = np.clip(np.array(color) - 0.3, 0, 1)\n",
    "        ax.plot(row[\"nevals\"], \n",
    "                row[\"logbook\"].select(\"min\"),\n",
    "                color=color,\n",
    "                ls='-', \n",
    "                lw=0.5,\n",
    "                alpha=0.75)\n",
    "\n",
    "ax.set_title(\"Min fitness\")\n",
    "ax.spines[\"top\"].set_visible(False)\n",
    "ax.spines[\"right\"].set_visible(False)\n",
    "ax.set_xlabel(\"Neval\")\n",
    "ax.set_ylabel(\"Min fitness\")\n",
    "ax.set_yscale('log')"
   ]
  },
  {
   "cell_type": "markdown",
   "id": "f82df2d2",
   "metadata": {},
   "source": [
    "# Load protocols and experimental features"
   ]
  },
  {
   "cell_type": "code",
   "execution_count": null,
   "id": "2f7db931",
   "metadata": {},
   "outputs": [],
   "source": [
    "extra_kwargs = mf.utils.get_extra_kwargs()\n",
    "extra_kwargs[\"ms_cut\"] = [2, 5]"
   ]
  },
  {
   "cell_type": "code",
   "execution_count": null,
   "id": "30972ccb",
   "metadata": {},
   "outputs": [],
   "source": [
    "protocols_used_for_opt = [\"IV_-20\", \"IV_-100\", \"IDrest_150\", \"IDrest_250\", \"IDrest_300\",\n",
    "                          \"APWaveform_260\"]\n",
    "protocols_to_exclude = [\"IV\", \"APWaveform\", \"IDrest\"]"
   ]
  },
  {
   "cell_type": "code",
   "execution_count": null,
   "id": "cfd8b2f8",
   "metadata": {},
   "outputs": [],
   "source": [
    "eva_extra = mf.create_evaluator(\n",
    "    model_name=model_name,\n",
    "    feature_set=\"extra\",\n",
    "    extra_strategy=\"all\",\n",
    "    protocols_with_lfp=protocol_for_eap,\n",
    "    all_protocols=True,\n",
    "    exclude_protocols=protocols_to_exclude,\n",
    "    abd=abd,\n",
    "    **extra_kwargs\n",
    ")"
   ]
  },
  {
   "cell_type": "markdown",
   "id": "4129411f",
   "metadata": {},
   "source": [
    "## Load experimental responses"
   ]
  },
  {
   "cell_type": "code",
   "execution_count": null,
   "id": "87490429",
   "metadata": {},
   "outputs": [],
   "source": [
    "assert \"exp\" in opt_results_all\n",
    "responses_experimental = opt_results_all[\"exp\"][\"responses\"]\n",
    "eap_exp = opt_results_all[\"exp\"][\"eap\"]\n",
    "num_runs = len(responses_experimental)"
   ]
  },
  {
   "cell_type": "code",
   "execution_count": null,
   "id": "707a6fe1",
   "metadata": {},
   "outputs": [],
   "source": [
    "len(responses_experimental)"
   ]
  },
  {
   "cell_type": "code",
   "execution_count": null,
   "id": "64a8f41a",
   "metadata": {},
   "outputs": [],
   "source": [
    "protocols_to_plot = [\"firepattern_200\", \"HyperDepol_-160\", \"HyperDepol_-40\", \"sAHP_250\", \"PosCheops_300\"]"
   ]
  },
  {
   "cell_type": "code",
   "execution_count": null,
   "id": "c7c81594",
   "metadata": {},
   "outputs": [],
   "source": [
    "fig_exp_intra = mf.plot_multiple_responses(responses_experimental, return_fig=True,\n",
    "                                           protocol_names=protocols_to_plot,\n",
    "                                           labels=[f\"run{i}\" for i in range(num_runs)])"
   ]
  },
  {
   "cell_type": "code",
   "execution_count": null,
   "id": "59df1656",
   "metadata": {},
   "outputs": [],
   "source": [
    "if save_fig:\n",
    "    fig_exp_intra.savefig(figure_folder / \"exp_intra.png\", dpi=300)\n",
    "    fig_exp_extra.savefig(figure_folder / \"exp_extra.png\", dpi=300)"
   ]
  },
  {
   "cell_type": "markdown",
   "id": "f0a7b161",
   "metadata": {},
   "source": [
    "### Compute experimental extra features"
   ]
  },
  {
   "cell_type": "code",
   "execution_count": null,
   "id": "bd191c19",
   "metadata": {},
   "outputs": [],
   "source": [
    "# compute extracellular features\n",
    "std_from_mean = 0.05\n",
    "extra_features = mf.efeatures_extraction.compute_extra_features(\n",
    "    eap_exp, fs=extra_kwargs[\"fs\"],\n",
    "    upsample=extra_kwargs[\"upsample\"])"
   ]
  },
  {
   "cell_type": "code",
   "execution_count": null,
   "id": "67d536d4",
   "metadata": {},
   "outputs": [],
   "source": [
    "features_release = {}\n",
    "for obj in eva_extra.fitness_calculator.objectives:\n",
    "    features_release[obj.features[0].name] = None\n",
    "# add extra features\n",
    "for efeat_name, feat in extra_features.items():\n",
    "    for chan, feat_val in enumerate(feat):\n",
    "        fature_name = f\"{protocol_for_eap}.MEA.{efeat_name}_{chan}\"\n",
    "        features_release[fature_name] = {}\n",
    "        features_release[fature_name][\"value\"] = feat_val"
   ]
  },
  {
   "cell_type": "markdown",
   "id": "ad0069b2",
   "metadata": {},
   "source": [
    "# Compute and plot best responses"
   ]
  },
  {
   "cell_type": "code",
   "execution_count": null,
   "id": "d8f0b177",
   "metadata": {},
   "outputs": [],
   "source": [
    "max_feature_value = 50\n",
    "opt_results = {}"
   ]
  },
  {
   "cell_type": "code",
   "execution_count": null,
   "id": "5066df51",
   "metadata": {},
   "outputs": [],
   "source": [
    "for strategy in np.unique(df_model.strategy):\n",
    "    opt_results[strategy] = {}\n",
    "    opt_df = df_model.query(f\"strategy == '{strategy}'\")\n",
    "    best_idx = np.argmin(opt_df.best_fitness)\n",
    "    params_sample = opt_df.iloc[best_idx]\n",
    "    params_dict = {k: v for k, v in zip(param_names, params_sample.best_params)}\n",
    "    opt_results[strategy][\"best_fitness\"] = params_sample.best_fitness\n",
    "    opt_results[strategy][\"best_params\"] = params_dict\n",
    "    print(f\"{strategy} --  best fitness: {params_sample.best_fitness}\")"
   ]
  },
  {
   "cell_type": "code",
   "execution_count": null,
   "id": "df4376c4",
   "metadata": {},
   "outputs": [],
   "source": [
    "for strategy in opt_results_all:\n",
    "    opt_results[strategy] = {}\n",
    "    print(f\"Simulating best '{strategy}' -- seed: {opt_results_all[strategy]['best_seed']}\")\n",
    "    best_params = opt_results_all[strategy][\"best_params\"]\n",
    "    t_start = time.time()\n",
    "    responses = eva_extra.run_protocols(eva_extra.fitness_protocols.values(), \n",
    "                                        param_values=best_params)\n",
    "    eap = mf.utils.calculate_eap(responses=responses, protocols=eva_extra.fitness_protocols, \n",
    "                                 protocol_name=protocol_for_eap, **extra_kwargs)\n",
    "    t_stop = time.time()\n",
    "    print(f\"Simulated responses in {np.round(t_stop - t_start, 2)} s\")\n",
    "    eap_release_norm = eap_release / np.ptp(np.abs(eap_release), 1, keepdims=True)\n",
    "    eap_norm = eap / np.ptp(np.abs(eap), 1, keepdims=True)\n",
    "    eap_dist = np.sum(np.abs(eap_release_norm.ravel() - eap_norm.ravel()))\n",
    "    opt_results[strategy][\"eap_dist\"] = eap_dist\n",
    "    opt_results[strategy][\"responses\"] = responses\n",
    "    opt_results[strategy][\"eap\"] = eap    "
   ]
  },
  {
   "cell_type": "code",
   "execution_count": null,
   "id": "d25a4c83",
   "metadata": {},
   "outputs": [],
   "source": [
    "fp120 = eva_extra.fitness_protocols[\"firepattern_120\"]"
   ]
  },
  {
   "cell_type": "code",
   "execution_count": null,
   "id": "55c6a690",
   "metadata": {},
   "outputs": [],
   "source": [
    "resp_fp120 = fp120.run(eva_extra.cell_model, param_values=params_dict, sim=eva_extra.sim)"
   ]
  },
  {
   "cell_type": "code",
   "execution_count": null,
   "id": "4c7d1793",
   "metadata": {},
   "outputs": [],
   "source": [
    "resp_fp120['firepattern_120.soma.v']"
   ]
  },
  {
   "cell_type": "code",
   "execution_count": null,
   "id": "0c138c64",
   "metadata": {},
   "outputs": [],
   "source": [
    "plt.figure()\n",
    "plt.plot(resp_fp120['firepattern_120.MEA.LFP'][\"time\"], resp_fp120['firepattern_120.MEA.LFP'][\"voltage\"].T)"
   ]
  },
  {
   "cell_type": "code",
   "execution_count": null,
   "id": "709abece",
   "metadata": {},
   "outputs": [],
   "source": [
    "eva_extra.run_protocols(eva_extra.fitness_protocols.values(), \n",
    "                                        param_values=best_params)"
   ]
  },
  {
   "cell_type": "code",
   "execution_count": null,
   "id": "7392f89d",
   "metadata": {},
   "outputs": [],
   "source": [
    "mf.plot_responses(responses)"
   ]
  },
  {
   "cell_type": "code",
   "execution_count": null,
   "id": "f5640d27",
   "metadata": {},
   "outputs": [],
   "source": [
    "del responses[\"firepattern_120.MEA.LFP\"]"
   ]
  },
  {
   "cell_type": "code",
   "execution_count": null,
   "id": "fb3c5777",
   "metadata": {},
   "outputs": [],
   "source": [
    "mf.plot_responses(responses)"
   ]
  },
  {
   "cell_type": "code",
   "execution_count": null,
   "id": "f579b80a",
   "metadata": {},
   "outputs": [],
   "source": [
    "feat_objectives = [obj.features[0].name for obj in eva_extra.fitness_calculator.objectives]"
   ]
  },
  {
   "cell_type": "code",
   "execution_count": null,
   "id": "4135d09f",
   "metadata": {},
   "outputs": [],
   "source": [
    "for strategy in np.unique(df_model.strategy):\n",
    "    responses = opt_results[strategy][\"responses\"]\n",
    "    eap = opt_results[strategy][\"eap\"]\n",
    "    extra_features_strategy = mf.efeatures_extraction.compute_extra_features(\n",
    "                                    eap, fs=extra_kwargs[\"fs\"],\n",
    "                                    upsample=extra_kwargs[\"upsample\"])\n",
    "    opt_results[strategy][\"extra_features\"] = extra_features_strategy\n",
    "\n",
    "    features_best = {}\n",
    "    feat_release_keys = list(features_release.keys())\n",
    "    for i in tqdm(np.arange(len(feat_release_keys)), \n",
    "                  desc=f\"computing features {strategy}\"):\n",
    "        feat_name = feat_release_keys[i]\n",
    "        features_best[feat_name] = {}\n",
    "        if feat_name in feat_objectives:\n",
    "            obj = eva_extra.fitness_calculator.objectives[feat_objectives.index(feat_name)]\n",
    "            feat = obj.features[0]\n",
    "            if len(obj.features) == 1:\n",
    "                feat_score = feat.calculate_score(responses)\n",
    "                features_best[feat_name][\"score\"] = feat_score\n",
    "            else:\n",
    "                print(f\"More than one feature for objective: {obj.name}\")\n",
    "        else:\n",
    "            # extra\n",
    "            protocol, _, efeat_full = feat_name.split(\".\")\n",
    "            efeat_split = efeat_full.split(\"_\")\n",
    "            chan = efeat_split[-1]\n",
    "            efeat = \"_\".join(efeat_split[:-1])\n",
    "            chan = int(chan)\n",
    "            feat_value = extra_features_strategy[efeat][chan]\n",
    "            release_value = features_release[feat_name][\"value\"]\n",
    "            if release_value != 0:\n",
    "                feat_score = abs(feat_value - release_value) / abs(std_from_mean * release_value)\n",
    "            else:                    \n",
    "                feat_score = abs(feat_value - release_value)\n",
    "            features_best[feat_name][\"value\"] = feat_value\n",
    "            features_best[feat_name][\"score\"] = feat_score\n",
    "            \n",
    "    opt_results[strategy][\"features\"] = features_best\n",
    "    "
   ]
  },
  {
   "cell_type": "code",
   "execution_count": null,
   "id": "755ae662",
   "metadata": {},
   "outputs": [],
   "source": [
    "responses_exp = responses_experimental[1]"
   ]
  },
  {
   "cell_type": "code",
   "execution_count": null,
   "id": "d63e0601",
   "metadata": {},
   "outputs": [],
   "source": [
    "protocols_to_plot = [\"firepattern_200\", \"HyperDepol_-160\", \"HyperDepol_-40\", \n",
    "                     \"sAHP_250\", \"PosCheops_300\"]\n",
    "titles = protocols_to_plot\n",
    "figs_intra = {}\n",
    "for strategy in np.unique(df_model.strategy):\n",
    "    responses_to_plot = [responses_exp, opt_results[strategy][\"responses\"]]\n",
    "    colors = [\"k\", colors_dict[strategy]]\n",
    "    labels = [\"GT\", strategy.upper()]\n",
    "    fig = mf.plot_multiple_responses(responses_to_plot, \n",
    "                                    colors=colors, return_fig=True, \n",
    "#                                     labels=labels,\n",
    "                                    protocol_names=protocols_to_plot,\n",
    "                                    titles=titles,\n",
    "                                    figsize=(7, 12))\n",
    "    figs_intra[strategy] = fig"
   ]
  },
  {
   "cell_type": "code",
   "execution_count": null,
   "id": "67f260b9",
   "metadata": {},
   "outputs": [],
   "source": [
    "order_full = [\"soma\", \"all\", \"sections\", \"single\"]\n",
    "order = []\n",
    "for strategy in order_full:\n",
    "    if strategy in opt_results:\n",
    "        order.append(strategy)"
   ]
  },
  {
   "cell_type": "markdown",
   "id": "9932e6ee",
   "metadata": {},
   "source": [
    "## Compare features"
   ]
  },
  {
   "cell_type": "code",
   "execution_count": null,
   "id": "f279d07c",
   "metadata": {},
   "outputs": [],
   "source": [
    "feature_name_array = []\n",
    "feature_set_array = []\n",
    "feature_score_array = []\n",
    "feature_type_array = []\n",
    "protocol_type_array = []\n",
    "\n",
    "for strategy, strategy_dict in opt_results.items():\n",
    "    feats = strategy_dict[\"features\"]\n",
    "    for feat_name, feat_dict in feats.items():\n",
    "        feature_set_array.append(strategy)\n",
    "        feature_name_array.append(feat_name)\n",
    "        if \"MEA\" not in feat_name:\n",
    "            feature_type_array.append(\"intra\")\n",
    "        else:\n",
    "            feature_type_array.append(\"extra\")\n",
    "        feature_score_array.append(feat_dict[\"score\"])\n",
    "        protocol_type = feat_name.split(\".\")[0].split(\"_\")[0]\n",
    "        protocol_type_array.append(protocol_type)\n",
    "        \n",
    "df_feats = pd.DataFrame({\"feature_set\": feature_set_array, \"feat_name\": feature_name_array,\n",
    "                         \"feature_type\": feature_type_array, \"feat_score\": feature_score_array, \n",
    "                         \"protocol_type\": protocol_type_array})"
   ]
  },
  {
   "cell_type": "code",
   "execution_count": null,
   "id": "dfb74a50",
   "metadata": {},
   "outputs": [],
   "source": [
    "\n",
    "df_feats_intra = df_feats.query(\"feature_type == 'intra'\")\n",
    "df_feats_extra = df_feats.query(\"feature_type == 'extra'\")\n",
    "\n",
    "fig_feat_intra, ax = plt.subplots(figsize=(7, 10))\n",
    "sns.boxplot(data=df_feats_intra, x=\"feature_set\", y=\"feat_score\", order=order, #hue=\"protocol_type\", \n",
    "            ax=ax)\n",
    "n = len(df_feats_intra.query(\"feature_set == 'soma'\"))\n",
    "# g = sns.swarmplot(data=df_feats, y=\"feature_set\", x=\"feat_score\", ax=ax)\n",
    "ax.set_ylabel(\"Feature scores\", fontsize=12)\n",
    "ax.spines[\"top\"].set_visible(False)\n",
    "ax.spines[\"right\"].set_visible(False)\n",
    "ax.set_title(f\"Intracellular features\\n(n={n})\", fontsize=20)\n",
    "ax.set_xlabel(\"Strategy\", fontsize=15)\n",
    "ax.set_ylabel(\"Score\", fontsize=15)\n",
    "ax.set_ylim([0, 21])\n",
    "\n",
    "fig_feat_extra, ax = plt.subplots(figsize=(7, 10))\n",
    "sns.boxplot(data=df_feats_extra, \n",
    "            x=\"feature_set\", y=\"feat_score\", order=order, ax=ax)\n",
    "n = len(df_feats_extra.query(\"feature_set == 'soma'\"))\n",
    "ax.spines[\"top\"].set_visible(False)\n",
    "ax.spines[\"right\"].set_visible(False)\n",
    "ax.set_title(f\"Extracellular features\\n(n={n})\", fontsize=20)\n",
    "ax.set_xlabel(\"Strategy\", fontsize=15)\n",
    "ax.set_ylabel(\"Score\", fontsize=15)\n",
    "ax.set_ylim(0, 21)"
   ]
  },
  {
   "cell_type": "code",
   "execution_count": null,
   "id": "3bcde92c",
   "metadata": {},
   "outputs": [],
   "source": []
  },
  {
   "cell_type": "code",
   "execution_count": null,
   "id": "b7e3d7b9",
   "metadata": {},
   "outputs": [],
   "source": []
  },
  {
   "cell_type": "code",
   "execution_count": null,
   "id": "28aa9879",
   "metadata": {},
   "outputs": [],
   "source": []
  },
  {
   "cell_type": "code",
   "execution_count": null,
   "id": "b4b4da71",
   "metadata": {},
   "outputs": [],
   "source": []
  },
  {
   "cell_type": "code",
   "execution_count": null,
   "id": "fbd48f9a",
   "metadata": {},
   "outputs": [],
   "source": []
  },
  {
   "cell_type": "code",
   "execution_count": null,
   "id": "ff50cece",
   "metadata": {},
   "outputs": [],
   "source": [
    "for strategy in np.unique(df_model.strategy):\n",
    "    responses = opt_results[strategy][\"responses\"]\n",
    "    features_best = {}\n",
    "    for obj in eva_extra.fitness_calculator.objectives:\n",
    "        feat = obj.features[0]\n",
    "        features_best[feat.name] = {}\n",
    "        if len(obj.features) == 1:\n",
    "            feat_value = obj.features[0].calculate_feature(responses)\n",
    "            if feat_value is None:\n",
    "                feat_value = max_feature_value\n",
    "            features_best[feat.name][\"value\"] = feat_value\n",
    "            if \"MEA\" not in feat.name:\n",
    "                feat_score = np.abs(feat.exp_mean - feat_value) / feat.exp_std\n",
    "            else:\n",
    "                feat_score = np.abs(distance.cosine(feat.exp_mean, feat_value))\n",
    "            features_best[feat.name][\"score\"] = feat_score\n",
    "        else:\n",
    "            print(f\"More than one feature for objective: {obj.name}\")\n",
    "    opt_results[strategy][\"features\"] = features_best"
   ]
  },
  {
   "cell_type": "code",
   "execution_count": null,
   "id": "ba16aab2",
   "metadata": {},
   "outputs": [],
   "source": [
    "# plot\n",
    "response_experimental_plot = responses_experimental[1]\n",
    "for strategy in np.unique(df_model.strategy):\n",
    "    responses_to_plot = [response_experimental_plot, opt_results[strategy][\"responses\"]]\n",
    "    eap = opt_results[strategy][\"eap\"]\n",
    "    colors = [\"k\", colors_dict[strategy]]\n",
    "    labels = [\"GT\", strategy.upper()]\n",
    "    fig_extra_intra_single = mf.plot_multiple_responses(responses_to_plot, \n",
    "                                                        colors=colors, return_fig=True, \n",
    "                                                        labels=labels)\n",
    "    fig, ax_extra = plt.subplots(figsize=figsize)\n",
    "    ax_extra = mu.plot_mea_recording(eap_exp, probe, vscale=vscale, lw=1, ax=ax_extra)\n",
    "    ax_extra.get_lines()[-1].set_label(\"GT\")\n",
    "    ax_extra = mu.plot_mea_recording(eap, probe, ax=ax_extra, vscale=vscale, \n",
    "                                     colors=colors_dict[strategy], lw=1)\n",
    "    ax_extra.get_lines()[-1].set_label(strategy.upper())\n",
    "    ax_extra.set_title(\"EAP\", fontsize=15)\n",
    "    ax_extra.legend()\n",
    "#     ax_extra = mf.plot_multiple_eaps(responses_to_plot, \n",
    "#                                      eva_extra.fitness_protocols, probe,\n",
    "#                                      protocol_name=protocol_for_eap, \n",
    "#                                      colors=colors, labels=labels)"
   ]
  },
  {
   "cell_type": "code",
   "execution_count": null,
   "id": "a99b76e5",
   "metadata": {},
   "outputs": [],
   "source": [
    "for strategy in opt_results:\n",
    "    print(f\"Cosine dist {strategy}: {opt_results[strategy]['eap_dist']}\")"
   ]
  },
  {
   "cell_type": "markdown",
   "id": "55e99612",
   "metadata": {},
   "source": [
    "## Compare best-fitted models"
   ]
  },
  {
   "cell_type": "code",
   "execution_count": null,
   "id": "34d40cc3",
   "metadata": {},
   "outputs": [],
   "source": [
    "df_test = pd.DataFrame.from_dict(opt_results, orient=\"index\")\n",
    "df_test[\"strategy\"] = df_test.index"
   ]
  },
  {
   "cell_type": "markdown",
   "id": "2baa419a",
   "metadata": {},
   "source": [
    "### Compare features"
   ]
  },
  {
   "cell_type": "code",
   "execution_count": null,
   "id": "319806c7",
   "metadata": {},
   "outputs": [],
   "source": [
    "feature_name_array = []\n",
    "feature_set_array = []\n",
    "feature_score_array = []\n",
    "feature_type_array = []\n",
    "\n",
    "for strategy, res in opt_results.items():\n",
    "    feats = res[\"features\"]\n",
    "    for feat_name, feat_dict in feats.items():\n",
    "        feature_set_array.append(strategy)\n",
    "        feature_name_array.append(feat_name)\n",
    "        if \"MEA\" not in feat_name:\n",
    "            feature_type_array.append(\"intra\")\n",
    "        else:\n",
    "            feature_type_array.append(\"extra\")\n",
    "        feature_score_array.append(feat_dict[\"score\"])\n",
    "        \n",
    "df_feats = pd.DataFrame({\"feature_set\": feature_set_array, \"feat_name\": feature_name_array,\n",
    "                         \"feat_score\": feature_score_array, \"feature_type\": feature_type_array})"
   ]
  },
  {
   "cell_type": "code",
   "execution_count": null,
   "id": "2cbf38b4",
   "metadata": {},
   "outputs": [],
   "source": [
    "fig_feat_intra, ax = plt.subplots(figsize=figsize)\n",
    "\n",
    "sns.boxplot(data=df_feats.query(\"feature_type == 'intra'\"), y=\"feature_set\", x=\"feat_score\", ax=ax)\n",
    "ax.set_ylabel(\"Feature scores (intracellular)\", fontsize=12)\n",
    "ax.spines[\"top\"].set_visible(False)\n",
    "ax.spines[\"right\"].set_visible(False)\n",
    "ax.set_title(\"Intracellular features\", fontsize=15)\n",
    "\n",
    "fig_feat_extra, ax = plt.subplots(figsize=figsize)\n",
    "\n",
    "sns.boxplot(data=df_feats.query(\"feature_type == 'extra'\"), \n",
    "              y=\"feature_set\", x=\"feat_score\", ax=ax)\n",
    "ax.set_ylabel(\"Feature scores (extracellular)\", fontsize=12)\n",
    "ax.spines[\"top\"].set_visible(False)\n",
    "ax.spines[\"right\"].set_visible(False)\n",
    "ax.set_title(\"Extracellular features\", fontsize=15)\n"
   ]
  }
 ],
 "metadata": {
  "kernelspec": {
   "display_name": "Python 3 (ipykernel)",
   "language": "python",
   "name": "python3"
  },
  "language_info": {
   "codemirror_mode": {
    "name": "ipython",
    "version": 3
   },
   "file_extension": ".py",
   "mimetype": "text/x-python",
   "name": "python",
   "nbconvert_exporter": "python",
   "pygments_lexer": "ipython3",
   "version": "3.8.11"
  }
 },
 "nbformat": 4,
 "nbformat_minor": 5
}
