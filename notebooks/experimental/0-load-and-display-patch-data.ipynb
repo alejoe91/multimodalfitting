{
 "cells": [
  {
   "cell_type": "markdown",
   "id": "2802976d",
   "metadata": {},
   "source": [
    "# 0) Load and display patch data "
   ]
  },
  {
   "cell_type": "code",
   "execution_count": null,
   "id": "0100d836",
   "metadata": {},
   "outputs": [],
   "source": [
    "import numpy as np\n",
    "from pathlib import Path\n",
    "\n",
    "import sync_mea_patch as smp\n",
    "import matplotlib.pyplot as plt\n",
    "\n",
    "%matplotlib notebook"
   ]
  },
  {
   "cell_type": "code",
   "execution_count": null,
   "id": "d6793578",
   "metadata": {},
   "outputs": [],
   "source": [
    "base_folder = Path(\"../../..\")"
   ]
  },
  {
   "cell_type": "code",
   "execution_count": null,
   "id": "2b4e9ef0",
   "metadata": {},
   "outputs": [],
   "source": [
    "# general\n",
    "cell_folder = \"cell1_211011_3436\"\n",
    "ephys_dir = base_folder / \"experimental_data\" / cell_folder / \"patch_data\""
   ]
  },
  {
   "cell_type": "code",
   "execution_count": null,
   "id": "acc9cd03",
   "metadata": {},
   "outputs": [],
   "source": [
    "patch_files = sorted([p for p in ephys_dir.iterdir() if p.suffix == \".wcp\"])"
   ]
  },
  {
   "cell_type": "code",
   "execution_count": null,
   "id": "73dae855",
   "metadata": {},
   "outputs": [],
   "source": [
    "protocols = {}\n",
    "for patch_file in patch_files:\n",
    "    try:\n",
    "        namesplit = patch_file.name.split(\".\")\n",
    "        protocol = namesplit[1].split(\"_\")[1]\n",
    "        run = namesplit[0]\n",
    "        patch = smp.load_patch_data(patch_files=patch_file)\n",
    "        if protocol not in protocols:\n",
    "            protocols[protocol] = {}\n",
    "        protocols[protocol][run] = patch\n",
    "    except:\n",
    "        print(f\"Can't load {patch_file.name}\")"
   ]
  },
  {
   "cell_type": "code",
   "execution_count": null,
   "id": "21c0ec5b",
   "metadata": {},
   "outputs": [],
   "source": [
    "protocol_name = \"idrest\"\n",
    "data = protocols[protocol_name]\n",
    "\n",
    "print(protocol_name)\n",
    "fig, ax1 = plt.subplots()\n",
    "ax1.set_title(protocol_name)\n",
    "for i, run in enumerate(sorted(data.keys())):\n",
    "    patch = data[run]\n",
    "    ax1.plot(patch[\"time\"], patch[\"data\"][0], label=run)\n",
    "    if i == 0:\n",
    "        ax2 = ax1.twinx()\n",
    "        ax2.plot(patch[\"time\"], patch[\"data\"][3], color=\"k\", label=\"stim\")\n",
    "ax1.legend()"
   ]
  },
  {
   "cell_type": "code",
   "execution_count": null,
   "id": "00fed375",
   "metadata": {},
   "outputs": [],
   "source": [
    "for protocol, data in protocols.items():\n",
    "    print(protocol)\n",
    "    fig, ax1 = plt.subplots()\n",
    "    ax1.set_title(protocol)\n",
    "    for i, run in enumerate(sorted(data.keys())):\n",
    "        patch = data[run]\n",
    "        ax1.plot(patch[\"time\"], patch[\"data\"][0], label=run)\n",
    "        if i == 0:\n",
    "            ax2 = ax1.twinx()\n",
    "            ax2.plot(patch[\"time\"], patch[\"data\"][3], color=\"k\", label=\"stim\")\n",
    "    ax1.legend()"
   ]
  },
  {
   "cell_type": "code",
   "execution_count": null,
   "id": "2144835b",
   "metadata": {},
   "outputs": [],
   "source": []
  }
 ],
 "metadata": {
  "kernelspec": {
   "display_name": "Python 3 (ipykernel)",
   "language": "python",
   "name": "python3"
  },
  "language_info": {
   "codemirror_mode": {
    "name": "ipython",
    "version": 3
   },
   "file_extension": ".py",
   "mimetype": "text/x-python",
   "name": "python",
   "nbconvert_exporter": "python",
   "pygments_lexer": "ipython3",
   "version": "3.9.7"
  }
 },
 "nbformat": 4,
 "nbformat_minor": 5
}
