{
 "cells": [
  {
   "cell_type": "markdown",
   "id": "15adf53d",
   "metadata": {},
   "source": [
    "# Test experimental model\n",
    "\n",
    "This notebook tests the model used for experimental cells runs correctly on a simple step stimulus."
   ]
  },
  {
   "cell_type": "code",
   "execution_count": null,
   "id": "335bc4d2",
   "metadata": {},
   "outputs": [],
   "source": [
    "import json\n",
    "import sys\n",
    "import os\n",
    "import time\n",
    "import neuron\n",
    "from pathlib import Path\n",
    "import time\n",
    "\n",
    "import matplotlib.pyplot as plt\n",
    "\n",
    "import bluepyopt as bpopt\n",
    "import bluepyopt.ephys as ephys\n",
    "\n",
    "import numpy as np\n",
    "\n",
    "import shutil\n",
    "from pprint import pprint\n",
    "\n",
    "import multimodalfitting as mf\n",
    "\n",
    "import neuroplotlib as nplt\n",
    "\n",
    "%matplotlib notebook"
   ]
  },
  {
   "cell_type": "code",
   "execution_count": null,
   "id": "0a38f75b",
   "metadata": {},
   "outputs": [],
   "source": [
    "model_name = \"experimental\" # \"hay\", \"hay_ais\", \"hay_ais_hillock\"\n",
    "probe_type = \"planar\"\n",
    "base_folder = Path(\"../..\")\n",
    "cell_models_folder = base_folder / \"cell_models\"\n",
    "\n",
    "model_folder = cell_models_folder / f\"{model_name}_model\"\n",
    "data_folder = base_folder / \"data_210916\" / \"experimental\" / \"cell1_210301\""
   ]
  },
  {
   "cell_type": "code",
   "execution_count": null,
   "id": "7825de0c",
   "metadata": {},
   "outputs": [],
   "source": [
    "morphology = data_folder / \"morphology\" / \"morphology_corrected.swc\"\n",
    "probe_file = data_folder / \"extracellular\" / \"probe.json\"\n",
    "params_release = \"experimental_model/parameters_release.json\""
   ]
  },
  {
   "cell_type": "code",
   "execution_count": null,
   "id": "7a953875",
   "metadata": {},
   "outputs": [],
   "source": [
    "cell = mf.create_experimental_model(morphology_file=morphology,\n",
    "                                    cell_model_folder=model_folder,\n",
    "                                    release=True,\n",
    "                                    v_init=-70)"
   ]
  },
  {
   "cell_type": "code",
   "execution_count": null,
   "id": "56954edd",
   "metadata": {},
   "outputs": [],
   "source": [
    "# define a probe (this can also be defined externally)\n",
    "probe = mf.define_electrode(probe_file=probe_file)\n",
    "\n",
    "# define a test protocol\n",
    "protocols = mf.define_test_step_protocol(step_amplitude=0.5, tot_duration=500, step_duration=400, probe=probe)\n",
    "\n",
    "# instantiate simulator\n",
    "sim = ephys.simulators.LFPySimulator(cell, cvode_active=True, electrode=probe, mechs_folders=model_folder)"
   ]
  },
  {
   "cell_type": "code",
   "execution_count": null,
   "id": "95a15996",
   "metadata": {},
   "outputs": [],
   "source": [
    "t_start = time.time()\n",
    "responses = protocols[\"TestStep\"].run(cell, param_values={}, sim=sim)\n",
    "print(f\"Elapsed time: {time.time() - t_start}\")"
   ]
  },
  {
   "cell_type": "code",
   "execution_count": null,
   "id": "605340d7",
   "metadata": {},
   "outputs": [],
   "source": [
    "mf.plot_responses(responses)"
   ]
  },
  {
   "cell_type": "markdown",
   "id": "04ff8502",
   "metadata": {},
   "source": [
    "### Check morphology and probe"
   ]
  },
  {
   "cell_type": "code",
   "execution_count": null,
   "id": "ca23ceee",
   "metadata": {},
   "outputs": [],
   "source": [
    "ax = mf.plot_probe(probe, interactive=True)"
   ]
  },
  {
   "cell_type": "code",
   "execution_count": null,
   "id": "bd8b354b",
   "metadata": {},
   "outputs": [],
   "source": [
    "ax = mf.plot_cell(cell, sim, ax=ax, color=\"k\", detailed=True)"
   ]
  },
  {
   "cell_type": "markdown",
   "id": "b8001c57",
   "metadata": {},
   "source": [
    "## Check channel distributions"
   ]
  },
  {
   "cell_type": "code",
   "execution_count": null,
   "id": "16d664d3",
   "metadata": {},
   "outputs": [],
   "source": [
    "cell.freeze({})\n",
    "cell.instantiate(sim)"
   ]
  },
  {
   "cell_type": "code",
   "execution_count": null,
   "id": "7d7a1659",
   "metadata": {},
   "outputs": [],
   "source": [
    "lfpy_cell = cell.LFPyCell\n",
    "for sec in lfpy_cell.allseclist:\n",
    "    if \"ais\" in sec.name():\n",
    "        break\n",
    "ais = sec"
   ]
  },
  {
   "cell_type": "code",
   "execution_count": null,
   "id": "49eda9ca",
   "metadata": {},
   "outputs": [],
   "source": [
    "plt.figure()\n",
    "ais_dist = np.linspace(0, ais.L, ais.nseg)\n",
    "plt.plot(ais_dist, ais.psection()[\"density_mechs\"][\"Na16Hu2009\"][\"gNa16bar\"], label=\"gNa16bar_Na16Hu2009\")\n",
    "plt.plot(ais_dist, ais.psection()[\"density_mechs\"][\"Na12Hu2009\"][\"gNa12bar\"], label=\"gNa12bar_Na12Hu2009\")\n",
    "plt.plot(ais_dist, ais.psection()[\"density_mechs\"][\"KdShu2007\"][\"gkbar\"], label=\"gkbar_KdShu2007\")"
   ]
  },
  {
   "cell_type": "code",
   "execution_count": null,
   "id": "b48aded8",
   "metadata": {},
   "outputs": [],
   "source": [
    "dend_list = []\n",
    "for sec in lfpy_cell.allseclist:\n",
    "    if \"dend\" in sec.name():\n",
    "        dend_list.append(sec)"
   ]
  },
  {
   "cell_type": "code",
   "execution_count": null,
   "id": "90746578",
   "metadata": {},
   "outputs": [],
   "source": [
    "plt.figure()\n",
    "for dend in dend_list:\n",
    "    start_ = np.array([dend.x3d(0), dend.y3d(0), dend.x3d(0)])\n",
    "    if dend.nseg > 1:\n",
    "        start_dist = np.linalg.norm(start_)\n",
    "        end_dist = start_dist + dend.L\n",
    "        linear_dist_to_soma = np.linspace(start_dist, end_dist, dend.nseg)        \n",
    "    else:\n",
    "        linear_dist_to_soma = [np.linalg.norm(start_) + dend.L // 2]\n",
    "\n",
    "    plt.plot(linear_dist_to_soma, dend.psection()[\"density_mechs\"][\"NaTg\"][\"gNaTgbar\"], \"b*\")"
   ]
  },
  {
   "cell_type": "code",
   "execution_count": null,
   "id": "2ba8c0e5",
   "metadata": {},
   "outputs": [],
   "source": [
    "cell.unfreeze({})\n",
    "cell.destroy(sim)"
   ]
  }
 ],
 "metadata": {
  "language_info": {
   "name": "python"
  }
 },
 "nbformat": 4,
 "nbformat_minor": 5
}
