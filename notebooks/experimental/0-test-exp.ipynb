{
 "cells": [
  {
   "cell_type": "markdown",
   "id": "15adf53d",
   "metadata": {},
   "source": [
    "# Test experimental model\n",
    "\n",
    "This notebook tests the model used for experimental cells runs correctly on a simple step stimulus."
   ]
  },
  {
   "cell_type": "code",
   "execution_count": null,
   "id": "335bc4d2",
   "metadata": {},
   "outputs": [],
   "source": [
    "import json\n",
    "import sys\n",
    "import os\n",
    "import time\n",
    "import neuron\n",
    "from pathlib import Path\n",
    "import time\n",
    "\n",
    "import matplotlib.pyplot as plt\n",
    "\n",
    "import bluepyopt as bpopt\n",
    "import bluepyopt.ephys as ephys\n",
    "\n",
    "import numpy as np\n",
    "\n",
    "import shutil\n",
    "from pprint import pprint\n",
    "\n",
    "import multimodalfitting as mf\n",
    "\n",
    "import neuroplotlib as nplt\n",
    "\n",
    "%matplotlib notebook"
   ]
  },
  {
   "cell_type": "code",
   "execution_count": null,
   "id": "0a38f75b",
   "metadata": {},
   "outputs": [],
   "source": [
    "model_name = \"experimental\" # \"hay\", \"hay_ais\", \"hay_ais_hillock\"\n",
    "probe_type = \"planar\"\n",
    "base_folder = Path(\"../..\")\n",
    "cell_models_folder = base_folder / \"cell_models\"\n",
    "\n",
    "model_folder = cell_models_folder / f\"{model_name}_model\"\n",
    "data_folder = base_folder / \"data_210916\" / \"experimental\" / \"cell1_210301\""
   ]
  },
  {
   "cell_type": "code",
   "execution_count": null,
   "id": "7825de0c",
   "metadata": {},
   "outputs": [],
   "source": [
    "morphology = data_folder / \"morphology\" / \"morphology_corrected.swc\"\n",
    "probe_file = data_folder / \"extracellular\" / \"probe.json\"\n",
    "params_release = \"experimental_model/parameters_abd_release_ra.json\""
   ]
  },
  {
   "cell_type": "code",
   "execution_count": null,
   "id": "7a953875",
   "metadata": {},
   "outputs": [],
   "source": [
    "cell = mf.create_experimental_model(morphology_file=morphology,\n",
    "                                    cell_model_folder=model_folder,\n",
    "                                    release=True,\n",
    "                                    v_init=-80, \n",
    "                                    abd=False)\n",
    "cell_abd = mf.create_experimental_model(morphology_file=morphology,\n",
    "                                        cell_model_folder=model_folder,\n",
    "                                        release=True,\n",
    "                                        v_init=-80, \n",
    "                                        abd=True,\n",
    "                                        ra_fixed=False)"
   ]
  },
  {
   "cell_type": "code",
   "execution_count": null,
   "id": "56954edd",
   "metadata": {},
   "outputs": [],
   "source": [
    "# define a probe (this can also be defined externally)\n",
    "probe = mf.define_electrode(probe_file=probe_file)\n",
    "\n",
    "# define a test protocol\n",
    "protocols = mf.define_test_step_protocol(step_amplitude=3.5, tot_duration=500, step_duration=400, probe=probe)\n",
    "\n",
    "# instantiate simulator\n",
    "sim = ephys.simulators.LFPySimulator(cell, cvode_active=True, electrode=probe, mechs_folders=model_folder)\n",
    "sim_abd = ephys.simulators.LFPySimulator(cell_abd, cvode_active=True, electrode=probe, mechs_folders=model_folder)"
   ]
  },
  {
   "cell_type": "code",
   "execution_count": null,
   "id": "c5ed9f55",
   "metadata": {},
   "outputs": [],
   "source": [
    "for (param_name, param) in cell_abd.params.items():\n",
    "    print(param.name, param.value)"
   ]
  },
  {
   "cell_type": "code",
   "execution_count": null,
   "id": "8a4e6332",
   "metadata": {},
   "outputs": [],
   "source": [
    "type(cell_abd)"
   ]
  },
  {
   "cell_type": "code",
   "execution_count": null,
   "id": "95a15996",
   "metadata": {},
   "outputs": [],
   "source": [
    "t_start = time.time()\n",
    "responses = protocols[\"TestStep\"].run(cell, param_values={}, sim=sim)\n",
    "print(f\"Elapsed time: {time.time() - t_start}\")"
   ]
  },
  {
   "cell_type": "code",
   "execution_count": null,
   "id": "605340d7",
   "metadata": {},
   "outputs": [],
   "source": [
    "mf.plot_responses(responses)"
   ]
  },
  {
   "cell_type": "code",
   "execution_count": null,
   "id": "8925f358",
   "metadata": {},
   "outputs": [],
   "source": [
    "t_start = time.time()\n",
    "responses_abd = protocols[\"TestStep\"].run(cell_abd, param_values={}, sim=sim_abd)\n",
    "print(f\"Elapsed time: {time.time() - t_start}\")"
   ]
  },
  {
   "cell_type": "code",
   "execution_count": null,
   "id": "f9fa911a",
   "metadata": {},
   "outputs": [],
   "source": [
    "mf.plot_responses(responses_abd)"
   ]
  },
  {
   "cell_type": "markdown",
   "id": "04ff8502",
   "metadata": {},
   "source": [
    "### Check morphology and probe"
   ]
  },
  {
   "cell_type": "code",
   "execution_count": null,
   "id": "aebb3abb",
   "metadata": {},
   "outputs": [],
   "source": [
    "plt.show()"
   ]
  },
  {
   "cell_type": "code",
   "execution_count": null,
   "id": "ca23ceee",
   "metadata": {},
   "outputs": [],
   "source": [
    "ax = mf.plot_probe(probe, interactive=True)"
   ]
  },
  {
   "cell_type": "code",
   "execution_count": null,
   "id": "bd8b354b",
   "metadata": {},
   "outputs": [],
   "source": [
    "ax = mf.plot_cell(cell, sim, color=\"k\", color_ais=\"g\", color_dend=\"r\", detailed=False, ax=ax, \n",
    "                  exclude_sections=[\"soma\"])"
   ]
  },
  {
   "cell_type": "code",
   "execution_count": null,
   "id": "09a431ff",
   "metadata": {},
   "outputs": [],
   "source": [
    "ax = mf.plot_cell(cell, sim, color=\"k\", color_ais=\"g\", color_dend=\"r\", color_abd=\"b\", detailed=False, \n",
    "                  exclude_sections=[\"soma\"])"
   ]
  },
  {
   "cell_type": "markdown",
   "id": "b8001c57",
   "metadata": {},
   "source": [
    "## Check channel distributions"
   ]
  },
  {
   "cell_type": "code",
   "execution_count": null,
   "id": "e89c4408",
   "metadata": {
    "scrolled": false
   },
   "outputs": [],
   "source": [
    "print(\"No abd\")\n",
    "cell.freeze({})\n",
    "cell.instantiate(sim)"
   ]
  },
  {
   "cell_type": "code",
   "execution_count": null,
   "id": "b23b9459",
   "metadata": {
    "scrolled": true
   },
   "outputs": [],
   "source": [
    "sim.neuron.h.topology()"
   ]
  },
  {
   "cell_type": "code",
   "execution_count": null,
   "id": "4bc2f7af",
   "metadata": {},
   "outputs": [],
   "source": [
    "from multimodalfitting.imaging_tools.correct_swc import swc_dtype"
   ]
  },
  {
   "cell_type": "code",
   "execution_count": null,
   "id": "70b99a35",
   "metadata": {},
   "outputs": [],
   "source": [
    "swc_data = np.loadtxt(morphology, dtype=swc_dtype)"
   ]
  },
  {
   "cell_type": "code",
   "execution_count": null,
   "id": "896567a0",
   "metadata": {},
   "outputs": [],
   "source": [
    "x_c = swc_data[\"x\"] - swc_data[\"x\"][0]\n",
    "y_c = swc_data[\"y\"] - swc_data[\"y\"][0]"
   ]
  },
  {
   "cell_type": "code",
   "execution_count": null,
   "id": "d724079e",
   "metadata": {},
   "outputs": [],
   "source": [
    "ax = nplt.plot_neuron(cell.LFPyCell, plane=\"xy\", color_ais=\"g\", color_axon=\"r\",\n",
    "                      color_abd=\"b\", exclude_sections=[\"soma\"])"
   ]
  },
  {
   "cell_type": "code",
   "execution_count": null,
   "id": "8ab832fb",
   "metadata": {},
   "outputs": [],
   "source": [
    "swc_data[\"x\"][:10]"
   ]
  },
  {
   "cell_type": "code",
   "execution_count": null,
   "id": "4628f613",
   "metadata": {},
   "outputs": [],
   "source": [
    "x_c[:10]"
   ]
  },
  {
   "cell_type": "code",
   "execution_count": null,
   "id": "384038fc",
   "metadata": {},
   "outputs": [],
   "source": [
    "ax.plot(x_c, y_c, ls=\"\", marker=\".\", color='r')"
   ]
  },
  {
   "cell_type": "code",
   "execution_count": null,
   "id": "31b2d2e6",
   "metadata": {},
   "outputs": [],
   "source": [
    "sec_to_show = [\"[0].dend[29]\", \"[0].dend[2]\", \"[0].dend[0]\", \"[0].dend[1]\",\n",
    "               \"[0].abd\"]\n",
    "\n",
    "for sec in cell.LFPyCell.allseclist:\n",
    "    name = sec.name()\n",
    "    if any([sec_ in name for sec_ in sec_to_show]):\n",
    "        n3d = sec.n3d()\n",
    "        print(f\"{name} - pos0: {[sec.x3d(0), sec.y3d(0)]}, pos0: {[sec.x3d(n3d - 1), sec.y3d(n3d - 1)]}\")\n",
    "        print(sim.neuron.h.parent_connection(sec), sim.neuron.h.parent_section(sec))"
   ]
  },
  {
   "cell_type": "code",
   "execution_count": null,
   "id": "6d9ff0a7",
   "metadata": {},
   "outputs": [],
   "source": [
    "for sec in cell.LFPyCell.allseclist:\n",
    "    name = sec.name()\n",
    "    if \"dend[0]\" in name:\n",
    "        break"
   ]
  },
  {
   "cell_type": "code",
   "execution_count": null,
   "id": "087a57fe",
   "metadata": {},
   "outputs": [],
   "source": [
    "sec.psection()[\"morphology\"][\"parent\"]"
   ]
  },
  {
   "cell_type": "code",
   "execution_count": null,
   "id": "50ed729b",
   "metadata": {},
   "outputs": [],
   "source": [
    "sec.parentseg().sec"
   ]
  },
  {
   "cell_type": "code",
   "execution_count": null,
   "id": "d78962b3",
   "metadata": {},
   "outputs": [],
   "source": [
    "cell.icell.ais[0].psection()[\"morphology\"][\"parent\"]"
   ]
  },
  {
   "cell_type": "code",
   "execution_count": null,
   "id": "f043bb34",
   "metadata": {},
   "outputs": [],
   "source": [
    "cell.icell.axon[0].psection()[\"morphology\"][\"parent\"]"
   ]
  },
  {
   "cell_type": "code",
   "execution_count": null,
   "id": "5f214f5e",
   "metadata": {},
   "outputs": [],
   "source": [
    "cell.icell.dend[1].x3d(cell.icell.dend[1].n3d() - 1)"
   ]
  },
  {
   "cell_type": "code",
   "execution_count": null,
   "id": "f9c97398",
   "metadata": {},
   "outputs": [],
   "source": [
    "sim.neuron.h.parent_connection(sec=sec)"
   ]
  },
  {
   "cell_type": "code",
   "execution_count": null,
   "id": "d08f46c5",
   "metadata": {},
   "outputs": [],
   "source": [
    "sec.x3d(sec.n3d() - 1)"
   ]
  },
  {
   "cell_type": "code",
   "execution_count": null,
   "id": "e30ae640",
   "metadata": {},
   "outputs": [],
   "source": [
    "print(\"Parent section:\", sec.parentseg().sec)\n",
    "print(\"Parent end:\", sim.neuron.h.parent_connection(sec=sec))"
   ]
  },
  {
   "cell_type": "code",
   "execution_count": null,
   "id": "6f73de21",
   "metadata": {},
   "outputs": [],
   "source": [
    "children_abd = sec.children()"
   ]
  },
  {
   "cell_type": "code",
   "execution_count": null,
   "id": "65271f69",
   "metadata": {},
   "outputs": [],
   "source": [
    "sim.neuron.h.parent_connection(sec=children_abd[1])"
   ]
  },
  {
   "cell_type": "code",
   "execution_count": null,
   "id": "717c3917",
   "metadata": {},
   "outputs": [],
   "source": [
    "children_abd[0].parentseg().x"
   ]
  },
  {
   "cell_type": "code",
   "execution_count": null,
   "id": "147a013b",
   "metadata": {},
   "outputs": [],
   "source": [
    "cell.unfreeze({})\n",
    "cell.destroy(sim)"
   ]
  },
  {
   "cell_type": "code",
   "execution_count": null,
   "id": "16d664d3",
   "metadata": {
    "scrolled": false
   },
   "outputs": [],
   "source": [
    "print(\"abd\")\n",
    "cell_abd.freeze({})\n",
    "cell_abd.instantiate(sim)"
   ]
  },
  {
   "cell_type": "code",
   "execution_count": null,
   "id": "ef1df5a7",
   "metadata": {},
   "outputs": [],
   "source": [
    "debug"
   ]
  },
  {
   "cell_type": "code",
   "execution_count": null,
   "id": "f4ab25cc",
   "metadata": {
    "scrolled": false
   },
   "outputs": [],
   "source": [
    "sim_abd.neuron.h.topology()"
   ]
  },
  {
   "cell_type": "code",
   "execution_count": null,
   "id": "4ccab651",
   "metadata": {},
   "outputs": [],
   "source": [
    "for sec in cell.LFPyCell.allseclist:\n",
    "    name = sec.name()\n",
    "    if \"abd[0]\" in name:\n",
    "        break"
   ]
  },
  {
   "cell_type": "code",
   "execution_count": null,
   "id": "fd815abc",
   "metadata": {},
   "outputs": [],
   "source": [
    "sec.psection()"
   ]
  },
  {
   "cell_type": "code",
   "execution_count": null,
   "id": "5e0bd531",
   "metadata": {},
   "outputs": [],
   "source": [
    "cell_abd.icell.dend[70].parentseg().x"
   ]
  },
  {
   "cell_type": "code",
   "execution_count": null,
   "id": "3e9cb33e",
   "metadata": {},
   "outputs": [],
   "source": [
    "ax = nplt.plot_neuron(cell_abd.LFPyCell, plane=\"xy\", color_ais=\"g\", color_abd=\"b\", exclude_sections=[\"soma\"],\n",
    "                      detailed=True)"
   ]
  },
  {
   "cell_type": "code",
   "execution_count": null,
   "id": "d6a17f80",
   "metadata": {},
   "outputs": [],
   "source": [
    "cell_abd.icell.soma[0].nseg"
   ]
  },
  {
   "cell_type": "code",
   "execution_count": null,
   "id": "17815dc0",
   "metadata": {},
   "outputs": [],
   "source": [
    "ax.plot(x_c, y_c, ls=\"\", marker=\".\", color='r')"
   ]
  },
  {
   "cell_type": "code",
   "execution_count": null,
   "id": "51af3599",
   "metadata": {},
   "outputs": [],
   "source": [
    "sec_to_show = [\"[0].dend[29]\", \"[0].dend[2]\", \"[0].dend[0]\", \"[0].dend[1]\",\n",
    "               \"[0].abd\", ]\n",
    "\n",
    "for sec in cell_abd.LFPyCell.allseclist:\n",
    "    name = sec.name()\n",
    "    if any([sec_ in name for sec_ in sec_to_show]):\n",
    "        n3d = sec.n3d()\n",
    "        print(f\"{name} - pos0: {[sec.x3d(0), sec.y3d(0)]}, pos0: {[sec.x3d(n3d - 1), sec.y3d(n3d - 1)]}\")\n",
    "        "
   ]
  },
  {
   "cell_type": "code",
   "execution_count": null,
   "id": "89dce166",
   "metadata": {},
   "outputs": [],
   "source": [
    "cell_abd.unfreeze({})\n",
    "cell_abd.destroy(sim)"
   ]
  },
  {
   "cell_type": "code",
   "execution_count": null,
   "id": "7d7a1659",
   "metadata": {},
   "outputs": [],
   "source": [
    "lfpy_cell = cell.LFPyCell:\n",
    "for sec in lfpy_cell.allseclist:\n",
    "    if \"ais\" in sec.name():\n",
    "        break\n",
    "ais = sec"
   ]
  },
  {
   "cell_type": "code",
   "execution_count": null,
   "id": "49eda9ca",
   "metadata": {},
   "outputs": [],
   "source": [
    "plt.figure()\n",
    "ais_dist = np.linspace(0, ais.L, ais.nseg)\n",
    "plt.plot(ais_dist, ais.psection()[\"density_mechs\"][\"Na16Hu2009\"][\"gNa16bar\"], label=\"gNa16bar_Na16Hu2009\")\n",
    "plt.plot(ais_dist, ais.psection()[\"density_mechs\"][\"Na12Hu2009\"][\"gNa12bar\"], label=\"gNa12bar_Na12Hu2009\")\n",
    "plt.plot(ais_dist, ais.psection()[\"density_mechs\"][\"KdShu2007\"][\"gkbar\"], label=\"gkbar_KdShu2007\")"
   ]
  },
  {
   "cell_type": "code",
   "execution_count": null,
   "id": "b48aded8",
   "metadata": {},
   "outputs": [],
   "source": [
    "dend_list = []\n",
    "for sec in lfpy_cell.allseclist:\n",
    "    if \"dend\" in sec.name():\n",
    "        dend_list.append(sec)"
   ]
  },
  {
   "cell_type": "code",
   "execution_count": null,
   "id": "90746578",
   "metadata": {},
   "outputs": [],
   "source": [
    "plt.figure()\n",
    "for dend in dend_list:\n",
    "    start_ = np.array([dend.x3d(0), dend.y3d(0), dend.x3d(0)])\n",
    "    if dend.nseg > 1:\n",
    "        start_dist = np.linalg.norm(start_)\n",
    "        end_dist = start_dist + dend.L\n",
    "        linear_dist_to_soma = np.linspace(start_dist, end_dist, dend.nseg)        \n",
    "    else:\n",
    "        linear_dist_to_soma = [np.linalg.norm(start_) + dend.L // 2]\n",
    "\n",
    "    plt.plot(linear_dist_to_soma, dend.psection()[\"density_mechs\"][\"NaTg\"][\"gNaTgbar\"], \"b*\")"
   ]
  },
  {
   "cell_type": "code",
   "execution_count": null,
   "id": "2ba8c0e5",
   "metadata": {},
   "outputs": [],
   "source": [
    "cell.unfreeze({})\n",
    "cell.destroy(sim)"
   ]
  }
 ],
 "metadata": {
  "interpreter": {
   "hash": "879a58b7763a123f538fb8f99746208aaa0071efa367d2139afdfbfc146e1090"
  },
  "kernelspec": {
   "display_name": "Python 3 (ipykernel)",
   "language": "python",
   "name": "python3"
  },
  "language_info": {
   "codemirror_mode": {
    "name": "ipython",
    "version": 3
   },
   "file_extension": ".py",
   "mimetype": "text/x-python",
   "name": "python",
   "nbconvert_exporter": "python",
   "pygments_lexer": "ipython3",
   "version": "3.8.11"
  }
 },
 "nbformat": 4,
 "nbformat_minor": 5
}
