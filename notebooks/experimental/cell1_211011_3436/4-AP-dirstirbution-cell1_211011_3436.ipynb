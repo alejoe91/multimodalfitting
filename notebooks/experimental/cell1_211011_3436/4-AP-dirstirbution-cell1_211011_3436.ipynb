{
 "cells": [
  {
   "cell_type": "markdown",
   "id": "f278ad77",
   "metadata": {},
   "source": [
    "# Validation - distribution of optimized AP potentials\n",
    "\n",
    "This notebook evaluates qualitatively the distributions of membrane potentials and transmembrane currents of an action potential over the neuron morphology."
   ]
  },
  {
   "cell_type": "code",
   "execution_count": null,
   "id": "de6ec5c5",
   "metadata": {},
   "outputs": [],
   "source": [
    "import pickle\n",
    "import pandas as pd\n",
    "import seaborn as sns\n",
    "import sys\n",
    "import shutil\n",
    "\n",
    "import bluepyopt as bpopt\n",
    "import bluepyopt.ephys as ephys\n",
    "\n",
    "import matplotlib.pyplot as plt\n",
    "from scipy.spatial import distance\n",
    "import MEAutility as mu\n",
    "import json\n",
    "import time\n",
    "import numpy as np\n",
    "from pathlib import Path\n",
    "\n",
    "import pandas as pd\n",
    "import seaborn as sns\n",
    "from scipy.spatial.distance import cosine\n",
    "\n",
    "import multimodalfitting as mf\n",
    "\n",
    "%matplotlib notebook"
   ]
  },
  {
   "cell_type": "code",
   "execution_count": null,
   "id": "e7463828",
   "metadata": {},
   "outputs": [],
   "source": [
    "base_path = Path(\"../..\")"
   ]
  },
  {
   "cell_type": "code",
   "execution_count": null,
   "id": "4463cd8d",
   "metadata": {},
   "outputs": [],
   "source": [
    "colors_dict = {\"soma\": \"C0\",\n",
    "               \"all\": \"C1\",\n",
    "               \"sections\": \"C2\",\n",
    "               \"single\": \"C3\"}\n",
    "figsize = (10, 7)"
   ]
  },
  {
   "cell_type": "markdown",
   "id": "44d1c7cf",
   "metadata": {},
   "source": [
    "## Load results and define model"
   ]
  },
  {
   "cell_type": "code",
   "execution_count": null,
   "id": "e3415b31",
   "metadata": {},
   "outputs": [],
   "source": [
    "probe_type = \"planar\"\n",
    "model_name = \"hay_ais\" # \"hay\", \"hay_ais\", \"hay_ais_hillock\"\n",
    "cell_models_folder = base_path / \"cell_models\"\n",
    "\n",
    "model_folder = cell_models_folder / f\"{model_name}\""
   ]
  },
  {
   "cell_type": "code",
   "execution_count": null,
   "id": "a39b0303",
   "metadata": {},
   "outputs": [],
   "source": [
    "# change this with folder containing your pkl file\n",
    "results_date = '220209'  # '211124' '220111' # \n",
    "result_folder = base_path / \"results\" / results_date"
   ]
  },
  {
   "cell_type": "code",
   "execution_count": null,
   "id": "1ecb3296",
   "metadata": {},
   "outputs": [],
   "source": [
    "data = pickle.load(open(result_folder / pkl_file_name, 'rb'))\n",
    "df_optimization = pd.DataFrame(data)\n",
    "df_model = df_optimization.query(f\"model == '{model_name}'\")\n",
    "# set strategy column\n",
    "df_model.loc[:, \"strategy\"] = df_model[\"extra_strategy\"].values.copy()\n",
    "df_model.loc[df_model[\"feature_set\"] == \"soma\", \"strategy\"] = \"soma\"\n",
    "\n",
    "if (result_folder / \"opt_results.pkl\").is_file():\n",
    "    with open(result_folder / \"opt_results.pkl\", 'rb') as f:\n",
    "        opt_results_all = pickle.load(f)"
   ]
  },
  {
   "cell_type": "code",
   "execution_count": null,
   "id": "68db2c8c",
   "metadata": {},
   "outputs": [],
   "source": [
    "protocols_file = model_folder / \"fitting\" / \"efeatures\" / \"protocols_BPO_all.json\"\n",
    "features_file = model_folder / \"fitting\" / \"efeatures\" / \"features_BPO_all.json\""
   ]
  },
  {
   "cell_type": "code",
   "execution_count": null,
   "id": "f8543b20",
   "metadata": {},
   "outputs": [],
   "source": [
    "cell = mf.create_ground_truth_model(model_name=model_name, release=False)\n",
    "cell_release = mf.create_ground_truth_model(model_name=model_name, release=True)\n",
    "\n",
    "probe = mf.define_electrode(probe_type=probe_type)\n",
    "\n",
    "param_names = [param.name for param in cell.params.values() if not param.frozen]\n",
    "\n",
    "params_release = {}\n",
    "for param in cell_release.params_by_names(param_names):\n",
    "    params_release[param.name] = param.value"
   ]
  },
  {
   "cell_type": "code",
   "execution_count": null,
   "id": "1d734edd",
   "metadata": {},
   "outputs": [],
   "source": [
    "# protocol_for_eap = \"IDrest_300\"\n",
    "protocol_for_eap = \"firepattern_120\""
   ]
  },
  {
   "cell_type": "markdown",
   "id": "c86bfa85",
   "metadata": {},
   "source": [
    "### Define more recording points "
   ]
  },
  {
   "cell_type": "code",
   "execution_count": null,
   "id": "b5e5cabf",
   "metadata": {},
   "outputs": [],
   "source": [
    "extra_kwargs = mf.utils.get_extra_kwargs()"
   ]
  },
  {
   "cell_type": "code",
   "execution_count": null,
   "id": "ff1799e2",
   "metadata": {},
   "outputs": [],
   "source": [
    "eva_extra = mf.create_evaluator(\n",
    "    model_name=model_name,\n",
    "    feature_set=\"extra\",\n",
    "    extra_strategy=\"all\",\n",
    "    all_protocols=True,\n",
    "    protocols_with_lfp=protocol_for_eap,\n",
    "    **extra_kwargs\n",
    ")"
   ]
  },
  {
   "cell_type": "code",
   "execution_count": null,
   "id": "f1fb1dfe",
   "metadata": {},
   "outputs": [],
   "source": [
    "mf.plot_cell(eva_extra.cell_model, eva_extra.sim, param_values=params_release, color_ais=\"g\")"
   ]
  },
  {
   "cell_type": "code",
   "execution_count": null,
   "id": "5715b6a6",
   "metadata": {},
   "outputs": [],
   "source": [
    "positions = np.array([[-62, 828], [-3, 954], [-27, 546], [-27, 85], [134, -28], [-117, -189],\n",
    "                     [13.4, -28.7], [11.7, -1.2]]) #[12.5, -15.6],\n",
    "position_names = [\"apical_distal_left\", \"apical_distal_right\", \"apical_middle\", \"apical_proximal\", \n",
    "                  \"basal_right\", \"basal_left\", \"ais_distal\", \"ais_proximal\"] #\"ais_middle\", "
   ]
  },
  {
   "cell_type": "code",
   "execution_count": null,
   "id": "40aaf495",
   "metadata": {},
   "outputs": [],
   "source": [
    "extra_recordings = mf.utils.extra_recordings_from_positions(cell_release, eva_extra.sim, positions, position_names)"
   ]
  },
  {
   "cell_type": "code",
   "execution_count": null,
   "id": "12be9591",
   "metadata": {},
   "outputs": [],
   "source": [
    "extra_recordings"
   ]
  },
  {
   "cell_type": "code",
   "execution_count": null,
   "id": "6ce6a352",
   "metadata": {},
   "outputs": [],
   "source": [
    "eva_extra = mf.create_evaluator(\n",
    "    model_name=model_name,\n",
    "    feature_set=\"extra\",\n",
    "    extra_strategy=\"all\",\n",
    "    protocols_with_lfp=protocol_for_eap,\n",
    "    all_protocols=True,\n",
    "    extra_recordings={protocol_for_eap: extra_recordings}, \n",
    "    **extra_kwargs\n",
    ")"
   ]
  },
  {
   "cell_type": "markdown",
   "id": "7400dc93",
   "metadata": {},
   "source": [
    "# Load protocols and original features"
   ]
  },
  {
   "cell_type": "code",
   "execution_count": null,
   "id": "0482bde9",
   "metadata": {},
   "outputs": [],
   "source": [
    "protocol_to_run = eva_extra.fitness_protocols[protocol_for_eap]\n",
    "print(protocol_to_run)"
   ]
  },
  {
   "cell_type": "code",
   "execution_count": null,
   "id": "4bccdde3",
   "metadata": {},
   "outputs": [],
   "source": [
    "# opt_results = {}\n",
    "# for strategy in np.unique(df_model.strategy):\n",
    "#     opt_results[strategy] = {}\n",
    "#     opt_df = df_model.query(f\"strategy == '{strategy}'\")\n",
    "#     best_idx = np.argmin(opt_df.best_fitness)\n",
    "#     params_sample = opt_df.iloc[best_idx]\n",
    "#     params_dict = {k: v for k, v in zip(param_names, params_sample.best_params)}\n",
    "#     opt_results[strategy][\"best_fitness\"] = params_sample.best_fitness\n",
    "#     opt_results[strategy][\"best_params\"] = params_dict\n",
    "#     print(f\"{strategy} --  best fitness: {params_sample.best_fitness}\")"
   ]
  },
  {
   "cell_type": "code",
   "execution_count": null,
   "id": "d93403df",
   "metadata": {},
   "outputs": [],
   "source": [
    "print(\"Computing RELEASE\")\n",
    "responses_release = eva_extra.run_protocol(idrest, params_release)\n",
    "\n",
    "for strategy in opt_results_all:\n",
    "    print(f\"Computing '{strategy}' -- seed: {opt_results_all[strategy]['best_seed']}\")\n",
    "    best_params = opt_results_all[strategy][\"best_params\"]\n",
    "    responses = eva_extra.run_protocol(idrest, best_params)\n",
    "    opt_results[strategy][\"responses\"] = responses"
   ]
  },
  {
   "cell_type": "code",
   "execution_count": null,
   "id": "9799770d",
   "metadata": {},
   "outputs": [],
   "source": [
    "mf.plot_responses(opt_results[\"all\"][\"responses\"], protocol_names=[\"soma\", \"ais\"])"
   ]
  },
  {
   "cell_type": "code",
   "execution_count": null,
   "id": "3a65bdd0",
   "metadata": {},
   "outputs": [],
   "source": [
    "mf.plot_responses(opt_results[\"all\"][\"responses_cut\"], protocol_names=[\"soma\", \"ais\"])"
   ]
  },
  {
   "cell_type": "code",
   "execution_count": null,
   "id": "944b418a",
   "metadata": {},
   "outputs": [],
   "source": [
    "ms_after = 50\n",
    "ms_before = 10"
   ]
  },
  {
   "cell_type": "code",
   "execution_count": null,
   "id": "60a6ed7e",
   "metadata": {},
   "outputs": [],
   "source": [
    "responses_cut_release = mf.utils.get_peak_cutout(responses_release, ms_before=ms_before, \n",
    "                                                 ms_after=ms_after, average=True)\n",
    "\n",
    "for strategy in np.unique(df_model.strategy):\n",
    "    print(f\"Cutting {strategy}\")\n",
    "    responses = opt_results[strategy][\"responses\"]\n",
    "    responses_cut = mf.utils.get_peak_cutout(responses, ms_before=ms_before, \n",
    "                                             ms_after=ms_after, average=True)\n",
    "    opt_results[strategy][\"responses_cut\"] = responses_cut"
   ]
  },
  {
   "cell_type": "code",
   "execution_count": null,
   "id": "ce605c9d",
   "metadata": {},
   "outputs": [],
   "source": [
    "responses_to_plot = []\n",
    "for resp in responses_release:\n",
    "    if any(pos_name in resp for pos_name in position_names):\n",
    "        responses_to_plot.append(resp)"
   ]
  },
  {
   "cell_type": "code",
   "execution_count": null,
   "id": "631f3dbf",
   "metadata": {},
   "outputs": [],
   "source": [
    "xlims = {\"apical_distal_left\": [-ms_before, ms_after], \n",
    "         \"apical_distal_right\": [-ms_before, ms_after],\n",
    "         \"apical_middle\": [-ms_before, ms_after], \n",
    "         \"apical_proximal\": [-5, 20], \n",
    "         \"basal_right\": [-3, 10],\n",
    "         \"basal_left\": [-3, 10],\n",
    "         \"ais_distal\": [-2, 4],\n",
    "         \"ais_middle\": [-2, 4], \n",
    "         \"ais_proximal\": [-2, 4]}"
   ]
  },
  {
   "cell_type": "code",
   "execution_count": null,
   "id": "758416b2",
   "metadata": {},
   "outputs": [],
   "source": [
    "figs_traces = {}"
   ]
  },
  {
   "cell_type": "code",
   "execution_count": null,
   "id": "17711c32",
   "metadata": {},
   "outputs": [],
   "source": [
    "exclude_strategies = []"
   ]
  },
  {
   "cell_type": "code",
   "execution_count": null,
   "id": "9604b47e",
   "metadata": {},
   "outputs": [],
   "source": [
    "add_title = True"
   ]
  },
  {
   "cell_type": "code",
   "execution_count": null,
   "id": "be3855b7",
   "metadata": {},
   "outputs": [],
   "source": [
    "distance_arr = []\n",
    "strategy_arr = []\n",
    "position_arr = []\n",
    "for resp_name in responses_to_plot:\n",
    "    fig, ax = plt.subplots(figsize=figsize)\n",
    "    position = resp_name.split(\".\")[1]\n",
    "    times = np.linspace(-ms_before, ms_after, len(responses_cut_release[resp_name][\"time\"]))\n",
    "    ax.plot(times, responses_cut_release[resp_name][\"voltage\"], \n",
    "            color=\"k\", label=\"GT\", lw=3)\n",
    "    for strategy in opt_results:\n",
    "        if strategy not in exclude_strategies:\n",
    "            resp_cut = opt_results[strategy][\"responses_cut\"]\n",
    "            ax.plot(times, resp_cut[resp_name][\"voltage\"], \n",
    "                    color=colors_dict[strategy], label=strategy.upper(), alpha=0.7, lw=1.5)\n",
    "#             dist = cosine(responses_cut_release[resp_name][\"voltage\"],\n",
    "#                           resp_cut[resp_name][\"voltage\"])\n",
    "            dist = np.sum(np.abs(responses_cut_release[resp_name][\"voltage\"] - resp_cut[resp_name][\"voltage\"]))\n",
    "            position_arr.append(position)\n",
    "            distance_arr.append(dist)\n",
    "            strategy_arr.append(strategy)\n",
    "    ax.set_xlabel(\"time (ms)\", fontsize=20)\n",
    "    ax.set_ylabel(\"$V_m$ (mV)\", fontsize=20)\n",
    "    ax.set_xlim(xlims[position])\n",
    "    ax.spines[\"top\"].set_visible(False)\n",
    "    ax.spines[\"right\"].set_visible(False)\n",
    "    if add_title:\n",
    "        ax.set_title(f\"{position}\", fontsize=15)\n",
    "    ax.axvline(0, color=\"gray\", ls=\"--\")\n",
    "    ax.legend(fontsize=20)\n",
    "    figs_traces[position] = fig\n",
    "\n",
    "df = pd.DataFrame({\"strategy\": strategy_arr, \"distance\": distance_arr, \"position\": position_arr})"
   ]
  },
  {
   "cell_type": "code",
   "execution_count": null,
   "id": "ebd38964",
   "metadata": {},
   "outputs": [],
   "source": [
    "figs_dists = {}"
   ]
  },
  {
   "cell_type": "code",
   "execution_count": null,
   "id": "0b405e31",
   "metadata": {},
   "outputs": [],
   "source": [
    "order = [\"soma\", \"all\", \"sections\", \"single\"]"
   ]
  },
  {
   "cell_type": "code",
   "execution_count": null,
   "id": "f21d7c84",
   "metadata": {},
   "outputs": [],
   "source": [
    "for position in np.unique(df[\"position\"]):\n",
    "    print(position)\n",
    "    fig, ax = plt.subplots(figsize=figsize)\n",
    "    df_pos = df.query(f\"position == '{position}'\")\n",
    "    sns.barplot(data=df_pos, x=\"strategy\", y=\"distance\", ax=ax, order=order)\n",
    "#                 color=[colors_dict[o] for o in order])\n",
    "    ax.set_xlabel(\"Strategy\", fontsize=20)\n",
    "    ax.set_ylabel(\"cos. dist.\", fontsize=20)\n",
    "    ax.spines[\"top\"].set_visible(False)\n",
    "    ax.spines[\"right\"].set_visible(False)\n",
    "    if add_title:\n",
    "        ax.set_title(f\"{position}\", fontsize=15)\n",
    "    figs_dists[position] = fig"
   ]
  },
  {
   "cell_type": "code",
   "execution_count": null,
   "id": "71c6855d",
   "metadata": {},
   "outputs": [],
   "source": [
    "fig_cell, ax_cell = plt.subplots(figsize=(7, 10))\n",
    "mf.plot_cell(eva_extra.cell_model, eva_extra.sim, param_values=params_release, ax=ax_cell,\n",
    "             alpha=0.5, color=\"black\", detailed=True)\n",
    "\n",
    "cmap = \"tab20\"\n",
    "cm = plt.get_cmap(cmap)\n",
    "for i, (pos, pos_name) in enumerate(zip(positions, position_names)):\n",
    "    color = cm(i / len(positions))\n",
    "    ax_cell.plot(*pos, label=pos_name, marker=\"o\", alpha=0.8, color=color, markersize=3)"
   ]
  },
  {
   "cell_type": "code",
   "execution_count": null,
   "id": "a51ea1d4",
   "metadata": {},
   "outputs": [],
   "source": [
    "save_fig = True\n",
    "# figure_folder = Path(\".\") / \"figures_hay_ais\"\n",
    "\n",
    "figure_folder = Path(\"/Users/abuccino/Documents/Submissions/papers/multimodal/hay_ais/ap_distr\")\n",
    "\n",
    "if save_fig:\n",
    "    figure_folder.mkdir(exist_ok=True)"
   ]
  },
  {
   "cell_type": "code",
   "execution_count": null,
   "id": "e9f1604c",
   "metadata": {},
   "outputs": [],
   "source": [
    "if save_fig:\n",
    "    fig_cell.savefig(figure_folder / \"cell.pdf\", transparent=True)\n",
    "    \n",
    "    for position in figs_traces:\n",
    "        figs_traces[position].savefig(figure_folder / f\"trace_{position}.pdf\", transparent=True)\n",
    "        figs_dists[position].savefig(figure_folder / f\"dist_{position}.pdf\", transparent=True)        "
   ]
  }
 ],
 "metadata": {
  "kernelspec": {
   "display_name": "Python 3 (ipykernel)",
   "language": "python",
   "name": "python3"
  },
  "language_info": {
   "codemirror_mode": {
    "name": "ipython",
    "version": 3
   },
   "file_extension": ".py",
   "mimetype": "text/x-python",
   "name": "python",
   "nbconvert_exporter": "python",
   "pygments_lexer": "ipython3",
   "version": "3.8.11"
  }
 },
 "nbformat": 4,
 "nbformat_minor": 5
}
