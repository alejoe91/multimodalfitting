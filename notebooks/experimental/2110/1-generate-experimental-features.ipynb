{
 "cells": [
  {
   "cell_type": "markdown",
   "metadata": {},
   "source": [
    "# Generate experimental features -  experiments 21-10"
   ]
  },
  {
   "cell_type": "code",
   "execution_count": null,
   "metadata": {},
   "outputs": [],
   "source": [
    "import json\n",
    "import matplotlib.pyplot as plt\n",
    "\n",
    "import bluepyopt as bpopt\n",
    "import bluepyopt.ephys as ephys\n",
    "\n",
    "import MEAutility as mu\n",
    "from pprint import pprint\n",
    "import time\n",
    "import numpy as np\n",
    "import neuroplotlib as nplt\n",
    "\n",
    "import multimodalfitting as mf\n",
    "\n",
    "import sys\n",
    "import shutil\n",
    "\n",
    "from pathlib import Path\n",
    "import os\n",
    "from datetime import datetime\n",
    "\n",
    "%matplotlib notebook"
   ]
  },
  {
   "cell_type": "code",
   "execution_count": null,
   "metadata": {},
   "outputs": [],
   "source": [
    "base_folder = Path(\"../../..\")"
   ]
  },
  {
   "cell_type": "code",
   "execution_count": null,
   "metadata": {},
   "outputs": [],
   "source": [
    "cell_name = \"cell1_211011_3436\"  # \"cell1_211006_3148\" | \"cell1_211011_3436\""
   ]
  },
  {
   "cell_type": "code",
   "execution_count": null,
   "metadata": {},
   "outputs": [],
   "source": [
    "data_folder = base_folder / \"experimental_data\" / cell_name\n",
    "\n",
    "cell_models_folder = base_folder / \"cell_models\"\n",
    "model_folder = cell_models_folder / cell_name\n",
    "model_name = cell_name\n",
    "fitting_folder = model_folder / \"fitting\"\n",
    "extra_folder = data_folder / \"extracellular\""
   ]
  },
  {
   "cell_type": "markdown",
   "metadata": {},
   "source": [
    "## 1) Generate features and protocols with BluePyEfe"
   ]
  },
  {
   "cell_type": "code",
   "execution_count": null,
   "metadata": {},
   "outputs": [],
   "source": [
    "from bluepyefe.extract import read_recordings, extract_efeatures_at_targets, compute_rheobase,\\\n",
    "    group_efeatures, create_feature_protocol_files, convert_legacy_targets\n",
    "from bluepyefe.plotting import plot_all_recordings_efeatures"
   ]
  },
  {
   "cell_type": "code",
   "execution_count": null,
   "metadata": {},
   "outputs": [],
   "source": [
    "with (extra_folder / \"probe.json\").open() as f:\n",
    "    probe_info = json.load(f)\n",
    "    probe_info[\"pitch\"] = 17.5\n",
    "    probe = mu.return_mea(info=probe_info)"
   ]
  },
  {
   "cell_type": "code",
   "execution_count": null,
   "metadata": {},
   "outputs": [],
   "source": [
    "eap = np.load(extra_folder / \"template.npy\")\n",
    "locations = np.load(extra_folder / \"locations.npy\")\n",
    "fs = 20000"
   ]
  },
  {
   "cell_type": "code",
   "execution_count": null,
   "metadata": {},
   "outputs": [],
   "source": [
    "ax_eap = mu.plot_mea_recording(eap, probe)"
   ]
  },
  {
   "cell_type": "code",
   "execution_count": null,
   "metadata": {},
   "outputs": [],
   "source": [
    "efeatures_output_directory = fitting_folder / \"efeatures\"\n",
    "ephys_dir = data_folder / \"patch_data\""
   ]
  },
  {
   "cell_type": "code",
   "execution_count": null,
   "metadata": {},
   "outputs": [],
   "source": [
    "from bluepyefe.extract import read_recordings, extract_efeatures_at_targets, compute_rheobase,\\\n",
    "    group_efeatures, create_feature_protocol_files, convert_legacy_targets\n",
    "from bluepyefe.plotting import plot_all_recordings_efeatures"
   ]
  },
  {
   "cell_type": "code",
   "execution_count": null,
   "metadata": {},
   "outputs": [],
   "source": [
    "from multimodalfitting.efeatures_extraction import build_wcp_metadata, wcp_reader, get_ecode_targets"
   ]
  },
  {
   "cell_type": "code",
   "execution_count": null,
   "metadata": {},
   "outputs": [],
   "source": [
    "# select files for different repetitions"
   ]
  },
  {
   "cell_type": "code",
   "execution_count": null,
   "metadata": {},
   "outputs": [],
   "source": [
    "# define timings for this experiment\n",
    "ecodes_cell_timings = {\n",
    "    \"IDthres\": {\n",
    "        'ton': 400,\n",
    "        'toff': 670\n",
    "    },\n",
    "    \"firepattern\": {\n",
    "        'ton': 500,\n",
    "        'toff': 4100\n",
    "    },\n",
    "    \"IV\": {\n",
    "        'ton': 400,\n",
    "        'toff': 3400\n",
    "    },\n",
    "    \"IDrest\": {\n",
    "        'ton': 400,\n",
    "        'toff': 1750\n",
    "    },\n",
    "    \"APWaveform\": {\n",
    "        'ton': 350,\n",
    "        'toff': 400\n",
    "    },\n",
    "    \"HyperDepol\": {\n",
    "        'ton': 400,\n",
    "        'toff': 1120,\n",
    "        'tmid': 850\n",
    "    },\n",
    "    \"sAHP\": {\n",
    "        'ton': 400,\n",
    "        'toff': 1325,\n",
    "        'tmid': 650,\n",
    "        'tmid2': 875\n",
    "    },\n",
    "    \"PosCheops\": {\n",
    "        'ton': 1000,\n",
    "        't1': 9000,\n",
    "        't2': 10500,\n",
    "        't3': 14500,\n",
    "        't4': 16000,\n",
    "        'toff': 18660\n",
    "    }\n",
    "}"
   ]
  },
  {
   "cell_type": "code",
   "execution_count": null,
   "metadata": {},
   "outputs": [],
   "source": [
    "if cell_name == \"cell1_211006_3148\":\n",
    "    runs = [1, 2, 3, 4, 5]  # run1 --> different rheobase\n",
    "elif cell_name == \"cell1_211011_3436\":\n",
    "    runs = [3, 4, 5, 6]\n",
    "    \n",
    "ecode_names = list(ecodes_cell_timings.keys())\n",
    "\n",
    "files_list = []\n",
    "\n",
    "for run in runs:\n",
    "    rep_dict = {}\n",
    "    for ecode in ecode_names:\n",
    "        for patch_file in ephys_dir.iterdir():\n",
    "            if f\"run{run}\" in patch_file.name and ecode.lower() in patch_file.name:\n",
    "                rep_dict[ecode] = patch_file\n",
    "    files_list.append(rep_dict)"
   ]
  },
  {
   "cell_type": "code",
   "execution_count": null,
   "metadata": {},
   "outputs": [],
   "source": [
    "files_list"
   ]
  },
  {
   "cell_type": "code",
   "execution_count": null,
   "metadata": {},
   "outputs": [],
   "source": [
    "files_metadata = build_wcp_metadata(cell_id=cell_name, \n",
    "                                    files_list=files_list, \n",
    "                                    ecode_timings=ecodes_cell_timings, \n",
    "                                    repetition_as_different_cells=False)\n",
    "pprint(files_metadata[cell_name])"
   ]
  },
  {
   "cell_type": "code",
   "execution_count": null,
   "metadata": {},
   "outputs": [],
   "source": [
    "cells = read_recordings(\n",
    "    files_metadata=files_metadata,\n",
    "    recording_reader=wcp_reader\n",
    ")"
   ]
  },
  {
   "cell_type": "code",
   "execution_count": null,
   "metadata": {},
   "outputs": [],
   "source": [
    "# define target features for different protocols\n",
    "targets_legacy = get_ecode_targets(ecodes_cell_timings)"
   ]
  },
  {
   "cell_type": "code",
   "execution_count": null,
   "metadata": {},
   "outputs": [],
   "source": [
    "targets_legacy"
   ]
  },
  {
   "cell_type": "code",
   "execution_count": null,
   "metadata": {},
   "outputs": [],
   "source": [
    "global_tolerance = 30\n",
    "for protocol, prot_dict in targets_legacy.items():\n",
    "    prot_dict[\"tolerances\"] = [global_tolerance]"
   ]
  },
  {
   "cell_type": "code",
   "execution_count": null,
   "metadata": {},
   "outputs": [],
   "source": [
    "targets = convert_legacy_targets(targets_legacy)"
   ]
  },
  {
   "cell_type": "code",
   "execution_count": null,
   "metadata": {},
   "outputs": [],
   "source": [
    "pprint(targets)"
   ]
  },
  {
   "cell_type": "code",
   "execution_count": null,
   "metadata": {},
   "outputs": [],
   "source": [
    "t_start = time.time()\n",
    "extract_efeatures_at_targets(\n",
    "    cells, \n",
    "    targets,\n",
    "    efel_settings={'interp_step': 0.1}\n",
    ")\n",
    "t_stop = time.time()\n",
    "print(f\"Elapsed time {t_stop - t_start}\")"
   ]
  },
  {
   "cell_type": "code",
   "execution_count": null,
   "metadata": {},
   "outputs": [],
   "source": [
    "if cell_name == \"cell1_211006_3148\":\n",
    "    majority = 0.4\n",
    "else:\n",
    "    majority = 0.2"
   ]
  },
  {
   "cell_type": "code",
   "execution_count": null,
   "metadata": {},
   "outputs": [],
   "source": [
    "compute_rheobase(\n",
    "    cells,\n",
    "    protocols_rheobase=['IDthres'],\n",
    "    rheobase_strategy=\"majority\",\n",
    "    majority=majority\n",
    ")"
   ]
  },
  {
   "cell_type": "code",
   "execution_count": null,
   "metadata": {},
   "outputs": [],
   "source": [
    "print(f\"Cell rheobase: {cells[0].rheobase} nA\")"
   ]
  },
  {
   "cell_type": "code",
   "execution_count": null,
   "metadata": {},
   "outputs": [],
   "source": [
    "protocols = group_efeatures(cells, targets, use_global_rheobase=True)"
   ]
  },
  {
   "cell_type": "code",
   "execution_count": null,
   "metadata": {},
   "outputs": [],
   "source": [
    "efeatures, protocol_definitions, current = create_feature_protocol_files(\n",
    "    cells,\n",
    "    protocols,\n",
    "    output_directory=efeatures_output_directory,\n",
    "    threshold_nvalue_save=1,\n",
    "    write_files=True,\n",
    ")"
   ]
  },
  {
   "cell_type": "code",
   "execution_count": null,
   "metadata": {},
   "outputs": [],
   "source": [
    "pprint(efeatures.keys())"
   ]
  },
  {
   "cell_type": "markdown",
   "metadata": {},
   "source": [
    "## 2) Convert to BPO format and append extra features\n"
   ]
  },
  {
   "cell_type": "code",
   "execution_count": null,
   "metadata": {},
   "outputs": [],
   "source": [
    "from multimodalfitting.efeatures_extraction import compute_extra_features, convert_to_bpo_format,\\\n",
    "    append_extrafeatures_to_json"
   ]
  },
  {
   "cell_type": "code",
   "execution_count": null,
   "metadata": {},
   "outputs": [],
   "source": [
    "protocols_of_interest = [\"IDrest_150\", \"IDrest_250\", \"IDrest_300\", \"IV_-100\", \"IV_-20\", \"APWaveform_290\"]\n",
    "\n",
    "# remove sag features from IV_-20\n",
    "exclude_features = {\"IV_-20\": ['sag_amplitude', 'sag_ratio1', 'sag_ratio2']}\n",
    "if cell_name == \"cell1_211006_3148\":\n",
    "    exclude_features.update({\"IDrest_150\": ['burst_number'],\n",
    "                             \"IDrest_250\": ['burst_number'],\n",
    "                             \"IDrest_300\": ['burst_number']})\n",
    "\n",
    "in_protocol_path = efeatures_output_directory / \"protocols.json\"\n",
    "in_efeatures_path = efeatures_output_directory / \"features.json\""
   ]
  },
  {
   "cell_type": "code",
   "execution_count": null,
   "metadata": {},
   "outputs": [],
   "source": [
    "exclude_features"
   ]
  },
  {
   "cell_type": "markdown",
   "metadata": {},
   "source": [
    "## Threshold EAP and extract featrues"
   ]
  },
  {
   "cell_type": "code",
   "execution_count": null,
   "metadata": {},
   "outputs": [],
   "source": [
    "thresh_uV = 5"
   ]
  },
  {
   "cell_type": "code",
   "execution_count": null,
   "metadata": {},
   "outputs": [],
   "source": [
    "amp_eap = np.ptp(eap, 1)\n",
    "above_tr = np.where(amp_eap > thresh_uV)\n",
    "eap_above = eap[above_tr]\n",
    "extra_features_above = compute_extra_features(eap_above, fs, upsample=10)\n",
    "probe_info = probe.info\n",
    "probe_info[\"pos\"] = locations[above_tr].tolist()\n",
    "probe_above = mu.return_mea(info=probe_info)"
   ]
  },
  {
   "cell_type": "code",
   "execution_count": null,
   "metadata": {},
   "outputs": [],
   "source": [
    "ax_eap = mu.plot_mea_recording(eap_above, probe_above)"
   ]
  },
  {
   "cell_type": "code",
   "execution_count": null,
   "metadata": {},
   "outputs": [],
   "source": [
    "# save thresholded probe_above.json and template\n",
    "json.dump(probe_above.info, (efeatures_output_directory / \"probe_BPO.json\").open(\"w\"))\n",
    "np.save(efeatures_output_directory / \"template_BPO.npy\", eap_above)"
   ]
  },
  {
   "cell_type": "code",
   "execution_count": null,
   "metadata": {},
   "outputs": [],
   "source": [
    "extra_features = compute_extra_features(eap_above, fs, upsample=10)"
   ]
  },
  {
   "cell_type": "code",
   "execution_count": null,
   "metadata": {},
   "outputs": [],
   "source": [
    "pprint(extra_features.keys())"
   ]
  },
  {
   "cell_type": "code",
   "execution_count": null,
   "metadata": {},
   "outputs": [],
   "source": [
    "# plot one extra features\n",
    "for feat in extra_features.keys():\n",
    "    f = mf.plot_feature_map_w_colorbar(extra_features[feat], probe_above, \n",
    "                                       feature_name=feat, label=\"a.u.\")"
   ]
  },
  {
   "cell_type": "markdown",
   "metadata": {},
   "source": [
    "### a) All channels"
   ]
  },
  {
   "cell_type": "code",
   "execution_count": null,
   "metadata": {},
   "outputs": [],
   "source": [
    "out_protocol_path_all = efeatures_output_directory / \"protocols_BPO_all.json\"\n",
    "out_efeatures_path_all = efeatures_output_directory / \"features_BPO_all.json\""
   ]
  },
  {
   "cell_type": "code",
   "execution_count": null,
   "metadata": {},
   "outputs": [],
   "source": [
    "protocols_dict_all, efeatures_dict_all = convert_to_bpo_format(in_protocol_path, in_efeatures_path, \n",
    "                                                               out_protocol_path_all, \n",
    "                                                               out_efeatures_path_all, \n",
    "                                                               protocols_of_interest=protocols_of_interest, \n",
    "                                                               exclude_features=exclude_features,\n",
    "                                                               std_from_mean=None)"
   ]
  },
  {
   "cell_type": "code",
   "execution_count": null,
   "metadata": {},
   "outputs": [],
   "source": [
    "pprint(efeatures_dict_all)"
   ]
  },
  {
   "cell_type": "code",
   "execution_count": null,
   "metadata": {},
   "outputs": [],
   "source": [
    "channel_ids_all = None\n",
    "single_channel_features = False"
   ]
  },
  {
   "cell_type": "code",
   "execution_count": null,
   "metadata": {},
   "outputs": [],
   "source": [
    "extrafeatures_dict_all = append_extrafeatures_to_json(extra_features, protocol_name=\"IDrest_300\",\n",
    "                                                      efeatures_dict=efeatures_dict_all,\n",
    "                                                      efeatures_path=out_efeatures_path_all, \n",
    "                                                      channel_ids=channel_ids_all,\n",
    "                                                      single_channel_features=single_channel_features, \n",
    "                                                      std_from_mean=None)"
   ]
  },
  {
   "cell_type": "code",
   "execution_count": null,
   "metadata": {},
   "outputs": [],
   "source": [
    "pprint(extrafeatures_dict_all[\"extra\"][\"IDrest_300\"][\"MEA\"])"
   ]
  },
  {
   "cell_type": "markdown",
   "metadata": {},
   "source": [
    "### b) Select single channels"
   ]
  },
  {
   "cell_type": "code",
   "execution_count": null,
   "metadata": {},
   "outputs": [],
   "source": [
    "cell = mf.create_experimental_model(model_name=model_name,\n",
    "                                    release=True)\n",
    "sim = ephys.simulators.LFPySimulator(cell, cvode_active=True, electrode=probe_above, mechs_folders=model_folder)"
   ]
  },
  {
   "cell_type": "code",
   "execution_count": null,
   "metadata": {},
   "outputs": [],
   "source": [
    "out_protocol_path_single = efeatures_output_directory / \"protocols_BPO_single.json\"\n",
    "out_efeatures_path_single = efeatures_output_directory / \"features_BPO_single.json\""
   ]
  },
  {
   "cell_type": "code",
   "execution_count": null,
   "metadata": {},
   "outputs": [],
   "source": [
    "protocols_dict_single, efeatures_dict_single = convert_to_bpo_format(in_protocol_path, in_efeatures_path, \n",
    "                                                                     out_protocol_path_single, \n",
    "                                                                     out_efeatures_path_single, \n",
    "                                                                     protocols_of_interest=protocols_of_interest,\n",
    "                                                                     exclude_features=exclude_features,\n",
    "                                                                     std_from_mean=None)"
   ]
  },
  {
   "cell_type": "code",
   "execution_count": null,
   "metadata": {},
   "outputs": [],
   "source": [
    "ax_eap = mu.plot_mea_recording(eap_above / np.max(np.abs(eap_above), axis=1, keepdims=True), probe_above)"
   ]
  },
  {
   "cell_type": "code",
   "execution_count": null,
   "metadata": {},
   "outputs": [],
   "source": [
    "channel_ids_single = mf.select_single_channels(cell, sim, probe_above)"
   ]
  },
  {
   "cell_type": "code",
   "execution_count": null,
   "metadata": {},
   "outputs": [],
   "source": [
    "channel_ids_single"
   ]
  },
  {
   "cell_type": "code",
   "execution_count": null,
   "metadata": {},
   "outputs": [],
   "source": [
    "single_channel_features = True\n",
    "std_from_mean = 0.05"
   ]
  },
  {
   "cell_type": "code",
   "execution_count": null,
   "metadata": {},
   "outputs": [],
   "source": [
    "extrafeatures_dict_single = append_extrafeatures_to_json(extra_features, protocol_name=\"IDrest_300\",\n",
    "                                                         efeatures_dict=efeatures_dict_single,\n",
    "                                                         efeatures_path=out_efeatures_path_single, \n",
    "                                                         channel_ids=channel_ids_single,\n",
    "                                                         single_channel_features=single_channel_features, \n",
    "                                                         std_from_mean=std_from_mean)"
   ]
  },
  {
   "cell_type": "code",
   "execution_count": null,
   "metadata": {},
   "outputs": [],
   "source": [
    "pprint(extrafeatures_dict_single[\"extra\"][\"IDrest_300\"][\"MEA\"])"
   ]
  },
  {
   "cell_type": "markdown",
   "metadata": {},
   "source": [
    "### c) Select channel sections"
   ]
  },
  {
   "cell_type": "code",
   "execution_count": null,
   "metadata": {},
   "outputs": [],
   "source": [
    "out_protocol_path_sections = efeatures_output_directory / \"protocols_BPO_sections.json\"\n",
    "out_efeatures_path_sections = efeatures_output_directory / \"features_BPO_sections.json\""
   ]
  },
  {
   "cell_type": "code",
   "execution_count": null,
   "metadata": {},
   "outputs": [],
   "source": [
    "protocols_dict_sections, efeatures_dict_sections = convert_to_bpo_format(in_protocol_path, in_efeatures_path, \n",
    "                                                                         out_protocol_path_sections, \n",
    "                                                                         out_efeatures_path_sections, \n",
    "                                                                         protocols_of_interest=protocols_of_interest,\n",
    "                                                                         exclude_features=exclude_features,\n",
    "                                                                         std_from_mean=None)"
   ]
  },
  {
   "cell_type": "code",
   "execution_count": null,
   "metadata": {},
   "outputs": [],
   "source": [
    "ax_eap = mu.plot_mea_recording(eap_above / np.max(np.abs(eap_above), axis=1, keepdims=True), probe_above)"
   ]
  },
  {
   "cell_type": "code",
   "execution_count": null,
   "metadata": {},
   "outputs": [],
   "source": [
    "channel_ids_sections = mf.select_mea_sections(cell, sim, probe_above)"
   ]
  },
  {
   "cell_type": "code",
   "execution_count": null,
   "metadata": {},
   "outputs": [],
   "source": [
    "channel_ids_sections"
   ]
  },
  {
   "cell_type": "code",
   "execution_count": null,
   "metadata": {},
   "outputs": [],
   "source": [
    "single_channel_features = False\n",
    "std_from_mean = None"
   ]
  },
  {
   "cell_type": "code",
   "execution_count": null,
   "metadata": {},
   "outputs": [],
   "source": [
    "extrafeatures_dict_sections = append_extrafeatures_to_json(extra_features, protocol_name=\"IDrest_300\",\n",
    "                                                           efeatures_dict=efeatures_dict_sections,\n",
    "                                                           efeatures_path=out_efeatures_path_sections, \n",
    "                                                           channel_ids=channel_ids_sections,\n",
    "                                                           single_channel_features=single_channel_features, \n",
    "                                                           std_from_mean=std_from_mean)"
   ]
  },
  {
   "cell_type": "code",
   "execution_count": null,
   "metadata": {},
   "outputs": [],
   "source": [
    "pprint(extrafeatures_dict_sections[\"extra\"][\"IDrest_300\"])"
   ]
  }
 ],
 "metadata": {
  "kernelspec": {
   "display_name": "Python 3 (ipykernel)",
   "language": "python",
   "name": "python3"
  },
  "language_info": {
   "codemirror_mode": {
    "name": "ipython",
    "version": 3
   },
   "file_extension": ".py",
   "mimetype": "text/x-python",
   "name": "python",
   "nbconvert_exporter": "python",
   "pygments_lexer": "ipython3",
   "version": "3.8.11"
  }
 },
 "nbformat": 4,
 "nbformat_minor": 1
}
