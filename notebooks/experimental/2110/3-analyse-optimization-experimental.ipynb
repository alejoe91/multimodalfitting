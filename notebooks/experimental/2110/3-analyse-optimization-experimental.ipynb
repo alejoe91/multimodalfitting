{
 "cells": [
  {
   "cell_type": "markdown",
   "id": "2802976d",
   "metadata": {},
   "source": [
    "# 3) Analyze and evaluate optimization output - EXPERIMENTAL\n",
    "\n",
    "This final notebook uses the `runs.pkl` file created in notebook 2 and it analyzes:\n",
    "\n",
    "- the distance between different feature sets in the parameter space\n",
    "- the distance between different feature sets in the feature space\n",
    "- the distance between different feature sets in the extracellular signals"
   ]
  },
  {
   "cell_type": "code",
   "execution_count": null,
   "id": "0100d836",
   "metadata": {},
   "outputs": [],
   "source": [
    "import pickle\n",
    "import pandas as pd\n",
    "import seaborn as sns\n",
    "import sys\n",
    "import shutil\n",
    "\n",
    "import bluepyopt as bpopt\n",
    "import bluepyopt.ephys as ephys\n",
    "import neuroplotlib as nplt\n",
    "\n",
    "import matplotlib.pyplot as plt\n",
    "from scipy.spatial import distance\n",
    "import MEAutility as mu\n",
    "import json\n",
    "import time\n",
    "import numpy as np\n",
    "from pathlib import Path\n",
    "from pprint import pprint\n",
    "\n",
    "import multimodalfitting as mf\n",
    "\n",
    "%matplotlib notebook"
   ]
  },
  {
   "cell_type": "code",
   "execution_count": null,
   "id": "2b4e9ef0",
   "metadata": {},
   "outputs": [],
   "source": [
    "# general\n",
    "base_folder =Path(\"../../..\")\n",
    "cell_name = \"cell1_211006_3148\"\n",
    "model_name = cell_name\n",
    "ephys_dir = base_folder / \"experimental_data\" / cell_name / \"patch_data\"\n",
    "\n",
    "cell_models_folder = base_folder/ \"cell_models\"\n",
    "model_folder = cell_models_folder / cell_name"
   ]
  },
  {
   "cell_type": "code",
   "execution_count": null,
   "id": "ed7cb463",
   "metadata": {},
   "outputs": [],
   "source": [
    "result_folder = base_folder / \"results\" / '211124'"
   ]
  },
  {
   "cell_type": "code",
   "execution_count": null,
   "id": "cbd38d0b",
   "metadata": {},
   "outputs": [],
   "source": [
    "save_fig = True\n",
    "figure_folder = Path(\".\") / f\"figures_{cell_name}\"\n",
    "\n",
    "if save_fig:\n",
    "    figure_folder.mkdir(exist_ok=True)"
   ]
  },
  {
   "cell_type": "markdown",
   "id": "7f3462e3",
   "metadata": {},
   "source": [
    "# Define cell model and load optimization output"
   ]
  },
  {
   "cell_type": "code",
   "execution_count": null,
   "id": "566dfb7c",
   "metadata": {},
   "outputs": [],
   "source": [
    "cell = mf.create_experimental_model(model_name=cell_name)\n",
    "cell_sample = mf.create_experimental_model(model_name=cell_name, release=True)\n",
    "\n",
    "probe = mf.define_electrode(probe_file=model_folder / \"fitting\" / \"efeatures\" / \"probe_BPO.json\")\n",
    "param_names = [param.name for param in cell.params.values() if not param.frozen]\n",
    "\n",
    "params_sample = {}\n",
    "for param in cell_sample.params_by_names(param_names):\n",
    "    params_sample[param.name] = param.value"
   ]
  },
  {
   "cell_type": "code",
   "execution_count": null,
   "id": "f3669851",
   "metadata": {},
   "outputs": [],
   "source": [
    "pkl_file_name = \"runs_experimental.pkl\""
   ]
  },
  {
   "cell_type": "code",
   "execution_count": null,
   "id": "cf1a954f",
   "metadata": {},
   "outputs": [],
   "source": [
    "data = pickle.load(open(result_folder / pkl_file_name, 'rb'))\n",
    "df_optimization = pd.DataFrame(data)\n",
    "df_model = df_optimization.query(f\"model == 'experimental'\")"
   ]
  },
  {
   "cell_type": "code",
   "execution_count": null,
   "id": "5e681fe5",
   "metadata": {},
   "outputs": [],
   "source": [
    "opt_soma = df_model.query(\"feature_set == 'soma'\")\n",
    "opt_extra = df_model.query(\"feature_set == 'extra'\")\n",
    "print(f\"Somatic optimizations: {len(opt_soma)}\")\n",
    "print(f\"Extra optimizations: {len(opt_extra)}\")"
   ]
  },
  {
   "cell_type": "code",
   "execution_count": null,
   "id": "2367846e",
   "metadata": {},
   "outputs": [],
   "source": [
    "fig, ax = plt.subplots()\n",
    "min_evals = 3000\n",
    "color_strategy = {\"all\": \"C1\", \"sections\": \"C2\", \"single\": \"C3\"}\n",
    "\n",
    "keep_idxs_soma = []\n",
    "for idx, row in opt_soma.iterrows():\n",
    "    if max(row[\"nevals\"]) > min_evals:\n",
    "        keep_idxs_soma.append(idx)\n",
    "        ax.plot(row[\"nevals\"], \n",
    "                row[\"logbook\"].select(\"min\"),\n",
    "                color=\"C0\",\n",
    "                ls='-', \n",
    "                lw=0.8,\n",
    "                alpha=0.75)\n",
    "    else:\n",
    "        ax.plot(row[\"nevals\"], \n",
    "                row[\"logbook\"].select(\"min\"),\n",
    "                color=\"C0\",\n",
    "                ls='--', \n",
    "                lw=0.5,\n",
    "                alpha=0.75)\n",
    "keep_idx_extra = []\n",
    "for idx, row in opt_extra.iterrows():\n",
    "    #print(max(row['nevals']))\n",
    "    if max(row[\"nevals\"]) > min_evals:\n",
    "        keep_idx_extra.append(idx)\n",
    "        ax.plot(row[\"nevals\"], \n",
    "                row[\"logbook\"].select(\"min\"),\n",
    "                color=color_strategy[row[\"extra_strategy\"]],\n",
    "                ls='-', \n",
    "                lw=0.8,\n",
    "                alpha=0.75, \n",
    "                label=idx)\n",
    "    else:\n",
    "        ax.plot(row[\"nevals\"], \n",
    "                row[\"logbook\"].select(\"min\"),\n",
    "                color=color_strategy[row[\"extra_strategy\"]],\n",
    "                ls='--', \n",
    "                lw=0.5,\n",
    "                alpha=0.75, \n",
    "                label=idx)\n",
    "ax.set_title(\"Min fitness\")\n",
    "ax.spines[\"top\"].set_visible(False)\n",
    "ax.spines[\"right\"].set_visible(False)\n",
    "ax.set_xlabel(\"Neval\")\n",
    "ax.set_ylabel(\"Min fitness\")\n",
    "ax.set_yscale('log')"
   ]
  },
  {
   "cell_type": "markdown",
   "id": "f82df2d2",
   "metadata": {},
   "source": [
    "# Load protocols and experimental features"
   ]
  },
  {
   "cell_type": "code",
   "execution_count": null,
   "id": "0fa538b5",
   "metadata": {},
   "outputs": [],
   "source": [
    "# protocols_file = data_folder / \"efeatures\" / \"protocols_BPO_all.json\"\n",
    "# feature_file = data_folder / \"efeatures\" / \"features_BPO_all.json\"\n",
    "# all_protocols_file = data_folder / \"efeatures\" / \"protocols.json\"\n",
    "# all_feature_file = data_folder / \"efeatures\" / \"features.json\"\n",
    "# probe_file = data_folder / \"efeatures\" / \"probe_BPO.json\""
   ]
  },
  {
   "cell_type": "code",
   "execution_count": null,
   "id": "2f7db931",
   "metadata": {},
   "outputs": [],
   "source": [
    "extra_kwargs = mf.utils.get_extra_kwargs()\n",
    "extra_kwargs[\"ms_cut\"] = [2, 5]"
   ]
  },
  {
   "cell_type": "code",
   "execution_count": null,
   "id": "30972ccb",
   "metadata": {},
   "outputs": [],
   "source": [
    "protocol_for_eap = \"IDrest_300\""
   ]
  },
  {
   "cell_type": "code",
   "execution_count": null,
   "id": "cfd8b2f8",
   "metadata": {},
   "outputs": [],
   "source": [
    "eva_extra = mf.create_evaluator(\n",
    "    model_name=model_name,\n",
    "    feature_set=\"extra\",\n",
    "    extra_strategy=\"all\",\n",
    "    protocols_with_lfp=protocol_for_eap,\n",
    "    **extra_kwargs\n",
    ")"
   ]
  },
  {
   "cell_type": "markdown",
   "id": "4129411f",
   "metadata": {},
   "source": [
    "## Load experimental responses"
   ]
  },
  {
   "cell_type": "code",
   "execution_count": null,
   "id": "c2ff2ac2",
   "metadata": {},
   "outputs": [],
   "source": [
    "from bluepyefe.extract import read_recordings, extract_efeatures_at_targets, compute_rheobase,\\\n",
    "    group_efeatures, create_feature_protocol_files, convert_legacy_targets\n",
    "from bluepyefe.plotting import plot_all_recordings_efeatures\n",
    "\n",
    "from multimodalfitting.efeatures_extraction import build_wcp_metadata, wcp_reader, get_ecode_targets, \\\n",
    "    ecodes_wcp_timings"
   ]
  },
  {
   "cell_type": "code",
   "execution_count": null,
   "id": "ba8b8787",
   "metadata": {},
   "outputs": [],
   "source": [
    "# define timings for this experiment\n",
    "ecodes_cell_timings = {\n",
    "    \"IDthres\": {\n",
    "        'ton': 400,\n",
    "        'toff': 670\n",
    "    },\n",
    "    \"firepattern\": {\n",
    "        'ton': 500,\n",
    "        'toff': 4100\n",
    "    },\n",
    "    \"IV\": {\n",
    "        'ton': 400,\n",
    "        'toff': 3400\n",
    "    },\n",
    "    \"IDrest\": {\n",
    "        'ton': 400,\n",
    "        'toff': 1750\n",
    "    },\n",
    "    \"APWaveform\": {\n",
    "        'ton': 350,\n",
    "        'toff': 400\n",
    "    },\n",
    "    \"HyperDepol\": {\n",
    "        'ton': 400,\n",
    "        'toff': 1120,\n",
    "        'tmid': 850\n",
    "    },\n",
    "    \"sAHP\": {\n",
    "        'ton': 400,\n",
    "        'toff': 1325,\n",
    "        'tmid': 650,\n",
    "        'tmid2': 875\n",
    "    },\n",
    "    \"PosCheops\": {\n",
    "        'ton': 1000,\n",
    "        't1': 9000,\n",
    "        't2': 10500,\n",
    "        't3': 14500,\n",
    "        't4': 16000,\n",
    "        'toff': 18660\n",
    "    }\n",
    "}"
   ]
  },
  {
   "cell_type": "code",
   "execution_count": null,
   "id": "ad6baf49",
   "metadata": {},
   "outputs": [],
   "source": [
    "runs = [1, 2, 3, 4, 5]  # run1 --> different rheobase\n",
    "\n",
    "ecode_names = list(ecodes_cell_timings.keys())\n",
    "\n",
    "files_list = []\n",
    "\n",
    "for run in runs:\n",
    "    rep_dict = {}\n",
    "    for ecode in ecode_names:\n",
    "        for patch_file in ephys_dir.iterdir():\n",
    "            if f\"run{run}\" in patch_file.name and ecode.lower() in patch_file.name:\n",
    "                rep_dict[ecode] = patch_file\n",
    "    files_list.append(rep_dict)"
   ]
  },
  {
   "cell_type": "code",
   "execution_count": null,
   "id": "57b66586",
   "metadata": {},
   "outputs": [],
   "source": [
    "files_metadata = build_wcp_metadata(cell_id=cell_name, \n",
    "                                    files_list=files_list, \n",
    "                                    ecode_timings=ecodes_cell_timings, \n",
    "                                    repetition_as_different_cells=False)\n",
    "pprint(files_metadata[cell_name])"
   ]
  },
  {
   "cell_type": "code",
   "execution_count": null,
   "id": "70cdd173",
   "metadata": {},
   "outputs": [],
   "source": [
    "cells = read_recordings(\n",
    "    files_metadata=files_metadata,\n",
    "    recording_reader=wcp_reader\n",
    ")"
   ]
  },
  {
   "cell_type": "code",
   "execution_count": null,
   "id": "adb19a1c",
   "metadata": {},
   "outputs": [],
   "source": [
    "# define target features for different protocols\n",
    "targets_legacy = get_ecode_targets(ecodes_cell_timings)"
   ]
  },
  {
   "cell_type": "code",
   "execution_count": null,
   "id": "b57dfcee",
   "metadata": {},
   "outputs": [],
   "source": [
    "global_tolerance = 30\n",
    "for protocol, prot_dict in targets_legacy.items():\n",
    "    prot_dict[\"tolerances\"] = [global_tolerance]"
   ]
  },
  {
   "cell_type": "code",
   "execution_count": null,
   "id": "934fe301",
   "metadata": {},
   "outputs": [],
   "source": [
    "targets = convert_legacy_targets(targets_legacy)"
   ]
  },
  {
   "cell_type": "code",
   "execution_count": null,
   "id": "b994a8c3",
   "metadata": {},
   "outputs": [],
   "source": [
    "pprint(targets)"
   ]
  },
  {
   "cell_type": "code",
   "execution_count": null,
   "id": "ef132c09",
   "metadata": {},
   "outputs": [],
   "source": [
    "compute_rheobase?"
   ]
  },
  {
   "cell_type": "code",
   "execution_count": null,
   "id": "6467a09d",
   "metadata": {},
   "outputs": [],
   "source": [
    "compute_rheobase(\n",
    "    cells, \n",
    "    protocols_rheobase=['IDthres'],\n",
    "    rheobase_strategy=\"majority\",\n",
    "    majority=0.6\n",
    ")"
   ]
  },
  {
   "cell_type": "code",
   "execution_count": null,
   "id": "747509b0",
   "metadata": {},
   "outputs": [],
   "source": [
    "print(f\"Cell rheobase: {cells[0].rheobase}\")"
   ]
  },
  {
   "cell_type": "code",
   "execution_count": null,
   "id": "0df92139",
   "metadata": {},
   "outputs": [],
   "source": [
    "protocols = group_efeatures(cells, targets, use_global_rheobase=True)"
   ]
  },
  {
   "cell_type": "code",
   "execution_count": null,
   "id": "8d8bc08e",
   "metadata": {},
   "outputs": [],
   "source": [
    "protocols_opt = list(eva_extra.fitness_protocols.keys())"
   ]
  },
  {
   "cell_type": "markdown",
   "id": "73b1302d",
   "metadata": {},
   "source": [
    "### Build BPO response dicts"
   ]
  },
  {
   "cell_type": "code",
   "execution_count": null,
   "id": "59b61551",
   "metadata": {},
   "outputs": [],
   "source": [
    "responses_experimental = []\n",
    "num_runs = len(protocols[0].recordings)\n",
    "for run in range(num_runs):\n",
    "    print(f\"Populating responses for run {run}\")\n",
    "    response_dict = {}\n",
    "    for protocol in protocols:\n",
    "        for i, rec in enumerate(protocol.recordings):\n",
    "            if i == run:\n",
    "                if protocol.stimulus_name in protocols_opt:\n",
    "                    response = bpopt.ephys.responses.TimeVoltageResponse(name=protocol.name,\n",
    "                                                                         time=rec.t, voltage=rec.voltage)\n",
    "                    response_dict[f\"{protocol.stimulus_name}.soma.v\"] = response\n",
    "    responses_experimental.append(response_dict)"
   ]
  },
  {
   "cell_type": "code",
   "execution_count": null,
   "id": "6f453fa5",
   "metadata": {},
   "outputs": [],
   "source": [
    "responses_experimental"
   ]
  },
  {
   "cell_type": "code",
   "execution_count": null,
   "id": "c7c81594",
   "metadata": {},
   "outputs": [],
   "source": [
    "fig_exp_intra = mf.plot_multiple_responses(responses_experimental, return_fig=True, \n",
    "                                           labels=[\"run1\", \"run2\", \"run3\", \"run4\", \"run5\"])"
   ]
  },
  {
   "cell_type": "code",
   "execution_count": null,
   "id": "59489e00",
   "metadata": {},
   "outputs": [],
   "source": [
    "eap_exp = np.load(model_folder / \"fitting\" / \"efeatures\" / \"template_BPO.npy\") / 1000"
   ]
  },
  {
   "cell_type": "code",
   "execution_count": null,
   "id": "b58c6cfd",
   "metadata": {},
   "outputs": [],
   "source": [
    "ax = mu.plot_mea_recording(eap_exp, probe)\n",
    "mf.plot_cell(eva_extra.cell_model, sim=eva_extra.sim, param_values=params_sample, \n",
    "             ax=ax, color_ais=\"r\", color_axon=\"y\")\n",
    "fig_exp_extra = ax.get_figure()"
   ]
  },
  {
   "cell_type": "code",
   "execution_count": null,
   "id": "59df1656",
   "metadata": {},
   "outputs": [],
   "source": [
    "if save_fig:\n",
    "    fig_exp_intra.savefig(figure_folder / \"exp_intra.png\", dpi=300)\n",
    "    fig_exp_extra.savefig(figure_folder / \"exp_extra.png\", dpi=300)"
   ]
  },
  {
   "cell_type": "markdown",
   "id": "9c049ffe",
   "metadata": {},
   "source": [
    "## \"soma\" example"
   ]
  },
  {
   "cell_type": "code",
   "execution_count": null,
   "id": "30c53f72",
   "metadata": {},
   "outputs": [],
   "source": [
    "best_soma = np.argmin(opt_soma.best_fitness)"
   ]
  },
  {
   "cell_type": "code",
   "execution_count": null,
   "id": "62f91db4",
   "metadata": {},
   "outputs": [],
   "source": [
    "params_sample_soma = opt_soma.iloc[best_soma]\n",
    "params_sample_soma_dict = {k: v for k, v in zip(param_names, params_sample_soma.best_params)}\n",
    "print(params_sample_soma.best_fitness)"
   ]
  },
  {
   "cell_type": "code",
   "execution_count": null,
   "id": "e2267059",
   "metadata": {},
   "outputs": [],
   "source": [
    "params_sample_soma_dict"
   ]
  },
  {
   "cell_type": "code",
   "execution_count": null,
   "id": "ee6b4900",
   "metadata": {},
   "outputs": [],
   "source": [
    "response_soma = eva_extra.run_protocols(eva_extra.fitness_protocols.values(), param_values=params_sample_soma_dict)"
   ]
  },
  {
   "cell_type": "code",
   "execution_count": null,
   "id": "004f8741",
   "metadata": {},
   "outputs": [],
   "source": [
    "eap_soma = mf.utils.calculate_eap(responses=response_soma, protocols=eva_extra.fitness_protocols, \n",
    "                                  protocol_name=protocol_for_eap, **extra_kwargs)"
   ]
  },
  {
   "cell_type": "code",
   "execution_count": null,
   "id": "4c0815c2",
   "metadata": {},
   "outputs": [],
   "source": [
    "fig_soma = mf.plot_multiple_responses([responses_experimental[1], response_soma], colors=[\"k\", \"C0\"],\n",
    "                                      return_fig=True, labels=[\"EXP\", \"SOMA\"])"
   ]
  },
  {
   "cell_type": "code",
   "execution_count": null,
   "id": "4165e17a",
   "metadata": {},
   "outputs": [],
   "source": [
    "if save_fig:\n",
    "    fig_soma.savefig(figure_folder / \"soma_intra.png\", dpi=300)"
   ]
  },
  {
   "cell_type": "code",
   "execution_count": null,
   "id": "dd974a33",
   "metadata": {},
   "outputs": [],
   "source": [
    "# plot extracellular\n",
    "vscale = 1 * np.max(np.abs(eap_exp))\n",
    "ax_soma = mu.plot_mea_recording(eap_exp, probe, vscale=vscale, lw=1)\n",
    "ax_soma = mu.plot_mea_recording(eap_soma, probe, ax=ax_soma, vscale=vscale, colors=\"C0\", lw=1)"
   ]
  },
  {
   "cell_type": "code",
   "execution_count": null,
   "id": "957607fc",
   "metadata": {},
   "outputs": [],
   "source": [
    "eap_dist_soma = distance.cosine(eap_exp.ravel(), eap_soma.ravel())\n",
    "print(eap_dist_soma)"
   ]
  },
  {
   "cell_type": "markdown",
   "id": "362fa12f",
   "metadata": {},
   "source": [
    "## \"extra\" example"
   ]
  },
  {
   "cell_type": "code",
   "execution_count": null,
   "id": "34539cfa",
   "metadata": {},
   "outputs": [],
   "source": [
    "opt_all = opt_extra.query(\"extra_strategy == 'all'\")\n",
    "opt_sections = opt_extra.query(\"extra_strategy == 'sections'\")\n",
    "opt_single = opt_extra.query(\"extra_strategy == 'single'\")"
   ]
  },
  {
   "cell_type": "code",
   "execution_count": null,
   "id": "58a84fd7",
   "metadata": {},
   "outputs": [],
   "source": [
    "best_all = np.argmin(opt_all.best_fitness)\n",
    "best_sections = np.argmin(opt_sections.best_fitness)\n",
    "best_single = np.argmin(opt_single.best_fitness)"
   ]
  },
  {
   "cell_type": "code",
   "execution_count": null,
   "id": "9ebd984d",
   "metadata": {},
   "outputs": [],
   "source": [
    "params_sample_all = opt_all.iloc[best_all]\n",
    "params_sample_dict_all = {k: v for k, v in zip(param_names, params_sample_all.best_params)}\n",
    "display(\"ALL\", params_sample_all.best_fitness)\n",
    "\n",
    "params_sample_sections = opt_sections.iloc[best_sections]\n",
    "params_sample_dict_sections = {k: v for k, v in zip(param_names, params_sample_sections.best_params)}\n",
    "display(\"SECTIONS\", params_sample_sections.best_fitness)\n",
    "\n",
    "params_sample_single = opt_single.iloc[best_single]\n",
    "params_sample_dict_single = {k: v for k, v in zip(param_names, params_sample_single.best_params)}\n",
    "display(\"SINGLE\", params_sample_single.best_fitness)"
   ]
  },
  {
   "cell_type": "code",
   "execution_count": null,
   "id": "070d2007",
   "metadata": {},
   "outputs": [],
   "source": [
    "response_all = eva_extra.run_protocols(eva_extra.fitness_protocols.values(), \n",
    "                                       param_values=params_sample_dict_all)\n",
    "response_sections = eva_extra.run_protocols(eva_extra.fitness_protocols.values(), \n",
    "                                            param_values=params_sample_dict_sections)\n",
    "response_single = eva_extra.run_protocols(eva_extra.fitness_protocols.values(), \n",
    "                                          param_values=params_sample_dict_single)"
   ]
  },
  {
   "cell_type": "code",
   "execution_count": null,
   "id": "da0df2fe",
   "metadata": {},
   "outputs": [],
   "source": [
    "eap_all = mf.utils.calculate_eap(responses=response_all, protocols=eva_extra.fitness_protocols, \n",
    "                                 protocol_name=protocol_for_eap, **extra_kwargs)\n",
    "eap_sections = mf.utils.calculate_eap(responses=response_sections, protocols=eva_extra.fitness_protocols, \n",
    "                                      protocol_name=protocol_for_eap, **extra_kwargs)\n",
    "eap_single = mf.utils.calculate_eap(responses=response_single, protocols=eva_extra.fitness_protocols, \n",
    "                                    protocol_name=protocol_for_eap, **extra_kwargs)"
   ]
  },
  {
   "cell_type": "code",
   "execution_count": null,
   "id": "8e17aa91",
   "metadata": {},
   "outputs": [],
   "source": [
    "mf.plot_multiple_responses([responses_experimental[1], response_all, \n",
    "                            response_sections, response_single], \n",
    "                           colors=[\"k\", \"C1\", \"C2\", \"C3\"])"
   ]
  },
  {
   "cell_type": "code",
   "execution_count": null,
   "id": "a7c7c53a",
   "metadata": {},
   "outputs": [],
   "source": [
    "# plot extracellular\n",
    "fig, ax_extra = plt.subplots(figsize=(10, 7))\n",
    "vscale = 1 * np.max(np.abs(eap_exp))\n",
    "ax_extra = mu.plot_mea_recording(eap_exp, probe, vscale=vscale, lw=2, ax=ax_extra)\n",
    "# ax_extra = mu.plot_mea_recording(eap_all, probe, ax=ax_extra, vscale=vscale, \n",
    "#                                  colors=\"C1\", lw=1)\n",
    "ax_extra.get_lines()[-1].set_label(\"EXP\")\n",
    "ax_extra = mu.plot_mea_recording(eap_sections, probe, ax=ax_extra, vscale=vscale, \n",
    "                                 colors=\"C2\", lw=2)\n",
    "ax_extra.get_lines()[-1].set_label(\"SECTIONS\")\n",
    "ax_extra.legend()\n",
    "\n",
    "mf.plot_cell(eva_extra.cell_model, sim=eva_extra.sim, param_values=params_sample_dict_all, \n",
    "             ax=ax_extra, color_ais=\"r\", color_axon=\"y\")\n",
    "# ax_extra = mu.plot_mea_recording(eap_single, probe, ax=ax_extra, vscale=vscale, \n",
    "#                                  colors=\"C3\", lw=1)"
   ]
  },
  {
   "cell_type": "code",
   "execution_count": null,
   "id": "760cd08d",
   "metadata": {},
   "outputs": [],
   "source": [
    "if save_fig:\n",
    "    fig.savefig(figure_folder / \"sections_extra.png\", dpi=300)    "
   ]
  },
  {
   "cell_type": "code",
   "execution_count": null,
   "id": "3fc1626d",
   "metadata": {},
   "outputs": [],
   "source": [
    "eap_dist_all = distance.cosine(eap_exp.ravel(), eap_all.ravel())\n",
    "eap_dist_sections = distance.cosine(eap_exp.ravel(), eap_sections.ravel())\n",
    "eap_dist_single = distance.cosine(eap_exp.ravel(), eap_single.ravel())"
   ]
  },
  {
   "cell_type": "code",
   "execution_count": null,
   "id": "ce5419db",
   "metadata": {},
   "outputs": [],
   "source": [
    "print(\"Cosine dist SOMA\", eap_dist_soma)\n",
    "print(\"Cosine dist EXTRA ALL\", eap_dist_all)\n",
    "print(\"Cosine dist EXTRA SECTIONS\", eap_dist_sections)\n",
    "print(\"Cosine dist EXTRA SINGLE\", eap_dist_single)"
   ]
  },
  {
   "cell_type": "code",
   "execution_count": null,
   "id": "a640e2b7",
   "metadata": {},
   "outputs": [],
   "source": []
  },
  {
   "cell_type": "code",
   "execution_count": null,
   "id": "6a2a6336",
   "metadata": {},
   "outputs": [],
   "source": []
  },
  {
   "cell_type": "code",
   "execution_count": null,
   "id": "cf2b2e1c",
   "metadata": {},
   "outputs": [],
   "source": []
  },
  {
   "cell_type": "code",
   "execution_count": null,
   "id": "b9632d33",
   "metadata": {},
   "outputs": [],
   "source": []
  },
  {
   "cell_type": "code",
   "execution_count": null,
   "id": "d877ac33",
   "metadata": {},
   "outputs": [],
   "source": []
  },
  {
   "cell_type": "code",
   "execution_count": null,
   "id": "09e2ceb6",
   "metadata": {},
   "outputs": [],
   "source": []
  },
  {
   "cell_type": "code",
   "execution_count": null,
   "id": "d5522421",
   "metadata": {},
   "outputs": [],
   "source": []
  },
  {
   "cell_type": "markdown",
   "id": "3ceb6da1",
   "metadata": {},
   "source": [
    "## Run protocols and compute features for all tested models\n"
   ]
  },
  {
   "cell_type": "code",
   "execution_count": null,
   "id": "48935452",
   "metadata": {},
   "outputs": [],
   "source": [
    "feats_soma = []\n",
    "eaps_soma = []\n",
    "params_soma = []\n",
    "responses_soma = []\n",
    "\n",
    "print(\"SOMA\")\n",
    "for i, (index, opt) in enumerate(opt_soma.iterrows()):\n",
    "    print(f\"Computing {i + 1} / {len(opt_soma)}\")\n",
    "    # get best params\n",
    "    params_dict = {k: v for k, v in zip(param_names, opt.best_params)}\n",
    "    params_soma.append(params_dict)\n",
    "    \n",
    "    # run protocols\n",
    "    responses = eva_extra.run_protocols(eva_extra.fitness_protocols.values(), \n",
    "                                        param_values=params_dict) \n",
    "    responses_soma.append(responses)\n",
    "    try:\n",
    "        eap = mf.utils.calculate_eap(responses=responses, protocols=eva_extra.fitness_protocols, \n",
    "                                  protocol_name=protocol_for_eap, **extra_kwargs)\n",
    "    except:\n",
    "        eap = np.zeros(eaps_soma[-1].shape)\n",
    "    feat_dict = {}\n",
    "    for obj in eva_extra.fitness_calculator.objectives:\n",
    "        feat_dict[obj.features[0].name] = {}\n",
    "        if len(obj.features) == 1:\n",
    "            feat_value = obj.features[0].calculate_feature(responses)\n",
    "            feat_score = obj.features[0].calculate_score(responses)\n",
    "            feat_dict[obj.features[0].name][\"value\"] = feat_value\n",
    "            feat_dict[obj.features[0].name][\"score\"] = feat_score\n",
    "        else:\n",
    "            print(f\"More than one feature for objective: {obj.name}\")\n",
    "            \n",
    "    feats_soma.append(feat_dict)\n",
    "    eaps_soma.append(eap)\n",
    "    \n",
    "print(\"EXTRA\")\n",
    "feats_extra = []\n",
    "eaps_extra = []\n",
    "params_extra = []\n",
    "responses_extra = []\n",
    "\n",
    "for i, (index, opt) in enumerate(opt_extra.iterrows()):\n",
    "    print(f\"Computing {i + 1} / {len(opt_soma)}\")\n",
    "    # get best params\n",
    "    params_dict = {k: v for k, v in zip(param_names, opt.best_params)}\n",
    "    params_extra.append(params_dict)\n",
    "    \n",
    "    # run protocols\n",
    "    responses = eva_extra.run_protocols(eva_extra.fitness_protocols.values(), \n",
    "                                        param_values=params_dict)  \n",
    "    responses_extra.append(responses)\n",
    "    try:\n",
    "        eap = mf.utils.calculate_eap(responses=responses, protocols=eva_extra.fitness_protocols, \n",
    "                                  protocol_name=protocol_for_eap, **extra_kwargs)\n",
    "    except:\n",
    "        eap = np.zeros(eaps_extra[-1].shape)\n",
    "        \n",
    "    feat_dict = {}\n",
    "    for obj in eva_extra.fitness_calculator.objectives:\n",
    "        feat_dict[obj.features[0].name] = {}\n",
    "        if len(obj.features) == 1:\n",
    "            feat_value = obj.features[0].calculate_feature(responses)\n",
    "            feat_score = obj.features[0].calculate_score(responses)\n",
    "            feat_dict[obj.features[0].name][\"value\"] = feat_value\n",
    "            feat_dict[obj.features[0].name][\"score\"] = feat_score\n",
    "        else:\n",
    "            print(f\"More than one feature for objective: {obj.name}\")\n",
    "            \n",
    "    feats_extra.append(feat_dict)\n",
    "    eaps_extra.append(eap)"
   ]
  },
  {
   "cell_type": "code",
   "execution_count": null,
   "id": "60ddd331",
   "metadata": {},
   "outputs": [],
   "source": [
    "feature_set_array = []\n",
    "seed_array = []\n",
    "feature_name_array = []\n",
    "feature_value_array = []\n",
    "feature_score_array = []\n",
    "feature_type_array = []\n",
    "\n",
    "for i, feats in enumerate(feats_soma):\n",
    "    for feat_name, feat_dict in feats.items():\n",
    "        feature_set_array.append(\"soma\")\n",
    "        seed_array.append(i)\n",
    "        feature_name_array.append(feat_name)\n",
    "        if \"MEA\" not in feat_name:\n",
    "            feature_type_array.append(\"soma\")\n",
    "            feature_value_array.append(feat_dict[\"value\"])\n",
    "        else:\n",
    "            feature_type_array.append(\"MEA\")\n",
    "            feature_value_array.append(np.nan)\n",
    "        feature_score_array.append(feat_dict[\"score\"])\n",
    "    \n",
    "for i, feats in enumerate(feats_extra):\n",
    "    for feat_name, feat_dict in feats.items():\n",
    "        feature_set_array.append(\"extra\")\n",
    "        seed_array.append(i)\n",
    "        feature_name_array.append(feat_name)\n",
    "        if \"MEA\" not in feat_name:\n",
    "            feature_type_array.append(\"soma\")\n",
    "            feature_value_array.append(feat_dict[\"value\"])\n",
    "        else:\n",
    "            feature_type_array.append(\"MEA\")\n",
    "            feature_value_array.append(np.nan)\n",
    "        feature_score_array.append(feat_dict[\"score\"])\n",
    "    \n",
    "df_feats = pd.DataFrame({\"seed\": seed_array, \"feature_set\": feature_set_array, \"feat_name\": feature_name_array,\n",
    "                         \"feat_value\": feature_value_array, \"feat_score\": feature_score_array,\n",
    "                         \"feat_type\": feature_type_array})"
   ]
  },
  {
   "cell_type": "code",
   "execution_count": null,
   "id": "6ecaa634",
   "metadata": {},
   "outputs": [],
   "source": [
    "df_feats"
   ]
  },
  {
   "cell_type": "code",
   "execution_count": null,
   "id": "6fffe22b",
   "metadata": {},
   "outputs": [],
   "source": [
    "plt.figure()\n",
    "sns.barplot(data=df_feats, x=\"feature_set\", y=\"feat_score\")"
   ]
  },
  {
   "cell_type": "code",
   "execution_count": null,
   "id": "85213931",
   "metadata": {},
   "outputs": [],
   "source": [
    "fig = plt.figure()\n",
    "ax = sns.barplot(data=df_feats.query(\"feat_type == 'MEA'\"), \n",
    "            y=\"feat_name\", x=\"feat_score\", hue=\"feature_set\")\n",
    "sns.despine(left=True, bottom=True)\n",
    "fig.subplots_adjust(left=0.4)"
   ]
  },
  {
   "cell_type": "code",
   "execution_count": null,
   "id": "3d534494",
   "metadata": {},
   "outputs": [],
   "source": [
    "fig = plt.figure()\n",
    "sns.barplot(data=df_feats.query(\"feat_type == 'soma'\"), \n",
    "            y=\"feat_name\", x=\"feat_score\", hue=\"feature_set\")\n",
    "sns.despine(left=True, bottom=True)\n",
    "fig.subplots_adjust(left=0.4)"
   ]
  },
  {
   "cell_type": "markdown",
   "id": "cb7e1bb2",
   "metadata": {},
   "source": [
    "## Compare EAP distances"
   ]
  },
  {
   "cell_type": "code",
   "execution_count": null,
   "id": "b007e16e",
   "metadata": {},
   "outputs": [],
   "source": [
    "feature_set_array = []\n",
    "seed_array = []\n",
    "eap_dist_array = []\n",
    "\n",
    "for i, eap in enumerate(eaps_soma):\n",
    "    feature_set_array.append(\"soma\")\n",
    "    seed_array.append(i)\n",
    "    eap_dist_array.append(distance.cosine(eap_exp.ravel(), eap.ravel()))\n",
    "    \n",
    "for i, eap in enumerate(eaps_extra):\n",
    "    feature_set_array.append(\"extra\")\n",
    "    seed_array.append(i)\n",
    "    eap_dist_array.append(distance.cosine(eap_exp.ravel(), eap.ravel()))\n",
    "\n",
    "    \n",
    "df_eap = pd.DataFrame({\"seed\": seed_array, \"feature_set\": feature_set_array, \"eap_dist\": eap_dist_array})"
   ]
  },
  {
   "cell_type": "code",
   "execution_count": null,
   "id": "f7ff0812",
   "metadata": {},
   "outputs": [],
   "source": [
    "fig, ax = plt.subplots()\n",
    "sns.barplot(data=df_eap, x=\"feature_set\", y=\"eap_dist\", ax=ax)\n",
    "sns.swarmplot(data=df_eap, x=\"feature_set\", y=\"eap_dist\", dodge=True, ax=ax, palette=[\"cornflowerblue\", \"orange\"])"
   ]
  },
  {
   "cell_type": "markdown",
   "id": "e13b4e18",
   "metadata": {},
   "source": [
    "# Plot responses"
   ]
  },
  {
   "cell_type": "code",
   "execution_count": null,
   "id": "f70ac6d3",
   "metadata": {},
   "outputs": [],
   "source": [
    "fig_soma = mf.plot_multiple_responses(responses_list=responses_soma + responses_experimental, \n",
    "                                            max_rows=3, colors=[\"C0\"] * len(responses_soma) + ['k'] * \n",
    "                                            len(responses_experimental), \n",
    "                                            return_fig=True)"
   ]
  },
  {
   "cell_type": "code",
   "execution_count": null,
   "id": "a06d39b3",
   "metadata": {},
   "outputs": [],
   "source": [
    "fig_extra = mf.plot_multiple_responses(responses_list=responses_extra + responses_experimental, \n",
    "                                             max_rows=3, colors=[\"C1\"] * len(responses_extra) + ['k'] * \n",
    "                                             len(responses_experimental), \n",
    "                                             return_fig=True)"
   ]
  }
 ],
 "metadata": {
  "kernelspec": {
   "display_name": "Python 3 (ipykernel)",
   "language": "python",
   "name": "python3"
  },
  "language_info": {
   "codemirror_mode": {
    "name": "ipython",
    "version": 3
   },
   "file_extension": ".py",
   "mimetype": "text/x-python",
   "name": "python",
   "nbconvert_exporter": "python",
   "pygments_lexer": "ipython3",
   "version": "3.8.11"
  }
 },
 "nbformat": 4,
 "nbformat_minor": 5
}
