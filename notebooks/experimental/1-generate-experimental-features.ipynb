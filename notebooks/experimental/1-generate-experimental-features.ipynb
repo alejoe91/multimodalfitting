{
 "cells": [
  {
   "cell_type": "markdown",
   "metadata": {},
   "source": [
    "# Generate experimental features -  Cell 1 - 010321"
   ]
  },
  {
   "cell_type": "code",
   "execution_count": null,
   "metadata": {},
   "outputs": [],
   "source": [
    "import json\n",
    "import matplotlib.pyplot as plt\n",
    "\n",
    "import bluepyopt as bpopt\n",
    "import bluepyopt.ephys as ephys\n",
    "\n",
    "import model\n",
    "import evaluator\n",
    "import time\n",
    "import neuron\n",
    "import plotting\n",
    "import MEAutility as mu\n",
    "from pprint import pprint\n",
    "import numpy as np\n",
    "\n",
    "import sys\n",
    "import shutil\n",
    "\n",
    "from pathlib import Path\n",
    "import os\n",
    "\n",
    "%matplotlib notebook"
   ]
  },
  {
   "cell_type": "code",
   "execution_count": null,
   "metadata": {},
   "outputs": [],
   "source": [
    "data_folder = Path(f\"../data_210916/experimental/cell1_210301/\")\n",
    "model_name = \"experimental\"\n",
    "model_folder = (Path(\".\") / f\"{model_name}_model\").absolute()"
   ]
  },
  {
   "cell_type": "markdown",
   "metadata": {},
   "source": [
    "## 1) Generate features and protocols with BluePyEfe"
   ]
  },
  {
   "cell_type": "code",
   "execution_count": null,
   "metadata": {},
   "outputs": [],
   "source": [
    "sys.path.append('../efeatures_extraction')"
   ]
  },
  {
   "cell_type": "code",
   "execution_count": null,
   "metadata": {},
   "outputs": [],
   "source": [
    "extra_folder = data_folder / \"extracellular\""
   ]
  },
  {
   "cell_type": "code",
   "execution_count": null,
   "metadata": {},
   "outputs": [],
   "source": [
    "with (extra_folder / \"probe.json\").open() as f:\n",
    "    probe_info = json.load(f)\n",
    "    probe_info[\"pitch\"] = 17.5\n",
    "    probe = mu.return_mea(info=probe_info)"
   ]
  },
  {
   "cell_type": "code",
   "execution_count": null,
   "metadata": {},
   "outputs": [],
   "source": [
    "eap = np.load(extra_folder / \"template.npy\")\n",
    "locations = np.load(extra_folder / \"locations.npy\")\n",
    "fs = 20000"
   ]
  },
  {
   "cell_type": "code",
   "execution_count": null,
   "metadata": {},
   "outputs": [],
   "source": [
    "ax_eap = mu.plot_mea_recording(eap, probe)"
   ]
  },
  {
   "cell_type": "code",
   "execution_count": null,
   "metadata": {},
   "outputs": [],
   "source": [
    "efeatures_output_directory = data_folder / \"efeatures\"\n",
    "ephys_dir = Path(\"../data/experimental/cell1_210301/patch_data/\")"
   ]
  },
  {
   "cell_type": "code",
   "execution_count": null,
   "metadata": {},
   "outputs": [],
   "source": [
    "from bluepyefe.extract import read_recordings, extract_efeatures_at_targets, compute_rheobase,\\\n",
    "    group_efeatures, create_feature_protocol_files, convert_legacy_targets\n",
    "from bluepyefe.plotting import plot_all_recordings_efeatures\n",
    "\n",
    "from extraction_tools import build_wcp_metadata, wcp_reader, get_targets, ecodes_wcp_timings"
   ]
  },
  {
   "cell_type": "code",
   "execution_count": null,
   "metadata": {},
   "outputs": [],
   "source": [
    "# select files for different repetitions"
   ]
  },
  {
   "cell_type": "code",
   "execution_count": null,
   "metadata": {},
   "outputs": [],
   "source": [
    "runs = [2, 3, 4]  # run1 --> different rheobase\n",
    "\n",
    "ecode_to_index = {\n",
    "    \"IDthres\": 0,\n",
    "    \"firepattern\": 1,\n",
    "    \"IV\": 2,\n",
    "    \"IDrest\": 3,\n",
    "    \"APWaveform\": 4,\n",
    "    \"HyperDepol\": 5,\n",
    "    \"sAHP\": 6,\n",
    "    \"PosCheops\": 7\n",
    "}\n",
    "\n",
    "files_list = []\n",
    "\n",
    "for run in runs:\n",
    "    rep_dict = {}\n",
    "    for ecode in ecode_to_index:\n",
    "        rep_dict[ecode] = Path(ephys_dir) / f\"cell1_run{run}.{ecode_to_index[ecode]}.wcp\"\n",
    "    files_list.append(rep_dict)"
   ]
  },
  {
   "cell_type": "code",
   "execution_count": null,
   "metadata": {},
   "outputs": [],
   "source": [
    "# define timings for this experiment\n",
    "ecodes_cell1_timings = {\n",
    "    \"IDthres\": {\n",
    "        'ton': 200,\n",
    "        'toff': 470\n",
    "    },\n",
    "    \"firepattern\": {\n",
    "        'ton': 500,\n",
    "        'toff': 4100\n",
    "    },\n",
    "    \"IV\": {\n",
    "        'ton': 250,\n",
    "        'toff': 3250\n",
    "    },\n",
    "    \"IDrest\": {\n",
    "        'ton': 200,\n",
    "        'toff': 1550\n",
    "    },\n",
    "    \"APWaveform\": {\n",
    "        'ton': 150,\n",
    "        'toff': 200\n",
    "    },\n",
    "    \"HyperDepol\": {\n",
    "        'ton': 200,\n",
    "        'toff': 920,\n",
    "        'tmid': 650\n",
    "    },\n",
    "    \"sAHP\": {\n",
    "        'ton': 200,\n",
    "        'toff': 1125,\n",
    "        'tmid': 450,\n",
    "        'tmid2': 675\n",
    "    },\n",
    "    \"PosCheops\": {\n",
    "        'ton': 1000,\n",
    "        't1': 9000,\n",
    "        't2': 10500,\n",
    "        't3': 14500,\n",
    "        't4': 16000,\n",
    "        'toff': 18660\n",
    "    }\n",
    "}"
   ]
  },
  {
   "cell_type": "code",
   "execution_count": null,
   "metadata": {},
   "outputs": [],
   "source": [
    "files_list"
   ]
  },
  {
   "cell_type": "code",
   "execution_count": null,
   "metadata": {},
   "outputs": [],
   "source": [
    "files_metadata = build_wcp_metadata(cell_id=\"cell1_010321\", files_list=files_list, \n",
    "                                    ecode_timings=ecodes_cell1_timings, \n",
    "                                    repetition_as_different_cells=False)\n",
    "pprint(files_metadata[\"cell1_010321\"])"
   ]
  },
  {
   "cell_type": "code",
   "execution_count": null,
   "metadata": {},
   "outputs": [],
   "source": [
    "cells = read_recordings(\n",
    "    files_metadata=files_metadata,\n",
    "    recording_reader=wcp_reader\n",
    ")"
   ]
  },
  {
   "cell_type": "code",
   "execution_count": null,
   "metadata": {},
   "outputs": [],
   "source": [
    "# define target features for different protocols\n",
    "targets = get_targets(ecodes_cell1_timings)"
   ]
  },
  {
   "cell_type": "code",
   "execution_count": null,
   "metadata": {},
   "outputs": [],
   "source": [
    "targets[\"firepattern\"][\"tolerances\"] = [20, 40]\n",
    "targets[\"IDrest\"][\"tolerances\"] = [20]\n",
    "targets[\"PosCheops\"][\"tolerances\"] = [50]\n",
    "targets[\"HyperDepol\"][\"tolerances\"] = [30]\n",
    "targets[\"APWaveform\"][\"tolerances\"] = [40]\n",
    "targets[\"sAHP\"][\"tolerances\"] = [40]"
   ]
  },
  {
   "cell_type": "code",
   "execution_count": null,
   "metadata": {},
   "outputs": [],
   "source": [
    "targets = convert_legacy_targets(targets)"
   ]
  },
  {
   "cell_type": "code",
   "execution_count": null,
   "metadata": {},
   "outputs": [],
   "source": [
    "pprint(targets)"
   ]
  },
  {
   "cell_type": "code",
   "execution_count": null,
   "metadata": {},
   "outputs": [],
   "source": [
    "t_start = time.time()\n",
    "extract_efeatures_at_targets(\n",
    "    cells, \n",
    "    targets,\n",
    ")\n",
    "t_stop = time.time()\n",
    "print(f\"Elapsed time {t_stop - t_start}\")"
   ]
  },
  {
   "cell_type": "code",
   "execution_count": null,
   "metadata": {},
   "outputs": [],
   "source": [
    "compute_rheobase(\n",
    "    cells, \n",
    "    protocols_rheobase=['IDthres']\n",
    ")"
   ]
  },
  {
   "cell_type": "code",
   "execution_count": null,
   "metadata": {},
   "outputs": [],
   "source": [
    "print(f\"Cell rheobase: {cells[0].rheobase}\")"
   ]
  },
  {
   "cell_type": "code",
   "execution_count": null,
   "metadata": {},
   "outputs": [],
   "source": [
    "protocols = group_efeatures(cells, targets, use_global_rheobase=True)"
   ]
  },
  {
   "cell_type": "code",
   "execution_count": null,
   "metadata": {},
   "outputs": [],
   "source": [
    "efeatures, protocol_definitions, current = create_feature_protocol_files(\n",
    "    cells,\n",
    "    protocols,\n",
    "    output_directory=efeatures_output_directory,\n",
    "    threshold_nvalue_save=1,\n",
    "    write_files=False,\n",
    ")"
   ]
  },
  {
   "cell_type": "markdown",
   "metadata": {},
   "source": [
    "## 3) Convert to BPO format and append extra features\n"
   ]
  },
  {
   "cell_type": "code",
   "execution_count": null,
   "metadata": {},
   "outputs": [],
   "source": [
    "from extraction_tools import convert_to_bpo_format, append_extrafeatures_to_json, compute_extra_features"
   ]
  },
  {
   "cell_type": "code",
   "execution_count": null,
   "metadata": {},
   "outputs": [],
   "source": [
    "protocols_of_interest = [\"IDrest_150\", \"IDrest_250\", \"IDrest_300\", \"IV_-100\", \"IV_-20\", \"APWaveform_260\"]\n",
    "\n",
    "# remove sag features from IV_-20\n",
    "exclude_features = {\"IV_-20\": ['sag_amplitude', 'sag_ratio1', 'sag_ratio2',]}\n",
    "\n",
    "in_protocol_path = efeatures_output_directory / \"protocols.json\"\n",
    "in_efeatures_path = efeatures_output_directory / \"features.json\"\n",
    "\n",
    "out_protocol_path = efeatures_output_directory / \"protocols_BPO_all.json\"\n",
    "out_efeatures_path = efeatures_output_directory / \"features_BPO_all.json\""
   ]
  },
  {
   "cell_type": "code",
   "execution_count": null,
   "metadata": {},
   "outputs": [],
   "source": [
    "protocols_dict, efeatures_dict = convert_to_bpo_format(in_protocol_path, in_efeatures_path, \n",
    "                                                       out_protocol_path, out_efeatures_path, \n",
    "                                                       protocols_of_interest=protocols_of_interest, \n",
    "                                                       exclude_features=exclude_features,\n",
    "                                                       std_from_mean=None)"
   ]
  },
  {
   "cell_type": "code",
   "execution_count": null,
   "metadata": {},
   "outputs": [],
   "source": [
    "pprint(efeatures_dict)"
   ]
  },
  {
   "cell_type": "markdown",
   "metadata": {},
   "source": [
    "## Threshold EAP and extract featrues"
   ]
  },
  {
   "cell_type": "code",
   "execution_count": null,
   "metadata": {},
   "outputs": [],
   "source": [
    "thresh_uV = 5"
   ]
  },
  {
   "cell_type": "code",
   "execution_count": null,
   "metadata": {},
   "outputs": [],
   "source": [
    "amp_eap = np.ptp(eap, 1)\n",
    "above_tr = np.where(amp_eap > thresh_uV)\n",
    "eap_above = eap[above_tr]\n",
    "extra_features_above = compute_extra_features(eap_above, fs, upsample=10)\n",
    "probe_info = probe.info\n",
    "probe_info[\"pos\"] = locations[above_tr].tolist()\n",
    "probe_above = mu.return_mea(info=probe_info)"
   ]
  },
  {
   "cell_type": "code",
   "execution_count": null,
   "metadata": {},
   "outputs": [],
   "source": [
    "# save probe_above.json\n",
    "json.dump(probe_above.info, (efeatures_output_directory / \"probe_BPO.json\").open(\"w\"))"
   ]
  },
  {
   "cell_type": "code",
   "execution_count": null,
   "metadata": {},
   "outputs": [],
   "source": [
    "np.save(efeatures_output_directory / \"template_BPO.npy\", eap_above)"
   ]
  },
  {
   "cell_type": "code",
   "execution_count": null,
   "metadata": {},
   "outputs": [],
   "source": [
    "extra_features = compute_extra_features(eap_above, fs, upsample=10)"
   ]
  },
  {
   "cell_type": "code",
   "execution_count": null,
   "metadata": {},
   "outputs": [],
   "source": [
    "pprint(extra_features.keys())"
   ]
  },
  {
   "cell_type": "code",
   "execution_count": null,
   "metadata": {},
   "outputs": [],
   "source": [
    "ax_eap = mu.plot_mea_recording(eap_above, probe_above)"
   ]
  },
  {
   "cell_type": "code",
   "execution_count": null,
   "metadata": {},
   "outputs": [],
   "source": [
    "# plot one extra features\n",
    "f = plotting.plot_feature_map_w_colorbar(extra_features[\"peak_trough_ratio\"], probe_above, \n",
    "                                         feature_name=\"peak_trough_ratio\", label=\"a.u.\")"
   ]
  },
  {
   "cell_type": "markdown",
   "metadata": {},
   "source": [
    "### a) All channels"
   ]
  },
  {
   "cell_type": "code",
   "execution_count": null,
   "metadata": {},
   "outputs": [],
   "source": [
    "channel_ids = None\n",
    "single_channel_features = False"
   ]
  },
  {
   "cell_type": "code",
   "execution_count": null,
   "metadata": {},
   "outputs": [],
   "source": [
    "efeatures_dict = append_extrafeatures_to_json(extra_features, protocol_name=\"IDrest_300\",\n",
    "                                              efeatures_dict=efeatures_dict,\n",
    "                                              efeatures_path=out_efeatures_path,\n",
    "                                              channel_ids=channel_ids,\n",
    "                                              single_channel_features=single_channel_features)"
   ]
  },
  {
   "cell_type": "code",
   "execution_count": null,
   "metadata": {},
   "outputs": [],
   "source": [
    "pprint(efeatures_dict[\"extra\"][\"IDrest_300\"])"
   ]
  },
  {
   "cell_type": "markdown",
   "metadata": {},
   "source": [
    "### b) Select single channels"
   ]
  },
  {
   "cell_type": "code",
   "execution_count": null,
   "metadata": {},
   "outputs": [],
   "source": [
    "morphology = \"../data/experimental/cell1_210301/morphology/morphology_corrected.swc\"\n",
    "params_release = \"experimental_model/parameters_release.json\"\n",
    "cell = model.create_experimental_model(morphology_file=morphology,\n",
    "                                       parameters_file=params_release, \n",
    "                                       v_init=-70)\n",
    "sim = ephys.simulators.LFPySimulator(cell, cvode_active=True, electrode=probe_above, mechs_folders=model_folder)"
   ]
  },
  {
   "cell_type": "code",
   "execution_count": null,
   "metadata": {},
   "outputs": [],
   "source": [
    "model_folder"
   ]
  },
  {
   "cell_type": "code",
   "execution_count": null,
   "metadata": {},
   "outputs": [],
   "source": [
    "out_protocol_path = efeatures_output_directory / \"protocols_BPO_single.json\"\n",
    "out_efeatures_path = efeatures_output_directory / \"features_BPO_single.json\""
   ]
  },
  {
   "cell_type": "code",
   "execution_count": null,
   "metadata": {},
   "outputs": [],
   "source": [
    "protocols_dict, efeatures_dict = convert_to_bpo_format(in_protocol_path, in_efeatures_path, \n",
    "                                                       out_protocol_path, out_efeatures_path, \n",
    "                                                       protocols_of_interest=protocols_of_interest)"
   ]
  },
  {
   "cell_type": "code",
   "execution_count": null,
   "metadata": {},
   "outputs": [],
   "source": [
    "ax_eap = mu.plot_mea_recording(eap_above / np.max(np.abs(eap_above), axis=1, keepdims=True), probe_above)"
   ]
  },
  {
   "cell_type": "code",
   "execution_count": null,
   "metadata": {},
   "outputs": [],
   "source": [
    "channel_ids = plotting.select_single_channels(cell, sim, probe_above)"
   ]
  },
  {
   "cell_type": "code",
   "execution_count": null,
   "metadata": {},
   "outputs": [],
   "source": [
    "channel_ids"
   ]
  },
  {
   "cell_type": "code",
   "execution_count": null,
   "metadata": {},
   "outputs": [],
   "source": [
    "single_channel_features = True\n",
    "std_from_mean = 0.2"
   ]
  },
  {
   "cell_type": "code",
   "execution_count": null,
   "metadata": {},
   "outputs": [],
   "source": [
    "extrafeatures_dict = append_extrafeatures_to_json(extra_features, protocol_name=\"IDrest_300\",\n",
    "                                                  efeatures_dict=efeatures_dict,\n",
    "                                                  efeatures_path=out_efeatures_path, channel_ids=channel_ids,\n",
    "                                                  single_channel_features=single_channel_features, \n",
    "                                                  std_from_mean=std_from_mean)"
   ]
  },
  {
   "cell_type": "code",
   "execution_count": null,
   "metadata": {},
   "outputs": [],
   "source": [
    "pprint(extrafeatures_dict[\"extra\"][\"IDrest_300\"])"
   ]
  },
  {
   "cell_type": "markdown",
   "metadata": {},
   "source": [
    "### c) Select channel sections"
   ]
  },
  {
   "cell_type": "code",
   "execution_count": null,
   "metadata": {},
   "outputs": [],
   "source": [
    "out_protocol_path = efeatures_output_directory / \"protocols_BPO_sections.json\"\n",
    "out_efeatures_path = efeatures_output_directory / \"features_BPO_sections.json\""
   ]
  },
  {
   "cell_type": "code",
   "execution_count": null,
   "metadata": {},
   "outputs": [],
   "source": [
    "protocols_dict, efeatures_dict = convert_to_bpo_format(in_protocol_path, in_efeatures_path, \n",
    "                                                       out_protocol_path, out_efeatures_path, \n",
    "                                                       protocols_of_interest=protocols_of_interest)"
   ]
  },
  {
   "cell_type": "code",
   "execution_count": null,
   "metadata": {},
   "outputs": [],
   "source": [
    "ax_eap = mu.plot_mea_recording(eap_above / np.max(np.abs(eap_above), axis=1, keepdims=True), probe_above)"
   ]
  },
  {
   "cell_type": "code",
   "execution_count": null,
   "metadata": {},
   "outputs": [],
   "source": [
    "channel_ids = plotting.select_mea_sections(cell, sim, probe_above)"
   ]
  },
  {
   "cell_type": "code",
   "execution_count": null,
   "metadata": {},
   "outputs": [],
   "source": [
    "channel_ids"
   ]
  },
  {
   "cell_type": "code",
   "execution_count": null,
   "metadata": {},
   "outputs": [],
   "source": [
    "single_channel_features = False\n",
    "std_from_mean = None"
   ]
  },
  {
   "cell_type": "code",
   "execution_count": null,
   "metadata": {},
   "outputs": [],
   "source": [
    "extrafeatures_dict = append_extrafeatures_to_json(extra_features, protocol_name=\"IDrest_300\",\n",
    "                                                  efeatures_dict=efeatures_dict,\n",
    "                                                  efeatures_path=out_efeatures_path, channel_ids=channel_ids,\n",
    "                                                  single_channel_features=single_channel_features, \n",
    "                                                  std_from_mean=std_from_mean)"
   ]
  },
  {
   "cell_type": "code",
   "execution_count": null,
   "metadata": {},
   "outputs": [],
   "source": [
    "pprint(extrafeatures_dict[\"extra\"][\"IDrest_300\"])"
   ]
  }
 ],
 "metadata": {
  "language_info": {
   "name": "python"
  }
 },
 "nbformat": 4,
 "nbformat_minor": 1
}
