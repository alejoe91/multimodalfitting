{
 "cells": [
  {
   "cell_type": "markdown",
   "metadata": {},
   "source": [
    "# Test experimental model\n",
    "\n",
    "This notebook tests the model used for experimental cells runs correctly on a simple step stimulus."
   ]
  },
  {
   "cell_type": "code",
   "execution_count": null,
   "metadata": {},
   "outputs": [],
   "source": [
    "import json\n",
    "import sys\n",
    "import os\n",
    "import time\n",
    "import neuron\n",
    "from pathlib import Path\n",
    "import time\n",
    "\n",
    "import matplotlib.pyplot as plt\n",
    "\n",
    "import bluepyopt as bpopt\n",
    "import bluepyopt.ephys as ephys\n",
    "\n",
    "import numpy as np\n",
    "\n",
    "import shutil\n",
    "from pprint import pprint\n",
    "\n",
    "import multimodalfitting as mf\n",
    "\n",
    "import neuroplotlib as nplt\n",
    "\n",
    "%matplotlib inline \n",
    "#notebook"
   ]
  },
  {
   "cell_type": "code",
   "execution_count": null,
   "metadata": {},
   "outputs": [],
   "source": [
    "model_name = \"experimental\" # \"hay\", \"hay_ais\", \"hay_ais_hillock\"\n",
    "probe_type = \"planar\"\n",
    "base_folder = Path(\"../..\")\n",
    "cell_models_folder = base_folder / \"cell_models\"\n",
    "\n",
    "model_folder = cell_models_folder / f\"{model_name}_model\"\n",
    "data_folder = Path(\"/gpfs/bbp.cscs.ch/home/mandge/lfpy/multimodalfitting/data/cell1_210301\") #base_folder / \"data_210916\" / \"experimental\" / \"cell1_210301\""
   ]
  },
  {
   "cell_type": "code",
   "execution_count": null,
   "metadata": {},
   "outputs": [],
   "source": [
    "morphology = cell_models_folder / f\"{model_name}_model\" / \"morphology_corrected.swc\" #data_folder / \"morphology\" / \"morphology_corrected.swc\"\n",
    "probe_file = data_folder / \"extracellular\" / \"probe.json\"\n",
    "params_release = \"experimental_model/parameters_abd_release.json\""
   ]
  },
  {
   "cell_type": "code",
   "execution_count": null,
   "metadata": {},
   "outputs": [],
   "source": [
    "cell = mf.create_experimental_model(morphology_file=morphology,\n",
    "                                    cell_model_folder=model_folder,\n",
    "                                    release=True,\n",
    "                                    v_init=-70, \n",
    "                                    abd=False, model_type=\"neuron\")\n",
    "cell_abd = mf.create_experimental_model(morphology_file=morphology,\n",
    "                                    cell_model_folder=model_folder,\n",
    "                                    release=True,\n",
    "                                    v_init=-70, \n",
    "                                    abd=True, model_type=\"neuron\")"
   ]
  },
  {
   "cell_type": "code",
   "execution_count": null,
   "metadata": {},
   "outputs": [],
   "source": [
    "# define a probe (this can also be defined externally)\n",
    "probe = mf.define_electrode(probe_file=probe_file)\n",
    "\n",
    "# define a test protocol\n",
    "protocols = mf.define_test_step_protocol(step_amplitude=0.5, tot_duration=500, step_duration=400, probe=probe)\n",
    "\n",
    "# instantiate simulator\n",
    "sim = ephys.simulators.LFPySimulator(cell, cvode_active=True, electrode=probe, mechs_folders=model_folder)\n",
    "sim_abd = ephys.simulators.LFPySimulator(cell_abd, cvode_active=True, electrode=probe, mechs_folders=model_folder)"
   ]
  },
  {
   "cell_type": "markdown",
   "metadata": {},
   "source": [
    "## Check ABD section"
   ]
  },
  {
   "cell_type": "code",
   "execution_count": null,
   "metadata": {},
   "outputs": [],
   "source": [
    "from multimodalfitting.imaging_tools.correct_swc import swc_dtype"
   ]
  },
  {
   "cell_type": "code",
   "execution_count": null,
   "metadata": {},
   "outputs": [],
   "source": [
    "swc_data = np.loadtxt(morphology, dtype=swc_dtype)"
   ]
  },
  {
   "cell_type": "code",
   "execution_count": null,
   "metadata": {},
   "outputs": [],
   "source": [
    "x_c = swc_data[\"x\"] - swc_data[\"x\"][0]\n",
    "y_c = swc_data[\"y\"] - swc_data[\"y\"][0]"
   ]
  },
  {
   "cell_type": "code",
   "execution_count": null,
   "metadata": {},
   "outputs": [],
   "source": [
    "print(\"No abd\")\n",
    "cell.freeze({})\n",
    "cell.instantiate(sim)"
   ]
  },
  {
   "cell_type": "code",
   "execution_count": null,
   "metadata": {
    "scrolled": true
   },
   "outputs": [],
   "source": [
    "sim.neuron.h.topology()"
   ]
  },
  {
   "cell_type": "code",
   "execution_count": null,
   "metadata": {},
   "outputs": [],
   "source": [
    "ax = nplt.plot_neuron(cell.LFPyCell, plane=\"xy\", color_ais=\"g\", color_axon=\"r\", \n",
    "                      color_abd=\"b\", color_soma=\"k\") #exclude_sections=[\"soma\"])"
   ]
  },
  {
   "cell_type": "code",
   "execution_count": null,
   "metadata": {},
   "outputs": [],
   "source": [
    "ax.plot(x_c, y_c, ls=\"\", marker=\".\", color='r')"
   ]
  },
  {
   "cell_type": "code",
   "execution_count": null,
   "metadata": {},
   "outputs": [],
   "source": [
    "sec_to_show = [\"[0].dend[29]\", \"[0].dend[2]\", \"[0].dend[0]\", \"[0].dend[1]\",\n",
    "               \"[0].abd\"]\n",
    "\n",
    "for sec in cell.LFPyCell.allseclist:\n",
    "    name = sec.name()\n",
    "    if any([sec_ in name for sec_ in sec_to_show]):\n",
    "        n3d = sec.n3d()\n",
    "        print(f\"{name} - pos0: {[sec.x3d(0), sec.y3d(0)]}, pos0: {[sec.x3d(n3d - 1), sec.y3d(n3d - 1)]}\")\n",
    "        print(sim.neuron.h.parent_connection(sec), sim.neuron.h.parent_section(sec))"
   ]
  },
  {
   "cell_type": "code",
   "execution_count": null,
   "metadata": {},
   "outputs": [],
   "source": [
    "sec_to_show = [\"[0].dend[29]\", \"[0].dend[2]\", \"[0].dend[0]\", \"[0].dend[1]\",\n",
    "               \"[0].abd\"]\n",
    "\n",
    "for sec in sim.neuron.h.allsec():\n",
    "    name = sec.name()\n",
    "    if any([sec_ in name for sec_ in sec_to_show]):\n",
    "        n3d = sec.n3d()\n",
    "        print(f\"{name} - pos0: {[sec.x3d(0), sec.y3d(0)]}, pos0: {[sec.x3d(n3d - 1), sec.y3d(n3d - 1)]}\")\n",
    "        print(sim.neuron.h.parent_connection(sec), sim.neuron.h.parent_section(sec))"
   ]
  },
  {
   "cell_type": "code",
   "execution_count": null,
   "metadata": {},
   "outputs": [],
   "source": [
    "cell.unfreeze({})\n",
    "cell.destroy(sim)"
   ]
  },
  {
   "cell_type": "code",
   "execution_count": null,
   "metadata": {
    "scrolled": true
   },
   "outputs": [],
   "source": [
    "print(\"abd\")\n",
    "cell_abd.freeze({})\n",
    "cell_abd.instantiate(sim)"
   ]
  },
  {
   "cell_type": "code",
   "execution_count": null,
   "metadata": {},
   "outputs": [],
   "source": [
    "ax = nplt.plot_neuron(cell_abd.LFPyCell, plane=\"xy\", color_ais=\"g\", color_abd=\"b\", color_soma=\"k\",color_axon=\"r\", #exclude_sections=[\"soma\"],\n",
    "                      detailed=True)"
   ]
  },
  {
   "cell_type": "code",
   "execution_count": null,
   "metadata": {},
   "outputs": [],
   "source": [
    "ax.plot(x_c, y_c, ls=\"\", marker=\".\", color='r')\n",
    "plt.show()"
   ]
  },
  {
   "cell_type": "code",
   "execution_count": null,
   "metadata": {},
   "outputs": [],
   "source": [
    "sec_to_show = [\"[0].dend[29]\", \"[0].dend[2]\", \"[0].dend[0]\", \"[0].dend[1]\",\n",
    "               \"[0].abd\", ]\n",
    "\n",
    "for sec in cell_abd.LFPyCell.allseclist:\n",
    "    name = sec.name()\n",
    "    if any([sec_ in name for sec_ in sec_to_show]):\n",
    "        n3d = sec.n3d()\n",
    "        print(f\"{name} - pos0: {[sec.x3d(0), sec.y3d(0)]}, pos0: {[sec.x3d(n3d - 1), sec.y3d(n3d - 1)]}\")\n",
    "        "
   ]
  },
  {
   "cell_type": "code",
   "execution_count": null,
   "metadata": {},
   "outputs": [],
   "source": [
    "experimental[0].dend[0] - pos0: [-21.308685302734375, 8.741073608398438], pos0: [-42.91754150390625, 15.268753051757812]\n",
    "0.0 0.0\n",
    "\n",
    "experimental[0].abd[0] - pos0: [-21.608856201171875, 6.527679443359375], pos0: [-30.950164794921875, 9.116226196289062]\n",
    "experimental[0].dend[1] - pos0: [-42.91754150390625, 15.268753051757812], pos0: [-52.25885009765625, 17.8572998046875]\n",
    "0.0 0.0\n",
    "\n",
    "\n",
    "\n",
    "experimental[0].dend[2] - pos0: [-52.25885009765625, 17.8572998046875], pos0: [-136.44325256347656, 23.484603881835938]\n",
    "0.0 0.0\n",
    "experimental[0].dend[29] - pos0: [-42.91754150390625, 15.268753051757812], pos0: [-53.046661376953125, 41.154327392578125]\n",
    "0.0 0.0"
   ]
  },
  {
   "cell_type": "code",
   "execution_count": null,
   "metadata": {},
   "outputs": [],
   "source": [
    "cell_abd.unfreeze({})\n",
    "cell_abd.destroy(sim)"
   ]
  },
  {
   "cell_type": "code",
   "execution_count": null,
   "metadata": {},
   "outputs": [],
   "source": []
  },
  {
   "cell_type": "code",
   "execution_count": null,
   "metadata": {},
   "outputs": [],
   "source": []
  },
  {
   "cell_type": "code",
   "execution_count": null,
   "metadata": {},
   "outputs": [],
   "source": []
  },
  {
   "cell_type": "code",
   "execution_count": null,
   "metadata": {},
   "outputs": [],
   "source": [
    "# from neuron import h, gui\n",
    "\n",
    "# import matplotlib.pyplot as plt\n",
    "# import neuroplotlib as nplt\n",
    "\n",
    "# %matplotlib inline \n"
   ]
  },
  {
   "cell_type": "code",
   "execution_count": null,
   "metadata": {},
   "outputs": [],
   "source": [
    "# # https://neuronsimulator.github.io/nrn/rxd-tutorials/initialization.html\n",
    "# h.load_file('stdrun.hoc')\n",
    "# h.load_file('import3d.hoc')\n",
    "\n",
    "# # load the morphology and instantiate at the top level (i.e. not in a class)\n",
    "# cell = h.Import3d_SWC_read()\n",
    "# cell.input('../../cell_models/experimental_model/morphology_corrected.swc')\n",
    "\n",
    "# h.Import3d_GUI(cell, 0)\n",
    "# i3d = h.Import3d_GUI(cell, 0)\n",
    "# i3d.instantiate(None) # pass in a class to instantiate inside the class instead\n"
   ]
  },
  {
   "cell_type": "code",
   "execution_count": null,
   "metadata": {
    "scrolled": true
   },
   "outputs": [],
   "source": [
    "# h.topology()"
   ]
  },
  {
   "cell_type": "code",
   "execution_count": null,
   "metadata": {
    "scrolled": true
   },
   "outputs": [],
   "source": [
    "# for sec in h.allsec():\n",
    "# #     print(sec)\n",
    "#     if \"apic\" in str(sec):\n",
    "#         h.psection(sec=sec)\n",
    "#         sref = h.SectionRef(sec=sec)\n",
    "#         print(sref.nchild())\n",
    "#         for child in sref.child:\n",
    "#             print(child.hname())\n",
    "#     if \"dend[1]\" in str(sec):\n",
    "#         h.psection(sec=sec)\n",
    "#         print(sref.nchild())\n",
    "#         for child in sref.child:\n",
    "#             print(child.hname())\n",
    "            \n",
    "#     if \"dend[0]\" in str(sec):\n",
    "#         h.psection(sec=sec)\n",
    "#         print(sref.nchild())\n",
    "#         for child in sref.child:\n",
    "#             print(child.hname())\n",
    "    \n",
    "#     if \"axon\" in str(sec):\n",
    "#         h.psection(sec=sec)\n",
    "#         print(sref.nchild())\n",
    "#         for child in sref.child:\n",
    "#             print(child.hname())"
   ]
  },
  {
   "cell_type": "code",
   "execution_count": null,
   "metadata": {},
   "outputs": [],
   "source": []
  },
  {
   "cell_type": "code",
   "execution_count": null,
   "metadata": {},
   "outputs": [],
   "source": []
  },
  {
   "cell_type": "code",
   "execution_count": null,
   "metadata": {},
   "outputs": [],
   "source": [
    "# h.psection(sec=cell.apic[0])\n",
    "# cell.apic[0].psection()\n",
    "# type(cell)"
   ]
  },
  {
   "cell_type": "code",
   "execution_count": null,
   "metadata": {},
   "outputs": [],
   "source": [
    "# sref = h.SectionRef(sec=cell.apic[0])\n",
    "# serf.has_parent()"
   ]
  },
  {
   "cell_type": "code",
   "execution_count": null,
   "metadata": {},
   "outputs": [],
   "source": [
    "# import LFPy\n",
    "# lfpy_cell = LFPy.Cell(morphology='../../cell_models/experimental_model/morphology_corrected.swc', pt3d=True, delete_sections=True)\n",
    "# ax = nplt.plot_neuron(lfpy_cell, plane=\"xy\", color_apic=\"g\", color_axon=\"b\",\n",
    "#                       detailed=True)"
   ]
  },
  {
   "cell_type": "code",
   "execution_count": null,
   "metadata": {},
   "outputs": [],
   "source": [
    "# test = h.Section(name='test')"
   ]
  },
  {
   "cell_type": "code",
   "execution_count": null,
   "metadata": {},
   "outputs": [],
   "source": [
    "# type(test)"
   ]
  }
 ],
 "metadata": {
  "interpreter": {
   "hash": "879a58b7763a123f538fb8f99746208aaa0071efa367d2139afdfbfc146e1090"
  },
  "kernelspec": {
   "display_name": "pkg_mmf",
   "language": "python",
   "name": "pkg_mmf"
  },
  "language_info": {
   "codemirror_mode": {
    "name": "ipython",
    "version": 3
   },
   "file_extension": ".py",
   "mimetype": "text/x-python",
   "name": "python",
   "nbconvert_exporter": "python",
   "pygments_lexer": "ipython3",
   "version": "3.8.3"
  }
 },
 "nbformat": 4,
 "nbformat_minor": 5
}
