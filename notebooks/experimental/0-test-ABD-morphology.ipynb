{
 "cells": [
  {
   "cell_type": "markdown",
   "id": "8a3f6f57",
   "metadata": {},
   "source": [
    "# Test experimental model\n",
    "\n",
    "This notebook tests the model used for experimental cells runs correctly on a simple step stimulus."
   ]
  },
  {
   "cell_type": "code",
   "execution_count": null,
   "id": "87a03bc7",
   "metadata": {},
   "outputs": [],
   "source": [
    "import json\n",
    "import sys\n",
    "import os\n",
    "import time\n",
    "import neuron\n",
    "from pathlib import Path\n",
    "import time\n",
    "\n",
    "import matplotlib.pyplot as plt\n",
    "\n",
    "import bluepyopt as bpopt\n",
    "import bluepyopt.ephys as ephys\n",
    "\n",
    "import numpy as np\n",
    "\n",
    "import shutil\n",
    "from pprint import pprint\n",
    "\n",
    "import multimodalfitting as mf\n",
    "\n",
    "import neuroplotlib as nplt\n",
    "\n",
    "%matplotlib notebook \n",
    "#notebook"
   ]
  },
  {
   "cell_type": "code",
   "execution_count": null,
   "id": "bfa172b6",
   "metadata": {},
   "outputs": [],
   "source": [
    "# general\n",
    "base_folder =Path(\"../..\")\n",
    "data_folder = Path(\".\") / \"data_test\"\n",
    "cell_name = \"cell1_211006_3148\"\n",
    "model_name = cell_name\n",
    "ephys_dir = base_folder / \"experimental_data\" / cell_name / \"patch_data\"\n",
    "\n",
    "cell_models_folder = base_folder/ \"cell_models\"\n",
    "model_folder = cell_models_folder / cell_name"
   ]
  },
  {
   "cell_type": "code",
   "execution_count": null,
   "id": "39812084",
   "metadata": {},
   "outputs": [],
   "source": [
    "probe_file = model_folder / \"fitting\" / \"efeatures\" / \"probe_BPO.json\"\n",
    "# params_release = \"experimental_model/parameters_abd_release.json\""
   ]
  },
  {
   "cell_type": "code",
   "execution_count": null,
   "id": "02974dce",
   "metadata": {},
   "outputs": [],
   "source": [
    "cell = mf.create_experimental_model(cell_name,\n",
    "                                    release=True,\n",
    "                                    abd=False, model_type=\"LFPy\")\n",
    "cell_abd = mf.create_experimental_model(cell_name,\n",
    "                                        release=True,\n",
    "                                        abd=True, model_type=\"LFPy\")"
   ]
  },
  {
   "cell_type": "code",
   "execution_count": null,
   "id": "408d0828",
   "metadata": {},
   "outputs": [],
   "source": [
    "# define a probe (this can also be defined externally)\n",
    "probe = mf.define_electrode(probe_file=probe_file)\n",
    "\n",
    "# define a test protocol\n",
    "protocols = mf.define_test_step_protocol(step_amplitude=0.5, tot_duration=500, step_duration=400, probe=probe)\n",
    "\n",
    "# instantiate simulator\n",
    "sim = ephys.simulators.LFPySimulator(cell, cvode_active=True, electrode=probe, mechanisms_directory=model_folder)\n",
    "sim_abd = ephys.simulators.LFPySimulator(cell_abd, cvode_active=True, electrode=probe, mechanisms_directory=model_folder)"
   ]
  },
  {
   "cell_type": "code",
   "execution_count": null,
   "id": "dcb8b671",
   "metadata": {},
   "outputs": [],
   "source": []
  },
  {
   "cell_type": "code",
   "execution_count": null,
   "id": "4f1fee00",
   "metadata": {},
   "outputs": [],
   "source": [
    "fig, ax = plt.subplots()\n",
    "mf.plot_cell(cell, sim, color_ais=\"g\", color_axon=\"y\", detailed=False, ax=ax)"
   ]
  },
  {
   "cell_type": "code",
   "execution_count": null,
   "id": "0a72a5db",
   "metadata": {},
   "outputs": [],
   "source": [
    "fig_abd, ax_abd = plt.subplots()\n",
    "mf.plot_cell(cell_abd, sim_abd, color_ais=\"r\", color_abd=\"g\", color_axon=\"y\", detailed=False, ax=ax_abd)"
   ]
  },
  {
   "cell_type": "code",
   "execution_count": null,
   "id": "4a1881bc",
   "metadata": {},
   "outputs": [],
   "source": [
    "fig_abd.savefig(\"abd.pdf\")"
   ]
  },
  {
   "cell_type": "code",
   "execution_count": null,
   "id": "ae6c5d1d",
   "metadata": {},
   "outputs": [],
   "source": []
  }
 ],
 "metadata": {
  "interpreter": {
   "hash": "879a58b7763a123f538fb8f99746208aaa0071efa367d2139afdfbfc146e1090"
  },
  "kernelspec": {
   "display_name": "Python 3 (ipykernel)",
   "language": "python",
   "name": "python3"
  },
  "language_info": {
   "codemirror_mode": {
    "name": "ipython",
    "version": 3
   },
   "file_extension": ".py",
   "mimetype": "text/x-python",
   "name": "python",
   "nbconvert_exporter": "python",
   "pygments_lexer": "ipython3",
   "version": "3.8.13"
  }
 },
 "nbformat": 4,
 "nbformat_minor": 5
}
