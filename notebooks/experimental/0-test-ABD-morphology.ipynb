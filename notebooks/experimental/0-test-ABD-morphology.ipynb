{
 "cells": [
  {
   "cell_type": "markdown",
   "id": "8a3f6f57",
   "metadata": {},
   "source": [
    "# Test experimental model\n",
    "\n",
    "This notebook tests the model used for experimental cells runs correctly on a simple step stimulus."
   ]
  },
  {
   "cell_type": "code",
   "execution_count": null,
   "id": "87a03bc7",
   "metadata": {},
   "outputs": [],
   "source": [
    "import json\n",
    "import sys\n",
    "import os\n",
    "import time\n",
    "import neuron\n",
    "from pathlib import Path\n",
    "import time\n",
    "\n",
    "import matplotlib.pyplot as plt\n",
    "\n",
    "import bluepyopt as bpopt\n",
    "import bluepyopt.ephys as ephys\n",
    "\n",
    "import numpy as np\n",
    "\n",
    "import shutil\n",
    "from pprint import pprint\n",
    "\n",
    "import multimodalfitting as mf\n",
    "\n",
    "import neuroplotlib as nplt\n",
    "\n",
    "%matplotlib notebook \n",
    "#notebook"
   ]
  },
  {
   "cell_type": "code",
   "execution_count": null,
   "id": "bfa172b6",
   "metadata": {},
   "outputs": [],
   "source": [
    "model_name = \"experimental\" # \"hay\", \"hay_ais\", \"hay_ais_hillock\"\n",
    "probe_type = \"planar\"\n",
    "base_folder = Path(\"../..\")\n",
    "cell_models_folder = base_folder / \"cell_models\"\n",
    "\n",
    "model_folder = cell_models_folder / f\"{model_name}_model\"\n",
    "# data_folder = Path(\"/gpfs/bbp.cscs.ch/home/mandge/lfpy/multimodalfitting/data/cell1_210301\") \n",
    "data_folder = base_folder / \"data_210916\" / \"experimental\" / \"cell1_210301\""
   ]
  },
  {
   "cell_type": "code",
   "execution_count": null,
   "id": "39812084",
   "metadata": {},
   "outputs": [],
   "source": [
    "morphology = cell_models_folder / f\"{model_name}_model\" / \"morphology_corrected.swc\" #data_folder / \"morphology\" / \"morphology_corrected.swc\"\n",
    "probe_file = data_folder / \"extracellular\" / \"probe.json\"\n",
    "params_release = \"experimental_model/parameters_abd_release.json\""
   ]
  },
  {
   "cell_type": "code",
   "execution_count": null,
   "id": "02974dce",
   "metadata": {},
   "outputs": [],
   "source": [
    "cell = mf.create_experimental_model(morphology_file=morphology,\n",
    "                                    cell_model_folder=model_folder,\n",
    "                                    release=True,\n",
    "                                    v_init=-70, \n",
    "                                    abd=False, model_type=\"LFPy\")\n",
    "cell_abd = mf.create_experimental_model(morphology_file=morphology,\n",
    "                                    cell_model_folder=model_folder,\n",
    "                                    release=True,\n",
    "                                    v_init=-70, \n",
    "                                    abd=True, model_type=\"LFPy\")"
   ]
  },
  {
   "cell_type": "code",
   "execution_count": null,
   "id": "408d0828",
   "metadata": {},
   "outputs": [],
   "source": [
    "# define a probe (this can also be defined externally)\n",
    "probe = mf.define_electrode(probe_file=probe_file)\n",
    "\n",
    "# define a test protocol\n",
    "protocols = mf.define_test_step_protocol(step_amplitude=0.5, tot_duration=500, step_duration=400, probe=probe)\n",
    "\n",
    "# instantiate simulator\n",
    "sim = ephys.simulators.LFPySimulator(cell, cvode_active=True, electrode=probe, mechs_folders=model_folder)\n",
    "sim_abd = ephys.simulators.LFPySimulator(cell_abd, cvode_active=True, electrode=probe, mechs_folders=model_folder)"
   ]
  },
  {
   "cell_type": "code",
   "execution_count": null,
   "id": "4f1fee00",
   "metadata": {
    "scrolled": false
   },
   "outputs": [],
   "source": [
    "mf.plot_cell(cell, sim, color=\"b\", color_ais=\"g\", detailed=True)\n",
    "mf.plot_cell(cell_abd, sim, color=\"b\", color_ais=\"g\", color_abd=\"r\", detailed=True)"
   ]
  }
 ],
 "metadata": {
  "interpreter": {
   "hash": "879a58b7763a123f538fb8f99746208aaa0071efa367d2139afdfbfc146e1090"
  },
  "kernelspec": {
   "display_name": "Python 3 (ipykernel)",
   "language": "python",
   "name": "python3"
  },
  "language_info": {
   "codemirror_mode": {
    "name": "ipython",
    "version": 3
   },
   "file_extension": ".py",
   "mimetype": "text/x-python",
   "name": "python",
   "nbconvert_exporter": "python",
   "pygments_lexer": "ipython3",
   "version": "3.8.11"
  }
 },
 "nbformat": 4,
 "nbformat_minor": 5
}
