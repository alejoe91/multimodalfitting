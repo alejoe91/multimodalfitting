{
 "cells": [
  {
   "cell_type": "markdown",
   "id": "f278ad77",
   "metadata": {},
   "source": [
    "# Validation - distribution of GT and optimized AP potentials/currents\n",
    "\n",
    "This notebook evaluates qualitatively the distributions of membrane potentials and transmembrane currents of an action potential over the neuron morphology."
   ]
  },
  {
   "cell_type": "code",
   "execution_count": null,
   "id": "de6ec5c5",
   "metadata": {},
   "outputs": [],
   "source": [
    "import pickle\n",
    "import pandas as pd\n",
    "import seaborn as sns\n",
    "import sys\n",
    "import shutil\n",
    "\n",
    "import bluepyopt as bpopt\n",
    "import bluepyopt.ephys as ephys\n",
    "\n",
    "import matplotlib.pyplot as plt\n",
    "from scipy.spatial import distance\n",
    "import MEAutility as mu\n",
    "import json\n",
    "import time\n",
    "import numpy as np\n",
    "from pathlib import Path\n",
    "\n",
    "import pandas as pd\n",
    "import seaborn as sns\n",
    "from scipy.spatial.distance import cosine\n",
    "\n",
    "import multimodalfitting as mf\n",
    "\n",
    "%matplotlib notebook"
   ]
  },
  {
   "cell_type": "code",
   "execution_count": null,
   "id": "e7463828",
   "metadata": {},
   "outputs": [],
   "source": [
    "base_path = Path(\"../..\")"
   ]
  },
  {
   "cell_type": "code",
   "execution_count": null,
   "id": "e3415b31",
   "metadata": {},
   "outputs": [],
   "source": [
    "probe_type = \"planar\"\n",
    "model_name = \"hay_ais\" # \"hay\", \"hay_ais\", \"hay_ais_hillock\"\n",
    "cell_models_folder = base_path / \"cell_models\"\n",
    "\n",
    "model_folder = cell_models_folder / f\"{model_name}\""
   ]
  },
  {
   "cell_type": "code",
   "execution_count": null,
   "id": "1ecb3296",
   "metadata": {},
   "outputs": [],
   "source": [
    "result_folder = base_path / \"results\" / '211124' \n",
    "pkl_file_name = \"runs.pkl\"\n",
    "\n",
    "data = pickle.load(open(result_folder / pkl_file_name, 'rb'))\n",
    "df_optimization = pd.DataFrame(data)\n",
    "df_model = df_optimization.query(f\"model == '{model_name}'\")"
   ]
  },
  {
   "cell_type": "code",
   "execution_count": null,
   "id": "b1347757",
   "metadata": {},
   "outputs": [],
   "source": [
    "opt_soma = df_model.query(\"feature_set == 'soma'\")\n",
    "opt_extra = df_model.query(\"feature_set == 'extra'\")\n",
    "print(f\"Somatic optimizations: {len(opt_soma)}\")\n",
    "print(f\"Extra optimizations: {len(opt_extra)}\")"
   ]
  },
  {
   "cell_type": "code",
   "execution_count": null,
   "id": "68db2c8c",
   "metadata": {},
   "outputs": [],
   "source": [
    "protocols_file = model_folder / \"fitting\" / \"efeatures\" / \"protocols_BPO_all.json\"\n",
    "features_file = model_folder / \"fitting\" / \"efeatures\" / \"features_BPO_all.json\""
   ]
  },
  {
   "cell_type": "code",
   "execution_count": null,
   "id": "f8543b20",
   "metadata": {},
   "outputs": [],
   "source": [
    "cell = mf.create_ground_truth_model(model_name=model_name, release=False)\n",
    "cell_release = mf.create_ground_truth_model(model_name=model_name, release=True)\n",
    "\n",
    "probe = mf.define_electrode(probe_type=probe_type)\n",
    "\n",
    "param_names = [param.name for param in cell.params.values() if not param.frozen]\n",
    "\n",
    "params_release = {}\n",
    "for param in cell_release.params_by_names(param_names):\n",
    "    params_release[param.name] = param.value"
   ]
  },
  {
   "cell_type": "code",
   "execution_count": null,
   "id": "e1de5935",
   "metadata": {},
   "outputs": [],
   "source": [
    "param_names"
   ]
  },
  {
   "cell_type": "code",
   "execution_count": null,
   "id": "836b7ea8",
   "metadata": {},
   "outputs": [],
   "source": [
    "params_release"
   ]
  },
  {
   "cell_type": "code",
   "execution_count": null,
   "id": "1d734edd",
   "metadata": {},
   "outputs": [],
   "source": [
    "protocol_for_eap = \"IDrest_300\""
   ]
  },
  {
   "cell_type": "markdown",
   "id": "c86bfa85",
   "metadata": {},
   "source": [
    "### Define more recording points "
   ]
  },
  {
   "cell_type": "code",
   "execution_count": null,
   "id": "b5e5cabf",
   "metadata": {},
   "outputs": [],
   "source": [
    "extra_kwargs = mf.utils.get_extra_kwargs()"
   ]
  },
  {
   "cell_type": "code",
   "execution_count": null,
   "id": "ff1799e2",
   "metadata": {},
   "outputs": [],
   "source": [
    "eva_extra = mf.create_evaluator(\n",
    "    model_name=model_name,\n",
    "    feature_set=\"extra\",\n",
    "    extra_strategy=\"all\",\n",
    "    protocols_with_lfp=protocol_for_eap,\n",
    "    **extra_kwargs\n",
    ")"
   ]
  },
  {
   "cell_type": "code",
   "execution_count": null,
   "id": "f1fb1dfe",
   "metadata": {},
   "outputs": [],
   "source": [
    "mf.plot_cell(eva_extra.cell_model, eva_extra.sim, param_values=params_release)"
   ]
  },
  {
   "cell_type": "code",
   "execution_count": null,
   "id": "5715b6a6",
   "metadata": {},
   "outputs": [],
   "source": [
    "positions = np.array([[-62, 828], [-3, 954], [-27, 546], [-27, 85], [134, -28], [-117, -189]])\n",
    "position_names = [\"apical_distal_left\", \"apical_distal_right\", \"apical_middle\", \"apical_proximal\", \n",
    "                  \"basal_right\", \"basal_left\"]"
   ]
  },
  {
   "cell_type": "code",
   "execution_count": null,
   "id": "40aaf495",
   "metadata": {},
   "outputs": [],
   "source": [
    "extra_recordings = mf.utils.extra_recordings_from_positions(cell_release, eva_extra.sim, positions, position_names)"
   ]
  },
  {
   "cell_type": "code",
   "execution_count": null,
   "id": "12be9591",
   "metadata": {},
   "outputs": [],
   "source": [
    "extra_recordings"
   ]
  },
  {
   "cell_type": "code",
   "execution_count": null,
   "id": "6ce6a352",
   "metadata": {},
   "outputs": [],
   "source": [
    "eva_extra = mf.create_evaluator(\n",
    "    model_name=model_name,\n",
    "    feature_set=\"extra\",\n",
    "    extra_strategy=\"all\",\n",
    "    protocols_with_lfp=protocol_for_eap,\n",
    "    extra_recordings=dict(IDrest_300=extra_recordings), \n",
    "    **extra_kwargs\n",
    ")"
   ]
  },
  {
   "cell_type": "code",
   "execution_count": null,
   "id": "44bb4ba5",
   "metadata": {},
   "outputs": [],
   "source": [
    "eva_extra.fitness_protocols[\"IDrest_300\"].recordings"
   ]
  },
  {
   "cell_type": "code",
   "execution_count": null,
   "id": "c97ae8e6",
   "metadata": {},
   "outputs": [],
   "source": [
    "len(extra_recordings)"
   ]
  },
  {
   "cell_type": "markdown",
   "id": "7400dc93",
   "metadata": {},
   "source": [
    "# Load protocols and original features"
   ]
  },
  {
   "cell_type": "code",
   "execution_count": null,
   "id": "af72c3e5",
   "metadata": {},
   "outputs": [],
   "source": [
    "ais_recording = mf.utils.get_ais_extra_recordings()"
   ]
  },
  {
   "cell_type": "code",
   "execution_count": null,
   "id": "56228764",
   "metadata": {},
   "outputs": [],
   "source": [
    "ais_recording"
   ]
  },
  {
   "cell_type": "code",
   "execution_count": null,
   "id": "fcb9425e",
   "metadata": {},
   "outputs": [],
   "source": [
    "# eva_extra = mf.create_evaluator(\n",
    "#     model_name=model_name,\n",
    "#     feature_set=\"extra\",\n",
    "#     extra_strategy=\"all\",\n",
    "#     protocols_with_lfp=protocol_for_eap,\n",
    "#     extra_recordings=dict(IDrest_300=ais_recording), \n",
    "#     **extra_kwargs\n",
    "# )"
   ]
  },
  {
   "cell_type": "code",
   "execution_count": null,
   "id": "b43a3f83",
   "metadata": {},
   "outputs": [],
   "source": [
    "# only run IDrest 300"
   ]
  },
  {
   "cell_type": "code",
   "execution_count": null,
   "id": "0482bde9",
   "metadata": {},
   "outputs": [],
   "source": [
    "idrest = eva_extra.fitness_protocols[\"IDrest_300\"]"
   ]
  },
  {
   "cell_type": "code",
   "execution_count": null,
   "id": "754bc73c",
   "metadata": {},
   "outputs": [],
   "source": [
    "best_soma = np.argmin(opt_soma.best_fitness)\n",
    "best_sample_soma = opt_soma.iloc[best_soma]\n",
    "best_params_soma_dict = {k: v for k, v in zip(param_names, best_sample_soma.best_params)}\n",
    "display(\"SOMA\", best_sample_soma.best_fitness)\n",
    "\n",
    "opt_all = opt_extra.query(\"extra_strategy == 'all'\")\n",
    "opt_sections = opt_extra.query(\"extra_strategy == 'sections'\")\n",
    "opt_single = opt_extra.query(\"extra_strategy == 'single'\")\n",
    "\n",
    "best_all = np.argmin(opt_all.best_fitness)\n",
    "best_sections = np.argmin(opt_sections.best_fitness)\n",
    "best_single = np.argmin(opt_single.best_fitness)\n",
    "\n",
    "best_sample_all = opt_all.iloc[best_all]\n",
    "best_params_all_dict = {k: v for k, v in zip(param_names, best_sample_all.best_params)}\n",
    "display(\"ALL\", best_sample_all.best_fitness)\n",
    "\n",
    "best_sample_sections = opt_sections.iloc[best_sections]\n",
    "best_params_sections_dict = {k: v for k, v in zip(param_names, best_sample_sections.best_params)}\n",
    "display(\"SECTIONS\", best_sample_sections.best_fitness)\n",
    "\n",
    "best_sample_single = opt_single.iloc[best_single]\n",
    "best_params_single_dict = {k: v for k, v in zip(param_names, best_sample_single.best_params)}\n",
    "display(\"SINGLE\", best_sample_single.best_fitness)"
   ]
  },
  {
   "cell_type": "code",
   "execution_count": null,
   "id": "82cec087",
   "metadata": {},
   "outputs": [],
   "source": [
    "print(\"Computing RELEASE\")\n",
    "response_release = eva_extra.run_protocol(idrest, params_release)\n",
    "print(\"Computing SOMA\")\n",
    "response_soma = eva_extra.run_protocol(idrest, best_params_soma_dict)\n",
    "print(\"Computing ALL\")\n",
    "response_all = eva_extra.run_protocol(idrest, best_params_all_dict)\n",
    "print(\"Computing SECTIONS\")\n",
    "response_sections = eva_extra.run_protocol(idrest, best_params_sections_dict)\n",
    "print(\"Computing SINGLE\")\n",
    "response_single = eva_extra.run_protocol(idrest, best_params_single_dict)"
   ]
  },
  {
   "cell_type": "code",
   "execution_count": null,
   "id": "cb292a4c",
   "metadata": {},
   "outputs": [],
   "source": [
    "ms_after = 50"
   ]
  },
  {
   "cell_type": "code",
   "execution_count": null,
   "id": "b3e7915c",
   "metadata": {},
   "outputs": [],
   "source": [
    "resp_cut_release = mf.utils.get_peak_cutout(response_release, ms_after=ms_after)\n",
    "resp_cut_soma = mf.utils.get_peak_cutout(response_soma, ms_after=ms_after)\n",
    "resp_cut_all = mf.utils.get_peak_cutout(response_all, ms_after=ms_after)\n",
    "resp_cut_sections = mf.utils.get_peak_cutout(response_sections, ms_after=ms_after)\n",
    "resp_cut_single = mf.utils.get_peak_cutout(response_single, ms_after=ms_after)"
   ]
  },
  {
   "cell_type": "code",
   "execution_count": null,
   "id": "ce605c9d",
   "metadata": {},
   "outputs": [],
   "source": [
    "responses_to_plot = ['IDrest_300.apical_proximal.v', \n",
    "                     'IDrest_300.apical_middle.v', \n",
    "                     'IDrest_300.apical_distal_left.v',\n",
    "                     'IDrest_300.apical_distal_right.v',\n",
    "                     'IDrest_300.basal_left.v',\n",
    "                     'IDrest_300.basal_right.v']"
   ]
  },
  {
   "cell_type": "code",
   "execution_count": null,
   "id": "6e2f865a",
   "metadata": {},
   "outputs": [],
   "source": [
    "distance_arr = []\n",
    "strategy_arr = []\n",
    "position_arr = []\n",
    "for resp_name in responses_to_plot:\n",
    "    fig, ax = plt.subplots()\n",
    "    ax.plot(resp_cut_release[resp_name][\"time\"], resp_cut_release[resp_name][\"voltage\"], color=\"k\", label=\"GT\")\n",
    "    ax.plot(resp_cut_soma[resp_name][\"time\"], resp_cut_soma[resp_name][\"voltage\"], color=\"C0\", label=\"SOMA\")\n",
    "    ax.plot(resp_cut_all[resp_name][\"time\"], resp_cut_all[resp_name][\"voltage\"], color=\"C1\", label=\"ALL\")\n",
    "    ax.plot(resp_cut_sections[resp_name][\"time\"], resp_cut_sections[resp_name][\"voltage\"], color=\"C2\", \n",
    "            label=\"SECTIONS\")\n",
    "    position = resp_name.split(\".\")[1]\n",
    "    dist_soma = cosine(resp_cut_release[resp_name][\"voltage\"],\n",
    "                       resp_cut_soma[resp_name][\"voltage\"])\n",
    "    dist_all = cosine(resp_cut_release[resp_name][\"voltage\"],\n",
    "                      resp_cut_all[resp_name][\"voltage\"])\n",
    "    dist_sec = cosine(resp_cut_release[resp_name][\"voltage\"],\n",
    "                      resp_cut_sections[resp_name][\"voltage\"])\n",
    "    position_arr.append(position)\n",
    "    distance_arr.append(dist_soma)\n",
    "    strategy_arr.append(\"soma\")\n",
    "    position_arr.append(position)\n",
    "    distance_arr.append(dist_all)\n",
    "    strategy_arr.append(\"all\")\n",
    "    position_arr.append(position)\n",
    "    distance_arr.append(dist_sec)\n",
    "    strategy_arr.append(\"sections\")\n",
    "    ax.axvline(1., color=\"gray\", ls=\"--\")\n",
    "#     ax.plot(resp_cut_single[resp_name][\"time\"], resp_cut_single[resp_name][\"voltage\"], color=\"C3\", label=\"SINGLE\")\n",
    "    ax.legend()\n",
    "    ax.set_title(resp_name)\n",
    "\n",
    "df = pd.DataFrame({\"strategy\": strategy_arr, \"distance\": distance_arr, \"position\": position_arr})"
   ]
  },
  {
   "cell_type": "code",
   "execution_count": null,
   "id": "f21d7c84",
   "metadata": {},
   "outputs": [],
   "source": [
    "plt.figure()\n",
    "sns.barplot(data=df, x=\"strategy\", y=\"distance\", hue=\"position\")"
   ]
  }
 ],
 "metadata": {
  "kernelspec": {
   "display_name": "Python 3 (ipykernel)",
   "language": "python",
   "name": "python3"
  },
  "language_info": {
   "codemirror_mode": {
    "name": "ipython",
    "version": 3
   },
   "file_extension": ".py",
   "mimetype": "text/x-python",
   "name": "python",
   "nbconvert_exporter": "python",
   "pygments_lexer": "ipython3",
   "version": "3.8.11"
  }
 },
 "nbformat": 4,
 "nbformat_minor": 5
}
