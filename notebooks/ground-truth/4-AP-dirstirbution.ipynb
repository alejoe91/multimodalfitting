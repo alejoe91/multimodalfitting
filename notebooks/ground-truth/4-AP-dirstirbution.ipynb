{
 "cells": [
  {
   "cell_type": "markdown",
   "metadata": {},
   "source": [
    "# Validation - distribution of GT and optimized AP potentials/currents\n",
    "\n",
    "This notebook evaluates qualitatively the distributions of membrane potentials and transmembrane currents of an action potential over the neuron morphology."
   ]
  },
  {
   "cell_type": "code",
   "execution_count": null,
   "metadata": {},
   "outputs": [],
   "source": [
    "import pickle\n",
    "import pandas as pd\n",
    "import seaborn as sns\n",
    "import sys\n",
    "import shutil\n",
    "\n",
    "import bluepyopt as bpopt\n",
    "import bluepyopt.ephys as ephys\n",
    "\n",
    "import matplotlib.pyplot as plt\n",
    "from scipy.spatial import distance\n",
    "import MEAutility as mu\n",
    "import json\n",
    "import time\n",
    "import numpy as np\n",
    "from pathlib import Path\n",
    "\n",
    "import multimodalfitting as mf\n",
    "\n",
    "# %matplotlib notebook\n",
    "%matplotlib inline"
   ]
  },
  {
   "cell_type": "code",
   "execution_count": 2,
   "metadata": {},
   "outputs": [],
   "source": [
    "probe_type = \"planar\"\n",
    "model_name = \"hay_ais\" # \"hay\", \"hay_ais\", \"hay_ais_hillock\"\n",
    "cell_models_folder = Path(\"../..\") / \"cell_models\"\n",
    "\n",
    "model_folder = cell_models_folder / f\"{model_name}\""
   ]
  },
  {
   "cell_type": "code",
   "execution_count": 3,
   "metadata": {},
   "outputs": [],
   "source": [
    "result_folder = Path(\"../..\") / \"results\" / '211124' \n",
    "pkl_file_name = \"runs.pkl\"\n",
    "\n",
    "data = pickle.load(open(result_folder / pkl_file_name, 'rb'))\n",
    "df_optimization = pd.DataFrame(data)\n",
    "df_model = df_optimization.query(f\"model == '{model_name}'\")"
   ]
  },
  {
   "cell_type": "code",
   "execution_count": 4,
   "metadata": {},
   "outputs": [
    {
     "name": "stdout",
     "output_type": "stream",
     "text": [
      "Somatic optimizations: 10\n",
      "Extra optimizations: 30\n"
     ]
    }
   ],
   "source": [
    "opt_soma = df_model.query(\"feature_set == 'soma'\")\n",
    "opt_extra = df_model.query(\"feature_set == 'extra'\")\n",
    "print(f\"Somatic optimizations: {len(opt_soma)}\")\n",
    "print(f\"Extra optimizations: {len(opt_extra)}\")"
   ]
  },
  {
   "cell_type": "code",
   "execution_count": 5,
   "metadata": {},
   "outputs": [],
   "source": [
    "protocols_file = model_folder / \"fitting\" / \"efeatures\" / \"protocols_BPO_all.json\"\n",
    "features_file = model_folder / \"fitting\" / \"efeatures\" / \"features_BPO_all.json\""
   ]
  },
  {
   "cell_type": "code",
   "execution_count": 6,
   "metadata": {},
   "outputs": [],
   "source": [
    "cell = mf.create_ground_truth_model(model_name=model_name, release=False)\n",
    "cell_release = mf.create_ground_truth_model(model_name=model_name, release=True)\n",
    "\n",
    "probe = mf.define_electrode(probe_type=probe_type)\n",
    "\n",
    "param_names = [param.name for param in cell.params.values() if not param.frozen]\n",
    "# sim = ephys.simulators.LFPySimulator(cell, cvode_active=True, electrode=probe, mechs_folders=model_folder)\n",
    "\n",
    "params_release = {}\n",
    "for param in cell_release.params_by_names(param_names):\n",
    "    params_release[param.name] = param.value"
   ]
  },
  {
   "cell_type": "code",
   "execution_count": 7,
   "metadata": {},
   "outputs": [],
   "source": [
    "protocol_for_eap = \"IDrest_300\""
   ]
  },
  {
   "cell_type": "markdown",
   "metadata": {},
   "source": [
    "### Define more recording points "
   ]
  },
  {
   "cell_type": "code",
   "execution_count": 8,
   "metadata": {},
   "outputs": [],
   "source": [
    "positions = np.array([[-62, 828], [-27, 546], [-27, 85], [14, -26], [28, -290]])\n",
    "position_names = [\"apical_distal\", \"apical_middle\", \"apical_proximal\", \"ais_middle\", \"axon\"]"
   ]
  },
  {
   "cell_type": "code",
   "execution_count": 9,
   "metadata": {},
   "outputs": [],
   "source": [
    "extra_kwargs = dict(fs=20,\n",
    "                    fcut=[300, 6000],\n",
    "                    filt_type=\"filtfilt\",\n",
    "                    ms_cut=[3, 10])"
   ]
  },
  {
   "cell_type": "code",
   "execution_count": 10,
   "metadata": {},
   "outputs": [],
   "source": [
    "eva_extra = mf.create_evaluator(\n",
    "    model_name=model_name,\n",
    "    feature_set=\"extra\",\n",
    "    extra_strategy=\"all\",\n",
    "    protocols_with_lfp=protocol_for_eap,\n",
    "    **extra_kwargs\n",
    ")"
   ]
  },
  {
   "cell_type": "code",
   "execution_count": null,
   "metadata": {},
   "outputs": [],
   "source": [
    "extra_recordings = mf.utils.extra_recordings_from_positions(cell_release, eva_extra.sim, positions, position_names)"
   ]
  },
  {
   "cell_type": "code",
   "execution_count": 12,
   "metadata": {},
   "outputs": [],
   "source": [
    "eva_extra = mf.create_evaluator(\n",
    "    model_name=model_name,\n",
    "    feature_set=\"extra\",\n",
    "    extra_strategy=\"all\",\n",
    "    protocols_with_lfp=protocol_for_eap,\n",
    "    extra_recordings=dict(IDrest_300=extra_recordings), \n",
    "    **extra_kwargs\n",
    ")"
   ]
  },
  {
   "cell_type": "code",
   "execution_count": null,
   "metadata": {},
   "outputs": [],
   "source": [
    "eva_extra.fitness_protocols[\"IDrest_300\"].recordings"
   ]
  },
  {
   "cell_type": "code",
   "execution_count": 14,
   "metadata": {},
   "outputs": [
    {
     "data": {
      "text/plain": [
       "10"
      ]
     },
     "execution_count": 14,
     "metadata": {},
     "output_type": "execute_result"
    }
   ],
   "source": [
    "len(extra_recordings)"
   ]
  },
  {
   "cell_type": "markdown",
   "metadata": {},
   "source": [
    "# Load protocols and original features"
   ]
  },
  {
   "cell_type": "code",
   "execution_count": 15,
   "metadata": {},
   "outputs": [],
   "source": [
    "ais_recording = mf.utils.get_ais_extra_recordings()"
   ]
  },
  {
   "cell_type": "code",
   "execution_count": null,
   "metadata": {},
   "outputs": [],
   "source": [
    "ais_recording"
   ]
  },
  {
   "cell_type": "code",
   "execution_count": 17,
   "metadata": {},
   "outputs": [],
   "source": [
    "# eva_extra = mf.create_evaluator(\n",
    "#     model_name=model_name,\n",
    "#     feature_set=\"extra\",\n",
    "#     extra_strategy=\"all\",\n",
    "#     protocols_with_lfp=protocol_for_eap,\n",
    "#     extra_recordings=dict(IDrest_300=ais_recording), \n",
    "#     **extra_kwargs\n",
    "# )"
   ]
  },
  {
   "cell_type": "code",
   "execution_count": 18,
   "metadata": {},
   "outputs": [],
   "source": [
    "# only run IDrest 300"
   ]
  },
  {
   "cell_type": "code",
   "execution_count": 19,
   "metadata": {},
   "outputs": [],
   "source": [
    "idrest = eva_extra.fitness_protocols[\"IDrest_300\"]"
   ]
  },
  {
   "cell_type": "code",
   "execution_count": 20,
   "metadata": {},
   "outputs": [],
   "source": [
    "responses_release = eva_extra.run_protocol(idrest, param_values=params_release)"
   ]
  },
  {
   "cell_type": "code",
   "execution_count": null,
   "metadata": {},
   "outputs": [],
   "source": [
    "mf.plot_responses(responses_release)"
   ]
  },
  {
   "cell_type": "code",
   "execution_count": 29,
   "metadata": {},
   "outputs": [
    {
     "data": {
      "text/plain": [
       "Text(0.5, 1.0, 'hay_ais i_membrane: AIS, Axon and Apical Dendrite')"
      ]
     },
     "execution_count": 29,
     "metadata": {},
     "output_type": "execute_result"
    },
    {
     "data": {
      "image/png": "[encoded data removed]",
      "text/plain": [
       "<Figure size 432x288 with 1 Axes>"
      ]
     },
     "metadata": {
      "needs_background": "light"
     },
     "output_type": "display_data"
    }
   ],
   "source": [
    "imem_apical_distal   = \"IDrest_300.apical_distal.i_membrane\"\n",
    "imem_apical_middle   = \"IDrest_300.apical_middle.i_membrane\"\n",
    "imem_apical_proximal = \"IDrest_300.apical_proximal.i_membrane\"\n",
    "imem_ais_middle      = \"IDrest_300.ais_middle.i_membrane\"\n",
    "imem_axon            = \"IDrest_300.axon.i_membrane\"\n",
    "\n",
    "fig, ax = plt.subplots()\n",
    "ax.plot(responses_release[imem_axon][\"time\"], responses_release[imem_axon][\"voltage\"], color=\"k\", label=\"imem_axon\")\n",
    "ax.plot(responses_release[imem_ais_middle][\"time\"], responses_release[imem_ais_middle][\"voltage\"], color=\"C0\", label=\"imem_ais_middle\")\n",
    "ax.plot(responses_release[imem_apical_proximal][\"time\"], responses_release[imem_apical_proximal][\"voltage\"], color=\"C1\", label=\"imem_apical_proximal\")\n",
    "ax.plot(responses_release[imem_apical_middle][\"time\"], responses_release[imem_apical_middle][\"voltage\"], color=\"C2\", label=\"imem_apical_middle\")\n",
    "ax.plot(responses_release[imem_apical_distal][\"time\"], responses_release[imem_apical_distal][\"voltage\"], color=\"C3\", label=\"imem_apical_distal\")\n",
    "ax.set_xlim([250,270])\n",
    "ax.grid()\n",
    "ax.legend()\n",
    "ax.set_title(\"hay_ais i_membrane: AIS, Axon and Apical Dendrite\")"
   ]
  },
  {
   "cell_type": "code",
   "execution_count": 30,
   "metadata": {},
   "outputs": [
    {
     "data": {
      "text/plain": [
       "Text(0.5, 1.0, 'hay_ais i_membrane: Apical Dendrite')"
      ]
     },
     "execution_count": 30,
     "metadata": {},
     "output_type": "execute_result"
    },
    {
     "data": {
      "image/png": "[encoded data removed]",
      "text/plain": [
       "<Figure size 432x288 with 1 Axes>"
      ]
     },
     "metadata": {
      "needs_background": "light"
     },
     "output_type": "display_data"
    },
    {
     "data": {
      "image/png": "[encoded data removed]",
      "text/plain": [
       "<Figure size 432x288 with 1 Axes>"
      ]
     },
     "metadata": {
      "needs_background": "light"
     },
     "output_type": "display_data"
    }
   ],
   "source": [
    "fig, ax = plt.subplots()\n",
    "ax.plot(responses_release[imem_axon][\"time\"], responses_release[imem_axon][\"voltage\"], color=\"k\", label=\"imem_axon\")\n",
    "ax.plot(responses_release[imem_ais_middle][\"time\"], responses_release[imem_ais_middle][\"voltage\"], color=\"C0\", label=\"imem_ais_middle\")\n",
    "ax.set_xlim([250,270])\n",
    "ax.grid()\n",
    "ax.legend()\n",
    "ax.set_title(\"hay_ais i_membrane: AIS and Axon\")\n",
    "\n",
    "fig, ax = plt.subplots()\n",
    "ax.plot(responses_release[imem_apical_proximal][\"time\"], responses_release[imem_apical_proximal][\"voltage\"], color=\"C1\", label=\"imem_apical_proximal\")\n",
    "ax.plot(responses_release[imem_apical_middle][\"time\"], responses_release[imem_apical_middle][\"voltage\"], color=\"C2\", label=\"imem_apical_middle\")\n",
    "ax.plot(responses_release[imem_apical_distal][\"time\"], responses_release[imem_apical_distal][\"voltage\"], color=\"C3\", label=\"imem_apical_distal\")\n",
    "ax.set_xlim([250,270])\n",
    "ax.grid()\n",
    "ax.legend()\n",
    "ax.set_title(\"hay_ais i_membrane: Apical Dendrite\")"
   ]
  },
  {
   "cell_type": "code",
   "execution_count": null,
   "metadata": {},
   "outputs": [],
   "source": []
  }
 ],
 "metadata": {
  "kernelspec": {
   "display_name": "pkg_mmf",
   "language": "python",
   "name": "pkg_mmf"
  },
  "language_info": {
   "codemirror_mode": {
    "name": "ipython",
    "version": 3
   },
   "file_extension": ".py",
   "mimetype": "text/x-python",
   "name": "python",
   "nbconvert_exporter": "python",
   "pygments_lexer": "ipython3",
   "version": "3.8.3"
  }
 },
 "nbformat": 4,
 "nbformat_minor": 5
}
