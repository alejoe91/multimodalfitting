{
 "cells": [
  {
   "cell_type": "markdown",
   "id": "f278ad77",
   "metadata": {},
   "source": [
    "# Validation - distribution of GT and optimized AP potentials/currents\n",
    "\n",
    "This notebook evaluates qualitatively the distributions of membrane potentials and transmembrane currents of an action potential over the neuron morphology."
   ]
  },
  {
   "cell_type": "code",
   "execution_count": null,
   "id": "de6ec5c5",
   "metadata": {},
   "outputs": [],
   "source": [
    "import pickle\n",
    "import pandas as pd\n",
    "import seaborn as sns\n",
    "import sys\n",
    "import shutil\n",
    "\n",
    "import bluepyopt as bpopt\n",
    "import bluepyopt.ephys as ephys\n",
    "\n",
    "import matplotlib.pyplot as plt\n",
    "from scipy.spatial import distance\n",
    "import MEAutility as mu\n",
    "import json\n",
    "import time\n",
    "import numpy as np\n",
    "from pathlib import Path\n",
    "\n",
    "import multimodalfitting as mf\n",
    "\n",
    "%matplotlib notebook"
   ]
  },
  {
   "cell_type": "code",
   "execution_count": null,
   "id": "e3415b31",
   "metadata": {},
   "outputs": [],
   "source": [
    "probe_type = \"planar\"\n",
    "model_name = \"hay_ais\" # \"hay\", \"hay_ais\", \"hay_ais_hillock\"\n",
    "cell_models_folder = Path(\"..\") / \"cell_models\"\n",
    "\n",
    "model_folder = cell_models_folder / f\"{model_name}\""
   ]
  },
  {
   "cell_type": "code",
   "execution_count": null,
   "id": "1ecb3296",
   "metadata": {},
   "outputs": [],
   "source": [
    "result_folder = Path(\"..\") / \"results\" / '211124' \n",
    "pkl_file_name = \"runs.pkl\"\n",
    "\n",
    "data = pickle.load(open(result_folder / pkl_file_name, 'rb'))\n",
    "df_optimization = pd.DataFrame(data)\n",
    "df_model = df_optimization.query(f\"model == '{model_name}'\")"
   ]
  },
  {
   "cell_type": "code",
   "execution_count": null,
   "id": "b1347757",
   "metadata": {},
   "outputs": [],
   "source": [
    "opt_soma = df_model.query(\"feature_set == 'soma'\")\n",
    "opt_extra = df_model.query(\"feature_set == 'extra'\")\n",
    "print(f\"Somatic optimizations: {len(opt_soma)}\")\n",
    "print(f\"Extra optimizations: {len(opt_extra)}\")"
   ]
  },
  {
   "cell_type": "code",
   "execution_count": null,
   "id": "68db2c8c",
   "metadata": {},
   "outputs": [],
   "source": [
    "protocols_file = model_folder / \"fitting\" / \"efeatures\" / \"protocols_BPO_all.json\"\n",
    "features_file = model_folder / \"fitting\" / \"efeatures\" / \"features_BPO_all.json\""
   ]
  },
  {
   "cell_type": "code",
   "execution_count": null,
   "id": "f8543b20",
   "metadata": {},
   "outputs": [],
   "source": [
    "cell = mf.create_ground_truth_model(model_name=model_name, release=False)\n",
    "cell_release = mf.create_ground_truth_model(model_name=model_name, release=True)\n",
    "\n",
    "probe = mf.define_electrode(probe_type=probe_type)\n",
    "\n",
    "param_names = [param.name for param in cell.params.values() if not param.frozen]\n",
    "# sim = ephys.simulators.LFPySimulator(cell, cvode_active=True, electrode=probe, mechs_folders=model_folder)\n",
    "\n",
    "params_release = {}\n",
    "for param in cell_release.params_by_names(param_names):\n",
    "    params_release[param.name] = param.value"
   ]
  },
  {
   "cell_type": "code",
   "execution_count": null,
   "id": "1d734edd",
   "metadata": {},
   "outputs": [],
   "source": [
    "protocol_for_eap = \"IDrest_300\""
   ]
  },
  {
   "cell_type": "markdown",
   "id": "c86bfa85",
   "metadata": {},
   "source": [
    "### Define more recording points "
   ]
  },
  {
   "cell_type": "code",
   "execution_count": null,
   "id": "5715b6a6",
   "metadata": {},
   "outputs": [],
   "source": [
    "positions = np.array([[-62, 828], [-27, 546], [-27, 85], [14, -26], [28, -290]])\n",
    "position_names = [\"apical_distal\", \"apical_middle\", \"apical_proximal\", \"ais_middle\", \"axon\"]"
   ]
  },
  {
   "cell_type": "code",
   "execution_count": null,
   "id": "b5e5cabf",
   "metadata": {},
   "outputs": [],
   "source": [
    "extra_kwargs = dict(fs=20,\n",
    "                    fcut=[300, 6000],\n",
    "                    filt_type=\"filtfilt\",\n",
    "                    ms_cut=[3, 10])"
   ]
  },
  {
   "cell_type": "code",
   "execution_count": null,
   "id": "ff1799e2",
   "metadata": {},
   "outputs": [],
   "source": [
    "eva_extra = mf.create_evaluator(\n",
    "    model_name=model_name,\n",
    "    feature_set=\"extra\",\n",
    "    extra_strategy=\"all\",\n",
    "    protocols_with_lfp=protocol_for_eap,\n",
    "    **extra_kwargs\n",
    ")"
   ]
  },
  {
   "cell_type": "code",
   "execution_count": null,
   "id": "40aaf495",
   "metadata": {},
   "outputs": [],
   "source": [
    "extra_recordings = mf.utils.extra_recordings_from_positions(cell_release, eva_extra.sim, positions, position_names)"
   ]
  },
  {
   "cell_type": "code",
   "execution_count": null,
   "id": "6ce6a352",
   "metadata": {},
   "outputs": [],
   "source": [
    "eva_extra = mf.create_evaluator(\n",
    "    model_name=model_name,\n",
    "    feature_set=\"extra\",\n",
    "    extra_strategy=\"all\",\n",
    "    protocols_with_lfp=protocol_for_eap,\n",
    "    extra_recordings=dict(IDrest_300=extra_recordings), \n",
    "    **extra_kwargs\n",
    ")"
   ]
  },
  {
   "cell_type": "code",
   "execution_count": null,
   "id": "44bb4ba5",
   "metadata": {},
   "outputs": [],
   "source": [
    "eva_extra.fitness_protocols[\"IDrest_300\"].recordings"
   ]
  },
  {
   "cell_type": "code",
   "execution_count": null,
   "id": "c97ae8e6",
   "metadata": {},
   "outputs": [],
   "source": [
    "len(extra_recordings)"
   ]
  },
  {
   "cell_type": "markdown",
   "id": "7400dc93",
   "metadata": {},
   "source": [
    "# Load protocols and original features"
   ]
  },
  {
   "cell_type": "code",
   "execution_count": null,
   "id": "af72c3e5",
   "metadata": {},
   "outputs": [],
   "source": [
    "ais_recording = mf.utils.get_ais_extra_recordings()"
   ]
  },
  {
   "cell_type": "code",
   "execution_count": null,
   "id": "56228764",
   "metadata": {},
   "outputs": [],
   "source": [
    "ais_recording"
   ]
  },
  {
   "cell_type": "code",
   "execution_count": null,
   "id": "fcb9425e",
   "metadata": {},
   "outputs": [],
   "source": [
    "# eva_extra = mf.create_evaluator(\n",
    "#     model_name=model_name,\n",
    "#     feature_set=\"extra\",\n",
    "#     extra_strategy=\"all\",\n",
    "#     protocols_with_lfp=protocol_for_eap,\n",
    "#     extra_recordings=dict(IDrest_300=ais_recording), \n",
    "#     **extra_kwargs\n",
    "# )"
   ]
  },
  {
   "cell_type": "code",
   "execution_count": null,
   "id": "b43a3f83",
   "metadata": {},
   "outputs": [],
   "source": [
    "# only run IDrest 300"
   ]
  },
  {
   "cell_type": "code",
   "execution_count": null,
   "id": "0482bde9",
   "metadata": {},
   "outputs": [],
   "source": [
    "idrest = eva_extra.fitness_protocols[\"IDrest_300\"]"
   ]
  },
  {
   "cell_type": "code",
   "execution_count": null,
   "id": "b3e7915c",
   "metadata": {},
   "outputs": [],
   "source": [
    "responses_release = eva_extra.run_protocol(idrest, param_values=params_release)"
   ]
  },
  {
   "cell_type": "code",
   "execution_count": null,
   "id": "e2c04ba7",
   "metadata": {},
   "outputs": [],
   "source": [
    "mf.plot_responses(responses_release)"
   ]
  }
 ],
 "metadata": {
  "kernelspec": {
   "display_name": "Python 3 (ipykernel)",
   "language": "python",
   "name": "python3"
  },
  "language_info": {
   "codemirror_mode": {
    "name": "ipython",
    "version": 3
   },
   "file_extension": ".py",
   "mimetype": "text/x-python",
   "name": "python",
   "nbconvert_exporter": "python",
   "pygments_lexer": "ipython3",
   "version": "3.8.11"
  }
 },
 "nbformat": 4,
 "nbformat_minor": 5
}
