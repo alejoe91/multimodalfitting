{
 "cells": [
  {
   "cell_type": "markdown",
   "id": "f278ad77",
   "metadata": {},
   "source": [
    "# Validation - BAC response of models\n",
    "\n",
    "This notebook evaluates qualitatively the capability of fitted models to reproduce BAC behavior."
   ]
  },
  {
   "cell_type": "code",
   "execution_count": null,
   "id": "de6ec5c5",
   "metadata": {},
   "outputs": [],
   "source": [
    "import json\n",
    "import sys\n",
    "import os\n",
    "import time\n",
    "import neuron\n",
    "from pathlib import Path\n",
    "import pickle\n",
    "import pandas as pd\n",
    "\n",
    "import matplotlib.pyplot as plt\n",
    "import neuroplotlib as nplt\n",
    "\n",
    "import bluepyopt as bpopt\n",
    "import bluepyopt.ephys as ephys\n",
    "\n",
    "import LFPy\n",
    "import neuron\n",
    "import numpy as np\n",
    "\n",
    "import shutil\n",
    "\n",
    "import multimodalfitting as mf\n",
    "\n",
    "# %matplotlib notebook\n",
    "%matplotlib widget"
   ]
  },
  {
   "cell_type": "code",
   "execution_count": null,
   "id": "e3415b31",
   "metadata": {},
   "outputs": [],
   "source": [
    "probe_type = \"planar\"\n",
    "model_name = \"hay_ais\" # \"hay\", \"hay_ais\", \"hay_ais_hillock\"\n",
    "cell_models_folder = Path(\"..\") / \"cell_models\"\n",
    "\n",
    "model_folder = cell_models_folder / f\"{model_name}\""
   ]
  },
  {
   "cell_type": "code",
   "execution_count": null,
   "id": "4fcdfdd4",
   "metadata": {},
   "outputs": [],
   "source": [
    "result_folder = Path(\"..\") / \"results\" / '211124' \n",
    "pkl_file_name = \"runs.pkl\"\n",
    "\n",
    "data = pickle.load(open(result_folder / pkl_file_name, 'rb'))\n",
    "df_optimization = pd.DataFrame(data)\n",
    "df_model = df_optimization.query(f\"model == '{model_name}'\")"
   ]
  },
  {
   "cell_type": "code",
   "execution_count": null,
   "id": "03964f12",
   "metadata": {},
   "outputs": [],
   "source": [
    "opt_soma = df_model.query(\"feature_set == 'soma'\")\n",
    "opt_extra = df_model.query(\"feature_set == 'extra'\")\n",
    "print(f\"Somatic optimizations: {len(opt_soma)}\")\n",
    "print(f\"Extra optimizations: {len(opt_extra)}\")"
   ]
  },
  {
   "cell_type": "code",
   "execution_count": null,
   "id": "3dc8c653",
   "metadata": {},
   "outputs": [],
   "source": [
    "ais_recordings = {}"
   ]
  },
  {
   "cell_type": "code",
   "execution_count": null,
   "id": "8f831330",
   "metadata": {},
   "outputs": [],
   "source": [
    "cell = mf.create_ground_truth_model(model_name=model_name)\n",
    "cell_release = mf.create_ground_truth_model(model_name=model_name, release=True)\n",
    "\n",
    "# probe = mf.define_electrode(probe_type=probe_type)\n",
    "probe=None\n",
    "\n",
    "param_names = [param.name for param in cell.params.values() if not param.frozen]\n",
    "sim = ephys.simulators.LFPySimulator(cell, cvode_active=True, electrode=probe, mechs_folders=model_folder)\n",
    "\n",
    "params_release = {}\n",
    "for param in cell_release.params_by_names(param_names):\n",
    "    params_release[param.name] = param.value"
   ]
  },
  {
   "cell_type": "code",
   "execution_count": null,
   "id": "0907d21c",
   "metadata": {},
   "outputs": [],
   "source": [
    "params_release"
   ]
  },
  {
   "cell_type": "markdown",
   "id": "bed3f54f",
   "metadata": {},
   "source": [
    "# Test calcium spike"
   ]
  },
  {
   "cell_type": "code",
   "execution_count": null,
   "id": "7cb5c3aa",
   "metadata": {},
   "outputs": [],
   "source": [
    "best_soma = np.argmin(opt_soma.best_fitness)\n",
    "best_sample_soma = opt_soma.iloc[best_soma]\n",
    "best_params_soma_dict = {k: v for k, v in zip(param_names, best_sample_soma.best_params)}\n",
    "display(best_sample_soma.best_fitness)\n",
    "\n",
    "opt_all = opt_extra.query(\"extra_strategy == 'all'\")\n",
    "opt_sections = opt_extra.query(\"extra_strategy == 'sections'\")\n",
    "opt_single = opt_extra.query(\"extra_strategy == 'single'\")\n",
    "\n",
    "best_all = np.argmin(opt_all.best_fitness)\n",
    "best_sections = np.argmin(opt_sections.best_fitness)\n",
    "best_single = np.argmin(opt_single.best_fitness)\n",
    "\n",
    "best_sample_all = opt_all.iloc[best_all]\n",
    "best_params_all_dict = {k: v for k, v in zip(param_names, best_sample_all.best_params)}\n",
    "display(\"ALL\", best_sample_all.best_fitness)\n",
    "\n",
    "best_sample_sections = opt_sections.iloc[best_sections]\n",
    "best_params_sections_dict = {k: v for k, v in zip(param_names, best_sample_sections.best_params)}\n",
    "display(\"SECTIONS\", best_sample_sections.best_fitness)\n",
    "\n",
    "best_sample_single = opt_single.iloc[best_single]\n",
    "best_params_single_dict = {k: v for k, v in zip(param_names, best_sample_single.best_params)}\n",
    "display(\"SINGLE\", best_sample_single.best_fitness)"
   ]
  },
  {
   "cell_type": "code",
   "execution_count": null,
   "id": "c11871ff",
   "metadata": {},
   "outputs": [],
   "source": [
    "kwargs = {\"syn_weight\": 2, \"pulse_amp\": 1}"
   ]
  },
  {
   "cell_type": "code",
   "execution_count": null,
   "id": "713cde2b",
   "metadata": {},
   "outputs": [],
   "source": [
    "print(\"Computing RELEASE\")\n",
    "response_release = mf.utils.simulate_BAC_responses(cell, params_release, sim, **kwargs)\n",
    "print(\"Computing SOMA\")\n",
    "response_soma = mf.utils.simulate_BAC_responses(cell, best_params_soma_dict, sim, **kwargs)\n",
    "print(\"Computing ALL\")\n",
    "response_all = mf.utils.simulate_BAC_responses(cell, best_params_all_dict, sim, **kwargs)\n",
    "print(\"Computing SECTIONS\")\n",
    "response_sections = mf.utils.simulate_BAC_responses(cell, best_params_sections_dict, sim, **kwargs)\n",
    "print(\"Computing SINGLE\")\n",
    "response_single = mf.utils.simulate_BAC_responses(cell, best_params_single_dict, sim, **kwargs)"
   ]
  },
  {
   "cell_type": "code",
   "execution_count": null,
   "id": "33b83f14",
   "metadata": {},
   "outputs": [],
   "source": [
    "ax_dict = {}\n",
    "\n",
    "loc_names = response_release.keys()\n",
    "\n",
    "for loc in loc_names:\n",
    "    fig, ax = plt.subplots()\n",
    "    ax_dict[loc] = ax\n",
    "    \n",
    "    for i, resp_name in enumerate(response_release):\n",
    "        resp = response_release\n",
    "        if i == 0:\n",
    "            ax.plot(resp[loc][\"time\"], resp[loc][\"voltage\"], alpha=0.4, color=\"k\", label=\"GT\")\n",
    "        else:\n",
    "            ax.plot(resp[loc][\"time\"], resp[loc][\"voltage\"], alpha=0.4, color=\"k\")\n",
    "\n",
    "    for i, resp_name in enumerate(response_soma):\n",
    "        resp = response_soma\n",
    "        if i == 0:\n",
    "            ax.plot(resp[loc][\"time\"], resp[loc][\"voltage\"], alpha=0.4, color=\"C0\", label=\"soma\")\n",
    "        else:\n",
    "            ax.plot(resp[loc][\"time\"], resp[loc][\"voltage\"], alpha=0.4, color=\"C0\")\n",
    "\n",
    "    for i, resp_name in enumerate(response_all):\n",
    "        resp = response_all\n",
    "        if i == 0:\n",
    "            ax.plot(resp[loc][\"time\"], resp[loc][\"voltage\"], alpha=0.4, color=\"C1\", label=\"all\")\n",
    "        else:\n",
    "            ax.plot(resp[loc][\"time\"], resp[loc][\"voltage\"], alpha=0.4, color=\"C1\")\n",
    "    \n",
    "    for i, resp_name in enumerate(response_sections):\n",
    "        resp = response_sections\n",
    "        if i == 0:\n",
    "            ax.plot(resp[loc][\"time\"], resp[loc][\"voltage\"], alpha=0.4, color=\"C2\", label=\"sections\")\n",
    "        else:\n",
    "            ax.plot(resp[loc][\"time\"], resp[loc][\"voltage\"], alpha=0.4, color=\"C2\")\n",
    "    \n",
    "    for i, resp_name in enumerate(response_single):\n",
    "        resp = response_single\n",
    "        if i == 0:\n",
    "            ax.plot(resp[loc][\"time\"], resp[loc][\"voltage\"], alpha=0.4, color=\"C3\", label=\"single\")\n",
    "        else:\n",
    "            ax.plot(resp[loc][\"time\"], resp[loc][\"voltage\"], alpha=0.4, color=\"C3\")\n",
    "\n",
    "    ax.set_title(f\"Recording from {loc}\")\n",
    "    ax.legend()"
   ]
  }
 ],
 "metadata": {
  "kernelspec": {
   "display_name": "Python 3 (ipykernel)",
   "language": "python",
   "name": "python3"
  },
  "language_info": {
   "codemirror_mode": {
    "name": "ipython",
    "version": 3
   },
   "file_extension": ".py",
   "mimetype": "text/x-python",
   "name": "python",
   "nbconvert_exporter": "python",
   "pygments_lexer": "ipython3",
   "version": "3.8.11"
  }
 },
 "nbformat": 4,
 "nbformat_minor": 5
}
