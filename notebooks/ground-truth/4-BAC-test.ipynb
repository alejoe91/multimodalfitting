{
 "cells": [
  {
   "cell_type": "markdown",
   "id": "f278ad77",
   "metadata": {},
   "source": [
    "# Validation - BAC response of models\n",
    "\n",
    "This notebook evaluates qualitatively the capability of fitted models to reproduce BAC behavior."
   ]
  },
  {
   "cell_type": "code",
   "execution_count": null,
   "id": "de6ec5c5",
   "metadata": {},
   "outputs": [],
   "source": [
    "import json\n",
    "import sys\n",
    "import os\n",
    "import time\n",
    "import neuron\n",
    "from pathlib import Path\n",
    "import pickle\n",
    "import pandas as pd\n",
    "\n",
    "import matplotlib.pyplot as plt\n",
    "import neuroplotlib as nplt\n",
    "\n",
    "import bluepyopt as bpopt\n",
    "import bluepyopt.ephys as ephys\n",
    "\n",
    "import LFPy\n",
    "import neuron\n",
    "import numpy as np\n",
    "\n",
    "import shutil\n",
    "\n",
    "import multimodalfitting as mf\n",
    "\n",
    "# %matplotlib notebook\n",
    "%matplotlib widget"
   ]
  },
  {
   "cell_type": "code",
   "execution_count": null,
   "id": "130f9f4d",
   "metadata": {},
   "outputs": [],
   "source": [
    "base_path = Path(\"../..\")"
   ]
  },
  {
   "cell_type": "code",
   "execution_count": null,
   "id": "76ce782e",
   "metadata": {},
   "outputs": [],
   "source": [
    "colors_dict = {\"soma\": \"C0\",\n",
    "               \"all\": \"C1\",\n",
    "               \"sections\": \"C2\",\n",
    "               \"single\": \"C3\"}\n",
    "figsize = (10, 7)"
   ]
  },
  {
   "cell_type": "markdown",
   "id": "e2eec68b",
   "metadata": {},
   "source": [
    "## Load results and define model"
   ]
  },
  {
   "cell_type": "code",
   "execution_count": null,
   "id": "e3415b31",
   "metadata": {},
   "outputs": [],
   "source": [
    "probe_type = \"planar\"\n",
    "model_name = \"hay_ais\" # \"hay\", \"hay_ais\", \"hay_ais_hillock\"\n",
    "cell_models_folder = base_path / \"cell_models\"\n",
    "\n",
    "model_folder = cell_models_folder / f\"{model_name}\""
   ]
  },
  {
   "cell_type": "code",
   "execution_count": null,
   "id": "36e71c9e",
   "metadata": {},
   "outputs": [],
   "source": [
    "# change this with folder containing your pkl file\n",
    "results_date = '220127'  # '211124' '220111' # \n",
    "result_folder = base_path / \"results\" / results_date"
   ]
  },
  {
   "cell_type": "code",
   "execution_count": null,
   "id": "4fcdfdd4",
   "metadata": {},
   "outputs": [],
   "source": [
    "pkl_file_name = \"runs.pkl\"\n",
    "\n",
    "data = pickle.load(open(result_folder / pkl_file_name, 'rb'))\n",
    "df_optimization = pd.DataFrame(data)\n",
    "df_model = df_optimization.query(f\"model == '{model_name}'\")"
   ]
  },
  {
   "cell_type": "code",
   "execution_count": null,
   "id": "03964f12",
   "metadata": {},
   "outputs": [],
   "source": [
    "# set strategy column\n",
    "df_model.loc[:, \"strategy\"] = df_model[\"extra_strategy\"].values.copy()\n",
    "df_model.loc[df_model[\"feature_set\"] == \"soma\", \"strategy\"] = \"soma\""
   ]
  },
  {
   "cell_type": "code",
   "execution_count": null,
   "id": "8f831330",
   "metadata": {},
   "outputs": [],
   "source": [
    "cell = mf.create_ground_truth_model(model_name=model_name)\n",
    "cell_release = mf.create_ground_truth_model(model_name=model_name, release=True)\n",
    "\n",
    "# probe = mf.define_electrode(probe_type=probe_type)\n",
    "probe=None\n",
    "\n",
    "param_names = [param.name for param in cell.params.values() if not param.frozen]\n",
    "sim = ephys.simulators.LFPySimulator(cell, cvode_active=True, electrode=probe, mechs_folders=model_folder)\n",
    "\n",
    "params_release = {}\n",
    "for param in cell_release.params_by_names(param_names):\n",
    "    params_release[param.name] = param.value"
   ]
  },
  {
   "cell_type": "markdown",
   "id": "bed3f54f",
   "metadata": {},
   "source": [
    "# Test calcium spike"
   ]
  },
  {
   "cell_type": "code",
   "execution_count": null,
   "id": "7cb5c3aa",
   "metadata": {},
   "outputs": [],
   "source": [
    "opt_results = {}\n",
    "for strategy in np.unique(df_model.strategy):\n",
    "    opt_results[strategy] = {}\n",
    "    opt_df = df_model.query(f\"strategy == '{strategy}'\")\n",
    "    best_idx = np.argmin(opt_df.best_fitness)\n",
    "    params_sample = opt_df.iloc[best_idx]\n",
    "    params_dict = {k: v for k, v in zip(param_names, params_sample.best_params)}\n",
    "    opt_results[strategy][\"best_fitness\"] = params_sample.best_fitness\n",
    "    opt_results[strategy][\"best_params\"] = params_dict\n",
    "    print(f\"{strategy} --  best fitness: {params_sample.best_fitness}\")"
   ]
  },
  {
   "cell_type": "code",
   "execution_count": null,
   "id": "c11871ff",
   "metadata": {},
   "outputs": [],
   "source": [
    "bac_kwargs = {\"syn_weight\": 2, \"pulse_amp\": 1}"
   ]
  },
  {
   "cell_type": "code",
   "execution_count": null,
   "id": "713cde2b",
   "metadata": {},
   "outputs": [],
   "source": [
    "print(\"Computing RELEASE\")\n",
    "responses_release = mf.utils.simulate_BAC_responses(cell, params_release, sim, **bac_kwargs)\n",
    "\n",
    "for strategy in np.unique(df_model.strategy):\n",
    "    print(f\"Computing {strategy}\")\n",
    "    best_params = opt_results[strategy][\"best_params\"]\n",
    "\n",
    "    responses = mf.utils.simulate_BAC_responses(cell, best_params, sim, **bac_kwargs)\n",
    "    opt_results[strategy][\"responses\"] = responses"
   ]
  },
  {
   "cell_type": "code",
   "execution_count": null,
   "id": "e51ca063",
   "metadata": {},
   "outputs": [],
   "source": [
    "responses_release"
   ]
  },
  {
   "cell_type": "code",
   "execution_count": null,
   "id": "33b83f14",
   "metadata": {},
   "outputs": [],
   "source": [
    "ax_dict = {}\n",
    "\n",
    "loc_names = responses_release.keys()\n",
    "for loc in responses_release:\n",
    "    fig, ax = plt.subplots(figsize=figsize)\n",
    "    ax_dict[loc] = ax\n",
    "    \n",
    "    resp = responses_release[loc]\n",
    "    ax.plot(resp[\"time\"], resp[\"voltage\"], alpha=0.8, color=\"k\", label=\"GT\")\n",
    "    \n",
    "    for strategy in opt_results:\n",
    "        responses = opt_results[strategy][\"responses\"]\n",
    "        resp = responses[loc]\n",
    "        ax.plot(resp[\"time\"], resp[\"voltage\"], alpha=0.8, color=colors_dict[strategy], label=strategy.upper())\n",
    "        \n",
    "    ax.set_xlabel(\"time (ms)\", fontsize=12)\n",
    "    ax.set_ylabel(\"$V_m$ (mV)\", fontsize=12)\n",
    "    ax.spines[\"top\"].set_visible(False)\n",
    "    ax.spines[\"right\"].set_visible(False)\n",
    "    ax.set_title(f\"Recording from {loc}\", fontsize=15)\n",
    "#     ax.axvline(ms_before, color=\"gray\", ls=\"--\")\n",
    "    ax.legend()\n"
   ]
  },
  {
   "cell_type": "code",
   "execution_count": null,
   "id": "1f99ba64",
   "metadata": {},
   "outputs": [],
   "source": []
  }
 ],
 "metadata": {
  "kernelspec": {
   "display_name": "Python 3 (ipykernel)",
   "language": "python",
   "name": "python3"
  },
  "language_info": {
   "codemirror_mode": {
    "name": "ipython",
    "version": 3
   },
   "file_extension": ".py",
   "mimetype": "text/x-python",
   "name": "python",
   "nbconvert_exporter": "python",
   "pygments_lexer": "ipython3",
   "version": "3.8.11"
  }
 },
 "nbformat": 4,
 "nbformat_minor": 5
}
