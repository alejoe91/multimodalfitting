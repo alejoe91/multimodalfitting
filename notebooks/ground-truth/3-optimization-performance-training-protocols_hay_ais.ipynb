{
 "cells": [
  {
   "cell_type": "markdown",
   "metadata": {},
   "source": [
    "# 3) Analyze and evaluate optimization output - TRAINING PROTOCOLS\n",
    "\n",
    "This final notebook uses the `runs.pkl` file created in notebook 2 and it analyzes:\n",
    "\n",
    "- the distance between different feature sets in the parameter space\n",
    "- the distance between different feature sets in the feature space - training protocols\n",
    "- the distance between different feature sets in the extracellular signals"
   ]
  },
  {
   "cell_type": "code",
   "execution_count": null,
   "metadata": {},
   "outputs": [],
   "source": [
    "import pickle\n",
    "import pandas as pd\n",
    "import seaborn as sns\n",
    "import sys\n",
    "import shutil\n",
    "\n",
    "import bluepyopt as bpopt\n",
    "import bluepyopt.ephys as ephys\n",
    "\n",
    "import matplotlib.pyplot as plt\n",
    "from scipy.spatial import distance\n",
    "import MEAutility as mu\n",
    "import json\n",
    "import time\n",
    "import numpy as np\n",
    "from pathlib import Path\n",
    "\n",
    "from scipy.stats import kruskal, mannwhitneyu, wilcoxon\n",
    "\n",
    "import multimodalfitting as mf\n",
    "\n",
    "%matplotlib notebook"
   ]
  },
  {
   "cell_type": "code",
   "execution_count": null,
   "metadata": {},
   "outputs": [],
   "source": [
    "save_fig = False\n",
    "figure_folder = Path(\".\") / \"figures_hay_ais\"\n",
    "\n",
    "if save_fig:\n",
    "    figure_folder.mkdir(exist_ok=True)"
   ]
  },
  {
   "cell_type": "code",
   "execution_count": null,
   "metadata": {},
   "outputs": [],
   "source": [
    "base_dir = Path(\"../..\")"
   ]
  },
  {
   "cell_type": "code",
   "execution_count": null,
   "metadata": {},
   "outputs": [],
   "source": [
    "colors_dict = {\"soma\": \"C0\",\n",
    "               \"all\": \"C1\",\n",
    "               \"sections\": \"C2\",\n",
    "               \"single\": \"C3\"}\n",
    "feature_sets = {\"soma\": \"soma\",\n",
    "                \"all\": \"extra\",\n",
    "                \"sections\": \"extra\",\n",
    "                \"single\": \"extra\"}\n",
    "figsize = (10, 7)"
   ]
  },
  {
   "cell_type": "markdown",
   "metadata": {},
   "source": [
    "## Load GT params and optimization output"
   ]
  },
  {
   "cell_type": "code",
   "execution_count": null,
   "metadata": {},
   "outputs": [],
   "source": [
    "# general\n",
    "model_name = \"hay_ais\"\n",
    "probe_type = \"planar\" # linear \n",
    "\n",
    "cell_models_folder = base_dir / \"cell_models\"\n",
    "model_folder = cell_models_folder / model_name\n",
    "probe_file = model_folder / \"fitting\" / \"efeatures\" / \"probe_BPO.json\""
   ]
  },
  {
   "cell_type": "code",
   "execution_count": null,
   "metadata": {},
   "outputs": [],
   "source": [
    "# change this with folder containing your pkl file\n",
    "results_date = '220120'  # '211124' '220111' # \n",
    "result_folder = base_dir / \"results\" / results_date"
   ]
  },
  {
   "cell_type": "code",
   "execution_count": null,
   "metadata": {},
   "outputs": [],
   "source": [
    "cell = mf.create_ground_truth_model(model_name=model_name,\n",
    "                                    release=False)\n",
    "cell_release = mf.create_ground_truth_model(model_name=model_name,\n",
    "                                            release=True)\n",
    "\n",
    "probe = mf.define_electrode(probe_file=probe_file)\n",
    "\n",
    "param_names = [param.name for param in cell.params.values() if not param.frozen]\n",
    "\n",
    "params_release = {}\n",
    "for param in cell_release.params_by_names(param_names):\n",
    "    params_release[param.name] = param.value"
   ]
  },
  {
   "cell_type": "code",
   "execution_count": null,
   "metadata": {},
   "outputs": [],
   "source": [
    "protocol_for_eap = \"IDrest_300\""
   ]
  },
  {
   "cell_type": "code",
   "execution_count": null,
   "metadata": {},
   "outputs": [],
   "source": [
    "pkl_file_name = \"runs.pkl\""
   ]
  },
  {
   "cell_type": "code",
   "execution_count": null,
   "metadata": {},
   "outputs": [],
   "source": [
    "data = pickle.load(open(result_folder / pkl_file_name, 'rb'))\n",
    "df_optimization = pd.DataFrame(data)\n",
    "df_model = df_optimization.query(f\"model == '{model_name}'\")"
   ]
  },
  {
   "cell_type": "code",
   "execution_count": null,
   "metadata": {},
   "outputs": [],
   "source": [
    "# set strategy column\n",
    "df_model.loc[:, \"strategy\"] = df_model[\"extra_strategy\"].values.copy()\n",
    "df_model.loc[df_model[\"feature_set\"] == \"soma\", \"strategy\"] = \"soma\""
   ]
  },
  {
   "cell_type": "code",
   "execution_count": null,
   "metadata": {},
   "outputs": [],
   "source": [
    "fig, ax = plt.subplots()\n",
    "min_evals = 3000\n",
    "\n",
    "keep_idxs = []\n",
    "for idx, row in df_model.iterrows():\n",
    "    if max(row[\"nevals\"]) > min_evals:\n",
    "        keep_idxs.append(idx)\n",
    "        ax.plot(row[\"nevals\"], \n",
    "                row[\"logbook\"].select(\"min\"),\n",
    "                color=colors_dict[row[\"strategy\"]],\n",
    "                ls='-', \n",
    "                lw=0.8,\n",
    "                alpha=0.75)\n",
    "    else:\n",
    "        ax.plot(row[\"nevals\"], \n",
    "                row[\"logbook\"].select(\"min\"),\n",
    "                color=colors_dict[row[\"strategy\"]],\n",
    "                ls='--', \n",
    "                lw=0.5,\n",
    "                alpha=0.75)\n",
    "\n",
    "ax.set_title(\"Min fitness\")\n",
    "ax.spines[\"top\"].set_visible(False)\n",
    "ax.spines[\"right\"].set_visible(False)\n",
    "ax.set_xlabel(\"Neval\")\n",
    "ax.set_ylabel(\"Min fitness\")\n",
    "ax.set_yscale('log')"
   ]
  },
  {
   "cell_type": "markdown",
   "metadata": {},
   "source": [
    "# Load protocols and original features"
   ]
  },
  {
   "cell_type": "code",
   "execution_count": null,
   "metadata": {},
   "outputs": [],
   "source": [
    "extra_kwargs = mf.utils.get_extra_kwargs()\n",
    "extra_kwargs"
   ]
  },
  {
   "cell_type": "code",
   "execution_count": null,
   "metadata": {},
   "outputs": [],
   "source": [
    "eva_extra = mf.create_evaluator(\n",
    "    model_name=model_name,\n",
    "    feature_set=\"extra\",\n",
    "    extra_strategy=\"all\",\n",
    "    protocols_with_lfp=\"IDrest_300\",\n",
    "    **extra_kwargs\n",
    ")"
   ]
  },
  {
   "cell_type": "code",
   "execution_count": null,
   "metadata": {},
   "outputs": [],
   "source": [
    "# check num features\n",
    "for strategy in np.unique(df_model.strategy):\n",
    "    extra_strategy = strategy if strategy in [\"all\", \"single\", \"sections\"] else None\n",
    "    eva = mf.create_evaluator(\n",
    "        model_name=model_name,\n",
    "        feature_set=feature_sets[strategy],\n",
    "        extra_strategy=extra_strategy,\n",
    "        protocols_with_lfp=\"IDrest_300\",\n",
    "        **extra_kwargs\n",
    "    )\n",
    "    print(f\"Strategy {strategy} --> num features {len(eva.fitness_calculator.objectives)}\")"
   ]
  },
  {
   "cell_type": "markdown",
   "metadata": {},
   "source": [
    "# Compute release responses"
   ]
  },
  {
   "cell_type": "code",
   "execution_count": null,
   "metadata": {},
   "outputs": [],
   "source": [
    "responses_release = eva_extra.run_protocols(eva_extra.fitness_protocols.values(), param_values=params_release)"
   ]
  },
  {
   "cell_type": "code",
   "execution_count": null,
   "metadata": {},
   "outputs": [],
   "source": [
    "eap_release = mf.utils.calculate_eap(responses=responses_release, protocols=eva_extra.fitness_protocols, \n",
    "                                     protocol_name=protocol_for_eap, **extra_kwargs)"
   ]
  },
  {
   "cell_type": "code",
   "execution_count": null,
   "metadata": {},
   "outputs": [],
   "source": [
    "features_release = {}\n",
    "for obj in eva_extra.fitness_calculator.objectives:\n",
    "    features_release[obj.features[0].name] = {}\n",
    "    if len(obj.features) == 1:\n",
    "        feat = obj.features[0]\n",
    "        feat_value = feat.calculate_feature(responses_release)\n",
    "        feat_score = feat.calculate_score(responses_release)\n",
    "        if feat_value is None:\n",
    "            print(f\"{feat.name} cannot be computed: skipping\")\n",
    "            continue\n",
    "        features_release[feat.name][\"value\"] = feat_value\n",
    "    else:\n",
    "        print(f\"More than one feature for objective: {obj.name}\")"
   ]
  },
  {
   "cell_type": "code",
   "execution_count": null,
   "metadata": {},
   "outputs": [],
   "source": [
    "fig_gt_intra = mf.plot_responses(responses_release, color=\"k\", return_fig=True)"
   ]
  },
  {
   "cell_type": "code",
   "execution_count": null,
   "metadata": {},
   "outputs": [],
   "source": [
    "ax = mf.plot_eap(responses_release, eva_extra.fitness_protocols, probe,\n",
    "                 protocol_name=protocol_for_eap, color=\"k\")\n",
    "fig_gt_extra = ax.get_figure()"
   ]
  },
  {
   "cell_type": "code",
   "execution_count": null,
   "metadata": {},
   "outputs": [],
   "source": [
    "if save_fig:\n",
    "    fig_gt_intra.savefig(figure_folder / \"gt_intra.pdf\")\n",
    "    fig_gt_extra.savefig(figure_folder / \"gt_extra.pdf\")"
   ]
  },
  {
   "cell_type": "markdown",
   "metadata": {},
   "source": [
    "# Compute and plot best responses"
   ]
  },
  {
   "cell_type": "code",
   "execution_count": null,
   "metadata": {},
   "outputs": [],
   "source": [
    "max_feature_value = 50\n",
    "opt_results = {}"
   ]
  },
  {
   "cell_type": "code",
   "execution_count": null,
   "metadata": {},
   "outputs": [],
   "source": [
    "for strategy in np.unique(df_model.strategy):\n",
    "    opt_results[strategy] = {}\n",
    "    opt_df = df_model.query(f\"strategy == '{strategy}'\")\n",
    "    best_idx = np.argmin(opt_df.best_fitness)\n",
    "    params_sample = opt_df.iloc[best_idx]\n",
    "    params_dict = {k: v for k, v in zip(param_names, params_sample.best_params)}\n",
    "    opt_results[strategy][\"best_fitness\"] = params_sample.best_fitness\n",
    "    opt_results[strategy][\"best_params\"] = params_dict\n",
    "    print(f\"{strategy} --  best fitness: {params_sample.best_fitness}\")"
   ]
  },
  {
   "cell_type": "code",
   "execution_count": null,
   "metadata": {},
   "outputs": [],
   "source": [
    "for strategy in np.unique(df_model.strategy):\n",
    "    print(f\"Simulating best '{strategy}'\")\n",
    "    responses = eva_extra.run_protocols(eva_extra.fitness_protocols.values(), \n",
    "                                        param_values=opt_results[strategy][\"best_params\"])\n",
    "    opt_results[strategy][\"responses\"] = responses\n",
    "    eap = mf.utils.calculate_eap(responses=responses, protocols=eva_extra.fitness_protocols, \n",
    "                                 protocol_name=protocol_for_eap, **extra_kwargs)\n",
    "    opt_results[strategy][\"eap\"] = eap   \n",
    "    eap_dist = distance.cosine(eap_release.ravel(), eap.ravel())\n",
    "    opt_results[strategy][\"eap_dist\"] = eap_dist"
   ]
  },
  {
   "cell_type": "code",
   "execution_count": null,
   "metadata": {},
   "outputs": [],
   "source": [
    "for strategy in np.unique(df_model.strategy):\n",
    "    responses = opt_results[strategy][\"responses\"]\n",
    "    features_best = {}\n",
    "    for obj in eva_extra.fitness_calculator.objectives:\n",
    "        feat = obj.features[0]\n",
    "        features_best[feat.name] = {}\n",
    "        if len(obj.features) == 1:\n",
    "            feat_value = obj.features[0].calculate_feature(responses)\n",
    "            if feat_value is None:\n",
    "                feat_value = max_feature_value\n",
    "            features_best[feat.name][\"value\"] = feat_value\n",
    "            if \"MEA\" not in feat.name:\n",
    "                feat_score = np.abs(features_release[feat.name][\"value\"] - feat_value) / feat.exp_std\n",
    "            else:\n",
    "                feat_score = np.abs(distance.cosine(features_release[feat.name][\"value\"], feat_value))\n",
    "            features_best[feat.name][\"score\"] = feat_score\n",
    "        else:\n",
    "            print(f\"More than one feature for objective: {obj.name}\")\n",
    "    opt_results[strategy][\"features\"] = features_best"
   ]
  },
  {
   "cell_type": "code",
   "execution_count": null,
   "metadata": {},
   "outputs": [],
   "source": [
    "# plot\n",
    "for strategy in np.unique(df_model.strategy):\n",
    "    responses_to_plot = [responses_release, opt_results[strategy][\"responses\"]]\n",
    "    colors = [\"k\", colors_dict[strategy]]\n",
    "    labels = [\"GT\", strategy.upper()]\n",
    "    fig_extra_intra_single = mf.plot_multiple_responses(responses_to_plot, \n",
    "                                                        colors=colors, return_fig=True, \n",
    "                                                        labels=labels)\n",
    "    ax_extra = mf.plot_multiple_eaps(responses_to_plot, \n",
    "                                     eva_extra.fitness_protocols, probe,\n",
    "                                     protocol_name=protocol_for_eap, \n",
    "                                     colors=colors, labels=labels)"
   ]
  },
  {
   "cell_type": "code",
   "execution_count": null,
   "metadata": {},
   "outputs": [],
   "source": [
    "for strategy in opt_results:\n",
    "    print(f\"Cosine dist {strategy}: {opt_results[strategy]['eap_dist']}\")"
   ]
  },
  {
   "cell_type": "code",
   "execution_count": null,
   "metadata": {},
   "outputs": [],
   "source": [
    "if save_fig:\n",
    "    fig_extra_intra.savefig(figure_folder / \"extra_intra.pdf\")\n",
    "    fig_extra_extra.savefig(figure_folder / \"extra_extra.pdf\")\n",
    "    fig_extra_single_intra.savefig(figure_folder / \"single_intra.pdf\")\n",
    "    fig_extra_single.savefig(figure_folder / \"single_extra.pdf\")"
   ]
  },
  {
   "cell_type": "markdown",
   "metadata": {},
   "source": [
    "## Compare best-fitted models"
   ]
  },
  {
   "cell_type": "code",
   "execution_count": null,
   "metadata": {},
   "outputs": [],
   "source": [
    "df_test = pd.DataFrame.from_dict(opt_results, orient=\"index\")\n",
    "df_test[\"strategy\"] = df_test.index"
   ]
  },
  {
   "cell_type": "markdown",
   "metadata": {},
   "source": [
    "## Compare parameters \n",
    "\n",
    "Here we normalize the parameters based on the boundaries and compute the relative difference to GT."
   ]
  },
  {
   "cell_type": "code",
   "execution_count": null,
   "metadata": {},
   "outputs": [],
   "source": [
    "param_json = model_folder / \"parameters.json\"\n",
    "\n",
    "with param_json.open() as f:\n",
    "    params = json.load(f)\n",
    "\n",
    "param_boundaries = {}\n",
    "for param in params:\n",
    "    if \"bounds\" in param:\n",
    "        if isinstance(param['sectionlist'], list):\n",
    "            for sec in param['sectionlist']:\n",
    "                param_boundaries[f\"{param['param_name']}_{sec}\"] = param[\"bounds\"]\n",
    "        else:\n",
    "            sec = param['sectionlist']\n",
    "            param_boundaries[f\"{param['param_name']}_{sec}\"] = param[\"bounds\"]\n",
    "\n",
    "# scale params_release by boundaries\n",
    "params_release_norm = {}\n",
    "for param_name, param_val in params_release.items():\n",
    "    bounds = param_boundaries[param_name]\n",
    "    param_norm = (param_val - bounds[0]) / (bounds[1] - bounds[0])\n",
    "    params_release_norm[param_name] = param_norm"
   ]
  },
  {
   "cell_type": "code",
   "execution_count": null,
   "metadata": {},
   "outputs": [],
   "source": [
    "params_release_norm"
   ]
  },
  {
   "cell_type": "code",
   "execution_count": null,
   "metadata": {},
   "outputs": [],
   "source": [
    "feature_set_array = []\n",
    "param_name_array = []\n",
    "param_value_array = []\n",
    "param_norm_array = []\n",
    "release_value_array = []\n",
    "release_norm_array = []\n",
    "diff_with_release_array = []\n",
    "section_array = []\n",
    "\n",
    "for i, (index, opt) in enumerate(df_test.iterrows()):\n",
    "    params_dict = opt.best_params\n",
    "    \n",
    "    for param_name, param_value in params_dict.items():\n",
    "        feature_set_array.append(opt.strategy)\n",
    "        param_name_array.append(param_name)\n",
    "        param_value_array.append(param_value)\n",
    "        section = param_name.split(\"_\")[-1]\n",
    "        if section == \"segment\":\n",
    "            section = \"ais\"\n",
    "        section_array.append(section)\n",
    "        release_value_array.append(params_release[param_name])\n",
    "        release_norm_array.append(params_release_norm[param_name])\n",
    "        # compute norm value\n",
    "        bounds = param_boundaries[param_name]\n",
    "        param_norm = (param_value - bounds[0]) / (bounds[1] - bounds[0])\n",
    "        param_norm_array.append(param_norm)\n",
    "        diff_with_release_array.append(abs(param_norm - params_release_norm[param_name]))\n",
    "\n",
    "        \n",
    "df_params = pd.DataFrame({\"strategy\": feature_set_array, \"param_name\": param_name_array,\n",
    "                          \"param_value\": param_value_array, \"param_norm\": param_norm_array, \n",
    "                          \"release_value\": release_value_array, \"release_norm\": release_norm_array,\n",
    "                          \"diff_release\": diff_with_release_array, \"section\": section_array}) "
   ]
  },
  {
   "cell_type": "code",
   "execution_count": null,
   "metadata": {},
   "outputs": [],
   "source": [
    "# overall parameter diff\n",
    "fig, ax = plt.subplots(figsize=figsize)\n",
    "sns.boxenplot(data=df_params, y=\"strategy\", x=\"diff_release\", ax=ax)\n",
    "ax.set_xlabel(\"Norm. param difference\", fontsize=12)\n",
    "ax.set_ylabel(\"Straregy\", fontsize=12)\n",
    "ax.spines[\"top\"].set_visible(False)\n",
    "ax.spines[\"right\"].set_visible(False)\n",
    "ax.set_title(\"All params\", fontsize=15)\n"
   ]
  },
  {
   "cell_type": "code",
   "execution_count": null,
   "metadata": {},
   "outputs": [],
   "source": [
    "for section in np.unique(df_params.section):\n",
    "    fig, ax1 = plt.subplots(figsize=figsize)\n",
    "    df_section = df_params.query(f\"section == '{section}'\")\n",
    "    sns.barplot(data=df_section, y=\"param_name\", x=\"diff_release\", hue=\"strategy\",\n",
    "                orientation=\"horizontal\", ax=ax1)\n",
    "    ax1.set_xlabel(\"Norm. param difference\", fontsize=12)\n",
    "    ax1.set_ylabel(\"Param\", fontsize=12)\n",
    "    ax1.spines[\"top\"].set_visible(False)\n",
    "    ax1.spines[\"right\"].set_visible(False)\n",
    "    ax1.set_title(f\"{section} params\", fontsize=15)\n",
    "    \n",
    "    fig, ax2 = plt.subplots(figsize=figsize)\n",
    "    sns.boxenplot(data=df_section, y=\"strategy\", x=\"diff_release\", ax=ax2)\n",
    "    ax2.set_xlabel(\"Norm. param difference\", fontsize=12)\n",
    "    ax2.set_ylabel(\"Strategy\", fontsize=12)\n",
    "    ax2.spines[\"top\"].set_visible(False)\n",
    "    ax2.spines[\"right\"].set_visible(False)\n",
    "    ax2.set_title(f\"{section} params - ALL\", fontsize=15)"
   ]
  },
  {
   "cell_type": "markdown",
   "metadata": {},
   "source": [
    "## Compare features"
   ]
  },
  {
   "cell_type": "code",
   "execution_count": null,
   "metadata": {},
   "outputs": [],
   "source": [
    "feature_name_array = []\n",
    "feature_set_array = []\n",
    "feature_score_array = []\n",
    "feature_type_array = []\n",
    "\n",
    "for strategy, res in opt_results.items():\n",
    "    feats = res[\"features\"]\n",
    "    for feat_name, feat_dict in feats.items():\n",
    "        feature_set_array.append(strategy)\n",
    "        feature_name_array.append(feat_name)\n",
    "        if \"MEA\" not in feat_name:\n",
    "            feature_type_array.append(\"intra\")\n",
    "        else:\n",
    "            feature_type_array.append(\"extra\")\n",
    "        feature_score_array.append(feat_dict[\"score\"])\n",
    "        \n",
    "df_feats = pd.DataFrame({\"feature_set\": feature_set_array, \"feat_name\": feature_name_array,\n",
    "                         \"feat_score\": feature_score_array, \"feature_type\": feature_type_array})"
   ]
  },
  {
   "cell_type": "code",
   "execution_count": null,
   "metadata": {},
   "outputs": [],
   "source": [
    "fig_feat_intra, ax = plt.subplots(figsize=figsize)\n",
    "\n",
    "sns.boxplot(data=df_feats.query(\"feature_type == 'intra'\"), y=\"feature_set\", x=\"feat_score\", ax=ax)\n",
    "ax.set_ylabel(\"Feature scores (intracellular)\", fontsize=12)\n",
    "ax.spines[\"top\"].set_visible(False)\n",
    "ax.spines[\"right\"].set_visible(False)\n",
    "ax.set_title(\"Intracellular features\", fontsize=15)\n",
    "\n",
    "fig_feat_extra, ax = plt.subplots(figsize=figsize)\n",
    "\n",
    "sns.boxplot(data=df_feats.query(\"feature_type == 'extra'\"), \n",
    "              y=\"feature_set\", x=\"feat_score\", ax=ax)\n",
    "ax.set_ylabel(\"Feature scores (extracellular)\", fontsize=12)\n",
    "ax.spines[\"top\"].set_visible(False)\n",
    "ax.spines[\"right\"].set_visible(False)\n",
    "ax.set_title(\"Extracellular features\", fontsize=15)\n"
   ]
  },
  {
   "cell_type": "code",
   "execution_count": null,
   "metadata": {},
   "outputs": [],
   "source": [
    "if save_fig:\n",
    "    fig_feat_intra.savefig(figure_folder / \"feat_intra.pdf\")\n",
    "    fig_feat_extra.savefig(figure_folder / \"feat_extra.pdf\")"
   ]
  },
  {
   "cell_type": "markdown",
   "metadata": {},
   "source": [
    "## Compare EAP distance"
   ]
  },
  {
   "cell_type": "code",
   "execution_count": null,
   "metadata": {},
   "outputs": [],
   "source": [
    "df_test"
   ]
  },
  {
   "cell_type": "code",
   "execution_count": null,
   "metadata": {},
   "outputs": [],
   "source": [
    "fig_cos, ax = plt.subplots()\n",
    "sns.barplot(data=df_test, x=\"strategy\", y=\"eap_dist\", ax=ax)\n",
    "ax.set_ylabel(\"Cosine distance\", fontsize=12)\n",
    "ax.spines[\"top\"].set_visible(False)\n",
    "ax.spines[\"right\"].set_visible(False)\n",
    "ax.set_title(\"Extracellular difference\", fontsize=15)"
   ]
  },
  {
   "cell_type": "code",
   "execution_count": null,
   "metadata": {},
   "outputs": [],
   "source": [
    "if save_fig:\n",
    "    fig_cos.savefig(figure_folder / \"eap_dist.pdf\")"
   ]
  }
 ],
 "metadata": {
  "kernelspec": {
   "display_name": "Python 3 (ipykernel)",
   "language": "python",
   "name": "python3"
  },
  "language_info": {
   "codemirror_mode": {
    "name": "ipython",
    "version": 3
   },
   "file_extension": ".py",
   "mimetype": "text/x-python",
   "name": "python",
   "nbconvert_exporter": "python",
   "pygments_lexer": "ipython3",
   "version": "3.8.11"
  }
 },
 "nbformat": 4,
 "nbformat_minor": 4
}
