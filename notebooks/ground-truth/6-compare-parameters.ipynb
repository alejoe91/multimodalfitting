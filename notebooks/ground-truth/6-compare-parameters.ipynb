{
 "cells": [
  {
   "cell_type": "markdown",
   "metadata": {},
   "source": [
    "# 6) Compare parameter space\n",
    "\n",
    "This analyzes the distance in the parameter space across different feature strategies."
   ]
  },
  {
   "cell_type": "code",
   "execution_count": null,
   "metadata": {},
   "outputs": [],
   "source": [
    "import pickle\n",
    "import pandas as pd\n",
    "import seaborn as sns\n",
    "import sys\n",
    "import shutil\n",
    "\n",
    "import bluepyopt\n",
    "import bluepyopt as bpopt\n",
    "import bluepyopt.ephys as ephys\n",
    "\n",
    "import matplotlib.pyplot as plt\n",
    "from scipy.spatial import distance\n",
    "import MEAutility as mu\n",
    "import json\n",
    "import time\n",
    "import numpy as np\n",
    "from pathlib import Path\n",
    "\n",
    "from scipy.stats import kruskal, mannwhitneyu, wilcoxon\n",
    "\n",
    "import multimodalfitting as mf\n",
    "\n",
    "%matplotlib notebook"
   ]
  },
  {
   "cell_type": "markdown",
   "metadata": {},
   "source": [
    "## Load GT params and optimization output"
   ]
  },
  {
   "cell_type": "code",
   "execution_count": null,
   "metadata": {},
   "outputs": [],
   "source": [
    "base_dir = Path(\"../..\")"
   ]
  },
  {
   "cell_type": "code",
   "execution_count": null,
   "metadata": {},
   "outputs": [],
   "source": [
    "# general\n",
    "model_name = \"hay_ais\"\n",
    "probe_type = \"planar\" # linear \n",
    "\n",
    "cell_models_folder = base_dir / \"cell_models\"\n",
    "model_folder = cell_models_folder / model_name"
   ]
  },
  {
   "cell_type": "code",
   "execution_count": null,
   "metadata": {},
   "outputs": [],
   "source": [
    "\n",
    "result_dates = [r.name for r in (base_dir / \"results\").iterdir()]\n",
    "# use latest results\n",
    "results_date = max(result_dates)\n",
    "result_folder = base_dir / \"results\" / results_date"
   ]
  },
  {
   "cell_type": "code",
   "execution_count": null,
   "metadata": {},
   "outputs": [],
   "source": [
    "cell = mf.create_ground_truth_model(model_name=model_name,\n",
    "                                    release=False)\n",
    "cell_release = mf.create_ground_truth_model(model_name=model_name,\n",
    "                                            release=True)\n",
    "\n",
    "probe = mf.define_electrode(probe_type=probe_type)\n",
    "\n",
    "param_names = [param.name for param in cell.params.values() if not param.frozen]\n",
    "# sim = ephys.simulators.LFPySimulator(cell, cvode_active=True, electrode=probe, mechs_folders=model_folder)\n",
    "\n",
    "params_release = {}\n",
    "for param in cell_release.params_by_names(param_names):\n",
    "    params_release[param.name] = param.value"
   ]
  },
  {
   "cell_type": "code",
   "execution_count": null,
   "metadata": {},
   "outputs": [],
   "source": [
    "protocol_for_eap = \"IDrest_300\""
   ]
  },
  {
   "cell_type": "code",
   "execution_count": null,
   "metadata": {},
   "outputs": [],
   "source": [
    "pkl_file_name = \"runs.pkl\""
   ]
  },
  {
   "cell_type": "code",
   "execution_count": null,
   "metadata": {},
   "outputs": [],
   "source": [
    "data = pickle.load(open(result_folder / pkl_file_name, 'rb'))\n",
    "df_optimization = pd.DataFrame(data)\n",
    "df_model = df_optimization.query(f\"model == '{model_name}'\")\n",
    "\n",
    "with open(result_folder / f\"all_responses_{model_name}.pkl\", \"rb\") as f:\n",
    "    opt_results_training =  pickle.load(f)"
   ]
  },
  {
   "cell_type": "code",
   "execution_count": null,
   "metadata": {},
   "outputs": [],
   "source": [
    "# save fig\n",
    "save_fig = True\n",
    "fig_folder = Path(\"../figures\")\n",
    "\n",
    "if save_fig:\n",
    "    fig_folder.mkdir(exist_ok=True)"
   ]
  },
  {
   "cell_type": "markdown",
   "metadata": {},
   "source": [
    "## Compare parameters \n",
    "\n",
    "Here we normalize the parameters based on the boundaries and compute the relative difference to GT."
   ]
  },
  {
   "cell_type": "code",
   "execution_count": null,
   "metadata": {},
   "outputs": [],
   "source": [
    "param_json = model_folder / \"parameters.json\"\n",
    "\n",
    "with param_json.open() as f:\n",
    "    params = json.load(f)\n",
    "\n",
    "param_boundaries = {}\n",
    "for param in params:\n",
    "    if \"bounds\" in param:\n",
    "        if isinstance(param['sectionlist'], list):\n",
    "            for sec in param['sectionlist']:\n",
    "                param_boundaries[f\"{param['param_name']}_{sec}\"] = param[\"bounds\"]\n",
    "        else:\n",
    "            sec = param['sectionlist']\n",
    "            param_boundaries[f\"{param['param_name']}_{sec}\"] = param[\"bounds\"]\n",
    "\n",
    "# scale params_release by boundaries\n",
    "params_release_norm = {}\n",
    "for param_name, param_val in params_release.items():\n",
    "    bounds = param_boundaries[param_name]\n",
    "    param_norm = (param_val - bounds[0]) / (bounds[1] - bounds[0])\n",
    "    params_release_norm[param_name] = param_norm"
   ]
  },
  {
   "cell_type": "code",
   "execution_count": null,
   "metadata": {},
   "outputs": [],
   "source": [
    "feature_set_array = []\n",
    "seed_array = []\n",
    "param_name_array = []\n",
    "param_value_array = []\n",
    "param_norm_array = []\n",
    "release_value_array = []\n",
    "release_norm_array = []\n",
    "diff_with_release_array = []\n",
    "section_array = []\n",
    "\n",
    "\n",
    "# HERE we gather data from all seeds\n",
    "for i, (index, opt) in enumerate(df_model.iterrows()):\n",
    "    params_dict = {k: v for k, v in zip(param_names, opt.best_params)}\n",
    "    for param_name, param_value in params_dict.items():\n",
    "        feature_set_array.append(opt.strategy)\n",
    "        seed_array.append(opt.seed)   \n",
    "        param_value_array.append(param_value)\n",
    "        if \"axon_initial_segment\" in param_name:\n",
    "            section_array.append(\"ais\")\n",
    "        else:\n",
    "            section_array.append(param_name.split(\"_\")[-1])\n",
    "        release_value_array.append(params_release[param_name])\n",
    "        release_norm_array.append(params_release_norm[param_name])\n",
    "        # compute norm value\n",
    "        bounds = param_boundaries[param_name]\n",
    "        param_norm = (param_value - bounds[0]) / (bounds[1] - bounds[0])\n",
    "        param_norm_array.append(param_norm)\n",
    "        diff_with_release_array.append(abs(param_norm - params_release_norm[param_name]))\n",
    "        if \"axon_initial_segment\" in param_name:\n",
    "            param_name = param_name.replace(\"axon_initial_segment\", \"ais\")\n",
    "        param_name_array.append(param_name)\n",
    "\n",
    "for param_name, param_value in params_release.items():\n",
    "    feature_set_array.append(\"GT\")\n",
    "    seed_array.append(0)\n",
    "    param_value_array.append(param_value)\n",
    "    section_array.append(param_name.split(\"_\")[-1])\n",
    "    release_value_array.append(params_release[param_name])\n",
    "    release_norm_array.append(params_release_norm[param_name])\n",
    "    # compute norm value\n",
    "    bounds = param_boundaries[param_name]\n",
    "    param_norm = (param_value - bounds[0]) / (bounds[1] - bounds[0])\n",
    "    param_norm_array.append(param_norm)\n",
    "    diff_with_release_array.append(0)\n",
    "    if \"axon_initial_segment\" in param_name:\n",
    "        param_name = param_name.replace(\"axon_initial_segment\", \"ais\")\n",
    "    param_name_array.append(param_name)\n",
    "\n",
    "df_params = pd.DataFrame({\"seed\": seed_array, \"feature_set\": feature_set_array, \n",
    "                          \"param_name\": param_name_array,\n",
    "                          \"param_value\": param_value_array, \"param_norm\": param_norm_array, \n",
    "                          \"release_value\": release_value_array, \"release_norm\": release_norm_array,\n",
    "                          \"diff_release\": diff_with_release_array, \"section\": section_array})"
   ]
  },
  {
   "cell_type": "code",
   "execution_count": null,
   "metadata": {},
   "outputs": [],
   "source": [
    "df_no_gt = df_params.query(\"feature_set != 'GT'\")"
   ]
  },
  {
   "cell_type": "code",
   "execution_count": null,
   "metadata": {},
   "outputs": [],
   "source": [
    "# overall parameter diff\n",
    "fig_all, ax_all = plt.subplots(figsize=(10, 7))\n",
    "sns.boxenplot(data=df_no_gt, y=\"feature_set\", x=\"param_norm\", ax=ax_all)\n",
    "ax_all.set_xlabel(\"Normalized parameter distance\", fontsize=15)\n",
    "ax_all.set_ylabel(\"Strategy\", fontsize=15)\n",
    "ax_all.spines[\"top\"].set_visible(False)\n",
    "ax_all.spines[\"right\"].set_visible(False)"
   ]
  },
  {
   "cell_type": "code",
   "execution_count": null,
   "metadata": {},
   "outputs": [],
   "source": [
    "if save_fig:\n",
    "    fig_all.savefig(fig_folder / \"figS3-all.pdf\")"
   ]
  },
  {
   "cell_type": "code",
   "execution_count": null,
   "metadata": {},
   "outputs": [],
   "source": [
    "section = \"somatic\"\n",
    "fig_split, ax_split = plt.subplots(figsize=(10, 7))\n",
    "sns.barplot(data=df_no_gt.query(f\"section == '{section}'\"), x=\"param_name\", y=\"param_norm\", hue=\"feature_set\",\n",
    "            orientation=\"vertical\", ax=ax_split)\n",
    "ax_split.set_ylabel(\"Normalized parameter distance\", fontsize=15)\n",
    "ax_split.set_xlabel(\"Parameter name\", fontsize=15)\n",
    "new_labels = [l.get_text()[:l.get_text().find(f\"_{section}\")] for l in ax_split.get_xticklabels()]\n",
    "ax_split.set_xticklabels(new_labels, fontsize=10, rotation=45)\n",
    "fig_split.subplots_adjust(bottom=0.3)\n",
    "ax_split.set_title(section, fontsize=20)\n",
    "ax_split.spines[\"top\"].set_visible(False)\n",
    "ax_split.spines[\"right\"].set_visible(False)\n",
    "\n",
    "fig_sec, ax_sec = plt.subplots(figsize=(10, 7))\n",
    "sns.boxenplot(data=df_no_gt.query(f\"section == '{section}'\"), y=\"feature_set\", x=\"param_norm\", ax=ax_sec)\n",
    "ax_sec.set_xlabel(\"Normalized parameter distance\", fontsize=15)\n",
    "ax_sec.set_ylabel(\"Strategy\", fontsize=15)\n",
    "ax_sec.set_title(section, fontsize=20)\n",
    "ax_sec.spines[\"top\"].set_visible(False)\n",
    "ax_sec.spines[\"right\"].set_visible(False)"
   ]
  },
  {
   "cell_type": "code",
   "execution_count": null,
   "metadata": {},
   "outputs": [],
   "source": [
    "if save_fig:\n",
    "    fig_split.savefig(fig_folder / \"figS3-soma-params.pdf\")\n",
    "    fig_sec.savefig(fig_folder / \"figS3-soma-all.pdf\")"
   ]
  },
  {
   "cell_type": "code",
   "execution_count": null,
   "metadata": {},
   "outputs": [],
   "source": [
    "section = \"apical\"\n",
    "fig_split, ax_split = plt.subplots(figsize=(10, 7))\n",
    "sns.barplot(data=df_no_gt.query(f\"section == '{section}'\"), x=\"param_name\", y=\"param_norm\", hue=\"feature_set\",\n",
    "            orientation=\"vertical\", ax=ax_split)\n",
    "ax_split.set_ylabel(\"Normalized parameter distance\", fontsize=15)\n",
    "ax_split.set_xlabel(\"Parameter name\", fontsize=15)\n",
    "new_labels = [l.get_text()[:l.get_text().find(f\"_{section}\")] for l in ax_split.get_xticklabels()]\n",
    "ax_split.set_xticklabels(new_labels, fontsize=10, rotation=45)\n",
    "fig_split.subplots_adjust(bottom=0.3)\n",
    "ax_split.set_title(section, fontsize=20)\n",
    "ax_split.spines[\"top\"].set_visible(False)\n",
    "ax_split.spines[\"right\"].set_visible(False)\n",
    "\n",
    "fig_sec, ax_sec = plt.subplots(figsize=(10, 7))\n",
    "sns.boxenplot(data=df_no_gt.query(f\"section == '{section}'\"), y=\"feature_set\", x=\"param_norm\", ax=ax_sec)\n",
    "ax_sec.set_xlabel(\"Normalized parameter distance\", fontsize=15)\n",
    "ax_sec.set_ylabel(\"Feature set\", fontsize=15)\n",
    "ax_sec.set_title(section, fontsize=20)\n",
    "ax_sec.spines[\"top\"].set_visible(False)\n",
    "ax_sec.spines[\"right\"].set_visible(False)"
   ]
  },
  {
   "cell_type": "code",
   "execution_count": null,
   "metadata": {},
   "outputs": [],
   "source": [
    "if save_fig:\n",
    "    fig_split.savefig(fig_folder / \"figS3-apical-params.pdf\")\n",
    "    fig_sec.savefig(fig_folder / \"figS3-apical-all.pdf\")"
   ]
  },
  {
   "cell_type": "code",
   "execution_count": null,
   "metadata": {},
   "outputs": [],
   "source": [
    "section = \"basal\"\n",
    "fig_split, ax_split = plt.subplots(figsize=(10, 7))\n",
    "sns.barplot(data=df_no_gt.query(f\"section == '{section}'\"), x=\"param_name\", y=\"param_norm\", hue=\"feature_set\",\n",
    "            orientation=\"vertical\", ax=ax_split)\n",
    "ax_split.set_ylabel(\"Normalized parameter distance\", fontsize=15)\n",
    "ax_split.set_xlabel(\"Parameter name\", fontsize=15)\n",
    "new_labels = [l.get_text()[:l.get_text().find(f\"_{section}\")] for l in ax_split.get_xticklabels()]\n",
    "ax_split.set_xticklabels(new_labels, fontsize=10, rotation=45)\n",
    "fig_split.subplots_adjust(bottom=0.3)\n",
    "ax_split.set_title(section, fontsize=20)\n",
    "ax_split.spines[\"top\"].set_visible(False)\n",
    "ax_split.spines[\"right\"].set_visible(False)\n",
    "\n",
    "fig_sec, ax_sec = plt.subplots(figsize=(10, 7))\n",
    "sns.boxenplot(data=df_no_gt.query(f\"section == '{section}'\"), y=\"feature_set\", x=\"param_norm\", ax=ax_sec)\n",
    "ax_sec.set_xlabel(\"Normalized parameter distance\", fontsize=15)\n",
    "ax_sec.set_ylabel(\"Feature set\", fontsize=15)\n",
    "ax_sec.set_title(section, fontsize=20)\n",
    "ax_sec.spines[\"top\"].set_visible(False)\n",
    "ax_sec.spines[\"right\"].set_visible(False)"
   ]
  },
  {
   "cell_type": "code",
   "execution_count": null,
   "metadata": {},
   "outputs": [],
   "source": [
    "if save_fig:\n",
    "    fig_split.savefig(fig_folder / \"figS3-basal-params.pdf\")\n",
    "    fig_sec.savefig(fig_folder / \"figS3-basal-all.pdf\")"
   ]
  },
  {
   "cell_type": "code",
   "execution_count": null,
   "metadata": {},
   "outputs": [],
   "source": [
    "section = \"ais\"\n",
    "fig_split, ax_split = plt.subplots(figsize=(10, 7))\n",
    "sns.barplot(data=df_no_gt.query(f\"section == '{section}'\"), x=\"param_name\", y=\"param_norm\", hue=\"feature_set\",\n",
    "            orientation=\"vertical\", ax=ax_split)\n",
    "ax_split.set_ylabel(\"Normalized parameter distance\", fontsize=15)\n",
    "ax_split.set_xlabel(\"Parameter name\", fontsize=15)\n",
    "new_labels = [l.get_text()[:l.get_text().find(f\"_{section}\")] for l in ax_split.get_xticklabels()]\n",
    "ax_split.set_xticklabels(new_labels, fontsize=10, rotation=45)\n",
    "fig_split.subplots_adjust(bottom=0.3)\n",
    "ax_split.set_title(section, fontsize=20)\n",
    "ax_split.spines[\"top\"].set_visible(False)\n",
    "ax_split.spines[\"right\"].set_visible(False)\n",
    "\n",
    "fig_sec, ax_sec = plt.subplots(figsize=(10, 7))\n",
    "sns.boxenplot(data=df_no_gt.query(f\"section == '{section}'\"), y=\"feature_set\", x=\"param_norm\", ax=ax_sec)\n",
    "ax_sec.set_xlabel(\"Normalized parameter distance\", fontsize=15)\n",
    "ax_sec.set_ylabel(\"Feature set\", fontsize=15)\n",
    "ax_sec.set_title(section, fontsize=20)\n",
    "ax_sec.spines[\"top\"].set_visible(False)\n",
    "ax_sec.spines[\"right\"].set_visible(False)"
   ]
  },
  {
   "cell_type": "code",
   "execution_count": null,
   "metadata": {},
   "outputs": [],
   "source": [
    "if save_fig:\n",
    "    fig_split.savefig(fig_folder / \"figS3-ais-params.pdf\")\n",
    "    fig_sec.savefig(fig_folder / \"figS3-ais-all.pdf\")"
   ]
  }
 ],
 "metadata": {
  "kernelspec": {
   "display_name": "Python 3 (ipykernel)",
   "language": "python",
   "name": "python3"
  },
  "language_info": {
   "codemirror_mode": {
    "name": "ipython",
    "version": 3
   },
   "file_extension": ".py",
   "mimetype": "text/x-python",
   "name": "python",
   "nbconvert_exporter": "python",
   "pygments_lexer": "ipython3",
   "version": "3.8.13"
  }
 },
 "nbformat": 4,
 "nbformat_minor": 4
}
