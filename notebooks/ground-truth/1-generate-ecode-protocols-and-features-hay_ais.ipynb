{
 "cells": [
  {
   "cell_type": "markdown",
   "metadata": {},
   "source": [
    "# Generate and save ECODE protocols and features \n",
    "\n",
    "This notebook generates E-CODE protocols, responses, and feature files to be used for optimizations."
   ]
  },
  {
   "cell_type": "code",
   "execution_count": null,
   "metadata": {},
   "outputs": [],
   "source": [
    "import json\n",
    "import matplotlib.pyplot as plt\n",
    "\n",
    "import bluepyopt as bpopt\n",
    "import bluepyopt.ephys as ephys\n",
    "\n",
    "import MEAutility as mu\n",
    "from pprint import pprint\n",
    "import time\n",
    "import numpy as np\n",
    "import neuroplotlib as nplt\n",
    "\n",
    "import multimodalfitting as mf\n",
    "\n",
    "import sys\n",
    "import shutil\n",
    "import pandas as pd\n",
    "\n",
    "from pathlib import Path\n",
    "import os\n",
    "\n",
    "%matplotlib notebook"
   ]
  },
  {
   "cell_type": "markdown",
   "metadata": {},
   "source": [
    "## 0) Define model "
   ]
  },
  {
   "cell_type": "code",
   "execution_count": null,
   "metadata": {},
   "outputs": [],
   "source": [
    "base_folder = Path(\"../..\")"
   ]
  },
  {
   "cell_type": "code",
   "execution_count": null,
   "metadata": {},
   "outputs": [],
   "source": [
    "# general\n",
    "model_name = \"hay_ais\"\n",
    "probe_type = \"planar\" # linear \n",
    "cell_models_folder = base_folder / \"cell_models\"\n",
    "model_folder = cell_models_folder / model_name\n",
    "\n",
    "fitting_folder = model_folder / \"fitting\" \n",
    "responses_folder = fitting_folder / \"responses\"\n",
    "extra_folder = fitting_folder / \"extracellular\""
   ]
  },
  {
   "cell_type": "code",
   "execution_count": null,
   "metadata": {},
   "outputs": [],
   "source": [
    "fitting_folder.is_dir()"
   ]
  },
  {
   "cell_type": "code",
   "execution_count": null,
   "metadata": {},
   "outputs": [],
   "source": [
    "extra_kwargs = mf.utils.get_extra_kwargs()"
   ]
  },
  {
   "cell_type": "markdown",
   "metadata": {},
   "source": [
    "## Define standard deviation for features"
   ]
  },
  {
   "cell_type": "code",
   "execution_count": null,
   "metadata": {},
   "outputs": [],
   "source": [
    "std_from_mean = 0.05"
   ]
  },
  {
   "cell_type": "code",
   "execution_count": null,
   "metadata": {},
   "outputs": [],
   "source": [
    "# define rheobase min step and step increment\n",
    "rheobase_compute_params = {\n",
    "    \"hay\": {\"step_min\": 0.3, \n",
    "            \"step_increment\": 0.02},\n",
    "    \"hay_ais\": {\"step_min\": 0.15, \n",
    "                \"step_increment\": 0.005},\n",
    "    \"hay_ais_hillock\": {\"step_min\": 0.15, \n",
    "                        \"step_increment\": 0.005},\n",
    "}"
   ]
  },
  {
   "cell_type": "markdown",
   "metadata": {},
   "source": [
    "## 1) Generate and run ecode protocols\n",
    "\n",
    "We first define the cell model, probe, and simulator:"
   ]
  },
  {
   "cell_type": "code",
   "execution_count": null,
   "metadata": {},
   "outputs": [],
   "source": [
    "cell = mf.create_ground_truth_model(model_name=model_name, release=True)\n",
    "cell_unfrozen = mf.create_ground_truth_model(model_name=model_name)\n",
    "\n",
    "probe = mf.define_electrode(probe_type=probe_type)\n",
    "\n",
    "sim = ephys.simulators.LFPySimulator(cell, cvode_active=True, electrode=probe,\n",
    "                                     mechanisms_directory=model_folder)\n",
    "\n",
    "param_names = sorted([param.name for param in cell_unfrozen.params.values() if not param.frozen])\n",
    "# sim = ephys.simulators.LFPySimulator(cell, cvode_active=True, electrode=probe, mechs_folders=model_folder)\n",
    "\n",
    "params_release = {}\n",
    "for param in cell.params_by_names(param_names):\n",
    "    params_release[param.name] = param.value\n",
    "pprint(params_release)"
   ]
  },
  {
   "cell_type": "code",
   "execution_count": null,
   "metadata": {},
   "outputs": [],
   "source": [
    "from multimodalfitting.ecode import compute_rheobase_for_model, generate_ecode_protocols, run_ecode_protocols,\\\n",
    "    save_intracellular_responses, save_extracellular_template"
   ]
  },
  {
   "cell_type": "markdown",
   "metadata": {},
   "source": [
    "Then we find the rheobase for the model:"
   ]
  },
  {
   "cell_type": "code",
   "execution_count": null,
   "metadata": {},
   "outputs": [],
   "source": [
    "rheobase, rheo_protocols, rheo_responses = compute_rheobase_for_model(cell, sim=sim, \n",
    "                                                                      **rheobase_compute_params[model_name])"
   ]
  },
  {
   "cell_type": "markdown",
   "metadata": {},
   "source": [
    "Given the rheobase, we can compute the correct amplitudes of the ECODE stimuli. The `IDrest_300` sweep (300% rheobase) will be used to compute extracellular action potentials, as it contains the highest number of spikes."
   ]
  },
  {
   "cell_type": "code",
   "execution_count": null,
   "metadata": {},
   "outputs": [],
   "source": [
    "ecode_protocols = generate_ecode_protocols(rheobase_current=rheobase, record_extra=True,\n",
    "                                           protocols_with_lfp=\"IDrest_300\")"
   ]
  },
  {
   "cell_type": "code",
   "execution_count": null,
   "metadata": {},
   "outputs": [],
   "source": [
    "print(f\"ECODE protocols: {list(ecode_protocols.keys())}\")"
   ]
  },
  {
   "cell_type": "markdown",
   "metadata": {},
   "source": [
    "We then simulate the responses, that we are going to be used to extract features (this might take a while...):"
   ]
  },
  {
   "cell_type": "code",
   "execution_count": null,
   "metadata": {},
   "outputs": [],
   "source": [
    "responses_dict = run_ecode_protocols(protocols=ecode_protocols, cell=cell, sim=sim, \n",
    "                                     resample_rate_khz=40)"
   ]
  },
  {
   "cell_type": "code",
   "execution_count": null,
   "metadata": {},
   "outputs": [],
   "source": [
    "save_intracellular_responses(responses_dict=responses_dict, output_folder=responses_folder)"
   ]
  },
  {
   "cell_type": "code",
   "execution_count": null,
   "metadata": {},
   "outputs": [],
   "source": [
    "eap, locations = save_extracellular_template(responses=responses_dict[\"IDrest\"], \n",
    "                                             protocols=ecode_protocols, protocol_name=\"IDrest\",\n",
    "                                             probe=probe, output_folder=extra_folder, sweep_id=10, \n",
    "                                             **extra_kwargs)"
   ]
  },
  {
   "cell_type": "markdown",
   "metadata": {},
   "source": [
    "## 2) Generate feature and protocols with BluePyEfe"
   ]
  },
  {
   "cell_type": "code",
   "execution_count": null,
   "metadata": {},
   "outputs": [],
   "source": [
    "from bluepyefe.extract import read_recordings, extract_efeatures_at_targets, compute_rheobase,\\\n",
    "    group_efeatures, create_feature_protocol_files, convert_legacy_targets\n",
    "from bluepyefe.plotting import plot_all_recordings_efeatures"
   ]
  },
  {
   "cell_type": "code",
   "execution_count": null,
   "metadata": {},
   "outputs": [],
   "source": [
    "from multimodalfitting.efeatures_extraction import build_model_metadata, model_csv_reader, get_ecode_targets"
   ]
  },
  {
   "cell_type": "code",
   "execution_count": null,
   "metadata": {},
   "outputs": [],
   "source": [
    "efeatures_output_directory = fitting_folder / \"efeatures\""
   ]
  },
  {
   "cell_type": "code",
   "execution_count": null,
   "metadata": {},
   "outputs": [],
   "source": [
    "files_metadata = build_model_metadata(cell_id=model_name, ephys_dir=responses_folder)\n",
    "pprint(files_metadata[model_name])"
   ]
  },
  {
   "cell_type": "code",
   "execution_count": null,
   "metadata": {},
   "outputs": [],
   "source": [
    "cells = read_recordings(\n",
    "    files_metadata=files_metadata,\n",
    "    recording_reader=model_csv_reader\n",
    ")"
   ]
  },
  {
   "cell_type": "markdown",
   "metadata": {},
   "source": [
    "### Define targets\n",
    "\n",
    "Targets describe the features that we want to extract from the different protocols. Some protocols require also to set the timing to extract some features on. The `get_ecode_target` function is a helper function that returns the targets for the ECODE stimuli. The target dictionary can be adjusted/modified for other kind of protocols."
   ]
  },
  {
   "cell_type": "code",
   "execution_count": null,
   "metadata": {},
   "outputs": [],
   "source": [
    "# get timing information from the ECODE protocols\n",
    "ecode_timings = mf.efeatures_extraction.ecodes_model_timings\n",
    "pprint(ecode_timings)"
   ]
  },
  {
   "cell_type": "code",
   "execution_count": null,
   "metadata": {},
   "outputs": [],
   "source": [
    "# define target features for different protocols\n",
    "targets = get_ecode_targets(ecode_timings)\n",
    "pprint(targets)"
   ]
  },
  {
   "cell_type": "code",
   "execution_count": null,
   "metadata": {},
   "outputs": [],
   "source": [
    "t_start = time.time()\n",
    "extract_efeatures_at_targets(cells, targets, \n",
    "                             efel_settings={'interp_step': 0.1, \n",
    "                                            'strict_stiminterval': True}\n",
    "                            )\n",
    "t_stop = time.time()\n",
    "print(f\"Elapsed time {t_stop - t_start}\")"
   ]
  },
  {
   "cell_type": "code",
   "execution_count": null,
   "metadata": {},
   "outputs": [],
   "source": [
    "cells[0].rheobase = rheobase\n",
    "cells[0].compute_relative_amp()"
   ]
  },
  {
   "cell_type": "code",
   "execution_count": null,
   "metadata": {},
   "outputs": [],
   "source": [
    "print(f\"Rheobase: {cells[0].rheobase}\")"
   ]
  },
  {
   "cell_type": "code",
   "execution_count": null,
   "metadata": {},
   "outputs": [],
   "source": [
    "protocols = group_efeatures(cells, targets, use_global_rheobase=True)"
   ]
  },
  {
   "cell_type": "code",
   "execution_count": null,
   "metadata": {},
   "outputs": [],
   "source": [
    "efeatures, protocol_definitions, current = create_feature_protocol_files(\n",
    "    cells,\n",
    "    protocols,\n",
    "    output_directory=efeatures_output_directory,\n",
    "    threshold_nvalue_save=1,\n",
    "    write_files=True,\n",
    ")"
   ]
  },
  {
   "cell_type": "code",
   "execution_count": null,
   "metadata": {},
   "outputs": [],
   "source": [
    "efeatures[\"IV_-20\"]"
   ]
  },
  {
   "cell_type": "markdown",
   "metadata": {},
   "source": [
    "## 3) Convert to BPO format and append extra features"
   ]
  },
  {
   "cell_type": "code",
   "execution_count": null,
   "metadata": {},
   "outputs": [],
   "source": [
    "from multimodalfitting.efeatures_extraction import compute_extra_features, convert_to_bpo_format,\\\n",
    "    append_extrafeatures_to_json"
   ]
  },
  {
   "cell_type": "markdown",
   "metadata": {},
   "source": [
    "We can now define the protocols we want to use for optimization:"
   ]
  },
  {
   "cell_type": "code",
   "execution_count": null,
   "metadata": {},
   "outputs": [],
   "source": [
    "protocols_of_interest = [\"IDrest_150\", \"IDrest_250\", \"IDrest_300\", \"IV_-100\", \"IV_-20\", \"APWaveform_290\"]\n",
    "exclude_features = {\"IV_-20\": ['sag_amplitude', 'sag_ratio1', 'sag_ratio2']}\n",
    "\n",
    "in_protocol_path = efeatures_output_directory / \"protocols.json\"\n",
    "in_efeatures_path = efeatures_output_directory / \"features.json\""
   ]
  },
  {
   "cell_type": "markdown",
   "metadata": {},
   "source": [
    "### 3.1) \"soma\" strategy"
   ]
  },
  {
   "cell_type": "code",
   "execution_count": null,
   "metadata": {},
   "outputs": [],
   "source": [
    "out_protocol_path_soma = efeatures_output_directory / \"protocols_BPO_soma.json\"\n",
    "out_efeatures_path_soma = efeatures_output_directory / \"features_BPO_soma.json\""
   ]
  },
  {
   "cell_type": "code",
   "execution_count": null,
   "metadata": {},
   "outputs": [],
   "source": [
    "protocols_dict_soma, efeatures_dict_soma = convert_to_bpo_format(in_protocol_path, in_efeatures_path, \n",
    "                                                                 out_protocol_path_soma, \n",
    "                                                                 out_efeatures_path_soma, \n",
    "                                                                 protocols_of_interest=protocols_of_interest, \n",
    "                                                                 exclude_features=exclude_features,\n",
    "                                                                 std_from_mean=std_from_mean)"
   ]
  },
  {
   "cell_type": "code",
   "execution_count": null,
   "metadata": {},
   "outputs": [],
   "source": [
    "efeatures_dict_soma[\"IV_-20\"]"
   ]
  },
  {
   "cell_type": "markdown",
   "metadata": {},
   "source": [
    "### 3.2) \"all\" strategy"
   ]
  },
  {
   "cell_type": "code",
   "execution_count": null,
   "metadata": {},
   "outputs": [],
   "source": [
    "# append MEA.LFP features\n",
    "eap = np.load(fitting_folder / \"extracellular\" / \"template.npy\")\n",
    "fs = np.load(fitting_folder / \"extracellular\" / \"fs.npy\")\n",
    "locations = np.load(fitting_folder / \"extracellular\" / \"locations.npy\")"
   ]
  },
  {
   "cell_type": "code",
   "execution_count": null,
   "metadata": {},
   "outputs": [],
   "source": [
    "eap_norm = eap / np.max(np.abs(eap), 1, keepdims=True)\n",
    "# vscale = 2\n",
    "ax = mu.plot_mea_recording(eap, probe)"
   ]
  },
  {
   "cell_type": "code",
   "execution_count": null,
   "metadata": {},
   "outputs": [],
   "source": [
    "extra_features = compute_extra_features(eap, fs, upsample=10)"
   ]
  },
  {
   "cell_type": "code",
   "execution_count": null,
   "metadata": {},
   "outputs": [],
   "source": [
    "out_protocol_path_all = efeatures_output_directory / \"protocols_BPO_all.json\"\n",
    "out_efeatures_path_all = efeatures_output_directory / \"features_BPO_all.json\""
   ]
  },
  {
   "cell_type": "code",
   "execution_count": null,
   "metadata": {},
   "outputs": [],
   "source": [
    "protocols_dict_all, efeatures_dict_all = convert_to_bpo_format(in_protocol_path, in_efeatures_path, \n",
    "                                                               out_protocol_path_all, \n",
    "                                                               out_efeatures_path_all, \n",
    "                                                               protocols_of_interest=protocols_of_interest, \n",
    "                                                               exclude_features=exclude_features,\n",
    "                                                               std_from_mean=std_from_mean)"
   ]
  },
  {
   "cell_type": "code",
   "execution_count": null,
   "metadata": {},
   "outputs": [],
   "source": [
    "extrafeatures_dict_all = append_extrafeatures_to_json(extra_features, protocol_name=\"IDrest_300\",\n",
    "                                                      efeatures_dict=efeatures_dict_all,\n",
    "                                                      efeatures_path=out_efeatures_path_all, \n",
    "                                                      channel_ids=None,\n",
    "                                                      single_channel_features=False, \n",
    "                                                      std_from_mean=None)"
   ]
  },
  {
   "cell_type": "code",
   "execution_count": null,
   "metadata": {},
   "outputs": [],
   "source": [
    "# check MEA features\n",
    "pprint(extrafeatures_dict_all[\"IDrest_300\"][\"MEA\"])"
   ]
  },
  {
   "cell_type": "code",
   "execution_count": null,
   "metadata": {},
   "outputs": [],
   "source": [
    "probe_info = probe.info\n",
    "probe_info[\"center\"] = False\n",
    "probe_info[\"pos\"] = list([list(pos) for pos in probe.positions])\n",
    "pprint(probe_info)"
   ]
  },
  {
   "cell_type": "code",
   "execution_count": null,
   "metadata": {},
   "outputs": [],
   "source": [
    "json.dump(probe_info, (efeatures_output_directory / \"probe_BPO.json\").open(\"w\"))\n",
    "np.save(efeatures_output_directory / \"template_BPO.npy\", eap)"
   ]
  },
  {
   "cell_type": "code",
   "execution_count": null,
   "metadata": {},
   "outputs": [],
   "source": [
    "# plot one extra features\n",
    "f = mf.plot_feature_map_w_colorbar(extra_features[\"peak_to_valley\"], probe, \n",
    "                                   feature_name=\"pos_image\", label=\"time (s)\")"
   ]
  },
  {
   "cell_type": "markdown",
   "metadata": {},
   "source": [
    "### 3.3) \"single\" strategy"
   ]
  },
  {
   "cell_type": "code",
   "execution_count": null,
   "metadata": {},
   "outputs": [],
   "source": [
    "out_protocol_path_single = efeatures_output_directory / \"protocols_BPO_single.json\"\n",
    "out_efeatures_path_single = efeatures_output_directory / \"features_BPO_single.json\""
   ]
  },
  {
   "cell_type": "code",
   "execution_count": null,
   "metadata": {},
   "outputs": [],
   "source": [
    "protocols_dict_single, efeatures_dict_single = convert_to_bpo_format(in_protocol_path, in_efeatures_path, \n",
    "                                                                     out_protocol_path_single, \n",
    "                                                                     out_efeatures_path_single, \n",
    "                                                                     protocols_of_interest=protocols_of_interest, \n",
    "                                                                     exclude_features=exclude_features,\n",
    "                                                                     std_from_mean=std_from_mean)"
   ]
  },
  {
   "cell_type": "code",
   "execution_count": null,
   "metadata": {},
   "outputs": [],
   "source": [
    "# channel_ids_single = mf.select_single_channels(cell, sim, probe)"
   ]
  },
  {
   "cell_type": "code",
   "execution_count": null,
   "metadata": {},
   "outputs": [],
   "source": [
    "channel_ids_single = [36, 28, 23, 42, 43, 64, 2]"
   ]
  },
  {
   "cell_type": "code",
   "execution_count": null,
   "metadata": {},
   "outputs": [],
   "source": [
    "channel_ids_single"
   ]
  },
  {
   "cell_type": "code",
   "execution_count": null,
   "metadata": {},
   "outputs": [],
   "source": [
    "extrafeatures_dict_single = append_extrafeatures_to_json(extra_features, protocol_name=\"IDrest_300\",\n",
    "                                                         efeatures_dict=efeatures_dict_single,\n",
    "                                                         efeatures_path=out_efeatures_path_single, \n",
    "                                                         channel_ids=channel_ids_single,\n",
    "                                                         single_channel_features=True, \n",
    "                                                         std_from_mean=std_from_mean)"
   ]
  },
  {
   "cell_type": "code",
   "execution_count": null,
   "metadata": {},
   "outputs": [],
   "source": [
    "pprint(extrafeatures_dict_single[\"IDrest_300\"][\"MEA\"])"
   ]
  },
  {
   "cell_type": "markdown",
   "metadata": {},
   "source": [
    "### 3.4) \"sections\" strategy"
   ]
  },
  {
   "cell_type": "code",
   "execution_count": null,
   "metadata": {},
   "outputs": [],
   "source": [
    "out_protocol_path_sections = efeatures_output_directory / \"protocols_BPO_sections.json\"\n",
    "out_efeatures_path_sections = efeatures_output_directory / \"features_BPO_sections.json\""
   ]
  },
  {
   "cell_type": "code",
   "execution_count": null,
   "metadata": {},
   "outputs": [],
   "source": [
    "protocols_dict_sections, efeatures_dict_sections = convert_to_bpo_format(in_protocol_path, in_efeatures_path, \n",
    "                                                                         out_protocol_path_sections, \n",
    "                                                                         out_efeatures_path_sections, \n",
    "                                                                         protocols_of_interest=protocols_of_interest, \n",
    "                                                                         exclude_features=exclude_features,\n",
    "                                                                         std_from_mean=std_from_mean)"
   ]
  },
  {
   "cell_type": "code",
   "execution_count": null,
   "metadata": {},
   "outputs": [],
   "source": [
    "# channel_ids_sections = mf.select_mea_sections(cell, sim, probe)"
   ]
  },
  {
   "cell_type": "code",
   "execution_count": null,
   "metadata": {},
   "outputs": [],
   "source": [
    "channel_ids_sections = [[34, 35, 36, 37, 54, 55, 56, 57],\n",
    "                        [25, 26, 27, 28, 45, 46, 47, 48],\n",
    "                        [2, 22, 23, 24, 42, 43, 44, 64]]"
   ]
  },
  {
   "cell_type": "code",
   "execution_count": null,
   "metadata": {},
   "outputs": [],
   "source": [
    "channel_ids_sections"
   ]
  },
  {
   "cell_type": "code",
   "execution_count": null,
   "metadata": {},
   "outputs": [],
   "source": [
    "extrafeatures_dict_sections = append_extrafeatures_to_json(extra_features, protocol_name=\"IDrest_300\",\n",
    "                                                           efeatures_dict=efeatures_dict_sections,\n",
    "                                                           efeatures_path=out_efeatures_path_sections, \n",
    "                                                           channel_ids=channel_ids_sections,\n",
    "                                                           single_channel_features=False, \n",
    "                                                           std_from_mean=None)"
   ]
  },
  {
   "cell_type": "code",
   "execution_count": null,
   "metadata": {},
   "outputs": [],
   "source": [
    "pprint(extrafeatures_dict_sections[\"IDrest_300\"][\"soma\"])"
   ]
  },
  {
   "cell_type": "markdown",
   "metadata": {},
   "source": [
    "### channel selection plot"
   ]
  },
  {
   "cell_type": "code",
   "execution_count": null,
   "metadata": {},
   "outputs": [],
   "source": [
    "from matplotlib.patches import Ellipse, Rectangle"
   ]
  },
  {
   "cell_type": "code",
   "execution_count": null,
   "metadata": {},
   "outputs": [],
   "source": [
    "probe.info"
   ]
  },
  {
   "cell_type": "code",
   "execution_count": null,
   "metadata": {},
   "outputs": [],
   "source": [
    "fig_single, ax_single = plt.subplots()\n",
    "\n",
    "for pos in probe.positions:\n",
    "    rect = Rectangle(xy=pos[:2] - probe.info[\"size\"], width=probe.info[\"size\"],\n",
    "                     height=probe.info[\"size\"], edgecolor=f\"orange\",\n",
    "                     fc=f\"orange\", lw=1, alpha=0.7)\n",
    "    ax_single.add_patch(rect)\n",
    "\n",
    "mf.plot_cell(cell, sim, detailed=False, exclude_sections=[\"soma\"], ax=ax_single)\n",
    "ellipse = Ellipse(xy=(0, 0), width=15, height=15, \n",
    "                  edgecolor=\"grey\", color=\"grey\", lw=2)\n",
    "ax_single.add_patch(ellipse)\n",
    "\n",
    "for i, chan in enumerate(channel_ids_single):\n",
    "    rect = Rectangle(xy=probe.positions[chan] - probe.info[\"size\"], width=probe.info[\"size\"] * 2,\n",
    "                     height=probe.info[\"size\"] * 2, edgecolor=f\"C{i}\",\n",
    "                     fc=f\"C{i}\", lw=3, label=f\"Channel {chan}\")\n",
    "    ax_single.add_patch(rect)\n",
    "ax_single.legend()\n",
    "ax_single.set_xlim(-150, 150)\n",
    "ax_single.set_ylim(-200, 800)\n"
   ]
  },
  {
   "cell_type": "code",
   "execution_count": null,
   "metadata": {},
   "outputs": [],
   "source": [
    "fig_sections, ax_sections = plt.subplots()\n",
    "\n",
    "for pos in probe.positions:\n",
    "    rect = Rectangle(xy=pos[:2] - probe.info[\"size\"], width=probe.info[\"size\"],\n",
    "                     height=probe.info[\"size\"], edgecolor=f\"orange\",\n",
    "                     fc=f\"orange\", lw=1, alpha=0.7)\n",
    "    ax_sections.add_patch(rect)\n",
    "\n",
    "mf.plot_cell(cell, sim, detailed=False, exclude_sections=[\"soma\"], ax=ax_sections)\n",
    "ellipse = Ellipse(xy=(0, 0), width=15, height=15, \n",
    "                  edgecolor=\"grey\", color=\"grey\", lw=2)\n",
    "ax_sections.add_patch(ellipse)\n",
    "\n",
    "for i, chan_sect in enumerate(channel_ids_sections):\n",
    "    for c, chan in enumerate(chan_sect):\n",
    "        if c == 0:\n",
    "            label = f\"Section {i}\"\n",
    "        else:\n",
    "            label = None\n",
    "        rect = Rectangle(xy=probe.positions[chan] - probe.info[\"size\"], width=probe.info[\"size\"] * 2,\n",
    "                         height=probe.info[\"size\"] * 2, edgecolor=f\"C{i}\",\n",
    "                         fc=f\"C{i}\", lw=2, label=label)\n",
    "        ax_sections.add_patch(rect)\n",
    "ax_sections.legend()\n",
    "ax_sections.set_xlim(-150, 150)\n",
    "ax_sections.set_ylim(-200, 800)\n"
   ]
  },
  {
   "cell_type": "code",
   "execution_count": null,
   "metadata": {},
   "outputs": [],
   "source": [
    "fig_single.savefig(\"single_GT.pdf\")\n",
    "fig_sections.savefig(\"sections_GT.pdf\")"
   ]
  }
 ],
 "metadata": {
  "kernelspec": {
   "display_name": "Python 3 (ipykernel)",
   "language": "python",
   "name": "python3"
  },
  "language_info": {
   "codemirror_mode": {
    "name": "ipython",
    "version": 3
   },
   "file_extension": ".py",
   "mimetype": "text/x-python",
   "name": "python",
   "nbconvert_exporter": "python",
   "pygments_lexer": "ipython3",
   "version": "3.8.13"
  }
 },
 "nbformat": 4,
 "nbformat_minor": 4
}
