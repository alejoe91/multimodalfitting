{
 "cells": [
  {
   "cell_type": "markdown",
   "metadata": {},
   "source": [
    "# 3) Analyze and evaluate optimization output - TEST PROTOCOLS\n",
    "\n",
    "This final notebook uses the `runs.pkl` file created in notebook 2 and it analyzes:\n",
    "\n",
    "- the distance between different strategies in the feature space - test protocols\n"
   ]
  },
  {
   "cell_type": "code",
   "execution_count": null,
   "metadata": {},
   "outputs": [],
   "source": [
    "import pickle\n",
    "import pandas as pd\n",
    "import seaborn as sns\n",
    "import sys\n",
    "import shutil\n",
    "\n",
    "import bluepyopt as bpopt\n",
    "import bluepyopt.ephys as ephys\n",
    "\n",
    "import matplotlib.pyplot as plt\n",
    "from scipy.spatial import distance\n",
    "import MEAutility as mu\n",
    "import json\n",
    "import time\n",
    "import numpy as np\n",
    "from pathlib import Path\n",
    "from pprint import pprint\n",
    "from tqdm import tqdm\n",
    "\n",
    "from scipy.stats import kruskal, mannwhitneyu, wilcoxon\n",
    "\n",
    "import multimodalfitting as mf\n",
    "\n",
    "%matplotlib notebook"
   ]
  },
  {
   "cell_type": "code",
   "execution_count": null,
   "metadata": {},
   "outputs": [],
   "source": [
    "save_fig = True\n",
    "figure_folder = Path(\".\") / \"figures_hay_ais\"\n",
    "# figure_folder = Path(\"/Users/damart/Desktop/LFP\") / \"figures\"\n",
    "\n",
    "if save_fig:\n",
    "    figure_folder.mkdir(exist_ok=True)"
   ]
  },
  {
   "cell_type": "code",
   "execution_count": null,
   "metadata": {},
   "outputs": [],
   "source": [
    "base_dir = Path(\"../..\")"
   ]
  },
  {
   "cell_type": "code",
   "execution_count": null,
   "metadata": {},
   "outputs": [],
   "source": [
    "colors_dict = {\"soma\": \"C0\",\n",
    "               \"all\": \"C1\",\n",
    "               \"sections\": \"C2\",\n",
    "               \"single\": \"C3\"}\n",
    "feature_sets = {\"soma\": \"soma\",\n",
    "                \"all\": \"extra\",\n",
    "                \"sections\": \"extra\",\n",
    "                \"single\": \"extra\"}\n",
    "figsize = (10, 7)"
   ]
  },
  {
   "cell_type": "markdown",
   "metadata": {},
   "source": [
    "## Load GT params and optimization output"
   ]
  },
  {
   "cell_type": "code",
   "execution_count": null,
   "metadata": {},
   "outputs": [],
   "source": [
    "# general\n",
    "model_name = \"hay_ais\"\n",
    "probe_type = \"planar\" # linear \n",
    "\n",
    "cell_models_folder = base_dir / \"cell_models\"\n",
    "model_folder = cell_models_folder / model_name\n",
    "probe_file = model_folder / \"fitting\" / \"efeatures\" / \"probe_BPO.json\""
   ]
  },
  {
   "cell_type": "code",
   "execution_count": null,
   "metadata": {},
   "outputs": [],
   "source": [
    "# result_folder = Path(\"../../\")\n",
    "result_folder = base_dir / \"results\" / \"220429\""
   ]
  },
  {
   "cell_type": "code",
   "execution_count": null,
   "metadata": {},
   "outputs": [],
   "source": [
    "cell = mf.create_ground_truth_model(model_name=model_name,\n",
    "                                    release=False)\n",
    "cell_release = mf.create_ground_truth_model(model_name=model_name,\n",
    "                                            release=True)\n",
    "\n",
    "probe = mf.define_electrode(probe_file=probe_file)\n",
    "\n",
    "param_names = [param.name for param in cell.params.values() if not param.frozen]\n",
    "\n",
    "params_release = {}\n",
    "for param in cell_release.params_by_names(param_names):\n",
    "    params_release[param.name] = param.value"
   ]
  },
  {
   "cell_type": "code",
   "execution_count": null,
   "metadata": {},
   "outputs": [],
   "source": [
    "protocol_for_eap = \"firepattern_120\""
   ]
  },
  {
   "cell_type": "code",
   "execution_count": null,
   "metadata": {},
   "outputs": [],
   "source": [
    "pkl_file_name = \"runs.pkl\""
   ]
  },
  {
   "cell_type": "code",
   "execution_count": null,
   "metadata": {},
   "outputs": [],
   "source": [
    "data = pickle.load(open(result_folder / pkl_file_name, 'rb'))\n",
    "df_optimization = pd.DataFrame(data)\n",
    "df_model = df_optimization.query(f\"model == '{model_name}'\")\n",
    "\n",
    "opt_results_training = None\n",
    "results_file = f\"opt_results_training_{model_name}.pkl\"\n",
    "if (result_folder / results_file).is_file():\n",
    "    with open(result_folder / results_file, 'rb') as f:\n",
    "        opt_results_training = pickle.load(f)\n",
    "else:\n",
    "    raise Exception(f\"Couldn't fint result file: {results_file}. Run notebook 3a first!\")\n",
    "\n",
    "opt_results_test = None\n",
    "results_test_file = f\"opt_results_test_{model_name}.pkl\"\n",
    "if (result_folder / results_test_file).is_file():\n",
    "    with open(result_folder / results_test_file, 'rb') as f:\n",
    "        opt_results_test = pickle.load(f)\n",
    "        compute_responses = False\n",
    "else:\n",
    "    compute_responses = True"
   ]
  },
  {
   "cell_type": "code",
   "execution_count": null,
   "metadata": {},
   "outputs": [],
   "source": [
    "compute_responses"
   ]
  },
  {
   "cell_type": "code",
   "execution_count": null,
   "metadata": {},
   "outputs": [],
   "source": [
    "fig, ax = plt.subplots()\n",
    "min_evals = 3000\n",
    "color_strategy = {\"all\": \"C1\", \"sections\": \"C2\", \"single\": \"C3\"}\n",
    "\n",
    "keep_idxs = []\n",
    "for idx, row in df_model.iterrows():\n",
    "    if max(row[\"nevals\"]) > min_evals:\n",
    "        keep_idxs.append(idx)\n",
    "        ax.plot(row[\"nevals\"], \n",
    "                row[\"logbook\"].select(\"min\"),\n",
    "                color=colors_dict[row[\"strategy\"]],\n",
    "                ls='-', \n",
    "                lw=0.8,\n",
    "                alpha=0.75)\n",
    "    else:\n",
    "        ax.plot(row[\"nevals\"], \n",
    "                row[\"logbook\"].select(\"min\"),\n",
    "                color=colors_dict[row[\"strategy\"]],\n",
    "                ls='--', \n",
    "                lw=0.5,\n",
    "                alpha=0.75)\n",
    "\n",
    "ax.set_title(\"Min fitness\")\n",
    "ax.spines[\"top\"].set_visible(False)\n",
    "ax.spines[\"right\"].set_visible(False)\n",
    "ax.set_xlabel(\"Neval\")\n",
    "ax.set_ylabel(\"Min fitness\")\n",
    "ax.set_yscale('log')"
   ]
  },
  {
   "cell_type": "markdown",
   "metadata": {},
   "source": [
    "# Load protocols and original features"
   ]
  },
  {
   "cell_type": "code",
   "execution_count": null,
   "metadata": {},
   "outputs": [],
   "source": [
    "extra_kwargs = mf.utils.get_extra_kwargs()\n",
    "extra_kwargs"
   ]
  },
  {
   "cell_type": "code",
   "execution_count": null,
   "metadata": {},
   "outputs": [],
   "source": [
    "protocols_used_for_opt = [\"IV_-20\", \"IV_-100\", \"IDrest_150\", \"IDrest_250\", \"IDrest_300\",\n",
    "                          \"APWaveform_260\"]"
   ]
  },
  {
   "cell_type": "code",
   "execution_count": null,
   "metadata": {},
   "outputs": [],
   "source": [
    "protocols_to_exclude = [\"IV\", \"APWaveform\", \"IDrest\"]"
   ]
  },
  {
   "cell_type": "code",
   "execution_count": null,
   "metadata": {},
   "outputs": [],
   "source": [
    "print(model_name)\n",
    "\n",
    "eva_extra = mf.create_evaluator(\n",
    "    model_name=model_name,\n",
    "    strategy=\"all\",\n",
    "    protocols_with_lfp=protocol_for_eap,\n",
    "    all_protocols=True,\n",
    "    exclude_protocols=protocols_to_exclude,\n",
    "    **extra_kwargs\n",
    ")"
   ]
  },
  {
   "cell_type": "code",
   "execution_count": null,
   "metadata": {},
   "outputs": [],
   "source": [
    "print(f\"All test features --> num features {len(eva_extra.fitness_calculator.objectives)}\")"
   ]
  },
  {
   "cell_type": "markdown",
   "metadata": {},
   "source": [
    "# Compute release responses"
   ]
  },
  {
   "cell_type": "code",
   "execution_count": null,
   "metadata": {},
   "outputs": [],
   "source": [
    "t_start = time.time()\n",
    "responses_release = eva_extra.run_protocols(eva_extra.fitness_protocols.values(), \n",
    "                                            param_values=params_release)\n",
    "t_stop = time.time()\n",
    "print(f\"Simulated responses in {np.round(t_stop - t_start, 2)} s\")"
   ]
  },
  {
   "cell_type": "code",
   "execution_count": null,
   "metadata": {},
   "outputs": [],
   "source": [
    "eap_release = mf.utils.calculate_eap(responses=responses_release, \n",
    "                                     protocols=eva_extra.fitness_protocols, \n",
    "                                     protocol_name=protocol_for_eap, **extra_kwargs)\n",
    "\n",
    "# compute extracellular features\n",
    "std_from_mean = 0.05\n",
    "extra_features = mf.efeatures_extraction.compute_extra_features(\n",
    "    eap_release, fs=extra_kwargs[\"fs\"],\n",
    "    upsample=extra_kwargs[\"upsample\"])"
   ]
  },
  {
   "cell_type": "code",
   "execution_count": null,
   "metadata": {},
   "outputs": [],
   "source": [
    "features_release = {}\n",
    "for i in tqdm(np.arange(len(eva_extra.fitness_calculator.objectives)), \n",
    "              desc=\"computing features\"):\n",
    "    obj = eva_extra.fitness_calculator.objectives[i]\n",
    "    features_release[obj.features[0].name] = {}\n",
    "    if len(obj.features) == 1:\n",
    "        feat = obj.features[0]\n",
    "        feat_value = feat.calculate_feature(responses_release)\n",
    "        feat_score = feat.calculate_score(responses_release)\n",
    "        features_release[feat.name][\"value\"] = feat_value\n",
    "    else:\n",
    "        print(f\"More than one feature for objective: {obj.name}\")\n",
    "\n",
    "# add extra features\n",
    "for efeat_name, feat in extra_features.items():\n",
    "    for chan, feat_val in enumerate(feat):\n",
    "        fature_name = f\"{protocol_for_eap}.MEA.{efeat_name}_{chan}\"\n",
    "        features_release[fature_name] = {}\n",
    "        features_release[fature_name][\"value\"] = feat_val"
   ]
  },
  {
   "cell_type": "code",
   "execution_count": null,
   "metadata": {},
   "outputs": [],
   "source": [
    "fig_gt_intra = mf.plot_responses(responses_release, color=\"k\", return_fig=True, max_rows=3)"
   ]
  },
  {
   "cell_type": "code",
   "execution_count": null,
   "metadata": {},
   "outputs": [],
   "source": [
    "fig, ax_fr = plt.subplots()\n",
    "ax_fr.plot(responses_release[\"firepattern_200.soma.v\"][\"time\"], \n",
    "           responses_release[\"firepattern_200.soma.v\"][\"voltage\"],\n",
    "           color=\"k\")\n",
    "ax_fr.axis(\"off\")"
   ]
  },
  {
   "cell_type": "code",
   "execution_count": null,
   "metadata": {},
   "outputs": [],
   "source": [
    "# fig.savefig(\"/Users/abuccino/Documents/Submissions/papers/multimodal/model.png\", dpi=300, transparent=True)"
   ]
  },
  {
   "cell_type": "code",
   "execution_count": null,
   "metadata": {},
   "outputs": [],
   "source": [
    "if save_fig:\n",
    "    fig_gt_intra.savefig(figure_folder / \"gt_intra.pdf\")\n",
    "    #fig_gt_extra.savefig(figure_folder / \"gt_extra.pdf\")"
   ]
  },
  {
   "cell_type": "markdown",
   "metadata": {},
   "source": [
    "# Compute and plot best responses"
   ]
  },
  {
   "cell_type": "code",
   "execution_count": null,
   "metadata": {},
   "outputs": [],
   "source": [
    "max_feature_value = 50\n",
    "if compute_responses:\n",
    "    opt_results_test = {}"
   ]
  },
  {
   "cell_type": "code",
   "execution_count": null,
   "metadata": {},
   "outputs": [],
   "source": [
    "strategies = [\"soma\", \"all\", \"sections\", \"single\"]"
   ]
  },
  {
   "cell_type": "code",
   "execution_count": null,
   "metadata": {},
   "outputs": [],
   "source": [
    "if compute_responses:\n",
    "    for strategy in strategies:\n",
    "        opt_results_test[strategy] = {}\n",
    "        print(f\"Simulating best '{strategy}' -- seed: {opt_results_training[strategy]['best_seed']}\")\n",
    "        best_params = opt_results_training[strategy][\"best_params\"]\n",
    "        t_start = time.time()\n",
    "        responses = eva_extra.run_protocols(eva_extra.fitness_protocols.values(), \n",
    "                                            param_values=best_params)\n",
    "        eap = mf.utils.calculate_eap(responses=responses, protocols=eva_extra.fitness_protocols, \n",
    "                                     protocol_name=protocol_for_eap, **extra_kwargs)\n",
    "        t_stop = time.time()\n",
    "        print(f\"Simulated responses in {np.round(t_stop - t_start, 2)} s\")\n",
    "        eap_release_norm = eap_release / np.ptp(np.abs(eap_release), 1, keepdims=True)\n",
    "        eap_norm = eap / np.ptp(np.abs(eap), 1, keepdims=True)\n",
    "        eap_dist = np.sum(np.abs(eap_release_norm.ravel() - eap_norm.ravel()))\n",
    "        opt_results_test[strategy][\"eap_dist\"] = eap_dist\n",
    "        opt_results_test[strategy][\"responses\"] = responses\n",
    "        opt_results_test[strategy][\"eap\"] = eap    "
   ]
  },
  {
   "cell_type": "code",
   "execution_count": null,
   "metadata": {},
   "outputs": [],
   "source": [
    "feat_objectives = [obj.features[0].name for obj in eva_extra.fitness_calculator.objectives]"
   ]
  },
  {
   "cell_type": "code",
   "execution_count": null,
   "metadata": {},
   "outputs": [],
   "source": [
    "if compute_responses:\n",
    "    for strategy in strategies:\n",
    "        responses = opt_results_test[strategy][\"responses\"]\n",
    "        eap = opt_results_test[strategy][\"eap\"]\n",
    "        extra_features_strategy = mf.efeatures_extraction.compute_extra_features(\n",
    "                                        eap, fs=extra_kwargs[\"fs\"],\n",
    "                                        upsample=extra_kwargs[\"upsample\"])\n",
    "        opt_results_test[strategy][\"extra_features\"] = extra_features_strategy\n",
    "\n",
    "        features_best = {}\n",
    "        feat_release_keys = list(features_release.keys())\n",
    "        for i in tqdm(np.arange(len(feat_release_keys)), desc=f\"computing features {strategy}\"):\n",
    "\n",
    "            feat_name = feat_release_keys[i]\n",
    "            features_best[feat_name] = {}\n",
    "            \n",
    "            release_value = features_release[feat_name][\"value\"]\n",
    "\n",
    "            if feat_name in feat_objectives:\n",
    "                feat = eva_extra.fitness_calculator.objectives[feat_objectives.index(feat_name)].features[0]\n",
    "\n",
    "                feat_value = feat.calculate_feature(responses)\n",
    "                if feat_value is None:\n",
    "                    feat_value = max_feature_value\n",
    "\n",
    "                feat_score = np.abs(release_value - feat_value) / np.abs(std_from_mean * release_value)\n",
    "\n",
    "            else:\n",
    "                # extra\n",
    "                _, _, efeat_full = feat_name.split(\".\")\n",
    "                efeat_split = efeat_full.split(\"_\")\n",
    "                chan = int(efeat_split[-1])\n",
    "                efeat = \"_\".join(efeat_split[:-1])\n",
    "\n",
    "                feat_value = extra_features_strategy[efeat][chan]\n",
    "\n",
    "                if release_value != 0:\n",
    "                    feat_score = abs(feat_value - release_value) / abs(std_from_mean * release_value)\n",
    "                else:                    \n",
    "                    feat_score = abs(feat_value - release_value)\n",
    "\n",
    "            features_best[feat_name] = {\"value\": feat_value, \"score\": feat_score}\n",
    "\n",
    "        opt_results_test[strategy][\"features\"] = features_best"
   ]
  },
  {
   "cell_type": "code",
   "execution_count": null,
   "metadata": {},
   "outputs": [],
   "source": [
    "protocols_to_plot = [\"firepattern_200\", \"HyperDepol_-160\", \"HyperDepol_-40\", \n",
    "                     \"sAHP_250\", \"PosCheops_300\"]\n",
    "titles = protocols_to_plot\n",
    "figs_intra = {}\n",
    "for strategy in strategies:\n",
    "    responses_to_plot = [responses_release, opt_results_test[strategy][\"responses\"]]\n",
    "    colors = [\"k\", colors_dict[strategy]]\n",
    "    labels = [\"GT\", strategy.upper()]\n",
    "    fig = mf.plot_multiple_responses(responses_to_plot, \n",
    "                                    colors=colors, return_fig=True, \n",
    "                                    protocol_names=protocols_to_plot,\n",
    "                                    titles=titles,\n",
    "                                    figsize=(7, 12))\n",
    "    figs_intra[strategy] = fig"
   ]
  },
  {
   "cell_type": "code",
   "execution_count": null,
   "metadata": {},
   "outputs": [],
   "source": [
    "mf.plot_cell(eva_extra.cell_model, eva_extra.sim, param_values=params_release,\n",
    "             detailed=False, exclude_sections=[\"soma\"], \n",
    "             alpha=0.1, color=\"gray\")"
   ]
  },
  {
   "cell_type": "code",
   "execution_count": null,
   "metadata": {},
   "outputs": [],
   "source": [
    "from matplotlib.patches import Ellipse, Rectangle\n",
    "alpha = 0.3"
   ]
  },
  {
   "cell_type": "code",
   "execution_count": null,
   "metadata": {},
   "outputs": [],
   "source": [
    "figs_extra = {}\n",
    "axs_extra = {}\n",
    "for strategy in strategies:\n",
    "    responses = opt_results_test[strategy][\"responses\"]\n",
    "    responses_to_plot = [responses_release, responses]\n",
    "    colors = [\"k\", colors_dict[strategy]]\n",
    "    labels = [\"GT\", strategy.upper()]\n",
    "    ax_extra = mf.plot_multiple_eaps(responses_to_plot, \n",
    "                                     eva_extra.fitness_protocols, probe,\n",
    "                                     protocol_name=protocol_for_eap, \n",
    "                                     colors=colors, #labels=labels, \n",
    "                                     norm=True)\n",
    "    \n",
    "    mf.plot_cell(eva_extra.cell_model, eva_extra.sim, param_values=params_release,\n",
    "                 detailed=False, exclude_sections=[\"soma\"], \n",
    "                 ax=ax_extra, alpha=alpha, color=\"gray\")\n",
    "    ellipse = Ellipse(xy=(0, 0), width=15, height=15, \n",
    "                      edgecolor=\"grey\", color=\"grey\", lw=2, alpha=alpha)\n",
    "    ax_extra.add_patch(ellipse)\n",
    "    \n",
    "    ax_extra.set_xlim(-120, 120)\n",
    "    ax_extra.set_ylim(-210, 815)\n",
    "    \n",
    "    fig = ax_extra.get_figure()\n",
    "    figs_extra[strategy] = fig\n",
    "    axs_extra[strategy] = ax_extra"
   ]
  },
  {
   "cell_type": "code",
   "execution_count": null,
   "metadata": {},
   "outputs": [],
   "source": [
    "axs_extra[\"single\"].set_xlim(-120, 120)\n",
    "axs_extra[\"single\"].set_ylim(-210, 815)"
   ]
  },
  {
   "cell_type": "code",
   "execution_count": null,
   "metadata": {},
   "outputs": [],
   "source": [
    "figs_extra[strategy].savefig(figure_folder / f\"extra_{strategy}.png\", dpi=300)        \n",
    "figs_extra[strategy].savefig(figure_folder / f\"extra_{strategy}.pdf\")   "
   ]
  },
  {
   "cell_type": "code",
   "execution_count": null,
   "metadata": {},
   "outputs": [],
   "source": [
    "if save_fig:\n",
    "    for strategy in figs_intra:\n",
    "        figs_intra[strategy].savefig(figure_folder / f\"intra_{strategy}.png\", dpi=300)\n",
    "        figs_intra[strategy].savefig(figure_folder / f\"intra_{strategy}.pdf\")\n",
    "        figs_extra[strategy].savefig(figure_folder / f\"extra_{strategy}.png\", dpi=300)        \n",
    "        figs_extra[strategy].savefig(figure_folder / f\"extra_{strategy}.pdf\")                "
   ]
  },
  {
   "cell_type": "markdown",
   "metadata": {},
   "source": [
    "## Compare best-fitted models"
   ]
  },
  {
   "cell_type": "code",
   "execution_count": null,
   "metadata": {},
   "outputs": [],
   "source": [
    "order_full = [\"soma\", \"all\", \"sections\", \"single\"]\n",
    "order = []\n",
    "for strategy in order_full:\n",
    "    if strategy in opt_results_test:\n",
    "        order.append(strategy)"
   ]
  },
  {
   "cell_type": "markdown",
   "metadata": {},
   "source": [
    "### Compare features"
   ]
  },
  {
   "cell_type": "code",
   "execution_count": null,
   "metadata": {},
   "outputs": [],
   "source": [
    "feature_name_array = []\n",
    "feature_set_array = []\n",
    "feature_score_array = []\n",
    "feature_type_array = []\n",
    "protocol_type_array = []\n",
    "\n",
    "for strategy in strategies:\n",
    "    feats = opt_results_test[strategy][\"features\"]\n",
    "    for feat_name, feat_dict in feats.items():\n",
    "        feature_set_array.append(strategy)\n",
    "        feature_name_array.append(feat_name)\n",
    "        if \"MEA\" not in feat_name:\n",
    "            feature_type_array.append(\"intra\")\n",
    "        else:\n",
    "            feature_type_array.append(\"extra\")\n",
    "        feature_score_array.append(feat_dict[\"score\"])\n",
    "        protocol_type = feat_name.split(\".\")[0].split(\"_\")[0]\n",
    "        protocol_type_array.append(protocol_type)\n",
    "        \n",
    "df_feats = pd.DataFrame({\"feature_set\": feature_set_array, \"feat_name\": feature_name_array,\n",
    "                         \"feature_type\": feature_type_array, \"feat_score\": feature_score_array, \n",
    "                         \"protocol_type\": protocol_type_array})"
   ]
  },
  {
   "cell_type": "code",
   "execution_count": null,
   "metadata": {},
   "outputs": [],
   "source": [
    "\n",
    "df_feats_intra = df_feats.query(\"feature_type == 'intra'\").dropna()\n",
    "df_feats_extra = df_feats.query(\"feature_type == 'extra'\").dropna()\n",
    "\n",
    "fig_feat_intra, ax = plt.subplots(figsize=(7, 10))\n",
    "sns.boxplot(data=df_feats_intra, x=\"feature_set\", y=\"feat_score\", order=order, #hue=\"protocol_type\", \n",
    "            ax=ax, showfliers=False)\n",
    "n = len(df_feats_intra.query(\"feature_set == 'soma'\"))\n",
    "# g = sns.swarmplot(data=df_feats, y=\"feature_set\", x=\"feat_score\", ax=ax)\n",
    "ax.set_ylabel(\"Feature scores\", fontsize=12)\n",
    "ax.spines[\"top\"].set_visible(False)\n",
    "ax.spines[\"right\"].set_visible(False)\n",
    "ax.set_title(f\"Intracellular features\\n(n={n})\", fontsize=20)\n",
    "ax.set_xlabel(\"Strategy\", fontsize=15)\n",
    "ax.set_ylabel(\"Score\", fontsize=15)\n",
    "#ax.set_ylim(0, 21)\n",
    "\n",
    "fig_feat_extra, ax = plt.subplots(figsize=(7, 10))\n",
    "sns.boxplot(data=df_feats_extra, \n",
    "            x=\"feature_set\", y=\"feat_score\", order=order, ax=ax, showfliers=False)\n",
    "n = len(df_feats_extra.query(\"feature_set == 'soma'\"))\n",
    "ax.spines[\"top\"].set_visible(False)\n",
    "ax.spines[\"right\"].set_visible(False)\n",
    "ax.set_title(f\"Extracellular features\\n(n={n})\", fontsize=20)\n",
    "ax.set_xlabel(\"Strategy\", fontsize=15)\n",
    "ax.set_ylabel(\"Score\", fontsize=15)\n",
    "#ax.set_ylim(0, 21)\n"
   ]
  },
  {
   "cell_type": "code",
   "execution_count": null,
   "metadata": {},
   "outputs": [],
   "source": [
    "if save_fig:\n",
    "    fig_feat_intra.savefig(figure_folder / \"intra_features.pdf\")\n",
    "    fig_feat_extra.savefig(figure_folder / \"extra_features.pdf\")    "
   ]
  },
  {
   "cell_type": "code",
   "execution_count": null,
   "metadata": {},
   "outputs": [],
   "source": [
    "!pip install statsmodels\n",
    "!pip install scikit_posthocs\n",
    "import scipy.stats as ss\n",
    "import statsmodels.api as sa\n",
    "import scikit_posthocs as sp"
   ]
  },
  {
   "cell_type": "code",
   "execution_count": null,
   "metadata": {},
   "outputs": [],
   "source": [
    "sp.posthoc_conover(df_feats_intra, val_col='feat_score', \n",
    "                   group_col='feature_set', p_adjust = 'holm')"
   ]
  },
  {
   "cell_type": "code",
   "execution_count": null,
   "metadata": {},
   "outputs": [],
   "source": [
    "sp.posthoc_conover(df_feats_extra, val_col='feat_score', \n",
    "                   group_col='feature_set', p_adjust = 'holm')"
   ]
  },
  {
   "cell_type": "code",
   "execution_count": null,
   "metadata": {},
   "outputs": [],
   "source": [
    "intra_soma = df_feats_intra.query(\"feature_set == 'soma'\")[\"feat_score\"]\n",
    "intra_sections = df_feats_intra.query(\"feature_set == 'sections'\")[\"feat_score\"]\n",
    "intra_all = df_feats_intra.query(\"feature_set == 'all'\")[\"feat_score\"]\n",
    "intra_single = df_feats_intra.query(\"feature_set == 'single'\")[\"feat_score\"]\n",
    "\n",
    "extra_soma = df_feats_extra.query(\"feature_set == 'soma'\")[\"feat_score\"]\n",
    "extra_sections = df_feats_extra.query(\"feature_set == 'sections'\")[\"feat_score\"]\n",
    "extra_all = df_feats_extra.query(\"feature_set == 'all'\")[\"feat_score\"]\n",
    "extra_single = df_feats_extra.query(\"feature_set == 'single'\")[\"feat_score\"]"
   ]
  },
  {
   "cell_type": "code",
   "execution_count": null,
   "metadata": {},
   "outputs": [],
   "source": [
    "print(\"Intra - Sections VS SOMA:\", wilcoxon(intra_sections, intra_soma))\n",
    "print(\"Intra - All VS SOMA:\", wilcoxon(intra_all, intra_soma))\n",
    "#print(\"Intra - Single VS SOMA:\", wilcoxon(intra_single, intra_soma))"
   ]
  },
  {
   "cell_type": "code",
   "execution_count": null,
   "metadata": {},
   "outputs": [],
   "source": [
    "print(\"Extra - Sections VS SOMA:\", wilcoxon(extra_sections, extra_soma))\n",
    "print(\"Extra - All VS SOMA:\", wilcoxon(extra_all, extra_soma))\n",
    "print(\"Extra - Single VS SOMA:\", wilcoxon(extra_single, extra_soma))"
   ]
  },
  {
   "cell_type": "code",
   "execution_count": null,
   "metadata": {},
   "outputs": [],
   "source": [
    "for protocol_type in np.unique(df_feats_intra.protocol_type):\n",
    "    fig, ax = plt.subplots(figsize=(10, 7))\n",
    "    df_protocol = df_feats_intra.query(f\"protocol_type == '{protocol_type}'\")\n",
    "    n = len(df_protocol.query(\"feature_set == 'soma'\"))\n",
    "    sns.boxplot(data=df_protocol, \n",
    "                y=\"feature_set\", x=\"feat_score\",# hue=\"protocol_type\", \n",
    "                order=order, ax=ax)\n",
    "    ax.set_title(f\"{protocol_type}\\n(n={n})\", fontsize=15)\n",
    "    ax.set_ylabel(\"Feature scores\", fontsize=12)\n",
    "    ax.spines[\"top\"].set_visible(False)\n",
    "    ax.spines[\"right\"].set_visible(False)\n",
    "#     ax.set_title(\"Intracellular features\", fontsize=15)\n",
    "    ax.set_xlim([0, 30])"
   ]
  },
  {
   "cell_type": "code",
   "execution_count": null,
   "metadata": {},
   "outputs": [],
   "source": [
    "if save_fig:\n",
    "    fig_feat_intra.savefig(figure_folder / \"feat_intra.pdf\")\n",
    "    fig_feat_extra.savefig(figure_folder / \"feat_extra.pdf\")"
   ]
  },
  {
   "cell_type": "code",
   "execution_count": null,
   "metadata": {},
   "outputs": [],
   "source": [
    "df_test = pd.DataFrame.from_dict(opt_results_test, orient=\"index\")\n",
    "df_test[\"strategy\"] = df_test.index"
   ]
  },
  {
   "cell_type": "code",
   "execution_count": null,
   "metadata": {},
   "outputs": [],
   "source": [
    "fig_cos, ax = plt.subplots()\n",
    "sns.barplot(data=df_test, x=\"strategy\", y=\"eap_dist\", order=order, ax=ax)\n",
    "ax.set_ylabel(\"Distance\", fontsize=12)\n",
    "ax.spines[\"top\"].set_visible(False)\n",
    "ax.spines[\"right\"].set_visible(False)\n",
    "ax.set_title(\"Extracellular difference\", fontsize=15)"
   ]
  },
  {
   "cell_type": "code",
   "execution_count": null,
   "metadata": {},
   "outputs": [],
   "source": [
    "for strategy in opt_results_test:\n",
    "    responses = opt_results_test[strategy][\"responses\"]\n",
    "    responses_to_plot = [responses_release, responses]\n",
    "    colors = [\"k\", colors_dict[strategy]]\n",
    "    labels = [\"GT\", strategy.upper()]\n",
    "    ax_extra = mf.plot_multiple_eaps(responses_to_plot, \n",
    "                                     eva_extra.fitness_protocols, probe,\n",
    "                                     protocol_name=protocol_for_eap, \n",
    "                                     colors=colors, labels=labels, norm=True)"
   ]
  },
  {
   "cell_type": "code",
   "execution_count": null,
   "metadata": {},
   "outputs": [],
   "source": [
    "opt_results_test[\"gt\"] = {}\n",
    "opt_results_test[\"gt\"][\"responses\"] = responses_release\n",
    "opt_results_test[\"gt\"][\"eap\"] = eap_release"
   ]
  },
  {
   "cell_type": "code",
   "execution_count": null,
   "metadata": {},
   "outputs": [],
   "source": [
    "with open(result_folder / results_test_file, 'wb') as f:\n",
    "    pickle.dump(opt_results_test, f, protocol=pickle.HIGHEST_PROTOCOL)"
   ]
  },
  {
   "cell_type": "code",
   "execution_count": null,
   "metadata": {},
   "outputs": [],
   "source": []
  }
 ],
 "metadata": {
  "kernelspec": {
   "display_name": "Python 3 (ipykernel)",
   "language": "python",
   "name": "python3"
  },
  "language_info": {
   "codemirror_mode": {
    "name": "ipython",
    "version": 3
   },
   "file_extension": ".py",
   "mimetype": "text/x-python",
   "name": "python",
   "nbconvert_exporter": "python",
   "pygments_lexer": "ipython3",
   "version": "3.9.7"
  }
 },
 "nbformat": 4,
 "nbformat_minor": 4
}
