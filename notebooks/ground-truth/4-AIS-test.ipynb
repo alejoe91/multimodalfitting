{
 "cells": [
  {
   "cell_type": "markdown",
   "id": "f278ad77",
   "metadata": {},
   "source": [
    "# Validation - AIS response of models\n",
    "\n",
    "This notebook evaluates qualitatively the capability of fitted models to reproduce BAC behavior."
   ]
  },
  {
   "cell_type": "code",
   "execution_count": null,
   "id": "de6ec5c5",
   "metadata": {},
   "outputs": [],
   "source": [
    "import json\n",
    "import sys\n",
    "import os\n",
    "import time\n",
    "import neuron\n",
    "from pathlib import Path\n",
    "import pickle\n",
    "import pandas as pd\n",
    "\n",
    "import matplotlib.pyplot as plt\n",
    "import neuroplotlib as nplt\n",
    "\n",
    "import bluepyopt as bpopt\n",
    "import bluepyopt.ephys as ephys\n",
    "import efel\n",
    "\n",
    "import LFPy\n",
    "import neuron\n",
    "import numpy as np\n",
    "\n",
    "import shutil\n",
    "\n",
    "import multimodalfitting as mf\n",
    "\n",
    "import pandas as pd\n",
    "import seaborn as sns\n",
    "from scipy.spatial.distance import cosine\n",
    "\n",
    "%matplotlib notebook\n",
    "#%matplotlib widget"
   ]
  },
  {
   "cell_type": "code",
   "execution_count": null,
   "id": "28a68fea",
   "metadata": {},
   "outputs": [],
   "source": [
    "base_dir = Path(\"../..\")"
   ]
  },
  {
   "cell_type": "code",
   "execution_count": null,
   "id": "c81bc98e",
   "metadata": {},
   "outputs": [],
   "source": [
    "colors_dict = {\"soma\": \"C0\",\n",
    "               \"all\": \"C1\",\n",
    "               \"sections\": \"C2\",\n",
    "               \"single\": \"C3\"}\n",
    "figsize = (10, 7)"
   ]
  },
  {
   "cell_type": "markdown",
   "id": "cb9ca283",
   "metadata": {},
   "source": [
    "## Load results and define model"
   ]
  },
  {
   "cell_type": "code",
   "execution_count": null,
   "id": "e3415b31",
   "metadata": {},
   "outputs": [],
   "source": [
    "probe_type = \"planar\"\n",
    "model_name = \"hay_ais\" # \"hay\", \"hay_ais\", \"hay_ais_hillock\"\n",
    "cell_models_folder = base_dir / \"cell_models\"\n",
    "\n",
    "model_folder = cell_models_folder / f\"{model_name}\""
   ]
  },
  {
   "cell_type": "code",
   "execution_count": null,
   "id": "bb0f61c2",
   "metadata": {},
   "outputs": [],
   "source": [
    "result_folder = Path(\"/Users/damart/Desktop/LFP\")"
   ]
  },
  {
   "cell_type": "code",
   "execution_count": null,
   "id": "1ecb3296",
   "metadata": {},
   "outputs": [],
   "source": [
    "pkl_file_name = \"runs.pkl\"\n",
    "\n",
    "data = pickle.load(open(result_folder / pkl_file_name, 'rb'))\n",
    "df_optimization = pd.DataFrame(data)\n",
    "df_model = df_optimization.query(f\"model == '{model_name}'\")"
   ]
  },
  {
   "cell_type": "code",
   "execution_count": null,
   "id": "a9f6e28e",
   "metadata": {},
   "outputs": [],
   "source": [
    "# set strategy column\n",
    "print(df_model)\n",
    "df_model.loc[:, \"strategy\"] = df_model[\"strategy\"].values.copy()\n",
    "df_model.loc[df_model[\"strategy\"] == \"soma\", \"strategy\"] = \"soma\""
   ]
  },
  {
   "cell_type": "code",
   "execution_count": null,
   "id": "ae5f5596",
   "metadata": {},
   "outputs": [],
   "source": [
    "protocols_file = model_folder / \"fitting\" / \"efeatures\" / \"protocols_BPO_all.json\"\n",
    "features_file = model_folder / \"fitting\" / \"efeatures\" / \"features_BPO_all.json\""
   ]
  },
  {
   "cell_type": "code",
   "execution_count": null,
   "id": "3dc8c653",
   "metadata": {},
   "outputs": [],
   "source": [
    "ais_recordings = mf.utils.get_ais_extra_recordings()\n",
    "protocol_for_eap = \"IDrest_300\""
   ]
  },
  {
   "cell_type": "code",
   "execution_count": null,
   "id": "f681dae3",
   "metadata": {},
   "outputs": [],
   "source": [
    "extra_kwargs = mf.utils.get_extra_kwargs()"
   ]
  },
  {
   "cell_type": "code",
   "execution_count": null,
   "id": "8f831330",
   "metadata": {},
   "outputs": [],
   "source": [
    "probe = mf.define_electrode(probe_type=probe_type)\n",
    "# probe=None\n",
    "\n",
    "cell = mf.create_ground_truth_model(model_name=model_name, release=False, electrode=probe)\n",
    "cell_release = mf.create_ground_truth_model(model_name=model_name, release=True, electrode=probe)\n",
    "\n",
    "param_names = [param.name for param in cell.params.values() if not param.frozen]\n",
    "sim = ephys.simulators.LFPySimulator(cvode_active=True, mechanisms_directory=model_folder)\n",
    "\n",
    "fitness_protocols = mf.define_protocols(\n",
    "    model_name,\n",
    "    feature_file=features_file,\n",
    "    protocols_file=protocols_file,\n",
    "    electrode=probe,\n",
    "    protocols_with_lfp=[protocol_for_eap],\n",
    "    extra_recordings={protocol_for_eap: ais_recordings}\n",
    ")\n",
    "\n",
    "params_release = {}\n",
    "for param in cell_release.params_by_names(param_names):\n",
    "    params_release[param.name] = param.value"
   ]
  },
  {
   "cell_type": "markdown",
   "id": "bed3f54f",
   "metadata": {},
   "source": [
    "# Test AIS dynamics"
   ]
  },
  {
   "cell_type": "code",
   "execution_count": null,
   "id": "498bff50",
   "metadata": {},
   "outputs": [],
   "source": [
    "def simulate_responses(cell, params, sim, protocols, protocol_name=\"IDrest_300\", **extra_kwargs):\n",
    "    response = protocols[protocol_name].run(cell, params, sim)\n",
    "    eap = mf.calculate_eap(responses=response, protocols=protocols, \n",
    "                           protocol_name=protocol_name, **extra_kwargs)\n",
    "    return response, eap"
   ]
  },
  {
   "cell_type": "code",
   "execution_count": null,
   "id": "a8676520",
   "metadata": {},
   "outputs": [],
   "source": [
    "opt_results = {}\n",
    "for strategy in np.unique(df_model.strategy):\n",
    "    opt_results[strategy] = {}\n",
    "    opt_df = df_model.query(f\"strategy == '{strategy}'\")\n",
    "    best_idx = np.argmin(opt_df.best_fitness)\n",
    "    params_sample = opt_df.iloc[best_idx]\n",
    "    params_dict = {k: v for k, v in zip(param_names, params_sample.best_params)}\n",
    "    opt_results[strategy][\"best_fitness\"] = params_sample.best_fitness\n",
    "    opt_results[strategy][\"best_params\"] = params_dict\n",
    "    print(f\"{strategy} --  best fitness: {params_sample.best_fitness}\")"
   ]
  },
  {
   "cell_type": "code",
   "execution_count": null,
   "id": "e49b8b55",
   "metadata": {},
   "outputs": [],
   "source": [
    "ms_after = 10\n",
    "ms_before = 3"
   ]
  },
  {
   "cell_type": "code",
   "execution_count": null,
   "id": "70cc6392",
   "metadata": {},
   "outputs": [],
   "source": [
    "print(\"Computing RELEASE\")\n",
    "responses_release, eap_release = simulate_responses(cell, params_release, sim, fitness_protocols, \n",
    "                                                    protocol_name=protocol_for_eap, **extra_kwargs)\n",
    "responses_cut_release = mf.utils.get_peak_cutout(responses_release, ms_before=ms_before, \n",
    "                                                 ms_after=ms_after, average=True)\n",
    "\n",
    "for strategy in np.unique(df_model.strategy):\n",
    "    print(f\"Computing {strategy}\")\n",
    "    best_params = opt_results[strategy][\"best_params\"]\n",
    "\n",
    "    responses, eap = simulate_responses(cell, best_params, sim, fitness_protocols, \n",
    "                                        protocol_name=protocol_for_eap, **extra_kwargs)\n",
    "    opt_results[strategy][\"responses\"] = responses\n",
    "    responses_cut = mf.utils.get_peak_cutout(responses, ms_before=ms_before, \n",
    "                                             ms_after=ms_after, average=True)\n",
    "    opt_results[strategy][\"responses_cut\"] = responses_cut\n",
    "    "
   ]
  },
  {
   "cell_type": "code",
   "execution_count": null,
   "id": "2e80aa56",
   "metadata": {},
   "outputs": [],
   "source": [
    "responses_to_plot = ['IDrest_300.soma.v', \n",
    "                     'IDrest_300.ais_mid_v.v', \n",
    "                     'IDrest_300.ais_end_v.v']"
   ]
  },
  {
   "cell_type": "code",
   "execution_count": null,
   "id": "d5df705a",
   "metadata": {},
   "outputs": [],
   "source": [
    "distance_arr = []\n",
    "strategy_arr = []\n",
    "position_arr = []\n",
    "for resp_name in responses_to_plot:\n",
    "    fig, ax = plt.subplots(figsize=figsize)\n",
    "    position = resp_name.split(\".\")[1]\n",
    "    ax.plot(responses_cut_release[resp_name][\"time\"], responses_cut_release[resp_name][\"voltage\"], \n",
    "            color=\"k\", label=\"GT\")\n",
    "    for strategy in opt_results:\n",
    "        resp_cut = opt_results[strategy][\"responses_cut\"]\n",
    "        ax.plot(resp_cut[resp_name][\"time\"], resp_cut[resp_name][\"voltage\"], \n",
    "                color=colors_dict[strategy], label=strategy.upper())\n",
    "        dist = cosine(responses_cut_release[resp_name][\"voltage\"],\n",
    "                      resp_cut[resp_name][\"voltage\"])\n",
    "        position_arr.append(position)\n",
    "        distance_arr.append(dist)\n",
    "        strategy_arr.append(strategy)\n",
    "    ax.set_xlabel(\"time (ms)\", fontsize=12)\n",
    "    ax.set_ylabel(\"$V_m$ (mV)\", fontsize=12)\n",
    "    ax.spines[\"top\"].set_visible(False)\n",
    "    ax.spines[\"right\"].set_visible(False)\n",
    "    ax.set_title(f\"{position}\", fontsize=15)\n",
    "    ax.axvline(ms_before, color=\"gray\", ls=\"--\")\n",
    "    ax.legend()\n",
    "\n",
    "df = pd.DataFrame({\"strategy\": strategy_arr, \"distance\": distance_arr, \"position\": position_arr})"
   ]
  },
  {
   "cell_type": "code",
   "execution_count": null,
   "id": "84c084f3",
   "metadata": {},
   "outputs": [],
   "source": [
    "fig, ax = plt.subplots(figsize=figsize)\n",
    "sns.barplot(data=df, x=\"strategy\", y=\"distance\", hue=\"position\", ax=ax)\n",
    "ax.set_xlabel(\"Strategy\", fontsize=12)\n",
    "ax.set_ylabel(\"cos. dist.\", fontsize=12)\n",
    "ax.spines[\"top\"].set_visible(False)\n",
    "ax.spines[\"right\"].set_visible(False)\n",
    "ax.set_title(f\"Response distances\", fontsize=15)"
   ]
  },
  {
   "cell_type": "code",
   "execution_count": null,
   "id": "fc5f9f27",
   "metadata": {},
   "outputs": [],
   "source": []
  }
 ],
 "metadata": {
  "kernelspec": {
   "display_name": "Python 3 (ipykernel)",
   "language": "python",
   "name": "python3"
  },
  "language_info": {
   "codemirror_mode": {
    "name": "ipython",
    "version": 3
   },
   "file_extension": ".py",
   "mimetype": "text/x-python",
   "name": "python",
   "nbconvert_exporter": "python",
   "pygments_lexer": "ipython3",
   "version": "3.9.7"
  }
 },
 "nbformat": 4,
 "nbformat_minor": 5
}
