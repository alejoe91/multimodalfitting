{
 "cells": [
  {
   "cell_type": "markdown",
   "id": "b3fe1613",
   "metadata": {},
   "source": [
    "# Explore differences in EAP from different models\n",
    "\n",
    "This notebook requires to have run the `0-test-model.ipynb` notebook on the different models and to have generated the different EAPs."
   ]
  },
  {
   "cell_type": "code",
   "execution_count": null,
   "id": "6cfd7eb7",
   "metadata": {},
   "outputs": [],
   "source": [
    "import numpy as np\n",
    "import MEAutility as mu\n",
    "import matplotlib.pyplot as plt\n",
    "from pathlib import Path\n",
    "from bluepyopt import ephys\n",
    "import neuroplotlib as nplt\n",
    "\n",
    "import multimodalfitting as mf\n",
    "\n",
    "%matplotlib notebook"
   ]
  },
  {
   "cell_type": "code",
   "execution_count": null,
   "id": "0860db84",
   "metadata": {},
   "outputs": [],
   "source": [
    "probe_type = \"planar\" #'linear' #\n",
    "model_names = [\"hay\", \"hay_ais\", \"hay_ais_hillock\"] # \"hay_ais\" #\"hallermann\" #'hay'\n",
    "cell_models_folder = Path(\"..\") / \"cell_models\"\n",
    "model_folder = cell_models_folder / f\"{model_names[0]}_model\"\n",
    "eap_folder = Path(\".\")  / \"eap\""
   ]
  },
  {
   "cell_type": "code",
   "execution_count": null,
   "id": "ae7f061a",
   "metadata": {},
   "outputs": [],
   "source": [
    "# load eaps\n",
    "eaps = {}\n",
    "for eap_file in eap_folder.iterdir():\n",
    "    if \"eap\" in eap_file.name:\n",
    "        model_name = (\"_\").join(eap_file.stem.split(\"_\")[1:])\n",
    "        if model_name in model_names:\n",
    "            eap = np.load(eap_file)\n",
    "            eaps[model_name] = eap\n",
    "if len(eaps) == 0:\n",
    "    raise FileNotFoundError(\"Could not find any EAPs to plot!\")"
   ]
  },
  {
   "cell_type": "code",
   "execution_count": null,
   "id": "1a1db86a",
   "metadata": {},
   "outputs": [],
   "source": [
    "vscale = 1.5 * np.max(np.abs(list(eaps.values())))"
   ]
  },
  {
   "cell_type": "code",
   "execution_count": null,
   "id": "cdcbe277",
   "metadata": {},
   "outputs": [],
   "source": [
    "probe = mf.define_electrode(probe_type=probe_type)\n",
    "\n",
    "for eap in eaps.values():\n",
    "    assert len(probe.positions) == len(eap)"
   ]
  },
  {
   "cell_type": "code",
   "execution_count": null,
   "id": "0d4c515e",
   "metadata": {},
   "outputs": [],
   "source": [
    "fig, ax = plt.subplots(figsize=(7, 10))\n",
    "norm = True\n",
    "for i, (model_name, eap) in enumerate(eaps.items()):\n",
    "    if norm:\n",
    "        vscale = 1.5\n",
    "        eap_to_plot = eap / np.max(np.abs(eap), 1, keepdims=True)\n",
    "    else:\n",
    "        eap_to_plot = eap\n",
    "    ax = mu.plot_mea_recording(eap_to_plot, probe, colors=f\"C{i}\", ax=ax)\n",
    "    line = ax.get_lines()[-1]\n",
    "    line.set_label(model_name)\n",
    "    max_channel = np.unravel_index(np.argmax(np.abs(eap)), eap.shape)[0]\n",
    "    ax.plot(probe.positions[max_channel, 0], probe.positions[max_channel, 1], color=f\"C{i}\", marker=\"o\")\n",
    "ax.legend(loc=\"upper left\")"
   ]
  },
  {
   "cell_type": "code",
   "execution_count": null,
   "id": "f6b94018",
   "metadata": {},
   "outputs": [],
   "source": [
    "cell = mf.create_ground_truth_model(model_name=model_names[0], cell_model_folder=model_folder,\n",
    "                                    release=True)\n",
    "sim = ephys.simulators.LFPySimulator(cell, cvode_active=True, electrode=probe, mechs_folders=model_folder)"
   ]
  },
  {
   "cell_type": "code",
   "execution_count": null,
   "id": "e3c0afe3",
   "metadata": {},
   "outputs": [],
   "source": [
    "mf.plot_cell(cell, sim, ax=ax)"
   ]
  },
  {
   "cell_type": "code",
   "execution_count": null,
   "id": "5e24e371",
   "metadata": {},
   "outputs": [],
   "source": []
  }
 ],
 "metadata": {
  "kernelspec": {
   "display_name": "Python 3 (ipykernel)",
   "language": "python",
   "name": "python3"
  },
  "language_info": {
   "codemirror_mode": {
    "name": "ipython",
    "version": 3
   },
   "file_extension": ".py",
   "mimetype": "text/x-python",
   "name": "python",
   "nbconvert_exporter": "python",
   "pygments_lexer": "ipython3",
   "version": "3.8.11"
  }
 },
 "nbformat": 4,
 "nbformat_minor": 5
}
