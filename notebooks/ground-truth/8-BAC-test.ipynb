{
 "cells": [
  {
   "cell_type": "markdown",
   "id": "f278ad77",
   "metadata": {},
   "source": [
    "# 8) BAC response of models\n",
    "\n",
    "This notebook evaluates qualitatively the capability of fitted models to reproduce BAC behavior."
   ]
  },
  {
   "cell_type": "code",
   "execution_count": null,
   "id": "de6ec5c5",
   "metadata": {},
   "outputs": [],
   "source": [
    "import json\n",
    "import sys\n",
    "import os\n",
    "import time\n",
    "import neuron\n",
    "from pathlib import Path\n",
    "import pickle\n",
    "import pandas as pd\n",
    "\n",
    "import matplotlib.pyplot as plt\n",
    "import neuroplotlib as nplt\n",
    "\n",
    "import bluepyopt as bpopt\n",
    "import bluepyopt.ephys as ephys\n",
    "\n",
    "import LFPy\n",
    "import neuron\n",
    "import numpy as np\n",
    "\n",
    "import shutil\n",
    "\n",
    "import multimodalfitting as mf\n",
    "\n",
    "%matplotlib notebook\n",
    "# %matplotlib widget"
   ]
  },
  {
   "cell_type": "code",
   "execution_count": null,
   "id": "130f9f4d",
   "metadata": {},
   "outputs": [],
   "source": [
    "base_dir = Path(\"../..\")"
   ]
  },
  {
   "cell_type": "code",
   "execution_count": null,
   "id": "76ce782e",
   "metadata": {},
   "outputs": [],
   "source": [
    "colors_dict = {\"soma\": \"C0\",\n",
    "               \"all\": \"C1\",\n",
    "               \"sections\": \"C2\",\n",
    "               \"single\": \"C3\"}\n",
    "figsize = (10, 7)"
   ]
  },
  {
   "cell_type": "markdown",
   "id": "e2eec68b",
   "metadata": {},
   "source": [
    "## Load results and define model"
   ]
  },
  {
   "cell_type": "code",
   "execution_count": null,
   "id": "e3415b31",
   "metadata": {},
   "outputs": [],
   "source": [
    "probe_type = \"planar\"\n",
    "model_name = \"hay_ais\" # \"hay\", \"hay_ais\", \"hay_ais_hillock\"\n",
    "cell_models_folder = base_dir / \"cell_models\"\n",
    "\n",
    "model_folder = cell_models_folder / f\"{model_name}\""
   ]
  },
  {
   "cell_type": "code",
   "execution_count": null,
   "id": "958997f9",
   "metadata": {},
   "outputs": [],
   "source": [
    "result_dates = [r.name for r in (base_dir / \"results\").iterdir()]\n",
    "# use latest results\n",
    "results_date = max(result_dates)\n",
    "result_folder = base_dir / \"results\" / results_date"
   ]
  },
  {
   "cell_type": "code",
   "execution_count": null,
   "id": "4fcdfdd4",
   "metadata": {},
   "outputs": [],
   "source": [
    "pkl_file_name = \"runs.pkl\"\n",
    "\n",
    "data = pickle.load(open(result_folder / pkl_file_name, 'rb'))\n",
    "df_optimization = pd.DataFrame(data)\n",
    "df_model = df_optimization.query(f\"model == '{model_name}'\")\n",
    "\n",
    "if (result_folder / f\"all_responses_{model_name}.pkl\").is_file():\n",
    "    with open(result_folder / f\"all_responses_{model_name}.pkl\", 'rb') as f:\n",
    "        opt_results_all = pickle.load(f)"
   ]
  },
  {
   "cell_type": "code",
   "execution_count": null,
   "id": "8f831330",
   "metadata": {},
   "outputs": [],
   "source": [
    "cell = mf.create_ground_truth_model(model_name=model_name)\n",
    "cell_release = mf.create_ground_truth_model(model_name=model_name, release=True)\n",
    "\n",
    "# probe = mf.define_electrode(probe_type=probe_type)\n",
    "probe=None\n",
    "\n",
    "param_names = [param.name for param in cell.params.values() if not param.frozen]\n",
    "sim = ephys.simulators.LFPySimulator(cvode_active=True, mechanisms_directory=model_folder)\n",
    "\n",
    "params_release = {}\n",
    "for param in cell_release.params_by_names(param_names):\n",
    "    params_release[param.name] = param.value"
   ]
  },
  {
   "cell_type": "markdown",
   "id": "bed3f54f",
   "metadata": {},
   "source": [
    "# Test calcium spike"
   ]
  },
  {
   "cell_type": "code",
   "execution_count": null,
   "id": "7cb5c3aa",
   "metadata": {},
   "outputs": [],
   "source": [
    "# opt_results = {}\n",
    "# for strategy in np.unique(df_model.strategy):\n",
    "#     opt_results[strategy] = {}\n",
    "#     opt_df = df_model.query(f\"strategy == '{strategy}'\")\n",
    "#     best_idx = np.argmin(opt_df.best_fitness)\n",
    "#     params_sample = opt_df.iloc[best_idx]\n",
    "#     params_dict = {k: v for k, v in zip(param_names, params_sample.best_params)}\n",
    "#     opt_results[strategy][\"best_fitness\"] = params_sample.best_fitness\n",
    "#     opt_results[strategy][\"best_params\"] = params_dict\n",
    "#     print(f\"{strategy} --  best fitness: {params_sample.best_fitness}\")"
   ]
  },
  {
   "cell_type": "code",
   "execution_count": null,
   "id": "c11871ff",
   "metadata": {},
   "outputs": [],
   "source": [
    "bac_kwargs = {\"syn_weight\": 2, \"pulse_amp\": 1}"
   ]
  },
  {
   "cell_type": "code",
   "execution_count": null,
   "id": "713cde2b",
   "metadata": {},
   "outputs": [],
   "source": [
    "print(\"Computing RELEASE\")\n",
    "responses_release = mf.utils.simulate_BAC_responses(cell, params_release, sim, **bac_kwargs)\n",
    "\n",
    "bac_responses = {}\n",
    "for strategy in np.unique(df_model.strategy):\n",
    "    print(f\"Computing {strategy}\")\n",
    "    best_params = opt_results_all[strategy][\"best_params\"]\n",
    "\n",
    "    responses = mf.utils.simulate_BAC_responses(cell, best_params, sim, **bac_kwargs)\n",
    "    bac_responses[strategy] = responses"
   ]
  },
  {
   "cell_type": "code",
   "execution_count": null,
   "id": "33b83f14",
   "metadata": {},
   "outputs": [],
   "source": [
    "ax_dict = {}\n",
    "\n",
    "loc_names = responses_release.keys()\n",
    "for loc in responses_release:\n",
    "    fig, ax = plt.subplots(figsize=figsize)\n",
    "    ax_dict[loc] = ax\n",
    "    \n",
    "    resp = responses_release[loc]\n",
    "    ax.plot(resp[\"time\"], resp[\"voltage\"], alpha=0.8, color=\"k\", label=\"GT\")\n",
    "    \n",
    "    for strategy in bac_responses:\n",
    "        responses = bac_responses[strategy]\n",
    "        resp = responses[loc]\n",
    "        ax.plot(resp[\"time\"], resp[\"voltage\"], alpha=0.8, color=colors_dict[strategy], label=strategy.upper())\n",
    "        \n",
    "    ax.set_xlabel(\"time (ms)\", fontsize=12)\n",
    "    ax.set_ylabel(\"$V_m$ (mV)\", fontsize=12)\n",
    "    ax.spines[\"top\"].set_visible(False)\n",
    "    ax.spines[\"right\"].set_visible(False)\n",
    "    ax.set_title(f\"Recording from {loc}\", fontsize=15)\n",
    "#     ax.axvline(ms_before, color=\"gray\", ls=\"--\")\n",
    "    ax.legend()\n"
   ]
  }
 ],
 "metadata": {
  "kernelspec": {
   "display_name": "Python 3 (ipykernel)",
   "language": "python",
   "name": "python3"
  },
  "language_info": {
   "codemirror_mode": {
    "name": "ipython",
    "version": 3
   },
   "file_extension": ".py",
   "mimetype": "text/x-python",
   "name": "python",
   "nbconvert_exporter": "python",
   "pygments_lexer": "ipython3",
   "version": "3.8.13"
  }
 },
 "nbformat": 4,
 "nbformat_minor": 5
}
