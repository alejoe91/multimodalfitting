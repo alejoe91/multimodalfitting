{
 "cells": [
  {
   "cell_type": "markdown",
   "id": "15adf53d",
   "metadata": {},
   "source": [
    "# Test model example \n",
    "\n",
    "This notebook tests the different models (HAY, HAY_AIS, HAY_AIS_HILLOCK) on a simple step stimulus."
   ]
  },
  {
   "cell_type": "code",
   "execution_count": null,
   "id": "335bc4d2",
   "metadata": {},
   "outputs": [],
   "source": [
    "import json\n",
    "import sys\n",
    "import os\n",
    "import time\n",
    "import numpy as np\n",
    "from pathlib import Path\n",
    "\n",
    "import matplotlib.pyplot as plt\n",
    "\n",
    "import bluepyopt as bpopt\n",
    "import bluepyopt.ephys as ephys\n",
    "\n",
    "import shutil\n",
    "\n",
    "import multimodalfitting as mf\n",
    "\n",
    "%matplotlib notebook"
   ]
  },
  {
   "cell_type": "code",
   "execution_count": null,
   "id": "0a38f75b",
   "metadata": {},
   "outputs": [],
   "source": [
    "probe_type = \"planar\"\n",
    "model_name = \"hay_ais_hillock\" # \"hay\", \"hay_ais\", \"hay_ais_hillock\"\n",
    "cell_models_folder = Path(\"..\") / \"cell_models\"\n",
    "\n",
    "model_folder = cell_models_folder / f\"{model_name}_model\""
   ]
  },
  {
   "cell_type": "code",
   "execution_count": null,
   "id": "1285ad37",
   "metadata": {},
   "outputs": [],
   "source": [
    "# instantiate cell model\n",
    "cell = mf.create_ground_truth_model(model_name=model_name, \n",
    "                                    cell_model_folder=model_folder, \n",
    "                                    release=True, v_init=-80)\n",
    "\n",
    "# define a probe (this can also be defined externally)\n",
    "probe = mf.define_electrode(probe_type=probe_type)\n",
    "\n",
    "# define a test protocol\n",
    "protocols = mf.define_test_step_protocol(step_amplitude=0.5, tot_duration=2000, step_duration=1500, probe=probe)\n",
    "\n",
    "# instantiate simulator\n",
    "sim = ephys.simulators.LFPySimulator(cell, cvode_active=True, electrode=probe, mechs_folders=model_folder)"
   ]
  },
  {
   "cell_type": "code",
   "execution_count": null,
   "id": "ac4a8bca",
   "metadata": {},
   "outputs": [],
   "source": [
    "t_start = time.time()\n",
    "responses = protocols[\"TestStep\"].run(cell, param_values={}, sim=sim)\n",
    "print(f\"Elapsed time: {time.time() - t_start}\")"
   ]
  },
  {
   "cell_type": "code",
   "execution_count": null,
   "id": "945387d1",
   "metadata": {},
   "outputs": [],
   "source": [
    "mf.plot_responses(responses)"
   ]
  },
  {
   "cell_type": "code",
   "execution_count": null,
   "id": "9a93fa73",
   "metadata": {},
   "outputs": [],
   "source": [
    "eap = mf.calculate_eap(responses, protocols=protocols, protocol_name=\"TestStep\")"
   ]
  },
  {
   "cell_type": "code",
   "execution_count": null,
   "id": "9a0e3bfd",
   "metadata": {},
   "outputs": [],
   "source": [
    "ax = mf.plot_eap(responses, protocols=protocols, protocol_name=\"TestStep\", probe=probe)"
   ]
  },
  {
   "cell_type": "markdown",
   "id": "54f327cb",
   "metadata": {},
   "source": [
    "## (optional) save EAP for comparison among models"
   ]
  },
  {
   "cell_type": "code",
   "execution_count": null,
   "id": "62dd18ed",
   "metadata": {},
   "outputs": [],
   "source": [
    "eap_folder = Path(\"eap\")\n",
    "eap_folder.mkdir(exist_ok=True)\n",
    "\n",
    "np.save(eap_folder / f\"eap_{model_name}.npy\", eap)\n",
    "\n"
   ]
  }
 ],
 "metadata": {
  "language_info": {
   "name": "python"
  }
 },
 "nbformat": 4,
 "nbformat_minor": 5
}
