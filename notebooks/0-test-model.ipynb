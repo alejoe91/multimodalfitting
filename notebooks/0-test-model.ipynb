{
 "cells": [
  {
   "cell_type": "markdown",
   "id": "15adf53d",
   "metadata": {},
   "source": [
    "# 0) Test model example \n",
    "\n",
    "This notebook tests the different models (HAY, HAY_AIS, HAY_AIS_HILLOCK) on a simple step stimulus."
   ]
  },
  {
   "cell_type": "code",
   "execution_count": null,
   "id": "335bc4d2",
   "metadata": {},
   "outputs": [],
   "source": [
    "import json\n",
    "import sys\n",
    "import os\n",
    "import time\n",
    "import numpy as np\n",
    "from pathlib import Path\n",
    "\n",
    "import matplotlib.pyplot as plt\n",
    "\n",
    "import bluepyopt as bpopt\n",
    "import bluepyopt.ephys as ephys\n",
    "\n",
    "import MEAutility as mu\n",
    "\n",
    "import shutil\n",
    "\n",
    "import multimodalfitting as mf\n",
    "\n",
    "%matplotlib widget"
   ]
  },
  {
   "cell_type": "code",
   "execution_count": null,
   "id": "b6930e3a",
   "metadata": {},
   "outputs": [],
   "source": [
    "base_dir = Path(\"..\")"
   ]
  },
  {
   "cell_type": "code",
   "execution_count": null,
   "id": "0a38f75b",
   "metadata": {},
   "outputs": [],
   "source": [
    "probe_type = \"planar\"\n",
    "model_name = \"hay_ais\" # \"hay\", \"hay_ais\", \"hay_ais_hillock\"\n",
    "cell_models_folder = base_dir / \"cell_models\"\n",
    "\n",
    "model_folder = cell_models_folder / f\"{model_name}\""
   ]
  },
  {
   "cell_type": "code",
   "execution_count": null,
   "id": "32590e14",
   "metadata": {},
   "outputs": [],
   "source": [
    "ais_recordings = mf.utils.get_ais_extra_recordings()"
   ]
  },
  {
   "cell_type": "code",
   "execution_count": null,
   "id": "8ec049e6",
   "metadata": {},
   "outputs": [],
   "source": [
    "# instantiate cell model\n",
    "cell_opt = mf.create_ground_truth_model(model_name=model_name, \n",
    "                                    release=False)\n",
    "param_names = [p_name for (p_name, p) in cell_opt.params.items() if not p.frozen]"
   ]
  },
  {
   "cell_type": "code",
   "execution_count": null,
   "id": "e2b54da4",
   "metadata": {},
   "outputs": [],
   "source": [
    "param_names"
   ]
  },
  {
   "cell_type": "code",
   "execution_count": null,
   "id": "1285ad37",
   "metadata": {},
   "outputs": [],
   "source": [
    "# instantiate cell model\n",
    "cell = mf.create_ground_truth_model(model_name=model_name, \n",
    "                                    release=True)\n",
    "\n",
    "# define a probe (this can also be defined externally)\n",
    "probe = mf.define_electrode(probe_type=probe_type)\n",
    "\n",
    "# define a test protocol\n",
    "protocols = mf.define_test_step_protocol(step_amplitude=0.5, tot_duration=2000, step_duration=1500, probe=probe,\n",
    "                                         extra_recordings=dict(TestStep=ais_recordings))\n",
    "\n",
    "# instantiate simulator\n",
    "sim = ephys.simulators.LFPySimulator(\n",
    "    cell, cvode_active=True, electrode=probe, mechanisms_directory=model_folder)\n"
   ]
  },
  {
   "cell_type": "code",
   "execution_count": null,
   "id": "ac4a8bca",
   "metadata": {},
   "outputs": [],
   "source": [
    "t_start = time.time()\n",
    "responses = protocols[\"TestStep\"].run(cell, param_values={}, sim=sim)\n",
    "print(f\"Elapsed time: {time.time() - t_start}\")"
   ]
  },
  {
   "cell_type": "code",
   "execution_count": null,
   "id": "945387d1",
   "metadata": {},
   "outputs": [],
   "source": [
    "fig = mf.plot_responses(responses, return_fig=True)"
   ]
  },
  {
   "cell_type": "code",
   "execution_count": null,
   "id": "9a93fa73",
   "metadata": {},
   "outputs": [],
   "source": [
    "eap = mf.calculate_eap(responses, protocols=protocols, protocol_name=\"TestStep\")"
   ]
  },
  {
   "cell_type": "code",
   "execution_count": null,
   "id": "53e1e43a",
   "metadata": {},
   "outputs": [],
   "source": [
    "max_chan, _ = np.unravel_index(np.argmin(eap), eap.shape)"
   ]
  },
  {
   "cell_type": "code",
   "execution_count": null,
   "id": "9a0e3bfd",
   "metadata": {},
   "outputs": [],
   "source": [
    "fig_eap, ax_eap = plt.subplots()\n",
    "ax_eap = mu.plot_probe(probe, ax=ax_eap, type=\"planar\") #, alpha_prb=0.1, alpha_elec=0.3)\n",
    "ax_eap = mu.plot_mea_recording(eap, probe, colors=\"k\", ax=ax_eap, lw=0.5)\n",
    "ax_eap = mu.plot_mea_recording(eap, probe, channels=[max_chan], lw=2, colors=\"g\", ax=ax_eap)\n",
    "ax_eap.plot(*probe.positions[max_chan, :-1], color=\"k\", marker=\"o\")\n",
    "mf.plot_cell(cell, sim=sim, color_ais=\"g\", color_myelin=\"b\", detailed=True, ax=ax_eap)\n",
    "\n",
    "ax_eap.set_xlim(-100, 100)\n",
    "ax_eap.set_ylim(-200, 800)"
   ]
  }
 ],
 "metadata": {
  "kernelspec": {
   "display_name": "Python 3 (ipykernel)",
   "language": "python",
   "name": "python3"
  },
  "language_info": {
   "codemirror_mode": {
    "name": "ipython",
    "version": 3
   },
   "file_extension": ".py",
   "mimetype": "text/x-python",
   "name": "python",
   "nbconvert_exporter": "python",
   "pygments_lexer": "ipython3",
   "version": "3.8.13"
  }
 },
 "nbformat": 4,
 "nbformat_minor": 5
}
