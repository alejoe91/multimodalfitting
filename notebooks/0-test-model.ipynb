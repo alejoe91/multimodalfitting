{
 "cells": [
  {
   "cell_type": "markdown",
   "id": "15adf53d",
   "metadata": {},
   "source": [
    "# Test model example \n",
    "\n",
    "This notebook tests the different models (HAY, HAY_AIS, HAY_AIS_HILLOCK) on a simple step stimulus."
   ]
  },
  {
   "cell_type": "code",
   "execution_count": null,
   "id": "335bc4d2",
   "metadata": {},
   "outputs": [],
   "source": [
    "import json\n",
    "import sys\n",
    "import os\n",
    "import time\n",
    "import numpy as np\n",
    "from pathlib import Path\n",
    "\n",
    "import matplotlib.pyplot as plt\n",
    "\n",
    "import bluepyopt as bpopt\n",
    "import bluepyopt.ephys as ephys\n",
    "\n",
    "import MEAutility as mu\n",
    "\n",
    "import shutil\n",
    "\n",
    "import multimodalfitting as mf\n",
    "\n",
    "%matplotlib widget"
   ]
  },
  {
   "cell_type": "code",
   "execution_count": null,
   "id": "b6930e3a",
   "metadata": {},
   "outputs": [],
   "source": [
    "base_dir = Path(\"..\")"
   ]
  },
  {
   "cell_type": "code",
   "execution_count": null,
   "id": "0a38f75b",
   "metadata": {},
   "outputs": [],
   "source": [
    "probe_type = \"planar\"\n",
    "model_name = \"hay_ais\" # \"hay\", \"hay_ais\", \"hay_ais_hillock\"\n",
    "cell_models_folder = base_dir / \"cell_models\"\n",
    "\n",
    "model_folder = cell_models_folder / f\"{model_name}\""
   ]
  },
  {
   "cell_type": "code",
   "execution_count": null,
   "id": "32590e14",
   "metadata": {},
   "outputs": [],
   "source": [
    "ais_recordings = mf.utils.get_ais_extra_recordings()"
   ]
  },
  {
   "cell_type": "code",
   "execution_count": null,
   "id": "8ec049e6",
   "metadata": {},
   "outputs": [],
   "source": [
    "# instantiate cell model\n",
    "cell_opt = mf.create_ground_truth_model(model_name=model_name, release=False)\n",
    "param_names = [p_name for (p_name, p) in cell_opt.params.items() if not p.frozen]"
   ]
  },
  {
   "cell_type": "code",
   "execution_count": null,
   "id": "e2b54da4",
   "metadata": {},
   "outputs": [],
   "source": [
    "param_names"
   ]
  },
  {
   "cell_type": "code",
   "execution_count": null,
   "id": "c93036a4",
   "metadata": {},
   "outputs": [],
   "source": [
    "cell_opt.params"
   ]
  },
  {
   "cell_type": "code",
   "execution_count": null,
   "id": "1285ad37",
   "metadata": {},
   "outputs": [],
   "source": [
    "# define a probe (this can also be defined externally)\n",
    "probe = mf.define_electrode(probe_type=probe_type)\n",
    "\n",
    "# instantiate cell model\n",
    "cell = mf.create_ground_truth_model(model_name=model_name, release=True, electrode=probe)\n",
    "\n",
    "# define a test protocol\n",
    "protocols = mf.define_test_step_protocol(step_amplitude=0.5, tot_duration=2000, step_duration=1500, probe=probe,\n",
    "                                         extra_recordings=dict(TestStep=ais_recordings))\n",
    "\n",
    "# instantiate simulator\n",
    "sim = ephys.simulators.LFPySimulator(cvode_active=True, mechanisms_directory=model_folder)"
   ]
  },
  {
   "cell_type": "code",
   "execution_count": null,
   "id": "ac4a8bca",
   "metadata": {},
   "outputs": [],
   "source": [
    "t_start = time.time()\n",
    "responses = protocols[\"TestStep\"].run(cell, param_values={}, sim=sim)\n",
    "print(f\"Elapsed time: {time.time() - t_start}\")"
   ]
  },
  {
   "cell_type": "code",
   "execution_count": null,
   "id": "945387d1",
   "metadata": {},
   "outputs": [],
   "source": [
    "fig = mf.plot_responses(responses)"
   ]
  },
  {
   "cell_type": "code",
   "execution_count": null,
   "id": "9a93fa73",
   "metadata": {},
   "outputs": [],
   "source": [
    "eap = mf.calculate_eap(responses, protocols=protocols, protocol_name=\"TestStep\")"
   ]
  },
  {
   "cell_type": "code",
   "execution_count": null,
   "id": "53e1e43a",
   "metadata": {},
   "outputs": [],
   "source": [
    "max_chan, _ = np.unravel_index(np.argmin(eap), eap.shape)"
   ]
  },
  {
   "cell_type": "code",
   "execution_count": null,
   "id": "036540db",
   "metadata": {},
   "outputs": [],
   "source": [
    "ax_eap.plot(*probe.positions[max_chan, :-1], color=\"k\", marker=\"o\")"
   ]
  },
  {
   "cell_type": "code",
   "execution_count": null,
   "id": "da06b1f3",
   "metadata": {},
   "outputs": [],
   "source": [
    "pro"
   ]
  },
  {
   "cell_type": "code",
   "execution_count": null,
   "id": "9a0e3bfd",
   "metadata": {},
   "outputs": [],
   "source": [
    "fig_eap, ax_eap = plt.subplots()\n",
    "ax_eap = mu.plot_probe(probe, ax=ax_eap, type=\"planar\") #, alpha_prb=0.1, alpha_elec=0.3)\n",
    "ax_eap = mu.plot_mea_recording(eap, probe, colors=\"k\", ax=ax_eap, lw=0.5)\n",
    "ax_eap = mu.plot_mea_recording(eap, probe, channels=[max_chan], lw=2, colors=\"g\", ax=ax_eap)\n",
    "mf.plot_cell(cell, sim=sim, color_ais=\"g\", color_myelin=\"b\", detailed=True, ax=ax_eap)"
   ]
  },
  {
   "cell_type": "code",
   "execution_count": null,
   "id": "5532dad3",
   "metadata": {},
   "outputs": [],
   "source": [
    "fig_eap.savefig(\"eap_probe_zoom.pdf\", dpi=300, transparent=True)"
   ]
  },
  {
   "cell_type": "code",
   "execution_count": null,
   "id": "a8b5bd79",
   "metadata": {},
   "outputs": [],
   "source": [
    "ax_eap.plot(*probe.positions[max_chan, :-1], color=\"k\", marker=\"o\")"
   ]
  },
  {
   "cell_type": "code",
   "execution_count": null,
   "id": "ac502d63",
   "metadata": {},
   "outputs": [],
   "source": [
    "fig, ax = plt.subplots()\n",
    "mf.plot_cell(cell, sim=sim, color_ais=\"g\", color_myelin=\"b\", detailed=True, ax=ax)"
   ]
  },
  {
   "cell_type": "code",
   "execution_count": null,
   "id": "3f8a6728",
   "metadata": {},
   "outputs": [],
   "source": [
    "fig.savefig(\"hay_ais_zoom.pdf\", dpi=300, transparent=True)"
   ]
  },
  {
   "cell_type": "code",
   "execution_count": null,
   "id": "2f63aab5",
   "metadata": {},
   "outputs": [],
   "source": [
    "responses.keys()"
   ]
  },
  {
   "cell_type": "code",
   "execution_count": null,
   "id": "0a52531c",
   "metadata": {},
   "outputs": [],
   "source": [
    "responses_to_plot = ['TestStep.soma.v', 'TestStep.ais_mid_v.v', 'TestStep.ais_end_v.v']"
   ]
  },
  {
   "cell_type": "code",
   "execution_count": null,
   "id": "50416656",
   "metadata": {},
   "outputs": [],
   "source": [
    "fig_ap, ax = plt.subplots()\n",
    "labels = [\"soma\", \"AIS middle\", \"AIS distal\"]\n",
    "for i, resp in enumerate(responses_to_plot):\n",
    "    response = responses[resp]\n",
    "    ax.plot(response[\"time\"], response[\"voltage\"], label=labels[i], lw=2, alpha=0.8)\n",
    "ax.set_xlim(554, 562)\n",
    "ax.legend()\n",
    "ax.axis(\"off\")\n",
    "ax.plot([555, 556], [-80, -80], color=\"k\")\n",
    "ax.plot([555, 555], [-80, -60], color=\"k\")\n",
    "# ax.set_xlabel(\"Time (ms)\", fontsize=15)\n",
    "# ax.set_ylabel(\"Vm (mV)\", fontsize=15)"
   ]
  },
  {
   "cell_type": "code",
   "execution_count": null,
   "id": "602406c6",
   "metadata": {},
   "outputs": [],
   "source": [
    "fig.savefig(\"hay_ais_ap_reponses.pdf\", dpi=300, transparent=True)"
   ]
  },
  {
   "cell_type": "code",
   "execution_count": null,
   "id": "3a2dac18",
   "metadata": {},
   "outputs": [],
   "source": [
    "fig.savefig(\"ais_traces.pdf\")"
   ]
  },
  {
   "cell_type": "markdown",
   "id": "54f327cb",
   "metadata": {},
   "source": [
    "## (optional) save EAP for comparison among models"
   ]
  },
  {
   "cell_type": "code",
   "execution_count": null,
   "id": "62dd18ed",
   "metadata": {},
   "outputs": [],
   "source": [
    "eap_folder = Path(\"eap\")\n",
    "eap_folder.mkdir(exist_ok=True)\n",
    "\n",
    "np.save(eap_folder / f\"eap_{model_name}.npy\", eap)\n",
    "\n"
   ]
  },
  {
   "cell_type": "markdown",
   "id": "9dd34daf",
   "metadata": {},
   "source": [
    "# plot ecode responses"
   ]
  },
  {
   "cell_type": "code",
   "execution_count": null,
   "id": "b20ac1c7",
   "metadata": {},
   "outputs": [],
   "source": [
    "response_folder = model_folder / \"fitting\" / \"responses\""
   ]
  },
  {
   "cell_type": "code",
   "execution_count": null,
   "id": "823ec390",
   "metadata": {},
   "outputs": [],
   "source": [
    "import pandas as pd"
   ]
  },
  {
   "cell_type": "code",
   "execution_count": null,
   "id": "5a5dab9c",
   "metadata": {},
   "outputs": [],
   "source": [
    "ecode_response_dict = {}\n",
    "for protocol_folder in response_folder.iterdir():\n",
    "    protocol_name = protocol_folder.name\n",
    "    ecode_response_dict[protocol_name] = []\n",
    "    for sweep in protocol_folder.iterdir():\n",
    "        response = pd.read_csv(sweep)\n",
    "        ecode_response_dict[protocol_name].append(response)"
   ]
  },
  {
   "cell_type": "code",
   "execution_count": null,
   "id": "abfb8910",
   "metadata": {},
   "outputs": [],
   "source": [
    "ecode_response_dict.keys()"
   ]
  },
  {
   "cell_type": "code",
   "execution_count": null,
   "id": "a3db8b62",
   "metadata": {},
   "outputs": [],
   "source": [
    "protocol_order = ['firepattern', 'IV', 'APWaveform', 'IDrest',  'HyperDepol', 'sAHP', 'PosCheops']\n",
    "\n",
    "time_scalebar = {'APWaveform': 25, 'PosCheops': 1000}\n",
    "\n",
    "figs_responses = {}\n",
    "\n",
    "for protocol in protocol_order:\n",
    "    fig, axs = plt.subplots(nrows=2, figsize=(10, 10), sharex=True)\n",
    "    for i, sweep in enumerate(ecode_response_dict[protocol]):\n",
    "        axs[0].plot(sweep[\"time\"], sweep[\"voltage\"], alpha=0.8, color=f\"grey\")\n",
    "        axs[1].plot(sweep[\"time\"], sweep[\"current\"], alpha=0.8, color=f\"grey\", lw=2)\n",
    "    axs[0].axis(\"off\")\n",
    "    axs[1].axis(\"off\")    \n",
    "    if protocol in time_scalebar:\n",
    "        scalebar = time_scalebar[protocol]\n",
    "    else:\n",
    "        scalebar = 100\n",
    "    axs[0].plot([100, 100 + scalebar], [-100, -100], color=\"k\")\n",
    "    axs[0].plot([100, 100], [-100, -110], color=\"k\")\n",
    "    axs[1].plot([100, 100], [0.1, 0.2], color=\"k\")\n",
    "    figs_responses[protocol] = fig"
   ]
  },
  {
   "cell_type": "code",
   "execution_count": null,
   "id": "858d14ec",
   "metadata": {},
   "outputs": [],
   "source": [
    "for fig_name, fig in figs_responses.items():\n",
    "    fig.savefig(f\"{fig_name}.pdf\", transparent=True)"
   ]
  },
  {
   "cell_type": "code",
   "execution_count": null,
   "id": "a4104c96",
   "metadata": {},
   "outputs": [],
   "source": [
    "sweep_example0 = ecode_response_dict[\"IDrest\"][0]\n",
    "sweep_example1 = ecode_response_dict[\"IDrest\"][1]"
   ]
  },
  {
   "cell_type": "code",
   "execution_count": null,
   "id": "9a498880",
   "metadata": {},
   "outputs": [],
   "source": [
    "plt.figure()\n",
    "plt.plot(sweep_example0[\"time\"], sweep_example0[\"current\"])\n",
    "plt.plot(sweep_example1[\"time\"], sweep_example1[\"current\"])"
   ]
  },
  {
   "cell_type": "code",
   "execution_count": null,
   "id": "68e2cbbb",
   "metadata": {},
   "outputs": [],
   "source": []
  }
 ],
 "metadata": {
  "kernelspec": {
   "display_name": "Python 3 (ipykernel)",
   "language": "python",
   "name": "python3"
  },
  "language_info": {
   "codemirror_mode": {
    "name": "ipython",
    "version": 3
   },
   "file_extension": ".py",
   "mimetype": "text/x-python",
   "name": "python",
   "nbconvert_exporter": "python",
   "pygments_lexer": "ipython3",
   "version": "3.9.7"
  }
 },
 "nbformat": 4,
 "nbformat_minor": 5
}
