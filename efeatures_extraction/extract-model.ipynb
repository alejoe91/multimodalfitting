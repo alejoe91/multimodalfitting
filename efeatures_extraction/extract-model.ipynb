{
 "cells": [
  {
   "cell_type": "code",
   "execution_count": 17,
   "metadata": {},
   "outputs": [],
   "source": [
    "import pathlib\n",
    "import numpy\n",
    "\n",
    "from bluepyefe.extract import read_recordings, extract_efeatures_at_targets, compute_rheobase,\\\n",
    "    mean_efeatures, create_feature_protocol_files\n",
    "from bluepyefe.plotting import plot_all_recordings_efeatures\n",
    "\n",
    "from reader import model_csv_reader\n",
    "from build_metadata import build_model_metadata\n",
    "from targets import targets\n",
    "\n",
    "from pprint import pprint"
   ]
  },
  {
   "cell_type": "code",
   "execution_count": 18,
   "metadata": {},
   "outputs": [],
   "source": [
    "model_name = \"hay\""
   ]
  },
  {
   "cell_type": "code",
   "execution_count": 19,
   "metadata": {},
   "outputs": [
    {
     "name": "stdout",
     "output_type": "stream",
     "text": [
      "{'APWaveform': [{'folderpath': '../data/hay_ecode_probe_linear/APWaveform',\n",
      "                 'i_unit': 'nA',\n",
      "                 't_unit': 'ms',\n",
      "                 'toff': 300,\n",
      "                 'ton': 250,\n",
      "                 'v_unit': 'mV'}],\n",
      " 'HyperDepol': [{'folderpath': '../data/hay_ecode_probe_linear/HyperDepol',\n",
      "                 'i_unit': 'nA',\n",
      "                 't_unit': 'ms',\n",
      "                 'tmid': 700,\n",
      "                 'toff': 970,\n",
      "                 'ton': 250,\n",
      "                 'v_unit': 'mV'}],\n",
      " 'IDrest': [{'folderpath': '../data/hay_ecode_probe_linear/IDrest',\n",
      "             'i_unit': 'nA',\n",
      "             't_unit': 'ms',\n",
      "             'toff': 1600,\n",
      "             'ton': 250,\n",
      "             'v_unit': 'mV'}],\n",
      " 'IDthres': [{'folderpath': '../data/hay_ecode_probe_linear/IDthres',\n",
      "              'i_unit': 'nA',\n",
      "              't_unit': 'ms',\n",
      "              'toff': 520,\n",
      "              'ton': 250,\n",
      "              'v_unit': 'mV'}],\n",
      " 'IV': [{'folderpath': '../data/hay_ecode_probe_linear/IV',\n",
      "         'i_unit': 'nA',\n",
      "         't_unit': 'ms',\n",
      "         'toff': 3250,\n",
      "         'ton': 250,\n",
      "         'v_unit': 'mV'}],\n",
      " 'PosCheops': [{'folderpath': '../data/hay_ecode_probe_linear/PosCheops',\n",
      "                'i_unit': 'nA',\n",
      "                't1': 8250,\n",
      "                't2': 9750,\n",
      "                't3': 13750,\n",
      "                't4': 15250,\n",
      "                't_unit': 'ms',\n",
      "                'toff': 17910,\n",
      "                'ton': 250,\n",
      "                'v_unit': 'mV'}],\n",
      " 'firepattern': [{'folderpath': '../data/hay_ecode_probe_linear/firepattern',\n",
      "                  'i_unit': 'nA',\n",
      "                  't_unit': 'ms',\n",
      "                  'toff': 3850,\n",
      "                  'ton': 250,\n",
      "                  'v_unit': 'mV'}],\n",
      " 'sAHP': [{'folderpath': '../data/hay_ecode_probe_linear/sAHP',\n",
      "           'i_unit': 'nA',\n",
      "           't_unit': 'ms',\n",
      "           'tmid': 500,\n",
      "           'tmid2': 725,\n",
      "           'toff': 1175,\n",
      "           'ton': 250,\n",
      "           'v_unit': 'mV'}]}\n"
     ]
    }
   ],
   "source": [
    "files_metadata = build_model_metadata(cell_id=model_name, ephys_dir=\"../data/hay_ecode_probe_linear/\")\n",
    "pprint(files_metadata[model_name])"
   ]
  },
  {
   "cell_type": "code",
   "execution_count": 20,
   "metadata": {},
   "outputs": [],
   "source": [
    "output_directory = f\"./efeatures_{model_name}/\"\n",
    "\n",
    "cells = read_recordings(\n",
    "    files_metadata=files_metadata,\n",
    "    recording_reader=model_csv_reader\n",
    ")"
   ]
  },
  {
   "cell_type": "code",
   "execution_count": 21,
   "metadata": {},
   "outputs": [
    {
     "name": "stdout",
     "output_type": "stream",
     "text": [
      "[<bluepyefe.cell.Cell object at 0x7f9d10c5c430>]\n"
     ]
    }
   ],
   "source": [
    "print(cells)"
   ]
  },
  {
   "cell_type": "code",
   "execution_count": 10,
   "metadata": {},
   "outputs": [],
   "source": [
    "extract_efeatures_at_targets?"
   ]
  },
  {
   "cell_type": "code",
   "execution_count": 22,
   "metadata": {},
   "outputs": [
    {
     "name": "stderr",
     "output_type": "stream",
     "text": [
      "/Users/abuccino/Documents/Codes/modeling/BluePyEfe/bluepyefe/recording.py:218: RuntimeWarning: Mean of empty slice\n",
      "  self.efeatures[feature] = numpy.nanmean(value)\n"
     ]
    },
    {
     "ename": "TypeError",
     "evalue": "'list' object is not a mapping",
     "output_type": "error",
     "traceback": [
      "\u001b[0;31m---------------------------------------------------------------------------\u001b[0m",
      "\u001b[0;31mTypeError\u001b[0m                                 Traceback (most recent call last)",
      "\u001b[0;32m<ipython-input-22-0c8fff0f82cd>\u001b[0m in \u001b[0;36m<module>\u001b[0;34m\u001b[0m\n\u001b[0;32m----> 1\u001b[0;31m extract_efeatures_at_targets(\n\u001b[0m\u001b[1;32m      2\u001b[0m     \u001b[0mcells\u001b[0m\u001b[0;34m,\u001b[0m\u001b[0;34m\u001b[0m\u001b[0;34m\u001b[0m\u001b[0m\n\u001b[1;32m      3\u001b[0m     \u001b[0mtargets\u001b[0m\u001b[0;34m,\u001b[0m\u001b[0;34m\u001b[0m\u001b[0;34m\u001b[0m\u001b[0m\n\u001b[1;32m      4\u001b[0m \u001b[0;31m#     threshold=-20.\u001b[0m\u001b[0;34m\u001b[0m\u001b[0;34m\u001b[0m\u001b[0;34m\u001b[0m\u001b[0m\n\u001b[1;32m      5\u001b[0m )\n",
      "\u001b[0;32m~/Documents/Codes/modeling/BluePyEfe/bluepyefe/extract.py\u001b[0m in \u001b[0;36mextract_efeatures_at_targets\u001b[0;34m(cells, targets, map_function)\u001b[0m\n\u001b[1;32m    187\u001b[0m     )\n\u001b[1;32m    188\u001b[0m \u001b[0;34m\u001b[0m\u001b[0m\n\u001b[0;32m--> 189\u001b[0;31m     \u001b[0;32mreturn\u001b[0m \u001b[0mlist\u001b[0m\u001b[0;34m(\u001b[0m\u001b[0mcells\u001b[0m\u001b[0;34m)\u001b[0m\u001b[0;34m\u001b[0m\u001b[0;34m\u001b[0m\u001b[0m\n\u001b[0m\u001b[1;32m    190\u001b[0m \u001b[0;34m\u001b[0m\u001b[0m\n\u001b[1;32m    191\u001b[0m \u001b[0;34m\u001b[0m\u001b[0m\n",
      "\u001b[0;32m~/Documents/Codes/modeling/BluePyEfe/bluepyefe/extract.py\u001b[0m in \u001b[0;36m_extract_efeatures_cell\u001b[0;34m(cell, targets)\u001b[0m\n\u001b[1;32m     68\u001b[0m \u001b[0;34m\u001b[0m\u001b[0m\n\u001b[1;32m     69\u001b[0m     \u001b[0;32mfor\u001b[0m \u001b[0mprot_name\u001b[0m\u001b[0;34m,\u001b[0m \u001b[0mtarget\u001b[0m \u001b[0;32min\u001b[0m \u001b[0mtargets\u001b[0m\u001b[0;34m.\u001b[0m\u001b[0mitems\u001b[0m\u001b[0;34m(\u001b[0m\u001b[0;34m)\u001b[0m\u001b[0;34m:\u001b[0m\u001b[0;34m\u001b[0m\u001b[0;34m\u001b[0m\u001b[0m\n\u001b[0;32m---> 70\u001b[0;31m         \u001b[0mcell\u001b[0m\u001b[0;34m.\u001b[0m\u001b[0mextract_efeatures\u001b[0m\u001b[0;34m(\u001b[0m\u001b[0mprot_name\u001b[0m\u001b[0;34m,\u001b[0m \u001b[0mtarget\u001b[0m\u001b[0;34m[\u001b[0m\u001b[0;34m\"efeatures\"\u001b[0m\u001b[0;34m]\u001b[0m\u001b[0;34m)\u001b[0m\u001b[0;34m\u001b[0m\u001b[0;34m\u001b[0m\u001b[0m\n\u001b[0m\u001b[1;32m     71\u001b[0m \u001b[0;34m\u001b[0m\u001b[0m\n\u001b[1;32m     72\u001b[0m     \u001b[0;32mreturn\u001b[0m \u001b[0mcell\u001b[0m\u001b[0;34m\u001b[0m\u001b[0;34m\u001b[0m\u001b[0m\n",
      "\u001b[0;32m~/Documents/Codes/modeling/BluePyEfe/bluepyefe/cell.py\u001b[0m in \u001b[0;36mextract_efeatures\u001b[0;34m(self, protocol_name, efeatures)\u001b[0m\n\u001b[1;32m    114\u001b[0m         \u001b[0;32mfor\u001b[0m \u001b[0mi\u001b[0m \u001b[0;32min\u001b[0m \u001b[0mself\u001b[0m\u001b[0;34m.\u001b[0m\u001b[0mget_recordings_id_by_protocol_name\u001b[0m\u001b[0;34m(\u001b[0m\u001b[0mprotocol_name\u001b[0m\u001b[0;34m)\u001b[0m\u001b[0;34m:\u001b[0m\u001b[0;34m\u001b[0m\u001b[0;34m\u001b[0m\u001b[0m\n\u001b[1;32m    115\u001b[0m \u001b[0;34m\u001b[0m\u001b[0m\n\u001b[0;32m--> 116\u001b[0;31m             \u001b[0mself\u001b[0m\u001b[0;34m.\u001b[0m\u001b[0mrecordings\u001b[0m\u001b[0;34m[\u001b[0m\u001b[0mi\u001b[0m\u001b[0;34m]\u001b[0m\u001b[0;34m.\u001b[0m\u001b[0mcompute_efeatures\u001b[0m\u001b[0;34m(\u001b[0m\u001b[0mefeatures\u001b[0m\u001b[0;34m=\u001b[0m\u001b[0mefeatures\u001b[0m\u001b[0;34m)\u001b[0m\u001b[0;34m\u001b[0m\u001b[0;34m\u001b[0m\u001b[0m\n\u001b[0m\u001b[1;32m    117\u001b[0m \u001b[0;34m\u001b[0m\u001b[0m\n\u001b[1;32m    118\u001b[0m     \u001b[0;32mdef\u001b[0m \u001b[0mcompute_rheobase\u001b[0m\u001b[0;34m(\u001b[0m\u001b[0mself\u001b[0m\u001b[0;34m,\u001b[0m \u001b[0mprotocols_rheobase\u001b[0m\u001b[0;34m)\u001b[0m\u001b[0;34m:\u001b[0m\u001b[0;34m\u001b[0m\u001b[0;34m\u001b[0m\u001b[0m\n",
      "\u001b[0;32m~/Documents/Codes/modeling/BluePyEfe/bluepyefe/recording.py\u001b[0m in \u001b[0;36mcompute_efeatures\u001b[0;34m(self, efeatures)\u001b[0m\n\u001b[1;32m    192\u001b[0m \u001b[0;34m\u001b[0m\u001b[0m\n\u001b[1;32m    193\u001b[0m             _set_efel_settings(\n\u001b[0;32m--> 194\u001b[0;31m                 \u001b[0;34m{\u001b[0m\u001b[0;34m**\u001b[0m\u001b[0mtemp_features\u001b[0m\u001b[0;34m[\u001b[0m\u001b[0mfeature\u001b[0m\u001b[0;34m]\u001b[0m\u001b[0;34m,\u001b[0m \u001b[0;34m**\u001b[0m\u001b[0;34m{\u001b[0m\u001b[0;34m\"stimulus_current\"\u001b[0m\u001b[0;34m:\u001b[0m \u001b[0mself\u001b[0m\u001b[0;34m.\u001b[0m\u001b[0mamp\u001b[0m\u001b[0;34m}\u001b[0m\u001b[0;34m}\u001b[0m\u001b[0;34m\u001b[0m\u001b[0;34m\u001b[0m\u001b[0m\n\u001b[0m\u001b[1;32m    195\u001b[0m             )\n\u001b[1;32m    196\u001b[0m \u001b[0;34m\u001b[0m\u001b[0m\n",
      "\u001b[0;31mTypeError\u001b[0m: 'list' object is not a mapping"
     ]
    }
   ],
   "source": [
    "extract_efeatures_at_targets(\n",
    "    cells, \n",
    "    targets,\n",
    ")"
   ]
  },
  {
   "cell_type": "code",
   "execution_count": null,
   "metadata": {},
   "outputs": [],
   "source": [
    "compute_rheobase(\n",
    "    cells, \n",
    "    protocols_rheobase=['IDthres']\n",
    ")"
   ]
  },
  {
   "cell_type": "code",
   "execution_count": null,
   "metadata": {},
   "outputs": [],
   "source": [
    "protocols = mean_efeatures(cells, targets, use_global_rheobase=True)"
   ]
  },
  {
   "cell_type": "code",
   "execution_count": null,
   "metadata": {},
   "outputs": [],
   "source": [
    "efeatures, protocol_definitions, current = create_feature_protocol_files(\n",
    "    cells,\n",
    "    protocols,\n",
    "    output_directory=output_directory,\n",
    "    threshold_nvalue_save=1,\n",
    "    write_files=True,\n",
    ")"
   ]
  },
  {
   "cell_type": "code",
   "execution_count": null,
   "metadata": {},
   "outputs": [],
   "source": [
    "plot_all_recordings_efeatures(\n",
    "    cells, protocols, output_dir=output_directory\n",
    ")"
   ]
  }
 ],
 "metadata": {
  "kernelspec": {
   "display_name": "Python 3",
   "language": "python",
   "name": "python3"
  },
  "language_info": {
   "codemirror_mode": {
    "name": "ipython",
    "version": 3
   },
   "file_extension": ".py",
   "mimetype": "text/x-python",
   "name": "python",
   "nbconvert_exporter": "python",
   "pygments_lexer": "ipython3",
   "version": "3.8.5"
  }
 },
 "nbformat": 4,
 "nbformat_minor": 4
}
