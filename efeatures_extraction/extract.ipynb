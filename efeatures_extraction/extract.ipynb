{
 "cells": [
  {
   "cell_type": "code",
   "execution_count": null,
   "metadata": {},
   "outputs": [],
   "source": [
    "import pathlib\n",
    "import numpy\n",
    "\n",
    "from bluepyefe.extract import read_recordings, extract_efeatures_at_targets, compute_rheobase,\\\n",
    "    mean_efeatures, create_feature_protocol_files\n",
    "from bluepyefe.plotting import plot_all_recordings_efeatures\n",
    "\n",
    "from reader import wcp_reader\n",
    "from targets import targets, ecode_to_index, ecodes_timings"
   ]
  },
  {
   "cell_type": "code",
   "execution_count": null,
   "metadata": {},
   "outputs": [],
   "source": [
    "def build_metadata(cell_id=\"cell1\", ephys_dir=\"./exp_patch_data/\", repetition_as_different_cells=True):\n",
    "    \n",
    "    files_metadata  = {}\n",
    "    \n",
    "    if not(repetition_as_different_cells):\n",
    "        files_metadata[cell_id] = {}\n",
    "        \n",
    "    for repetition in range(1, 5):\n",
    "        \n",
    "        if repetition_as_different_cells:\n",
    "            current_id = f\"{cell_id}_rep{repetition}\"\n",
    "            files_metadata[current_id] = {}\n",
    "        else:\n",
    "            current_id = cell_id\n",
    "            \n",
    "        for ecode in ecode_to_index:\n",
    "\n",
    "            file_path = pathlib.Path(ephys_dir) / f\"{cell_id}_run{repetition}.{ecode_to_index[ecode]}.wcp\"\n",
    "            \n",
    "            if not file_path.is_file():\n",
    "                print(f\"Missing trace {file_path}\")\n",
    "                continue\n",
    "            \n",
    "            metadata= {\n",
    "                \"filepath\": str(file_path),\n",
    "                \"i_unit\": \"pA\",\n",
    "                \"t_unit\": \"s\",\n",
    "                \"v_unit\": \"mV\",\n",
    "            }\n",
    "\n",
    "            metadata.update(ecodes_timings[ecode])\n",
    "\n",
    "            if ecode not in files_metadata[current_id]:\n",
    "                files_metadata[current_id][ecode] = [metadata]\n",
    "            else:\n",
    "                files_metadata[current_id][ecode].append(metadata)\n",
    "\n",
    "    return files_metadata"
   ]
  },
  {
   "cell_type": "code",
   "execution_count": null,
   "metadata": {},
   "outputs": [],
   "source": [
    "output_directory = \"./efeatures/\"\n",
    "\n",
    "cells = read_recordings(\n",
    "    files_metadata=build_metadata(),\n",
    "    recording_reader=wcp_reader\n",
    ")"
   ]
  },
  {
   "cell_type": "code",
   "execution_count": null,
   "metadata": {},
   "outputs": [],
   "source": [
    "extract_efeatures_at_targets(\n",
    "    cells, \n",
    "    targets,\n",
    "    threshold=-20.\n",
    ")"
   ]
  },
  {
   "cell_type": "code",
   "execution_count": null,
   "metadata": {},
   "outputs": [],
   "source": [
    "compute_rheobase(\n",
    "    cells, \n",
    "    protocols_rheobase=['IDthres']\n",
    ")"
   ]
  },
  {
   "cell_type": "code",
   "execution_count": null,
   "metadata": {},
   "outputs": [],
   "source": [
    "protocols = mean_efeatures(cells, targets, use_global_rheobase=True)"
   ]
  },
  {
   "cell_type": "code",
   "execution_count": null,
   "metadata": {},
   "outputs": [],
   "source": [
    "efeatures, protocol_definitions, current = create_feature_protocol_files(\n",
    "    cells,\n",
    "    protocols,\n",
    "    output_directory=output_directory,\n",
    "    threshold_nvalue_save=1,\n",
    "    write_files=True,\n",
    ")"
   ]
  },
  {
   "cell_type": "code",
   "execution_count": null,
   "metadata": {},
   "outputs": [],
   "source": [
    "plot_all_recordings_efeatures(\n",
    "    cells, protocols, output_dir=output_directory\n",
    ")"
   ]
  }
 ],
 "metadata": {
  "kernelspec": {
   "display_name": "Python 3",
   "language": "python",
   "name": "python3"
  },
  "language_info": {
   "codemirror_mode": {
    "name": "ipython",
    "version": 3
   },
   "file_extension": ".py",
   "mimetype": "text/x-python",
   "name": "python",
   "nbconvert_exporter": "python",
   "pygments_lexer": "ipython3",
   "version": "3.7.7"
  }
 },
 "nbformat": 4,
 "nbformat_minor": 4
}
