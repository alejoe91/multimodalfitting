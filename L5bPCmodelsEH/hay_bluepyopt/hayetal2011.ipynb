{
 "cells": [
  {
   "cell_type": "markdown",
   "metadata": {},
   "source": [
    "# Hay et al., 2011, L5PC model"
   ]
  },
  {
   "cell_type": "markdown",
   "metadata": {},
   "source": [
    "____\n",
    "\n",
    "This notebook illustrates how to **setup** and **configure optimisations** presented in the following paper:\n",
    "\n",
    "Hay, E., Hill, S., Schürmann, F., Markram, H., & Segev, I. (2011). Models of neocortical layer 5b pyramidal cells capturing a wide range of dendritic and perisomatic active properties. PLoS Comput Biol, 7(7), e1002107.\n",
    "\n",
    "This notebook and file was adapted from Thalamocortical cell example in the bluepyopt examples repository: https://github.com/BlueBrain/BluePyOpt/tree/master/examples/thalamocortical-cell\n",
    "\n",
    "by Darshan Mandge, Blue Brain Project\n",
    "____"
   ]
  },
  {
   "cell_type": "code",
   "execution_count": null,
   "metadata": {},
   "outputs": [],
   "source": [
    "# !pip install NEURON"
   ]
  },
  {
   "cell_type": "code",
   "execution_count": null,
   "metadata": {},
   "outputs": [],
   "source": [
    "%matplotlib inline\n",
    "import matplotlib.pyplot as plt\n",
    "\n",
    "import bluepyopt\n",
    "import os\n",
    "\n",
    "import pprint\n",
    "pp = pprint.PrettyPrinter(indent=2)"
   ]
  },
  {
   "cell_type": "code",
   "execution_count": null,
   "metadata": {
    "tags": []
   },
   "outputs": [],
   "source": [
    "!nrnivmodl mechanisms/"
   ]
  },
  {
   "cell_type": "markdown",
   "metadata": {},
   "source": [
    "## Set up the cell model and the cell evaluator"
   ]
  },
  {
   "cell_type": "markdown",
   "metadata": {},
   "source": [
    "A cell evaluator can be easily created by specifing the desired electrical type (e-type).\n",
    "\n",
    "A cell model is part of the cell evaluator and it is built by specifying a **morphology**, **mechanisms**, i.e. the ion channel models and the **bounds for the parameter values** (i.e. the densities of the ion channels)"
   ]
  },
  {
   "cell_type": "code",
   "execution_count": null,
   "metadata": {},
   "outputs": [],
   "source": [
    "# Import scripts for setting up the cell model and cell evaluator\n",
    "import CellEvalSetup \n",
    "\n",
    "# Library to visualize and analyse morphologies \n",
    "import neurom # https://github.com/BlueBrain/NeuroM\n",
    "import neurom.viewer\n",
    "\n",
    "etype = \"L5PCbiophys1\" # or cNAD_ltb \n",
    "\n",
    "# evaluator = CellEvalSetup.evaluator.create(etype)\n",
    "\n",
    "# neurom.viewer.draw(neurom.load_neuron(evaluator.cell_model.morphology.morphology_path))\n",
    "# print(evaluator.cell_model)"
   ]
  },
  {
   "cell_type": "code",
   "execution_count": null,
   "metadata": {},
   "outputs": [],
   "source": [
    "evaluator = CellEvalSetup.evaluator.create(etype)"
   ]
  },
  {
   "cell_type": "code",
   "execution_count": null,
   "metadata": {
    "tags": []
   },
   "outputs": [],
   "source": [
    "print(evaluator.cell_model)"
   ]
  },
  {
   "cell_type": "code",
   "execution_count": null,
   "metadata": {},
   "outputs": [],
   "source": [
    "protocols_dict = CellEvalSetup.evaluator.define_protocols(prot_path, False)"
   ]
  },
  {
   "cell_type": "code",
   "execution_count": null,
   "metadata": {},
   "outputs": [],
   "source": []
  },
  {
   "cell_type": "markdown",
   "metadata": {},
   "source": [
    "## Run an optimisation"
   ]
  },
  {
   "cell_type": "code",
   "execution_count": null,
   "metadata": {},
   "outputs": [],
   "source": [
    "seed = 0 # Number to initialize the pseudorandom number generator\n",
    "\n",
    "opt = bluepyopt.optimisations.DEAPOptimisation(\n",
    "    evaluator=evaluator,\n",
    "    map_function=map, # The map function can be used to parallelize the optimisation\n",
    "    seed=seed,\n",
    "    eta=10., mutpb=1.0, cxpb=1.0)\n"
   ]
  }
 ],
 "metadata": {
  "kernelspec": {
   "display_name": "Python 3",
   "language": "python",
   "name": "python3"
  },
  "language_info": {
   "codemirror_mode": {
    "name": "ipython",
    "version": 3
   },
   "file_extension": ".py",
   "mimetype": "text/x-python",
   "name": "python",
   "nbconvert_exporter": "python",
   "pygments_lexer": "ipython3",
   "version": "3.7.5"
  }
 },
 "nbformat": 4,
 "nbformat_minor": 2
}
