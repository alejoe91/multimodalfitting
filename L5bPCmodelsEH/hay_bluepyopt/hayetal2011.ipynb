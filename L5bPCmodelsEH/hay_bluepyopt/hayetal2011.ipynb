{
 "cells": [
  {
   "cell_type": "markdown",
   "metadata": {},
   "source": [
    "# Hay et al., 2011, L5PC model"
   ]
  },
  {
   "cell_type": "markdown",
   "metadata": {},
   "source": [
    "____\n",
    "\n",
    "This notebook illustrates how to **setup** and **configure optimisations** presented in the following paper:\n",
    "\n",
    "Hay, E., Hill, S., Schürmann, F., Markram, H., & Segev, I. (2011). Models of neocortical layer 5b pyramidal cells capturing a wide range of dendritic and perisomatic active properties. PLoS Comput Biol, 7(7), e1002107.\n",
    "\n",
    "This notebook and file was adapted from Thalamocortical cell example in the bluepyopt examples repository: https://github.com/BlueBrain/BluePyOpt/tree/master/examples/thalamocortical-cell\n",
    "\n",
    "by Darshan Mandge, Blue Brain Project\n",
    "____"
   ]
  },
  {
   "cell_type": "code",
   "execution_count": 1,
   "metadata": {},
   "outputs": [],
   "source": [
    "# !pip install NEURON"
   ]
  },
  {
   "cell_type": "code",
   "execution_count": 1,
   "metadata": {},
   "outputs": [],
   "source": [
    "%matplotlib inline\n",
    "import matplotlib.pyplot as plt\n",
    "\n",
    "import bluepyopt\n",
    "import os\n",
    "\n",
    "import pprint\n",
    "pp = pprint.PrettyPrinter(indent=2)"
   ]
  },
  {
   "cell_type": "code",
   "execution_count": 2,
   "metadata": {
    "tags": []
   },
   "outputs": [
    {
     "name": "stdout",
     "output_type": "stream",
     "text": [
      "/Users/mandge/Desktop/LFPy/multimodalfitting/L5bPCmodelsEH/hay_bluepyopt\n",
      "ls: mechanisms//*.inc: No such file or directory\n",
      "mechanisms//CaDynamics_E2.mod mechanisms//Ca_HVA.mod mechanisms//Ca_LVAst.mod mechanisms//Ih.mod mechanisms//Im.mod mechanisms//K_Pst.mod mechanisms//K_Tst.mod mechanisms//NaTa_t.mod mechanisms//NaTs2_t.mod mechanisms//Nap_Et2.mod mechanisms//SK_E2.mod mechanisms//SKv3_1.mod mechanisms//epsp.mod\n",
      "CaDynamics_E2.mod Ca_HVA.mod Ca_LVAst.mod Ih.mod Im.mod K_Pst.mod K_Tst.mod NaTa_t.mod NaTs2_t.mod Nap_Et2.mod SK_E2.mod SKv3_1.mod epsp.mod\n",
      " -> \u001b[32mCompiling\u001b[0m mod_func.c\n",
      "/Library/Developer/CommandLineTools/usr/bin/cc -g  -O2   -I. -I..   -I/Users/mandge/neuron-install/include  -I/usr/local/Cellar/open-mpi/4.0.3/include  -isysroot /Library/Developer/CommandLineTools/SDKs/MacOSX.sdk -fPIC -c mod_func.c -o mod_func.o\n",
      " -> \u001b[32mNMODL\u001b[0m CaDynamics_E2.mod\n",
      " -> \u001b[32mNMODL\u001b[0m Ca_LVAst.mod\n",
      "MODLUNIT=/Users/mandge/neuron-install/share/nrn/lib/nrnunits.lib \\\n",
      "\t  /Users/mandge/neuron-install/bin/nocmodl CaDynamics_E2.mod\n",
      " -> \u001b[32mNMODL\u001b[0m Ca_HVA.mod\n",
      "MODLUNIT=/Users/mandge/neuron-install/share/nrn/lib/nrnunits.lib \\\n",
      "\t  /Users/mandge/neuron-install/bin/nocmodl Ca_LVAst.mod\n",
      "MODLUNIT=/Users/mandge/neuron-install/share/nrn/lib/nrnunits.lib \\\n",
      "\t  /Users/mandge/neuron-install/bin/nocmodl Ca_HVA.mod\n",
      "Translating Ca_LVAst.mod into Ca_LVAst.c\n",
      "Translating CaDynamics_E2.mod into CaDynamics_E2.c\n",
      "Translating Ca_HVA.mod into Ca_HVA.c\n",
      "Thread Safe\n",
      "Thread Safe\n",
      "Thread Safe\n",
      " -> \u001b[32mNMODL\u001b[0m Ih.mod\n",
      "MODLUNIT=/Users/mandge/neuron-install/share/nrn/lib/nrnunits.lib \\\n",
      "\t  /Users/mandge/neuron-install/bin/nocmodl Ih.mod\n",
      " -> \u001b[32mNMODL\u001b[0m Im.mod\n",
      "MODLUNIT=/Users/mandge/neuron-install/share/nrn/lib/nrnunits.lib \\\n",
      "\t  /Users/mandge/neuron-install/bin/nocmodl Im.mod\n",
      " -> \u001b[32mNMODL\u001b[0m K_Pst.mod\n",
      "MODLUNIT=/Users/mandge/neuron-install/share/nrn/lib/nrnunits.lib \\\n",
      "\t  /Users/mandge/neuron-install/bin/nocmodl K_Pst.mod\n",
      "Translating Ih.mod into Ih.c\n",
      "Translating K_Pst.mod into K_Pst.c\n",
      "Thread Safe\n",
      "Translating Im.mod into Im.c\n",
      "Thread Safe\n",
      "Thread Safe\n",
      " -> \u001b[32mNMODL\u001b[0m K_Tst.mod\n",
      "MODLUNIT=/Users/mandge/neuron-install/share/nrn/lib/nrnunits.lib \\\n",
      "\t  /Users/mandge/neuron-install/bin/nocmodl K_Tst.mod\n",
      " -> \u001b[32mNMODL\u001b[0m NaTa_t.mod\n",
      "MODLUNIT=/Users/mandge/neuron-install/share/nrn/lib/nrnunits.lib \\\n",
      "\t  /Users/mandge/neuron-install/bin/nocmodl NaTa_t.mod\n",
      " -> \u001b[32mNMODL\u001b[0m NaTs2_t.mod\n",
      "MODLUNIT=/Users/mandge/neuron-install/share/nrn/lib/nrnunits.lib \\\n",
      "\t  /Users/mandge/neuron-install/bin/nocmodl NaTs2_t.mod\n",
      "Translating K_Tst.mod into K_Tst.c\n",
      "Translating NaTa_t.mod into NaTa_t.c\n",
      "Translating NaTs2_t.mod into NaTs2_t.c\n",
      "Thread Safe\n",
      "Thread Safe\n",
      "Thread Safe\n",
      " -> \u001b[32mNMODL\u001b[0m Nap_Et2.mod\n",
      "MODLUNIT=/Users/mandge/neuron-install/share/nrn/lib/nrnunits.lib \\\n",
      "\t  /Users/mandge/neuron-install/bin/nocmodl Nap_Et2.mod\n",
      " -> \u001b[32mNMODL\u001b[0m SK_E2.mod\n",
      " -> \u001b[32mNMODL\u001b[0m SKv3_1.mod\n",
      "MODLUNIT=/Users/mandge/neuron-install/share/nrn/lib/nrnunits.lib \\\n",
      "\t  /Users/mandge/neuron-install/bin/nocmodl SKv3_1.mod\n",
      "MODLUNIT=/Users/mandge/neuron-install/share/nrn/lib/nrnunits.lib \\\n",
      "\t  /Users/mandge/neuron-install/bin/nocmodl SK_E2.mod\n",
      "Translating Nap_Et2.mod into Nap_Et2.c\n",
      "Thread Safe\n",
      "Translating SKv3_1.mod into SKv3_1.c\n",
      "Translating SK_E2.mod into SK_E2.c\n",
      "Thread Safe\n",
      "Thread Safe\n",
      " -> \u001b[32mNMODL\u001b[0m epsp.mod\n",
      "MODLUNIT=/Users/mandge/neuron-install/share/nrn/lib/nrnunits.lib \\\n",
      "\t  /Users/mandge/neuron-install/bin/nocmodl epsp.mod\n",
      " -> \u001b[32mCompiling\u001b[0m x86_64/CaDynamics_E2.c\n",
      "(cd .. ; /Library/Developer/CommandLineTools/usr/bin/cc -g  -O2   -I. -I..   -I/Users/mandge/neuron-install/include  -I/usr/local/Cellar/open-mpi/4.0.3/include  -isysroot /Library/Developer/CommandLineTools/SDKs/MacOSX.sdk -fPIC -c x86_64/CaDynamics_E2.c -o x86_64/CaDynamics_E2.o)\n",
      " -> \u001b[32mCompiling\u001b[0m x86_64/Ca_HVA.c\n",
      "(cd .. ; /Library/Developer/CommandLineTools/usr/bin/cc -g  -O2   -I. -I..   -I/Users/mandge/neuron-install/include  -I/usr/local/Cellar/open-mpi/4.0.3/include  -isysroot /Library/Developer/CommandLineTools/SDKs/MacOSX.sdk -fPIC -c x86_64/Ca_HVA.c -o x86_64/Ca_HVA.o)\n",
      "Translating epsp.mod into epsp.c\n",
      "Thread Safe\n",
      " -> \u001b[32mCompiling\u001b[0m x86_64/Ca_LVAst.c\n",
      "(cd .. ; /Library/Developer/CommandLineTools/usr/bin/cc -g  -O2   -I. -I..   -I/Users/mandge/neuron-install/include  -I/usr/local/Cellar/open-mpi/4.0.3/include  -isysroot /Library/Developer/CommandLineTools/SDKs/MacOSX.sdk -fPIC -c x86_64/Ca_LVAst.c -o x86_64/Ca_LVAst.o)\n",
      " -> \u001b[32mCompiling\u001b[0m x86_64/Ih.c\n",
      "(cd .. ; /Library/Developer/CommandLineTools/usr/bin/cc -g  -O2   -I. -I..   -I/Users/mandge/neuron-install/include  -I/usr/local/Cellar/open-mpi/4.0.3/include  -isysroot /Library/Developer/CommandLineTools/SDKs/MacOSX.sdk -fPIC -c x86_64/Ih.c -o x86_64/Ih.o)\n",
      "\u001b[1mx86_64/Ca_HVA.c:266:15: \u001b[0m\u001b[0;1;35mwarning: \u001b[0m\u001b[1mequality comparison with extraneous parentheses\n",
      "      [-Wparentheses-equality]\u001b[0m\n",
      "    if ( ( v  == - 27.0 ) ) {\n",
      "\u001b[0;1;32m           ~~~^~~~~~~~~\n",
      "\u001b[0m\u001b[1mx86_64/Ca_HVA.c:266:15: \u001b[0m\u001b[0;1;30mnote: \u001b[0mremove extraneous parentheses around the\n",
      "      comparison to silence this warning\u001b[0m\n",
      "    if ( ( v  == - 27.0 ) ) {\n",
      "\u001b[0;1;32m         ~~   ^         ~~\n",
      "\u001b[0m\u001b[1mx86_64/Ca_HVA.c:266:15: \u001b[0m\u001b[0;1;30mnote: \u001b[0muse '=' to turn this equality comparison into an\n",
      "      assignment\u001b[0m\n",
      "    if ( ( v  == - 27.0 ) ) {\n",
      "\u001b[0;1;32m              ^~\n",
      "\u001b[0m\u001b[0;32m              =\n",
      "\u001b[0m -> \u001b[32mCompiling\u001b[0m x86_64/Im.c\n",
      "(cd .. ; /Library/Developer/CommandLineTools/usr/bin/cc -g  -O2   -I. -I..   -I/Users/mandge/neuron-install/include  -I/usr/local/Cellar/open-mpi/4.0.3/include  -isysroot /Library/Developer/CommandLineTools/SDKs/MacOSX.sdk -fPIC -c x86_64/Im.c -o x86_64/Im.o)\n",
      "1 warning generated.\n",
      " -> \u001b[32mCompiling\u001b[0m x86_64/K_Pst.c\n",
      "(cd .. ; /Library/Developer/CommandLineTools/usr/bin/cc -g  -O2   -I. -I..   -I/Users/mandge/neuron-install/include  -I/usr/local/Cellar/open-mpi/4.0.3/include  -isysroot /Library/Developer/CommandLineTools/SDKs/MacOSX.sdk -fPIC -c x86_64/K_Pst.c -o x86_64/K_Pst.o)\n",
      " -> \u001b[32mCompiling\u001b[0m x86_64/K_Tst.c\n",
      "(cd .. ; /Library/Developer/CommandLineTools/usr/bin/cc -g  -O2   -I. -I..   -I/Users/mandge/neuron-install/include  -I/usr/local/Cellar/open-mpi/4.0.3/include  -isysroot /Library/Developer/CommandLineTools/SDKs/MacOSX.sdk -fPIC -c x86_64/K_Tst.c -o x86_64/K_Tst.o)\n",
      " -> \u001b[32mCompiling\u001b[0m x86_64/NaTa_t.c\n",
      "(cd .. ; /Library/Developer/CommandLineTools/usr/bin/cc -g  -O2   -I. -I..   -I/Users/mandge/neuron-install/include  -I/usr/local/Cellar/open-mpi/4.0.3/include  -isysroot /Library/Developer/CommandLineTools/SDKs/MacOSX.sdk -fPIC -c x86_64/NaTa_t.c -o x86_64/NaTa_t.o)\n",
      " -> \u001b[32mCompiling\u001b[0m x86_64/NaTs2_t.c\n",
      "(cd .. ; /Library/Developer/CommandLineTools/usr/bin/cc -g  -O2   -I. -I..   -I/Users/mandge/neuron-install/include  -I/usr/local/Cellar/open-mpi/4.0.3/include  -isysroot /Library/Developer/CommandLineTools/SDKs/MacOSX.sdk -fPIC -c x86_64/NaTs2_t.c -o x86_64/NaTs2_t.o)\n",
      " -> \u001b[32mCompiling\u001b[0m x86_64/Nap_Et2.c\n",
      "(cd .. ; /Library/Developer/CommandLineTools/usr/bin/cc -g  -O2   -I. -I..   -I/Users/mandge/neuron-install/include  -I/usr/local/Cellar/open-mpi/4.0.3/include  -isysroot /Library/Developer/CommandLineTools/SDKs/MacOSX.sdk -fPIC -c x86_64/Nap_Et2.c -o x86_64/Nap_Et2.o)\n",
      " -> \u001b[32mCompiling\u001b[0m x86_64/SK_E2.c\n",
      "(cd .. ; /Library/Developer/CommandLineTools/usr/bin/cc -g  -O2   -I. -I..   -I/Users/mandge/neuron-install/include  -I/usr/local/Cellar/open-mpi/4.0.3/include  -isysroot /Library/Developer/CommandLineTools/SDKs/MacOSX.sdk -fPIC -c x86_64/SK_E2.c -o x86_64/SK_E2.o)\n",
      " -> \u001b[32mCompiling\u001b[0m x86_64/SKv3_1.c\n",
      "(cd .. ; /Library/Developer/CommandLineTools/usr/bin/cc -g  -O2   -I. -I..   -I/Users/mandge/neuron-install/include  -I/usr/local/Cellar/open-mpi/4.0.3/include  -isysroot /Library/Developer/CommandLineTools/SDKs/MacOSX.sdk -fPIC -c x86_64/SKv3_1.c -o x86_64/SKv3_1.o)\n",
      " -> \u001b[32mCompiling\u001b[0m x86_64/epsp.c\n",
      "(cd .. ; /Library/Developer/CommandLineTools/usr/bin/cc -g  -O2   -I. -I..   -I/Users/mandge/neuron-install/include  -I/usr/local/Cellar/open-mpi/4.0.3/include  -isysroot /Library/Developer/CommandLineTools/SDKs/MacOSX.sdk -fPIC -c x86_64/epsp.c -o x86_64/epsp.o)\n",
      " => \u001b[32mLINKING\u001b[0m library x86_64/libnrnmech.0.0.dylib Mod files: CaDynamics_E2.mod Ca_HVA.mod Ca_LVAst.mod Ih.mod Im.mod K_Pst.mod K_Tst.mod NaTa_t.mod NaTs2_t.mod Nap_Et2.mod SK_E2.mod SKv3_1.mod epsp.mod\n",
      "(cd .. ; /Library/Developer/CommandLineTools/usr/bin/c++ -g  -O2  -std=c++11 -dynamiclib -Wl,-headerpad_max_install_names -undefined dynamic_lookup -fPIC  -I /Users/mandge/neuron-install/include -o x86_64/libnrnmech.0.0.dylib -Wl,-install_name,@rpath/libnrnmech.0.0.dylib \\\n",
      "\t  x86_64/mod_func.o x86_64/CaDynamics_E2.o x86_64/Ca_HVA.o x86_64/Ca_LVAst.o x86_64/Ih.o x86_64/Im.o x86_64/K_Pst.o x86_64/K_Tst.o x86_64/NaTa_t.o x86_64/NaTs2_t.o x86_64/Nap_Et2.o x86_64/SK_E2.o x86_64/SKv3_1.o x86_64/epsp.o -L/Users/mandge/neuron-install/lib -lnrniv -Wl,-rpath,/Users/mandge/neuron-install/lib    -lreadline /usr/local/opt/python/Frameworks/Python.framework/Versions/3.7/lib/libpython3.7m.dylib /usr/local/Cellar/open-mpi/4.0.3/lib/libmpi.dylib /usr/X11R6/lib/libSM.dylib /usr/X11R6/lib/libICE.dylib /usr/X11R6/lib/libX11.dylib /usr/X11R6/lib/libXext.dylib)\n"
     ]
    },
    {
     "name": "stdout",
     "output_type": "stream",
     "text": [
      "(cd .. ; rm -f x86_64/.libs/libnrnmech.so ; mkdir -p x86_64/.libs ; ln -s ../../x86_64/libnrnmech.0.0.dylib x86_64/.libs/libnrnmech.so)\r\n",
      "Successfully created x86_64/special\r\n"
     ]
    }
   ],
   "source": [
    "!nrnivmodl mechanisms/"
   ]
  },
  {
   "cell_type": "markdown",
   "metadata": {},
   "source": [
    "## Set up the cell model and the cell evaluator"
   ]
  },
  {
   "cell_type": "markdown",
   "metadata": {},
   "source": [
    "A cell evaluator can be easily created by specifing the desired electrical type (e-type).\n",
    "\n",
    "A cell model is part of the cell evaluator and it is built by specifying a **morphology**, **mechanisms**, i.e. the ion channel models and the **bounds for the parameter values** (i.e. the densities of the ion channels)"
   ]
  },
  {
   "cell_type": "code",
   "execution_count": 3,
   "metadata": {},
   "outputs": [],
   "source": [
    "# Import scripts for setting up the cell model and cell evaluator\n",
    "import CellEvalSetup \n",
    "\n",
    "# Library to visualize and analyse morphologies \n",
    "import neurom # https://github.com/BlueBrain/NeuroM\n",
    "import neurom.viewer\n",
    "\n",
    "etype = \"L5PCbiophys1\" # or cNAD_ltb \n",
    "\n",
    "# evaluator = CellEvalSetup.evaluator.create(etype)\n",
    "\n",
    "# neurom.viewer.draw(neurom.load_neuron(evaluator.cell_model.morphology.morphology_path))\n",
    "# print(evaluator.cell_model)"
   ]
  },
  {
   "cell_type": "code",
   "execution_count": 4,
   "metadata": {},
   "outputs": [],
   "source": [
    "evaluator = CellEvalSetup.evaluator.create(etype)"
   ]
  },
  {
   "cell_type": "code",
   "execution_count": 5,
   "metadata": {
    "tags": []
   },
   "outputs": [
    {
     "name": "stdout",
     "output_type": "stream",
     "text": [
      "L5PCbiophys1:\n",
      "  morphology:\n",
      "    morphologies/cell1.asc\n",
      "  mechanisms:\n",
      "    pas.all: pas at ['all']\n",
      "    Ca_LVAst.somatic: Ca_LVAst at ['somatic']\n",
      "    Ca_HVA.somatic: Ca_HVA at ['somatic']\n",
      "    SKv3_1.somatic: SKv3_1 at ['somatic']\n",
      "    SK_E2.somatic: SK_E2 at ['somatic']\n",
      "    K_Tst.somatic: K_Tst at ['somatic']\n",
      "    K_Pst.somatic: K_Pst at ['somatic']\n",
      "    Nap_Et2.somatic: Nap_Et2 at ['somatic']\n",
      "    NaTa_t.somatic: NaTa_t at ['somatic']\n",
      "    CaDynamics_E2.somatic: CaDynamics_E2 at ['somatic']\n",
      "    Ih.somatic: Ih at ['somatic']\n",
      "    Ih.apical: Ih at ['apical']\n",
      "    SK_E2.apical: SK_E2 at ['apical']\n",
      "    Ca_LVAst.apical: Ca_LVAst at ['apical']\n",
      "    Ca_HVA.apical: Ca_HVA at ['apical']\n",
      "    SKv3_1.apical: SKv3_1 at ['apical']\n",
      "    NaTa_t.apical: NaTa_t at ['apical']\n",
      "    Im.apical: Im at ['apical']\n",
      "    CaDynamics_E2.apical: CaDynamics_E2 at ['apical']\n",
      "    Ih.basal: Ih at ['basal']\n",
      "  params:\n",
      "    v_init: v_init = -80\n",
      "    celsius: celsius = 34\n",
      "    cm.all: ['all'] cm = 1\n",
      "    Ra.all: ['all'] Ra = 100\n",
      "    e_pas.all: ['all'] e_pas = -90\n",
      "    ena.somatic: ['somatic'] ena = 50\n",
      "    ek.somatic: ['somatic'] ek = -85\n",
      "    gIhbar_Ih.somatic: ['somatic'] gIhbar_Ih = 0.0002\n",
      "    g_pas.somatic: ['somatic'] g_pas = [2e-05, 5e-05]\n",
      "    decay_CaDynamics_E2.somatic: ['somatic'] decay_CaDynamics_E2 = [20, 1000]\n",
      "    gamma_CaDynamics_E2.somatic: ['somatic'] gamma_CaDynamics_E2 = [0.0005, 0.05]\n",
      "    gCa_LVAstbar_Ca_LVAst.somatic: ['somatic'] gCa_LVAstbar_Ca_LVAst = [0, 0.01]\n",
      "    gCa_HVAbar_Ca_HVA.somatic: ['somatic'] gCa_HVAbar_Ca_HVA = [0, 0.1]\n",
      "    gSKv3_1bar_SKv3_1.somatic: ['somatic'] gSKv3_1bar_SKv3_1 = [0, 2]\n",
      "    gSK_E2bar_SK_E2.somatic: ['somatic'] gSK_E2bar_SK_E2 = [0, 0.1]\n",
      "    gK_Tstbar_K_Tst.somatic: ['somatic'] gK_Tstbar_K_Tst = [0, 0.1]\n",
      "    gK_Pstbar_K_Pst.somatic: ['somatic'] gK_Pstbar_K_Pst = [0, 1]\n",
      "    gNap_Et2bar_Nap_Et2.somatic: ['somatic'] gNap_Et2bar_Nap_Et2 = [0, 0.01]\n",
      "    gNaTa_tbar_NaTa_t.somatic: ['somatic'] gNaTa_tbar_NaTa_t = [0, 4]\n",
      "    ena.apical: ['apical'] ena = 50\n",
      "    ek.apical: ['apical'] ek = -85\n",
      "    g_pas.apical: ['apical'] g_pas = [1.5e-05, 5e-05]\n",
      "    decay_CaDynamics_E2.apical: ['apical'] decay_CaDynamics_E2 = [20, 200]\n",
      "    gamma_CaDynamics_E2.apical: ['apical'] gamma_CaDynamics_E2 = [0.0005, 0.05]\n",
      "    gSK_E2bar_SK_E2.apical: ['apical'] gSK_E2bar_SK_E2 = [0, 0.05]\n",
      "    gSKv3_1bar_SKv3_1.apical: ['apical'] gSKv3_1bar_SKv3_1 = [0, 0.02]\n",
      "    gNaTa_tbar_NaTa_t.apical: ['apical'] gNaTa_tbar_NaTa_t = [0, 0.02]\n",
      "    gImbar_Im.apical: ['apical'] gImbar_Im = [0, 0.005]\n",
      "    gIhbar_Ih.apical: ['apical'] gIhbar_Ih = 0.0002\n",
      "    gCa_LVAstbar_Ca_LVAst.apical: ['apical'] gCa_LVAstbar_Ca_LVAst = 0.00343\n",
      "    gCa_HVAbar_Ca_HVA.apical: ['apical'] gCa_HVAbar_Ca_HVA = 0.000992\n",
      "    gIhbar_Ih.basal: ['basal'] gIhbar_Ih = 0.0002\n",
      "    g_pas.basal: ['basal'] g_pas = [1.5e-05, 5e-05]\n",
      "    g_pas.axonal: ['axonal'] g_pas = [2e-05, 5e-05]\n",
      "\n"
     ]
    }
   ],
   "source": [
    "print(evaluator.cell_model)"
   ]
  },
  {
   "cell_type": "code",
   "execution_count": 7,
   "metadata": {},
   "outputs": [
    {
     "ename": "NameError",
     "evalue": "name 'prot_path' is not defined",
     "output_type": "error",
     "traceback": [
      "\u001b[0;31m---------------------------------------------------------------------------\u001b[0m",
      "\u001b[0;31mNameError\u001b[0m                                 Traceback (most recent call last)",
      "\u001b[0;32m<ipython-input-7-64756d5b38c7>\u001b[0m in \u001b[0;36m<module>\u001b[0;34m\u001b[0m\n\u001b[0;32m----> 1\u001b[0;31m \u001b[0mprotocols_dict\u001b[0m \u001b[0;34m=\u001b[0m \u001b[0mCellEvalSetup\u001b[0m\u001b[0;34m.\u001b[0m\u001b[0mevaluator\u001b[0m\u001b[0;34m.\u001b[0m\u001b[0mdefine_protocols\u001b[0m\u001b[0;34m(\u001b[0m\u001b[0mprot_path\u001b[0m\u001b[0;34m,\u001b[0m \u001b[0;32mFalse\u001b[0m\u001b[0;34m)\u001b[0m\u001b[0;34m\u001b[0m\u001b[0;34m\u001b[0m\u001b[0m\n\u001b[0m",
      "\u001b[0;31mNameError\u001b[0m: name 'prot_path' is not defined"
     ]
    }
   ],
   "source": [
    "protocols_dict = CellEvalSetup.evaluator.define_protocols(prot_path, False)"
   ]
  },
  {
   "cell_type": "code",
   "execution_count": null,
   "metadata": {},
   "outputs": [],
   "source": []
  },
  {
   "cell_type": "markdown",
   "metadata": {},
   "source": [
    "## Run an optimisation"
   ]
  },
  {
   "cell_type": "code",
   "execution_count": null,
   "metadata": {},
   "outputs": [],
   "source": [
    "seed = 0 # Number to initialize the pseudorandom number generator\n",
    "\n",
    "opt = bluepyopt.optimisations.DEAPOptimisation(\n",
    "    evaluator=evaluator,\n",
    "    map_function=map, # The map function can be used to parallelize the optimisation\n",
    "    seed=seed,\n",
    "    eta=10., mutpb=1.0, cxpb=1.0)\n"
   ]
  }
 ],
 "metadata": {
  "kernelspec": {
   "display_name": "Python 3",
   "language": "python",
   "name": "python3"
  },
  "language_info": {
   "codemirror_mode": {
    "name": "ipython",
    "version": 3
   },
   "file_extension": ".py",
   "mimetype": "text/x-python",
   "name": "python",
   "nbconvert_exporter": "python",
   "pygments_lexer": "ipython3",
   "version": "3.7.5"
  }
 },
 "nbformat": 4,
 "nbformat_minor": 2
}
