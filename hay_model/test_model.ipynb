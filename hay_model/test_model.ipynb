{
 "cells": [
  {
   "cell_type": "code",
   "execution_count": null,
   "metadata": {},
   "outputs": [],
   "source": [
    "import json\n",
    "import matplotlib.pyplot as plt\n",
    "\n",
    "import bluepyopt as bpopt\n",
    "import bluepyopt.ephys as ephys\n",
    "\n",
    "import model\n",
    "import evaluator\n",
    "import time\n",
    "\n",
    "import sys\n",
    "\n",
    "from pathlib import Path\n",
    "\n",
    "%matplotlib notebook"
   ]
  },
  {
   "cell_type": "code",
   "execution_count": null,
   "metadata": {},
   "outputs": [],
   "source": [
    "probe = model.define_probe(probe_type=\"linear\")"
   ]
  },
  {
   "cell_type": "code",
   "execution_count": null,
   "metadata": {},
   "outputs": [],
   "source": [
    "l5pc_cell = model.create()\n",
    "\n",
    "param_names = [param.name for param in l5pc_cell.params.values() if not param.frozen]\n",
    "\n",
    "fitness_protocols = evaluator.define_protocols(probe, protocols_with_lfp=['Step1'])\n",
    "\n",
    "fitness_calculator = evaluator.define_fitness_calculator(\n",
    "    fitness_protocols,\n",
    "    feature_file=Path(\"./config/features.json\"),\n",
    "    feature_set='multiple'\n",
    ")\n",
    "\n",
    "sim = ephys.simulators.LFPySimulator(l5pc_cell, cvode_active=True, electrode=probe)\n",
    "\n",
    "eva = ephys.evaluators.CellEvaluator(                    \n",
    "        cell_model=l5pc_cell,                                                       \n",
    "        param_names=param_names,                                                    \n",
    "        fitness_protocols=fitness_protocols,                                        \n",
    "        fitness_calculator=fitness_calculator,                                      \n",
    "        sim=sim)"
   ]
  },
  {
   "cell_type": "code",
   "execution_count": null,
   "metadata": {},
   "outputs": [],
   "source": [
    "fitness_protocols"
   ]
  },
  {
   "cell_type": "code",
   "execution_count": null,
   "metadata": {},
   "outputs": [],
   "source": [
    "release_params = evaluator.get_release_params()"
   ]
  },
  {
   "cell_type": "code",
   "execution_count": null,
   "metadata": {},
   "outputs": [],
   "source": [
    "responses = eva.run_protocols(protocols=fitness_protocols.values(), param_values=release_params)"
   ]
  },
  {
   "cell_type": "code",
   "execution_count": null,
   "metadata": {},
   "outputs": [],
   "source": [
    "t_start = time.time()\n",
    "resp_step1 = fitness_protocols['Step1'].run(cell_model=l5pc_cell, param_values=release_params, sim=sim)\n",
    "print(f\"Elapsed time: {time.time() - t_start}\")"
   ]
  },
  {
   "cell_type": "code",
   "execution_count": null,
   "metadata": {},
   "outputs": [],
   "source": [
    "fitness_protocols[\"Step1\"].recordings"
   ]
  },
  {
   "cell_type": "code",
   "execution_count": null,
   "metadata": {},
   "outputs": [],
   "source": [
    "responses.keys()"
   ]
  },
  {
   "cell_type": "code",
   "execution_count": null,
   "metadata": {},
   "outputs": [],
   "source": [
    "def filter_lfp_response(response, fs=20.0, fcut=[100, 3000], order=2, filt_type=\"filtfilt\"):\n",
    "    from utils import _interpolate_response, _filter_response\n",
    "    response_new = _interpolate_response(response, fs=fs)\n",
    "    response_new = _filter_response(response_new, fcut=fcut, order=order, filt_type=filt_type)\n",
    "    return response_new"
   ]
  },
  {
   "cell_type": "code",
   "execution_count": null,
   "metadata": {},
   "outputs": [],
   "source": [
    "response_unfilt = responses['Step1.MEA.LFP']\n",
    "repsonse_filt = filter_lfp_response(response_unfilt)"
   ]
  },
  {
   "cell_type": "code",
   "execution_count": null,
   "metadata": {},
   "outputs": [],
   "source": [
    "plt.figure()\n",
    "_ = plt.plot(repsonse_filt['time'], repsonse_filt['voltage'][5:7].T, color='C0')\n",
    "_ = plt.plot(response_unfilt['time'], response_unfilt['voltage'][5:7].T, color='C1')"
   ]
  },
  {
   "cell_type": "code",
   "execution_count": null,
   "metadata": {},
   "outputs": [],
   "source": [
    "plt.figure()\n",
    "_ = plt.plot(responses['bAP.soma.v']['time'], responses['bAP.soma.v']['voltage'].T)\n",
    "_ = plt.plot(responses['bAP.dend1.v']['time'], responses['bAP.dend1.v']['voltage'].T)\n",
    "_ = plt.plot(responses['bAP.dend2.v']['time'], responses['bAP.dend2.v']['voltage'].T)"
   ]
  },
  {
   "cell_type": "code",
   "execution_count": null,
   "metadata": {},
   "outputs": [],
   "source": [
    "fitness_protocols"
   ]
  },
  {
   "cell_type": "code",
   "execution_count": null,
   "metadata": {},
   "outputs": [],
   "source": [
    "loc = fitness_protocols['EPSP'].stimuli[0].location\n",
    "type(loc)"
   ]
  },
  {
   "cell_type": "code",
   "execution_count": null,
   "metadata": {},
   "outputs": [],
   "source": [
    "loc.soma_distance"
   ]
  },
  {
   "cell_type": "code",
   "execution_count": null,
   "metadata": {},
   "outputs": [],
   "source": [
    "responses = eva.run_protocols(protocols=fitness_protocols.values(), param_values={})"
   ]
  },
  {
   "cell_type": "code",
   "execution_count": null,
   "metadata": {},
   "outputs": [],
   "source": [
    "fig, axes = plt.subplots(len(responses), figsize=(10, 20), squeeze=False)\n",
    "for index, (resp_name, response) in enumerate(sorted(responses.items())):\n",
    "    axes[index, 0].plot(response['time'], response['voltage'], label=resp_name)\n",
    "    axes[index, 0].set_title(resp_name)\n",
    "fig.tight_layout()\n",
    "fig.show()"
   ]
  },
  {
   "cell_type": "code",
   "execution_count": null,
   "metadata": {},
   "outputs": [],
   "source": []
  }
 ],
 "metadata": {
  "kernelspec": {
   "display_name": "Python 3",
   "language": "python",
   "name": "python3"
  },
  "language_info": {
   "codemirror_mode": {
    "name": "ipython",
    "version": 3
   },
   "file_extension": ".py",
   "mimetype": "text/x-python",
   "name": "python",
   "nbconvert_exporter": "python",
   "pygments_lexer": "ipython3",
   "version": "3.6.10"
  }
 },
 "nbformat": 4,
 "nbformat_minor": 1
}
