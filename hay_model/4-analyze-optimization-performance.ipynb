{
 "cells": [
  {
   "cell_type": "markdown",
   "metadata": {},
   "source": [
    "# 4) Analyze and evaluate optimization output\n",
    "\n",
    "This final notebook uses the `runs.pkl` file created in notebook 2 and it analyzes:\n",
    "\n",
    "- the distance between different feature sets in the parameter space\n",
    "- the distance between different feature sets in the feature space\n",
    "- the distance between different feature sets in the extracellular signals"
   ]
  },
  {
   "cell_type": "code",
   "execution_count": null,
   "metadata": {},
   "outputs": [],
   "source": [
    "import pickle\n",
    "import pandas as pd\n",
    "import seaborn as sns\n",
    "import sys\n",
    "from scipy.spatial import distance\n",
    "\n",
    "import bluepyopt as bpopt\n",
    "import bluepyopt.ephys as ephys\n",
    "\n",
    "import matplotlib.pyplot as plt\n",
    "import MEAutility as mu\n",
    "import json\n",
    "import time\n",
    "import numpy as np\n",
    "import LFPy\n",
    "from pathlib import Path\n",
    "\n",
    "import model\n",
    "import evaluator\n",
    "import plotting \n",
    "import utils\n",
    "\n",
    "%matplotlib notebook"
   ]
  },
  {
   "cell_type": "markdown",
   "metadata": {},
   "source": [
    "### Load gt params and optimization output"
   ]
  },
  {
   "cell_type": "code",
   "execution_count": null,
   "metadata": {},
   "outputs": [],
   "source": [
    "result_folder = Path('results')\n",
    "config_folder = Path('config')"
   ]
  },
  {
   "cell_type": "code",
   "execution_count": null,
   "metadata": {},
   "outputs": [],
   "source": [
    "random_params = pd.read_csv(config_folder / 'params' / 'smart_random.csv', index_col='index')\n",
    "random_params"
   ]
  },
  {
   "cell_type": "code",
   "execution_count": null,
   "metadata": {},
   "outputs": [],
   "source": [
    "param_names = random_params.columns"
   ]
  },
  {
   "cell_type": "code",
   "execution_count": null,
   "metadata": {},
   "outputs": [],
   "source": [
    "param_names"
   ]
  },
  {
   "cell_type": "code",
   "execution_count": null,
   "metadata": {},
   "outputs": [],
   "source": [
    "data = pickle.load(open(result_folder / 'runs.pkl', 'rb'))\n",
    "df = pd.DataFrame(data)"
   ]
  },
  {
   "cell_type": "markdown",
   "metadata": {
    "scrolled": false
   },
   "source": [
    "### Compute complete set of features for all samples"
   ]
  },
  {
   "cell_type": "code",
   "execution_count": null,
   "metadata": {},
   "outputs": [],
   "source": [
    "probe_type = 'planar' # 'linear'\n",
    "electrode = model.define_electrode(probe_type=probe_type)\n",
    "probe = electrode.probe\n",
    "ax = mu.plot_probe(probe)"
   ]
  },
  {
   "cell_type": "code",
   "execution_count": null,
   "metadata": {},
   "outputs": [],
   "source": [
    "l5pc_cell = model.create()\n",
    "\n",
    "param_names = [param.name for param in l5pc_cell.params.values() if not param.frozen]\n",
    "\n",
    "feature_set = 'all'\n",
    "\n",
    "print(f'Feature set {feature_set}')\n",
    "gt_responses = []\n",
    "\n",
    "if feature_set in [\"extra\", \"all\"]:\n",
    "    fitness_protocols = evaluator.define_protocols(electrode=electrode, protocols_with_lfp=[\"Step1\"])\n",
    "else:\n",
    "    fitness_protocols = evaluator.define_protocols() \n",
    "\n",
    "if feature_set in [\"extra\", \"all\"]:\n",
    "    sim = ephys.simulators.LFPySimulator(LFPyCellModel=l5pc_cell, cvode_active=True, electrode=electrode)\n",
    "else:\n",
    "    sim = ephys.simulators.LFPySimulator(LFPyCellModel=l5pc_cell, cvode_active=True)"
   ]
  },
  {
   "cell_type": "code",
   "execution_count": null,
   "metadata": {},
   "outputs": [],
   "source": [
    "fitness_protocols"
   ]
  },
  {
   "cell_type": "code",
   "execution_count": null,
   "metadata": {},
   "outputs": [],
   "source": [
    "if (result_folder / 'feats_responses.pkl').is_file():\n",
    "    feats_responses = pickle.load((result_folder / 'feats_responses.pkl').open('rb'))\n",
    "    feats = feats_responses['feats']\n",
    "    responses = feats_responses['responses']\n",
    "    gt_features_v = feats['gt']\n",
    "    gt_responses = responses['gt']\n",
    "    fitted_features_v = feats['fitted']\n",
    "    fitted_responses = responses['fitted']\n",
    "    compute_feats_responses = False\n",
    "else:\n",
    "    compute_feats_responses = True"
   ]
  },
  {
   "cell_type": "code",
   "execution_count": null,
   "metadata": {},
   "outputs": [],
   "source": [
    "# Compute GT features and responses\n",
    "channels = 'map'\n",
    "\n",
    "if compute_feats_responses:\n",
    "    gt_features = []\n",
    "    gt_responses = []\n",
    "    for i, (index, params) in enumerate(random_params.iterrows()):\n",
    "        print(f'{i+1} / {len(random_params)}, {index}')\n",
    "\n",
    "        feature_folder = f'config/features/{index}'\n",
    "        response, feature_dict = utils.compute_feature_values(params, l5pc_cell, fitness_protocols, sim, \n",
    "                                                              feature_set=feature_set, probe=probe, \n",
    "                                                              channels=channels)\n",
    "        gt_features.append(feature_dict)\n",
    "        gt_responses.append(response)\n",
    "    gt_features_v = utils.vectorize_features(gt_features)\n",
    "else:\n",
    "    print(\"Using loaded GT features and responses\")"
   ]
  },
  {
   "cell_type": "code",
   "execution_count": null,
   "metadata": {
    "scrolled": false
   },
   "outputs": [],
   "source": [
    "plotting.plot_multiple_responses(gt_responses, max_rows=5)"
   ]
  },
  {
   "cell_type": "code",
   "execution_count": null,
   "metadata": {},
   "outputs": [],
   "source": [
    "# Compute fitted features and responses\n",
    "if compute_feats_responses:\n",
    "    fitted_features = []\n",
    "    fitted_responses = []\n",
    "    for i, (index, fit) in enumerate(df.iterrows()):\n",
    "        params = pd.Series(data=fit['best_params'], index=param_names)\n",
    "        print(f'{i+1} / {len(df)}')\n",
    "\n",
    "        response, feature_dict = utils.compute_feature_values(params, l5pc_cell, fitness_protocols, sim, \n",
    "                                                              feature_set=feature_set, probe=probe, \n",
    "                                                              channels=channels)\n",
    "        fitted_features.append(feature_dict)\n",
    "        fitted_responses.append(response)\n",
    "    fitted_features_v = utils.vectorize_features(fitted_features)\n",
    "else:\n",
    "    print(\"Using loaded FITTED features and responses\")"
   ]
  },
  {
   "cell_type": "code",
   "execution_count": null,
   "metadata": {},
   "outputs": [],
   "source": [
    "plotting.plot_multiple_responses(fitted_responses, max_rows=5)"
   ]
  },
  {
   "cell_type": "code",
   "execution_count": null,
   "metadata": {},
   "outputs": [],
   "source": [
    "# Save features\n",
    "save_features = True\n",
    "if save_features and compute_feats_responses:\n",
    "    feats = {'gt': gt_features_v, 'fitted': fitted_features_v}\n",
    "    responses = {'gt': gt_responses, 'fitted': fitted_responses}\n",
    "    dump_dict = {'feats': feats, 'responses': responses}\n",
    "    with (result_folder / 'feats_responses.pkl').open('wb') as f:\n",
    "        pickle.dump(dump_dict, f)\n",
    "else:\n",
    "    print(\"Responses and features already saved!\")"
   ]
  },
  {
   "cell_type": "code",
   "execution_count": null,
   "metadata": {},
   "outputs": [],
   "source": [
    "# Double check all GT params produce responses with all BAP features (5)\n",
    "complete_bap = []\n",
    "for i, gt in enumerate(list(gt_features_v)):\n",
    "    bap_feat = [k for k in gt.keys() if 'bAP' in k]\n",
    "    if len(bap_feat) == 5:\n",
    "        complete_bap.append(i)\n",
    "print(len(complete_bap))"
   ]
  },
  {
   "cell_type": "markdown",
   "metadata": {},
   "source": [
    "## Compute distances in parameters and feature space (no extracellular)"
   ]
  },
  {
   "cell_type": "code",
   "execution_count": null,
   "metadata": {},
   "outputs": [],
   "source": [
    "param_distances = []\n",
    "param_distances_apical = []\n",
    "param_distances_somatic = []\n",
    "param_distances_axonal = []\n",
    "\n",
    "feature_distances = []\n",
    "feat_soma_dist = []\n",
    "feat_dend_dist = []\n",
    "feat_mea_dist = []\n",
    "\n",
    "# channels = [4,5,6,10,15]\n",
    "channels=None\n",
    "for i, (index, fit) in enumerate(df.iterrows()):\n",
    "    sample_id = int(fit.sample_id)\n",
    "    gt_params = random_params.iloc[sample_id].sort_index()\n",
    "    fit_params = pd.Series(fit.best_params, param_names).sort_index()\n",
    "    \n",
    "    axonal_idxs = gt_params.index.str.contains('axonal')\n",
    "    somatic_idxs = gt_params.index.str.contains('somatic')\n",
    "    apical_idxs = gt_params.index.str.contains('apical')\n",
    "    \n",
    "    param_dist = distance.cosine(fit_params.values, gt_params.values)\n",
    "    param_dist_ax = distance.cosine(fit_params[axonal_idxs].values, gt_params[axonal_idxs].values)\n",
    "    param_dist_som = distance.cosine(fit_params[somatic_idxs].values, gt_params[somatic_idxs].values)\n",
    "    param_dist_ap = distance.cosine(fit_params[apical_idxs].values, gt_params[apical_idxs].values)\n",
    "    \n",
    "    param_distances.append(param_dist)\n",
    "    param_distances_axonal.append(param_dist_ax)\n",
    "    param_distances_somatic.append(param_dist_som)\n",
    "    param_distances_apical.append(param_dist_ap)\n",
    "    \n",
    "    \n",
    "    selected_keys = []\n",
    "    for k in gt_features_v[sample_id].keys():\n",
    "        if 'MEA' not in k:\n",
    "            selected_keys.append(k)\n",
    "        else:\n",
    "            if channels is not None:\n",
    "                if int(k[-1]) in channels:\n",
    "                    selected_keys.append(k)\n",
    "                else:\n",
    "                    selected_keys.append(k)\n",
    "    gt_feat, fitted_feat = [], []\n",
    "    gt_feat_soma, gt_feat_dend, gt_feat_mea = [], [], []\n",
    "    fitted_feat_soma, fitted_feat_dend, fitted_feat_mea = [], [], []\n",
    "    for k in selected_keys:\n",
    "        if k in gt_features_v[sample_id] and k in fitted_features_v[i]:\n",
    "            gt_feat.append(gt_features_v[sample_id][k])\n",
    "            fitted_feat.append(fitted_features_v[i][k])\n",
    "            if 'soma' in k:\n",
    "                gt_feat_soma.append(gt_features_v[sample_id][k])\n",
    "                fitted_feat_soma.append(fitted_features_v[i][k])\n",
    "            if 'dend' in k:\n",
    "                gt_feat_dend.append(gt_features_v[sample_id][k])\n",
    "                fitted_feat_dend.append(fitted_features_v[i][k])\n",
    "            if 'MEA' in k:\n",
    "                gt_feat_mea.append(gt_features_v[sample_id][k])\n",
    "                fitted_feat_mea.append(fitted_features_v[i][k])\n",
    "                \n",
    "    feature_dist = distance.cosine(fitted_feat, gt_feat)\n",
    "    feature_dist_soma = distance.cosine(fitted_feat_soma, gt_feat_soma)\n",
    "    feature_dist_dend = distance.cosine(fitted_feat_dend, gt_feat_dend)\n",
    "    feature_dist_mea = distance.cosine(fitted_feat_mea, gt_feat_mea)\n",
    "    \n",
    "    feature_distances.append(feature_dist)\n",
    "    feat_soma_dist.append(feature_dist_soma)    \n",
    "    feat_dend_dist.append(feature_dist_dend)    \n",
    "    feat_mea_dist.append(feature_dist_mea)    "
   ]
  },
  {
   "cell_type": "code",
   "execution_count": null,
   "metadata": {},
   "outputs": [],
   "source": [
    "df['param_dist'] = param_distances\n",
    "df['param_dist_apical'] = param_distances_apical\n",
    "df['param_dist_axonal'] = param_distances_axonal\n",
    "df['param_dist_somatic'] = param_distances_somatic\n",
    "\n",
    "df['feat_dist'] = feature_distances\n",
    "df['feat_dist_soma'] = feat_soma_dist\n",
    "df['feat_dist_dend'] = feat_dend_dist\n",
    "df['feat_dist_mea'] = feat_mea_dist"
   ]
  },
  {
   "cell_type": "code",
   "execution_count": null,
   "metadata": {},
   "outputs": [],
   "source": [
    "fig1 = plt.figure()\n",
    "ax1 = fig1.add_subplot(111)\n",
    "sns.barplot(data=df, x='feature_set', y='param_dist', hue='sample_id', ax=ax1, alpha=0.5)\n",
    "ax1.set_title(\"All params\")"
   ]
  },
  {
   "cell_type": "code",
   "execution_count": null,
   "metadata": {},
   "outputs": [],
   "source": [
    "fig2 = plt.figure(figsize=(9, 5))\n",
    "ax21 = fig2.add_subplot(131)\n",
    "ax22 = fig2.add_subplot(132)\n",
    "ax23 = fig2.add_subplot(133)\n",
    "sns.barplot(data=df, x='feature_set', y='param_dist_somatic', hue='sample_id', ax=ax21, alpha=0.5, ci=None)\n",
    "sns.barplot(data=df, x='feature_set', y='param_dist_axonal', hue='sample_id', ax=ax22, alpha=0.5, ci=None)\n",
    "sns.barplot(data=df, x='feature_set', y='param_dist_apical', hue='sample_id', ax=ax23, alpha=0.5, ci=None)\n",
    "\n",
    "ax21.set_title(\"Somatic params\")\n",
    "ax22.set_title(\"Axonal params\")\n",
    "ax23.set_title(\"Apical params\")\n",
    "fig2.tight_layout()"
   ]
  },
  {
   "cell_type": "code",
   "execution_count": null,
   "metadata": {},
   "outputs": [],
   "source": [
    "fig3 = plt.figure()\n",
    "ax3 = fig3.add_subplot(111)\n",
    "sns.boxenplot(data=df, x='feature_set', y='feat_dist', hue='sample_id', ax=ax3)\n",
    "ax3.set_title('All features')"
   ]
  },
  {
   "cell_type": "code",
   "execution_count": null,
   "metadata": {},
   "outputs": [],
   "source": [
    "fig4 = plt.figure(figsize=(10,5))\n",
    "ax41 = fig4.add_subplot(121)\n",
    "ax42 = fig4.add_subplot(122)\n",
    "sns.boxenplot(data=df, x='feature_set', y='feat_dist_soma', hue='sample_id', ax=ax41)#, alpha=0.5, ci=None)\n",
    "sns.boxenplot(data=df, x='feature_set', y='feat_dist_dend', hue='sample_id', ax=ax42)#, alpha=0.5, ci=None)\n",
    "\n",
    "ax41.set_title(\"Somatic features\")\n",
    "ax42.set_title(\"Dend features\")\n",
    "ax42.set_yticks([])\n",
    "ax42.set_yticklabels([])\n",
    "ax42.set_ylabel('')"
   ]
  },
  {
   "cell_type": "markdown",
   "metadata": {},
   "source": [
    "## Compute distances in extracellular feature space"
   ]
  },
  {
   "cell_type": "code",
   "execution_count": null,
   "metadata": {},
   "outputs": [],
   "source": [
    "sample_ids_array = []\n",
    "feature_set_array = []\n",
    "fitted_ids_array = []\n",
    "distances_array = []\n",
    "for gt_id in range(len(gt_responses)):\n",
    "    print(f\"Test model {gt_id + 1}\")\n",
    "    df_fit = df[df.sample_id == str(gt_id)]\n",
    "    fitted = np.array(fitted_responses)[np.array(df_fit.index)]\n",
    "    \n",
    "    color_list = []\n",
    "    feature_sets = []\n",
    "    for i in range(len(df_fit)):\n",
    "        color_list.append(colors[df_fit.iloc[i].feature_set])\n",
    "        feature_sets.append(df_fit.iloc[i].feature_set)\n",
    "\n",
    "    soma_idxs = np.where(np.array(feature_sets) == 'soma')\n",
    "    bap_idxs = np.where(np.array(feature_sets) == 'multiple')\n",
    "    extra_idxs = np.where(np.array(feature_sets) == 'extra')\n",
    "\n",
    "    fitted_soma = fitted[soma_idxs]\n",
    "    fitted_multiple = fitted[bap_idxs]\n",
    "    fitted_extra = fitted[extra_idxs]\n",
    "    \n",
    "    eap_gt = utils.calculate_eap(responses=gt_responses[gt_id], protocols=fitness_protocols, protocol_name=\"Step1\")\n",
    "    \n",
    "    for i, fitted_s in enumerate(fitted_soma):\n",
    "        eap = utils.calculate_eap(responses=fitted_s, protocols=fitness_protocols, protocol_name=\"Step1\")\n",
    "        dist = distance.cosine(eap_gt.ravel(), eap.ravel())\n",
    "        sample_ids_array.append(gt_id)\n",
    "        fitted_ids_array.append(i)\n",
    "        feature_set_array.append(\"soma\")\n",
    "        distances_array.append(dist)\n",
    "    for i, fitted_m in enumerate(fitted_multiple):\n",
    "        eap = utils.calculate_eap(responses=fitted_m, protocols=fitness_protocols, protocol_name=\"Step1\")\n",
    "        dist = distance.cosine(eap_gt.ravel(), eap.ravel())\n",
    "        sample_ids_array.append(gt_id)\n",
    "        fitted_ids_array.append(i)\n",
    "        feature_set_array.append(\"multiple\")\n",
    "        distances_array.append(dist)\n",
    "    for i, fitted_e in enumerate(fitted_extra):\n",
    "        eap = utils.calculate_eap(responses=fitted_e, protocols=fitness_protocols, protocol_name=\"Step1\")\n",
    "        dist = distance.cosine(eap_gt.ravel(), eap.ravel())\n",
    "        sample_ids_array.append(gt_id)\n",
    "        fitted_ids_array.append(i)\n",
    "        feature_set_array.append(\"extra\")\n",
    "        distances_array.append(dist)\n",
    "\n",
    "df_eaps = pd.DataFrame({\"sample_id\": sample_ids_array, \"fitted_id\": fitted_ids_array, \n",
    "                        \"feature_set\": feature_set_array, \"distance\": distances_array})"
   ]
  },
  {
   "cell_type": "code",
   "execution_count": null,
   "metadata": {},
   "outputs": [],
   "source": [
    "fig4 = plt.figure()\n",
    "ax4 = fig4.add_subplot(111)\n",
    "sns.boxenplot(data=df_eaps, x='feature_set', y='distance', hue='sample_id', ax=ax4)\n",
    "ax3.set_title('Extracellular distance')"
   ]
  },
  {
   "cell_type": "markdown",
   "metadata": {},
   "source": [
    "# Plot responses"
   ]
  },
  {
   "cell_type": "code",
   "execution_count": null,
   "metadata": {},
   "outputs": [],
   "source": [
    "colors = {'soma': 'C0', 'multiple': 'C1', 'extra': 'C2'}"
   ]
  },
  {
   "cell_type": "code",
   "execution_count": null,
   "metadata": {
    "scrolled": true
   },
   "outputs": [],
   "source": [
    "figures_soma_intra = []\n",
    "figures_soma_extra = []\n",
    "figures_multi_intra = []\n",
    "figures_multi_extra = []\n",
    "figures_extra_intra = []\n",
    "figures_extra_extra = []\n",
    "for gt_id in range(len(gt_responses)):\n",
    "    print(f\"Test model {gt_id + 1}\")\n",
    "    df_fit = df[df.sample_id == str(gt_id)]\n",
    "    fitted = np.array(fitted_responses)[np.array(df_fit.index)]\n",
    "    \n",
    "    color_list = []\n",
    "    feature_sets = []\n",
    "    for i in range(len(df_fit)):\n",
    "        color_list.append(colors[df_fit.iloc[i].feature_set])\n",
    "        feature_sets.append(df_fit.iloc[i].feature_set)\n",
    "\n",
    "    soma_idxs = np.where(np.array(feature_sets) == 'soma')\n",
    "    bap_idxs = np.where(np.array(feature_sets) == 'multiple')\n",
    "    extra_idxs = np.where(np.array(feature_sets) == 'extra')\n",
    "\n",
    "    fitted_soma = fitted[soma_idxs]\n",
    "    fitted_multiple = fitted[bap_idxs]\n",
    "    fitted_extra = fitted[extra_idxs]\n",
    "\n",
    "    color_list.append('k')\n",
    "    \n",
    "    # Plot intracellular responses\n",
    "    fig_soma = plotting.plot_multiple_responses(responses_list=np.concatenate((fitted_soma, [gt_responses[gt_id]])), \n",
    "                                                max_rows=5, colors=[colors[\"soma\"]] * len(fitted_soma) + ['k'], \n",
    "                                                return_fig=True)\n",
    "    fig_soma.suptitle(f\"Test model {gt_id + 1} - 'soma' feature set\\nIntracellular\", fontsize=25, y=0.98)\n",
    "    fig_soma.subplots_adjust(top=0.8)\n",
    "    figures_soma_intra.append(fig_soma)\n",
    "    \n",
    "    ax_eap_soma = plotting.plot_multiple_eaps(responses_list=fitted_soma, protocols=fitness_protocols,\n",
    "                                              protocol_name=\"Step1\", probe=probe, colors=\"C0\", norm=True)\n",
    "    ax_eap_soma = plotting.plot_eap(responses=gt_responses[gt_id], protocols=fitness_protocols,\n",
    "                                    protocol_name=\"Step1\", probe=probe, color=\"k\", norm=True,\n",
    "                                    ax=ax_eap_soma) \n",
    "    ax_eap_soma.set_title(f\"Test model {gt_id + 1} - 'soma' feature set\\nExtracellular\", fontsize=25)\n",
    "    figures_soma_extra.append(ax_eap_soma.get_figure())\n",
    "    \n",
    "    fig_multiple = plotting.plot_multiple_responses(responses_list=np.concatenate((fitted_multiple, [gt_responses[gt_id]])), \n",
    "                                                    max_rows=5, \n",
    "                                                    colors=[colors[\"multiple\"]] * len(fitted_multiple) + ['k'], \n",
    "                                                    return_fig=True)\n",
    "    fig_multiple.suptitle(f\"Test model {gt_id + 1} - 'multiple' feature set\\nIntracellular\", fontsize=25, y=0.98)\n",
    "    fig_multiple.subplots_adjust(top=0.8)\n",
    "    figures_multi_intra.append(fig_soma)\n",
    "    \n",
    "    \n",
    "    ax_eap_multi = plotting.plot_multiple_eaps(responses_list=fitted_multiple, protocols=fitness_protocols,\n",
    "                                               protocol_name=\"Step1\", probe=probe, colors=\"C1\", norm=True)\n",
    "    ax_eap_multi = plotting.plot_eap(responses=gt_responses[gt_id], protocols=fitness_protocols,\n",
    "                                     protocol_name=\"Step1\", probe=probe, color=\"k\", norm=True,\n",
    "                                     ax=ax_eap_multi) \n",
    "    ax_eap_multi.set_title(f\"Test model {gt_id + 1} - 'multiple' feature set\\nExtracellular\", fontsize=25)\n",
    "    figures_multi_extra.append(ax_eap_multi.get_figure())\n",
    "    \n",
    "    fig_extra = plotting.plot_multiple_responses(responses_list=np.concatenate((fitted_extra, [gt_responses[gt_id]])), \n",
    "                                                 max_rows=5, colors=[colors[\"extra\"]] * len(fitted_extra) + ['k'], \n",
    "                                                 return_fig=True)\n",
    "    fig_extra.suptitle(f\"Test model {gt_id + 1} - 'extra' feature set\\nIntracellular\", fontsize=30, y=0.98)\n",
    "    fig_extra.subplots_adjust(top=0.8)\n",
    "    figures_extra_intra.append(fig_soma)\n",
    "    \n",
    "    # Plot EAPs\n",
    "    ax_eap_extra = plotting.plot_multiple_eaps(responses_list=fitted_extra, protocols=fitness_protocols,\n",
    "                                               protocol_name=\"Step1\", probe=probe, colors=\"C2\", norm=True)\n",
    "    ax_eap_extra = plotting.plot_eap(responses=gt_responses[gt_id], protocols=fitness_protocols,\n",
    "                                     protocol_name=\"Step1\", probe=probe, color=\"k\", norm=True,\n",
    "                                     ax=ax_eap_extra) \n",
    "    ax_eap_extra.set_title(f\"Test model {gt_id + 1} - 'extra' feature set\\nExtracellular\", fontsize=30)\n",
    "    figures_extra_extra.append(ax_eap_extra.get_figure())\n",
    "    \n",
    "    print(\"\\n\\n\\n\\n\\n\")\n",
    "    \n",
    "    "
   ]
  }
 ],
 "metadata": {
  "kernelspec": {
   "display_name": "Python 3",
   "language": "python",
   "name": "python3"
  },
  "language_info": {
   "codemirror_mode": {
    "name": "ipython",
    "version": 3
   },
   "file_extension": ".py",
   "mimetype": "text/x-python",
   "name": "python",
   "nbconvert_exporter": "python",
   "pygments_lexer": "ipython3",
   "version": "3.6.10"
  }
 },
 "nbformat": 4,
 "nbformat_minor": 4
}
