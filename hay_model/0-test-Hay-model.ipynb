{
 "cells": [
  {
   "cell_type": "code",
   "execution_count": null,
   "metadata": {},
   "outputs": [],
   "source": [
    "import json\n",
    "import matplotlib.pyplot as plt\n",
    "\n",
    "import bluepyopt as bpopt\n",
    "import bluepyopt.ephys as ephys\n",
    "\n",
    "import model\n",
    "import evaluator\n",
    "import time\n",
    "import plotting\n",
    "\n",
    "import sys\n",
    "\n",
    "from pathlib import Path\n",
    "import neuroplotlib as nplt\n",
    "\n",
    "%matplotlib notebook"
   ]
  },
  {
   "cell_type": "code",
   "execution_count": null,
   "metadata": {},
   "outputs": [],
   "source": [
    "# !rm -r x86_64\n",
    "# !nrnivmodl mechanisms\n",
    "# mv mechanisms/x86_64 ."
   ]
  },
  {
   "cell_type": "code",
   "execution_count": null,
   "metadata": {},
   "outputs": [],
   "source": [
    "probe = model.define_electrode(probe_type=\"linear\")"
   ]
  },
  {
   "cell_type": "code",
   "execution_count": null,
   "metadata": {},
   "outputs": [],
   "source": [
    "cell_ais = model.create(morph_modifier=\"hillock\", release=False, l_hillock=20)\n",
    "\n",
    "param_names = [param.name for param in cell_ais.params.values() if not param.frozen]\n",
    "\n",
    "fitness_protocols_ais = evaluator.define_protocols(\n",
    "    cell_ais,\n",
    "    feature_set=None, \n",
    "    feature_file=None, \n",
    "    electrode=probe,\n",
    "    protocols_with_lfp=None\n",
    ")\n",
    "\n",
    "fitness_calculator = ephys.objectivescalculators.ObjectivesCalculator([])\n",
    "\n",
    "sim_ais = ephys.simulators.LFPySimulator(cell_ais, cvode_active=True, electrode=probe)\n",
    "\n",
    "eva_ais = ephys.evaluators.CellEvaluator(                    \n",
    "        cell_model=cell_ais,                                                       \n",
    "        param_names=param_names,                                                    \n",
    "        fitness_protocols=fitness_protocols_ais,                                        \n",
    "        fitness_calculator=fitness_calculator,                                      \n",
    "        sim=sim_ais)"
   ]
  },
  {
   "cell_type": "code",
   "execution_count": null,
   "metadata": {},
   "outputs": [],
   "source": [
    "cell_replace = model.create(morph_modifier=\"\", release=False, l_hillock=20)\n",
    "\n",
    "param_names = [param.name for param in cell_replace.params.values() if not param.frozen]\n",
    "\n",
    "fitness_protocols_replace = evaluator.define_protocols(\n",
    "    cell_replace,\n",
    "    feature_set=None, \n",
    "    feature_file=None, \n",
    "    electrode=probe,\n",
    "    protocols_with_lfp=None\n",
    ")\n",
    "\n",
    "fitness_calculator = ephys.objectivescalculators.ObjectivesCalculator([])\n",
    "\n",
    "sim_replace = ephys.simulators.LFPySimulator(cell_replace, cvode_active=True, electrode=probe)\n",
    "\n",
    "eva_replace = ephys.evaluators.CellEvaluator(                    \n",
    "                cell_model=cell_replace,                                                       \n",
    "                param_names=param_names,                                                    \n",
    "                fitness_protocols=fitness_protocols_replace,                                        \n",
    "                fitness_calculator=fitness_calculator,                                      \n",
    "                sim=sim_replace)"
   ]
  },
  {
   "cell_type": "code",
   "execution_count": null,
   "metadata": {},
   "outputs": [],
   "source": [
    "release_params = evaluator.get_release_params()"
   ]
  },
  {
   "cell_type": "code",
   "execution_count": null,
   "metadata": {},
   "outputs": [],
   "source": [
    "release_params"
   ]
  },
  {
   "cell_type": "code",
   "execution_count": null,
   "metadata": {},
   "outputs": [],
   "source": [
    "for param in release_params.keys():\n",
    "    if \"axon_initial_segment\" in param:\n",
    "        if \"Na12bar\" in param:\n",
    "            release_params[param] = 3.147 #release_params[param]*100\n",
    "        if \"Na16bar\" in param:\n",
    "            release_params[param] = 2 #release_params[param]*100\n",
    "        if \"kbar\" in param:\n",
    "            release_params[param] = 0.1\n",
    "        if \"g_pas\" in param:\n",
    "            release_params[param] = 4.7e-5\n",
    "        if \"e_pas\" in param:\n",
    "            release_params[param] = -79.6\n",
    "        if \"e_k\" in param:\n",
    "            release_params[param] = -85"
   ]
  },
  {
   "cell_type": "code",
   "execution_count": null,
   "metadata": {},
   "outputs": [],
   "source": [
    "release_params"
   ]
  },
  {
   "cell_type": "code",
   "execution_count": null,
   "metadata": {},
   "outputs": [],
   "source": [
    "t_start = time.time()\n",
    "responses_ais = eva_ais.run_protocols(protocols=fitness_protocols_ais.values(), param_values=release_params)\n",
    "print(f\"Elapsed time: {time.time() - t_start}\")"
   ]
  },
  {
   "cell_type": "code",
   "execution_count": null,
   "metadata": {},
   "outputs": [],
   "source": [
    "t_start = time.time()\n",
    "responses_replace = eva_replace.run_protocols(protocols=fitness_protocols_replace.values(), param_values=release_params)\n",
    "print(f\"Elapsed time: {time.time() - t_start}\")"
   ]
  },
  {
   "cell_type": "code",
   "execution_count": null,
   "metadata": {},
   "outputs": [],
   "source": [
    "# cell.freeze({})\n",
    "# cell.instantiate(sim=sim)\n",
    "# for sec in cell.LFPyCell.allseclist:\n",
    "#     print(sec.name())\n",
    "# cell.destroy()"
   ]
  },
  {
   "cell_type": "code",
   "execution_count": null,
   "metadata": {},
   "outputs": [],
   "source": [
    "responses_ais.keys()"
   ]
  },
  {
   "cell_type": "code",
   "execution_count": null,
   "metadata": {},
   "outputs": [],
   "source": [
    "plt.figure()\n",
    "plt.plot(responses_ais[\"Step1.soma.v\"][\"time\"], responses_ais[\"Step1.soma.v\"][\"voltage\"], label=\"soma\")\n",
    "plt.plot(responses_ais[\"Step1.ais0.v\"][\"time\"], responses_ais[\"Step1.ais0.v\"][\"voltage\"], label=\"AIS proximal\")\n",
    "plt.plot(responses_ais[\"Step1.ais1.v\"][\"time\"], responses_ais[\"Step1.ais1.v\"][\"voltage\"], label=\"AIS distal\")\n",
    "plt.legend()"
   ]
  },
  {
   "cell_type": "code",
   "execution_count": null,
   "metadata": {},
   "outputs": [],
   "source": [
    "plotting.plot_responses(responses_replace)"
   ]
  },
  {
   "cell_type": "code",
   "execution_count": null,
   "metadata": {},
   "outputs": [],
   "source": [
    "cell_ais.seclist_names"
   ]
  },
  {
   "cell_type": "code",
   "execution_count": null,
   "metadata": {},
   "outputs": [],
   "source": [
    "plotting.plot_responses(responses_ais)"
   ]
  },
  {
   "cell_type": "code",
   "execution_count": null,
   "metadata": {},
   "outputs": [],
   "source": [
    "ax = plotting.plot_eap(responses_ais, fitness_protocols, protocol_name=\"Step1\", probe=probe.probe, norm=True)\n",
    "ax = plotting.plot_eap(responses_replace, fitness_protocols, protocol_name=\"Step1\", probe=probe.probe, \n",
    "                       norm=True, ax=ax, color='C1')"
   ]
  },
  {
   "cell_type": "code",
   "execution_count": null,
   "metadata": {
    "scrolled": false
   },
   "outputs": [],
   "source": [
    "cell.freeze(release_params)\n",
    "cell.instantiate(sim=sim)\n",
    "nplt.plot_detailed_neuron(cell.LFPyCell, color_ais=\"r\", color_hillock=\"k\", color_myelin=\"g\")\n",
    "cell.destroy(sim=sim)\n",
    "cell.unfreeze(release_params.keys())"
   ]
  },
  {
   "cell_type": "code",
   "execution_count": null,
   "metadata": {},
   "outputs": [],
   "source": [
    "cell.icell.axonal"
   ]
  },
  {
   "cell_type": "code",
   "execution_count": null,
   "metadata": {},
   "outputs": [],
   "source": [
    "for seg in sec.allseg():\n",
    "    print(seg)"
   ]
  },
  {
   "cell_type": "code",
   "execution_count": null,
   "metadata": {},
   "outputs": [],
   "source": [
    "cell.destroy(sim=sim)\n",
    "cell.unfreeze(release_params.keys())"
   ]
  },
  {
   "cell_type": "code",
   "execution_count": null,
   "metadata": {},
   "outputs": [],
   "source": [
    "cell.axonal"
   ]
  },
  {
   "cell_type": "code",
   "execution_count": null,
   "metadata": {},
   "outputs": [],
   "source": [
    "nplt.plot_detailed_neuron(morphology=\"morphology/cell1.asc\", color_axon=\"r\")"
   ]
  },
  {
   "cell_type": "code",
   "execution_count": null,
   "metadata": {},
   "outputs": [],
   "source": []
  }
 ],
 "metadata": {
  "kernelspec": {
   "display_name": "Python 3",
   "language": "python",
   "name": "python3"
  },
  "language_info": {
   "codemirror_mode": {
    "name": "ipython",
    "version": 3
   },
   "file_extension": ".py",
   "mimetype": "text/x-python",
   "name": "python",
   "nbconvert_exporter": "python",
   "pygments_lexer": "ipython3",
   "version": "3.6.10"
  }
 },
 "nbformat": 4,
 "nbformat_minor": 1
}
