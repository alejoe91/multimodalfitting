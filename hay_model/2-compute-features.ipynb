{
 "cells": [
  {
   "cell_type": "markdown",
   "metadata": {},
   "source": [
    "# 2) Compute features for random parameters\n",
    "\n",
    "Using the generated random parameters, we next compute responses and features for 3 different feature sets:\n",
    "\n",
    "- 'bap': features extracted from somatic recording with 3 different steps + a pulse response measured at the soma plus two locations on the apical dendrite (Backpropagating Action Potential)\n",
    "\n",
    "- 'soma': features extracted from somatic recording with 3 different steps\n",
    "\n",
    "- 'extra': features extracted from somatic recording with 3 different steps and from mean extracellular action potential\n",
    "\n",
    "Computed features are saved in the `config/features/` folder for each parameter set and are ready to be used for optimization."
   ]
  },
  {
   "cell_type": "code",
   "execution_count": null,
   "metadata": {},
   "outputs": [],
   "source": [
    "%load_ext autoreload\n",
    "%autoreload\n",
    "\n",
    "import time\n",
    "import json\n",
    "\n",
    "import matplotlib.pyplot as plt\n",
    "import pandas as pd\n",
    "import numpy as np\n",
    "from pathlib import Path\n",
    "\n",
    "import MEAutility as mu\n",
    "import bluepyopt.ephys as ephys\n",
    "\n",
    "%matplotlib notebook"
   ]
  },
  {
   "cell_type": "code",
   "execution_count": null,
   "metadata": {},
   "outputs": [],
   "source": [
    "import model\n",
    "import evaluator"
   ]
  },
  {
   "cell_type": "code",
   "execution_count": null,
   "metadata": {},
   "outputs": [],
   "source": [
    "np.random.seed(2308)"
   ]
  },
  {
   "cell_type": "markdown",
   "metadata": {},
   "source": [
    "### Define extracellular electrodes\n",
    "\n",
    "Importantly, if the electrode design changes, new features need to be generated. \n",
    "\n",
    "However, a subset of channels can be selected before running the optimization procedure."
   ]
  },
  {
   "cell_type": "code",
   "execution_count": null,
   "metadata": {},
   "outputs": [],
   "source": [
    "mea_type = 'planar'  # 'linear' or 'planar'\n",
    "\n",
    "probe, electrode = model.define_electrode(\n",
    "    probe_type=mea_type,\n",
    "    num_linear=20, \n",
    "    linear_span=[-500, 1000], \n",
    "    z_shift=20, \n",
    "    probe_center=[0, 200, 20],\n",
    "    mea_dim=[20, 4],\n",
    "    mea_pitch=[70, 35],\n",
    ")"
   ]
  },
  {
   "cell_type": "code",
   "execution_count": null,
   "metadata": {},
   "outputs": [],
   "source": [
    "ax = mu.plot_probe(probe)"
   ]
  },
  {
   "cell_type": "markdown",
   "metadata": {},
   "source": [
    "### Compute features\n",
    "\n",
    "Features for the different feature sets ('bap', 'soma', 'extra') are listed in the `config/feature_list.json` file.\n",
    "\n",
    "Here we loop through the different feature sets and random parameters, compute the corresponding features and save them in a `json` file that will be later used to construct the `CellEvaluator`.\n"
   ]
  },
  {
   "cell_type": "code",
   "execution_count": null,
   "metadata": {},
   "outputs": [],
   "source": [
    "random_params_file = 'config/params/smart_random.csv'\n",
    "random_params = pd.read_csv(random_params_file, index_col='index')\n",
    "random_params"
   ]
  },
  {
   "cell_type": "code",
   "execution_count": null,
   "metadata": {},
   "outputs": [],
   "source": [
    "save_features_and_probe = True"
   ]
  },
  {
   "cell_type": "code",
   "execution_count": null,
   "metadata": {},
   "outputs": [],
   "source": [
    "feature_sets = [\"extra\", \"soma\", \"multiple\"]\n",
    "channels = 'map'\n",
    "\n",
    "morphology = ephys.morphologies.NrnFileMorphology('morphology/cell1.asc', do_replace_axon=True)\n",
    "param_configs = json.load(open('config/parameters.json'))\n",
    "parameters = model.define_parameters()\n",
    "mechanisms = model.define_mechanisms()\n",
    "\n",
    "l5pc_cell = ephys.models.LFPyCellModel('l5pc', \n",
    "                                       v_init=-65., \n",
    "                                       morph=morphology, \n",
    "                                       mechs=mechanisms, \n",
    "                                       params=parameters)\n",
    "\n",
    "param_names = [param.name for param in l5pc_cell.params.values() if not param.frozen]      \n",
    "responses = {}\n",
    "features = {}\n",
    "\n",
    "protocols = evaluator.define_protocols()\n",
    "protocols_extra = evaluator.define_protocols(electrode=electrode) \n",
    "\n",
    "simulator = ephys.simulators.LFPySimulator(LFPyCellModel=l5pc_cell, cvode_active=True)\n",
    "simulator_extra = ephys.simulators.LFPySimulator(LFPyCellModel=l5pc_cell, cvode_active=True, electrode=electrode)\n",
    "\n",
    "for feature_set in feature_sets:\n",
    "    \n",
    "    print(f'Feature set {feature_set}')\n",
    "\n",
    "    if feature_set == \"extra\":\n",
    "        fitness_protocols = protocols_extra\n",
    "        sim = simulator_extra\n",
    "    else:\n",
    "        fitness_protocols = protocols\n",
    "        sim = simulator\n",
    "\n",
    "    responses[feature_set] = []\n",
    "    features[feature_set] = []\n",
    "    \n",
    "    for i, (index, params) in enumerate(random_params.iterrows()):\n",
    "        \n",
    "        print(f'{i+1} / {len(random_params)}, {index}')   \n",
    "        \n",
    "        t_start = time.time()\n",
    "        response, feat_dict = evaluator.compute_feature_values(\n",
    "            params, \n",
    "            l5pc_cell, \n",
    "            fitness_protocols, \n",
    "            sim,\n",
    "            feature_set=feature_set, \n",
    "            probe=probe, \n",
    "            channels=channels,\n",
    "            verbose=True\n",
    "        )\n",
    "        print(f\"Elapsed time: {time.time() - t_start}\")\n",
    "        \n",
    "        features[feature_set].append(feat_dict)\n",
    "        responses[feature_set].append(response)\n",
    "        \n",
    "        if save_features_and_probe:\n",
    "            \n",
    "            feature_folder = Path(\"config/features/\")\n",
    "            if channels is 'map':\n",
    "                feature_file = feature_folder / f\"{index}_{mea_type}_map\" / f'{feature_set}.pkl'\n",
    "            else:\n",
    "                feature_file = feature_folder / str(index) / f'{feature_set}.pkl'\n",
    "\n",
    "            feature_file.parent.mkdir(parents=True, exist_ok=True)\n",
    "\n",
    "            with feature_file.open('wb') as f:\n",
    "                pickle.dump(feat_dict, f)\n",
    "\n",
    "            with (feature_file.parent / 'probe.json').open('w') as f:\n",
    "                json.dump(probe.info, f, indent=4)\n",
    "\n",
    "            print(f\"Saved to {feature_file}\")"
   ]
  },
  {
   "cell_type": "code",
   "execution_count": null,
   "metadata": {},
   "outputs": [],
   "source": [
    "pos = features[\"extra\"][0]['Step1']['MEA']['pos_peak_relative'][0]"
   ]
  },
  {
   "cell_type": "code",
   "execution_count": null,
   "metadata": {},
   "outputs": [],
   "source": [
    "l5pc_plot.plot_feature_map(pos, probe)"
   ]
  },
  {
   "cell_type": "code",
   "execution_count": null,
   "metadata": {},
   "outputs": [],
   "source": [
    "eap = l5pc_evaluator.calculate_eap(responses=responses['extra'][0], protocols=fitness_protocols,\n",
    "                                   protocol_name='Step1')"
   ]
  },
  {
   "cell_type": "code",
   "execution_count": null,
   "metadata": {},
   "outputs": [],
   "source": [
    "eap"
   ]
  },
  {
   "cell_type": "code",
   "execution_count": null,
   "metadata": {},
   "outputs": [],
   "source": [
    "fig = l5pc_plot.plot_multiple_responses(responses['bap'], return_fig=True)"
   ]
  },
  {
   "cell_type": "code",
   "execution_count": null,
   "metadata": {},
   "outputs": [],
   "source": [
    "eaps = []\n",
    "for i, resp in enumerate(responses['extra']):\n",
    "    eap = l5pc_evaluator.calculate_eap(resp, protocol_name='Step1', protocols=fitness_protocols)\n",
    "    eaps.append(eap)"
   ]
  },
  {
   "cell_type": "code",
   "execution_count": null,
   "metadata": {},
   "outputs": [],
   "source": [
    "eaps = np.array(eaps)\n",
    "eaps.shape"
   ]
  },
  {
   "cell_type": "code",
   "execution_count": null,
   "metadata": {},
   "outputs": [],
   "source": [
    "mu.plot_mea_recording(eaps, probe)"
   ]
  }
 ],
 "metadata": {
  "kernelspec": {
   "display_name": "Python 3",
   "language": "python",
   "name": "python3"
  },
  "language_info": {
   "codemirror_mode": {
    "name": "ipython",
    "version": 3
   },
   "file_extension": ".py",
   "mimetype": "text/x-python",
   "name": "python",
   "nbconvert_exporter": "python",
   "pygments_lexer": "ipython3",
   "version": "3.7.4"
  }
 },
 "nbformat": 4,
 "nbformat_minor": 1
}
