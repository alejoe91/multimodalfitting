{
 "cells": [
  {
   "cell_type": "markdown",
   "metadata": {},
   "source": [
    "## Demo of extracellular simulation of the Hay model with LFPy\n",
    "\n",
    "Requirements:\n",
    "\n",
    "- neuron (you should have it installed)\n",
    "- LFP (`pip install LFPy`)\n",
    "- neuroplotlib (`pip install git+https://github.com/alejoe91/neuroplotlib.git`)"
   ]
  },
  {
   "cell_type": "code",
   "execution_count": null,
   "metadata": {},
   "outputs": [],
   "source": [
    "import LFPy\n",
    "import neuron\n",
    "import os\n",
    "import MEAutility as mu\n",
    "import matplotlib.pylab as plt\n",
    "import numpy as np\n",
    "import neuroplotlib as nplt\n",
    "%matplotlib notebook"
   ]
  },
  {
   "cell_type": "code",
   "execution_count": null,
   "metadata": {},
   "outputs": [],
   "source": [
    "import neuron"
   ]
  },
  {
   "cell_type": "markdown",
   "metadata": {},
   "source": [
    "This function loads the Hay model in LFPy. You can see it takes several parameters from NEURON and you can load morphologies alone or full models."
   ]
  },
  {
   "cell_type": "code",
   "execution_count": null,
   "metadata": {},
   "outputs": [],
   "source": [
    "def load_hay_model(model_folder, dt, tstart, tstop):\n",
    "    cwd = os.getcwd()\n",
    "    os.chdir(model_folder)\n",
    "    cell = None\n",
    "    try:\n",
    "        ##define cell parameters used as input to cell-class\n",
    "        cellParameters = {\n",
    "            'morphology': 'morphologies/cell1.asc',\n",
    "            'templatefile': ['models/L5PCbiophys3.hoc',\n",
    "                             'models/L5PCtemplate.hoc'],\n",
    "            'templatename': 'L5PCtemplate',\n",
    "            'templateargs': 'morphologies/cell1.asc',\n",
    "            'passive': False,\n",
    "            'nsegs_method': None,\n",
    "            'dt': dt,\n",
    "            'tstart': tstart,\n",
    "            'tstop': tstop,\n",
    "            'v_init': -80,\n",
    "            'celsius': 34,\n",
    "            'pt3d': True,\n",
    "        }\n",
    "\n",
    "        # Initialize cell instance, using the LFPy.Cell class\n",
    "        neuron.load_mechanisms('mod')\n",
    "        cell = LFPy.TemplateCell(**cellParameters)\n",
    "    except:\n",
    "        print('Failed to load Hay model. Wrong folder?')\n",
    "\n",
    "    os.chdir(cwd)\n",
    "    return cell"
   ]
  },
  {
   "cell_type": "markdown",
   "metadata": {},
   "source": [
    "First, we load the cell and add a somatic current clamp with a current step:"
   ]
  },
  {
   "cell_type": "code",
   "execution_count": null,
   "metadata": {},
   "outputs": [],
   "source": [
    "hay_cell = load_hay_model('L5bPCmodelsEH/', dt=2**-5, tstart=0, tstop=200)\n",
    "somatic_clamp = LFPy.StimIntElectrode(hay_cell, idx=0, pptype='IClamp', record_current=True, record_potential=True,\n",
    "                                      amp=0.5, delay=10, dur=150)\n",
    "somatic_clamp1 = LFPy.StimIntElectrode(hay_cell, idx=0, pptype='IClamp', record_current=True, record_potential=True,\n",
    "                                       amp=-0.001, delay=10, dur=150)"
   ]
  },
  {
   "cell_type": "code",
   "execution_count": null,
   "metadata": {},
   "outputs": [],
   "source": [
    "hay_cell.simulate(rec_vmem=True, rec_imem=True, variable_dt=False)"
   ]
  },
  {
   "cell_type": "code",
   "execution_count": null,
   "metadata": {},
   "outputs": [],
   "source": [
    "print(len(hay_cell.tvec))\n",
    "print(len(hay_cell.vmem[0]))\n",
    "print(len(hay_cell.imem[0]))"
   ]
  },
  {
   "cell_type": "code",
   "execution_count": null,
   "metadata": {},
   "outputs": [],
   "source": [
    "len(somatic_clamp.v)"
   ]
  },
  {
   "cell_type": "markdown",
   "metadata": {},
   "source": [
    "We can probe the membrane potentials at the same locations as the Hay paper:"
   ]
  },
  {
   "cell_type": "code",
   "execution_count": null,
   "metadata": {},
   "outputs": [],
   "source": [
    "patch_y_locations = [0, 400, 620]"
   ]
  },
  {
   "cell_type": "code",
   "execution_count": null,
   "metadata": {},
   "outputs": [],
   "source": [
    "print(len(hay_cell.tvec))\n",
    "print(len(hay_cell.vmem[100]))"
   ]
  },
  {
   "cell_type": "code",
   "execution_count": null,
   "metadata": {},
   "outputs": [],
   "source": [
    "fig2 = plt.figure()\n",
    "ax2 = fig2.add_subplot(111)\n",
    "for ploc in patch_y_locations:\n",
    "    idx = hay_cell.get_closest_idx(y=ploc)\n",
    "    print('Y location:', hay_cell.ymid[idx])\n",
    "    ax2.plot(hay_cell.tvec, hay_cell.vmem[idx])\n",
    "ax2b = ax2.twinx()\n",
    "ax2b.plot(hay_cell.tvec, somatic_clamp.i, color='C0', ls='--', alpha=0.2)"
   ]
  },
  {
   "cell_type": "markdown",
   "metadata": {},
   "source": [
    "## Extracellular probes"
   ]
  },
  {
   "cell_type": "markdown",
   "metadata": {},
   "source": [
    "We can use the [MEAutility](https://meautility.readthedocs.io/en/latest/) package to quickly set up extracellular probes (or define new ones):"
   ]
  },
  {
   "cell_type": "code",
   "execution_count": null,
   "metadata": {},
   "outputs": [],
   "source": [
    "neuropixels = mu.return_mea('Neuropixels-128')"
   ]
  },
  {
   "cell_type": "code",
   "execution_count": null,
   "metadata": {},
   "outputs": [],
   "source": [
    "mu.plot_probe(neuropixels)"
   ]
  },
  {
   "cell_type": "code",
   "execution_count": null,
   "metadata": {},
   "outputs": [],
   "source": [
    "sq_mea = mu.return_mea('SqMEA-10-15')"
   ]
  },
  {
   "cell_type": "code",
   "execution_count": null,
   "metadata": {},
   "outputs": [],
   "source": [
    "mu.plot_probe(sq_mea)"
   ]
  },
  {
   "cell_type": "markdown",
   "metadata": {},
   "source": [
    "Let's use this square MEA (10x10, 15 um pitch). By default, the probe is on the yz plane, so we need to rotate it and move it to 'face' the neuron."
   ]
  },
  {
   "cell_type": "code",
   "execution_count": null,
   "metadata": {},
   "outputs": [],
   "source": [
    "sq_mea.rotate([0, 1, 0], 90)"
   ]
  },
  {
   "cell_type": "code",
   "execution_count": null,
   "metadata": {},
   "outputs": [],
   "source": [
    "sq_mea.move([0, 0, -50])"
   ]
  },
  {
   "cell_type": "code",
   "execution_count": null,
   "metadata": {},
   "outputs": [],
   "source": [
    "fig3 = plt.figure()\n",
    "ax3 = fig3.add_subplot()\n",
    "mu.plot_probe(sq_mea, ax=ax3)\n",
    "nplt.plot_neuron(hay_cell, plane='xy', ax=ax3)\n",
    "ax3.axis('equal')"
   ]
  },
  {
   "cell_type": "markdown",
   "metadata": {},
   "source": [
    "Since we already simulated the cell, we need to re-instantiate it:"
   ]
  },
  {
   "cell_type": "code",
   "execution_count": null,
   "metadata": {},
   "outputs": [],
   "source": [
    "hay_cell = load_hay_model('L5bPCmodelsEH/', dt=2**-5, tstart=0, tstop=50)\n",
    "somatic_clamp = LFPy.StimIntElectrode(hay_cell, idx=0, pptype='IClamp', record_current=True, \n",
    "                                      amp=0.5, delay=10, dur=20)"
   ]
  },
  {
   "cell_type": "markdown",
   "metadata": {},
   "source": [
    "Now we create an `LFPy.RecExtElectrode` using the `sq_mea` object:"
   ]
  },
  {
   "cell_type": "code",
   "execution_count": null,
   "metadata": {},
   "outputs": [],
   "source": [
    "probe = LFPy.RecExtElectrode(probe=sq_mea)"
   ]
  },
  {
   "cell_type": "markdown",
   "metadata": {},
   "source": [
    "And we can simulate the cell with the electrodes:"
   ]
  },
  {
   "cell_type": "code",
   "execution_count": null,
   "metadata": {},
   "outputs": [],
   "source": [
    "hay_cell.simulate(variable_dt=True, electrode=probe)"
   ]
  },
  {
   "cell_type": "code",
   "execution_count": null,
   "metadata": {},
   "outputs": [],
   "source": [
    "lfp = probe.LFP * 1000 # in uV"
   ]
  },
  {
   "cell_type": "code",
   "execution_count": null,
   "metadata": {},
   "outputs": [],
   "source": [
    "lfp.shape"
   ]
  },
  {
   "cell_type": "code",
   "execution_count": null,
   "metadata": {},
   "outputs": [],
   "source": [
    "print(len(hay_cell.somav))\n",
    "print(len(hay_cell.tvec))\n",
    "print(lfp.shape)"
   ]
  },
  {
   "cell_type": "code",
   "execution_count": null,
   "metadata": {},
   "outputs": [],
   "source": [
    "plt.figure()\n",
    "plt.plot(hay_cell.tvec, 'o')"
   ]
  },
  {
   "cell_type": "code",
   "execution_count": null,
   "metadata": {},
   "outputs": [],
   "source": [
    "plt.figure()\n",
    "plt.plot(hay_cell.tvec, lfp[0])"
   ]
  },
  {
   "cell_type": "code",
   "execution_count": null,
   "metadata": {},
   "outputs": [],
   "source": [
    "mu.plot_mea_recording(lfp, sq_mea, colors='b')"
   ]
  },
  {
   "cell_type": "code",
   "execution_count": null,
   "metadata": {},
   "outputs": [],
   "source": [
    "lfp[0].shape"
   ]
  },
  {
   "cell_type": "code",
   "execution_count": null,
   "metadata": {},
   "outputs": [],
   "source": [
    "hay_cell.somav.shape"
   ]
  },
  {
   "cell_type": "code",
   "execution_count": null,
   "metadata": {},
   "outputs": [],
   "source": [
    "neuron.h._ref_t"
   ]
  },
  {
   "cell_type": "code",
   "execution_count": null,
   "metadata": {},
   "outputs": [],
   "source": [
    "plt.figure()\n",
    "plt.plot(hay_cell.neuron_tvec.as_numpy())"
   ]
  },
  {
   "cell_type": "code",
   "execution_count": null,
   "metadata": {},
   "outputs": [],
   "source": []
  }
 ],
 "metadata": {
  "kernelspec": {
   "display_name": "Python 3",
   "language": "python",
   "name": "python3"
  },
  "language_info": {
   "codemirror_mode": {
    "name": "ipython",
    "version": 3
   },
   "file_extension": ".py",
   "mimetype": "text/x-python",
   "name": "python",
   "nbconvert_exporter": "python",
   "pygments_lexer": "ipython3",
   "version": "3.6.10"
  }
 },
 "nbformat": 4,
 "nbformat_minor": 4
}
