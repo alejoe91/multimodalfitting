{
 "cells": [
  {
   "cell_type": "markdown",
   "metadata": {},
   "source": [
    "### Validation Protocols for Hay Model\n",
    "\n",
    "* Validation Protocols have been added in stimvalidation.py and multimodalfitting/ecode/config/protocols.json contains these along with optimization protocols of Hay Model.\n",
    "* The validation protocols added and there parameters names are mentioned below\n",
    "\n",
    "1. **sAHP**: \"long_amplitude\", \"amplitude\" and \"holding_amplitude\" \n",
    "2. **HyperDepol**: \"hyperpol_amplitude\", \"depol_amplitude\" and \"holding_amplitude\" \n",
    "3. **PosCheops**: \"ramp1_amp\" \"ramp2_amp\", \"ramp3_amp\" and \"holding_amplitude\"\n",
    "4. **NoiseOU3**: \"filename\". Currently, it reads \"multimodalfitting/ecode/NoiseOU3txt.txt\" which has (time, current) data and injects this stimulus in the soma \n",
    "\n",
    "All the validation protocols are injected in soma.\n",
    "If 'NoiseOU3' protocol is added in protocols.json, it takes ~ 1 hr to simulate. Removing it will produce the desired figures for the other protocols in ~ 1 min.\n"
   ]
  },
  {
   "cell_type": "code",
   "execution_count": 1,
   "metadata": {},
   "outputs": [],
   "source": [
    "import json\n",
    "import matplotlib.pyplot as plt\n",
    "\n",
    "import bluepyopt as bpopt\n",
    "import bluepyopt.ephys as ephys\n",
    "\n",
    "import model\n",
    "import evaluator\n",
    "import time\n",
    "\n",
    "import sys\n",
    "\n",
    "from pathlib import Path\n",
    "\n",
    "%matplotlib notebook"
   ]
  },
  {
   "cell_type": "code",
   "execution_count": 2,
   "metadata": {
    "scrolled": true
   },
   "outputs": [
    {
     "name": "stdout",
     "output_type": "stream",
     "text": [
      "which: no xcrun in (/gpfs/bbp.cscs.ch/home/mandge/lfpenv/bin:/gpfs/bbp.cscs.ch/ssd/apps/hpc/jenkins/deploy/externals/2021-01-06/linux-rhel7-x86_64/gcc-9.3.0/hpe-mpi-2.22.hmpt-r52ypu/bin:/gpfs/bbp.cscs.ch/ssd/apps/hpc/jenkins/deploy/externals/2021-01-06/linux-rhel7-x86_64/gcc-9.3.0/python-3.8.3-suxrst/bin:/gpfs/bbp.cscs.ch/apps/rhscl/rh-nodejs10/root/usr/bin:/gpfs/bbp.cscs.ch/ssd/apps/tools/jupyter/jupyterlab/bin:/opt/clmgr/sbin:/opt/clmgr/bin:/opt/sgi/sbin:/opt/sgi/bin:/usr/lib64/qt-3.3/bin:/gpfs/bbp.cscs.ch/home/mandge//.nix-profile/bin:/nix/var/nix/profiles/default/bin:/usr/lib64/ccache:/usr/local/bin:/bin:/usr/bin:/usr/local/sbin:/usr/sbin:/gpfs/bbp.cscs.ch/ssd/apps/bb5/systemtools:/opt/c3/bin:/opt/ibutils/bin:/opt/ddn/ime/bin:/sbin:/bin:/gpfs/bbp.cscs.ch/home/mandge/.local/bin:/gpfs/bbp.cscs.ch/home/mandge/bin)\n",
      "/gpfs/bbp.cscs.ch/home/mandge/lfpy/multimodalfitting/ecode\n",
      "Mod files: \"mechanisms/CaDynamics_E2.mod\" \"mechanisms/Ca_HVA.mod\" \"mechanisms/Ca_LVAst.mod\" \"mechanisms/epsp.mod\" \"mechanisms/Ih.mod\" \"mechanisms/Im.mod\" \"mechanisms/K_Pst.mod\" \"mechanisms/K_Tst.mod\" \"mechanisms/Nap_Et2.mod\" \"mechanisms/NaTa_t.mod\" \"mechanisms/NaTs2_t.mod\" \"mechanisms/SK_E2.mod\" \"mechanisms/SKv3_1.mod\"\n",
      "\n",
      "Creating x86_64 directory for .o files.\n",
      "\n",
      "COBJS=''\n",
      " -> \u001b[32mCompiling\u001b[0m mod_func.c\n",
      "/gpfs/bbp.cscs.ch/ssd/apps/hpc/jenkins/deploy/compilers/2021-01-06/linux-rhel7-x86_64/gcc-4.8.5/gcc-9.3.0-45gzrp/bin/gcc -O2   -I.   -I/gpfs/bbp.cscs.ch/home/mandge/lfpenv/lib/python3.8/site-packages/neuron/.data/include  -I/nrnwheel/openmpi/include -fPIC -c mod_func.c -o mod_func.o\n",
      " -> \u001b[32mNMODL\u001b[0m ../mechanisms/CaDynamics_E2.mod\n",
      "(cd \"../mechanisms\"; MODLUNIT=/gpfs/bbp.cscs.ch/home/mandge/lfpenv/lib/python3.8/site-packages/neuron/.data/share/nrn/lib/nrnunits.lib /gpfs/bbp.cscs.ch/home/mandge/lfpenv/lib/python3.8/site-packages/neuron/.data/bin/nocmodl CaDynamics_E2.mod -o \"/gpfs/bbp.cscs.ch/home/mandge/lfpy/multimodalfitting/ecode/x86_64\")\n",
      " -> \u001b[32mNMODL\u001b[0m ../mechanisms/Ca_HVA.mod\n",
      "(cd \"../mechanisms\"; MODLUNIT=/gpfs/bbp.cscs.ch/home/mandge/lfpenv/lib/python3.8/site-packages/neuron/.data/share/nrn/lib/nrnunits.lib /gpfs/bbp.cscs.ch/home/mandge/lfpenv/lib/python3.8/site-packages/neuron/.data/bin/nocmodl Ca_HVA.mod -o \"/gpfs/bbp.cscs.ch/home/mandge/lfpy/multimodalfitting/ecode/x86_64\")\n",
      " -> \u001b[32mNMODL\u001b[0m ../mechanisms/Ca_LVAst.mod\n",
      "(cd \"../mechanisms\"; MODLUNIT=/gpfs/bbp.cscs.ch/home/mandge/lfpenv/lib/python3.8/site-packages/neuron/.data/share/nrn/lib/nrnunits.lib /gpfs/bbp.cscs.ch/home/mandge/lfpenv/lib/python3.8/site-packages/neuron/.data/bin/nocmodl Ca_LVAst.mod -o \"/gpfs/bbp.cscs.ch/home/mandge/lfpy/multimodalfitting/ecode/x86_64\")\n",
      "Translating CaDynamics_E2.mod into /gpfs/bbp.cscs.ch/home/mandge/lfpy/multimodalfitting/ecode/x86_64/CaDynamics_E2.c\n",
      "Thread Safe\n",
      "Translating Ca_HVA.mod into /gpfs/bbp.cscs.ch/home/mandge/lfpy/multimodalfitting/ecode/x86_64/Ca_HVA.c\n",
      "Thread Safe\n",
      " -> \u001b[32mNMODL\u001b[0m ../mechanisms/epsp.mod\n",
      "(cd \"../mechanisms\"; MODLUNIT=/gpfs/bbp.cscs.ch/home/mandge/lfpenv/lib/python3.8/site-packages/neuron/.data/share/nrn/lib/nrnunits.lib /gpfs/bbp.cscs.ch/home/mandge/lfpenv/lib/python3.8/site-packages/neuron/.data/bin/nocmodl epsp.mod -o \"/gpfs/bbp.cscs.ch/home/mandge/lfpy/multimodalfitting/ecode/x86_64\")\n",
      "Translating Ca_LVAst.mod into /gpfs/bbp.cscs.ch/home/mandge/lfpy/multimodalfitting/ecode/x86_64/Ca_LVAst.c\n",
      "Thread Safe\n",
      " -> \u001b[32mNMODL\u001b[0m ../mechanisms/Ih.mod\n",
      "(cd \"../mechanisms\"; MODLUNIT=/gpfs/bbp.cscs.ch/home/mandge/lfpenv/lib/python3.8/site-packages/neuron/.data/share/nrn/lib/nrnunits.lib /gpfs/bbp.cscs.ch/home/mandge/lfpenv/lib/python3.8/site-packages/neuron/.data/bin/nocmodl Ih.mod -o \"/gpfs/bbp.cscs.ch/home/mandge/lfpy/multimodalfitting/ecode/x86_64\")\n",
      " -> \u001b[32mNMODL\u001b[0m ../mechanisms/Im.mod\n",
      "(cd \"../mechanisms\"; MODLUNIT=/gpfs/bbp.cscs.ch/home/mandge/lfpenv/lib/python3.8/site-packages/neuron/.data/share/nrn/lib/nrnunits.lib /gpfs/bbp.cscs.ch/home/mandge/lfpenv/lib/python3.8/site-packages/neuron/.data/bin/nocmodl Im.mod -o \"/gpfs/bbp.cscs.ch/home/mandge/lfpy/multimodalfitting/ecode/x86_64\")\n",
      "Translating epsp.mod into /gpfs/bbp.cscs.ch/home/mandge/lfpy/multimodalfitting/ecode/x86_64/epsp.c\n",
      "Thread Safe\n",
      "Translating Ih.mod into /gpfs/bbp.cscs.ch/home/mandge/lfpy/multimodalfitting/ecode/x86_64/Ih.c\n",
      "Thread Safe\n",
      " -> \u001b[32mNMODL\u001b[0m ../mechanisms/K_Pst.mod\n",
      "(cd \"../mechanisms\"; MODLUNIT=/gpfs/bbp.cscs.ch/home/mandge/lfpenv/lib/python3.8/site-packages/neuron/.data/share/nrn/lib/nrnunits.lib /gpfs/bbp.cscs.ch/home/mandge/lfpenv/lib/python3.8/site-packages/neuron/.data/bin/nocmodl K_Pst.mod -o \"/gpfs/bbp.cscs.ch/home/mandge/lfpy/multimodalfitting/ecode/x86_64\")\n",
      "Translating Im.mod into /gpfs/bbp.cscs.ch/home/mandge/lfpy/multimodalfitting/ecode/x86_64/Im.c\n",
      " -> \u001b[32mNMODL\u001b[0m ../mechanisms/K_Tst.mod\n",
      "Thread Safe\n",
      "(cd \"../mechanisms\"; MODLUNIT=/gpfs/bbp.cscs.ch/home/mandge/lfpenv/lib/python3.8/site-packages/neuron/.data/share/nrn/lib/nrnunits.lib /gpfs/bbp.cscs.ch/home/mandge/lfpenv/lib/python3.8/site-packages/neuron/.data/bin/nocmodl K_Tst.mod -o \"/gpfs/bbp.cscs.ch/home/mandge/lfpy/multimodalfitting/ecode/x86_64\")\n",
      " -> \u001b[32mNMODL\u001b[0m ../mechanisms/Nap_Et2.mod\n",
      "(cd \"../mechanisms\"; MODLUNIT=/gpfs/bbp.cscs.ch/home/mandge/lfpenv/lib/python3.8/site-packages/neuron/.data/share/nrn/lib/nrnunits.lib /gpfs/bbp.cscs.ch/home/mandge/lfpenv/lib/python3.8/site-packages/neuron/.data/bin/nocmodl Nap_Et2.mod -o \"/gpfs/bbp.cscs.ch/home/mandge/lfpy/multimodalfitting/ecode/x86_64\")\n",
      "Translating K_Pst.mod into /gpfs/bbp.cscs.ch/home/mandge/lfpy/multimodalfitting/ecode/x86_64/K_Pst.c\n",
      "Thread Safe\n",
      " -> \u001b[32mNMODL\u001b[0m ../mechanisms/NaTa_t.mod\n",
      "(cd \"../mechanisms\"; MODLUNIT=/gpfs/bbp.cscs.ch/home/mandge/lfpenv/lib/python3.8/site-packages/neuron/.data/share/nrn/lib/nrnunits.lib /gpfs/bbp.cscs.ch/home/mandge/lfpenv/lib/python3.8/site-packages/neuron/.data/bin/nocmodl NaTa_t.mod -o \"/gpfs/bbp.cscs.ch/home/mandge/lfpy/multimodalfitting/ecode/x86_64\")\n",
      "Translating K_Tst.mod into /gpfs/bbp.cscs.ch/home/mandge/lfpy/multimodalfitting/ecode/x86_64/K_Tst.c\n",
      "Thread Safe\n",
      " -> \u001b[32mNMODL\u001b[0m ../mechanisms/NaTs2_t.mod\n",
      "Translating Nap_Et2.mod into /gpfs/bbp.cscs.ch/home/mandge/lfpy/multimodalfitting/ecode/x86_64/Nap_Et2.c\n",
      "(cd \"../mechanisms\"; MODLUNIT=/gpfs/bbp.cscs.ch/home/mandge/lfpenv/lib/python3.8/site-packages/neuron/.data/share/nrn/lib/nrnunits.lib /gpfs/bbp.cscs.ch/home/mandge/lfpenv/lib/python3.8/site-packages/neuron/.data/bin/nocmodl NaTs2_t.mod -o \"/gpfs/bbp.cscs.ch/home/mandge/lfpy/multimodalfitting/ecode/x86_64\")\n",
      "Thread Safe\n",
      "Translating NaTa_t.mod into /gpfs/bbp.cscs.ch/home/mandge/lfpy/multimodalfitting/ecode/x86_64/NaTa_t.c\n",
      " -> \u001b[32mNMODL\u001b[0m ../mechanisms/SK_E2.mod\n",
      "(cd \"../mechanisms\"; MODLUNIT=/gpfs/bbp.cscs.ch/home/mandge/lfpenv/lib/python3.8/site-packages/neuron/.data/share/nrn/lib/nrnunits.lib /gpfs/bbp.cscs.ch/home/mandge/lfpenv/lib/python3.8/site-packages/neuron/.data/bin/nocmodl SK_E2.mod -o \"/gpfs/bbp.cscs.ch/home/mandge/lfpy/multimodalfitting/ecode/x86_64\")\n",
      "Thread Safe\n",
      " -> \u001b[32mNMODL\u001b[0m ../mechanisms/SKv3_1.mod\n",
      "(cd \"../mechanisms\"; MODLUNIT=/gpfs/bbp.cscs.ch/home/mandge/lfpenv/lib/python3.8/site-packages/neuron/.data/share/nrn/lib/nrnunits.lib /gpfs/bbp.cscs.ch/home/mandge/lfpenv/lib/python3.8/site-packages/neuron/.data/bin/nocmodl SKv3_1.mod -o \"/gpfs/bbp.cscs.ch/home/mandge/lfpy/multimodalfitting/ecode/x86_64\")\n",
      " -> \u001b[32mCompiling\u001b[0m CaDynamics_E2.c\n",
      "Translating NaTs2_t.mod into /gpfs/bbp.cscs.ch/home/mandge/lfpy/multimodalfitting/ecode/x86_64/NaTs2_t.c\n",
      "/gpfs/bbp.cscs.ch/ssd/apps/hpc/jenkins/deploy/compilers/2021-01-06/linux-rhel7-x86_64/gcc-4.8.5/gcc-9.3.0-45gzrp/bin/gcc -O2   -I\"../mechanisms\" -I.   -I/gpfs/bbp.cscs.ch/home/mandge/lfpenv/lib/python3.8/site-packages/neuron/.data/include  -I/nrnwheel/openmpi/include -fPIC -c CaDynamics_E2.c -o CaDynamics_E2.o\n",
      "Thread Safe\n",
      "Translating SK_E2.mod into /gpfs/bbp.cscs.ch/home/mandge/lfpy/multimodalfitting/ecode/x86_64/SK_E2.c\n",
      "Thread Safe\n",
      " -> \u001b[32mCompiling\u001b[0m Ca_HVA.c\n",
      "/gpfs/bbp.cscs.ch/ssd/apps/hpc/jenkins/deploy/compilers/2021-01-06/linux-rhel7-x86_64/gcc-4.8.5/gcc-9.3.0-45gzrp/bin/gcc -O2   -I\"../mechanisms\" -I.   -I/gpfs/bbp.cscs.ch/home/mandge/lfpenv/lib/python3.8/site-packages/neuron/.data/include  -I/nrnwheel/openmpi/include -fPIC -c Ca_HVA.c -o Ca_HVA.o\n",
      "Translating SKv3_1.mod into /gpfs/bbp.cscs.ch/home/mandge/lfpy/multimodalfitting/ecode/x86_64/SKv3_1.c\n",
      "Thread Safe\n",
      " -> \u001b[32mCompiling\u001b[0m Ca_LVAst.c\n",
      "/gpfs/bbp.cscs.ch/ssd/apps/hpc/jenkins/deploy/compilers/2021-01-06/linux-rhel7-x86_64/gcc-4.8.5/gcc-9.3.0-45gzrp/bin/gcc -O2   -I\"../mechanisms\" -I.   -I/gpfs/bbp.cscs.ch/home/mandge/lfpenv/lib/python3.8/site-packages/neuron/.data/include  -I/nrnwheel/openmpi/include -fPIC -c Ca_LVAst.c -o Ca_LVAst.o\n",
      " -> \u001b[32mCompiling\u001b[0m epsp.c\n",
      "/gpfs/bbp.cscs.ch/ssd/apps/hpc/jenkins/deploy/compilers/2021-01-06/linux-rhel7-x86_64/gcc-4.8.5/gcc-9.3.0-45gzrp/bin/gcc -O2   -I\"../mechanisms\" -I.   -I/gpfs/bbp.cscs.ch/home/mandge/lfpenv/lib/python3.8/site-packages/neuron/.data/include  -I/nrnwheel/openmpi/include -fPIC -c epsp.c -o epsp.o\n",
      " -> \u001b[32mCompiling\u001b[0m Ih.c\n",
      "/gpfs/bbp.cscs.ch/ssd/apps/hpc/jenkins/deploy/compilers/2021-01-06/linux-rhel7-x86_64/gcc-4.8.5/gcc-9.3.0-45gzrp/bin/gcc -O2   -I\"../mechanisms\" -I.   -I/gpfs/bbp.cscs.ch/home/mandge/lfpenv/lib/python3.8/site-packages/neuron/.data/include  -I/nrnwheel/openmpi/include -fPIC -c Ih.c -o Ih.o\n",
      " -> \u001b[32mCompiling\u001b[0m Im.c\n",
      "/gpfs/bbp.cscs.ch/ssd/apps/hpc/jenkins/deploy/compilers/2021-01-06/linux-rhel7-x86_64/gcc-4.8.5/gcc-9.3.0-45gzrp/bin/gcc -O2   -I\"../mechanisms\" -I.   -I/gpfs/bbp.cscs.ch/home/mandge/lfpenv/lib/python3.8/site-packages/neuron/.data/include  -I/nrnwheel/openmpi/include -fPIC -c Im.c -o Im.o\n",
      " -> \u001b[32mCompiling\u001b[0m K_Pst.c\n",
      "/gpfs/bbp.cscs.ch/ssd/apps/hpc/jenkins/deploy/compilers/2021-01-06/linux-rhel7-x86_64/gcc-4.8.5/gcc-9.3.0-45gzrp/bin/gcc -O2   -I\"../mechanisms\" -I.   -I/gpfs/bbp.cscs.ch/home/mandge/lfpenv/lib/python3.8/site-packages/neuron/.data/include  -I/nrnwheel/openmpi/include -fPIC -c K_Pst.c -o K_Pst.o\n",
      " -> \u001b[32mCompiling\u001b[0m K_Tst.c\n",
      "/gpfs/bbp.cscs.ch/ssd/apps/hpc/jenkins/deploy/compilers/2021-01-06/linux-rhel7-x86_64/gcc-4.8.5/gcc-9.3.0-45gzrp/bin/gcc -O2   -I\"../mechanisms\" -I.   -I/gpfs/bbp.cscs.ch/home/mandge/lfpenv/lib/python3.8/site-packages/neuron/.data/include  -I/nrnwheel/openmpi/include -fPIC -c K_Tst.c -o K_Tst.o\n",
      " -> \u001b[32mCompiling\u001b[0m Nap_Et2.c\n",
      "/gpfs/bbp.cscs.ch/ssd/apps/hpc/jenkins/deploy/compilers/2021-01-06/linux-rhel7-x86_64/gcc-4.8.5/gcc-9.3.0-45gzrp/bin/gcc -O2   -I\"../mechanisms\" -I.   -I/gpfs/bbp.cscs.ch/home/mandge/lfpenv/lib/python3.8/site-packages/neuron/.data/include  -I/nrnwheel/openmpi/include -fPIC -c Nap_Et2.c -o Nap_Et2.o\n",
      " -> \u001b[32mCompiling\u001b[0m NaTa_t.c\n",
      "/gpfs/bbp.cscs.ch/ssd/apps/hpc/jenkins/deploy/compilers/2021-01-06/linux-rhel7-x86_64/gcc-4.8.5/gcc-9.3.0-45gzrp/bin/gcc -O2   -I\"../mechanisms\" -I.   -I/gpfs/bbp.cscs.ch/home/mandge/lfpenv/lib/python3.8/site-packages/neuron/.data/include  -I/nrnwheel/openmpi/include -fPIC -c NaTa_t.c -o NaTa_t.o\n",
      " -> \u001b[32mCompiling\u001b[0m NaTs2_t.c\n",
      "/gpfs/bbp.cscs.ch/ssd/apps/hpc/jenkins/deploy/compilers/2021-01-06/linux-rhel7-x86_64/gcc-4.8.5/gcc-9.3.0-45gzrp/bin/gcc -O2   -I\"../mechanisms\" -I.   -I/gpfs/bbp.cscs.ch/home/mandge/lfpenv/lib/python3.8/site-packages/neuron/.data/include  -I/nrnwheel/openmpi/include -fPIC -c NaTs2_t.c -o NaTs2_t.o\n",
      " -> \u001b[32mCompiling\u001b[0m SK_E2.c\n",
      "/gpfs/bbp.cscs.ch/ssd/apps/hpc/jenkins/deploy/compilers/2021-01-06/linux-rhel7-x86_64/gcc-4.8.5/gcc-9.3.0-45gzrp/bin/gcc -O2   -I\"../mechanisms\" -I.   -I/gpfs/bbp.cscs.ch/home/mandge/lfpenv/lib/python3.8/site-packages/neuron/.data/include  -I/nrnwheel/openmpi/include -fPIC -c SK_E2.c -o SK_E2.o\n",
      " -> \u001b[32mCompiling\u001b[0m SKv3_1.c\n",
      "/gpfs/bbp.cscs.ch/ssd/apps/hpc/jenkins/deploy/compilers/2021-01-06/linux-rhel7-x86_64/gcc-4.8.5/gcc-9.3.0-45gzrp/bin/gcc -O2   -I\"../mechanisms\" -I.   -I/gpfs/bbp.cscs.ch/home/mandge/lfpenv/lib/python3.8/site-packages/neuron/.data/include  -I/nrnwheel/openmpi/include -fPIC -c SKv3_1.c -o SKv3_1.o\n",
      " => \u001b[32mLINKING\u001b[0m shared library ./libnrnmech.so\n",
      "/gpfs/bbp.cscs.ch/ssd/apps/hpc/jenkins/deploy/compilers/2021-01-06/linux-rhel7-x86_64/gcc-4.8.5/gcc-9.3.0-45gzrp/bin/g++ -O2 -DVERSION_INFO='7.8.2' -std=c++11 -shared -fPIC  -I /gpfs/bbp.cscs.ch/home/mandge/lfpenv/lib/python3.8/site-packages/neuron/.data/include -o ./libnrnmech.so -Wl,-soname,libnrnmech.so \\\n",
      "  ./mod_func.o ./CaDynamics_E2.o ./Ca_HVA.o ./Ca_LVAst.o ./epsp.o ./Ih.o ./Im.o ./K_Pst.o ./K_Tst.o ./Nap_Et2.o ./NaTa_t.o ./NaTs2_t.o ./SK_E2.o ./SKv3_1.o  -L/gpfs/bbp.cscs.ch/home/mandge/lfpenv/lib/python3.8/site-packages/neuron/.data/lib -lnrniv -Wl,-rpath,/gpfs/bbp.cscs.ch/home/mandge/lfpenv/lib/python3.8/site-packages/neuron/.data/lib   \n",
      "rm -f ./.libs/libnrnmech.so ; mkdir -p ./.libs ; cp ./libnrnmech.so ./.libs/libnrnmech.so\n",
      "Successfully created x86_64/special\n"
     ]
    }
   ],
   "source": [
    "!rm -r x86_64\n",
    "!nrnivmodl mechanisms"
   ]
  },
  {
   "cell_type": "code",
   "execution_count": 3,
   "metadata": {},
   "outputs": [],
   "source": [
    "probe = None #model.define_electrode(probe_type=\"linear\")"
   ]
  },
  {
   "cell_type": "code",
   "execution_count": 4,
   "metadata": {},
   "outputs": [],
   "source": [
    "cell = model.create(morph_modifier=\"hillock\", release=True)\n",
    "\n",
    "param_names = [param.name for param in cell.params.values() if not param.frozen]\n",
    "\n",
    "fitness_protocols = evaluator.define_protocols(\n",
    "    feature_set=None, \n",
    "    feature_file=None, \n",
    "    electrode=probe,\n",
    "    protocols_with_lfp=None\n",
    ")\n",
    "\n",
    "fitness_calculator = ephys.objectivescalculators.ObjectivesCalculator([])\n",
    "\n",
    "sim = ephys.simulators.LFPySimulator(cell, cvode_active=True, electrode=probe)\n",
    "\n",
    "eva = ephys.evaluators.CellEvaluator(                    \n",
    "        cell_model=cell,                                                       \n",
    "        param_names=param_names,                                                    \n",
    "        fitness_protocols=fitness_protocols,                                        \n",
    "        fitness_calculator=fitness_calculator,                                      \n",
    "        sim=sim)"
   ]
  },
  {
   "cell_type": "code",
   "execution_count": 5,
   "metadata": {
    "scrolled": true
   },
   "outputs": [
    {
     "data": {
      "text/plain": [
       "{'bAP': {'stimuli': [{'delay': 95,\n",
       "    'amp': 1.9,\n",
       "    'duration': 5,\n",
       "    'totduration': 400}],\n",
       "  'extra_recordings': [{'var': 'v',\n",
       "    'somadistance': 400,\n",
       "    'type': 'somadistance',\n",
       "    'name': 'dend1',\n",
       "    'seclist_name': 'apical'},\n",
       "   {'var': 'v',\n",
       "    'somadistance': 620,\n",
       "    'type': 'somadistance',\n",
       "    'name': 'dend2',\n",
       "    'seclist_name': 'apical'}]},\n",
       " 'BAC': {'stimuli': [{'delay': 95,\n",
       "    'amp': 1.9,\n",
       "    'duration': 5,\n",
       "    'totduration': 400}],\n",
       "  'extra_recordings': [{'var': 'v',\n",
       "    'somadistance': 400,\n",
       "    'type': 'somadistance',\n",
       "    'name': 'dend1',\n",
       "    'seclist_name': 'apical'},\n",
       "   {'var': 'v',\n",
       "    'somadistance': 620,\n",
       "    'type': 'somadistance',\n",
       "    'name': 'dend2',\n",
       "    'seclist_name': 'apical'}]},\n",
       " 'EPSP': {'stimuli': [{'delay': 95,\n",
       "    'amp': 1.9,\n",
       "    'duration': 5,\n",
       "    'totduration': 400}],\n",
       "  'extra_recordings': [{'var': 'v',\n",
       "    'somadistance': 400,\n",
       "    'type': 'somadistance',\n",
       "    'name': 'dend1',\n",
       "    'seclist_name': 'apical'},\n",
       "   {'var': 'v',\n",
       "    'somadistance': 620,\n",
       "    'type': 'somadistance',\n",
       "    'name': 'dend2',\n",
       "    'seclist_name': 'apical'}]},\n",
       " 'CaBurst': {'stimuli': [{'delay': 95,\n",
       "    'amp': 1.9,\n",
       "    'duration': 5,\n",
       "    'totduration': 400}],\n",
       "  'extra_recordings': [{'var': 'v',\n",
       "    'somadistance': 400,\n",
       "    'type': 'somadistance',\n",
       "    'name': 'dend1',\n",
       "    'seclist_name': 'apical'},\n",
       "   {'var': 'v',\n",
       "    'somadistance': 620,\n",
       "    'type': 'somadistance',\n",
       "    'name': 'dend2',\n",
       "    'seclist_name': 'apical'}]},\n",
       " 'Step1': {'stimuli': [{'delay': 700,\n",
       "    'amp': 0.793,\n",
       "    'duration': 2000,\n",
       "    'totduration': 3000},\n",
       "   {'delay': 0, 'amp': 0.0, 'duration': 3000, 'totduration': 3000}]},\n",
       " 'sAHP': {'stimuli': [{'long_amplitude': 0.2,\n",
       "    'amplitude': 0.793,\n",
       "    'holding_amplitude': 0.0}]},\n",
       " 'HyperDepol': {'stimuli': [{'hyperpol_amplitude': -0.2,\n",
       "    'depol_amplitude': 0.793,\n",
       "    'holding_amplitude': 0.0}]},\n",
       " 'PosCheops': {'stimuli': [{'ramp1_amp': 1,\n",
       "    'ramp2_amp': 1,\n",
       "    'ramp3_amp': 1,\n",
       "    'holding_amplitude': 0.0}]},\n",
       " 'NoiseOU3': {'stimuli': [{'filename': '/gpfs/bbp.cscs.ch/home/mandge/lfpy/multimodalfitting/ecode/NoiseOU3txt.txt'}]}}"
      ]
     },
     "execution_count": 5,
     "metadata": {},
     "output_type": "execute_result"
    }
   ],
   "source": [
    "evaluator.get_protocol_definitions()\n",
    "# # print(eva)\n",
    "# !pwd"
   ]
  },
  {
   "cell_type": "code",
   "execution_count": 6,
   "metadata": {},
   "outputs": [],
   "source": [
    "# evaluator.define_protocols()\n",
    "allprots = evaluator.define_all_protocols()"
   ]
  },
  {
   "cell_type": "code",
   "execution_count": null,
   "metadata": {},
   "outputs": [],
   "source": [
    "t_start = time.time()\n",
    "# responses = eva.run_protocols(protocols=fitness_protocols.values(), param_values={})\n",
    "responses = eva.run_protocols(protocols=allprots.values(), param_values={}) \n",
    "print(f\"Elapsed time: {time.time() - t_start}\")"
   ]
  },
  {
   "cell_type": "code",
   "execution_count": null,
   "metadata": {},
   "outputs": [],
   "source": [
    "responses"
   ]
  },
  {
   "cell_type": "code",
   "execution_count": null,
   "metadata": {
    "scrolled": true
   },
   "outputs": [],
   "source": [
    "fig, axes = plt.subplots(len(responses), figsize=(10, 20), squeeze=False)\n",
    "for index, (resp_name, response) in enumerate(sorted(responses.items())):\n",
    "    axes[index, 0].plot(response['time'], response['voltage'], label=resp_name)\n",
    "    axes[index, 0].set_title(resp_name)\n",
    "fig.tight_layout()\n",
    "fig.show()"
   ]
  },
  {
   "cell_type": "code",
   "execution_count": null,
   "metadata": {},
   "outputs": [],
   "source": [
    "fig.savefig(\"hay_optimization_validation_protocols.png\")"
   ]
  },
  {
   "cell_type": "code",
   "execution_count": null,
   "metadata": {},
   "outputs": [],
   "source": [
    "fig2, axes2 = plt.subplots(3, figsize=(10, 5), squeeze=False)\n",
    "\n",
    "axes2[0, 0].plot(responses['sAHP.soma.v']['time'], responses['sAHP.soma.v']['voltage'], label='sAHP.soma.v')\n",
    "axes2[0, 0].set_title('sAHP.soma.v')\n",
    "axes2[1, 0].plot(responses['HyperDepol.soma.v']['time'], responses['HyperDepol.soma.v']['voltage'], label='HyperDepol.soma.v')\n",
    "axes2[1, 0].set_title('HyperDepol.soma.v')\n",
    "axes2[2, 0].plot(responses['PosCheops.soma.v']['time'], responses['PosCheops.soma.v']['voltage'], label='PosCheops.soma.v')\n",
    "axes2[2, 0].set_title('PosCheops.soma.v')\n",
    "# axes2[3, 0].plot(responses['NoiseOU3.soma.v']['time'], responses['NoiseOU3.soma.v']['voltage'], label='NoiseOU3.soma.v') # Noise protocol if added to protocols\n",
    "# axes2[3, 0].set_title('NoiseOU3.soma.v')\n",
    "\n",
    "fig2.tight_layout()\n",
    "fig2.show()"
   ]
  }
 ],
 "metadata": {
  "kernelspec": {
   "display_name": "lfpenv",
   "language": "python",
   "name": "lfpenv"
  },
  "language_info": {
   "codemirror_mode": {
    "name": "ipython",
    "version": 3
   },
   "file_extension": ".py",
   "mimetype": "text/x-python",
   "name": "python",
   "nbconvert_exporter": "python",
   "pygments_lexer": "ipython3",
   "version": "3.8.3"
  }
 },
 "nbformat": 4,
 "nbformat_minor": 4
}
