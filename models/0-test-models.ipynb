{
 "cells": [
  {
   "cell_type": "code",
   "execution_count": null,
   "id": "departmental-conservation",
   "metadata": {},
   "outputs": [],
   "source": [
    "import json\n",
    "import sys\n",
    "import os\n",
    "import time\n",
    "import neuron\n",
    "from pathlib import Path\n",
    "\n",
    "import matplotlib.pyplot as plt\n",
    "\n",
    "import bluepyopt as bpopt\n",
    "import bluepyopt.ephys as ephys\n",
    "\n",
    "import model\n",
    "import evaluator\n",
    "\n",
    "%matplotlib notebook"
   ]
  },
  {
   "cell_type": "code",
   "execution_count": null,
   "id": "interracial-bridges",
   "metadata": {},
   "outputs": [],
   "source": [
    "probe_type = \"linear\"\n",
    "model_name = 'hallermann' # \"hay\""
   ]
  },
  {
   "cell_type": "code",
   "execution_count": null,
   "id": "spread-satisfaction",
   "metadata": {},
   "outputs": [],
   "source": [
    "model_folder = (Path(\".\") / f\"{model_name}_model\").absolute()\n",
    "\n",
    "# compile model-specific mechanisms\n",
    "if not (model_folder / \"x86_64\").is_dir():\n",
    "    curr_dir = Path(\".\")\n",
    "    os.chdir(model_folder)\n",
    "    print(os.getcwd())\n",
    "    os.system(\"nrnivmodl mechanisms\")\n",
    "    os.chdir(curr_dir)\n",
    "else:\n",
    "    print(f\"Mechanisms already compiled for {model_name}\")"
   ]
  },
  {
   "cell_type": "code",
   "execution_count": null,
   "id": "printable-trout",
   "metadata": {},
   "outputs": [],
   "source": [
    "_ = neuron.load_mechanisms(str(model_folder))"
   ]
  },
  {
   "cell_type": "code",
   "execution_count": null,
   "id": "retired-turkey",
   "metadata": {},
   "outputs": [],
   "source": [
    "cell = model.create(model=model_name, release=True)\n",
    "\n",
    "probe = model.define_electrode(probe_type=probe_type)\n",
    "\n",
    "param_names = [param.name for param in cell.params.values() if not param.frozen]\n",
    "\n",
    "fitness_protocols = evaluator.define_protocols(\n",
    "    model_name,\n",
    "    feature_set=\"multiple\",\n",
    "    feature_file=f\"{model_name}_model/features_list.json\",\n",
    "    electrode=probe,\n",
    "    protocols_with_lfp=None #[\"Step1\"]\n",
    ")\n",
    "\n",
    "fitness_calculator = ephys.objectivescalculators.ObjectivesCalculator([])\n",
    "\n",
    "if model_name == 'hallermann':\n",
    "    sim = ephys.simulators.LFPySimulator(cell, cvode_active=False, electrode=probe)\n",
    "else:\n",
    "    sim = ephys.simulators.LFPySimulator(cell, cvode_active=True, electrode=probe)\n",
    "\n",
    "eva = ephys.evaluators.CellEvaluator(                    \n",
    "        cell_model=cell,                                                       \n",
    "        param_names=param_names,                                                    \n",
    "        fitness_protocols=fitness_protocols,                                        \n",
    "        fitness_calculator=fitness_calculator,                                      \n",
    "        sim=sim)"
   ]
  },
  {
   "cell_type": "code",
   "execution_count": null,
   "id": "permanent-behalf",
   "metadata": {},
   "outputs": [],
   "source": [
    "fitness_protocols"
   ]
  },
  {
   "cell_type": "code",
   "execution_count": null,
   "id": "patient-wallace",
   "metadata": {},
   "outputs": [],
   "source": [
    "t_start = time.time()\n",
    "responses = eva.run_protocols(protocols=fitness_protocols.values(), param_values={})\n",
    "print(f\"Elapsed time: {time.time() - t_start}\")"
   ]
  },
  {
   "cell_type": "code",
   "execution_count": null,
   "id": "undefined-element",
   "metadata": {},
   "outputs": [],
   "source": [
    "fig, axes = plt.subplots(len(responses), figsize=(10, 20), squeeze=False)\n",
    "for index, (resp_name, response) in enumerate(sorted(responses.items())):\n",
    "    axes[index, 0].plot(response['time'], response['voltage'], label=resp_name)\n",
    "    axes[index, 0].set_title(resp_name)\n",
    "fig.tight_layout()\n",
    "fig.show()"
   ]
  },
  {
   "cell_type": "code",
   "execution_count": null,
   "id": "joint-baseball",
   "metadata": {},
   "outputs": [],
   "source": [
    "responses.keys() #[\"Step1\"]"
   ]
  },
  {
   "cell_type": "code",
   "execution_count": null,
   "id": "indirect-commerce",
   "metadata": {},
   "outputs": [],
   "source": [
    "plt.figure()\n",
    "plt.plot(responses['Step1.MEA.LFP'][\"time\"], responses['Step1.MEA.LFP'][\"voltage\"].T)"
   ]
  },
  {
   "cell_type": "code",
   "execution_count": null,
   "id": "communist-print",
   "metadata": {},
   "outputs": [],
   "source": [
    "responses['Step1.MEA.LFP'][\"voltage\"]"
   ]
  },
  {
   "cell_type": "code",
   "execution_count": null,
   "id": "hourly-break",
   "metadata": {},
   "outputs": [],
   "source": [
    "responses['Step1.MEA.LFP'][\"voltage\"]"
   ]
  },
  {
   "cell_type": "code",
   "execution_count": null,
   "id": "narrative-browser",
   "metadata": {},
   "outputs": [],
   "source": []
  }
 ],
 "metadata": {
  "kernelspec": {
   "display_name": "venv_lfpy",
   "language": "python",
   "name": "venv_lfpy"
  },
  "language_info": {
   "codemirror_mode": {
    "name": "ipython",
    "version": 3
   },
   "file_extension": ".py",
   "mimetype": "text/x-python",
   "name": "python",
   "nbconvert_exporter": "python",
   "pygments_lexer": "ipython3",
   "version": "3.8.3"
  }
 },
 "nbformat": 4,
 "nbformat_minor": 5
}
