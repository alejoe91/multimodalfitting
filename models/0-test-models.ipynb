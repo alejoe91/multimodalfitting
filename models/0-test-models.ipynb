{
 "cells": [
  {
   "cell_type": "markdown",
   "id": "4d1a6f8c",
   "metadata": {},
   "source": [
    "# Test model example"
   ]
  },
  {
   "cell_type": "code",
   "execution_count": null,
   "id": "departmental-conservation",
   "metadata": {},
   "outputs": [],
   "source": [
    "import json\n",
    "import sys\n",
    "import os\n",
    "import time\n",
    "import neuron\n",
    "from pathlib import Path\n",
    "\n",
    "import matplotlib.pyplot as plt\n",
    "\n",
    "import bluepyopt as bpopt\n",
    "import bluepyopt.ephys as ephys\n",
    "\n",
    "import shutil\n",
    "\n",
    "import model\n",
    "import evaluator\n",
    "import plotting\n",
    "\n",
    "%matplotlib notebook"
   ]
  },
  {
   "cell_type": "code",
   "execution_count": null,
   "id": "interracial-bridges",
   "metadata": {},
   "outputs": [],
   "source": [
    "probe_type = \"linear\"\n",
    "model_name = 'hallermann' # \"hay\"\n",
    "model_folder = (Path(\".\") / f\"{model_name}_model\").absolute()"
   ]
  },
  {
   "cell_type": "code",
   "execution_count": null,
   "id": "spread-satisfaction",
   "metadata": {},
   "outputs": [],
   "source": [
    "# compile model-specific mechanisms\n",
    "if not (model_folder / \"x86_64\").is_dir():\n",
    "    curr_dir = Path(\".\").absolute()\n",
    "    os.chdir(model_folder)\n",
    "    print(os.getcwd())\n",
    "    os.system(\"nrnivmodl mechanisms\")\n",
    "    os.chdir(curr_dir)\n",
    "else:\n",
    "    print(f\"Mechanisms already compiled for {model_name}\")\n",
    "    compiled_folder = Path(\"./x86_64\")\n",
    "    if compiled_folder.is_dir():\n",
    "        shutil.rmtree(compiled_folder)\n",
    "    shutil.copytree(model_folder / \"x86_64\", compiled_folder)"
   ]
  },
  {
   "cell_type": "code",
   "execution_count": null,
   "id": "retired-turkey",
   "metadata": {},
   "outputs": [],
   "source": [
    "cell = model.create(model_name=model_name, release=True)\n",
    "\n",
    "probe = model.define_electrode(probe_type=probe_type)\n",
    "# probe = None\n",
    "\n",
    "param_names = [param.name for param in cell.params.values() if not param.frozen]\n",
    "if model_name == \"hallermann\":\n",
    "    cvode_active = False\n",
    "else:\n",
    "    cvode_active = True\n",
    "sim = ephys.simulators.LFPySimulator(cell, cvode_active=cvode_active, electrode=probe)"
   ]
  },
  {
   "cell_type": "code",
   "execution_count": null,
   "id": "permanent-behalf",
   "metadata": {},
   "outputs": [],
   "source": [
    "fitness_protocols"
   ]
  },
  {
   "cell_type": "code",
   "execution_count": null,
   "id": "patient-wallace",
   "metadata": {},
   "outputs": [],
   "source": [
    "t_start = time.time()\n",
    "responses = eva.run_protocols(protocols=fitness_protocols.values(), param_values={})\n",
    "print(f\"Elapsed time: {time.time() - t_start}\")"
   ]
  },
  {
   "cell_type": "code",
   "execution_count": null,
   "id": "joint-baseball",
   "metadata": {},
   "outputs": [],
   "source": [
    "plotting.plot_responses(responses)"
   ]
  },
  {
   "cell_type": "code",
   "execution_count": null,
   "id": "indirect-commerce",
   "metadata": {},
   "outputs": [],
   "source": [
    "plt.figure()\n",
    "plt.plot(responses['Step1.MEA.LFP'][\"time\"], responses['Step1.MEA.LFP'][\"voltage\"].T)"
   ]
  }
 ],
 "metadata": {
  "language_info": {
   "name": "python"
  }
 },
 "nbformat": 4,
 "nbformat_minor": 5
}
