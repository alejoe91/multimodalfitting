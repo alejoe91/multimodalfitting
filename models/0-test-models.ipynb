{
 "cells": [
  {
   "cell_type": "code",
   "execution_count": 1,
   "metadata": {},
   "outputs": [],
   "source": [
    "import json\n",
    "import matplotlib.pyplot as plt\n",
    "\n",
    "import bluepyopt as bpopt\n",
    "import bluepyopt.ephys as ephys\n",
    "\n",
    "import model\n",
    "import evaluator\n",
    "import time\n",
    "\n",
    "import sys\n",
    "\n",
    "from pathlib import Path"
   ]
  },
  {
   "cell_type": "code",
   "execution_count": 2,
   "metadata": {},
   "outputs": [],
   "source": [
    "#!rm -rf x86_64\n",
    "#!nrnivmodl mechanisms"
   ]
  },
  {
   "cell_type": "code",
   "execution_count": 3,
   "metadata": {},
   "outputs": [],
   "source": [
    "probe = None #model.define_electrode(probe_type=\"linear\")\n",
    "model_name = 'hallermann' # \"hay\" \n",
    "morph_modifier = 'hallermann' # \"\""
   ]
  },
  {
   "cell_type": "code",
   "execution_count": 4,
   "metadata": {},
   "outputs": [],
   "source": [
    "cell = model.create(model=model_name, morph_modifier=morph_modifier, release=True)\n",
    "\n",
    "param_names = [param.name for param in cell.params.values() if not param.frozen]\n",
    "\n",
    "fitness_protocols = evaluator.define_protocols(\n",
    "    model_name,\n",
    "    feature_set=\"multiple\",\n",
    "    feature_file=\"hallermann_model/features_list.json\",\n",
    "    electrode=probe,\n",
    "    protocols_with_lfp=None\n",
    ")\n",
    "\n",
    "fitness_calculator = ephys.objectivescalculators.ObjectivesCalculator([])\n",
    "if model_name == 'hallermann':\n",
    "    sim = ephys.simulators.LFPySimulator(cell, cvode_active=False, electrode=probe)\n",
    "else:\n",
    "    sim = ephys.simulators.LFPySimulator(cell, cvode_active=True, electrode=probe)\n",
    "    \n",
    "eva = ephys.evaluators.CellEvaluator(                    \n",
    "        cell_model=cell,                                                       \n",
    "        param_names=param_names,                                                    \n",
    "        fitness_protocols=fitness_protocols,                                        \n",
    "        fitness_calculator=fitness_calculator,                                      \n",
    "        sim=sim)"
   ]
  },
  {
   "cell_type": "code",
   "execution_count": 5,
   "metadata": {},
   "outputs": [
    {
     "data": {
      "text/plain": [
       "{'Step1': <bluepyopt.ephys.protocols.SweepProtocol at 0x7ff813d70190>}"
      ]
     },
     "execution_count": 5,
     "metadata": {},
     "output_type": "execute_result"
    }
   ],
   "source": [
    "fitness_protocols"
   ]
  },
  {
   "cell_type": "code",
   "execution_count": 6,
   "metadata": {},
   "outputs": [
    {
     "name": "stdout",
     "output_type": "stream",
     "text": [
      "hallermann[0].axon[0](0.45)\n",
      "ih Ih 0.0\n",
      "ih gbar 0.00015\n",
      "ih h 0.0\n",
      "ca_ion cai 5e-05\n",
      "ca_ion cao 2.0\n",
      "ca_ion dica_dv_ 0.0\n",
      "ca_ion eca 132.4579341637009\n",
      "ca_ion ica 0.0\n",
      "k_ion dik_dv_ 0.0\n",
      "k_ion ek -98.0\n",
      "k_ion ik 0.0\n",
      "k_ion ki 54.4\n",
      "k_ion ko 2.5\n",
      "kca gbar 0.1\n",
      "kca gkca 0.0\n",
      "kca ikca 0.0\n",
      "kca n 0.0\n",
      "kca ninf 0.0\n",
      "kca ntau 0.0\n",
      "it2 gcaT 0.0\n",
      "it2 gcabar 0.0\n",
      "it2 h 0.0\n",
      "it2 hinf 0.0\n",
      "it2 htau 0.0\n",
      "it2 icaT 0.0\n",
      "it2 m 0.0\n",
      "it2 minf 0.0\n",
      "it2 mtau 0.0\n",
      "ca gbar 0.0\n",
      "ca gcaH 0.0\n",
      "ca h 0.0\n",
      "ca hinf 0.0\n",
      "ca htau 0.0\n",
      "ca icaH 0.0\n",
      "ca m 0.0\n",
      "ca minf 0.0\n",
      "ca mtau 0.0\n",
      "cad ca 0.0\n",
      "cad taur 80.0\n",
      "Kv7 gbar 1.4716972063997\n",
      "Kv7 ik 0.0\n",
      "Kv7 m 0.0\n",
      "Kv1 gbar 1000.0\n",
      "Kv1 gkv1 0.0\n",
      "Kv1 h1 0.0\n",
      "Kv1 h2 0.0\n",
      "Kv1 ikv1 0.0\n",
      "Kv1 n 0.0\n",
      "na_ion dina_dv_ 0.0\n",
      "na_ion ena 55.0\n",
      "na_ion ina 0.0\n",
      "na_ion nai 10.0\n",
      "na_ion nao 140.0\n",
      "na a1_0 45.8498\n",
      "na a1_1 0.0239354\n",
      "na a2_0 19.8084\n",
      "na a2_1 0.0221771\n",
      "na a3_0 71.8119\n",
      "na a3_1 0.0659379\n",
      "na ah_0 0.575782\n",
      "na ah_1 162.841\n",
      "na ah_2 0.0268011\n",
      "na b1_0 0.0144095\n",
      "na b1_1 0.0884761\n",
      "na b2_0 0.565017\n",
      "na b2_1 0.061084\n",
      "na b3_0 0.753118\n",
      "na b3_1 0.0364798\n",
      "na bh_0 2.83015\n",
      "na bh_1 0.289005\n",
      "na bh_2 0.069603\n",
      "na c1 0.0\n",
      "na c2 0.0\n",
      "na c3 0.0\n",
      "na gbar 0.0\n",
      "na gna 0.0\n",
      "na i1 0.0\n",
      "na i2 0.0\n",
      "na i3 0.0\n",
      "na i4 0.0\n",
      "na ina_ina 0.0\n",
      "na o 0.0\n",
      "nax a1_0 62.6477\n",
      "nax a1_1 0.0116055\n",
      "nax a2_0 34.7828\n",
      "nax a2_1 0.0299559\n",
      "nax a3_0 76.6983\n",
      "nax a3_1 0.0537432\n",
      "nax ah_0 6.88267\n",
      "nax ah_1 4654.02\n",
      "nax ah_2 0.0295833\n",
      "nax b1_0 0.00193691\n",
      "nax b1_1 0.137719\n",
      "nax b2_0 0.0957515\n",
      "nax b2_1 0.0928114\n",
      "nax b3_0 1.24879\n",
      "nax b3_1 0.0311504\n",
      "nax bh_0 3.57365\n",
      "nax bh_1 0.193321\n",
      "nax bh_2 0.0749654\n",
      "nax c1 0.0\n",
      "nax c2 0.0\n",
      "nax c3 0.0\n",
      "nax gbar 7000.0\n",
      "nax gna 0.0\n",
      "nax i1 0.0\n",
      "nax i2 0.0\n",
      "nax i3 0.0\n",
      "nax i4 0.0\n",
      "nax ina_inax 0.0\n",
      "nax o 0.0\n",
      "pas e -85.0\n",
      "pas g 6.6667e-05\n",
      "pas i 0.0\n",
      "Elapsed time: 339.9700665473938\n"
     ]
    }
   ],
   "source": [
    "t_start = time.time()\n",
    "responses = eva.run_protocols(protocols=fitness_protocols.values(), param_values={})\n",
    "print(f\"Elapsed time: {time.time() - t_start}\")"
   ]
  },
  {
   "cell_type": "code",
   "execution_count": 7,
   "metadata": {},
   "outputs": [
    {
     "data": {
      "image/png": "[encoded data removed]",
      "text/plain": [
       "<Figure size 216x432 with 1 Axes>"
      ]
     },
     "metadata": {
      "needs_background": "light"
     },
     "output_type": "display_data"
    }
   ],
   "source": [
    "fig, axes = plt.subplots(len(responses), figsize=(3, 6), squeeze=False)\n",
    "for index, (resp_name, response) in enumerate(sorted(responses.items())):\n",
    "    axes[index, 0].plot(response['time'], response['voltage'], label=resp_name)\n",
    "    axes[index, 0].set_title(resp_name)\n",
    "fig.tight_layout()\n",
    "fig.show()"
   ]
  }
 ],
 "metadata": {
  "kernelspec": {
   "display_name": "venv_lfpy",
   "language": "python",
   "name": "venv_lfpy"
  },
  "language_info": {
   "codemirror_mode": {
    "name": "ipython",
    "version": 3
   },
   "file_extension": ".py",
   "mimetype": "text/x-python",
   "name": "python",
   "nbconvert_exporter": "python",
   "pygments_lexer": "ipython3",
   "version": "3.8.3"
  },
  "pycharm": {
   "stem_cell": {
    "cell_type": "raw",
    "metadata": {
     "collapsed": false
    },
    "source": []
   }
  }
 },
 "nbformat": 4,
 "nbformat_minor": 1
}
