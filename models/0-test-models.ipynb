{
 "cells": [
  {
   "cell_type": "code",
   "execution_count": 1,
   "metadata": {},
   "outputs": [],
   "source": [
    "import json\n",
    "import matplotlib.pyplot as plt\n",
    "\n",
    "import bluepyopt as bpopt\n",
    "import bluepyopt.ephys as ephys\n",
    "\n",
    "import model\n",
    "import evaluator\n",
    "import time\n",
    "\n",
    "import sys\n",
    "\n",
    "from pathlib import Path"
   ]
  },
  {
   "cell_type": "code",
   "execution_count": 2,
   "metadata": {
    "scrolled": true
   },
   "outputs": [
    {
     "name": "stdout",
     "output_type": "stream",
     "text": [
      "which: no xcrun in (/gpfs/bbp.cscs.ch/home/mandge/lfpenv/bin:/gpfs/bbp.cscs.ch/ssd/apps/hpc/jenkins/deploy/externals/2021-01-06/linux-rhel7-x86_64/gcc-9.3.0/hpe-mpi-2.22.hmpt-r52ypu/bin:/gpfs/bbp.cscs.ch/ssd/apps/hpc/jenkins/deploy/externals/2021-01-06/linux-rhel7-x86_64/gcc-9.3.0/python-3.8.3-suxrst/bin:/gpfs/bbp.cscs.ch/apps/rhscl/rh-nodejs10/root/usr/bin:/gpfs/bbp.cscs.ch/ssd/apps/tools/jupyter/venvs/python37/bin:/opt/clmgr/sbin:/opt/clmgr/bin:/opt/sgi/sbin:/opt/sgi/bin:/usr/lib64/qt-3.3/bin:/gpfs/bbp.cscs.ch/home/mandge//.nix-profile/bin:/nix/var/nix/profiles/default/bin:/usr/lib64/ccache:/usr/local/bin:/bin:/usr/bin:/usr/local/sbin:/usr/sbin:/gpfs/bbp.cscs.ch/ssd/apps/bb5/systemtools:/opt/c3/bin:/opt/ibutils/bin:/opt/ddn/ime/bin:/sbin:/bin:/gpfs/bbp.cscs.ch/home/mandge/.local/bin:/gpfs/bbp.cscs.ch/home/mandge/bin)\n",
      "/gpfs/bbp.cscs.ch/home/mandge/lfpy/multimodalfitting/models\n",
      "Mod files: \"mechanisms/cad.mod\" \"mechanisms/CaDynamics_DC0.mod\" \"mechanisms/CaDynamics_E2.mod\" \"mechanisms/Ca_HVA2.mod\" \"mechanisms/Ca_HVA.mod\" \"mechanisms/Ca_LVAst.mod\" \"mechanisms/ca.mod\" \"mechanisms/epsp.mod\" \"mechanisms/ih.mod\" \"mechanisms/Ih.mod\" \"mechanisms/Im.mod\" \"mechanisms/it2.mod\" \"mechanisms/kca.mod\" \"mechanisms/KdShu2007.mod\" \"mechanisms/K_Pst.mod\" \"mechanisms/K_Tst.mod\" \"mechanisms/Kv1_axonal.mod\" \"mechanisms/Kv7.mod\" \"mechanisms/Kv.mod\" \"mechanisms/Na12Hu2009.mod\" \"mechanisms/Na16Hu2009.mod\" \"mechanisms/na.mod\" \"mechanisms/Nap_Et2.mod\" \"mechanisms/NaTa_t.mod\" \"mechanisms/NaTg.mod\" \"mechanisms/NaTs2_t.mod\" \"mechanisms/nax.mod\" \"mechanisms/SK_E2.mod\" \"mechanisms/SKv3_1.mod\"\n",
      "\n",
      "Creating x86_64 directory for .o files.\n",
      "\n",
      "COBJS=''\n",
      " -> \u001b[32mCompiling\u001b[0m mod_func.c\n",
      "/gpfs/bbp.cscs.ch/ssd/apps/hpc/jenkins/deploy/compilers/2021-01-06/linux-rhel7-x86_64/gcc-4.8.5/gcc-9.3.0-45gzrp/bin/gcc -O2   -I.   -I/gpfs/bbp.cscs.ch/home/mandge/lfpenv/lib/python3.8/site-packages/neuron/.data/include  -I/nrnwheel/openmpi/include -fPIC -c mod_func.c -o mod_func.o\n",
      " -> \u001b[32mNMODL\u001b[0m ../mechanisms/cad.mod\n",
      "(cd \"../mechanisms\"; MODLUNIT=/gpfs/bbp.cscs.ch/home/mandge/lfpenv/lib/python3.8/site-packages/neuron/.data/share/nrn/lib/nrnunits.lib /gpfs/bbp.cscs.ch/home/mandge/lfpenv/lib/python3.8/site-packages/neuron/.data/bin/nocmodl cad.mod -o \"/gpfs/bbp.cscs.ch/home/mandge/lfpy/multimodalfitting/models/x86_64\")\n",
      " -> \u001b[32mNMODL\u001b[0m ../mechanisms/CaDynamics_DC0.mod\n",
      "(cd \"../mechanisms\"; MODLUNIT=/gpfs/bbp.cscs.ch/home/mandge/lfpenv/lib/python3.8/site-packages/neuron/.data/share/nrn/lib/nrnunits.lib /gpfs/bbp.cscs.ch/home/mandge/lfpenv/lib/python3.8/site-packages/neuron/.data/bin/nocmodl CaDynamics_DC0.mod -o \"/gpfs/bbp.cscs.ch/home/mandge/lfpy/multimodalfitting/models/x86_64\")\n",
      " -> \u001b[32mNMODL\u001b[0m ../mechanisms/CaDynamics_E2.mod\n",
      "(cd \"../mechanisms\"; MODLUNIT=/gpfs/bbp.cscs.ch/home/mandge/lfpenv/lib/python3.8/site-packages/neuron/.data/share/nrn/lib/nrnunits.lib /gpfs/bbp.cscs.ch/home/mandge/lfpenv/lib/python3.8/site-packages/neuron/.data/bin/nocmodl CaDynamics_E2.mod -o \"/gpfs/bbp.cscs.ch/home/mandge/lfpy/multimodalfitting/models/x86_64\")\n",
      "Translating cad.mod into /gpfs/bbp.cscs.ch/home/mandge/lfpy/multimodalfitting/models/x86_64/cad.c\n",
      "Thread Safe\n",
      "Translating CaDynamics_DC0.mod into /gpfs/bbp.cscs.ch/home/mandge/lfpy/multimodalfitting/models/x86_64/CaDynamics_DC0.c\n",
      "Thread Safe\n",
      " -> \u001b[32mNMODL\u001b[0m ../mechanisms/Ca_HVA2.mod\n",
      "(cd \"../mechanisms\"; MODLUNIT=/gpfs/bbp.cscs.ch/home/mandge/lfpenv/lib/python3.8/site-packages/neuron/.data/share/nrn/lib/nrnunits.lib /gpfs/bbp.cscs.ch/home/mandge/lfpenv/lib/python3.8/site-packages/neuron/.data/bin/nocmodl Ca_HVA2.mod -o \"/gpfs/bbp.cscs.ch/home/mandge/lfpy/multimodalfitting/models/x86_64\")\n",
      "Translating CaDynamics_E2.mod into /gpfs/bbp.cscs.ch/home/mandge/lfpy/multimodalfitting/models/x86_64/CaDynamics_E2.c\n",
      " -> \u001b[32mNMODL\u001b[0m ../mechanisms/Ca_HVA.mod\n",
      "(cd \"../mechanisms\"; MODLUNIT=/gpfs/bbp.cscs.ch/home/mandge/lfpenv/lib/python3.8/site-packages/neuron/.data/share/nrn/lib/nrnunits.lib /gpfs/bbp.cscs.ch/home/mandge/lfpenv/lib/python3.8/site-packages/neuron/.data/bin/nocmodl Ca_HVA.mod -o \"/gpfs/bbp.cscs.ch/home/mandge/lfpy/multimodalfitting/models/x86_64\")\n",
      "Thread Safe\n",
      " -> \u001b[32mNMODL\u001b[0m ../mechanisms/Ca_LVAst.mod\n",
      "(cd \"../mechanisms\"; MODLUNIT=/gpfs/bbp.cscs.ch/home/mandge/lfpenv/lib/python3.8/site-packages/neuron/.data/share/nrn/lib/nrnunits.lib /gpfs/bbp.cscs.ch/home/mandge/lfpenv/lib/python3.8/site-packages/neuron/.data/bin/nocmodl Ca_LVAst.mod -o \"/gpfs/bbp.cscs.ch/home/mandge/lfpy/multimodalfitting/models/x86_64\")\n",
      "Translating Ca_HVA2.mod into /gpfs/bbp.cscs.ch/home/mandge/lfpy/multimodalfitting/models/x86_64/Ca_HVA2.c\n",
      "Thread Safe\n",
      "Translating Ca_HVA.mod into /gpfs/bbp.cscs.ch/home/mandge/lfpy/multimodalfitting/models/x86_64/Ca_HVA.c\n",
      "Thread Safe\n",
      " -> \u001b[32mNMODL\u001b[0m ../mechanisms/ca.mod\n",
      "Translating Ca_LVAst.mod into /gpfs/bbp.cscs.ch/home/mandge/lfpy/multimodalfitting/models/x86_64/Ca_LVAst.c\n",
      "Thread Safe\n",
      "(cd \"../mechanisms\"; MODLUNIT=/gpfs/bbp.cscs.ch/home/mandge/lfpenv/lib/python3.8/site-packages/neuron/.data/share/nrn/lib/nrnunits.lib /gpfs/bbp.cscs.ch/home/mandge/lfpenv/lib/python3.8/site-packages/neuron/.data/bin/nocmodl ca.mod -o \"/gpfs/bbp.cscs.ch/home/mandge/lfpy/multimodalfitting/models/x86_64\")\n",
      " -> \u001b[32mNMODL\u001b[0m ../mechanisms/epsp.mod\n",
      "(cd \"../mechanisms\"; MODLUNIT=/gpfs/bbp.cscs.ch/home/mandge/lfpenv/lib/python3.8/site-packages/neuron/.data/share/nrn/lib/nrnunits.lib /gpfs/bbp.cscs.ch/home/mandge/lfpenv/lib/python3.8/site-packages/neuron/.data/bin/nocmodl epsp.mod -o \"/gpfs/bbp.cscs.ch/home/mandge/lfpy/multimodalfitting/models/x86_64\")\n",
      " -> \u001b[32mNMODL\u001b[0m ../mechanisms/ih.mod\n",
      "(cd \"../mechanisms\"; MODLUNIT=/gpfs/bbp.cscs.ch/home/mandge/lfpenv/lib/python3.8/site-packages/neuron/.data/share/nrn/lib/nrnunits.lib /gpfs/bbp.cscs.ch/home/mandge/lfpenv/lib/python3.8/site-packages/neuron/.data/bin/nocmodl ih.mod -o \"/gpfs/bbp.cscs.ch/home/mandge/lfpy/multimodalfitting/models/x86_64\")\n",
      "Translating ca.mod into /gpfs/bbp.cscs.ch/home/mandge/lfpy/multimodalfitting/models/x86_64/ca.c\n",
      "Notice: Assignment to the GLOBAL variable, \"tadj\", is not thread safe\n",
      "Warning: Default 140 of PARAMETER eca will be ignored and set by NEURON.\n",
      " -> \u001b[32mNMODL\u001b[0m ../mechanisms/Ih.mod\n",
      "Translating epsp.mod into /gpfs/bbp.cscs.ch/home/mandge/lfpy/multimodalfitting/models/x86_64/epsp.c\n",
      "(cd \"../mechanisms\"; MODLUNIT=/gpfs/bbp.cscs.ch/home/mandge/lfpenv/lib/python3.8/site-packages/neuron/.data/share/nrn/lib/nrnunits.lib /gpfs/bbp.cscs.ch/home/mandge/lfpenv/lib/python3.8/site-packages/neuron/.data/bin/nocmodl Ih.mod -o \"/gpfs/bbp.cscs.ch/home/mandge/lfpy/multimodalfitting/models/x86_64\")\n",
      "Thread Safe\n",
      " -> \u001b[32mNMODL\u001b[0m ../mechanisms/Im.mod\n",
      "(cd \"../mechanisms\"; MODLUNIT=/gpfs/bbp.cscs.ch/home/mandge/lfpenv/lib/python3.8/site-packages/neuron/.data/share/nrn/lib/nrnunits.lib /gpfs/bbp.cscs.ch/home/mandge/lfpenv/lib/python3.8/site-packages/neuron/.data/bin/nocmodl Im.mod -o \"/gpfs/bbp.cscs.ch/home/mandge/lfpy/multimodalfitting/models/x86_64\")\n",
      " -> \u001b[32mNMODL\u001b[0m ../mechanisms/it2.mod\n",
      "(cd \"../mechanisms\"; MODLUNIT=/gpfs/bbp.cscs.ch/home/mandge/lfpenv/lib/python3.8/site-packages/neuron/.data/share/nrn/lib/nrnunits.lib /gpfs/bbp.cscs.ch/home/mandge/lfpenv/lib/python3.8/site-packages/neuron/.data/bin/nocmodl it2.mod -o \"/gpfs/bbp.cscs.ch/home/mandge/lfpy/multimodalfitting/models/x86_64\")\n",
      "Translating ih.mod into /gpfs/bbp.cscs.ch/home/mandge/lfpy/multimodalfitting/models/x86_64/ih.c\n",
      "Thread Safe\n",
      "Translating Ih.mod into /gpfs/bbp.cscs.ch/home/mandge/lfpy/multimodalfitting/models/x86_64/Ih.c\n",
      "Thread Safe\n",
      " -> \u001b[32mNMODL\u001b[0m ../mechanisms/kca.mod\n",
      "(cd \"../mechanisms\"; MODLUNIT=/gpfs/bbp.cscs.ch/home/mandge/lfpenv/lib/python3.8/site-packages/neuron/.data/share/nrn/lib/nrnunits.lib /gpfs/bbp.cscs.ch/home/mandge/lfpenv/lib/python3.8/site-packages/neuron/.data/bin/nocmodl kca.mod -o \"/gpfs/bbp.cscs.ch/home/mandge/lfpy/multimodalfitting/models/x86_64\")\n",
      "Translating Im.mod into /gpfs/bbp.cscs.ch/home/mandge/lfpy/multimodalfitting/models/x86_64/Im.c\n",
      "Thread Safe\n",
      " -> \u001b[32mNMODL\u001b[0m ../mechanisms/KdShu2007.mod\n",
      "Translating it2.mod into /gpfs/bbp.cscs.ch/home/mandge/lfpy/multimodalfitting/models/x86_64/it2.c\n",
      "(cd \"../mechanisms\"; MODLUNIT=/gpfs/bbp.cscs.ch/home/mandge/lfpenv/lib/python3.8/site-packages/neuron/.data/share/nrn/lib/nrnunits.lib /gpfs/bbp.cscs.ch/home/mandge/lfpenv/lib/python3.8/site-packages/neuron/.data/bin/nocmodl KdShu2007.mod -o \"/gpfs/bbp.cscs.ch/home/mandge/lfpy/multimodalfitting/models/x86_64\")\n",
      "Notice: VERBATIM blocks are not thread safe\n",
      "Notice: This mechanism cannot be used with CVODE\n",
      " -> \u001b[32mNMODL\u001b[0m ../mechanisms/K_Pst.mod\n",
      "(cd \"../mechanisms\"; MODLUNIT=/gpfs/bbp.cscs.ch/home/mandge/lfpenv/lib/python3.8/site-packages/neuron/.data/share/nrn/lib/nrnunits.lib /gpfs/bbp.cscs.ch/home/mandge/lfpenv/lib/python3.8/site-packages/neuron/.data/bin/nocmodl K_Pst.mod -o \"/gpfs/bbp.cscs.ch/home/mandge/lfpy/multimodalfitting/models/x86_64\")\n",
      " -> \u001b[32mNMODL\u001b[0m ../mechanisms/K_Tst.mod\n",
      "Translating kca.mod into /gpfs/bbp.cscs.ch/home/mandge/lfpy/multimodalfitting/models/x86_64/kca.c\n",
      "Notice: Assignment to the GLOBAL variable, \"tadj\", is not thread safe\n",
      "(cd \"../mechanisms\"; MODLUNIT=/gpfs/bbp.cscs.ch/home/mandge/lfpenv/lib/python3.8/site-packages/neuron/.data/share/nrn/lib/nrnunits.lib /gpfs/bbp.cscs.ch/home/mandge/lfpenv/lib/python3.8/site-packages/neuron/.data/bin/nocmodl K_Tst.mod -o \"/gpfs/bbp.cscs.ch/home/mandge/lfpy/multimodalfitting/models/x86_64\")\n",
      "Translating KdShu2007.mod into /gpfs/bbp.cscs.ch/home/mandge/lfpy/multimodalfitting/models/x86_64/KdShu2007.c\n",
      "Thread Safe\n",
      " -> \u001b[32mNMODL\u001b[0m ../mechanisms/Kv1_axonal.mod\n",
      "(cd \"../mechanisms\"; MODLUNIT=/gpfs/bbp.cscs.ch/home/mandge/lfpenv/lib/python3.8/site-packages/neuron/.data/share/nrn/lib/nrnunits.lib /gpfs/bbp.cscs.ch/home/mandge/lfpenv/lib/python3.8/site-packages/neuron/.data/bin/nocmodl Kv1_axonal.mod -o \"/gpfs/bbp.cscs.ch/home/mandge/lfpy/multimodalfitting/models/x86_64\")\n",
      " -> \u001b[32mNMODL\u001b[0m ../mechanisms/Kv7.mod\n",
      "(cd \"../mechanisms\"; MODLUNIT=/gpfs/bbp.cscs.ch/home/mandge/lfpenv/lib/python3.8/site-packages/neuron/.data/share/nrn/lib/nrnunits.lib /gpfs/bbp.cscs.ch/home/mandge/lfpenv/lib/python3.8/site-packages/neuron/.data/bin/nocmodl Kv7.mod -o \"/gpfs/bbp.cscs.ch/home/mandge/lfpy/multimodalfitting/models/x86_64\")\n",
      "Translating K_Pst.mod into /gpfs/bbp.cscs.ch/home/mandge/lfpy/multimodalfitting/models/x86_64/K_Pst.c\n",
      "Thread Safe\n",
      "Translating K_Tst.mod into /gpfs/bbp.cscs.ch/home/mandge/lfpy/multimodalfitting/models/x86_64/K_Tst.c\n",
      "Thread Safe\n",
      " -> \u001b[32mNMODL\u001b[0m ../mechanisms/Kv.mod\n",
      "(cd \"../mechanisms\"; MODLUNIT=/gpfs/bbp.cscs.ch/home/mandge/lfpenv/lib/python3.8/site-packages/neuron/.data/share/nrn/lib/nrnunits.lib /gpfs/bbp.cscs.ch/home/mandge/lfpenv/lib/python3.8/site-packages/neuron/.data/bin/nocmodl Kv.mod -o \"/gpfs/bbp.cscs.ch/home/mandge/lfpy/multimodalfitting/models/x86_64\")\n",
      "Translating Kv1_axonal.mod into /gpfs/bbp.cscs.ch/home/mandge/lfpy/multimodalfitting/models/x86_64/Kv1_axonal.c\n",
      "Notice: Assignment to the GLOBAL variable, \"h2tau\", is not thread safe\n",
      "Notice: Assignment to the GLOBAL variable, \"h2inf\", is not thread safe\n",
      "Notice: Assignment to the GLOBAL variable, \"h1tau\", is not thread safe\n",
      "Notice: Assignment to the GLOBAL variable, \"h1inf\", is not thread safe\n",
      "Notice: Assignment to the GLOBAL variable, \"ntau\", is not thread safe\n",
      "Notice: Assignment to the GLOBAL variable, \"ninf\", is not thread safe\n",
      "Translating Kv7.mod into /gpfs/bbp.cscs.ch/home/mandge/lfpy/multimodalfitting/models/x86_64/Kv7.c\n",
      " -> \u001b[32mNMODL\u001b[0m ../mechanisms/Na12Hu2009.mod\n",
      "(cd \"../mechanisms\"; MODLUNIT=/gpfs/bbp.cscs.ch/home/mandge/lfpenv/lib/python3.8/site-packages/neuron/.data/share/nrn/lib/nrnunits.lib /gpfs/bbp.cscs.ch/home/mandge/lfpenv/lib/python3.8/site-packages/neuron/.data/bin/nocmodl Na12Hu2009.mod -o \"/gpfs/bbp.cscs.ch/home/mandge/lfpy/multimodalfitting/models/x86_64\")\n",
      "Thread Safe\n",
      " -> \u001b[32mNMODL\u001b[0m ../mechanisms/Na16Hu2009.mod\n",
      "(cd \"../mechanisms\"; MODLUNIT=/gpfs/bbp.cscs.ch/home/mandge/lfpenv/lib/python3.8/site-packages/neuron/.data/share/nrn/lib/nrnunits.lib /gpfs/bbp.cscs.ch/home/mandge/lfpenv/lib/python3.8/site-packages/neuron/.data/bin/nocmodl Na16Hu2009.mod -o \"/gpfs/bbp.cscs.ch/home/mandge/lfpy/multimodalfitting/models/x86_64\")\n",
      " -> \u001b[32mNMODL\u001b[0m ../mechanisms/na.mod\n",
      "(cd \"../mechanisms\"; MODLUNIT=/gpfs/bbp.cscs.ch/home/mandge/lfpenv/lib/python3.8/site-packages/neuron/.data/share/nrn/lib/nrnunits.lib /gpfs/bbp.cscs.ch/home/mandge/lfpenv/lib/python3.8/site-packages/neuron/.data/bin/nocmodl na.mod -o \"/gpfs/bbp.cscs.ch/home/mandge/lfpy/multimodalfitting/models/x86_64\")\n",
      "Translating Kv.mod into /gpfs/bbp.cscs.ch/home/mandge/lfpy/multimodalfitting/models/x86_64/Kv.c\n",
      "Notice: VERBATIM blocks are not thread safe\n",
      "Notice: This mechanism cannot be used with CVODE\n",
      "Notice: Assignment to the GLOBAL variable, \"tadj\", is not thread safe\n",
      "Translating Na12Hu2009.mod into /gpfs/bbp.cscs.ch/home/mandge/lfpy/multimodalfitting/models/x86_64/Na12Hu2009.c\n",
      "Thread Safe\n",
      "Translating Na16Hu2009.mod into /gpfs/bbp.cscs.ch/home/mandge/lfpy/multimodalfitting/models/x86_64/Na16Hu2009.c\n",
      " -> \u001b[32mNMODL\u001b[0m ../mechanisms/Nap_Et2.mod\n",
      "(cd \"../mechanisms\"; MODLUNIT=/gpfs/bbp.cscs.ch/home/mandge/lfpenv/lib/python3.8/site-packages/neuron/.data/share/nrn/lib/nrnunits.lib /gpfs/bbp.cscs.ch/home/mandge/lfpenv/lib/python3.8/site-packages/neuron/.data/bin/nocmodl Nap_Et2.mod -o \"/gpfs/bbp.cscs.ch/home/mandge/lfpy/multimodalfitting/models/x86_64\")\n",
      "Thread Safe\n",
      " -> \u001b[32mNMODL\u001b[0m ../mechanisms/NaTa_t.mod\n",
      "(cd \"../mechanisms\"; MODLUNIT=/gpfs/bbp.cscs.ch/home/mandge/lfpenv/lib/python3.8/site-packages/neuron/.data/share/nrn/lib/nrnunits.lib /gpfs/bbp.cscs.ch/home/mandge/lfpenv/lib/python3.8/site-packages/neuron/.data/bin/nocmodl NaTa_t.mod -o \"/gpfs/bbp.cscs.ch/home/mandge/lfpy/multimodalfitting/models/x86_64\")\n",
      "Translating na.mod into /gpfs/bbp.cscs.ch/home/mandge/lfpy/multimodalfitting/models/x86_64/na.c\n",
      "NEURON's CVode method ignores conservation\n",
      "Thread Safe\n",
      "Translating Nap_Et2.mod into /gpfs/bbp.cscs.ch/home/mandge/lfpy/multimodalfitting/models/x86_64/Nap_Et2.c\n",
      " -> \u001b[32mNMODL\u001b[0m ../mechanisms/NaTg.mod\n",
      "Thread Safe\n",
      "(cd \"../mechanisms\"; MODLUNIT=/gpfs/bbp.cscs.ch/home/mandge/lfpenv/lib/python3.8/site-packages/neuron/.data/share/nrn/lib/nrnunits.lib /gpfs/bbp.cscs.ch/home/mandge/lfpenv/lib/python3.8/site-packages/neuron/.data/bin/nocmodl NaTg.mod -o \"/gpfs/bbp.cscs.ch/home/mandge/lfpy/multimodalfitting/models/x86_64\")\n",
      " -> \u001b[32mNMODL\u001b[0m ../mechanisms/NaTs2_t.mod\n",
      "(cd \"../mechanisms\"; MODLUNIT=/gpfs/bbp.cscs.ch/home/mandge/lfpenv/lib/python3.8/site-packages/neuron/.data/share/nrn/lib/nrnunits.lib /gpfs/bbp.cscs.ch/home/mandge/lfpenv/lib/python3.8/site-packages/neuron/.data/bin/nocmodl NaTs2_t.mod -o \"/gpfs/bbp.cscs.ch/home/mandge/lfpy/multimodalfitting/models/x86_64\")\n",
      "Translating NaTa_t.mod into /gpfs/bbp.cscs.ch/home/mandge/lfpy/multimodalfitting/models/x86_64/NaTa_t.c\n",
      "Thread Safe\n",
      " -> \u001b[32mNMODL\u001b[0m ../mechanisms/nax.mod\n",
      "(cd \"../mechanisms\"; MODLUNIT=/gpfs/bbp.cscs.ch/home/mandge/lfpenv/lib/python3.8/site-packages/neuron/.data/share/nrn/lib/nrnunits.lib /gpfs/bbp.cscs.ch/home/mandge/lfpenv/lib/python3.8/site-packages/neuron/.data/bin/nocmodl nax.mod -o \"/gpfs/bbp.cscs.ch/home/mandge/lfpy/multimodalfitting/models/x86_64\")\n",
      " -> \u001b[32mNMODL\u001b[0m ../mechanisms/SK_E2.mod\n",
      "(cd \"../mechanisms\"; MODLUNIT=/gpfs/bbp.cscs.ch/home/mandge/lfpenv/lib/python3.8/site-packages/neuron/.data/share/nrn/lib/nrnunits.lib /gpfs/bbp.cscs.ch/home/mandge/lfpenv/lib/python3.8/site-packages/neuron/.data/bin/nocmodl SK_E2.mod -o \"/gpfs/bbp.cscs.ch/home/mandge/lfpy/multimodalfitting/models/x86_64\")\n",
      "Translating NaTg.mod into /gpfs/bbp.cscs.ch/home/mandge/lfpy/multimodalfitting/models/x86_64/NaTg.c\n",
      "Thread Safe\n",
      "Translating NaTs2_t.mod into /gpfs/bbp.cscs.ch/home/mandge/lfpy/multimodalfitting/models/x86_64/NaTs2_t.c\n",
      "Thread Safe\n",
      " -> \u001b[32mNMODL\u001b[0m ../mechanisms/SKv3_1.mod\n",
      "Translating nax.mod into /gpfs/bbp.cscs.ch/home/mandge/lfpy/multimodalfitting/models/x86_64/nax.c\n",
      "NEURON's CVode method ignores conservation\n",
      "(cd \"../mechanisms\"; MODLUNIT=/gpfs/bbp.cscs.ch/home/mandge/lfpenv/lib/python3.8/site-packages/neuron/.data/share/nrn/lib/nrnunits.lib /gpfs/bbp.cscs.ch/home/mandge/lfpenv/lib/python3.8/site-packages/neuron/.data/bin/nocmodl SKv3_1.mod -o \"/gpfs/bbp.cscs.ch/home/mandge/lfpy/multimodalfitting/models/x86_64\")\n",
      "Thread Safe\n",
      "Translating SK_E2.mod into /gpfs/bbp.cscs.ch/home/mandge/lfpy/multimodalfitting/models/x86_64/SK_E2.c\n",
      " -> \u001b[32mCompiling\u001b[0m cad.c\n",
      "/gpfs/bbp.cscs.ch/ssd/apps/hpc/jenkins/deploy/compilers/2021-01-06/linux-rhel7-x86_64/gcc-4.8.5/gcc-9.3.0-45gzrp/bin/gcc -O2   -I\"../mechanisms\" -I.   -I/gpfs/bbp.cscs.ch/home/mandge/lfpenv/lib/python3.8/site-packages/neuron/.data/include  -I/nrnwheel/openmpi/include -fPIC -c cad.c -o cad.o\n",
      "Thread Safe\n",
      " -> \u001b[32mCompiling\u001b[0m CaDynamics_DC0.c\n",
      "/gpfs/bbp.cscs.ch/ssd/apps/hpc/jenkins/deploy/compilers/2021-01-06/linux-rhel7-x86_64/gcc-4.8.5/gcc-9.3.0-45gzrp/bin/gcc -O2   -I\"../mechanisms\" -I.   -I/gpfs/bbp.cscs.ch/home/mandge/lfpenv/lib/python3.8/site-packages/neuron/.data/include  -I/nrnwheel/openmpi/include -fPIC -c CaDynamics_DC0.c -o CaDynamics_DC0.o\n",
      "Translating SKv3_1.mod into /gpfs/bbp.cscs.ch/home/mandge/lfpy/multimodalfitting/models/x86_64/SKv3_1.c\n",
      " -> \u001b[32mCompiling\u001b[0m CaDynamics_E2.c\n",
      "/gpfs/bbp.cscs.ch/ssd/apps/hpc/jenkins/deploy/compilers/2021-01-06/linux-rhel7-x86_64/gcc-4.8.5/gcc-9.3.0-45gzrp/bin/gcc -O2   -I\"../mechanisms\" -I.   -I/gpfs/bbp.cscs.ch/home/mandge/lfpenv/lib/python3.8/site-packages/neuron/.data/include  -I/nrnwheel/openmpi/include -fPIC -c CaDynamics_E2.c -o CaDynamics_E2.o\n",
      "Thread Safe\n",
      " -> \u001b[32mCompiling\u001b[0m Ca_HVA2.c\n",
      "/gpfs/bbp.cscs.ch/ssd/apps/hpc/jenkins/deploy/compilers/2021-01-06/linux-rhel7-x86_64/gcc-4.8.5/gcc-9.3.0-45gzrp/bin/gcc -O2   -I\"../mechanisms\" -I.   -I/gpfs/bbp.cscs.ch/home/mandge/lfpenv/lib/python3.8/site-packages/neuron/.data/include  -I/nrnwheel/openmpi/include -fPIC -c Ca_HVA2.c -o Ca_HVA2.o\n",
      " -> \u001b[32mCompiling\u001b[0m Ca_HVA.c\n",
      "/gpfs/bbp.cscs.ch/ssd/apps/hpc/jenkins/deploy/compilers/2021-01-06/linux-rhel7-x86_64/gcc-4.8.5/gcc-9.3.0-45gzrp/bin/gcc -O2   -I\"../mechanisms\" -I.   -I/gpfs/bbp.cscs.ch/home/mandge/lfpenv/lib/python3.8/site-packages/neuron/.data/include  -I/nrnwheel/openmpi/include -fPIC -c Ca_HVA.c -o Ca_HVA.o\n",
      " -> \u001b[32mCompiling\u001b[0m Ca_LVAst.c\n",
      "/gpfs/bbp.cscs.ch/ssd/apps/hpc/jenkins/deploy/compilers/2021-01-06/linux-rhel7-x86_64/gcc-4.8.5/gcc-9.3.0-45gzrp/bin/gcc -O2   -I\"../mechanisms\" -I.   -I/gpfs/bbp.cscs.ch/home/mandge/lfpenv/lib/python3.8/site-packages/neuron/.data/include  -I/nrnwheel/openmpi/include -fPIC -c Ca_LVAst.c -o Ca_LVAst.o\n",
      " -> \u001b[32mCompiling\u001b[0m ca.c\n",
      "/gpfs/bbp.cscs.ch/ssd/apps/hpc/jenkins/deploy/compilers/2021-01-06/linux-rhel7-x86_64/gcc-4.8.5/gcc-9.3.0-45gzrp/bin/gcc -O2   -I\"../mechanisms\" -I.   -I/gpfs/bbp.cscs.ch/home/mandge/lfpenv/lib/python3.8/site-packages/neuron/.data/include  -I/nrnwheel/openmpi/include -fPIC -c ca.c -o ca.o\n",
      " -> \u001b[32mCompiling\u001b[0m epsp.c\n",
      "/gpfs/bbp.cscs.ch/ssd/apps/hpc/jenkins/deploy/compilers/2021-01-06/linux-rhel7-x86_64/gcc-4.8.5/gcc-9.3.0-45gzrp/bin/gcc -O2   -I\"../mechanisms\" -I.   -I/gpfs/bbp.cscs.ch/home/mandge/lfpenv/lib/python3.8/site-packages/neuron/.data/include  -I/nrnwheel/openmpi/include -fPIC -c epsp.c -o epsp.o\n",
      " -> \u001b[32mCompiling\u001b[0m ih.c\n",
      " -> \u001b[32mCompiling\u001b[0m Ih.c\n",
      "/gpfs/bbp.cscs.ch/ssd/apps/hpc/jenkins/deploy/compilers/2021-01-06/linux-rhel7-x86_64/gcc-4.8.5/gcc-9.3.0-45gzrp/bin/gcc -O2   -I\"../mechanisms\" -I.   -I/gpfs/bbp.cscs.ch/home/mandge/lfpenv/lib/python3.8/site-packages/neuron/.data/include  -I/nrnwheel/openmpi/include -fPIC -c ih.c -o ih.o\n",
      "/gpfs/bbp.cscs.ch/ssd/apps/hpc/jenkins/deploy/compilers/2021-01-06/linux-rhel7-x86_64/gcc-4.8.5/gcc-9.3.0-45gzrp/bin/gcc -O2   -I\"../mechanisms\" -I.   -I/gpfs/bbp.cscs.ch/home/mandge/lfpenv/lib/python3.8/site-packages/neuron/.data/include  -I/nrnwheel/openmpi/include -fPIC -c Ih.c -o Ih.o\n",
      " -> \u001b[32mCompiling\u001b[0m Im.c\n",
      "/gpfs/bbp.cscs.ch/ssd/apps/hpc/jenkins/deploy/compilers/2021-01-06/linux-rhel7-x86_64/gcc-4.8.5/gcc-9.3.0-45gzrp/bin/gcc -O2   -I\"../mechanisms\" -I.   -I/gpfs/bbp.cscs.ch/home/mandge/lfpenv/lib/python3.8/site-packages/neuron/.data/include  -I/nrnwheel/openmpi/include -fPIC -c Im.c -o Im.o\n",
      " -> \u001b[32mCompiling\u001b[0m it2.c\n",
      "/gpfs/bbp.cscs.ch/ssd/apps/hpc/jenkins/deploy/compilers/2021-01-06/linux-rhel7-x86_64/gcc-4.8.5/gcc-9.3.0-45gzrp/bin/gcc -O2   -I\"../mechanisms\" -I.   -I/gpfs/bbp.cscs.ch/home/mandge/lfpenv/lib/python3.8/site-packages/neuron/.data/include  -I/nrnwheel/openmpi/include -fPIC -c it2.c -o it2.o\n",
      " -> \u001b[32mCompiling\u001b[0m kca.c\n",
      "/gpfs/bbp.cscs.ch/ssd/apps/hpc/jenkins/deploy/compilers/2021-01-06/linux-rhel7-x86_64/gcc-4.8.5/gcc-9.3.0-45gzrp/bin/gcc -O2   -I\"../mechanisms\" -I.   -I/gpfs/bbp.cscs.ch/home/mandge/lfpenv/lib/python3.8/site-packages/neuron/.data/include  -I/nrnwheel/openmpi/include -fPIC -c kca.c -o kca.o\n",
      " -> \u001b[32mCompiling\u001b[0m KdShu2007.c\n",
      "/gpfs/bbp.cscs.ch/ssd/apps/hpc/jenkins/deploy/compilers/2021-01-06/linux-rhel7-x86_64/gcc-4.8.5/gcc-9.3.0-45gzrp/bin/gcc -O2   -I\"../mechanisms\" -I.   -I/gpfs/bbp.cscs.ch/home/mandge/lfpenv/lib/python3.8/site-packages/neuron/.data/include  -I/nrnwheel/openmpi/include -fPIC -c KdShu2007.c -o KdShu2007.o\n",
      " -> \u001b[32mCompiling\u001b[0m K_Pst.c\n",
      "/gpfs/bbp.cscs.ch/ssd/apps/hpc/jenkins/deploy/compilers/2021-01-06/linux-rhel7-x86_64/gcc-4.8.5/gcc-9.3.0-45gzrp/bin/gcc -O2   -I\"../mechanisms\" -I.   -I/gpfs/bbp.cscs.ch/home/mandge/lfpenv/lib/python3.8/site-packages/neuron/.data/include  -I/nrnwheel/openmpi/include -fPIC -c K_Pst.c -o K_Pst.o\n",
      " -> \u001b[32mCompiling\u001b[0m K_Tst.c\n",
      "/gpfs/bbp.cscs.ch/ssd/apps/hpc/jenkins/deploy/compilers/2021-01-06/linux-rhel7-x86_64/gcc-4.8.5/gcc-9.3.0-45gzrp/bin/gcc -O2   -I\"../mechanisms\" -I.   -I/gpfs/bbp.cscs.ch/home/mandge/lfpenv/lib/python3.8/site-packages/neuron/.data/include  -I/nrnwheel/openmpi/include -fPIC -c K_Tst.c -o K_Tst.o\n",
      " -> \u001b[32mCompiling\u001b[0m Kv1_axonal.c\n",
      "/gpfs/bbp.cscs.ch/ssd/apps/hpc/jenkins/deploy/compilers/2021-01-06/linux-rhel7-x86_64/gcc-4.8.5/gcc-9.3.0-45gzrp/bin/gcc -O2   -I\"../mechanisms\" -I.   -I/gpfs/bbp.cscs.ch/home/mandge/lfpenv/lib/python3.8/site-packages/neuron/.data/include  -I/nrnwheel/openmpi/include -fPIC -c Kv1_axonal.c -o Kv1_axonal.o\n",
      " -> \u001b[32mCompiling\u001b[0m Kv7.c\n",
      "/gpfs/bbp.cscs.ch/ssd/apps/hpc/jenkins/deploy/compilers/2021-01-06/linux-rhel7-x86_64/gcc-4.8.5/gcc-9.3.0-45gzrp/bin/gcc -O2   -I\"../mechanisms\" -I.   -I/gpfs/bbp.cscs.ch/home/mandge/lfpenv/lib/python3.8/site-packages/neuron/.data/include  -I/nrnwheel/openmpi/include -fPIC -c Kv7.c -o Kv7.o\n",
      " -> \u001b[32mCompiling\u001b[0m Kv.c\n",
      "/gpfs/bbp.cscs.ch/ssd/apps/hpc/jenkins/deploy/compilers/2021-01-06/linux-rhel7-x86_64/gcc-4.8.5/gcc-9.3.0-45gzrp/bin/gcc -O2   -I\"../mechanisms\" -I.   -I/gpfs/bbp.cscs.ch/home/mandge/lfpenv/lib/python3.8/site-packages/neuron/.data/include  -I/nrnwheel/openmpi/include -fPIC -c Kv.c -o Kv.o\n",
      " -> \u001b[32mCompiling\u001b[0m Na12Hu2009.c\n",
      "/gpfs/bbp.cscs.ch/ssd/apps/hpc/jenkins/deploy/compilers/2021-01-06/linux-rhel7-x86_64/gcc-4.8.5/gcc-9.3.0-45gzrp/bin/gcc -O2   -I\"../mechanisms\" -I.   -I/gpfs/bbp.cscs.ch/home/mandge/lfpenv/lib/python3.8/site-packages/neuron/.data/include  -I/nrnwheel/openmpi/include -fPIC -c Na12Hu2009.c -o Na12Hu2009.o\n",
      " -> \u001b[32mCompiling\u001b[0m Na16Hu2009.c\n",
      "/gpfs/bbp.cscs.ch/ssd/apps/hpc/jenkins/deploy/compilers/2021-01-06/linux-rhel7-x86_64/gcc-4.8.5/gcc-9.3.0-45gzrp/bin/gcc -O2   -I\"../mechanisms\" -I.   -I/gpfs/bbp.cscs.ch/home/mandge/lfpenv/lib/python3.8/site-packages/neuron/.data/include  -I/nrnwheel/openmpi/include -fPIC -c Na16Hu2009.c -o Na16Hu2009.o\n",
      " -> \u001b[32mCompiling\u001b[0m na.c\n",
      "/gpfs/bbp.cscs.ch/ssd/apps/hpc/jenkins/deploy/compilers/2021-01-06/linux-rhel7-x86_64/gcc-4.8.5/gcc-9.3.0-45gzrp/bin/gcc -O2   -I\"../mechanisms\" -I.   -I/gpfs/bbp.cscs.ch/home/mandge/lfpenv/lib/python3.8/site-packages/neuron/.data/include  -I/nrnwheel/openmpi/include -fPIC -c na.c -o na.o\n",
      " -> \u001b[32mCompiling\u001b[0m Nap_Et2.c\n",
      "/gpfs/bbp.cscs.ch/ssd/apps/hpc/jenkins/deploy/compilers/2021-01-06/linux-rhel7-x86_64/gcc-4.8.5/gcc-9.3.0-45gzrp/bin/gcc -O2   -I\"../mechanisms\" -I.   -I/gpfs/bbp.cscs.ch/home/mandge/lfpenv/lib/python3.8/site-packages/neuron/.data/include  -I/nrnwheel/openmpi/include -fPIC -c Nap_Et2.c -o Nap_Et2.o\n",
      " -> \u001b[32mCompiling\u001b[0m NaTa_t.c\n",
      "/gpfs/bbp.cscs.ch/ssd/apps/hpc/jenkins/deploy/compilers/2021-01-06/linux-rhel7-x86_64/gcc-4.8.5/gcc-9.3.0-45gzrp/bin/gcc -O2   -I\"../mechanisms\" -I.   -I/gpfs/bbp.cscs.ch/home/mandge/lfpenv/lib/python3.8/site-packages/neuron/.data/include  -I/nrnwheel/openmpi/include -fPIC -c NaTa_t.c -o NaTa_t.o\n",
      " -> \u001b[32mCompiling\u001b[0m NaTg.c\n",
      "/gpfs/bbp.cscs.ch/ssd/apps/hpc/jenkins/deploy/compilers/2021-01-06/linux-rhel7-x86_64/gcc-4.8.5/gcc-9.3.0-45gzrp/bin/gcc -O2   -I\"../mechanisms\" -I.   -I/gpfs/bbp.cscs.ch/home/mandge/lfpenv/lib/python3.8/site-packages/neuron/.data/include  -I/nrnwheel/openmpi/include -fPIC -c NaTg.c -o NaTg.o\n",
      " -> \u001b[32mCompiling\u001b[0m NaTs2_t.c\n",
      "/gpfs/bbp.cscs.ch/ssd/apps/hpc/jenkins/deploy/compilers/2021-01-06/linux-rhel7-x86_64/gcc-4.8.5/gcc-9.3.0-45gzrp/bin/gcc -O2   -I\"../mechanisms\" -I.   -I/gpfs/bbp.cscs.ch/home/mandge/lfpenv/lib/python3.8/site-packages/neuron/.data/include  -I/nrnwheel/openmpi/include -fPIC -c NaTs2_t.c -o NaTs2_t.o\n",
      " -> \u001b[32mCompiling\u001b[0m nax.c\n",
      "/gpfs/bbp.cscs.ch/ssd/apps/hpc/jenkins/deploy/compilers/2021-01-06/linux-rhel7-x86_64/gcc-4.8.5/gcc-9.3.0-45gzrp/bin/gcc -O2   -I\"../mechanisms\" -I.   -I/gpfs/bbp.cscs.ch/home/mandge/lfpenv/lib/python3.8/site-packages/neuron/.data/include  -I/nrnwheel/openmpi/include -fPIC -c nax.c -o nax.o\n",
      " -> \u001b[32mCompiling\u001b[0m SK_E2.c\n",
      "/gpfs/bbp.cscs.ch/ssd/apps/hpc/jenkins/deploy/compilers/2021-01-06/linux-rhel7-x86_64/gcc-4.8.5/gcc-9.3.0-45gzrp/bin/gcc -O2   -I\"../mechanisms\" -I.   -I/gpfs/bbp.cscs.ch/home/mandge/lfpenv/lib/python3.8/site-packages/neuron/.data/include  -I/nrnwheel/openmpi/include -fPIC -c SK_E2.c -o SK_E2.o\n",
      " -> \u001b[32mCompiling\u001b[0m SKv3_1.c\n",
      "/gpfs/bbp.cscs.ch/ssd/apps/hpc/jenkins/deploy/compilers/2021-01-06/linux-rhel7-x86_64/gcc-4.8.5/gcc-9.3.0-45gzrp/bin/gcc -O2   -I\"../mechanisms\" -I.   -I/gpfs/bbp.cscs.ch/home/mandge/lfpenv/lib/python3.8/site-packages/neuron/.data/include  -I/nrnwheel/openmpi/include -fPIC -c SKv3_1.c -o SKv3_1.o\n",
      " => \u001b[32mLINKING\u001b[0m shared library ./libnrnmech.so\n",
      "/gpfs/bbp.cscs.ch/ssd/apps/hpc/jenkins/deploy/compilers/2021-01-06/linux-rhel7-x86_64/gcc-4.8.5/gcc-9.3.0-45gzrp/bin/g++ -O2 -DVERSION_INFO='7.8.2' -std=c++11 -shared -fPIC  -I /gpfs/bbp.cscs.ch/home/mandge/lfpenv/lib/python3.8/site-packages/neuron/.data/include -o ./libnrnmech.so -Wl,-soname,libnrnmech.so \\\n",
      "  ./mod_func.o ./cad.o ./CaDynamics_DC0.o ./CaDynamics_E2.o ./Ca_HVA2.o ./Ca_HVA.o ./Ca_LVAst.o ./ca.o ./epsp.o ./ih.o ./Ih.o ./Im.o ./it2.o ./kca.o ./KdShu2007.o ./K_Pst.o ./K_Tst.o ./Kv1_axonal.o ./Kv7.o ./Kv.o ./Na12Hu2009.o ./Na16Hu2009.o ./na.o ./Nap_Et2.o ./NaTa_t.o ./NaTg.o ./NaTs2_t.o ./nax.o ./SK_E2.o ./SKv3_1.o  -L/gpfs/bbp.cscs.ch/home/mandge/lfpenv/lib/python3.8/site-packages/neuron/.data/lib -lnrniv -Wl,-rpath,/gpfs/bbp.cscs.ch/home/mandge/lfpenv/lib/python3.8/site-packages/neuron/.data/lib   \n",
      "rm -f ./.libs/libnrnmech.so ; mkdir -p ./.libs ; cp ./libnrnmech.so ./.libs/libnrnmech.so\n",
      "Successfully created x86_64/special\n"
     ]
    }
   ],
   "source": [
    "!rm -rf x86_64\n",
    "!nrnivmodl mechanisms"
   ]
  },
  {
   "cell_type": "code",
   "execution_count": 3,
   "metadata": {},
   "outputs": [],
   "source": [
    "probe = None #model.define_electrode(probe_type=\"linear\")\n",
    "model_name = 'hallermann' # \"hay\" \n",
    "morph_modifier = 'hallermann' # \"\""
   ]
  },
  {
   "cell_type": "code",
   "execution_count": 4,
   "metadata": {},
   "outputs": [],
   "source": [
    "cell = model.create(model=model_name, morph_modifier=morph_modifier, release=True)\n",
    "\n",
    "param_names = [param.name for param in cell.params.values() if not param.frozen]\n",
    "\n",
    "fitness_protocols = evaluator.define_protocols(\n",
    "    model_name,\n",
    "    feature_set=\"multiple\",\n",
    "    feature_file=\"hallermann_model/features_list.json\",\n",
    "    electrode=probe,\n",
    "    protocols_with_lfp=None\n",
    ")\n",
    "\n",
    "fitness_calculator = ephys.objectivescalculators.ObjectivesCalculator([])\n",
    "if model_name == 'hallermann':\n",
    "    sim = ephys.simulators.LFPySimulator(cell, cvode_active=False, electrode=probe)\n",
    "else:\n",
    "    sim = ephys.simulators.LFPySimulator(cell, cvode_active=True, electrode=probe)\n",
    "    \n",
    "eva = ephys.evaluators.CellEvaluator(                    \n",
    "        cell_model=cell,                                                       \n",
    "        param_names=param_names,                                                    \n",
    "        fitness_protocols=fitness_protocols,                                        \n",
    "        fitness_calculator=fitness_calculator,                                      \n",
    "        sim=sim)"
   ]
  },
  {
   "cell_type": "code",
   "execution_count": 5,
   "metadata": {},
   "outputs": [
    {
     "data": {
      "text/plain": [
       "{'Step1': <bluepyopt.ephys.protocols.SweepProtocol at 0x2acb467be7f0>}"
      ]
     },
     "execution_count": 5,
     "metadata": {},
     "output_type": "execute_result"
    }
   ],
   "source": [
    "fitness_protocols"
   ]
  },
  {
   "cell_type": "code",
   "execution_count": 6,
   "metadata": {},
   "outputs": [
    {
     "name": "stdout",
     "output_type": "stream",
     "text": [
      "Elapsed time: 69.40045619010925\n"
     ]
    }
   ],
   "source": [
    "t_start = time.time()\n",
    "responses = eva.run_protocols(protocols=fitness_protocols.values(), param_values={})\n",
    "print(f\"Elapsed time: {time.time() - t_start}\")"
   ]
  },
  {
   "cell_type": "code",
   "execution_count": 7,
   "metadata": {},
   "outputs": [
    {
     "data": {
      "image/png": "[encoded data removed]",
      "text/plain": [
       "<Figure size 216x432 with 3 Axes>"
      ]
     },
     "metadata": {
      "needs_background": "light"
     },
     "output_type": "display_data"
    }
   ],
   "source": [
    "fig, axes = plt.subplots(len(responses), figsize=(3, 6), squeeze=False)\n",
    "for index, (resp_name, response) in enumerate(sorted(responses.items())):\n",
    "    axes[index, 0].plot(response['time'], response['voltage'], label=resp_name)\n",
    "    axes[index, 0].set_title(resp_name)\n",
    "    axes[index, 0].set_xlim([510,540])\n",
    "fig.tight_layout()\n",
    "fig.show()"
   ]
  },
  {
   "cell_type": "code",
   "execution_count": 8,
   "metadata": {},
   "outputs": [
    {
     "data": {
      "image/png": "[encoded data removed]",
      "text/plain": [
       "<Figure size 432x288 with 1 Axes>"
      ]
     },
     "metadata": {
      "needs_background": "light"
     },
     "output_type": "display_data"
    }
   ],
   "source": [
    "for index, (resp_name, response) in enumerate(responses.items()):\n",
    "    if 'soma_' not in resp_name:\n",
    "        plt.plot(response['time'], response['voltage'], label=resp_name)\n",
    "    \n",
    "plt.legend()    \n",
    "plt.xlim([515,525])\n",
    "plt.show()"
   ]
  },
  {
   "cell_type": "code",
   "execution_count": 9,
   "metadata": {},
   "outputs": [
    {
     "name": "stdout",
     "output_type": "stream",
     "text": [
      "{'Step1.soma.v': 19.979043826525846, 'Step1.ais30.v': 16.684178886410734, 'Step1.ais60.v': 6.624711478885201}\n",
      "{'Step1.soma.v': 20741, 'Step1.ais30.v': 20740, 'Step1.ais60.v': 20723}\n"
     ]
    }
   ],
   "source": [
    "max_dict = {}\n",
    "max_index = {}\n",
    "\n",
    "for index, (resp_name, response) in enumerate(responses.items()):\n",
    "    max_dict[resp_name] =  max(response['voltage'])\n",
    "    max_index[resp_name] = response['voltage'][response['voltage'] == max_dict[resp_name]].index[0]\n",
    "    \n",
    "print(max_dict)\n",
    "print(max_index)\n"
   ]
  },
  {
   "cell_type": "code",
   "execution_count": null,
   "metadata": {},
   "outputs": [],
   "source": []
  }
 ],
 "metadata": {
  "kernelspec": {
   "display_name": "lfpenv",
   "language": "python",
   "name": "lfpenv"
  },
  "language_info": {
   "codemirror_mode": {
    "name": "ipython",
    "version": 3
   },
   "file_extension": ".py",
   "mimetype": "text/x-python",
   "name": "python",
   "nbconvert_exporter": "python",
   "pygments_lexer": "ipython3",
   "version": "3.8.3"
  },
  "pycharm": {
   "stem_cell": {
    "cell_type": "raw",
    "metadata": {
     "collapsed": false
    },
    "source": []
   }
  }
 },
 "nbformat": 4,
 "nbformat_minor": 4
}
