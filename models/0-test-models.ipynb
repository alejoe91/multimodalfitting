{
 "cells": [
  {
   "cell_type": "code",
   "execution_count": 1,
   "metadata": {},
   "outputs": [],
   "source": [
    "import json\n",
    "import matplotlib.pyplot as plt\n",
    "\n",
    "import bluepyopt as bpopt\n",
    "import bluepyopt.ephys as ephys\n",
    "\n",
    "import model\n",
    "import evaluator\n",
    "import time\n",
    "\n",
    "import sys\n",
    "\n",
    "from pathlib import Path\n",
    "\n",
    "%matplotlib notebook"
   ]
  },
  {
   "cell_type": "code",
   "execution_count": 2,
   "metadata": {},
   "outputs": [],
   "source": [
    "probe = None #model.define_electrode(probe_type=\"linear\")\n",
    "model_name = 'hallermann' # \"hallermann\"\n",
    "morph_modifier = 'hallermann'"
   ]
  },
  {
   "cell_type": "code",
   "execution_count": 3,
   "metadata": {},
   "outputs": [],
   "source": [
    "cell = model.create(model=model_name, morph_modifier=morph_modifier, release=True)\n",
    "\n",
    "param_names = [param.name for param in cell.params.values() if not param.frozen]\n",
    "\n",
    "fitness_protocols = evaluator.define_protocols(\n",
    "    model_name,\n",
    "    feature_set=\"multiple\",\n",
    "    feature_file=\"hay_model/features_list.json\",\n",
    "    electrode=probe,\n",
    "    protocols_with_lfp=None\n",
    ")\n",
    "\n",
    "fitness_calculator = ephys.objectivescalculators.ObjectivesCalculator([])\n",
    "\n",
    "sim = ephys.simulators.LFPySimulator(cell, cvode_active=True, electrode=probe)\n",
    "\n",
    "eva = ephys.evaluators.CellEvaluator(                    \n",
    "        cell_model=cell,                                                       \n",
    "        param_names=param_names,                                                    \n",
    "        fitness_protocols=fitness_protocols,                                        \n",
    "        fitness_calculator=fitness_calculator,                                      \n",
    "        sim=sim)"
   ]
  },
  {
   "cell_type": "code",
   "execution_count": 4,
   "metadata": {},
   "outputs": [
    {
     "data": {
      "text/plain": [
       "{'bAP': <bluepyopt.ephys.protocols.SweepProtocol at 0x7ff813d33be0>,\n",
       " 'BAC': <bluepyopt.ephys.protocols.SweepProtocol at 0x7ff813d444c0>,\n",
       " 'EPSP': <bluepyopt.ephys.protocols.SweepProtocol at 0x7ff813d44a30>,\n",
       " 'CaBurst': <bluepyopt.ephys.protocols.SweepProtocol at 0x7ff813d46730>,\n",
       " 'Step1': <bluepyopt.ephys.protocols.SweepProtocol at 0x7ff813d49490>}"
      ]
     },
     "execution_count": 4,
     "metadata": {},
     "output_type": "execute_result"
    }
   ],
   "source": [
    "fitness_protocols"
   ]
  },
  {
   "cell_type": "code",
   "execution_count": 5,
   "metadata": {},
   "outputs": [
    {
     "name": "stderr",
     "output_type": "stream",
     "text": [
      "NEURON: syntax error\n",
      " near line 10224\n",
      " soma[0] all.append()\n",
      "            ^\n"
     ]
    },
    {
     "ename": "Exception",
     "evalue": "Traceback (most recent call last):\n  File \"/gpfs/bbp.cscs.ch/project/proj38/home/damart/LFPy/BluePyOpt/bluepyopt/ephys/mechanisms.py\", line 103, in instantiate\n    isec.insert(self.suffix)\nValueError: argument not a density mechanism name.\n\nDuring handling of the above exception, another exception occurred:\n\nTraceback (most recent call last):\n  File \"/gpfs/bbp.cscs.ch/project/proj38/home/damart/LFPy/BluePyOpt/bluepyopt/ephys/protocols.py\", line 171, in _run_func\n    cell_model.instantiate(sim=sim)\n  File \"/gpfs/bbp.cscs.ch/project/proj38/home/damart/LFPy/BluePyOpt/bluepyopt/ephys/models.py\", line 681, in instantiate\n    mechanism.instantiate(sim=sim, icell=self.icell)\n  File \"/gpfs/bbp.cscs.ch/project/proj38/home/damart/LFPy/BluePyOpt/bluepyopt/ephys/mechanisms.py\", line 105, in instantiate\n    raise ValueError(str(e) + ': ' + self.suffix)\nValueError: argument not a density mechanism name.: CaH\n",
     "output_type": "error",
     "traceback": [
      "\u001b[0;31m---------------------------------------------------------------------------\u001b[0m",
      "\u001b[0;31mRemoteTraceback\u001b[0m                           Traceback (most recent call last)",
      "\u001b[0;31mRemoteTraceback\u001b[0m: Traceback (most recent call last):\n  File \"/gpfs/bbp.cscs.ch/project/proj38/home/damart/LFPy/BluePyOpt/bluepyopt/ephys/mechanisms.py\", line 103, in instantiate\n    isec.insert(self.suffix)\nValueError: argument not a density mechanism name.\n\nDuring handling of the above exception, another exception occurred:\n\nTraceback (most recent call last):\n  File \"/gpfs/bbp.cscs.ch/project/proj38/home/damart/LFPy/BluePyOpt/bluepyopt/ephys/protocols.py\", line 171, in _run_func\n    cell_model.instantiate(sim=sim)\n  File \"/gpfs/bbp.cscs.ch/project/proj38/home/damart/LFPy/BluePyOpt/bluepyopt/ephys/models.py\", line 681, in instantiate\n    mechanism.instantiate(sim=sim, icell=self.icell)\n  File \"/gpfs/bbp.cscs.ch/project/proj38/home/damart/LFPy/BluePyOpt/bluepyopt/ephys/mechanisms.py\", line 105, in instantiate\n    raise ValueError(str(e) + ': ' + self.suffix)\nValueError: argument not a density mechanism name.: CaH\n\nDuring handling of the above exception, another exception occurred:\n\nTraceback (most recent call last):\n  File \"/gpfs/bbp.cscs.ch/home/damart/venv_lfpy/lib/python3.8/site-packages/pebble/common.py\", line 174, in process_execute\n    return function(*args, **kwargs)\n  File \"/gpfs/bbp.cscs.ch/project/proj38/home/damart/LFPy/BluePyOpt/bluepyopt/ephys/protocols.py\", line 203, in _run_func\n    raise Exception(\nException: Traceback (most recent call last):\n  File \"/gpfs/bbp.cscs.ch/project/proj38/home/damart/LFPy/BluePyOpt/bluepyopt/ephys/mechanisms.py\", line 103, in instantiate\n    isec.insert(self.suffix)\nValueError: argument not a density mechanism name.\n\nDuring handling of the above exception, another exception occurred:\n\nTraceback (most recent call last):\n  File \"/gpfs/bbp.cscs.ch/project/proj38/home/damart/LFPy/BluePyOpt/bluepyopt/ephys/protocols.py\", line 171, in _run_func\n    cell_model.instantiate(sim=sim)\n  File \"/gpfs/bbp.cscs.ch/project/proj38/home/damart/LFPy/BluePyOpt/bluepyopt/ephys/models.py\", line 681, in instantiate\n    mechanism.instantiate(sim=sim, icell=self.icell)\n  File \"/gpfs/bbp.cscs.ch/project/proj38/home/damart/LFPy/BluePyOpt/bluepyopt/ephys/mechanisms.py\", line 105, in instantiate\n    raise ValueError(str(e) + ': ' + self.suffix)\nValueError: argument not a density mechanism name.: CaH\n\n",
      "\nThe above exception was the direct cause of the following exception:\n",
      "\u001b[0;31mException\u001b[0m                                 Traceback (most recent call last)",
      "\u001b[0;32m<ipython-input-5-34dd226a895e>\u001b[0m in \u001b[0;36m<module>\u001b[0;34m\u001b[0m\n\u001b[1;32m      1\u001b[0m \u001b[0mt_start\u001b[0m \u001b[0;34m=\u001b[0m \u001b[0mtime\u001b[0m\u001b[0;34m.\u001b[0m\u001b[0mtime\u001b[0m\u001b[0;34m(\u001b[0m\u001b[0;34m)\u001b[0m\u001b[0;34m\u001b[0m\u001b[0;34m\u001b[0m\u001b[0m\n\u001b[0;32m----> 2\u001b[0;31m \u001b[0mresponses\u001b[0m \u001b[0;34m=\u001b[0m \u001b[0meva\u001b[0m\u001b[0;34m.\u001b[0m\u001b[0mrun_protocols\u001b[0m\u001b[0;34m(\u001b[0m\u001b[0mprotocols\u001b[0m\u001b[0;34m=\u001b[0m\u001b[0mfitness_protocols\u001b[0m\u001b[0;34m.\u001b[0m\u001b[0mvalues\u001b[0m\u001b[0;34m(\u001b[0m\u001b[0;34m)\u001b[0m\u001b[0;34m,\u001b[0m \u001b[0mparam_values\u001b[0m\u001b[0;34m=\u001b[0m\u001b[0;34m{\u001b[0m\u001b[0;34m}\u001b[0m\u001b[0;34m)\u001b[0m\u001b[0;34m\u001b[0m\u001b[0;34m\u001b[0m\u001b[0m\n\u001b[0m\u001b[1;32m      3\u001b[0m \u001b[0mprint\u001b[0m\u001b[0;34m(\u001b[0m\u001b[0;34mf\"Elapsed time: {time.time() - t_start}\"\u001b[0m\u001b[0;34m)\u001b[0m\u001b[0;34m\u001b[0m\u001b[0;34m\u001b[0m\u001b[0m\n",
      "\u001b[0;32m/gpfs/bbp.cscs.ch/project/proj38/home/damart/LFPy/BluePyOpt/bluepyopt/ephys/evaluators.py\u001b[0m in \u001b[0;36mrun_protocols\u001b[0;34m(self, protocols, param_values)\u001b[0m\n\u001b[1;32m    175\u001b[0m \u001b[0;34m\u001b[0m\u001b[0m\n\u001b[1;32m    176\u001b[0m         \u001b[0;32mfor\u001b[0m \u001b[0mprotocol\u001b[0m \u001b[0;32min\u001b[0m \u001b[0mprotocols\u001b[0m\u001b[0;34m:\u001b[0m\u001b[0;34m\u001b[0m\u001b[0;34m\u001b[0m\u001b[0m\n\u001b[0;32m--> 177\u001b[0;31m             responses.update(self.run_protocol(\n\u001b[0m\u001b[1;32m    178\u001b[0m                 \u001b[0mprotocol\u001b[0m\u001b[0;34m,\u001b[0m\u001b[0;34m\u001b[0m\u001b[0;34m\u001b[0m\u001b[0m\n\u001b[1;32m    179\u001b[0m                 \u001b[0mparam_values\u001b[0m\u001b[0;34m=\u001b[0m\u001b[0mparam_values\u001b[0m\u001b[0;34m,\u001b[0m\u001b[0;34m\u001b[0m\u001b[0;34m\u001b[0m\u001b[0m\n",
      "\u001b[0;32m/gpfs/bbp.cscs.ch/project/proj38/home/damart/LFPy/BluePyOpt/bluepyopt/ephys/evaluators.py\u001b[0m in \u001b[0;36mrun_protocol\u001b[0;34m(self, protocol, param_values, isolate, cell_model, sim, timeout)\u001b[0m\n\u001b[1;32m    153\u001b[0m         \u001b[0;31m# Try/except added for backward compatibility\u001b[0m\u001b[0;34m\u001b[0m\u001b[0;34m\u001b[0m\u001b[0;34m\u001b[0m\u001b[0m\n\u001b[1;32m    154\u001b[0m         \u001b[0;32mtry\u001b[0m\u001b[0;34m:\u001b[0m\u001b[0;34m\u001b[0m\u001b[0;34m\u001b[0m\u001b[0m\n\u001b[0;32m--> 155\u001b[0;31m             return protocol.run(\n\u001b[0m\u001b[1;32m    156\u001b[0m                 \u001b[0mself\u001b[0m\u001b[0;34m.\u001b[0m\u001b[0mcell_model\u001b[0m \u001b[0;32mif\u001b[0m \u001b[0mcell_model\u001b[0m \u001b[0;32mis\u001b[0m \u001b[0;32mNone\u001b[0m \u001b[0;32melse\u001b[0m \u001b[0mcell_model\u001b[0m\u001b[0;34m,\u001b[0m\u001b[0;34m\u001b[0m\u001b[0;34m\u001b[0m\u001b[0m\n\u001b[1;32m    157\u001b[0m                 \u001b[0mparam_values\u001b[0m\u001b[0;34m,\u001b[0m\u001b[0;34m\u001b[0m\u001b[0;34m\u001b[0m\u001b[0m\n",
      "\u001b[0;32m/gpfs/bbp.cscs.ch/project/proj38/home/damart/LFPy/BluePyOpt/bluepyopt/ephys/protocols.py\u001b[0m in \u001b[0;36mrun\u001b[0;34m(self, cell_model, param_values, sim, isolate, timeout)\u001b[0m\n\u001b[1;32m    239\u001b[0m                     timeout=timeout)\n\u001b[1;32m    240\u001b[0m                 \u001b[0;32mtry\u001b[0m\u001b[0;34m:\u001b[0m\u001b[0;34m\u001b[0m\u001b[0;34m\u001b[0m\u001b[0m\n\u001b[0;32m--> 241\u001b[0;31m                     \u001b[0mresponses\u001b[0m \u001b[0;34m=\u001b[0m \u001b[0mtasks\u001b[0m\u001b[0;34m.\u001b[0m\u001b[0mresult\u001b[0m\u001b[0;34m(\u001b[0m\u001b[0;34m)\u001b[0m\u001b[0;34m\u001b[0m\u001b[0;34m\u001b[0m\u001b[0m\n\u001b[0m\u001b[1;32m    242\u001b[0m                 \u001b[0;32mexcept\u001b[0m \u001b[0mTimeoutError\u001b[0m\u001b[0;34m:\u001b[0m\u001b[0;34m\u001b[0m\u001b[0;34m\u001b[0m\u001b[0m\n\u001b[1;32m    243\u001b[0m                     logger.debug('SweepProtocol: task took longer than '\n",
      "\u001b[0;32m/gpfs/bbp.cscs.ch/ssd/apps/hpc/jenkins/deploy/externals/2021-01-06/linux-rhel7-x86_64/gcc-9.3.0/python-3.8.3-suxrst/lib/python3.8/concurrent/futures/_base.py\u001b[0m in \u001b[0;36mresult\u001b[0;34m(self, timeout)\u001b[0m\n\u001b[1;32m    437\u001b[0m                 \u001b[0;32mraise\u001b[0m \u001b[0mCancelledError\u001b[0m\u001b[0;34m(\u001b[0m\u001b[0;34m)\u001b[0m\u001b[0;34m\u001b[0m\u001b[0;34m\u001b[0m\u001b[0m\n\u001b[1;32m    438\u001b[0m             \u001b[0;32melif\u001b[0m \u001b[0mself\u001b[0m\u001b[0;34m.\u001b[0m\u001b[0m_state\u001b[0m \u001b[0;34m==\u001b[0m \u001b[0mFINISHED\u001b[0m\u001b[0;34m:\u001b[0m\u001b[0;34m\u001b[0m\u001b[0;34m\u001b[0m\u001b[0m\n\u001b[0;32m--> 439\u001b[0;31m                 \u001b[0;32mreturn\u001b[0m \u001b[0mself\u001b[0m\u001b[0;34m.\u001b[0m\u001b[0m__get_result\u001b[0m\u001b[0;34m(\u001b[0m\u001b[0;34m)\u001b[0m\u001b[0;34m\u001b[0m\u001b[0;34m\u001b[0m\u001b[0m\n\u001b[0m\u001b[1;32m    440\u001b[0m             \u001b[0;32melse\u001b[0m\u001b[0;34m:\u001b[0m\u001b[0;34m\u001b[0m\u001b[0;34m\u001b[0m\u001b[0m\n\u001b[1;32m    441\u001b[0m                 \u001b[0;32mraise\u001b[0m \u001b[0mTimeoutError\u001b[0m\u001b[0;34m(\u001b[0m\u001b[0;34m)\u001b[0m\u001b[0;34m\u001b[0m\u001b[0;34m\u001b[0m\u001b[0m\n",
      "\u001b[0;32m/gpfs/bbp.cscs.ch/ssd/apps/hpc/jenkins/deploy/externals/2021-01-06/linux-rhel7-x86_64/gcc-9.3.0/python-3.8.3-suxrst/lib/python3.8/concurrent/futures/_base.py\u001b[0m in \u001b[0;36m__get_result\u001b[0;34m(self)\u001b[0m\n\u001b[1;32m    386\u001b[0m     \u001b[0;32mdef\u001b[0m \u001b[0m__get_result\u001b[0m\u001b[0;34m(\u001b[0m\u001b[0mself\u001b[0m\u001b[0;34m)\u001b[0m\u001b[0;34m:\u001b[0m\u001b[0;34m\u001b[0m\u001b[0;34m\u001b[0m\u001b[0m\n\u001b[1;32m    387\u001b[0m         \u001b[0;32mif\u001b[0m \u001b[0mself\u001b[0m\u001b[0;34m.\u001b[0m\u001b[0m_exception\u001b[0m\u001b[0;34m:\u001b[0m\u001b[0;34m\u001b[0m\u001b[0;34m\u001b[0m\u001b[0m\n\u001b[0;32m--> 388\u001b[0;31m             \u001b[0;32mraise\u001b[0m \u001b[0mself\u001b[0m\u001b[0;34m.\u001b[0m\u001b[0m_exception\u001b[0m\u001b[0;34m\u001b[0m\u001b[0;34m\u001b[0m\u001b[0m\n\u001b[0m\u001b[1;32m    389\u001b[0m         \u001b[0;32melse\u001b[0m\u001b[0;34m:\u001b[0m\u001b[0;34m\u001b[0m\u001b[0;34m\u001b[0m\u001b[0m\n\u001b[1;32m    390\u001b[0m             \u001b[0;32mreturn\u001b[0m \u001b[0mself\u001b[0m\u001b[0;34m.\u001b[0m\u001b[0m_result\u001b[0m\u001b[0;34m\u001b[0m\u001b[0;34m\u001b[0m\u001b[0m\n",
      "\u001b[0;31mException\u001b[0m: Traceback (most recent call last):\n  File \"/gpfs/bbp.cscs.ch/project/proj38/home/damart/LFPy/BluePyOpt/bluepyopt/ephys/mechanisms.py\", line 103, in instantiate\n    isec.insert(self.suffix)\nValueError: argument not a density mechanism name.\n\nDuring handling of the above exception, another exception occurred:\n\nTraceback (most recent call last):\n  File \"/gpfs/bbp.cscs.ch/project/proj38/home/damart/LFPy/BluePyOpt/bluepyopt/ephys/protocols.py\", line 171, in _run_func\n    cell_model.instantiate(sim=sim)\n  File \"/gpfs/bbp.cscs.ch/project/proj38/home/damart/LFPy/BluePyOpt/bluepyopt/ephys/models.py\", line 681, in instantiate\n    mechanism.instantiate(sim=sim, icell=self.icell)\n  File \"/gpfs/bbp.cscs.ch/project/proj38/home/damart/LFPy/BluePyOpt/bluepyopt/ephys/mechanisms.py\", line 105, in instantiate\n    raise ValueError(str(e) + ': ' + self.suffix)\nValueError: argument not a density mechanism name.: CaH\n"
     ]
    }
   ],
   "source": [
    "t_start = time.time()\n",
    "responses = eva.run_protocols(protocols=fitness_protocols.values(), param_values={})\n",
    "print(f\"Elapsed time: {time.time() - t_start}\")"
   ]
  },
  {
   "cell_type": "code",
   "execution_count": null,
   "metadata": {},
   "outputs": [],
   "source": [
    "fig, axes = plt.subplots(len(responses), figsize=(10, 20), squeeze=False)\n",
    "for index, (resp_name, response) in enumerate(sorted(responses.items())):\n",
    "    axes[index, 0].plot(response['time'], response['voltage'], label=resp_name)\n",
    "    axes[index, 0].set_title(resp_name)\n",
    "fig.tight_layout()\n",
    "fig.show()"
   ]
  }
 ],
 "metadata": {
  "kernelspec": {
   "display_name": "venv_lfpy",
   "language": "python",
   "name": "venv_lfpy"
  },
  "language_info": {
   "codemirror_mode": {
    "name": "ipython",
    "version": 3
   },
   "file_extension": ".py",
   "mimetype": "text/x-python",
   "name": "python",
   "nbconvert_exporter": "python",
   "pygments_lexer": "ipython3",
   "version": "3.8.3"
  },
  "pycharm": {
   "stem_cell": {
    "cell_type": "raw",
    "metadata": {
     "collapsed": false
    },
    "source": []
   }
  }
 },
 "nbformat": 4,
 "nbformat_minor": 1
}
