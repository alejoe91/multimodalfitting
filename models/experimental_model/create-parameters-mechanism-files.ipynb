{
 "cells": [
  {
   "cell_type": "markdown",
   "id": "6e8122f3",
   "metadata": {},
   "source": [
    "# Create parameters and mechanism json files\n",
    "\n",
    "This notebook creates the `mechanisms.json`, `parameters.json`, and `parameters_release.json` from the `pyr_mainaxon_reboot.json` file provided by Dr. Zbili."
   ]
  },
  {
   "cell_type": "code",
   "execution_count": null,
   "id": "631c5160",
   "metadata": {},
   "outputs": [],
   "source": [
    "import json\n",
    "from pprint import pprint\n",
    "from copy import copy\n",
    "import numpy as np"
   ]
  },
  {
   "cell_type": "code",
   "execution_count": null,
   "id": "b561efaa",
   "metadata": {},
   "outputs": [],
   "source": [
    "param_file = \"parameters.json\"\n",
    "mechanism_file = \"mechanisms.json\"\n",
    "param_release_file = \"parameters_release.json\"\n",
    "param_info_file = \"pyr_mainaxon_reboot.json\""
   ]
  },
  {
   "cell_type": "code",
   "execution_count": null,
   "id": "549ac91f",
   "metadata": {},
   "outputs": [],
   "source": [
    "param_info = json.load(open(param_info_file))\n",
    "pprint(param_info)"
   ]
  },
  {
   "cell_type": "code",
   "execution_count": null,
   "id": "bb22ac8d",
   "metadata": {},
   "outputs": [],
   "source": [
    "sections_mech_map = {\n",
    "    \"basal\": [\"basal\", \"somadend\"], # all dendrites are \"basal\" and active\n",
    "    \"somatic\": [\"somatic\", \"somadend\"],\n",
    "    \"axonal\": [\"axonal\"],\n",
    "    \"axon_initial_segment\": [\"axon_initial_segment\"]\n",
    "    }"
   ]
  },
  {
   "cell_type": "markdown",
   "id": "86088f9b",
   "metadata": {},
   "source": [
    "## Create mechanisms.json"
   ]
  },
  {
   "cell_type": "code",
   "execution_count": null,
   "id": "0113896f",
   "metadata": {},
   "outputs": [],
   "source": [
    "mechanisms = {}\n",
    "for sec, param_secs in sections_mech_map.items():\n",
    "    mechanisms[sec] = []\n",
    "    for param_sec in param_secs:\n",
    "        mechanisms[sec].extend(param_info[\"mechanisms\"][param_sec][\"mech\"])\n",
    "mechanisms[\"all\"] = [\"pas\"]\n",
    "pprint(mechanisms)\n",
    "\n",
    "json.dump(mechanisms, open(mechanism_file, \"w\"), indent=4)"
   ]
  },
  {
   "cell_type": "markdown",
   "id": "b747c633",
   "metadata": {},
   "source": [
    "## Create parameters.json and parameters_release.json\n",
    "\n",
    "For the `parameters_release.json`, the mean of the `bounds` is used."
   ]
  },
  {
   "cell_type": "code",
   "execution_count": null,
   "id": "8a0d0545",
   "metadata": {},
   "outputs": [],
   "source": [
    "params = []\n",
    "params_release = []\n",
    "\n",
    "# set global params\n",
    "for par in param_info[\"parameters\"][\"global\"]:\n",
    "    par_dict = {\"param_name\": par[\"name\"],\n",
    "                \"type\": \"global\",\n",
    "                \"value\": par[\"val\"]}\n",
    "    params.append(par_dict)\n",
    "    params_release.append(par_dict) \n",
    "    \n",
    "# add \"all\" specific parameters\n",
    "mech_all = param_info[\"mechanisms\"][\"all\"]\n",
    "for par_all in param_info[\"parameters\"][\"all\"]:\n",
    "    par_dict = {\"param_name\": par_all[\"name\"],\n",
    "                \"type\": \"section\",\n",
    "                \"sectionlist\": \"all\",\n",
    "                \"dist_type\": \"uniform\"}\n",
    "    par_dict_release = copy(par_dict)\n",
    "    # check if a mech needs to be added\n",
    "    for mech in mech_all[\"mech\"]:\n",
    "        if mech in par_dict[\"param_name\"]:\n",
    "            par_dict[\"mech\"] = mech\n",
    "    # add values\n",
    "    if isinstance(par_all[\"val\"], list):\n",
    "        par_dict[\"bounds\"] = par_all[\"val\"]\n",
    "        par_dict_release[\"value\"] = np.mean(par_all[\"val\"])\n",
    "    else: # scalar\n",
    "        par_dict[\"value\"] = par_all[\"val\"]\n",
    "        par_dict_release[\"value\"] = par_all[\"val\"]\n",
    "    params.append(par_dict)\n",
    "    params_release.append(par_dict_release)    \n",
    "\n",
    "    \n",
    "# add section specific mechanisms\n",
    "for sec, param_secs in sections_mech_map.items():\n",
    "    for param_sec in param_secs:\n",
    "        print(\"\\nSectionlist\", param_sec)\n",
    "        mechs = param_info[\"mechanisms\"][param_sec]\n",
    "        for par in param_info[\"parameters\"][param_sec]:\n",
    "            par_dict = {\"param_name\": par[\"name\"],\n",
    "                        \"type\": \"section\",\n",
    "                        \"sectionlist\": sec\n",
    "                       }\n",
    "            if \"dist\" not in par:\n",
    "                par_dict.update({\"dist_type\": \"uniform\"})\n",
    "            else:\n",
    "                par_dict.update({\"dist_type\": par[\"dist\"]})\n",
    "                par_dict.update({\"dist\": param_info[\"distributions\"][par[\"dist\"]][\"fun\"]})\n",
    "                for dist_par in param_info[\"distributions\"][par[\"dist\"]]:\n",
    "                    if dist_par != \"__comment\" and dist_par != \"fun\":\n",
    "                        par_dict.update({dist_par: param_info[\"distributions\"][par[\"dist\"]][dist_par]})\n",
    "                par_dict[\"type\"] = \"range\"\n",
    "            par_dict_release = copy(par_dict)\n",
    "            # check if a mech needs to be added\n",
    "            for mech in mechs[\"mech\"]:\n",
    "                if mech in par_dict[\"param_name\"]:\n",
    "                    par_dict[\"mech\"] = mech\n",
    "                    mech_param = par_dict[\"param_name\"][:par_dict[\"param_name\"].find(mech) - 1]\n",
    "                    par_dict[\"mech_param\"] = mech_param\n",
    "                    \n",
    "            # add values\n",
    "            if isinstance(par[\"val\"], list):\n",
    "                par_dict[\"bounds\"] = par_all[\"val\"]\n",
    "                par_dict_release[\"value\"] = np.mean(par_all[\"val\"])\n",
    "            else: # scalar\n",
    "                par_dict[\"value\"] = par[\"val\"]\n",
    "                par_dict_release[\"value\"] = par[\"val\"]\n",
    "                            \n",
    "            params.append(par_dict)\n",
    "            params_release.append(par_dict_release) \n",
    "            \n",
    "json.dump(params, open(param_file, \"w\"), indent=4)\n",
    "json.dump(params_release, open(param_release_file, \"w\"), indent=4)"
   ]
  },
  {
   "cell_type": "code",
   "execution_count": null,
   "id": "9cbcfc12",
   "metadata": {},
   "outputs": [],
   "source": [
    "pprint(params)"
   ]
  },
  {
   "cell_type": "code",
   "execution_count": null,
   "id": "913d2f15",
   "metadata": {},
   "outputs": [],
   "source": [
    "pprint(params_release)"
   ]
  },
  {
   "cell_type": "code",
   "execution_count": null,
   "id": "325c00cb",
   "metadata": {},
   "outputs": [],
   "source": []
  }
 ],
 "metadata": {
  "language_info": {
   "name": "python"
  }
 },
 "nbformat": 4,
 "nbformat_minor": 5
}
