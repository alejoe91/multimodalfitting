{
 "cells": [
  {
   "cell_type": "markdown",
   "metadata": {},
   "source": [
    "# Generate and save ECODE responses, protocols, and features\n",
    "\n",
    "## HAY_AIS_HILLOCK model"
   ]
  },
  {
   "cell_type": "code",
   "execution_count": null,
   "metadata": {},
   "outputs": [],
   "source": [
    "import json\n",
    "import matplotlib.pyplot as plt\n",
    "\n",
    "import bluepyopt as bpopt\n",
    "import bluepyopt.ephys as ephys\n",
    "\n",
    "import model\n",
    "import evaluator\n",
    "import time\n",
    "import neuron\n",
    "import plotting\n",
    "import MEAutility as mu\n",
    "from pprint import pprint\n",
    "import numpy as np\n",
    "import neuroplotlib as nplt\n",
    "\n",
    "import sys\n",
    "import shutil\n",
    "\n",
    "from pathlib import Path\n",
    "import os\n",
    "\n",
    "%matplotlib notebook"
   ]
  },
  {
   "cell_type": "code",
   "execution_count": null,
   "metadata": {},
   "outputs": [],
   "source": [
    "# general\n",
    "\n",
    "model_name = \"hay_ais_hillock\"\n",
    "probe_type = \"planar\" # linear \n",
    "data_folder = Path(f\"../data_210916/\")\n",
    "\n",
    "# for rheobase\n",
    "step_min = 0.21\n",
    "step_increment = 0.02"
   ]
  },
  {
   "cell_type": "markdown",
   "metadata": {},
   "source": [
    "## 1) Generate and run ecode protocols"
   ]
  },
  {
   "cell_type": "code",
   "execution_count": null,
   "metadata": {},
   "outputs": [],
   "source": [
    "sys.path.append('../ecode/')"
   ]
  },
  {
   "cell_type": "code",
   "execution_count": null,
   "metadata": {},
   "outputs": [],
   "source": [
    "from ecode import generate_ecode_protocols, compute_rheobase_for_model, run_ecode_protocols, \\\n",
    "        save_intracellular_responses, save_extracellular_template"
   ]
  },
  {
   "cell_type": "code",
   "execution_count": null,
   "metadata": {},
   "outputs": [],
   "source": [
    "model_folder = (Path(\".\") / f\"{model_name}_model\").absolute()"
   ]
  },
  {
   "cell_type": "code",
   "execution_count": null,
   "metadata": {},
   "outputs": [],
   "source": [
    "# output folder for data\n",
    "output_folder = data_folder / f\"{model_name}_ecode_probe_{probe_type}\""
   ]
  },
  {
   "cell_type": "code",
   "execution_count": null,
   "metadata": {},
   "outputs": [],
   "source": [
    "cell = model.create(model_name=model_name, release=True)\n",
    "\n",
    "probe = model.define_electrode(probe_type=probe_type)\n",
    "# probe = None\n",
    "\n",
    "param_names = [param.name for param in cell.params.values() if not param.frozen]\n",
    "sim = ephys.simulators.LFPySimulator(cell, cvode_active=True, electrode=probe,\n",
    "                                     mechs_folders=model_folder)"
   ]
  },
  {
   "cell_type": "code",
   "execution_count": null,
   "metadata": {},
   "outputs": [],
   "source": [
    "rheobase, rheo_protocols, rheo_responses = compute_rheobase_for_model(cell, sim=sim, step_min=step_min, \n",
    "                                                                      step_increment=step_increment)"
   ]
  },
  {
   "cell_type": "code",
   "execution_count": null,
   "metadata": {},
   "outputs": [],
   "source": [
    "ecode_protocols = generate_ecode_protocols(rheobase_current=rheobase, record_extra=True,\n",
    "                                           protocols_with_lfp=\"IDrest_300\")"
   ]
  },
  {
   "cell_type": "code",
   "execution_count": null,
   "metadata": {},
   "outputs": [],
   "source": [
    "responses_dict = run_ecode_protocols(protocols=ecode_protocols, cell=cell, sim=sim, \n",
    "                                     resample_rate_khz=40)"
   ]
  },
  {
   "cell_type": "code",
   "execution_count": null,
   "metadata": {},
   "outputs": [],
   "source": [
    "save_intracellular_responses(responses_dict=responses_dict, output_folder=output_folder)"
   ]
  },
  {
   "cell_type": "code",
   "execution_count": null,
   "metadata": {},
   "outputs": [],
   "source": [
    "eap, locations = save_extracellular_template(responses=responses_dict[\"IDrest\"], \n",
    "                                             protocols=ecode_protocols, protocol_name=\"IDrest\",\n",
    "                                             probe=probe, output_folder=output_folder, sweep_id=10, \n",
    "                                             resample_rate_khz=20, fcut=[300, 6000],\n",
    "                                             filt_type=\"filtfilt\")"
   ]
  },
  {
   "cell_type": "code",
   "execution_count": null,
   "metadata": {},
   "outputs": [],
   "source": [
    "ax = mu.plot_mea_recording(eap, probe)"
   ]
  },
  {
   "cell_type": "markdown",
   "metadata": {},
   "source": [
    "## 2) Generate feature and protocols with BluePyEfe"
   ]
  },
  {
   "cell_type": "code",
   "execution_count": null,
   "metadata": {},
   "outputs": [],
   "source": [
    "sys.path.append('../efeatures_extraction')"
   ]
  },
  {
   "cell_type": "code",
   "execution_count": null,
   "metadata": {},
   "outputs": [],
   "source": [
    "efeatures_output_directory = data_folder / f\"{model_name}_ecode_probe_{probe_type}/efeatures\""
   ]
  },
  {
   "cell_type": "code",
   "execution_count": null,
   "metadata": {},
   "outputs": [],
   "source": [
    "from bluepyefe.extract import read_recordings, extract_efeatures_at_targets, compute_rheobase,\\\n",
    "    group_efeatures, create_feature_protocol_files, convert_legacy_targets\n",
    "from bluepyefe.plotting import plot_all_recordings_efeatures\n",
    "\n",
    "from extraction_tools import build_model_metadata, model_csv_reader, get_targets, ecodes_model_timings"
   ]
  },
  {
   "cell_type": "code",
   "execution_count": null,
   "metadata": {},
   "outputs": [],
   "source": [
    "files_metadata = build_model_metadata(cell_id=model_name, ephys_dir=output_folder)\n",
    "pprint(files_metadata[model_name])"
   ]
  },
  {
   "cell_type": "code",
   "execution_count": null,
   "metadata": {},
   "outputs": [],
   "source": [
    "cells = read_recordings(\n",
    "    files_metadata=files_metadata,\n",
    "    recording_reader=model_csv_reader\n",
    ")"
   ]
  },
  {
   "cell_type": "code",
   "execution_count": null,
   "metadata": {},
   "outputs": [],
   "source": [
    "# define target features for different protocols\n",
    "targets = get_targets(ecodes_model_timings)\n",
    "targets = convert_legacy_targets(targets)\n",
    "pprint(targets)"
   ]
  },
  {
   "cell_type": "code",
   "execution_count": null,
   "metadata": {},
   "outputs": [],
   "source": [
    "t_start = time.time()\n",
    "extract_efeatures_at_targets(cells, targets)\n",
    "t_stop = time.time()\n",
    "print(f\"Elapsed time {t_stop - t_start}\")"
   ]
  },
  {
   "cell_type": "code",
   "execution_count": null,
   "metadata": {},
   "outputs": [],
   "source": [
    "compute_rheobase(\n",
    "    cells, \n",
    "    protocols_rheobase=['IDthres']\n",
    ")"
   ]
  },
  {
   "cell_type": "code",
   "execution_count": null,
   "metadata": {},
   "outputs": [],
   "source": [
    "protocols = group_efeatures(cells, targets, use_global_rheobase=True)"
   ]
  },
  {
   "cell_type": "code",
   "execution_count": null,
   "metadata": {},
   "outputs": [],
   "source": [
    "efeatures, protocol_definitions, current = create_feature_protocol_files(\n",
    "    cells,\n",
    "    protocols,\n",
    "    output_directory=efeatures_output_directory,\n",
    "    threshold_nvalue_save=1,\n",
    "    write_files=True,\n",
    ")"
   ]
  },
  {
   "cell_type": "markdown",
   "metadata": {},
   "source": [
    "## 3) Convert to BPO format and append extra features\n",
    "\n",
    "### a) All channels"
   ]
  },
  {
   "cell_type": "code",
   "execution_count": null,
   "metadata": {},
   "outputs": [],
   "source": [
    "from extraction_tools import convert_to_bpo_format, append_extrafeatures_to_json, compute_extra_features"
   ]
  },
  {
   "cell_type": "code",
   "execution_count": null,
   "metadata": {},
   "outputs": [],
   "source": [
    "protocols_of_interest = [\"IDrest_150\", \"IDrest_250\", \"IDrest_300\", \"IV_-100\", \"IV_-20\", \"APWaveform_260\"]\n",
    "\n",
    "in_protocol_path = efeatures_output_directory / \"protocols.json\"\n",
    "in_efeatures_path = efeatures_output_directory / \"features.json\"\n",
    "\n",
    "out_protocol_path = efeatures_output_directory / \"protocols_BPO_all.json\"\n",
    "out_efeatures_path = efeatures_output_directory / \"features_BPO_all.json\""
   ]
  },
  {
   "cell_type": "code",
   "execution_count": null,
   "metadata": {},
   "outputs": [],
   "source": [
    "# append MEA.LFP features\n",
    "eap = np.load(output_folder / \"extracellular\" / \"template.npy\")\n",
    "fs = np.load(output_folder / \"extracellular\" / \"fs.npy\")\n",
    "locations = np.load(output_folder / \"extracellular\" / \"locations.npy\")"
   ]
  },
  {
   "cell_type": "code",
   "execution_count": null,
   "metadata": {},
   "outputs": [],
   "source": [
    "extra_features = compute_extra_features(eap, fs, upsample=10)"
   ]
  },
  {
   "cell_type": "code",
   "execution_count": null,
   "metadata": {},
   "outputs": [],
   "source": [
    "pprint(extra_features)"
   ]
  },
  {
   "cell_type": "code",
   "execution_count": null,
   "metadata": {},
   "outputs": [],
   "source": [
    "protocols_dict, efeatures_dict = convert_to_bpo_format(in_protocol_path, in_efeatures_path, \n",
    "                                                       out_protocol_path, out_efeatures_path, \n",
    "                                                       protocols_of_interest=protocols_of_interest, \n",
    "                                                       std_from_mean=0.2)"
   ]
  },
  {
   "cell_type": "code",
   "execution_count": null,
   "metadata": {},
   "outputs": [],
   "source": [
    "channel_ids = None\n",
    "single_channel_features = False"
   ]
  },
  {
   "cell_type": "code",
   "execution_count": null,
   "metadata": {},
   "outputs": [],
   "source": [
    "extrafeatures_dict = append_extrafeatures_to_json(extra_features, protocol_name=\"IDrest_300\",\n",
    "                                                  efeatures_dict=efeatures_dict,\n",
    "                                                  efeatures_path=out_efeatures_path, channel_ids=channel_ids,\n",
    "                                                  single_channel_features=single_channel_features, \n",
    "                                                  std_from_mean=0.2)"
   ]
  },
  {
   "cell_type": "code",
   "execution_count": null,
   "metadata": {},
   "outputs": [],
   "source": [
    "extrafeatures_dict[\"extra\"]"
   ]
  },
  {
   "cell_type": "code",
   "execution_count": null,
   "metadata": {},
   "outputs": [],
   "source": [
    "json.dump(probe.info, (efeatures_output_directory / \"probe_BPO.json\").open(\"w\"))"
   ]
  },
  {
   "cell_type": "code",
   "execution_count": null,
   "metadata": {},
   "outputs": [],
   "source": [
    "# plot one extra features\n",
    "f = plotting.plot_feature_map_w_colorbar(extra_features[\"peak_trough_ratio\"], probe, \n",
    "                                         feature_name=\"peak_trough_ratio\", label=\"time (s)\")"
   ]
  },
  {
   "cell_type": "markdown",
   "metadata": {},
   "source": [
    "### b) Select single channels"
   ]
  },
  {
   "cell_type": "code",
   "execution_count": null,
   "metadata": {},
   "outputs": [],
   "source": [
    "out_protocol_path = efeatures_output_directory / \"protocols_BPO_single.json\"\n",
    "out_efeatures_path = efeatures_output_directory / \"features_BPO_single.json\""
   ]
  },
  {
   "cell_type": "code",
   "execution_count": null,
   "metadata": {},
   "outputs": [],
   "source": [
    "protocols_dict, efeatures_dict = convert_to_bpo_format(in_protocol_path, in_efeatures_path, \n",
    "                                                       out_protocol_path, out_efeatures_path, \n",
    "                                                       protocols_of_interest=protocols_of_interest, \n",
    "                                                       std_from_mean=0.2)"
   ]
  },
  {
   "cell_type": "code",
   "execution_count": null,
   "metadata": {},
   "outputs": [],
   "source": [
    "channel_ids = plotting.select_single_channels(cell, sim, probe)"
   ]
  },
  {
   "cell_type": "code",
   "execution_count": null,
   "metadata": {},
   "outputs": [],
   "source": [
    "channel_ids"
   ]
  },
  {
   "cell_type": "code",
   "execution_count": null,
   "metadata": {},
   "outputs": [],
   "source": [
    "single_channel_features = True\n",
    "std_from_mean = 0.2"
   ]
  },
  {
   "cell_type": "code",
   "execution_count": null,
   "metadata": {},
   "outputs": [],
   "source": [
    "extrafeatures_dict = append_extrafeatures_to_json(extra_features, protocol_name=\"IDrest_300\",\n",
    "                                                  efeatures_dict=efeatures_dict,\n",
    "                                                  efeatures_path=out_efeatures_path, channel_ids=channel_ids,\n",
    "                                                  single_channel_features=single_channel_features, \n",
    "                                                  std_from_mean=std_from_mean)"
   ]
  },
  {
   "cell_type": "markdown",
   "metadata": {},
   "source": [
    "### c) Select channel sections"
   ]
  },
  {
   "cell_type": "code",
   "execution_count": null,
   "metadata": {},
   "outputs": [],
   "source": [
    "out_protocol_path = efeatures_output_directory / \"protocols_BPO_sections.json\"\n",
    "out_efeatures_path = efeatures_output_directory / \"features_BPO_sections.json\""
   ]
  },
  {
   "cell_type": "code",
   "execution_count": null,
   "metadata": {},
   "outputs": [],
   "source": [
    "protocols_dict, efeatures_dict = convert_to_bpo_format(in_protocol_path, in_efeatures_path, \n",
    "                                                       out_protocol_path, out_efeatures_path, \n",
    "                                                       protocols_of_interest=protocols_of_interest, \n",
    "                                                       std_from_mean=0.2)"
   ]
  },
  {
   "cell_type": "code",
   "execution_count": null,
   "metadata": {},
   "outputs": [],
   "source": [
    "channel_ids = plotting.select_mea_sections(cell, sim, probe)"
   ]
  },
  {
   "cell_type": "code",
   "execution_count": null,
   "metadata": {},
   "outputs": [],
   "source": [
    "channel_ids"
   ]
  },
  {
   "cell_type": "code",
   "execution_count": null,
   "metadata": {},
   "outputs": [],
   "source": [
    "single_channel_features = False\n",
    "std_from_mean = None"
   ]
  },
  {
   "cell_type": "code",
   "execution_count": null,
   "metadata": {},
   "outputs": [],
   "source": [
    "extrafeatures_dict = append_extrafeatures_to_json(extra_features, protocol_name=\"IDrest_300\",\n",
    "                                                  efeatures_dict=efeatures_dict,\n",
    "                                                  efeatures_path=out_efeatures_path, channel_ids=channel_ids,\n",
    "                                                  single_channel_features=single_channel_features, \n",
    "                                                  std_from_mean=std_from_mean)"
   ]
  },
  {
   "cell_type": "code",
   "execution_count": null,
   "metadata": {},
   "outputs": [],
   "source": [
    "pprint(extrafeatures_dict[\"extra\"][\"IDrest_300\"])"
   ]
  }
 ],
 "metadata": {
  "language_info": {
   "name": "python"
  }
 },
 "nbformat": 4,
 "nbformat_minor": 4
}
