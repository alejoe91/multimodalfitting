{
 "cells": [
  {
   "cell_type": "markdown",
   "id": "f278ad77",
   "metadata": {},
   "source": [
    "# Validation - BAC response of models\n",
    "\n",
    "This notebook evaluates qualitatively the capability of fitted models to reproduce BAC behavior."
   ]
  },
  {
   "cell_type": "code",
   "execution_count": null,
   "id": "de6ec5c5",
   "metadata": {},
   "outputs": [],
   "source": [
    "import json\n",
    "import sys\n",
    "import os\n",
    "import time\n",
    "import neuron\n",
    "from pathlib import Path\n",
    "import pickle\n",
    "import pandas as pd\n",
    "\n",
    "import matplotlib.pyplot as plt\n",
    "import neuroplotlib as nplt\n",
    "\n",
    "import bluepyopt as bpopt\n",
    "import bluepyopt.ephys as ephys\n",
    "\n",
    "import LFPy\n",
    "import neuron\n",
    "import numpy as np\n",
    "\n",
    "import shutil\n",
    "\n",
    "import model\n",
    "import evaluator\n",
    "import plotting\n",
    "import utils\n",
    "\n",
    "# %matplotlib notebook\n",
    "%matplotlib widget"
   ]
  },
  {
   "cell_type": "code",
   "execution_count": null,
   "id": "e3415b31",
   "metadata": {},
   "outputs": [],
   "source": [
    "probe_type = \"planar\"\n",
    "model_name = \"hay\" #'hallermann' # \"hay\" hay_ais\n",
    "model_folder = (Path(\".\") / f\"{model_name}_model\").absolute()"
   ]
  },
  {
   "cell_type": "code",
   "execution_count": null,
   "id": "4fcdfdd4",
   "metadata": {},
   "outputs": [],
   "source": [
    "data_folder = Path('..') / \"data\" / f\"{model_name}_ecode_probe_{probe_type}\"\n",
    "result_folder = Path(\"..\") / \"results\" / 'models' / 'opt_results' "
   ]
  },
  {
   "cell_type": "code",
   "execution_count": null,
   "id": "f8543b20",
   "metadata": {},
   "outputs": [],
   "source": [
    "# compile model-specific mechanisms\n",
    "if not (model_folder / \"x86_64\").is_dir():\n",
    "    curr_dir = Path(\".\").absolute()\n",
    "    os.chdir(model_folder)\n",
    "    print(os.getcwd())\n",
    "    os.system(\"nrnivmodl mechanisms\")\n",
    "    os.chdir(curr_dir)\n",
    "else:\n",
    "    print(f\"Mechanisms already compiled for {model_name}\")\n",
    "    compiled_folder = Path(\"./x86_64\")\n",
    "    if compiled_folder.is_dir():\n",
    "        shutil.rmtree(compiled_folder)\n",
    "    shutil.copytree(model_folder / \"x86_64\", compiled_folder)"
   ]
  },
  {
   "cell_type": "code",
   "execution_count": null,
   "id": "6050e5ad",
   "metadata": {},
   "outputs": [],
   "source": [
    "data = pickle.load(open(result_folder / 'runs.pkl', 'rb'))\n",
    "df_optimization = pd.DataFrame(data)\n",
    "df_model = df_optimization.query(f\"model == '{model_name}'\")"
   ]
  },
  {
   "cell_type": "code",
   "execution_count": null,
   "id": "03964f12",
   "metadata": {},
   "outputs": [],
   "source": [
    "opt_soma = df_model.query(\"feature_set == 'soma'\")\n",
    "opt_extra = df_model.query(\"feature_set == 'extra'\")\n",
    "print(f\"Somatic optimizations: {len(opt_soma)}\")\n",
    "print(f\"Extra optimizations: {len(opt_extra)}\")"
   ]
  },
  {
   "cell_type": "code",
   "execution_count": null,
   "id": "ae5f5596",
   "metadata": {},
   "outputs": [],
   "source": [
    "protocols_file = data_folder / f\"{model_name}_ecode_probe_{probe_type}/efeatures/protocols_BPO.json\"\n",
    "features_file = data_folder /  f\"{model_name}_ecode_probe_{probe_type}/efeatures/features_BPO.json\""
   ]
  },
  {
   "cell_type": "code",
   "execution_count": null,
   "id": "3dc8c653",
   "metadata": {},
   "outputs": [],
   "source": [
    "ais_recordings = {}"
   ]
  },
  {
   "cell_type": "code",
   "execution_count": null,
   "id": "8f831330",
   "metadata": {},
   "outputs": [],
   "source": [
    "cell = model.create(model_name=model_name)\n",
    "cell_release = model.create(model_name=model_name, release=True)\n",
    "\n",
    "probe = model.define_electrode(probe_type=probe_type)\n",
    "# probe=None\n",
    "\n",
    "param_names = [param.name for param in cell.params.values() if not param.frozen]\n",
    "sim = ephys.simulators.LFPySimulator(cell, cvode_active=True, electrode=probe)\n",
    "\n",
    "params_release = {}\n",
    "for param in cell_release.params_by_names(param_names):\n",
    "    params_release[param.name] = param.value"
   ]
  },
  {
   "cell_type": "code",
   "execution_count": null,
   "id": "0907d21c",
   "metadata": {},
   "outputs": [],
   "source": [
    "params_release"
   ]
  },
  {
   "cell_type": "markdown",
   "id": "bed3f54f",
   "metadata": {},
   "source": [
    "# Test calcium spike"
   ]
  },
  {
   "cell_type": "code",
   "execution_count": null,
   "id": "5f7f251d",
   "metadata": {},
   "outputs": [],
   "source": [
    "def simulate_BAC_responses(cell, params, sim, pulse_delay=10, pulse_amp=1, pulse_dur=5,\n",
    "                           syn_tau=2, syn_weight=5, syn_delay=13, dend_y_stim=620,\n",
    "                           dend_y_rec=[400, 620]):\n",
    "    # instantiate\n",
    "    cell.freeze(param_dict=params)\n",
    "    cell.instantiate(sim=sim)\n",
    "    lfpy_cell = cell.LFPyCell\n",
    "    \n",
    "    # define args for stimuli\n",
    "    soma_args = {\n",
    "         'idx': 0,\n",
    "         'record_current': True,\n",
    "         'pptype': 'IClamp',\n",
    "         'amp': pulse_amp,\n",
    "         'dur': pulse_dur,\n",
    "         'delay': pulse_delay\n",
    "    }\n",
    "\n",
    "    stim = LFPy.StimIntElectrode(cell=lfpy_cell, **soma_args)\n",
    "\n",
    "    synapseParameters = {\n",
    "         'idx': lfpy_cell.get_closest_idx(x=0, y=dend_y_stim, z=0),\n",
    "         'e': 0,                               # reversal potential\n",
    "         'syntype': 'ExpSyn',                  # synapse type\n",
    "         'tau': syn_tau,                             # syn. time constant\n",
    "         'weight': syn_weight,                          # syn. weight\n",
    "         'record_current': True                # syn. current record\n",
    "    }\n",
    "\n",
    "    synapse = LFPy.Synapse(lfpy_cell, **synapseParameters)\n",
    "    synapse.set_spike_times(np.array([syn_delay]))\n",
    "    \n",
    "    # simulate\n",
    "    lfpy_cell.simulate(rec_vmem=True)\n",
    "    \n",
    "    # gather responses\n",
    "    responses = {}\n",
    "    responses[\"soma\"] = {}\n",
    "    responses[\"soma\"][\"time\"] = lfpy_cell.tvec\n",
    "    responses[\"soma\"][\"voltage\"] = lfpy_cell.vmem[0]\n",
    "    \n",
    "    for d in dend_y_rec:\n",
    "        responses[str(d)] = {}\n",
    "        d_idx = lfpy_cell.get_closest_idx(x=0, y=d, z=0)\n",
    "        resp = lfpy_cell.vmem[d_idx]\n",
    "        responses[str(d)][\"voltage\"] = resp\n",
    "        responses[str(d)][\"time\"] = lfpy_cell.tvec\n",
    "        \n",
    "    # destroy/unfreeze\n",
    "    cell.destroy(sim=sim)\n",
    "    cell.unfreeze(list(params.keys()))\n",
    "    \n",
    "    return responses"
   ]
  },
  {
   "cell_type": "code",
   "execution_count": null,
   "id": "3d20f7d1",
   "metadata": {},
   "outputs": [],
   "source": [
    "plt.figure()\n",
    "for resp_name, resp in resp_release.items():\n",
    "    plt.plot(resp[\"time\"], resp[\"voltage\"], label=resp_name)\n",
    "plt.legend()"
   ]
  },
  {
   "cell_type": "code",
   "execution_count": null,
   "id": "c11871ff",
   "metadata": {},
   "outputs": [],
   "source": [
    "kwargs = {\"syn_weight\": 2}"
   ]
  },
  {
   "cell_type": "code",
   "execution_count": null,
   "id": "713cde2b",
   "metadata": {},
   "outputs": [],
   "source": [
    "response_release = simulate_BAC_responses(cell, params_release, sim, **kwargs)\n",
    "\n",
    "print(\"Computing SOMA\")\n",
    "responses_soma = []\n",
    "for i, (index, opt) in enumerate(opt_soma.iterrows()):\n",
    "    print(f\"Computing {i + 1} / {len(opt_soma)}\")\n",
    "    params_dict = {k: v for k, v in zip(param_names, opt.best_params)}\n",
    "    response = simulate_BAC_responses(cell, params_dict, sim, **kwargs)\n",
    "    responses_soma.append(response)\n",
    "\n",
    "print(\"Computing EXTRA\")\n",
    "responses_extra = []\n",
    "for i, (index, opt) in enumerate(opt_extra.iterrows()):\n",
    "    print(f\"Computing {i + 1} / {len(opt_soma)}\")\n",
    "    params_dict = {k: v for k, v in zip(param_names, opt.best_params)}\n",
    "    response = simulate_BAC_responses(cell, params_dict, sim, **kwargs)\n",
    "    responses_extra.append(response)"
   ]
  },
  {
   "cell_type": "code",
   "execution_count": null,
   "id": "33b83f14",
   "metadata": {},
   "outputs": [],
   "source": [
    "ax_dict = {}\n",
    "\n",
    "loc_names = resp_release.keys()\n",
    "\n",
    "for loc in loc_names:\n",
    "    fig, ax = plt.subplots()\n",
    "    ax_dict[loc] = ax\n",
    "\n",
    "    for i, resp in enumerate(responses_soma):\n",
    "        if i == 0:\n",
    "            ax.plot(resp[loc][\"time\"], resp[loc][\"voltage\"], alpha=0.4, color=\"C0\", label=\"soma\")\n",
    "        else:\n",
    "            ax.plot(resp[loc][\"time\"], resp[loc][\"voltage\"], alpha=0.4, color=\"C0\")\n",
    "\n",
    "    for i, resp in enumerate(responses_extra):\n",
    "        if i == 0:\n",
    "            ax.plot(resp[loc][\"time\"], resp[loc][\"voltage\"], alpha=0.4, color=\"C1\", label=\"extra\")\n",
    "        else:\n",
    "            ax.plot(resp[loc][\"time\"], resp[loc][\"voltage\"], alpha=0.4, color=\"C1\")\n",
    "\n",
    "    ax.plot(resp_release[loc][\"time\"], resp_release[loc][\"voltage\"], alpha=0.8, color=\"k\", lw=2, \n",
    "            label=\"GT\")\n",
    "    ax.set_title(f\"Recording from {loc}\")\n",
    "    ax.legend()"
   ]
  },
  {
   "cell_type": "code",
   "execution_count": null,
   "id": "08ffa802",
   "metadata": {},
   "outputs": [],
   "source": []
  }
 ],
 "metadata": {
  "language_info": {
   "name": "python"
  }
 },
 "nbformat": 4,
 "nbformat_minor": 5
}
