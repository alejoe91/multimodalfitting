{
 "cells": [
  {
   "cell_type": "markdown",
   "metadata": {},
   "source": [
    "# Test model example"
   ]
  },
  {
   "cell_type": "code",
   "execution_count": null,
   "metadata": {},
   "outputs": [],
   "source": [
    "import json\n",
    "import sys\n",
    "import os\n",
    "import time\n",
    "import neuron\n",
    "from pathlib import Path\n",
    "\n",
    "import matplotlib.pyplot as plt\n",
    "\n",
    "import bluepyopt as bpopt\n",
    "import bluepyopt.ephys as ephys\n",
    "\n",
    "import shutil\n",
    "\n",
    "import model\n",
    "import evaluator\n",
    "import plotting\n",
    "\n",
    "# %matplotlib notebook\n",
    "%matplotlib inline"
   ]
  },
  {
   "cell_type": "code",
   "execution_count": null,
   "metadata": {},
   "outputs": [],
   "source": [
    "probe_type = \"linear\"\n",
    "model_name = \"hallermann\" #'hallermann' # \"hay\" hay_ais\n",
    "model_folder = (Path(\".\") / f\"{model_name}_model\").absolute()"
   ]
  },
  {
   "cell_type": "code",
   "execution_count": null,
   "metadata": {},
   "outputs": [],
   "source": [
    "# compile model-specific mechanisms\n",
    "if not (model_folder / \"x86_64\").is_dir():\n",
    "    curr_dir = Path(\".\").absolute()\n",
    "    os.chdir(model_folder)\n",
    "    print(os.getcwd())\n",
    "    os.system(\"nrnivmodl mechanisms\")\n",
    "    os.chdir(curr_dir)\n",
    "else:\n",
    "    print(f\"Mechanisms already compiled for {model_name}\")\n",
    "    compiled_folder = Path(\"./x86_64\")\n",
    "    if compiled_folder.is_dir():\n",
    "        shutil.rmtree(compiled_folder)\n",
    "    shutil.copytree(model_folder / \"x86_64\", compiled_folder)"
   ]
  },
  {
   "cell_type": "code",
   "execution_count": null,
   "metadata": {},
   "outputs": [],
   "source": [
    "cell = model.create(model_name=model_name, release=True)\n",
    "\n",
    "# probe = model.define_electrode(probe_type=probe_type)\n",
    "probe=None\n",
    "\n",
    "param_names = [param.name for param in cell.params.values() if not param.frozen]\n",
    "\n",
    "fitness_protocols = evaluator.define_protocols(\n",
    "    model_name,\n",
    "    feature_set=\"soma\",\n",
    "    feature_file=f\"{model_name}_model/features_list.json\",\n",
    "    electrode=probe,\n",
    "    protocols_with_lfp=[\"Step1\", \"bAP\", \"BAC\", \"EPSP\", \"CaBurst\"]\n",
    ")\n",
    "\n",
    "fitness_calculator = ephys.objectivescalculators.ObjectivesCalculator([])\n",
    "\n",
    "if model_name == 'hallermann':\n",
    "    sim = ephys.simulators.LFPySimulator(cell, cvode_active=False, electrode=probe)\n",
    "else:\n",
    "    sim = ephys.simulators.LFPySimulator(cell, cvode_active=True, electrode=probe)\n",
    "\n",
    "eva = ephys.evaluators.CellEvaluator(                    \n",
    "        cell_model=cell,                                                       \n",
    "        param_names=param_names,                                                    \n",
    "        fitness_protocols=fitness_protocols,                                        \n",
    "        fitness_calculator=fitness_calculator,                                      \n",
    "        sim=sim)"
   ]
  },
  {
   "cell_type": "code",
   "execution_count": null,
   "metadata": {
    "scrolled": true
   },
   "outputs": [],
   "source": [
    "fitness_protocols\n",
    "print(eva)"
   ]
  },
  {
   "cell_type": "code",
   "execution_count": null,
   "metadata": {},
   "outputs": [],
   "source": [
    "t_start = time.time()\n",
    "responses = eva.run_protocols(protocols=fitness_protocols.values(), param_values={})\n",
    "print(f\"Elapsed time: {time.time() - t_start}\")"
   ]
  },
  {
   "cell_type": "code",
   "execution_count": null,
   "metadata": {
    "scrolled": true
   },
   "outputs": [],
   "source": [
    "responses"
   ]
  },
  {
   "cell_type": "code",
   "execution_count": null,
   "metadata": {},
   "outputs": [],
   "source": [
    "plotting.plot_responses(responses)"
   ]
  },
  {
   "cell_type": "code",
   "execution_count": null,
   "metadata": {},
   "outputs": [],
   "source": []
  }
 ],
 "metadata": {
  "kernelspec": {
   "display_name": "lfpenv",
   "language": "python",
   "name": "lfpenv"
  },
  "language_info": {
   "codemirror_mode": {
    "name": "ipython",
    "version": 3
   },
   "file_extension": ".py",
   "mimetype": "text/x-python",
   "name": "python",
   "nbconvert_exporter": "python",
   "pygments_lexer": "ipython3",
   "version": "3.8.3"
  }
 },
 "nbformat": 4,
 "nbformat_minor": 5
}
