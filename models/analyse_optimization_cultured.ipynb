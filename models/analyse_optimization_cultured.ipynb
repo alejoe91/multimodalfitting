{
 "cells": [
  {
   "cell_type": "code",
   "execution_count": null,
   "metadata": {},
   "outputs": [],
   "source": [
    "import pickle\n",
    "import os\n",
    "import glob\n",
    "from pathlib import Path\n",
    "import matplotlib.pyplot as plt\n",
    "\n",
    "import evaluator"
   ]
  },
  {
   "cell_type": "code",
   "execution_count": null,
   "metadata": {},
   "outputs": [],
   "source": [
    "probe_type = \"\"\n",
    "model_name = 'cultured'\n",
    "model_folder = (Path(\".\") / f\"{model_name}_model\").absolute()"
   ]
  },
  {
   "cell_type": "code",
   "execution_count": null,
   "metadata": {},
   "outputs": [],
   "source": [
    "eva = evaluator.create_evaluator(\n",
    "    model_name=model_name,\n",
    "    feature_set=\"soma\",\n",
    "    sample_id=None,\n",
    "    feature_file=\"./cultured_model/features.json\"\n",
    ")\n",
    "\n",
    "eva.fitness_protocols"
   ]
  },
  {
   "cell_type": "code",
   "execution_count": null,
   "metadata": {},
   "outputs": [],
   "source": [
    "runs = []\n",
    "\n",
    "for path in glob.glob(\"./optimization_results/checkpoints/*.tmp\"):\n",
    "    \n",
    "    print(path)\n",
    "    \n",
    "    run = pickle.load(open(path, \"rb\"))\n",
    "\n",
    "    run['best_params'] = eva.param_dict(run['halloffame'][0])\n",
    "    run['responses'] = eva.run_protocols(\n",
    "        protocols=eva.fitness_protocols.values(),\n",
    "        param_values=run['best_params']\n",
    "    )\n",
    "\n",
    "    runs.append(run)"
   ]
  },
  {
   "cell_type": "code",
   "execution_count": null,
   "metadata": {},
   "outputs": [],
   "source": [
    "def plot_responses(responses):\n",
    "    fig, axes = plt.subplots(len(responses), figsize=(8, 5), squeeze=False)\n",
    "    for index, (resp_name, response) in enumerate(sorted(responses.items())):\n",
    "        axes[index, 0].plot(response['time'], response['voltage'], label=resp_name)\n",
    "        axes[index, 0].set_title(resp_name)\n",
    "        \n",
    "        if  \"APWaveform\" in resp_name:\n",
    "            axes[index, 0].set_xlim(450, 700)\n",
    "\n",
    "    fig.tight_layout()\n",
    "    plt.show()"
   ]
  },
  {
   "cell_type": "code",
   "execution_count": null,
   "metadata": {},
   "outputs": [],
   "source": [
    "import pprint\n",
    "\n",
    "for run in runs:\n",
    "\n",
    "    feature_names = [obj.name for obj in eva.fitness_calculator.objectives]\n",
    "    scores = dict(zip(feature_names, run['halloffame'][0].fitness.values))\n",
    "    \n",
    "    print()\n",
    "    print(\"\\nFitness: {}\".format(sum(run['halloffame'][0].fitness.values)))\n",
    "    print(\"\\nScores: \")\n",
    "    pprint.pprint(scores)\n",
    "\n",
    "    #print(\"Parameters:\")\n",
    "    #pprint.pprint(run['best_params'])\n",
    "\n",
    "    plot_responses(run['responses'])"
   ]
  },
  {
   "cell_type": "code",
   "execution_count": null,
   "metadata": {},
   "outputs": [],
   "source": [
    "import numpy\n",
    "from scipy.ndimage import gaussian_filter1d\n",
    "\n",
    "for run in runs:\n",
    "    plt.plot(numpy.cumsum(run['logbook'].select(\"nevals\")), run[\"logbook\"].select(\"min\"))\n",
    "    #plt.plot(numpy.cumsum(run['logbook'].select(\"nevals\")), gaussian_filter1d(run[\"logbook\"].select(\"min\"), 2))"
   ]
  },
  {
   "cell_type": "code",
   "execution_count": null,
   "metadata": {},
   "outputs": [],
   "source": [
    "import logging\n",
    "logger = logging.getLogger()\n",
    "logger.setLevel(logging.DEBUG)\n",
    "\n",
    "ch = logging.StreamHandler()\n",
    "ch.setLevel(logging.DEBUG)\n",
    "logger.addHandler(ch)"
   ]
  }
 ],
 "metadata": {
  "kernelspec": {
   "display_name": "Python 3",
   "language": "python",
   "name": "python3"
  },
  "language_info": {
   "codemirror_mode": {
    "name": "ipython",
    "version": 3
   },
   "file_extension": ".py",
   "mimetype": "text/x-python",
   "name": "python",
   "nbconvert_exporter": "python",
   "pygments_lexer": "ipython3",
   "version": "3.7.4"
  }
 },
 "nbformat": 4,
 "nbformat_minor": 5
}
