{
 "cells": [
  {
   "cell_type": "markdown",
   "metadata": {},
   "source": [
    "# Generate experimental features -  Cell 1 - 010321"
   ]
  },
  {
   "cell_type": "code",
   "execution_count": null,
   "metadata": {},
   "outputs": [],
   "source": [
    "import json\n",
    "import matplotlib.pyplot as plt\n",
    "\n",
    "import bluepyopt as bpopt\n",
    "import bluepyopt.ephys as ephys\n",
    "\n",
    "import model\n",
    "import evaluator\n",
    "import time\n",
    "import neuron\n",
    "import plotting\n",
    "import MEAutility as mu\n",
    "from pprint import pprint\n",
    "import numpy as np\n",
    "\n",
    "import sys\n",
    "import shutil\n",
    "\n",
    "from pathlib import Path\n",
    "import os\n",
    "\n",
    "%matplotlib notebook"
   ]
  },
  {
   "cell_type": "markdown",
   "metadata": {},
   "source": [
    "## 1) Generate features and protocols with BluePyEfe"
   ]
  },
  {
   "cell_type": "code",
   "execution_count": null,
   "metadata": {},
   "outputs": [],
   "source": [
    "sys.path.append('../efeatures_extraction')"
   ]
  },
  {
   "cell_type": "code",
   "execution_count": null,
   "metadata": {},
   "outputs": [],
   "source": [
    "data_folder = Path(\"../data/experimental/cell1_210301/\")"
   ]
  },
  {
   "cell_type": "code",
   "execution_count": null,
   "metadata": {},
   "outputs": [],
   "source": [
    "extra_folder = data_folder / \"extracellular\""
   ]
  },
  {
   "cell_type": "code",
   "execution_count": null,
   "metadata": {},
   "outputs": [],
   "source": [
    "with (extra_folder / \"probe.json\").open() as f:\n",
    "    probe_info = json.load(f)\n",
    "    probe_info[\"pitch\"] = 17.5\n",
    "    probe = mu.return_mea(info=probe_info)"
   ]
  },
  {
   "cell_type": "code",
   "execution_count": null,
   "metadata": {},
   "outputs": [],
   "source": [
    "eap = np.load(extra_folder / \"template.npy\")\n",
    "locations = np.load(extra_folder / \"locations.npy\")\n",
    "fs = 20000"
   ]
  },
  {
   "cell_type": "code",
   "execution_count": null,
   "metadata": {},
   "outputs": [],
   "source": [
    "mu.plot_mea_recording(eap, probe)"
   ]
  },
  {
   "cell_type": "code",
   "execution_count": null,
   "metadata": {},
   "outputs": [],
   "source": [
    "efeatures_output_directory = Path(f\"../data/experimental/cell1_210301/efeatures\")\n",
    "ephys_dir = Path(\"../data/experimental/cell1_210301/patch_data/\")"
   ]
  },
  {
   "cell_type": "code",
   "execution_count": null,
   "metadata": {},
   "outputs": [],
   "source": [
    "from bluepyefe.extract import read_recordings, extract_efeatures_at_targets, compute_rheobase,\\\n",
    "    mean_efeatures, create_feature_protocol_files\n",
    "from bluepyefe.plotting import plot_all_recordings_efeatures\n",
    "\n",
    "from extraction_tools import build_wcp_metadata, wcp_reader, get_targets, ecodes_wcp_timings"
   ]
  },
  {
   "cell_type": "code",
   "execution_count": null,
   "metadata": {},
   "outputs": [],
   "source": [
    "# select files for different repetitions"
   ]
  },
  {
   "cell_type": "code",
   "execution_count": null,
   "metadata": {},
   "outputs": [],
   "source": [
    "runs = [2, 3, 4]  # run1 --> different rheobase\n",
    "\n",
    "ecode_to_index = {\n",
    "    \"IDthres\": 0,\n",
    "    \"firepattern\": 1,\n",
    "    \"IV\": 2,\n",
    "    \"IDrest\": 3,\n",
    "    \"APWaveform\": 4,\n",
    "    \"HyperDepol\": 5,\n",
    "    \"sAHP\": 6,\n",
    "    \"PosCheops\": 7\n",
    "}\n",
    "\n",
    "files_list = []\n",
    "\n",
    "for run in runs:\n",
    "    rep_dict = {}\n",
    "    for ecode in ecode_to_index:\n",
    "        rep_dict[ecode] = Path(ephys_dir) / f\"cell1_run{run}.{ecode_to_index[ecode]}.wcp\"\n",
    "    files_list.append(rep_dict)"
   ]
  },
  {
   "cell_type": "code",
   "execution_count": null,
   "metadata": {},
   "outputs": [],
   "source": [
    "\n",
    "# define timings for this experiment\n",
    "ecodes_cell1_timings = {\n",
    "    \"IDthres\": {\n",
    "        'ton': 200,\n",
    "        'toff': 470\n",
    "    },\n",
    "    \"firepattern\": {\n",
    "        'ton': 500,\n",
    "        'toff': 4100\n",
    "    },\n",
    "    \"IV\": {\n",
    "        'ton': 250,\n",
    "        'toff': 3250\n",
    "    },\n",
    "    \"IDrest\": {\n",
    "        'ton': 200,\n",
    "        'toff': 1550\n",
    "    },\n",
    "    \"APWaveform\": {\n",
    "        'ton': 150,\n",
    "        'toff': 200\n",
    "    },\n",
    "    \"HyperDepol\": {\n",
    "        'ton': 200,\n",
    "        'toff': 920,\n",
    "        'tmid': 650\n",
    "    },\n",
    "    \"sAHP\": {\n",
    "        'ton': 200,\n",
    "        'toff': 1125,\n",
    "        'tmid': 450,\n",
    "        'tmid2': 675\n",
    "    },\n",
    "    \"PosCheops\": {\n",
    "        'ton': 1000,\n",
    "        't1': 9000,\n",
    "        't2': 10500,\n",
    "        't3': 14500,\n",
    "        't4': 16000,\n",
    "        'toff': 18660\n",
    "    }\n",
    "}"
   ]
  },
  {
   "cell_type": "code",
   "execution_count": null,
   "metadata": {},
   "outputs": [],
   "source": [
    "files_list"
   ]
  },
  {
   "cell_type": "code",
   "execution_count": null,
   "metadata": {},
   "outputs": [],
   "source": [
    "files_metadata = build_wcp_metadata(cell_id=\"cell1_010321\", files_list=files_list, \n",
    "                                    ecode_timings=ecodes_cell1_timings, \n",
    "                                    repetition_as_different_cells=False)\n",
    "pprint(files_metadata[\"cell1_010321\"])"
   ]
  },
  {
   "cell_type": "code",
   "execution_count": null,
   "metadata": {},
   "outputs": [],
   "source": [
    "cells = read_recordings(\n",
    "    files_metadata=files_metadata,\n",
    "    recording_reader=wcp_reader\n",
    ")"
   ]
  },
  {
   "cell_type": "code",
   "execution_count": null,
   "metadata": {},
   "outputs": [],
   "source": [
    "# define target features for different protocols\n",
    "targets = get_targets(ecodes_cell1_timings)"
   ]
  },
  {
   "cell_type": "code",
   "execution_count": null,
   "metadata": {},
   "outputs": [],
   "source": [
    "targets[\"firepattern\"][\"tolerances\"] = [20, 40]\n",
    "targets[\"IDrest\"][\"tolerances\"] = [20]\n",
    "targets[\"PosCheops\"][\"tolerances\"] = [50]\n",
    "targets[\"HyperDepol\"][\"tolerances\"] = [40]\n",
    "targets[\"APWaveform\"][\"tolerances\"] = [40]\n",
    "targets[\"sAHP\"][\"tolerances\"] = [40]"
   ]
  },
  {
   "cell_type": "code",
   "execution_count": null,
   "metadata": {},
   "outputs": [],
   "source": [
    "pprint(targets)"
   ]
  },
  {
   "cell_type": "code",
   "execution_count": null,
   "metadata": {},
   "outputs": [],
   "source": [
    "t_start = time.time()\n",
    "extract_efeatures_at_targets(\n",
    "    cells, \n",
    "    targets,\n",
    ")\n",
    "t_stop = time.time()\n",
    "print(f\"Elapsed time {t_stop - t_start}\")"
   ]
  },
  {
   "cell_type": "code",
   "execution_count": null,
   "metadata": {},
   "outputs": [],
   "source": [
    "compute_rheobase(\n",
    "    cells, \n",
    "    protocols_rheobase=['IDthres']\n",
    ")"
   ]
  },
  {
   "cell_type": "code",
   "execution_count": null,
   "metadata": {},
   "outputs": [],
   "source": [
    "print(f\"Cell rheobase: {cells[0].rheobase}\")"
   ]
  },
  {
   "cell_type": "code",
   "execution_count": null,
   "metadata": {},
   "outputs": [],
   "source": [
    "for cell in cells:\n",
    "    for recording in cell.recordings:\n",
    "        if recording.protocol_name == \"sAHP\":\n",
    "            print(recording.protocol_name, recording.amp_rel, recording.amp2_rel)\n",
    "        else:\n",
    "            print(recording.protocol_name, recording.amp_rel)"
   ]
  },
  {
   "cell_type": "code",
   "execution_count": null,
   "metadata": {},
   "outputs": [],
   "source": [
    "targets"
   ]
  },
  {
   "cell_type": "code",
   "execution_count": null,
   "metadata": {},
   "outputs": [],
   "source": [
    "protocols = mean_efeatures(cells, targets, use_global_rheobase=True)"
   ]
  },
  {
   "cell_type": "code",
   "execution_count": null,
   "metadata": {},
   "outputs": [],
   "source": [
    "len(protocols)"
   ]
  },
  {
   "cell_type": "code",
   "execution_count": null,
   "metadata": {},
   "outputs": [],
   "source": [
    "efeatures, protocol_definitions, current = create_feature_protocol_files(\n",
    "    cells,\n",
    "    protocols,\n",
    "    output_directory=efeatures_output_directory,\n",
    "    threshold_nvalue_save=1,\n",
    "    write_files=False,\n",
    ")"
   ]
  },
  {
   "cell_type": "code",
   "execution_count": null,
   "metadata": {},
   "outputs": [],
   "source": [
    "# make df\n",
    "protocol_array = []\n",
    "feat_names = []\n",
    "feat_values = []\n",
    "\n",
    "for k, v in efeatures.items():\n",
    "    for feat in v[\"soma\"]:\n",
    "        protocol_array.append(k) \n",
    "        feat_names.append(feat[\"feature\"])\n",
    "        feat_values.append(feat[\"val\"][0])        "
   ]
  },
  {
   "cell_type": "code",
   "execution_count": null,
   "metadata": {},
   "outputs": [],
   "source": [
    "import pandas as pd\n",
    "import seaborn as sns"
   ]
  },
  {
   "cell_type": "code",
   "execution_count": null,
   "metadata": {},
   "outputs": [],
   "source": [
    "df = pd.DataFrame({\"protocol\": protocol_array, \"name\": feat_names, \"value\": feat_values})"
   ]
  },
  {
   "cell_type": "code",
   "execution_count": null,
   "metadata": {},
   "outputs": [],
   "source": [
    "f, ax = plt.subplots()\n",
    "sns.barplot(data=df, x=\"name\", y=\"value\")\n",
    "ax.set_xticklabels([])\n",
    "ax.set_xlabel(\"Intracellular features\", fontsize=15)\n",
    "ax.set_ylabel(\"Values\", fontsize=15)\n",
    "ax.spines[\"top\"].set_visible(False)\n",
    "ax.spines[\"right\"].set_visible(False)"
   ]
  },
  {
   "cell_type": "code",
   "execution_count": null,
   "metadata": {},
   "outputs": [],
   "source": [
    "efeatures[\"firepattern_120\"]"
   ]
  },
  {
   "cell_type": "markdown",
   "metadata": {},
   "source": [
    "## 3) Convert to BPO format and append extra features"
   ]
  },
  {
   "cell_type": "code",
   "execution_count": null,
   "metadata": {},
   "outputs": [],
   "source": [
    "from extraction_tools import convert_to_bpo_format, append_extrafeatures_to_json, compute_extra_features"
   ]
  },
  {
   "cell_type": "code",
   "execution_count": null,
   "metadata": {},
   "outputs": [],
   "source": [
    "protocols_of_interest = [\"firepattern_200\", \"IV_-100\", \"APWaveform_260\"]\n",
    "\n",
    "in_protocol_path = efeatures_output_directory / \"protocols.json\"\n",
    "in_efeatures_path = efeatures_output_directory / \"features.json\"\n",
    "\n",
    "out_protocol_path = efeatures_output_directory / \"protocols_BPO.json\"\n",
    "out_efeatures_path = efeatures_output_directory / \"features_BPO.json\""
   ]
  },
  {
   "cell_type": "code",
   "execution_count": null,
   "metadata": {},
   "outputs": [],
   "source": [
    "protocols_dict, efeatures_dict = convert_to_bpo_format(in_protocol_path, in_efeatures_path, \n",
    "                                                       out_protocol_path, out_efeatures_path, \n",
    "                                                       protocols_of_interest=protocols_of_interest, \n",
    "                                                       std_from_mean=0.2)"
   ]
  },
  {
   "cell_type": "code",
   "execution_count": null,
   "metadata": {},
   "outputs": [],
   "source": [
    "pprint(efeatures_dict)"
   ]
  },
  {
   "cell_type": "code",
   "execution_count": null,
   "metadata": {},
   "outputs": [],
   "source": [
    "extra_features = compute_extra_features(eap, fs, upsample=10)"
   ]
  },
  {
   "cell_type": "code",
   "execution_count": null,
   "metadata": {},
   "outputs": [],
   "source": [
    "pprint(extra_features.keys())"
   ]
  },
  {
   "cell_type": "code",
   "execution_count": null,
   "metadata": {},
   "outputs": [],
   "source": [
    "efeatures_dict = append_extrafeatures_to_json(extra_features, protocol_name=\"firepattern_200\",\n",
    "                                              efeatures_path=out_efeatures_path)"
   ]
  },
  {
   "cell_type": "code",
   "execution_count": null,
   "metadata": {},
   "outputs": [],
   "source": [
    "pprint(efeatures_dict[\"extra\"][\"firepattern_200\"])"
   ]
  },
  {
   "cell_type": "code",
   "execution_count": null,
   "metadata": {},
   "outputs": [],
   "source": []
  },
  {
   "cell_type": "code",
   "execution_count": null,
   "metadata": {},
   "outputs": [],
   "source": [
    "# plot one extra features\n",
    "plotting.plot_feature_map(extra_features[\"pos_peak_diff\"], probe, bg=False)"
   ]
  },
  {
   "cell_type": "markdown",
   "metadata": {},
   "source": [
    "# Threshold EAP, compute extra features and save probe json file"
   ]
  },
  {
   "cell_type": "code",
   "execution_count": null,
   "metadata": {},
   "outputs": [],
   "source": [
    "def plot_feature_w_colorbar(extra_features, feat_name, label, height_ratio=[10, 1]):\n",
    "    import matplotlib as mpl\n",
    "    \n",
    "    fig, axs = plt.subplots(\n",
    "        nrows=2, ncols=1, \n",
    "        gridspec_kw={'height_ratios': height_ratio}\n",
    "        )\n",
    "\n",
    "    plotting.plot_feature_map(extra_features_above[feat_name], probe_above, bg=False, ax=axs[0])\n",
    "\n",
    "    cmap = plt.get_cmap(\"viridis\")\n",
    "    norm = mpl.colors.Normalize(vmin=np.min(extra_features_above[feat_name]), \n",
    "                                vmax=np.max(extra_features_above[feat_name]))\n",
    "\n",
    "    cb1 = mpl.colorbar.ColorbarBase(axs[1], cmap=cmap,\n",
    "                                    norm=norm,\n",
    "                                    orientation='horizontal')\n",
    "    \n",
    "    cb1.set_label(label)\n",
    "        \n",
    "    fig.suptitle(feat_name, fontsize=15)\n",
    "    \n",
    "    return fig"
   ]
  },
  {
   "cell_type": "code",
   "execution_count": null,
   "metadata": {},
   "outputs": [],
   "source": [
    "extra_features_above.keys()"
   ]
  },
  {
   "cell_type": "code",
   "execution_count": null,
   "metadata": {},
   "outputs": [],
   "source": [
    "thresh_uV = 5"
   ]
  },
  {
   "cell_type": "code",
   "execution_count": null,
   "metadata": {},
   "outputs": [],
   "source": [
    "amp_eap = np.ptp(eap, 1)\n",
    "above_tr = np.where(amp_eap > thresh_uV)\n",
    "eap_above = eap[above_tr]\n",
    "extra_features_above = compute_extra_features(eap_above, fs, upsample=10)\n",
    "probe_info = probe.info\n",
    "probe_info[\"pos\"] = locations[above_tr]\n",
    "probe_above = mu.return_mea(info=probe_info)"
   ]
  },
  {
   "cell_type": "code",
   "execution_count": null,
   "metadata": {},
   "outputs": [],
   "source": [
    "for k, v in extra_features_above.items():\n",
    "    print(k, min(v), max(v))"
   ]
  },
  {
   "cell_type": "code",
   "execution_count": null,
   "metadata": {},
   "outputs": [],
   "source": [
    "plt.figure()\n",
    "plt.plot(eap_above.T, \"k\", alpha=0.5)\n",
    "plt.plot(eap_above[219], \"C1\", alpha=1)"
   ]
  },
  {
   "cell_type": "code",
   "execution_count": null,
   "metadata": {},
   "outputs": [],
   "source": [
    "f = plot_feature_w_colorbar(extra_features_above, \"neg_image\", 'Rel. Amplitude')\n",
    "f = plot_feature_w_colorbar(extra_features_above, \"pos_image\", 'Rel. Amplitude')\n",
    "f = plot_feature_w_colorbar(extra_features_above, \"neg_peak_diff\", 'time (s)')\n",
    "f = plot_feature_w_colorbar(extra_features_above, \"peak_to_valley\", 'time (s)')"
   ]
  },
  {
   "cell_type": "code",
   "execution_count": null,
   "metadata": {},
   "outputs": [],
   "source": [
    "fig, axs = plt.subplots(\n",
    "        nrows=2, ncols=1, \n",
    "        gridspec_kw={'height_ratios': [10, 1]}\n",
    "        )\n",
    "\n",
    "plotting.plot_feature_map(extra_features_above[\"neg_image\"], probe_above, bg=False, ax=axs[0])\n",
    "\n",
    "cmap = plt.get_cmap(\"viridis\")\n",
    "norm = mpl.colors.Normalize(vmin=np.min(extra_features_above[\"neg_image\"]), \n",
    "                            vmax=np.max(extra_features_above[\"neg_image\"]))\n",
    "\n",
    "cb1 = mpl.colorbar.ColorbarBase(axs[1], cmap=cmap,\n",
    "                                norm=norm,\n",
    "                                orientation='horizontal')\n",
    "cb1.set_label('Amplitude (uV)')"
   ]
  },
  {
   "cell_type": "code",
   "execution_count": null,
   "metadata": {},
   "outputs": [],
   "source": [
    "extra_features_above[\"neg_image\"]"
   ]
  },
  {
   "cell_type": "code",
   "execution_count": null,
   "metadata": {},
   "outputs": [],
   "source": [
    "plotting.plot_feature_map(extra_features_above[\"pos_image\"], probe_above, bg=False)"
   ]
  },
  {
   "cell_type": "code",
   "execution_count": null,
   "metadata": {},
   "outputs": [],
   "source": [
    "plotting.plot_feature_map(extra_features_above[\"neg_image\"], probe_above, bg=False)"
   ]
  },
  {
   "cell_type": "code",
   "execution_count": null,
   "metadata": {},
   "outputs": [],
   "source": [
    "plt.figure()\n",
    "_ = plt.plot(eap[above_tr].T, \"k\")"
   ]
  },
  {
   "cell_type": "code",
   "execution_count": null,
   "metadata": {},
   "outputs": [],
   "source": [
    "import bluepyopt.ephys as ephys"
   ]
  },
  {
   "cell_type": "code",
   "execution_count": null,
   "metadata": {},
   "outputs": [],
   "source": [
    "morph = ephys.morphologies.NrnFileMorphology(\"../data/experimental/cell1_210301/morphology_corrected.swc\")"
   ]
  },
  {
   "cell_type": "code",
   "execution_count": null,
   "metadata": {},
   "outputs": [],
   "source": [
    "sim = ephys.simulators.NrnSimulator()"
   ]
  },
  {
   "cell_type": "code",
   "execution_count": null,
   "metadata": {},
   "outputs": [],
   "source": [
    "morph.instantiate(sim=sim)"
   ]
  },
  {
   "cell_type": "code",
   "execution_count": null,
   "metadata": {},
   "outputs": [],
   "source": [
    "seclist_names = ['all', 'somatic', 'basal', 'apical', 'axon_initial_segment', 'hillockal', 'myelinated', 'axonal']\n",
    "secarray_names = ['soma', 'dend', 'apic', 'axon', 'ais', 'hillock', 'myelin' ]"
   ]
  },
  {
   "cell_type": "code",
   "execution_count": null,
   "metadata": {},
   "outputs": [],
   "source": [
    "cell = ephys.models.LFPyCellModel(\n",
    "        \"cell1\",\n",
    "        v_init=-70,\n",
    "        morph=morph,\n",
    "        mechs=None,\n",
    "        params=None,\n",
    "        seclist_names=seclist_names,\n",
    "        secarray_names=secarray_names\n",
    "    )"
   ]
  },
  {
   "cell_type": "code",
   "execution_count": null,
   "metadata": {},
   "outputs": [],
   "source": [
    "import LFPy\n",
    "import neuron\n",
    "import neuroplotlib as nplt"
   ]
  },
  {
   "cell_type": "code",
   "execution_count": null,
   "metadata": {},
   "outputs": [],
   "source": [
    "cell_lfpy = LFPy.Cell(morphology=\"../data/experimental/cell1_210301/morphology_corrected.swc\",\n",
    "                      pt3d=True)"
   ]
  },
  {
   "cell_type": "code",
   "execution_count": null,
   "metadata": {},
   "outputs": [],
   "source": [
    "cell_lfpy.allsecnames"
   ]
  },
  {
   "cell_type": "code",
   "execution_count": null,
   "metadata": {},
   "outputs": [],
   "source": [
    "delete_section_name = \"dend_7\"\n",
    "rename_section_name = \"ais[0]\"\n",
    "\n",
    "sec_renamed = neuron.h.Section(name=rename_section_name)\n",
    "for sec in icell.allsec():\n",
    "    if delete_section_name in sec.name():\n",
    "        n3d = sec.n3d()\n",
    "        for i in range(n3d):\n",
    "            diams.append(sec.diam3d(i))\n",
    "            pt3d.append([sec.x3d(i), sec.y3d(i), sec.z3d(i)])\n",
    "            neuron.h.pt3dadd(sec.x3d(i), sec.y3d(i), sec.z3d(i), sec.diam3d(i), sec=sec_renamed)  \n",
    "        parentseg = sec.parentseg()\n",
    "        children = sec.children()\n",
    "        neuron.h.pt3dclear(sec=sec)\n",
    "        neuron.h.delete_section(sec=sec)\n",
    "        break\n",
    "\n",
    "sec_renamed.connect(parentseg.sec, 1.0, 0.0)\n",
    "for child in children:\n",
    "    child.connect(sec_renamed, 1.0, 0.0)\n",
    "\n",
    "cell_lfpy2 = LFPy.Cell(morphology=neuron.h.allsec(), pt3d=True)"
   ]
  },
  {
   "cell_type": "code",
   "execution_count": null,
   "metadata": {},
   "outputs": [],
   "source": [
    "for sec in neuron.h.allsec():\n",
    "    print(sec.name())"
   ]
  },
  {
   "cell_type": "code",
   "execution_count": null,
   "metadata": {},
   "outputs": [],
   "source": [
    "for sec in cell_lfpy2.allseclist:\n",
    "    print(sec.name())"
   ]
  },
  {
   "cell_type": "code",
   "execution_count": null,
   "metadata": {},
   "outputs": [],
   "source": [
    "%matplotlib notebook"
   ]
  },
  {
   "cell_type": "code",
   "execution_count": null,
   "metadata": {},
   "outputs": [],
   "source": [
    "nplt.plot_detailed_neuron(cell_lfpy2, color_ais=\"g\", plane=\"xy\")"
   ]
  },
  {
   "cell_type": "code",
   "execution_count": null,
   "metadata": {},
   "outputs": [],
   "source": [
    "cell_lfpy2.allsecnames"
   ]
  },
  {
   "cell_type": "code",
   "execution_count": null,
   "metadata": {},
   "outputs": [],
   "source": [
    "cell_lfpy.get_idx_parent_children('dend_7[0]')"
   ]
  },
  {
   "cell_type": "code",
   "execution_count": null,
   "metadata": {},
   "outputs": [],
   "source": [
    "sec_ais = neuron.h.Section(rename_section_name)"
   ]
  },
  {
   "cell_type": "code",
   "execution_count": null,
   "metadata": {},
   "outputs": [],
   "source": [
    "cell_lfpy.get_idx_parent_children?"
   ]
  },
  {
   "cell_type": "code",
   "execution_count": null,
   "metadata": {},
   "outputs": [],
   "source": [
    "sec_ais.trueparentseg()"
   ]
  },
  {
   "cell_type": "code",
   "execution_count": null,
   "metadata": {},
   "outputs": [],
   "source": [
    "#we erase the 3d info from the section and replace with the new interpolated 3d info\n",
    "for i in range(len(pt3d)):\n",
    "    neuron.h.pt3dadd(pt3d[i][0], pt3d[i][1], pt3d[i][2], diams[i], sec=sec_ais)  "
   ]
  },
  {
   "cell_type": "code",
   "execution_count": null,
   "metadata": {},
   "outputs": [],
   "source": []
  },
  {
   "cell_type": "code",
   "execution_count": null,
   "metadata": {},
   "outputs": [],
   "source": [
    "for sec in cell_lfpy.allseclist:\n",
    "    print(sec.name())"
   ]
  },
  {
   "cell_type": "code",
   "execution_count": null,
   "metadata": {},
   "outputs": [],
   "source": []
  }
 ],
 "metadata": {
  "language_info": {
   "name": "python"
  }
 },
 "nbformat": 4,
 "nbformat_minor": 1
}
