{
 "cells": [
  {
   "cell_type": "markdown",
   "id": "f278ad77",
   "metadata": {},
   "source": [
    "# Validation - BAC response of models\n",
    "\n",
    "This notebook evaluates qualitatively the capability of fitted models to reproduce BAC behavior."
   ]
  },
  {
   "cell_type": "code",
   "execution_count": null,
   "id": "de6ec5c5",
   "metadata": {},
   "outputs": [],
   "source": [
    "import json\n",
    "import sys\n",
    "import os\n",
    "import time\n",
    "import neuron\n",
    "from pathlib import Path\n",
    "\n",
    "import matplotlib.pyplot as plt\n",
    "import neuroplotlib as nplt\n",
    "\n",
    "import bluepyopt as bpopt\n",
    "import bluepyopt.ephys as ephys\n",
    "\n",
    "import LFPy\n",
    "import neuron\n",
    "import numpy as np\n",
    "\n",
    "import shutil\n",
    "\n",
    "import model\n",
    "import evaluator\n",
    "import plotting\n",
    "import utils\n",
    "\n",
    "# %matplotlib notebook\n",
    "%matplotlib notebook"
   ]
  },
  {
   "cell_type": "code",
   "execution_count": null,
   "id": "e3415b31",
   "metadata": {},
   "outputs": [],
   "source": [
    "probe_type = \"planar\"\n",
    "model_name = \"hay\" #'hallermann' # \"hay\" hay_ais\n",
    "model_folder = (Path(\".\") / f\"{model_name}_model\").absolute()"
   ]
  },
  {
   "cell_type": "code",
   "execution_count": null,
   "id": "f8543b20",
   "metadata": {},
   "outputs": [],
   "source": [
    "# compile model-specific mechanisms\n",
    "if not (model_folder / \"x86_64\").is_dir():\n",
    "    curr_dir = Path(\".\").absolute()\n",
    "    os.chdir(model_folder)\n",
    "    print(os.getcwd())\n",
    "    os.system(\"nrnivmodl mechanisms\")\n",
    "    os.chdir(curr_dir)\n",
    "else:\n",
    "    print(f\"Mechanisms already compiled for {model_name}\")\n",
    "    compiled_folder = Path(\"./x86_64\")\n",
    "    if compiled_folder.is_dir():\n",
    "        shutil.rmtree(compiled_folder)\n",
    "    shutil.copytree(model_folder / \"x86_64\", compiled_folder)"
   ]
  },
  {
   "cell_type": "code",
   "execution_count": null,
   "id": "ae5f5596",
   "metadata": {},
   "outputs": [],
   "source": [
    "protocols_file = \"../data/hay_ecode_probe_planar/efeatures/protocols_BPO.json\"\n",
    "features_file = \"../data/hay_ecode_probe_planar/efeatures/features_BPO.json\""
   ]
  },
  {
   "cell_type": "code",
   "execution_count": null,
   "id": "3dc8c653",
   "metadata": {},
   "outputs": [],
   "source": [
    "ais_recordings = {}"
   ]
  },
  {
   "cell_type": "code",
   "execution_count": null,
   "id": "8f831330",
   "metadata": {},
   "outputs": [],
   "source": [
    "cell = model.create(model_name=model_name, release=True, v_init=-65)\n",
    "\n",
    "probe = model.define_electrode(probe_type=probe_type)\n",
    "# probe=None\n",
    "\n",
    "param_names = [param.name for param in cell.params.values() if not param.frozen]\n",
    "\n",
    "if model_name == 'hallermann':\n",
    "    sim = ephys.simulators.LFPySimulator(cell, cvode_active=False, electrode=probe)\n",
    "else:\n",
    "    sim = ephys.simulators.LFPySimulator(cell, cvode_active=True, electrode=probe)"
   ]
  },
  {
   "cell_type": "markdown",
   "id": "c561fc0e",
   "metadata": {},
   "source": [
    "# Test calcium spike"
   ]
  },
  {
   "cell_type": "code",
   "execution_count": null,
   "id": "3d20f7d1",
   "metadata": {},
   "outputs": [],
   "source": [
    "cell.freeze(param_dict={})"
   ]
  },
  {
   "cell_type": "code",
   "execution_count": null,
   "id": "e9825d10",
   "metadata": {},
   "outputs": [],
   "source": [
    "cell.instantiate(sim=sim)"
   ]
  },
  {
   "cell_type": "code",
   "execution_count": null,
   "id": "5c906ca3",
   "metadata": {},
   "outputs": [],
   "source": [
    "lfpy_cell = cell.LFPyCell"
   ]
  },
  {
   "cell_type": "markdown",
   "id": "8ef7fdc3",
   "metadata": {},
   "source": [
    "## TODO: use neuron instead of LFPy and apply the exact same stimuli as the Hay paper"
   ]
  },
  {
   "cell_type": "code",
   "execution_count": null,
   "id": "8ea169cf",
   "metadata": {},
   "outputs": [],
   "source": [
    "soma_args = {\n",
    "         'idx': 0,\n",
    "         'record_current': True,\n",
    "         'pptype': 'IClamp',\n",
    "         'amp': 1,\n",
    "         'dur': 5,\n",
    "         'delay': 10\n",
    "}\n",
    "\n",
    "stim = LFPy.StimIntElectrode(cell=lfpy_cell, **soma_args)\n",
    "\n",
    "synapseParameters = {\n",
    "     'idx': lfpy_cell.get_closest_idx(x=0, y=620, z=0),\n",
    "     'e': 0,                               # reversal potential\n",
    "     'syntype': 'ExpSyn',                  # synapse type\n",
    "     'tau': 2,                             # syn. time constant\n",
    "     'weight': 1,                          # syn. weight\n",
    "     'record_current': True                # syn. current record\n",
    "}\n",
    "\n",
    "synapse = LFPy.Synapse(lfpy_cell, **synapseParameters)\n",
    "synapse.set_spike_times(np.array([13]))"
   ]
  },
  {
   "cell_type": "code",
   "execution_count": null,
   "id": "d3a38a75",
   "metadata": {},
   "outputs": [],
   "source": [
    "lfpy_cell.simulate(rec_vmem=True)"
   ]
  },
  {
   "cell_type": "code",
   "execution_count": null,
   "id": "e3dc23e1",
   "metadata": {},
   "outputs": [],
   "source": [
    "plt.figure()\n",
    "d1 = lfpy_cell.get_closest_idx(x=0, y=400, z=0)\n",
    "d2 = lfpy_cell.get_closest_idx(x=0, y=620, z=0)\n",
    "plt.plot(lfpy_cell.tvec, lfpy_cell.vmem[[0, d1, d2]].T)"
   ]
  },
  {
   "cell_type": "code",
   "execution_count": null,
   "id": "2308014f",
   "metadata": {},
   "outputs": [],
   "source": [
    "cell.destroy"
   ]
  },
  {
   "cell_type": "code",
   "execution_count": null,
   "id": "0439e7f5",
   "metadata": {},
   "outputs": [],
   "source": [
    "syn = lfpy_cell.synapses[0]\n",
    "plt.figure()\n",
    "plt.plot(lfpy_cell.tvec, syn.i)"
   ]
  },
  {
   "cell_type": "code",
   "execution_count": null,
   "id": "b46c3107",
   "metadata": {},
   "outputs": [],
   "source": [
    "cell.unfreeze({})"
   ]
  },
  {
   "cell_type": "markdown",
   "id": "2cb49d1e",
   "metadata": {},
   "source": [
    "## TODO: load optimized parameters and visualize BAC responses "
   ]
  }
 ],
 "metadata": {
  "language_info": {
   "name": "python"
  }
 },
 "nbformat": 4,
 "nbformat_minor": 5
}
