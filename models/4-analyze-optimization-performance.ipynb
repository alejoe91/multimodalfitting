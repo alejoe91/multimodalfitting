{
 "cells": [
  {
   "cell_type": "markdown",
   "metadata": {},
   "source": [
    "# 4) Analyze and evaluate optimization output\n",
    "\n",
    "This final notebook uses the `runs.pkl` file created in notebook 2 and it analyzes:\n",
    "\n",
    "- the distance between different feature sets in the parameter space\n",
    "- the distance between different feature sets in the feature space\n",
    "- the distance between different feature sets in the extracellular signals"
   ]
  },
  {
   "cell_type": "code",
   "execution_count": null,
   "metadata": {},
   "outputs": [],
   "source": [
    "import pickle\n",
    "import pandas as pd\n",
    "import seaborn as sns\n",
    "import sys\n",
    "import shutil\n",
    "from scipy.spatial import distance\n",
    "\n",
    "import bluepyopt as bpopt\n",
    "import bluepyopt.ephys as ephys\n",
    "\n",
    "import matplotlib.pyplot as plt\n",
    "import MEAutility as mu\n",
    "import json\n",
    "import time\n",
    "import numpy as np\n",
    "import LFPy\n",
    "from pathlib import Path\n",
    "\n",
    "import model\n",
    "import evaluator\n",
    "import plotting \n",
    "import utils\n",
    "\n",
    "%matplotlib notebook"
   ]
  },
  {
   "cell_type": "markdown",
   "metadata": {},
   "source": [
    "### Load gt params and optimization output"
   ]
  },
  {
   "cell_type": "code",
   "execution_count": null,
   "metadata": {},
   "outputs": [],
   "source": [
    "probe_type = \"planar\"\n",
    "model_name = 'hay' # \"hay\"\n",
    "model_folder = (Path(\".\") / f\"{model_name}_model\").absolute()"
   ]
  },
  {
   "cell_type": "code",
   "execution_count": null,
   "metadata": {},
   "outputs": [],
   "source": [
    "data_folder = Path('..') / \"data\" / f\"{model_name}_ecode_probe_{probe_type}\"\n",
    "result_folder = data_folder / \"results\" "
   ]
  },
  {
   "cell_type": "code",
   "execution_count": null,
   "metadata": {},
   "outputs": [],
   "source": [
    "for p in result_folder.iterdir():\n",
    "    print(p.name)"
   ]
  },
  {
   "cell_type": "code",
   "execution_count": null,
   "metadata": {},
   "outputs": [],
   "source": [
    "# compile model-specific mechanisms\n",
    "if not (model_folder / \"x86_64\").is_dir():\n",
    "    curr_dir = Path(\".\").absolute()\n",
    "    os.chdir(model_folder)\n",
    "    print(os.getcwd())\n",
    "    os.system(\"nrnivmodl mechanisms\")\n",
    "    os.chdir(curr_dir)\n",
    "else:\n",
    "    print(f\"Mechanisms already compiled for {model_name}\")\n",
    "    compiled_folder = Path(\"./x86_64\")\n",
    "    if compiled_folder.is_dir():\n",
    "        shutil.rmtree(compiled_folder)\n",
    "    shutil.copytree(model_folder / \"x86_64\", compiled_folder)"
   ]
  },
  {
   "cell_type": "code",
   "execution_count": null,
   "metadata": {},
   "outputs": [],
   "source": [
    "cell = model.create(model_name=model_name, release=False)\n",
    "cell_release = model.create(model_name=model_name, release=True)\n",
    "\n",
    "probe = model.define_electrode(probe_type=probe_type)\n",
    "# probe = None\n",
    "\n",
    "param_names = [param.name for param in cell.params.values() if not param.frozen]\n",
    "if model_name == \"hallermann\":\n",
    "    cvode_active = False\n",
    "else:\n",
    "    cvode_active = True\n",
    "sim = ephys.simulators.LFPySimulator(cell, cvode_active=cvode_active, electrode=probe)\n",
    "\n",
    "params_release = {}\n",
    "for param in cell_release.params_by_names(param_names):\n",
    "    params_release[param.name] = param.value"
   ]
  },
  {
   "cell_type": "code",
   "execution_count": null,
   "metadata": {},
   "outputs": [],
   "source": [
    "data = pickle.load(open(result_folder / 'runs.pkl', 'rb'))\n",
    "df_optimization = pd.DataFrame(data)"
   ]
  },
  {
   "cell_type": "code",
   "execution_count": null,
   "metadata": {},
   "outputs": [],
   "source": [
    "params_release"
   ]
  },
  {
   "cell_type": "markdown",
   "metadata": {},
   "source": [
    "# Load protocols and original features"
   ]
  },
  {
   "cell_type": "code",
   "execution_count": null,
   "metadata": {},
   "outputs": [],
   "source": [
    "protocols_file = data_folder / \"efeatures\" / \"protocols_BPO.json\"\n",
    "feature_file = data_folder / \"efeatures\" / \"features_BPO.json\""
   ]
  },
  {
   "cell_type": "code",
   "execution_count": null,
   "metadata": {},
   "outputs": [],
   "source": [
    "extra_kwargs = dict(fs=20,\n",
    "                    fcut=[300, 6000],\n",
    "                    filt_type=\"filtfilt\",\n",
    "                    ms_cut=[3, 10])"
   ]
  },
  {
   "cell_type": "code",
   "execution_count": null,
   "metadata": {},
   "outputs": [],
   "source": [
    "eva_soma = evaluator.create_evaluator(\n",
    "    model_name=model_name,\n",
    "    feature_set=\"soma\",\n",
    "    feature_file=str(feature_file)\n",
    ")"
   ]
  },
  {
   "cell_type": "code",
   "execution_count": null,
   "metadata": {},
   "outputs": [],
   "source": [
    "eva_extra = evaluator.create_evaluator(\n",
    "    model_name=model_name,\n",
    "    feature_set=\"extra\",\n",
    "    feature_file=str(feature_file),\n",
    "    probe_type=probe_type,\n",
    "    protocols_with_lfp=\"firepattern_200\",\n",
    "    **extra_kwargs\n",
    ")"
   ]
  },
  {
   "cell_type": "code",
   "execution_count": null,
   "metadata": {},
   "outputs": [],
   "source": [
    "opt_soma = df_optimization.query(\"feature_set == 'soma'\")\n",
    "opt_extra = df_optimization.query(\"feature_set == 'extra'\")\n",
    "print(f\"Somatic optimizations: {len(opt_soma)}\")\n",
    "print(f\"Extra optimizations: {len(opt_extra)}\")"
   ]
  },
  {
   "cell_type": "code",
   "execution_count": null,
   "metadata": {},
   "outputs": [],
   "source": [
    "fig, ax = plt.subplots()\n",
    "\n",
    "for index, opt in opt_soma.iterrows:\n",
    "    nevals = opt.nevals\n",
    "    fitness = [lb[\"avg\"] fo]\n",
    "    ax.plot(opt.logbook[])"
   ]
  },
  {
   "cell_type": "markdown",
   "metadata": {},
   "source": [
    "# Compute release responses"
   ]
  },
  {
   "cell_type": "code",
   "execution_count": null,
   "metadata": {},
   "outputs": [],
   "source": [
    "responses_release = eva_extra.run_protocols(eva_extra.fitness_protocols.values(), param_values=params_release)"
   ]
  },
  {
   "cell_type": "code",
   "execution_count": null,
   "metadata": {},
   "outputs": [],
   "source": [
    "eap_release = utils.calculate_eap(responses=responses_release, protocols=eva_extra.fitness_protocols, \n",
    "                                  protocol_name=\"firepattern_200\", **extra_kwargs)"
   ]
  },
  {
   "cell_type": "code",
   "execution_count": null,
   "metadata": {},
   "outputs": [],
   "source": [
    "features_release = {}"
   ]
  },
  {
   "cell_type": "code",
   "execution_count": null,
   "metadata": {},
   "outputs": [],
   "source": [
    "for obj in eva_extra.fitness_calculator.objectives:\n",
    "    if len(obj.features) == 1:\n",
    "        if \"soma\" in obj.features[0].name:\n",
    "            feat_value = obj.features[0].calculate_feature(responses_release)\n",
    "            features_release[obj.features[0].name] = feat_value\n",
    "    else:\n",
    "        print(f\"More than one feature for objective: {obj.name}\")"
   ]
  },
  {
   "cell_type": "code",
   "execution_count": null,
   "metadata": {},
   "outputs": [],
   "source": [
    "features_release"
   ]
  },
  {
   "cell_type": "markdown",
   "metadata": {},
   "source": [
    "# Example somatic optimization"
   ]
  },
  {
   "cell_type": "code",
   "execution_count": null,
   "metadata": {},
   "outputs": [],
   "source": [
    "params_sample_soma = opt_soma.iloc[0]\n",
    "params_sample_soma_dict = {k: v for k, v in zip(param_names, params_sample_soma.best_params)}\n",
    "display(params_sample_soma)"
   ]
  },
  {
   "cell_type": "code",
   "execution_count": null,
   "metadata": {},
   "outputs": [],
   "source": [
    "params_sample_soma.logbook[0].keys()"
   ]
  },
  {
   "cell_type": "code",
   "execution_count": null,
   "metadata": {},
   "outputs": [],
   "source": [
    "responses_soma = eva_extra.run_protocols(eva_extra.fitness_protocols.values(), param_values=params_sample_soma_dict)"
   ]
  },
  {
   "cell_type": "code",
   "execution_count": null,
   "metadata": {},
   "outputs": [],
   "source": [
    "eap_soma = utils.calculate_eap(responses=responses_soma, protocols=eva_extra.fitness_protocols, \n",
    "                               protocol_name=\"firepattern_200\", **extra_kwargs)"
   ]
  },
  {
   "cell_type": "code",
   "execution_count": null,
   "metadata": {},
   "outputs": [],
   "source": [
    "plotting.plot_multiple_responses([responses_release, responses_soma], colors=[\"k\", \"C1\"])"
   ]
  },
  {
   "cell_type": "code",
   "execution_count": null,
   "metadata": {},
   "outputs": [],
   "source": [
    "plotting.plot_multiple_eaps([responses_release, responses_soma], eva_extra.fitness_protocols, probe,\n",
    "                            protocol_name=\"firepattern_200\", colors=[\"k\", \"C1\"])"
   ]
  },
  {
   "cell_type": "code",
   "execution_count": null,
   "metadata": {},
   "outputs": [],
   "source": [
    "eap_dist_soma = distance.cosine(eap_release.ravel(), eap_soma.ravel())"
   ]
  },
  {
   "cell_type": "markdown",
   "metadata": {},
   "source": [
    "## Extra example"
   ]
  },
  {
   "cell_type": "code",
   "execution_count": null,
   "metadata": {},
   "outputs": [],
   "source": [
    "params_sample_extra = opt_extra.iloc[1]\n",
    "params_sample_extra_dict = {k: v for k, v in zip(param_names, params_sample_extra.best_params)}\n",
    "display(params_sample_extra)"
   ]
  },
  {
   "cell_type": "code",
   "execution_count": null,
   "metadata": {},
   "outputs": [],
   "source": [
    "responses_extra = eva_extra.run_protocols(eva_extra.fitness_protocols.values(), param_values=params_sample_extra_dict)"
   ]
  },
  {
   "cell_type": "code",
   "execution_count": null,
   "metadata": {},
   "outputs": [],
   "source": [
    "eap_extra = utils.calculate_eap(responses=responses_extra, protocols=eva_extra.fitness_protocols, \n",
    "                                protocol_name=\"firepattern_200\", **extra_kwargs)"
   ]
  },
  {
   "cell_type": "code",
   "execution_count": null,
   "metadata": {},
   "outputs": [],
   "source": [
    "plotting.plot_multiple_responses([responses_release, responses_extra], colors=[\"k\", \"C2\"])"
   ]
  },
  {
   "cell_type": "code",
   "execution_count": null,
   "metadata": {},
   "outputs": [],
   "source": [
    "plotting.plot_multiple_eaps([responses_release, responses_extra], eva_extra.fitness_protocols, probe,\n",
    "                            protocol_name=\"firepattern_200\", colors=[\"k\", \"C2\"])"
   ]
  },
  {
   "cell_type": "code",
   "execution_count": null,
   "metadata": {},
   "outputs": [],
   "source": [
    "eap_dist_extra = distance.cosine(eap_release.ravel(), eap_extra.ravel())"
   ]
  },
  {
   "cell_type": "code",
   "execution_count": null,
   "metadata": {},
   "outputs": [],
   "source": [
    "print(eap_dist_soma, eap_dist_extra)"
   ]
  },
  {
   "cell_type": "markdown",
   "metadata": {},
   "source": [
    "## Run protocols and compute features for all tested models"
   ]
  },
  {
   "cell_type": "code",
   "execution_count": null,
   "metadata": {},
   "outputs": [],
   "source": [
    "feats_soma = []\n",
    "eaps_soma = []\n",
    "params_soma = []\n",
    "responses_soma = []\n",
    "for i, (index, opt) in enumerate(opt_soma.iterrows()):\n",
    "    print(f\"Computing {i + 1} / {len(opt_soma)}\")\n",
    "    # get best params\n",
    "    params_dict = {k: v for k, v in zip(param_names, opt.best_params)}\n",
    "    params_soma.append(params_dict)\n",
    "    \n",
    "    # run protocols\n",
    "    responses = eva_extra.run_protocols(eva_extra.fitness_protocols.values(), \n",
    "                                        param_values=params_dict) \n",
    "    responses_soma.append(responses)\n",
    "    try:\n",
    "        eap = utils.calculate_eap(responses=responses, protocols=eva_extra.fitness_protocols, \n",
    "                                  protocol_name=\"firepattern_200\", **extra_kwargs)\n",
    "    except:\n",
    "        eap = np.zeros(eaps_soma[-1].shape)\n",
    "    feat_dict = {}\n",
    "    for obj in eva_extra.fitness_calculator.objectives:\n",
    "        if len(obj.features) == 1:\n",
    "            if \"soma\" in obj.features[0].name:\n",
    "                feat_value = obj.features[0].calculate_feature(responses)\n",
    "                feat_dict[obj.features[0].name] = feat_value\n",
    "        else:\n",
    "            print(f\"More than one feature for objective: {obj.name}\")\n",
    "            \n",
    "    feats_soma.append(feat_dict)\n",
    "    eaps_soma.append(eap)"
   ]
  },
  {
   "cell_type": "code",
   "execution_count": null,
   "metadata": {},
   "outputs": [],
   "source": [
    "feats_extra = []\n",
    "eaps_extra = []\n",
    "params_extra = []\n",
    "responses_eap = []\n",
    "\n",
    "for i, (index, opt) in enumerate(opt_extra.iterrows()):\n",
    "    print(f\"Computing {i + 1} / {len(opt_soma)}\")\n",
    "    # get best params\n",
    "    params_dict = {k: v for k, v in zip(param_names, opt.best_params)}\n",
    "    params_extra.append(params_dict)\n",
    "    \n",
    "    # run protocols\n",
    "    responses = eva_extra.run_protocols(eva_extra.fitness_protocols.values(), \n",
    "                                        param_values=params_dict)  \n",
    "    responses_eap.append(responses)\n",
    "    try:\n",
    "        eap = utils.calculate_eap(responses=responses, protocols=eva_extra.fitness_protocols, \n",
    "                                  protocol_name=\"firepattern_200\", **extra_kwargs)\n",
    "    except:\n",
    "        eap = np.zeros(eaps_extra[-1].shape)\n",
    "        \n",
    "    feat_dict = {}\n",
    "    for obj in eva_extra.fitness_calculator.objectives:\n",
    "        if len(obj.features) == 1:\n",
    "            if \"soma\" in obj.features[0].name:\n",
    "                feat_value = obj.features[0].calculate_feature(responses)\n",
    "                feat_dict[obj.features[0].name] = feat_value\n",
    "        else:\n",
    "            print(f\"More than one feature for objective: {obj.name}\")\n",
    "            \n",
    "    feats_extra.append(feat_dict)\n",
    "    eaps_extra.append(eap)"
   ]
  },
  {
   "cell_type": "markdown",
   "metadata": {},
   "source": [
    "## Compute distances in parameters and features space (no extracellular)"
   ]
  },
  {
   "cell_type": "code",
   "execution_count": null,
   "metadata": {},
   "outputs": [],
   "source": [
    "param_distances_soma = []\n",
    "param_distances_apical_soma = []\n",
    "param_distances_somatic_soma = []\n",
    "\n",
    "feature_distances_soma = []\n",
    "\n",
    "eap_distances_soma = []\n",
    "for feat_dict, eap, params in zip(feats_soma, eaps_soma, params_soma):\n",
    "    # params\n",
    "    gt_param_values = []\n",
    "    param_values = []\n",
    "    gt_somatic_param_values = []\n",
    "    somatic_param_values = []\n",
    "    gt_apical_param_values = []\n",
    "    apical_param_values = []\n",
    "    \n",
    "    for param_name, val in params.items():\n",
    "        param_values.append(val)\n",
    "        gt_param_values.append(params_release[param_name])\n",
    "        if \"somatic\" in param_name:\n",
    "            somatic_param_values.append(val)\n",
    "            gt_somatic_param_values.append(params_release[param_name])\n",
    "        if \"apical\" in param_name:\n",
    "            apical_param_values.append(val)\n",
    "            gt_apical_param_values.append(params_release[param_name])\n",
    "    param_distances_soma.append(distance.cosine(param_values, gt_param_values))\n",
    "    param_distances_apical_soma.append(distance.cosine(somatic_param_values, gt_somatic_param_values))\n",
    "    param_distances_somatic_soma.append(distance.cosine(apical_param_values, gt_apical_param_values))\n",
    "    \n",
    "    # features\n",
    "    gt_values = []\n",
    "    feat_values = []\n",
    "    n_in_common = 0\n",
    "    for feat_name, val in feat_dict.items():\n",
    "        if val is not None:\n",
    "            feat_values.append(val)\n",
    "            gt_values.append(features_release[feat_name])\n",
    "            n_in_common += 1\n",
    "    feature_distances_soma.append(distance.cosine(feat_values, gt_values) / n_in_common)\n",
    "    \n",
    "    # eaps\n",
    "    eap_distances_soma.append(distance.cosine(eap_release.ravel(), eap.ravel()))\n",
    "    \n",
    "param_distances_extra = []\n",
    "param_distances_apical_extra = []\n",
    "param_distances_somatic_extra = []\n",
    "\n",
    "feature_distances_extra = []\n",
    "\n",
    "eap_distances_extra = []\n",
    "\n",
    "for feat_dict, eap, params in zip(feats_extra, eaps_extra, params_extra):\n",
    "    # params\n",
    "    gt_param_values = []\n",
    "    param_values = []\n",
    "    gt_somatic_param_values = []\n",
    "    somatic_param_values = []\n",
    "    gt_apical_param_values = []\n",
    "    apical_param_values = []\n",
    "    \n",
    "    for param_name, val in params.items():\n",
    "        param_values.append(val)\n",
    "        gt_param_values.append(params_release[param_name])\n",
    "        if \"somatic\" in param_name:\n",
    "            somatic_param_values.append(val)\n",
    "            gt_somatic_param_values.append(params_release[param_name])\n",
    "        if \"apical\" in param_name:\n",
    "            apical_param_values.append(val)\n",
    "            gt_apical_param_values.append(params_release[param_name])\n",
    "    param_distances_extra.append(distance.cosine(param_values, gt_param_values))\n",
    "    param_distances_apical_extra.append(distance.cosine(somatic_param_values, gt_somatic_param_values))\n",
    "    param_distances_somatic_extra.append(distance.cosine(apical_param_values, gt_apical_param_values))\n",
    "    \n",
    "    # features\n",
    "    gt_values = []\n",
    "    feat_values = []\n",
    "    n_in_common = 0\n",
    "    for feat_name, val in feat_dict.items():\n",
    "        if val is not None:\n",
    "            feat_values.append(val)\n",
    "            gt_values.append(features_release[feat_name])\n",
    "            n_in_common += 1\n",
    "    feature_distances_extra.append(distance.cosine(feat_values, gt_values) / n_in_common)\n",
    "    \n",
    "    # eaps\n",
    "    eap_distances_extra.append(distance.cosine(eap_release.ravel(), eap.ravel()))"
   ]
  },
  {
   "cell_type": "code",
   "execution_count": null,
   "metadata": {},
   "outputs": [],
   "source": [
    "# build dataframe\n",
    "df = pd.DataFrame({\"feature_set\": [\"soma\"]*len(opt_soma) + [\"extra\"]*len(opt_extra)})\n",
    "df['param_dist'] = param_distances_soma + param_distances_extra\n",
    "df['param_dist_apical'] = param_distances_apical_soma + param_distances_apical_extra\n",
    "df['param_dist_somatic'] = param_distances_somatic_soma + param_distances_somatic_extra\n",
    "df['feat_dist'] = feature_distances_soma + feature_distances_extra\n",
    "df['eap_dist'] = eap_distances_soma + eap_distances_extra"
   ]
  },
  {
   "cell_type": "code",
   "execution_count": null,
   "metadata": {},
   "outputs": [],
   "source": [
    "fig1, ax1 = plt.subplots()\n",
    "sns.violinplot(data=df, x='feature_set', y='param_dist', ax=ax1, alpha=0.5)\n",
    "sns.stripplot(data=df, x='feature_set', y='param_dist', ax=ax1, alpha=1, palette=\"Greys_r\")\n",
    "ax1.set_title(\"All params\")"
   ]
  },
  {
   "cell_type": "code",
   "execution_count": null,
   "metadata": {},
   "outputs": [],
   "source": [
    "fig2, axs2 = plt.subplots(ncols=2, figsize=(9, 5))\n",
    "\n",
    "# sns.violinplot(data=df, x='feature_set', y='param_dist_somatic', ax=axs2[0], alpha=0.5)\n",
    "sns.stripplot(data=df, x='feature_set', y='param_dist_somatic', ax=axs2[0], alpha=0.5, palette=\"Greys_r\")\n",
    "# sns.violinplot(data=df, x='feature_set', y='param_dist_apical', ax=axs2[1], alpha=0.5)\n",
    "sns.stripplot(data=df, x='feature_set', y='param_dist_apical', ax=axs2[1], alpha=0.5, palette=\"Greys_r\")\n",
    "\n",
    "axs2[0].set_title(\"Somatic params\")\n",
    "axs2[1].set_title(\"Apical params\")\n",
    "fig2.tight_layout()"
   ]
  },
  {
   "cell_type": "code",
   "execution_count": null,
   "metadata": {},
   "outputs": [],
   "source": [
    "fig3, ax3 = plt.subplots()\n",
    "# sns.violinplot(data=df, x='feature_set', y='feat_dist', ax=ax3)\n",
    "sns.stripplot(data=df, x='feature_set', y='feat_dist', ax=ax3, palette=\"Greys_r\")\n",
    "ax3.set_title('All features')"
   ]
  },
  {
   "cell_type": "code",
   "execution_count": null,
   "metadata": {},
   "outputs": [],
   "source": [
    "fig4, ax4 = plt.subplots()\n",
    "sns.violinplot(data=df, x='feature_set', y='eap_dist', ax=ax4)#, alpha=0.5, ci=None)\n",
    "sns.stripplot(data=df, x='feature_set', y='eap_dist', ax=ax4, palette=\"Greys_r\")#, alpha=0.5, ci=None)\n",
    "ax4.set_title(\"EAP\")"
   ]
  },
  {
   "cell_type": "code",
   "execution_count": null,
   "metadata": {},
   "outputs": [],
   "source": [
    "plotting.plot_multiple_eaps(responses_soma + [responses_release], eva_extra.fitness_protocols, probe,\n",
    "                            protocol_name=\"firepattern_200\", colors=[\"C0\"] * len(responses_soma) + [\"k\"])\n",
    "plotting.plot_multiple_eaps(responses_soma + [responses_release], eva_extra.fitness_protocols, probe,\n",
    "                            protocol_name=\"firepattern_200\", colors=[\"C0\"] * len(responses_soma) + [\"k\"], \n",
    "                            norm=False)"
   ]
  },
  {
   "cell_type": "code",
   "execution_count": null,
   "metadata": {},
   "outputs": [],
   "source": [
    "plotting.plot_multiple_eaps(responses_eap + [responses_release], eva_extra.fitness_protocols, probe,\n",
    "                            protocol_name=\"firepattern_200\", colors=[\"C1\"] * len(responses_eap) + [\"k\"])\n",
    "plotting.plot_multiple_eaps(responses_eap + [responses_release], eva_extra.fitness_protocols, probe,\n",
    "                            protocol_name=\"firepattern_200\", colors=[\"C1\"] * len(responses_eap) + [\"k\"], \n",
    "                            norm=False)"
   ]
  },
  {
   "cell_type": "code",
   "execution_count": null,
   "metadata": {},
   "outputs": [],
   "source": [
    "fig_soma = plotting.plot_multiple_responses(responses_list=responses_soma + [responses_release], \n",
    "                                            max_rows=5, colors=[\"C0\"] * len(responses_soma) + ['k'], \n",
    "                                            return_fig=True)"
   ]
  },
  {
   "cell_type": "code",
   "execution_count": null,
   "metadata": {},
   "outputs": [],
   "source": [
    "fig_extra = plotting.plot_multiple_responses(responses_list=responses_eap + [responses_release], \n",
    "                                             max_rows=5, colors=[\"C1\"] * len(responses_eap) + ['k'], \n",
    "                                             return_fig=True)"
   ]
  },
  {
   "cell_type": "markdown",
   "metadata": {},
   "source": [
    "## Plot responses"
   ]
  },
  {
   "cell_type": "code",
   "execution_count": null,
   "metadata": {},
   "outputs": [],
   "source": [
    "# colors = {'soma': 'C1', 'extra': 'C2'}"
   ]
  },
  {
   "cell_type": "code",
   "execution_count": null,
   "metadata": {},
   "outputs": [],
   "source": [
    "# figures_soma_intra = []\n",
    "# figures_soma_extra = []\n",
    "# figures_multi_intra = []\n",
    "# figures_multi_extra = []\n",
    "# figures_extra_intra = []\n",
    "# figures_extra_extra = []\n",
    "# for gt_id in range(len(gt_responses)):\n",
    "#     print(f\"Test model {gt_id + 1}\")\n",
    "#     df_fit = df[df.sample_id == str(gt_id)]\n",
    "#     fitted = np.array(fitted_responses)[np.array(df_fit.index)]\n",
    "    \n",
    "#     color_list = []\n",
    "#     feature_sets = []\n",
    "#     for i in range(len(df_fit)):\n",
    "#         color_list.append(colors[df_fit.iloc[i].feature_set])\n",
    "#         feature_sets.append(df_fit.iloc[i].feature_set)\n",
    "\n",
    "#     soma_idxs = np.where(np.array(feature_sets) == 'soma')\n",
    "#     bap_idxs = np.where(np.array(feature_sets) == 'multiple')\n",
    "#     extra_idxs = np.where(np.array(feature_sets) == 'extra')\n",
    "\n",
    "#     fitted_soma = fitted[soma_idxs]\n",
    "#     fitted_multiple = fitted[bap_idxs]\n",
    "#     fitted_extra = fitted[extra_idxs]\n",
    "\n",
    "#     color_list.append('k')\n",
    "    \n",
    "#     # Plot intracellular responses\n",
    "#     fig_soma = plotting.plot_multiple_responses(responses_list=np.concatenate((fitted_soma, [gt_responses[gt_id]])), \n",
    "#                                                 max_rows=5, colors=[colors[\"soma\"]] * len(fitted_soma) + ['k'], \n",
    "#                                                 return_fig=True)\n",
    "#     fig_soma.suptitle(f\"Test model {gt_id + 1} - 'soma' feature set\\nIntracellular\", fontsize=25, y=0.98)\n",
    "#     fig_soma.subplots_adjust(top=0.8)\n",
    "#     figures_soma_intra.append(fig_soma)\n",
    "    \n",
    "#     ax_eap_soma = plotting.plot_multiple_eaps(responses_list=fitted_soma, protocols=fitness_protocols,\n",
    "#                                               protocol_name=\"Step1\", probe=probe, colors=\"C0\", norm=True)\n",
    "#     ax_eap_soma = plotting.plot_eap(responses=gt_responses[gt_id], protocols=fitness_protocols,\n",
    "#                                     protocol_name=\"Step1\", probe=probe, color=\"k\", norm=True,\n",
    "#                                     ax=ax_eap_soma) \n",
    "#     ax_eap_soma.set_title(f\"Test model {gt_id + 1} - 'soma' feature set\\nExtracellular\", fontsize=25)\n",
    "#     figures_soma_extra.append(ax_eap_soma.get_figure())\n",
    "    \n",
    "#     fig_multiple = plotting.plot_multiple_responses(responses_list=np.concatenate((fitted_multiple, [gt_responses[gt_id]])), \n",
    "#                                                     max_rows=5, \n",
    "#                                                     colors=[colors[\"multiple\"]] * len(fitted_multiple) + ['k'], \n",
    "#                                                     return_fig=True)\n",
    "#     fig_multiple.suptitle(f\"Test model {gt_id + 1} - 'multiple' feature set\\nIntracellular\", fontsize=25, y=0.98)\n",
    "#     fig_multiple.subplots_adjust(top=0.8)\n",
    "#     figures_multi_intra.append(fig_soma)\n",
    "    \n",
    "    \n",
    "#     ax_eap_multi = plotting.plot_multiple_eaps(responses_list=fitted_multiple, protocols=fitness_protocols,\n",
    "#                                                protocol_name=\"Step1\", probe=probe, colors=\"C1\", norm=True)\n",
    "#     ax_eap_multi = plotting.plot_eap(responses=gt_responses[gt_id], protocols=fitness_protocols,\n",
    "#                                      protocol_name=\"Step1\", probe=probe, color=\"k\", norm=True,\n",
    "#                                      ax=ax_eap_multi) \n",
    "#     ax_eap_multi.set_title(f\"Test model {gt_id + 1} - 'multiple' feature set\\nExtracellular\", fontsize=25)\n",
    "#     figures_multi_extra.append(ax_eap_multi.get_figure())\n",
    "    \n",
    "#     fig_extra = plotting.plot_multiple_responses(responses_list=np.concatenate((fitted_extra, [gt_responses[gt_id]])), \n",
    "#                                                  max_rows=5, colors=[colors[\"extra\"]] * len(fitted_extra) + ['k'], \n",
    "#                                                  return_fig=True)\n",
    "#     fig_extra.suptitle(f\"Test model {gt_id + 1} - 'extra' feature set\\nIntracellular\", fontsize=30, y=0.98)\n",
    "#     fig_extra.subplots_adjust(top=0.8)\n",
    "#     figures_extra_intra.append(fig_soma)\n",
    "    \n",
    "#     # Plot EAPs\n",
    "#     ax_eap_extra = plotting.plot_multiple_eaps(responses_list=fitted_extra, protocols=fitness_protocols,\n",
    "#                                                protocol_name=\"Step1\", probe=probe, colors=\"C2\", norm=True)\n",
    "#     ax_eap_extra = plotting.plot_eap(responses=gt_responses[gt_id], protocols=fitness_protocols,\n",
    "#                                      protocol_name=\"Step1\", probe=probe, color=\"k\", norm=True,\n",
    "#                                      ax=ax_eap_extra) \n",
    "#     ax_eap_extra.set_title(f\"Test model {gt_id + 1} - 'extra' feature set\\nExtracellular\", fontsize=30)\n",
    "#     figures_extra_extra.append(ax_eap_extra.get_figure())\n",
    "    \n",
    "#     print(\"\\n\\n\\n\\n\\n\")\n",
    "    \n",
    "    "
   ]
  }
 ],
 "metadata": {
  "language_info": {
   "name": "python"
  }
 },
 "nbformat": 4,
 "nbformat_minor": 4
}
