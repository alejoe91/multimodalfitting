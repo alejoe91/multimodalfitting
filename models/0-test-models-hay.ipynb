{
 "cells": [
  {
   "cell_type": "markdown",
   "id": "15adf53d",
   "metadata": {},
   "source": [
    "# Test model example"
   ]
  },
  {
   "cell_type": "code",
   "execution_count": null,
   "id": "335bc4d2",
   "metadata": {},
   "outputs": [],
   "source": [
    "import json\n",
    "import sys\n",
    "import os\n",
    "import time\n",
    "import neuron\n",
    "from pathlib import Path\n",
    "\n",
    "import matplotlib.pyplot as plt\n",
    "\n",
    "import bluepyopt as bpopt\n",
    "import bluepyopt.ephys as ephys\n",
    "\n",
    "import shutil\n",
    "\n",
    "import model\n",
    "import evaluator\n",
    "import plotting\n",
    "\n",
    "# %matplotlib notebook\n",
    "%matplotlib inline"
   ]
  },
  {
   "cell_type": "code",
   "execution_count": null,
   "id": "0a38f75b",
   "metadata": {},
   "outputs": [],
   "source": [
    "probe_type = \"linear\"\n",
    "model_name = \"hay\" #'hallermann' # \"hay\" hay_ais\n",
    "model_folder = (Path(\".\") / f\"{model_name}_model\").absolute()"
   ]
  },
  {
   "cell_type": "code",
   "execution_count": null,
   "id": "46f4db17",
   "metadata": {},
   "outputs": [],
   "source": [
    "# compile model-specific mechanisms\n",
    "if not (model_folder / \"x86_64\").is_dir():\n",
    "    curr_dir = Path(\".\").absolute()\n",
    "    os.chdir(model_folder)\n",
    "    print(os.getcwd())\n",
    "    os.system(\"nrnivmodl mechanisms\")\n",
    "    os.chdir(curr_dir)\n",
    "else:\n",
    "    print(f\"Mechanisms already compiled for {model_name}\")\n",
    "    compiled_folder = Path(\"./x86_64\")\n",
    "    if compiled_folder.is_dir():\n",
    "        shutil.rmtree(compiled_folder)\n",
    "    shutil.copytree(model_folder / \"x86_64\", compiled_folder)"
   ]
  },
  {
   "cell_type": "code",
   "execution_count": null,
   "id": "1285ad37",
   "metadata": {},
   "outputs": [],
   "source": [
    "cell = model.create(model_name=model_name, release=True)\n",
    "\n",
    "# probe = model.define_electrode(probe_type=probe_type)\n",
    "probe=None\n",
    "\n",
    "param_names = [param.name for param in cell.params.values() if not param.frozen]\n",
    "\n",
    "fitness_protocols = evaluator.define_protocols(\n",
    "    model_name,\n",
    "    feature_set=\"soma\",\n",
    "    feature_file=f\"{model_name}_model/features_list.json\",\n",
    "    electrode=probe,\n",
    "    protocols_with_lfp=[\"Step1\", \"bAP\", \"BAC\", \"EPSP\", \"CaBurst\"]\n",
    ")\n",
    "\n",
    "fitness_calculator = ephys.objectivescalculators.ObjectivesCalculator([])\n",
    "\n",
    "if model_name == 'hallermann':\n",
    "    sim = ephys.simulators.LFPySimulator(cell, cvode_active=False, electrode=probe)\n",
    "else:\n",
    "    sim = ephys.simulators.LFPySimulator(cell, cvode_active=True, electrode=probe)\n",
    "\n",
    "eva = ephys.evaluators.CellEvaluator(                    \n",
    "        cell_model=cell,                                                       \n",
    "        param_names=param_names,                                                    \n",
    "        fitness_protocols=fitness_protocols,                                        \n",
    "        fitness_calculator=fitness_calculator,                                      \n",
    "        sim=sim)"
   ]
  },
  {
   "cell_type": "code",
   "execution_count": null,
   "id": "99ac5cbe",
   "metadata": {},
   "outputs": [],
   "source": [
    "fitness_protocols\n",
    "print(eva)"
   ]
  },
  {
   "cell_type": "code",
   "execution_count": null,
   "id": "023e3eae",
   "metadata": {},
   "outputs": [],
   "source": [
    "t_start = time.time()\n",
    "responses = eva.run_protocols(protocols=fitness_protocols.values(), param_values={})\n",
    "print(f\"Elapsed time: {time.time() - t_start}\")"
   ]
  },
  {
   "cell_type": "code",
   "execution_count": null,
   "id": "679f3130",
   "metadata": {},
   "outputs": [],
   "source": [
    "responses"
   ]
  },
  {
   "cell_type": "code",
   "execution_count": null,
   "id": "945387d1",
   "metadata": {},
   "outputs": [],
   "source": [
    "plotting.plot_responses(responses)"
   ]
  },
  {
   "cell_type": "code",
   "execution_count": null,
   "id": "586f991c",
   "metadata": {},
   "outputs": [],
   "source": [
    "# r2={}\n",
    "# r2['Step1.soma.v'] = responses['Step1.soma.v']\n",
    "# plotting.plot_responses(r2)\n",
    "# responses_v={}\n",
    "# responses_cai={}\n",
    "\n",
    "# for key in responses.keys():\n",
    "#     if \".v\" in key:\n",
    "#         responses_v[key] = responses[key]\n",
    "#     if \".cai\" in key:\n",
    "#         responses_cai[key] = responses[key] \n",
    "# plotting.plot_responses(responses_v)\n",
    "# plotting.plot_responses(responses_cai)\n",
    "\n",
    "\n",
    "def plot_responses(responses):\n",
    "    fig, axes = plt.subplots(3, figsize=(5,5))\n",
    "    for index, (resp_name, response) in enumerate(sorted(responses.items())):\n",
    "        if index <6:\n",
    "            axes[index].plot(response['time'], response['voltage'], label=resp_name)\n",
    "            axes[index].set_title(resp_name)\n",
    "        fig.tight_layout()\n",
    "        fig.show()\n",
    "plot_responses(responses)"
   ]
  },
  {
   "cell_type": "code",
   "execution_count": null,
   "id": "9e935a36",
   "metadata": {},
   "outputs": [],
   "source": [
    "for resp_name, response in sorted(responses.items()):\n",
    "    if 'cai' in resp_name:\n",
    "        plt.plot(response['time'], response['voltage'], label=resp_name)\n",
    "plt.legend()\n",
    "        "
   ]
  },
  {
   "cell_type": "code",
   "execution_count": null,
   "id": "fca331e4",
   "metadata": {},
   "outputs": [],
   "source": [
    "# import matplotlib.pyplot as plt\n",
    "# plt.plot(responses['Step1.soma.v']['time'],responses['Step1.soma.v']['voltage'], label='Step1.soma.v')\n",
    "# plt.plot(responses['Step1.hillock_mid.v']['time'],responses['Step1.hillock_mid.v']['voltage'], label='Step1.hillock_mid.v')\n",
    "# plt.plot(responses['Step1.ais_mid.v']['time'],responses['Step1.ais_mid.v']['voltage'], label='Step1.ais_mid.v')\n",
    "# plt.xlim([704,710])\n",
    "# plt.legend()\n",
    "\n",
    "for resp_name, response in sorted(responses.items()):\n",
    "    if '.v' in resp_name:\n",
    "        plt.plot(response['time'], response['voltage'], label=resp_name)\n",
    "plt.legend()\n",
    "plt.xlim([704,710])"
   ]
  },
  {
   "cell_type": "code",
   "execution_count": null,
   "id": "b6711d67",
   "metadata": {},
   "outputs": [],
   "source": []
  }
 ],
 "metadata": {
  "language_info": {
   "name": "python"
  }
 },
 "nbformat": 4,
 "nbformat_minor": 5
}
