{
 "cells": [
  {
   "cell_type": "markdown",
   "id": "15adf53d",
   "metadata": {},
   "source": [
    "# Test model example - HAY"
   ]
  },
  {
   "cell_type": "code",
   "execution_count": null,
   "id": "335bc4d2",
   "metadata": {},
   "outputs": [],
   "source": [
    "import json\n",
    "import sys\n",
    "import os\n",
    "import time\n",
    "import neuron\n",
    "from pathlib import Path\n",
    "\n",
    "import matplotlib.pyplot as plt\n",
    "\n",
    "import bluepyopt as bpopt\n",
    "import bluepyopt.ephys as ephys\n",
    "\n",
    "import shutil\n",
    "\n",
    "import model\n",
    "import evaluator\n",
    "import plotting\n",
    "\n",
    "# %matplotlib notebook\n",
    "%matplotlib notebook"
   ]
  },
  {
   "cell_type": "code",
   "execution_count": null,
   "id": "0a38f75b",
   "metadata": {},
   "outputs": [],
   "source": [
    "probe_type = \"linear\"\n",
    "model_name = \"hay\" #'hallermann' # \"hay\" hay_ais\n",
    "model_folder = (Path(\".\") / f\"{model_name}_model\").absolute()"
   ]
  },
  {
   "cell_type": "code",
   "execution_count": null,
   "id": "36b4e384",
   "metadata": {},
   "outputs": [],
   "source": [
    "protocols_file = \"../data/hay_ecode_probe_planar/efeatures/protocols_BPO.json\"\n",
    "features_file = \"../data/hay_ecode_probe_planar/efeatures/features_BPO.json\""
   ]
  },
  {
   "cell_type": "code",
   "execution_count": null,
   "id": "1285ad37",
   "metadata": {},
   "outputs": [],
   "source": [
    "cell = model.create(model_name=model_name, release=True)\n",
    "\n",
    "probe = model.define_electrode(probe_type=probe_type)\n",
    "# probe=None\n",
    "\n",
    "param_names = [param.name for param in cell.params.values() if not param.frozen]\n",
    "\n",
    "fitness_protocols = evaluator.define_protocols(\n",
    "    model_name,\n",
    "    feature_set=\"soma\",\n",
    "    feature_file=features_file,\n",
    "    protocols_file=protocols_file,\n",
    "    electrode=probe,\n",
    "    protocols_with_lfp=[\"IDrest_300\"],\n",
    ")\n",
    "\n",
    "fitness_calculator = ephys.objectivescalculators.ObjectivesCalculator([])\n",
    "\n",
    "sim = ephys.simulators.LFPySimulator(cell, cvode_active=True, electrode=probe, mechs_folders=model_folder)\n",
    "\n",
    "eva = ephys.evaluators.CellEvaluator(                    \n",
    "        cell_model=cell,                                                       \n",
    "        param_names=param_names,                                                    \n",
    "        fitness_protocols=fitness_protocols,                                        \n",
    "        fitness_calculator=fitness_calculator,                                      \n",
    "        sim=sim)"
   ]
  },
  {
   "cell_type": "code",
   "execution_count": null,
   "id": "99ac5cbe",
   "metadata": {},
   "outputs": [],
   "source": [
    "fitness_protocols\n",
    "print(eva)"
   ]
  },
  {
   "cell_type": "code",
   "execution_count": null,
   "id": "023e3eae",
   "metadata": {},
   "outputs": [],
   "source": [
    "t_start = time.time()\n",
    "responses = eva.run_protocols(protocols=fitness_protocols.values(), param_values={})\n",
    "print(f\"Elapsed time: {time.time() - t_start}\")"
   ]
  },
  {
   "cell_type": "code",
   "execution_count": null,
   "id": "679f3130",
   "metadata": {},
   "outputs": [],
   "source": [
    "responses"
   ]
  },
  {
   "cell_type": "code",
   "execution_count": null,
   "id": "945387d1",
   "metadata": {},
   "outputs": [],
   "source": [
    "plotting.plot_responses(responses)"
   ]
  }
 ],
 "metadata": {
  "language_info": {
   "name": "python"
  }
 },
 "nbformat": 4,
 "nbformat_minor": 5
}
