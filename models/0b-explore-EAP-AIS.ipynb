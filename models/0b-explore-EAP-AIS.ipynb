{
 "cells": [
  {
   "cell_type": "code",
   "execution_count": null,
   "id": "6cfd7eb7",
   "metadata": {},
   "outputs": [],
   "source": [
    "import numpy as np\n",
    "import MEAutility as mu\n",
    "import matplotlib.pyplot as plt\n",
    "from pathlib import Path\n",
    "import model\n",
    "from bluepyopt import ephys\n",
    "import neuroplotlib as nplt\n",
    "\n",
    "%matplotlib notebook"
   ]
  },
  {
   "cell_type": "code",
   "execution_count": null,
   "id": "0860db84",
   "metadata": {},
   "outputs": [],
   "source": [
    "probe_type = \"planar\" #'linear' #\n",
    "model_names = [\"hay\", \"hay_ais\"] # \"hay_ais\" #\"hallermann\" #'hay'\n",
    "model_folders = [(Path(\".\") / f\"{model_name}_model\").absolute() for model_name in model_names]"
   ]
  },
  {
   "cell_type": "code",
   "execution_count": null,
   "id": "ae7f061a",
   "metadata": {},
   "outputs": [],
   "source": [
    "# load eaps\n",
    "eaps = {}\n",
    "for model_name in model_names:\n",
    "    output_folder = Path(f\"../data/{model_name}_ecode_probe_{probe_type}\") / \"extracellular\"\n",
    "    eap = np.load(output_folder / \"template.npy\")\n",
    "    eaps[model_name] = eap"
   ]
  },
  {
   "cell_type": "code",
   "execution_count": null,
   "id": "1a1db86a",
   "metadata": {},
   "outputs": [],
   "source": [
    "vscale = 1.5 * np.max(np.abs(list(eaps.values())))"
   ]
  },
  {
   "cell_type": "code",
   "execution_count": null,
   "id": "cdcbe277",
   "metadata": {},
   "outputs": [],
   "source": [
    "probe = model.define_electrode(probe_type=probe_type)"
   ]
  },
  {
   "cell_type": "code",
   "execution_count": null,
   "id": "f6b94018",
   "metadata": {},
   "outputs": [],
   "source": [
    "cell = model.create(model_name=model_names[1], release=True)\n",
    "sim = ephys.simulators.LFPySimulator(cell, cvode_active=True, electrode=probe)"
   ]
  },
  {
   "cell_type": "code",
   "execution_count": null,
   "id": "75900bb6",
   "metadata": {},
   "outputs": [],
   "source": [
    "cell.freeze(param_dict={})\n",
    "cell.instantiate(sim=sim)"
   ]
  },
  {
   "cell_type": "code",
   "execution_count": null,
   "id": "0d4c515e",
   "metadata": {},
   "outputs": [],
   "source": [
    "fig, ax = plt.subplots()\n",
    "norm = False\n",
    "for i, (model_name, eap) in enumerate(eaps.items()):\n",
    "    if norm:\n",
    "        vscale = 1.5\n",
    "        eap_to_plot = eap / np.max(np.abs(eap), 1, keepdims=True)\n",
    "    else:\n",
    "        eap_to_plot = eap\n",
    "    mu.plot_mea_recording(eap_to_plot, probe, colors=f\"C{i}\", ax=ax)\n",
    "    max_channel = np.unravel_index(np.argmax(np.abs(eap)), eap.shape)[0]\n",
    "    ax.plot(probe.positions[max_channel, 0], probe.positions[max_channel, 1], color=f\"C{i}\", marker=\"*\")"
   ]
  },
  {
   "cell_type": "code",
   "execution_count": null,
   "id": "5e2191b6",
   "metadata": {},
   "outputs": [],
   "source": [
    "nplt.plot_detailed_neuron(cell.LFPyCell, ax=ax, color_ais=\"r\", color_hillock=\"k\",\n",
    "                          color_axon=\"b\", color_myelin=\"g\", plane=\"xy\", lw=2)"
   ]
  },
  {
   "cell_type": "code",
   "execution_count": null,
   "id": "dd51158b",
   "metadata": {},
   "outputs": [],
   "source": [
    "cell.unfreeze(param_names=[])"
   ]
  }
 ],
 "metadata": {
  "language_info": {
   "name": "python"
  }
 },
 "nbformat": 4,
 "nbformat_minor": 5
}
