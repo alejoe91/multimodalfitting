{
 "cells": [
  {
   "cell_type": "markdown",
   "id": "15adf53d",
   "metadata": {},
   "source": [
    "# Test experimental model"
   ]
  },
  {
   "cell_type": "code",
   "execution_count": null,
   "id": "335bc4d2",
   "metadata": {},
   "outputs": [],
   "source": [
    "import json\n",
    "import sys\n",
    "import os\n",
    "import time\n",
    "import neuron\n",
    "from pathlib import Path\n",
    "import time\n",
    "\n",
    "import matplotlib.pyplot as plt\n",
    "\n",
    "import bluepyopt as bpopt\n",
    "import bluepyopt.ephys as ephys\n",
    "\n",
    "import numpy as np\n",
    "\n",
    "import shutil\n",
    "from pprint import pprint\n",
    "\n",
    "import model\n",
    "import evaluator\n",
    "import plotting\n",
    "\n",
    "import neuron\n",
    "import LFPy\n",
    "\n",
    "import neuroplotlib as nplt\n",
    "\n",
    "%matplotlib notebook\n",
    "# %matplotlib inline\n"
   ]
  },
  {
   "cell_type": "code",
   "execution_count": null,
   "id": "3ed0b803",
   "metadata": {},
   "outputs": [],
   "source": [
    "# import logging\n",
    "# logging.basicConfig(level=logging.DEBUG)"
   ]
  },
  {
   "cell_type": "code",
   "execution_count": null,
   "id": "0a38f75b",
   "metadata": {},
   "outputs": [],
   "source": [
    "probe_type = \"linear\"\n",
    "model_name = \"experimental\" #'hallermann' # \"hay\" hay_ais\n",
    "model_folder = (Path(\".\") / f\"{model_name}_model\").absolute()"
   ]
  },
  {
   "cell_type": "code",
   "execution_count": null,
   "id": "46f4db17",
   "metadata": {},
   "outputs": [],
   "source": [
    "# compile model-specific mechanisms\n",
    "if not (model_folder / \"x86_64\").is_dir():\n",
    "    curr_dir = Path(\".\").absolute()\n",
    "    os.chdir(model_folder)\n",
    "    print(os.getcwd())\n",
    "    os.system(\"nrnivmodl mechanisms\")\n",
    "    os.chdir(curr_dir)\n",
    "else:\n",
    "    print(f\"Mechanisms already compiled for {model_name}\")\n",
    "    compiled_folder = Path(\"./x86_64\")\n",
    "    if compiled_folder.is_dir():\n",
    "        shutil.rmtree(compiled_folder)\n",
    "    shutil.copytree(model_folder / \"x86_64\", compiled_folder)"
   ]
  },
  {
   "cell_type": "code",
   "execution_count": null,
   "id": "7825de0c",
   "metadata": {},
   "outputs": [],
   "source": [
    "morphology = \"../data/experimental/cell1_210301/morphology/morphology_corrected.swc\"\n",
    "probe_file = \"../data/experimental/cell1_210301/extracellular/probe.json\"\n",
    "params_release = \"experimental_model/parameters_release_test.json\""
   ]
  },
  {
   "cell_type": "code",
   "execution_count": null,
   "id": "7a953875",
   "metadata": {},
   "outputs": [],
   "source": [
    "cell = model.create_experimental_model(morphology_file=morphology,\n",
    "                                       parameters_file=params_release)"
   ]
  },
  {
   "cell_type": "code",
   "execution_count": null,
   "id": "ece65f75",
   "metadata": {},
   "outputs": [],
   "source": [
    "param_names = [param.name for param in cell.params.values() if not param.frozen]\n",
    "probe = model.define_electrode(probe_file=probe_file)\n",
    "\n",
    "fitness_protocols = evaluator.define_protocols(\n",
    "    model_name,\n",
    "    feature_set=\"soma\",\n",
    "    feature_file=f\"{model_name}_model/features.json\",\n",
    "    electrode=probe,\n",
    "    protocols_with_lfp=[\"firepattern_120\"]\n",
    ")\n",
    "\n",
    "fitness_calculator = ephys.objectivescalculators.ObjectivesCalculator([])\n",
    "\n",
    "sim = ephys.simulators.LFPySimulator(cell, cvode_active=True, electrode=probe)\n",
    "\n",
    "eva = ephys.evaluators.CellEvaluator(                    \n",
    "        cell_model=cell,                                                       \n",
    "        param_names=param_names,                                                    \n",
    "        fitness_protocols=fitness_protocols,                                        \n",
    "        fitness_calculator=fitness_calculator,                                      \n",
    "        sim=sim)"
   ]
  },
  {
   "cell_type": "code",
   "execution_count": null,
   "id": "1a6981fa",
   "metadata": {},
   "outputs": [],
   "source": [
    "test_protocol = fitness_protocols[\"APWaveform_260\"]"
   ]
  },
  {
   "cell_type": "code",
   "execution_count": null,
   "id": "6b10bddf",
   "metadata": {},
   "outputs": [],
   "source": [
    "response = test_protocol.run(cell, param_values={}, sim=sim)"
   ]
  },
  {
   "cell_type": "code",
   "execution_count": null,
   "id": "06ee73f5",
   "metadata": {},
   "outputs": [],
   "source": [
    "plt.figure()\n",
    "plt.plot(response[\"APWaveform_260.soma.v\"][\"time\"], response[\"APWaveform_260.soma.v\"][\"voltage\"])"
   ]
  },
  {
   "cell_type": "markdown",
   "id": "f90f3bdc",
   "metadata": {},
   "source": [
    "### Check morphology and probe"
   ]
  },
  {
   "cell_type": "code",
   "execution_count": null,
   "id": "f6db434b",
   "metadata": {},
   "outputs": [],
   "source": [
    "cell.instantiate(sim=sim)"
   ]
  },
  {
   "cell_type": "code",
   "execution_count": null,
   "id": "9e127aff",
   "metadata": {},
   "outputs": [],
   "source": [
    "fig, ax = plt.subplots()\n",
    "ax.plot(probe.positions[:, 0], probe.positions[:, 1], marker=\"s\", ls=\"\", color=\"y\", alpha=0.2)\n",
    "nplt.plot_detailed_neuron(cell.LFPyCell, ax=ax, plane=\"xy\")"
   ]
  },
  {
   "cell_type": "code",
   "execution_count": null,
   "id": "ecb5d182",
   "metadata": {},
   "outputs": [],
   "source": [
    "fig, ax = plt.subplots()\n",
    "ax.plot(probe.positions[:, 0], probe.positions[:, 2], marker=\"s\", ls=\"\", color=\"y\", alpha=0.2)\n",
    "nplt.plot_detailed_neuron(cell.LFPyCell, ax=ax, plane=\"xz\")\n",
    "ax.axis(\"off\")"
   ]
  },
  {
   "cell_type": "code",
   "execution_count": null,
   "id": "8090b09e",
   "metadata": {},
   "outputs": [],
   "source": []
  }
 ],
 "metadata": {
  "language_info": {
   "name": "python"
  }
 },
 "nbformat": 4,
 "nbformat_minor": 5
}
