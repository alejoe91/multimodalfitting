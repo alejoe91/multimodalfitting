{
 "cells": [
  {
   "cell_type": "markdown",
   "id": "15adf53d",
   "metadata": {},
   "source": [
    "# Test experimental model"
   ]
  },
  {
   "cell_type": "code",
   "execution_count": null,
   "id": "335bc4d2",
   "metadata": {},
   "outputs": [],
   "source": [
    "import json\n",
    "import sys\n",
    "import os\n",
    "import time\n",
    "import neuron\n",
    "from pathlib import Path\n",
    "import time\n",
    "\n",
    "import matplotlib.pyplot as plt\n",
    "\n",
    "import bluepyopt as bpopt\n",
    "import bluepyopt.ephys as ephys\n",
    "\n",
    "import numpy as np\n",
    "\n",
    "import shutil\n",
    "from pprint import pprint\n",
    "\n",
    "import model\n",
    "import evaluator\n",
    "import plotting\n",
    "\n",
    "import neuron\n",
    "import LFPy\n",
    "\n",
    "import neuroplotlib as nplt\n",
    "\n",
    "%matplotlib notebook\n",
    "# %matplotlib inline\n"
   ]
  },
  {
   "cell_type": "code",
   "execution_count": null,
   "id": "54a83657",
   "metadata": {},
   "outputs": [],
   "source": [
    "import logging\n",
    "logging.basicConfig(level=logging.DEBUG)"
   ]
  },
  {
   "cell_type": "code",
   "execution_count": null,
   "id": "0a38f75b",
   "metadata": {},
   "outputs": [],
   "source": [
    "probe_type = \"linear\"\n",
    "model_name = \"experimental\" #'hallermann' # \"hay\" hay_ais\n",
    "model_folder = (Path(\".\") / f\"{model_name}_model\").absolute()"
   ]
  },
  {
   "cell_type": "code",
   "execution_count": null,
   "id": "46f4db17",
   "metadata": {},
   "outputs": [],
   "source": [
    "# compile model-specific mechanisms\n",
    "if not (model_folder / \"x86_64\").is_dir():\n",
    "    curr_dir = Path(\".\").absolute()\n",
    "    os.chdir(model_folder)\n",
    "    print(os.getcwd())\n",
    "    os.system(\"nrnivmodl mechanisms\")\n",
    "    os.chdir(curr_dir)\n",
    "else:\n",
    "    print(f\"Mechanisms already compiled for {model_name}\")\n",
    "    compiled_folder = Path(\"./x86_64\")\n",
    "    if compiled_folder.is_dir():\n",
    "        shutil.rmtree(compiled_folder)\n",
    "    shutil.copytree(model_folder / \"x86_64\", compiled_folder)"
   ]
  },
  {
   "cell_type": "code",
   "execution_count": null,
   "id": "7825de0c",
   "metadata": {},
   "outputs": [],
   "source": [
    "morphology = \"../data/experimental/cell1_210301/morphology/morphology_corrected.swc\"\n",
    "probe_file = \"../data/experimental/cell1_210301/extracellular/probe.json\"\n",
    "params_release = \"experimental_model/parameters_release.json\""
   ]
  },
  {
   "cell_type": "code",
   "execution_count": null,
   "id": "7a953875",
   "metadata": {},
   "outputs": [],
   "source": [
    "cell = model.create_experimental_model(morphology_file=morphology,\n",
    "                                       parameters_file=params_release)"
   ]
  },
  {
   "cell_type": "code",
   "execution_count": null,
   "id": "0c095093",
   "metadata": {},
   "outputs": [],
   "source": [
    "param_names = [param.name for param in cell.params.values() if not param.frozen]\n",
    "probe = model.define_electrode(probe_file=probe_file)\n",
    "\n",
    "fitness_protocols = evaluator.define_protocols(\n",
    "    model_name,\n",
    "    feature_set=\"soma\",\n",
    "    feature_file=f\"{model_name}_model/features.json\",\n",
    "    electrode=probe,\n",
    "    protocols_with_lfp=[\"firepattern_120\"]\n",
    ")\n",
    "\n",
    "fitness_calculator = ephys.objectivescalculators.ObjectivesCalculator([])\n",
    "\n",
    "sim = ephys.simulators.LFPySimulator(cell, cvode_active=True, electrode=probe)\n",
    "\n",
    "eva = ephys.evaluators.CellEvaluator(                    \n",
    "        cell_model=cell,                                                       \n",
    "        param_names=param_names,                                                    \n",
    "        fitness_protocols=fitness_protocols,                                        \n",
    "        fitness_calculator=fitness_calculator,                                      \n",
    "        sim=sim)"
   ]
  },
  {
   "cell_type": "code",
   "execution_count": null,
   "id": "f0adcefe",
   "metadata": {},
   "outputs": [],
   "source": [
    "test_protocol = fitness_protocols[\"APWaveform_260\"]"
   ]
  },
  {
   "cell_type": "code",
   "execution_count": null,
   "id": "a15acff4",
   "metadata": {},
   "outputs": [],
   "source": [
    "response = test_protocol.run(cell, param_values={}, sim=sim)"
   ]
  },
  {
   "cell_type": "code",
   "execution_count": null,
   "id": "fff574d4",
   "metadata": {},
   "outputs": [],
   "source": [
    "plt.figure()\n",
    "plt.plot(response[\"APWaveform_260.soma.v\"][\"time\"], response[\"APWaveform_260.soma.v\"][\"voltage\"])"
   ]
  },
  {
   "cell_type": "markdown",
   "id": "04ff8502",
   "metadata": {},
   "source": [
    "### Check morphology and probe"
   ]
  },
  {
   "cell_type": "code",
   "execution_count": null,
   "id": "ca23ceee",
   "metadata": {},
   "outputs": [],
   "source": [
    "cell.instantiate(sim=sim)"
   ]
  },
  {
   "cell_type": "code",
   "execution_count": null,
   "id": "ad6e5bbe",
   "metadata": {},
   "outputs": [],
   "source": [
    "lfpy_cell = cell.LFPyCell"
   ]
  },
  {
   "cell_type": "code",
   "execution_count": null,
   "id": "37293e11",
   "metadata": {},
   "outputs": [],
   "source": [
    "fig, ax = plt.subplots()\n",
    "ax.plot(probe.positions[:, 0], probe.positions[:, 1], marker=\"s\", ls=\"\", color=\"y\", alpha=0.2)\n",
    "nplt.plot_neuron(lfpy_cell, plane=\"xy\", color_ais=\"g\", ax=ax)\n",
    "ax.axis(\"off\")"
   ]
  },
  {
   "cell_type": "code",
   "execution_count": null,
   "id": "7d7a1659",
   "metadata": {},
   "outputs": [],
   "source": [
    "for sec in lfpy_cell.allseclist:\n",
    "    if \"ais\" in sec.name():\n",
    "        break\n",
    "ais = sec"
   ]
  },
  {
   "cell_type": "code",
   "execution_count": null,
   "id": "49eda9ca",
   "metadata": {},
   "outputs": [],
   "source": [
    "plt.figure()\n",
    "ais_dist = np.linspace(0, ais.L, ais.nseg)\n",
    "plt.plot(ais_dist, ais.psection()[\"density_mechs\"][\"Na16Hu2009\"][\"gNa16bar\"], label=\"gNa16bar_Na16Hu2009\")\n",
    "plt.plot(ais_dist, ais.psection()[\"density_mechs\"][\"Na12Hu2009\"][\"gNa12bar\"], label=\"gNa12bar_Na12Hu2009\")"
   ]
  },
  {
   "cell_type": "code",
   "execution_count": null,
   "id": "b48aded8",
   "metadata": {},
   "outputs": [],
   "source": [
    "dend_list = []\n",
    "for sec in lfpy_cell.allseclist:\n",
    "    if \"dend\" in sec.name():\n",
    "        dend_list.append(sec)\n"
   ]
  },
  {
   "cell_type": "code",
   "execution_count": null,
   "id": "90746578",
   "metadata": {},
   "outputs": [],
   "source": [
    "plt.figure()\n",
    "for dend in dend_list:\n",
    "    start_ = np.array([dend.x3d(0), dend.y3d(0), dend.x3d(0)])\n",
    "    if dend.nseg > 1:\n",
    "        start_dist = np.linalg.norm(start_)\n",
    "        end_dist = start_dist + dend.L\n",
    "        linear_dist_to_soma = np.linspace(start_dist, end_dist, dend.nseg)\n",
    "        \n",
    "        print(linear_dist_to_soma[-1] - linear_dist_to_soma[0])\n",
    "    else:\n",
    "        linear_dist_to_soma = [np.linalg.norm(start_) + dend.L // 2]\n",
    "\n",
    "    plt.plot(linear_dist_to_soma, dend.psection()[\"density_mechs\"][\"NaTg\"][\"gNaTgbar\"], \"b*\")"
   ]
  },
  {
   "cell_type": "code",
   "execution_count": null,
   "id": "aeaaacb5",
   "metadata": {},
   "outputs": [],
   "source": []
  }
 ],
 "metadata": {
  "language_info": {
   "name": "python"
  }
 },
 "nbformat": 4,
 "nbformat_minor": 5
}
