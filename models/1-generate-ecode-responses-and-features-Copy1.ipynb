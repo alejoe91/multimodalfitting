{
 "cells": [
  {
   "cell_type": "markdown",
   "metadata": {},
   "source": [
    "# Generate and save ECODE responses, protocols, and features"
   ]
  },
  {
   "cell_type": "code",
   "execution_count": 1,
   "metadata": {},
   "outputs": [],
   "source": [
    "import json\n",
    "import matplotlib.pyplot as plt\n",
    "\n",
    "import bluepyopt as bpopt\n",
    "import bluepyopt.ephys as ephys\n",
    "\n",
    "import model\n",
    "import evaluator\n",
    "import time\n",
    "import neuron\n",
    "import plotting\n",
    "import MEAutility as mu\n",
    "from pprint import pprint\n",
    "import numpy as np\n",
    "\n",
    "import sys\n",
    "import shutil\n",
    "\n",
    "from pathlib import Path\n",
    "import os\n",
    "\n",
    "# %matplotlib notebook"
   ]
  },
  {
   "cell_type": "markdown",
   "metadata": {},
   "source": [
    "## 1) Generate and run ecode protocols"
   ]
  },
  {
   "cell_type": "code",
   "execution_count": 2,
   "metadata": {},
   "outputs": [],
   "source": [
    "sys.path.append('../ecode/')"
   ]
  },
  {
   "cell_type": "code",
   "execution_count": 3,
   "metadata": {},
   "outputs": [],
   "source": [
    "from ecode import generate_ecode_protocols, compute_rheobase_for_model, run_ecode_protocols, \\\n",
    "        save_intracellular_responses, save_extracellular_template"
   ]
  },
  {
   "cell_type": "code",
   "execution_count": 4,
   "metadata": {},
   "outputs": [],
   "source": [
    "probe_type = 'linear' #\"planar\"\n",
    "model_name = \"hay_ais\" #\"hallermann\" #'hay'\n",
    "model_folder = (Path(\".\") / f\"{model_name}_model\").absolute()"
   ]
  },
  {
   "cell_type": "code",
   "execution_count": 5,
   "metadata": {},
   "outputs": [],
   "source": [
    "# output folder for data\n",
    "output_folder = Path(f\"../data/{model_name}_ecode_probe_{probe_type}\")"
   ]
  },
  {
   "cell_type": "code",
   "execution_count": 6,
   "metadata": {},
   "outputs": [
    {
     "name": "stdout",
     "output_type": "stream",
     "text": [
      "Mechanisms already compiled for hay_ais\n"
     ]
    }
   ],
   "source": [
    "# compile model-specific mechanisms\n",
    "if not (model_folder / \"x86_64\").is_dir():\n",
    "    curr_dir = Path(\".\").absolute()\n",
    "    os.chdir(model_folder)\n",
    "    print(os.getcwd())\n",
    "    os.system(\"nrnivmodl mechanisms\")\n",
    "    os.chdir(curr_dir)\n",
    "else:\n",
    "    print(f\"Mechanisms already compiled for {model_name}\")\n",
    "    compiled_folder = Path(\"./x86_64\")\n",
    "    if compiled_folder.is_dir():\n",
    "        shutil.rmtree(compiled_folder)\n",
    "    shutil.copytree(model_folder / \"x86_64\", compiled_folder)"
   ]
  },
  {
   "cell_type": "code",
   "execution_count": 7,
   "metadata": {},
   "outputs": [],
   "source": [
    "cell = model.create(model_name=model_name, release=True)\n",
    "\n",
    "probe = model.define_electrode(probe_type=probe_type)\n",
    "probe = None\n",
    "\n",
    "param_names = [param.name for param in cell.params.values() if not param.frozen]\n",
    "if model_name == \"hallermann\":\n",
    "    cvode_active = False\n",
    "else:\n",
    "    cvode_active = True\n",
    "sim = ephys.simulators.LFPySimulator(cell, cvode_active=cvode_active, electrode=probe)"
   ]
  },
  {
   "cell_type": "code",
   "execution_count": 8,
   "metadata": {},
   "outputs": [
    {
     "name": "stdout",
     "output_type": "stream",
     "text": [
      "Help on function compute_rheobase_for_model in module ecode:\n",
      "\n",
      "compute_rheobase_for_model(cell, sim, step_duration=270, delay=250, step_min=0.1, step_max=1, step_increment=0.02)\n",
      "    Parameters\n",
      "    ----------\n",
      "    cell: BluePyOpt.ephys.Cell\n",
      "        The BluePyOpt cell model \n",
      "    step_duration: float\n",
      "        Step duration in ms\n",
      "    delay: float\n",
      "        Delay in ms before and after the step\n",
      "    step_min: float\n",
      "        Minimum step current in nA\n",
      "    step_max: float\n",
      "        Maximum step current in nA\n",
      "    step_increment: float\n",
      "        Step increment in nA\n",
      "    \n",
      "    Returns\n",
      "    -------\n",
      "    rheobase_current: float or None\n",
      "        The estimated rheobase current in nA. If no spikes are found, it returns None\n",
      "\n"
     ]
    }
   ],
   "source": [
    "help(compute_rheobase_for_model)"
   ]
  },
  {
   "cell_type": "code",
   "execution_count": 9,
   "metadata": {
    "scrolled": true
   },
   "outputs": [
    {
     "name": "stdout",
     "output_type": "stream",
     "text": [
      "Running protocol StepsRheobase_0.32nA\n",
      "Number of spikes: 0\n",
      "Running protocol StepsRheobase_0.325nA\n",
      "Number of spikes: 0\n",
      "Running protocol StepsRheobase_0.33nA\n",
      "Number of spikes: 0\n",
      "Running protocol StepsRheobase_0.335nA\n",
      "Number of spikes: 0\n",
      "Running protocol StepsRheobase_0.34nA\n",
      "Number of spikes: 0\n",
      "Running protocol StepsRheobase_0.345nA\n",
      "Number of spikes: 1\n",
      "Rheobase found\n"
     ]
    }
   ],
   "source": [
    "# rheobase, rheo_protocols, rheo_responses = compute_rheobase_for_model(cell, sim=sim, step_min=5.34, step_max=6, step_increment=0.01)\n",
    "rheobase, rheo_protocols, rheo_responses = compute_rheobase_for_model(cell, sim=sim, step_min=0.32, step_increment=0.005)"
   ]
  },
  {
   "cell_type": "code",
   "execution_count": 10,
   "metadata": {},
   "outputs": [],
   "source": [
    "ecode_protocols = generate_ecode_protocols(rheobase_current=rheobase, record_extra=False,\n",
    "                                           protocols_with_lfp=\"firepattern\")"
   ]
  },
  {
   "cell_type": "code",
   "execution_count": 11,
   "metadata": {},
   "outputs": [
    {
     "name": "stdout",
     "output_type": "stream",
     "text": [
      "Running protocol IDthres\n",
      "Elapsed time IDthres: 61.28082489967346\n",
      "Running protocol firepattern\n",
      "Elapsed time firepattern: 33.72769522666931\n",
      "Running protocol IV\n",
      "Elapsed time IV: 32.31355953216553\n",
      "Running protocol IDrest\n",
      "Elapsed time IDrest: 82.75671052932739\n",
      "Running protocol APWaveform\n",
      "Elapsed time APWaveform: 16.412774085998535\n",
      "Running protocol HyperDepol\n",
      "Elapsed time HyperDepol: 11.611633062362671\n",
      "Running protocol sAHP\n",
      "Elapsed time sAHP: 18.063036680221558\n",
      "Running protocol PosCheops\n",
      "Elapsed time PosCheops: 48.20797419548035\n"
     ]
    }
   ],
   "source": [
    "responses_dict = run_ecode_protocols(protocols=ecode_protocols, cell=cell, sim=sim, \n",
    "                                     resample_rate_khz=40)"
   ]
  },
  {
   "cell_type": "code",
   "execution_count": 12,
   "metadata": {},
   "outputs": [
    {
     "name": "stdout",
     "output_type": "stream",
     "text": [
      "Saving IDthres\n",
      "Saving firepattern\n",
      "Saving IV\n",
      "Saving IDrest\n",
      "Saving APWaveform\n",
      "Saving HyperDepol\n",
      "Saving sAHP\n",
      "Saving PosCheops\n"
     ]
    }
   ],
   "source": [
    "save_intracellular_responses(responses_dict=responses_dict, output_folder=output_folder)"
   ]
  },
  {
   "cell_type": "code",
   "execution_count": 13,
   "metadata": {},
   "outputs": [
    {
     "ename": "AssertionError",
     "evalue": "firepattern-1.MEA.LFP not found in responses",
     "output_type": "error",
     "traceback": [
      "\u001b[0;31m---------------------------------------------------------------------------\u001b[0m",
      "\u001b[0;31mAssertionError\u001b[0m                            Traceback (most recent call last)",
      "\u001b[0;32m<ipython-input-13-a16ef418d3e2>\u001b[0m in \u001b[0;36m<module>\u001b[0;34m\u001b[0m\n\u001b[0;32m----> 1\u001b[0;31m eap, locations = save_extracellular_template(responses=responses_dict[\"firepattern\"], \n\u001b[0m\u001b[1;32m      2\u001b[0m                                              \u001b[0mprotocols\u001b[0m\u001b[0;34m=\u001b[0m\u001b[0mecode_protocols\u001b[0m\u001b[0;34m,\u001b[0m \u001b[0mprotocol_name\u001b[0m\u001b[0;34m=\u001b[0m\u001b[0;34m\"firepattern\"\u001b[0m\u001b[0;34m,\u001b[0m\u001b[0;34m\u001b[0m\u001b[0;34m\u001b[0m\u001b[0m\n\u001b[1;32m      3\u001b[0m                                              \u001b[0mprobe\u001b[0m\u001b[0;34m=\u001b[0m\u001b[0mprobe\u001b[0m\u001b[0;34m,\u001b[0m \u001b[0moutput_folder\u001b[0m\u001b[0;34m=\u001b[0m\u001b[0moutput_folder\u001b[0m\u001b[0;34m,\u001b[0m \u001b[0msweep_id\u001b[0m\u001b[0;34m=\u001b[0m\u001b[0;36m1\u001b[0m\u001b[0;34m,\u001b[0m\u001b[0;34m\u001b[0m\u001b[0;34m\u001b[0m\u001b[0m\n\u001b[1;32m      4\u001b[0m                                              \u001b[0mresample_rate_khz\u001b[0m\u001b[0;34m=\u001b[0m\u001b[0;36m20\u001b[0m\u001b[0;34m,\u001b[0m \u001b[0mfcut\u001b[0m\u001b[0;34m=\u001b[0m\u001b[0;34m[\u001b[0m\u001b[0;36m300\u001b[0m\u001b[0;34m,\u001b[0m \u001b[0;36m6000\u001b[0m\u001b[0;34m]\u001b[0m\u001b[0;34m,\u001b[0m\u001b[0;34m\u001b[0m\u001b[0;34m\u001b[0m\u001b[0m\n\u001b[1;32m      5\u001b[0m                                              filt_type=\"filtfilt\")\n",
      "\u001b[0;32m~/lfpy/multimodalfitting/ecode/ecode.py\u001b[0m in \u001b[0;36msave_extracellular_template\u001b[0;34m(responses, protocols, protocol_name, probe, output_folder, resample_rate_khz, sweep_id, **eap_kwargs)\u001b[0m\n\u001b[1;32m    394\u001b[0m     \u001b[0;32mif\u001b[0m \u001b[0;34m\"fs\"\u001b[0m \u001b[0;32min\u001b[0m \u001b[0meap_kwargs\u001b[0m\u001b[0;34m.\u001b[0m\u001b[0mkeys\u001b[0m\u001b[0;34m(\u001b[0m\u001b[0;34m)\u001b[0m\u001b[0;34m:\u001b[0m\u001b[0;34m\u001b[0m\u001b[0;34m\u001b[0m\u001b[0m\n\u001b[1;32m    395\u001b[0m         \u001b[0;32mdel\u001b[0m \u001b[0meap_kwargs\u001b[0m\u001b[0;34m[\u001b[0m\u001b[0;34m\"fs\"\u001b[0m\u001b[0;34m]\u001b[0m\u001b[0;34m\u001b[0m\u001b[0;34m\u001b[0m\u001b[0m\n\u001b[0;32m--> 396\u001b[0;31m     eap = calculate_eap(responses, protocol_name, protocols, sweep_id=sweep_id,\n\u001b[0m\u001b[1;32m    397\u001b[0m                         fs=resample_rate_khz, **eap_kwargs)\n\u001b[1;32m    398\u001b[0m     \u001b[0mlocations\u001b[0m \u001b[0;34m=\u001b[0m \u001b[0mprobe\u001b[0m\u001b[0;34m.\u001b[0m\u001b[0mpositions\u001b[0m\u001b[0;34m\u001b[0m\u001b[0;34m\u001b[0m\u001b[0m\n",
      "\u001b[0;32m~/lfpy/multimodalfitting/models/utils.py\u001b[0m in \u001b[0;36mcalculate_eap\u001b[0;34m(responses, protocol_name, protocols, sweep_id, fs, fcut, ms_cut, filt_type, skip_first_spike, skip_last_spike, raise_warnings, verbose, **efel_kwargs)\u001b[0m\n\u001b[1;32m    265\u001b[0m \u001b[0;34m\u001b[0m\u001b[0m\n\u001b[1;32m    266\u001b[0m     \u001b[0;32massert\u001b[0m \u001b[0msomatic_recording_name\u001b[0m \u001b[0;32min\u001b[0m \u001b[0mresponses\u001b[0m\u001b[0;34m.\u001b[0m\u001b[0mkeys\u001b[0m\u001b[0;34m(\u001b[0m\u001b[0;34m)\u001b[0m\u001b[0;34m,\u001b[0m \u001b[0;34mf\"{somatic_recording_name} not found in responses\"\u001b[0m\u001b[0;34m\u001b[0m\u001b[0;34m\u001b[0m\u001b[0m\n\u001b[0;32m--> 267\u001b[0;31m     \u001b[0;32massert\u001b[0m \u001b[0mextra_recording_name\u001b[0m \u001b[0;32min\u001b[0m \u001b[0mresponses\u001b[0m\u001b[0;34m.\u001b[0m\u001b[0mkeys\u001b[0m\u001b[0;34m(\u001b[0m\u001b[0;34m)\u001b[0m\u001b[0;34m,\u001b[0m \u001b[0;34mf\"{extra_recording_name} not found in responses\"\u001b[0m\u001b[0;34m\u001b[0m\u001b[0;34m\u001b[0m\u001b[0m\n\u001b[0m\u001b[1;32m    268\u001b[0m \u001b[0;34m\u001b[0m\u001b[0m\n\u001b[1;32m    269\u001b[0m     peak_times = _get_peak_times(responses, somatic_recording_name, stim_start, stim_end,\n",
      "\u001b[0;31mAssertionError\u001b[0m: firepattern-1.MEA.LFP not found in responses"
     ]
    }
   ],
   "source": [
    "eap, locations = save_extracellular_template(responses=responses_dict[\"firepattern\"], \n",
    "                                             protocols=ecode_protocols, protocol_name=\"firepattern\",\n",
    "                                             probe=probe, output_folder=output_folder, sweep_id=1, \n",
    "                                             resample_rate_khz=20, fcut=[300, 6000],\n",
    "                                             filt_type=\"filtfilt\")"
   ]
  },
  {
   "cell_type": "code",
   "execution_count": null,
   "metadata": {},
   "outputs": [],
   "source": [
    "ax = mu.plot_mea_recording(eap, probe)"
   ]
  },
  {
   "cell_type": "markdown",
   "metadata": {},
   "source": [
    "## 2) Generate feature and protocols with BluePyEfe"
   ]
  },
  {
   "cell_type": "code",
   "execution_count": null,
   "metadata": {},
   "outputs": [],
   "source": [
    "sys.path.append('../efeatures_extraction')"
   ]
  },
  {
   "cell_type": "code",
   "execution_count": null,
   "metadata": {},
   "outputs": [],
   "source": [
    "efeatures_output_directory = Path(f\"../data/{model_name}_ecode_probe_{probe_type}/efeatures\")"
   ]
  },
  {
   "cell_type": "code",
   "execution_count": null,
   "metadata": {},
   "outputs": [],
   "source": [
    "from bluepyefe.extract import read_recordings, extract_efeatures_at_targets, compute_rheobase,\\\n",
    "    mean_efeatures, create_feature_protocol_files\n",
    "from bluepyefe.plotting import plot_all_recordings_efeatures\n",
    "\n",
    "from extraction_tools import build_model_metadata, model_csv_reader, get_targets, ecodes_model_timings"
   ]
  },
  {
   "cell_type": "code",
   "execution_count": null,
   "metadata": {
    "scrolled": true
   },
   "outputs": [],
   "source": [
    "files_metadata = build_model_metadata(cell_id=model_name, ephys_dir=output_folder)\n",
    "pprint(files_metadata[model_name])"
   ]
  },
  {
   "cell_type": "code",
   "execution_count": null,
   "metadata": {},
   "outputs": [],
   "source": [
    "cells = read_recordings(\n",
    "    files_metadata=files_metadata,\n",
    "    recording_reader=model_csv_reader\n",
    ")"
   ]
  },
  {
   "cell_type": "code",
   "execution_count": null,
   "metadata": {
    "scrolled": true
   },
   "outputs": [],
   "source": [
    "# define target features for different protocols\n",
    "targets = get_targets(ecodes_model_timings)\n",
    "pprint(targets)"
   ]
  },
  {
   "cell_type": "code",
   "execution_count": null,
   "metadata": {},
   "outputs": [],
   "source": [
    "t_start = time.time()\n",
    "extract_efeatures_at_targets(\n",
    "    cells, \n",
    "    targets,\n",
    ")\n",
    "t_stop = time.time()\n",
    "print(f\"Elapsed time {t_stop - t_start}\")"
   ]
  },
  {
   "cell_type": "code",
   "execution_count": null,
   "metadata": {},
   "outputs": [],
   "source": [
    "compute_rheobase(\n",
    "    cells, \n",
    "    protocols_rheobase=['IDthres']\n",
    ")"
   ]
  },
  {
   "cell_type": "code",
   "execution_count": null,
   "metadata": {},
   "outputs": [],
   "source": [
    "protocols = mean_efeatures(cells, targets, use_global_rheobase=True)"
   ]
  },
  {
   "cell_type": "code",
   "execution_count": null,
   "metadata": {
    "scrolled": true
   },
   "outputs": [],
   "source": [
    "efeatures, protocol_definitions, current = create_feature_protocol_files(\n",
    "    cells,\n",
    "    protocols,\n",
    "    output_directory=efeatures_output_directory,\n",
    "    threshold_nvalue_save=1,\n",
    "    write_files=True,\n",
    ")"
   ]
  },
  {
   "cell_type": "markdown",
   "metadata": {},
   "source": [
    "## 3) Convert to BPO format and append extra features"
   ]
  },
  {
   "cell_type": "code",
   "execution_count": null,
   "metadata": {},
   "outputs": [],
   "source": [
    "from extraction_tools import convert_to_bpo_format, append_extrafeatures_to_json, compute_extra_features"
   ]
  },
  {
   "cell_type": "code",
   "execution_count": null,
   "metadata": {},
   "outputs": [],
   "source": [
    "protocols_of_interest = [\"firepattern_200\", \"IV_-100\", \"APWaveform_260\"]\n",
    "\n",
    "in_protocol_path = efeatures_output_directory / \"protocols.json\"\n",
    "in_efeatures_path = efeatures_output_directory / \"features.json\"\n",
    "\n",
    "out_protocol_path = efeatures_output_directory / \"protocols_BPO_test.json\"\n",
    "out_efeatures_path = efeatures_output_directory / \"features_BPO_test.json\""
   ]
  },
  {
   "cell_type": "code",
   "execution_count": null,
   "metadata": {},
   "outputs": [],
   "source": [
    "protocols_dict, efeatures_dict = convert_to_bpo_format(in_protocol_path, in_efeatures_path, \n",
    "                                                       out_protocol_path, out_efeatures_path, \n",
    "                                                       protocols_of_interest=protocols_of_interest, \n",
    "                                                       std_from_mean=0.2)"
   ]
  },
  {
   "cell_type": "code",
   "execution_count": null,
   "metadata": {},
   "outputs": [],
   "source": [
    "efeatures_dict"
   ]
  },
  {
   "cell_type": "code",
   "execution_count": null,
   "metadata": {},
   "outputs": [],
   "source": [
    "# append MEA.LFP features\n",
    "eap = np.load(output_folder / \"extracellular\" / \"template.npy\")\n",
    "fs = np.load(output_folder / \"extracellular\" / \"fs.npy\")"
   ]
  },
  {
   "cell_type": "code",
   "execution_count": null,
   "metadata": {},
   "outputs": [],
   "source": [
    "extra_features = compute_extra_features(eap, fs, upsample=10)"
   ]
  },
  {
   "cell_type": "code",
   "execution_count": null,
   "metadata": {
    "scrolled": true
   },
   "outputs": [],
   "source": [
    "pprint(extra_features)"
   ]
  },
  {
   "cell_type": "code",
   "execution_count": null,
   "metadata": {},
   "outputs": [],
   "source": [
    "efeatures_dict = append_extrafeatures_to_json(extra_features, protocol_name=\"firepattern_200\",\n",
    "                                              efeatures_path=out_efeatures_path)"
   ]
  },
  {
   "cell_type": "code",
   "execution_count": null,
   "metadata": {},
   "outputs": [],
   "source": [
    "# plot one extra features\n",
    "plotting.plot_feature_map(extra_features[\"neg_image\"], probe)"
   ]
  },
  {
   "cell_type": "code",
   "execution_count": null,
   "metadata": {},
   "outputs": [],
   "source": []
  }
 ],
 "metadata": {
  "kernelspec": {
   "display_name": "lfpenv",
   "language": "python",
   "name": "lfpenv"
  },
  "language_info": {
   "codemirror_mode": {
    "name": "ipython",
    "version": 3
   },
   "file_extension": ".py",
   "mimetype": "text/x-python",
   "name": "python",
   "nbconvert_exporter": "python",
   "pygments_lexer": "ipython3",
   "version": "3.8.3"
  }
 },
 "nbformat": 4,
 "nbformat_minor": 4
}
