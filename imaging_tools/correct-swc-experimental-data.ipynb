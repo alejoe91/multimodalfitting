{
 "cells": [
  {
   "cell_type": "code",
   "execution_count": null,
   "id": "9c6bf0dd",
   "metadata": {},
   "outputs": [],
   "source": [
    "import numpy as np\n",
    "import neuroplotlib as nplt\n",
    "import matplotlib.pyplot as plt\n",
    "from pathlib import Path\n",
    "\n",
    "from correct_swc import correct_swc, swc_dtype\n",
    "\n",
    "%matplotlib notebook"
   ]
  },
  {
   "cell_type": "code",
   "execution_count": null,
   "id": "8b0ebd88",
   "metadata": {},
   "outputs": [],
   "source": [
    "input_swc_file = Path(\"../data/experimental/cell1_210301/morphology/morphology_raw.swc\")\n",
    "output_swc_file = Path(\"../data/experimental/cell1_210301/morphology/morphology_corrected_final.swc\")"
   ]
  },
  {
   "cell_type": "code",
   "execution_count": null,
   "id": "71227bab",
   "metadata": {},
   "outputs": [],
   "source": [
    "try:\n",
    "    nplt.plot_neuron(morphology=str(input_swc_file), projections3d=True, color=\"b\")\n",
    "except RuntimeError:\n",
    "    print(\"Original morphology has HOC errors\")"
   ]
  },
  {
   "cell_type": "code",
   "execution_count": null,
   "id": "5444e818",
   "metadata": {},
   "outputs": [],
   "source": [
    "swc_corrected = correct_swc(input_swc_file=input_swc_file, output_swc_file=output_swc_file, \n",
    "                            min_diam_value=0.15, soma_radius=10, reset_tags=[[4, 3], [7, 4]],\n",
    "                            save=False)"
   ]
  },
  {
   "cell_type": "markdown",
   "id": "cbb77359",
   "metadata": {},
   "source": [
    "# Save corrected swc"
   ]
  },
  {
   "cell_type": "code",
   "execution_count": null,
   "id": "765fc6a9",
   "metadata": {},
   "outputs": [],
   "source": [
    "np.savetxt(output_swc_file, swc_corrected)"
   ]
  },
  {
   "cell_type": "code",
   "execution_count": null,
   "id": "9fa5776f",
   "metadata": {},
   "outputs": [],
   "source": [
    "nplt.plot_neuron(morphology=str(output_swc_file), plane=\"xy\", color_axon=\"y\", color_dend=\"b\",\n",
    "                 color_apic=\"r\")"
   ]
  }
 ],
 "metadata": {
  "language_info": {
   "name": "python"
  }
 },
 "nbformat": 4,
 "nbformat_minor": 5
}
