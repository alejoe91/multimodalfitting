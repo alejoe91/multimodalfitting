{
 "cells": [
  {
   "cell_type": "markdown",
   "metadata": {},
   "source": [
    "# 2) Compute features for random parameters\n",
    "\n",
    "Using the generated random parameters, we next compute responses and features for 3 different feature sets:\n",
    "\n",
    "- 'bap': features extracted from somatic recording with 3 different steps + a pulse response measured at the soma plus two locations on the apical dendrite (Backpropagating Action Potential)\n",
    "\n",
    "- 'soma': features extracted from somatic recording with 3 different steps\n",
    "\n",
    "- 'extra': features extracted from somatic recording with 3 different steps and from mean extracellular action potential\n",
    "\n",
    "Computed features are saved in the `config/features/` folder for each parameter set and are ready to be used for optimization."
   ]
  },
  {
   "cell_type": "code",
   "execution_count": null,
   "metadata": {},
   "outputs": [],
   "source": [
    "%load_ext autoreload\n",
    "%autoreload\n",
    "\n",
    "import matplotlib.pyplot as plt\n",
    "import pandas as pd\n",
    "import numpy as np\n",
    "import seaborn as sns\n",
    "import numpy as np\n",
    "import os\n",
    "import json\n",
    "from pathlib import Path\n",
    "from scipy.spatial import distance\n",
    "import MEAutility as mu\n",
    "import LFPy\n",
    "from copy import copy\n",
    "import time\n",
    "#import neuroplotlib as npl\n",
    "\n",
    "import bluepyopt as bpopt\n",
    "import bluepyopt.ephys as ephys\n",
    "\n",
    "%matplotlib notebook"
   ]
  },
  {
   "cell_type": "code",
   "execution_count": null,
   "metadata": {},
   "outputs": [],
   "source": [
    "np.random.seed(2308)"
   ]
  },
  {
   "cell_type": "code",
   "execution_count": null,
   "metadata": {},
   "outputs": [],
   "source": [
    "import l5pc_model\n",
    "import l5pc_evaluator\n",
    "import l5pc_plot"
   ]
  },
  {
   "cell_type": "code",
   "execution_count": null,
   "metadata": {},
   "outputs": [],
   "source": [
    "save_params = True"
   ]
  },
  {
   "cell_type": "markdown",
   "metadata": {},
   "source": [
    "## Compute full set of features"
   ]
  },
  {
   "cell_type": "code",
   "execution_count": null,
   "metadata": {},
   "outputs": [],
   "source": [
    "mea_type = 'planar'"
   ]
  },
  {
   "cell_type": "code",
   "execution_count": null,
   "metadata": {},
   "outputs": [],
   "source": [
    "if mea_type == 'linear':\n",
    "    mea_positions = np.zeros((20, 3))\n",
    "    mea_positions[:, 2] = 20\n",
    "    mea_positions[:, 1] = np.linspace(-500, 1000, 20)\n",
    "    probe = mu.return_mea(info={'pos': list([list(p) for p in mea_positions]), 'center': False, 'plane': 'xy'})\n",
    "    electrode = LFPy.RecExtElectrode(probe=probe)\n",
    "elif mea_type == 'planar':\n",
    "    mea_dim = [50, 20]  # n rows x n cols\n",
    "    mea_pitch = [35, 35]  # rows and cols pitch\n",
    "\n",
    "    mea_info = {'dim': mea_dim,\n",
    "                'electrode_name': 'hd-mea',\n",
    "                'pitch': mea_pitch,\n",
    "                'shape': 'square',\n",
    "                'size': 5,\n",
    "                'type': 'mea',\n",
    "                'plane': 'xy'}\n",
    "\n",
    "    probe = mu.return_mea(info=mea_info)\n",
    "    # Move the MEA out of the neuron plane (yz)\n",
    "    probe.move([0, 300, 20])\n",
    "    # Instantiate LFPy electrode object\n",
    "    electrode = LFPy.RecExtElectrode(probe=probe)\n",
    "    \n",
    "# compute mapping coefficients before\n"
   ]
  },
  {
   "cell_type": "code",
   "execution_count": null,
   "metadata": {},
   "outputs": [],
   "source": [
    "loaded_params_file = 'config/params/smart_random.csv'\n",
    "loaded_params = pd.read_csv(loaded_params_file, index_col='index')\n",
    "loaded_params"
   ]
  },
  {
   "cell_type": "code",
   "execution_count": null,
   "metadata": {},
   "outputs": [],
   "source": [
    "ax = mu.plot_probe(probe)\n",
    "#npl.plot_neuron(morphology='morphology/C060114A7.asc', ax=ax, plane='xy')"
   ]
  },
  {
   "cell_type": "code",
   "execution_count": null,
   "metadata": {},
   "outputs": [],
   "source": [
    "channels = None\n",
    "\n",
    "morphology = ephys.morphologies.NrnFileMorphology('morphology/C060114A7.asc', do_replace_axon=True)\n",
    "param_configs = json.load(open('config/parameters.json'))\n",
    "parameters = l5pc_model.define_parameters()\n",
    "mechanisms = l5pc_model.define_mechanisms()\n",
    "\n",
    "l5pc_cell = ephys.models.LFPyCellModel('l5pc', \n",
    "                                       v_init=-65., \n",
    "                                       morph=morphology, \n",
    "                                       mechs=mechanisms, \n",
    "                                       params=parameters)\n",
    "\n",
    "param_names = [param.name for param in l5pc_cell.params.values() if not param.frozen]      \n",
    "feature_set = 'all'\n",
    "\n",
    "print(f'Feature set {feature_set}')\n",
    "gt_responses = []\n",
    "\n",
    "if feature_set in [\"extra\", \"all\"]:\n",
    "    fitness_protocols = l5pc_evaluator.define_protocols(electrode) \n",
    "else:\n",
    "    fitness_protocols = l5pc_evaluator.define_protocols() \n",
    "\n",
    "if feature_set in [\"extra\", \"all\"]:\n",
    "    sim = ephys.simulators.LFPySimulator(LFPyCellModel=l5pc_cell, cvode_active=True, electrode=electrode)\n",
    "else:\n",
    "    sim = ephys.simulators.LFPySimulator(LFPyCellModel=l5pc_cell, cvode_active=True)"
   ]
  },
  {
   "cell_type": "code",
   "execution_count": null,
   "metadata": {},
   "outputs": [],
   "source": [
    "responses_1 = {}\n",
    "params = loaded_params.iloc[0]"
   ]
  },
  {
   "cell_type": "code",
   "execution_count": null,
   "metadata": {},
   "outputs": [],
   "source": [
    "t_start = time.time()\n",
    "resp_step1 = fitness_protocols['Step1'].run(cell_model=l5pc_cell, param_values=params, sim=sim)\n",
    "print(f\"Elapsed time: {time.time() - t_start}\")"
   ]
  },
  {
   "cell_type": "code",
   "execution_count": null,
   "metadata": {},
   "outputs": [],
   "source": [
    "resp_step1.keys()"
   ]
  },
  {
   "cell_type": "code",
   "execution_count": null,
   "metadata": {},
   "outputs": [],
   "source": [
    "fig_eap_extra = plt.figure(figsize=(7, 12))\n",
    "ax_eap_extra = fig_eap_extra.add_subplot(111)\n",
    "eap = l5pc_evaluator.calculate_eap(responses=resp_step1, protocols=fitness_protocols,\n",
    "                                   protocol_name='Step1')\n",
    "eap_norm = eap / np.max(np.abs(eap), 1, keepdims=True)\n",
    "mu.plot_mea_recording(eap_norm, \n",
    "                      probe, colors='C2', ax=ax_eap_extra)#, vscale=2)\n",
    "\n",
    "ax_eap_extra.set_title(\"Extra features\", fontsize=30)"
   ]
  },
  {
   "cell_type": "code",
   "execution_count": null,
   "metadata": {},
   "outputs": [],
   "source": [
    "probe.positions"
   ]
  },
  {
   "cell_type": "code",
   "execution_count": null,
   "metadata": {},
   "outputs": [],
   "source": [
    "p2v = bpopt.ephys.extra_features_utils.peak_to_valley(eap, 20000)"
   ]
  },
  {
   "cell_type": "code",
   "execution_count": null,
   "metadata": {},
   "outputs": [],
   "source": [
    "neg = bpopt.ephys.extra_features_utils.relative_amplitude(eap)"
   ]
  },
  {
   "cell_type": "code",
   "execution_count": null,
   "metadata": {},
   "outputs": [],
   "source": [
    "pos = bpopt.ephys.extra_features_utils.relative_amplitude(eap, sign='positive')"
   ]
  },
  {
   "cell_type": "code",
   "execution_count": null,
   "metadata": {},
   "outputs": [],
   "source": [
    "ptdiff = bpopt.ephys.extra_features_utils.peak_time_diff(eap, 20000)"
   ]
  },
  {
   "cell_type": "code",
   "execution_count": null,
   "metadata": {},
   "outputs": [],
   "source": [
    "l5pc_plot.plot_feature_map(neg, probe)"
   ]
  },
  {
   "cell_type": "code",
   "execution_count": null,
   "metadata": {},
   "outputs": [],
   "source": [
    "l5pc_plot.plot_feature_map(neg, probe)"
   ]
  },
  {
   "cell_type": "code",
   "execution_count": null,
   "metadata": {},
   "outputs": [],
   "source": [
    "l5pc_plot.plot_feature_map(pos, probe)"
   ]
  },
  {
   "cell_type": "code",
   "execution_count": null,
   "metadata": {},
   "outputs": [],
   "source": [
    "kwargs = {}"
   ]
  },
  {
   "cell_type": "code",
   "execution_count": null,
   "metadata": {},
   "outputs": [],
   "source": [
    "stimulus = fitness_protocols['Step1'].stimuli[0]\n",
    "kwargs['stim_start'] = stimulus.step_delay\n",
    "kwargs['stim_end'] = stimulus.step_delay + stimulus.step_duration"
   ]
  },
  {
   "cell_type": "code",
   "execution_count": null,
   "metadata": {},
   "outputs": [],
   "source": [
    "kwargs['recording_names'] = {'': 'Step1.MEA.LFP'}\n",
    "kwargs['fs'] = 20\n",
    "kwargs['fcut'] = 1\n",
    "kwargs['ms_cut'] = [3, 10]\n",
    "kwargs['upsample'] = 10\n",
    "kwargs['somatic_recording_name'] = f'Step1.soma.v'\n",
    "kwargs['channel_locations'] = probe.positions\n",
    "kwargs['extrafel_feature_name'] = 'neg_peak_diff'"
   ]
  },
  {
   "cell_type": "code",
   "execution_count": null,
   "metadata": {},
   "outputs": [],
   "source": [
    "efeat = bpopt.ephys.efeatures.extraFELFeature(name='ra', exp_mean=0,\n",
    "                                              exp_std=0, **kwargs)"
   ]
  },
  {
   "cell_type": "code",
   "execution_count": null,
   "metadata": {},
   "outputs": [],
   "source": [
    "ra = efeat.calculate_feature(resp_step1, detect_threshold=0.02)"
   ]
  },
  {
   "cell_type": "code",
   "execution_count": null,
   "metadata": {},
   "outputs": [],
   "source": [
    "l5pc_plot.plot_feature_map(ra, probe, bg='on', norm=True)"
   ]
  },
  {
   "cell_type": "code",
   "execution_count": null,
   "metadata": {},
   "outputs": [],
   "source": [
    "mu.plot_mea_recording(resp_step1['Step1.MEA.LFP']['voltage'], probe)"
   ]
  },
  {
   "cell_type": "code",
   "execution_count": null,
   "metadata": {},
   "outputs": [],
   "source": [
    "plt.figure()\n",
    "plt.plot(resp_step1['Step1.soma.v']['time'])"
   ]
  },
  {
   "cell_type": "code",
   "execution_count": null,
   "metadata": {},
   "outputs": [],
   "source": [
    "for protocol_name, protocol in fitness_protocols.items():\n",
    "    print('Running', protocol_name)\n",
    "    responses_1.update(protocol.run(cell_model=l5pc_cell, param_values=params, sim=sim))"
   ]
  },
  {
   "cell_type": "code",
   "execution_count": null,
   "metadata": {},
   "outputs": [],
   "source": [
    "l5pc_plot.plot_responses(responses_)"
   ]
  },
  {
   "cell_type": "code",
   "execution_count": null,
   "metadata": {
    "scrolled": true
   },
   "outputs": [],
   "source": [
    "loaded_features = []\n",
    "loaded_responses = []\n",
    "\n",
    "for i, (index, params) in enumerate(loaded_params.iterrows()):\n",
    "    print(f'{i+1} / {len(loaded_params)}, {index}')\n",
    "    display(params)\n",
    "    \n",
    "    feature_folder = f'config/features/{index}'\n",
    "    _, response, feature_dict = l5pc_evaluator.compute_feature_values(params, l5pc_cell, fitness_protocols, sim, \n",
    "                                                                      feature_set=feature_set, probe=probe, \n",
    "                                                                      channels=channels,\n",
    "                                                                      feature_folder=feature_folder,\n",
    "                                                                      save_to_file=False)\n",
    "    loaded_features.append(feature_dict)\n",
    "    loaded_responses.append(response)"
   ]
  },
  {
   "cell_type": "code",
   "execution_count": null,
   "metadata": {},
   "outputs": [],
   "source": [
    "l5pc_plot.plot_multiple_responses(loaded_responses)"
   ]
  },
  {
   "cell_type": "markdown",
   "metadata": {},
   "source": [
    "## Double check that responses are correct!"
   ]
  },
  {
   "cell_type": "code",
   "execution_count": null,
   "metadata": {},
   "outputs": [],
   "source": [
    "channels = None\n",
    "\n",
    "morphology = ephys.morphologies.NrnFileMorphology('morphology/C060114A7.asc', do_replace_axon=True)\n",
    "param_configs = json.load(open('config/parameters.json'))\n",
    "parameters = l5pc_model.define_parameters()\n",
    "mechanisms = l5pc_model.define_mechanisms()\n",
    "\n",
    "l5pc_cell = ephys.models.LFPyCellModel('l5pc', \n",
    "                                       v_init=-65., \n",
    "                                       morph=morphology, \n",
    "                                       mechs=mechanisms, \n",
    "                                       params=parameters)\n",
    "\n",
    "param_names = [param.name for param in l5pc_cell.params.values() if not param.frozen]      \n",
    "feature_set = 'all'\n",
    "\n",
    "print(f'Feature set {feature_set}')\n",
    "gt_responses = []\n",
    "\n",
    "if feature_set in [\"extra\", \"all\"]:\n",
    "    fitness_protocols = l5pc_evaluator.define_protocols(electrode) \n",
    "else:\n",
    "    fitness_protocols = l5pc_evaluator.define_protocols() \n",
    "\n",
    "if feature_set in [\"extra\", \"all\"]:\n",
    "    sim = ephys.simulators.LFPySimulator(LFPyCellModel=l5pc_cell, cvode_active=True, electrode=electrode)\n",
    "else:\n",
    "    sim = ephys.simulators.LFPySimulator(LFPyCellModel=l5pc_cell, cvode_active=True)"
   ]
  },
  {
   "cell_type": "code",
   "execution_count": null,
   "metadata": {},
   "outputs": [],
   "source": [
    "responses = []\n",
    "\n",
    "for i, (index, params) in enumerate(random_params.iterrows()):\n",
    "    print(f'{i+1} / {len(random_params)}, {index}')\n",
    "    \n",
    "    feature_folder = f'config/features/{index}'\n",
    "    _, response, feature_dict = l5pc_evaluator.compute_feature_values(params, l5pc_cell, fitness_protocols, sim, \n",
    "                                                                      feature_set=feature_set, probe=probe, \n",
    "                                                                      channels=channels,\n",
    "                                                                      feature_folder=feature_folder,\n",
    "                                                                      save_to_file=False)\n",
    "    responses.append(response)"
   ]
  },
  {
   "cell_type": "code",
   "execution_count": null,
   "metadata": {},
   "outputs": [],
   "source": [
    "l5pc_plot.plot_multiple_responses(responses_list=responses)"
   ]
  },
  {
   "cell_type": "code",
   "execution_count": null,
   "metadata": {},
   "outputs": [],
   "source": [
    "l5pc_cell.freeze(params)\n",
    "l5pc_cell.instantiate(sim=sim)"
   ]
  },
  {
   "cell_type": "code",
   "execution_count": null,
   "metadata": {},
   "outputs": [],
   "source": [
    "for sec in l5pc_cell.LFPyCell.allseclist:\n",
    "    print(sec, sec.Ra, sec.cm)"
   ]
  },
  {
   "cell_type": "code",
   "execution_count": null,
   "metadata": {},
   "outputs": [],
   "source": [
    "for p in parameters:\n",
    "    print(p.name, p.value)"
   ]
  },
  {
   "cell_type": "markdown",
   "metadata": {},
   "source": [
    "### Save random and releas parameters to csv"
   ]
  },
  {
   "cell_type": "code",
   "execution_count": null,
   "metadata": {},
   "outputs": [],
   "source": [
    "if save_params:\n",
    "    params_folder = Path('config/params')\n",
    "\n",
    "    if not params_folder.is_dir():\n",
    "        os.makedirs(params_folder)\n",
    "\n",
    "    release_params_file = params_folder / 'release.csv'\n",
    "    random_params_file = params_folder / 'smart_random.csv'\n",
    "\n",
    "    df_release.to_csv(release_params_file, index_label='index')\n",
    "    df_random.to_csv(random_params_file, index_label='index')    "
   ]
  }
 ],
 "metadata": {
  "kernelspec": {
   "display_name": "Python 3",
   "language": "python",
   "name": "python3"
  },
  "language_info": {
   "codemirror_mode": {
    "name": "ipython",
    "version": 3
   },
   "file_extension": ".py",
   "mimetype": "text/x-python",
   "name": "python",
   "nbconvert_exporter": "python",
   "pygments_lexer": "ipython3",
   "version": "3.6.10"
  }
 },
 "nbformat": 4,
 "nbformat_minor": 4
}
