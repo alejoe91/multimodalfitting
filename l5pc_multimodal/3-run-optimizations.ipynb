{
 "cells": [
  {
   "cell_type": "markdown",
   "metadata": {},
   "source": [
    "## 3) Run optimization \n",
    "\n",
    "In this notebook we use the previously computed features to fit the cell model parameters and save the results.\n",
    "\n",
    "We can run optimization on a subset of samples/feature sets."
   ]
  },
  {
   "cell_type": "code",
   "execution_count": null,
   "metadata": {},
   "outputs": [],
   "source": [
    "%load_ext autoreload\n",
    "%autoreload\n",
    "\n",
    "#!nrnivmodl mechanisms\n",
    "import bluepyopt as bpopt\n",
    "import bluepyopt.ephys as ephys\n",
    "\n",
    "import matplotlib.pyplot as plt\n",
    "import MEAutility as mu\n",
    "import json\n",
    "import numpy\n",
    "import time\n",
    "import numpy as np\n",
    "import LFPy\n",
    "from pathlib import Path\n",
    "import pandas as pd\n",
    "import os\n",
    "from ipyparallel import Client\n",
    "\n",
    "%matplotlib notebook"
   ]
  },
  {
   "cell_type": "code",
   "execution_count": null,
   "metadata": {},
   "outputs": [],
   "source": [
    "import l5pc_model\n",
    "import l5pc_evaluator\n",
    "import l5pc_plot"
   ]
  },
  {
   "cell_type": "markdown",
   "metadata": {},
   "source": [
    "### Set up ipyparallel processing"
   ]
  },
  {
   "cell_type": "code",
   "execution_count": null,
   "metadata": {},
   "outputs": [],
   "source": [
    "try:\n",
    "    rc = Client() # profile=os.getenv('IPYTHON_PROFILE')\n",
    "    lview = rc.load_balanced_view()\n",
    "    \n",
    "    def mapper(func, it):\n",
    "        start_time = time.time()\n",
    "        ret = lview.map_sync(func, it)\n",
    "        print(f'Generation {it} took {time.time() - start_time} s')\n",
    "        return ret\n",
    "except:\n",
    "    mapper = None\n",
    "\n",
    "if mapper is not None:\n",
    "    print(f'IPyparallel started successfully with {len(rc)} parallel processes')"
   ]
  },
  {
   "cell_type": "code",
   "execution_count": null,
   "metadata": {},
   "outputs": [],
   "source": [
    "feature_sets = ['extra']  # ['soma', 'bap', 'extra']\n",
    "sample_ids = [0] # [0, ..., n_samples]\n",
    "\n",
    "# offspring_size = 250\n",
    "# max_ngen = 50\n",
    "# channels = None\n",
    "offspring_size = 2\n",
    "max_ngen = 2\n",
    "channels = 'map'\n",
    "\n",
    "# define map_function\n",
    "map_function=mapper"
   ]
  },
  {
   "cell_type": "code",
   "execution_count": null,
   "metadata": {},
   "outputs": [],
   "source": [
    "random_params_file = 'config/params/smart_random.csv'\n",
    "random_params = pd.read_csv(random_params_file, index_col='index')\n",
    "params = random_params.iloc[0].to_dict()"
   ]
  },
  {
   "cell_type": "code",
   "execution_count": null,
   "metadata": {
    "scrolled": false
   },
   "outputs": [],
   "source": [
    "prep = l5pc_evaluator.prepare_optimization('extra', 0, offspring_size=offspring_size, channels='map', \n",
    "                                           probe_type='linear', map_function=map_function)\n",
    "opt = prep['optimisation']\n",
    "evaluator = prep['evaluator']\n",
    "fitness_calculator = prep['objectives_calculator']\n",
    "fitness_protocols = prep['protocols']"
   ]
  },
  {
   "cell_type": "code",
   "execution_count": null,
   "metadata": {
    "scrolled": false
   },
   "outputs": [],
   "source": [
    "out = l5pc_evaluator.run_optimization(feature_set='extra', sample_id=0, opt=opt, \n",
    "                                      max_ngen=max_ngen, channels=channels)"
   ]
  },
  {
   "cell_type": "code",
   "execution_count": null,
   "metadata": {},
   "outputs": [],
   "source": [
    "final_pop = out['final_pop']\n",
    "halloffame = out['halloffame']\n",
    "log = out['log']\n",
    "hist = out['hist']"
   ]
  },
  {
   "cell_type": "code",
   "execution_count": null,
   "metadata": {},
   "outputs": [],
   "source": [
    "best_params = evaluator.param_dict(halloffame[0])\n",
    "t_start = time.time()\n",
    "best_responses = evaluator.run_protocols(protocols=fitness_protocols.values(), param_values=best_params)\n",
    "t_stop = time.time()\n",
    "print(f'Time one protocol: {t_stop - t_start} s')"
   ]
  },
  {
   "cell_type": "code",
   "execution_count": null,
   "metadata": {},
   "outputs": [],
   "source": [
    "original_responses = evaluator.run_protocols(protocols=fitness_protocols.values(), param_values=params)"
   ]
  },
  {
   "cell_type": "code",
   "execution_count": null,
   "metadata": {},
   "outputs": [],
   "source": [
    "def plot_responses(responses):\n",
    "    resp_no_mea = {}\n",
    "    for (resp_name, response) in sorted(responses.items()):\n",
    "        if 'MEA' not in resp_name:\n",
    "            resp_no_mea[resp_name] = response\n",
    "    fig, axes = plt.subplots(len(resp_no_mea), figsize=(10,10))\n",
    "    for index, (resp_name, response) in enumerate(sorted(resp_no_mea.items())):\n",
    "        axes[index].plot(response['time'], response['voltage'], label=resp_name)\n",
    "        axes[index].set_title(resp_name)\n",
    "    fig.tight_layout()\n",
    "    fig.show()"
   ]
  },
  {
   "cell_type": "code",
   "execution_count": null,
   "metadata": {},
   "outputs": [],
   "source": [
    "plot_responses(best_responses)"
   ]
  },
  {
   "cell_type": "code",
   "execution_count": null,
   "metadata": {},
   "outputs": [],
   "source": [
    "plot_responses(original_responses)"
   ]
  },
  {
   "cell_type": "code",
   "execution_count": null,
   "metadata": {},
   "outputs": [],
   "source": [
    "for param in best_params.keys():\n",
    "    print(param, params[param],  best_params[param])"
   ]
  }
 ],
 "metadata": {
  "kernelspec": {
   "display_name": "Python 3",
   "language": "python",
   "name": "python3"
  },
  "language_info": {
   "codemirror_mode": {
    "name": "ipython",
    "version": 3
   },
   "file_extension": ".py",
   "mimetype": "text/x-python",
   "name": "python",
   "nbconvert_exporter": "python",
   "pygments_lexer": "ipython3",
   "version": "3.6.10"
  }
 },
 "nbformat": 4,
 "nbformat_minor": 1
}
