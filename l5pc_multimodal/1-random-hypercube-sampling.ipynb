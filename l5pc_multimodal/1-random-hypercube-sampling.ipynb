{
 "cells": [
  {
   "cell_type": "markdown",
   "metadata": {},
   "source": [
    "# 1) Sample the parameter space\n",
    "\n",
    "From the set of parameters estimated using multiple patch recordings (1 somatic, 2 apical dendrites), we simulate random perturbations using Latin Hypercube Sampling (LHS).\n",
    "\n",
    "The random parameters are saved in the `config/params/random.csv` and will be used to assess the fitting performance of different feature sets."
   ]
  },
  {
   "cell_type": "code",
   "execution_count": null,
   "metadata": {},
   "outputs": [],
   "source": [
    "%load_ext autoreload\n",
    "%autoreload\n",
    "\n",
    "from pyDOE import lhs\n",
    "import matplotlib.pyplot as plt\n",
    "import pandas as pd\n",
    "import numpy as np\n",
    "import seaborn as sns\n",
    "import os\n",
    "import json\n",
    "from pathlib import Path\n",
    "%matplotlib notebook"
   ]
  },
  {
   "cell_type": "code",
   "execution_count": null,
   "metadata": {},
   "outputs": [],
   "source": [
    "save_params = False"
   ]
  },
  {
   "cell_type": "code",
   "execution_count": null,
   "metadata": {},
   "outputs": [],
   "source": [
    "release_params = {\n",
    "    'gNaTs2_tbar_NaTs2_t.apical': 0.026145,\n",
    "    'gSKv3_1bar_SKv3_1.apical': 0.004226,\n",
    "    'gImbar_Im.apical': 0.000143,\n",
    "    'gNaTa_tbar_NaTa_t.axonal': 3.137968,\n",
    "    'gK_Tstbar_K_Tst.axonal': 0.089259,\n",
    "    'gamma_CaDynamics_E2.axonal': 0.002910,\n",
    "    'gNap_Et2bar_Nap_Et2.axonal': 0.006827,\n",
    "    'gSK_E2bar_SK_E2.axonal': 0.007104,\n",
    "    'gCa_HVAbar_Ca_HVA.axonal': 0.000990,\n",
    "    'gK_Pstbar_K_Pst.axonal': 0.973538,\n",
    "    'gSKv3_1bar_SKv3_1.axonal': 1.021945,\n",
    "    'decay_CaDynamics_E2.axonal': 287.198731,\n",
    "    'gCa_LVAstbar_Ca_LVAst.axonal': 0.008752,\n",
    "    'gamma_CaDynamics_E2.somatic': 0.000609,\n",
    "    'gSKv3_1bar_SKv3_1.somatic': 0.303472,\n",
    "    'gSK_E2bar_SK_E2.somatic': 0.008407,\n",
    "    'gCa_HVAbar_Ca_HVA.somatic': 0.000994,\n",
    "    'gNaTs2_tbar_NaTs2_t.somatic': 0.983955,\n",
    "    'decay_CaDynamics_E2.somatic': 210.485284,\n",
    "    'gCa_LVAstbar_Ca_LVAst.somatic': 0.000333\n",
    "}\n",
    "\n",
    "# load param configs for boundary values\n",
    "param_configs = json.load(open('config/parameters.json'))"
   ]
  },
  {
   "cell_type": "code",
   "execution_count": null,
   "metadata": {},
   "outputs": [],
   "source": [
    "n_params = len(release_params)\n",
    "n_samples = 100  # number of random samples \n",
    "lim_dev = 0.2  # limits for each param are: [release_val-lim_dev*release_val, release_val+lim_dev*release_val] "
   ]
  },
  {
   "cell_type": "markdown",
   "metadata": {},
   "source": [
    "### Latin hypercube sampling (normal 0-1)"
   ]
  },
  {
   "cell_type": "code",
   "execution_count": null,
   "metadata": {},
   "outputs": [],
   "source": [
    "random_samples = lhs(n_params, samples=n_samples)"
   ]
  },
  {
   "cell_type": "code",
   "execution_count": null,
   "metadata": {},
   "outputs": [],
   "source": [
    "fig = plt.figure()\n",
    "ax = fig.add_subplot(111, projection='3d')\n",
    "ax.plot(random_samples[:, 5], random_samples[:, 19], random_samples[:, 3], '*')\n",
    "ax.set_xlabel('P1', fontsize=20)\n",
    "ax.set_ylabel('P2', fontsize=20)\n",
    "ax.set_zlabel('P3', fontsize=20)"
   ]
  },
  {
   "cell_type": "markdown",
   "metadata": {},
   "source": [
    "### Compute parameters limits"
   ]
  },
  {
   "cell_type": "code",
   "execution_count": null,
   "metadata": {},
   "outputs": [],
   "source": [
    "param_lims = {}\n",
    "\n",
    "for par, val in release_params.items():\n",
    "    dev = lim_dev * val\n",
    "    lims = [val - dev, val + dev]\n",
    "    \n",
    "    # check values based on param configs\n",
    "    for param in param_configs:\n",
    "        name, loc = par.split('.')\n",
    "        if param['param_name'] == name and param['sectionlist'] == loc:\n",
    "            if 'bounds' in param:\n",
    "                if lims[0] < param['bounds'][0]:\n",
    "                    lims[0] = param['bounds'][0]\n",
    "                    print(f'Param {par} changed lower bound')                    \n",
    "                if lims[1] > param['bounds'][1]:\n",
    "                    lims[1] = param['bounds'][1]\n",
    "                    print(f'Param {par} changed upper bound')\n",
    "    param_lims[par] = lims"
   ]
  },
  {
   "cell_type": "code",
   "execution_count": null,
   "metadata": {},
   "outputs": [],
   "source": [
    "scaled_samples = np.zeros_like(random_samples)\n",
    "\n",
    "for i, sample in enumerate(random_samples):\n",
    "    for j, (par, parlim) in enumerate(param_lims.items()):\n",
    "        scaled_samples[i, j] = (parlim[1] - parlim[0]) * sample[j] + parlim[0] "
   ]
  },
  {
   "cell_type": "code",
   "execution_count": null,
   "metadata": {},
   "outputs": [],
   "source": [
    "for sample in scaled_samples:\n",
    "    for j, (par, parlim) in enumerate(param_lims.items()):\n",
    "        assert parlim[0] < sample[j] < parlim[1] "
   ]
  },
  {
   "cell_type": "code",
   "execution_count": null,
   "metadata": {},
   "outputs": [],
   "source": [
    "# creata dataframe\n",
    "df_release = pd.DataFrame(data=release_params, index=['release'])\n",
    "df_random = pd.DataFrame(data=scaled_samples, columns=param_lims.keys(), \n",
    "                         index=[f'random_{i}' for i in range(n_samples)])"
   ]
  },
  {
   "cell_type": "code",
   "execution_count": null,
   "metadata": {},
   "outputs": [],
   "source": [
    "plt.figure()\n",
    "ax = sns.boxplot(data=df_random, orient='horizontal')\n",
    "fig = ax.get_figure()\n",
    "fig.subplots_adjust(left=0.4)"
   ]
  },
  {
   "cell_type": "markdown",
   "metadata": {},
   "source": [
    "### Save random and releas parameters to csv"
   ]
  },
  {
   "cell_type": "code",
   "execution_count": null,
   "metadata": {},
   "outputs": [],
   "source": [
    "if save_params:\n",
    "    params_folder = Path('config/params')\n",
    "\n",
    "    if not params_folder.is_dir():\n",
    "        os.makedirs(params_folder)\n",
    "\n",
    "    release_params_file = params_folder / 'release.csv'\n",
    "    random_params_file = params_folder / 'random.csv'\n",
    "\n",
    "    df_release.to_csv(release_params_file, index_label='index')\n",
    "    df_random.to_csv(random_params_file, index_label='index')    "
   ]
  }
 ],
 "metadata": {
  "kernelspec": {
   "display_name": "Python 3",
   "language": "python",
   "name": "python3"
  },
  "language_info": {
   "codemirror_mode": {
    "name": "ipython",
    "version": 3
   },
   "file_extension": ".py",
   "mimetype": "text/x-python",
   "name": "python",
   "nbconvert_exporter": "python",
   "pygments_lexer": "ipython3",
   "version": "3.6.10"
  }
 },
 "nbformat": 4,
 "nbformat_minor": 4
}
