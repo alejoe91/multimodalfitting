{
 "cells": [
  {
   "cell_type": "markdown",
   "metadata": {},
   "source": [
    "# 2b) Analyse sensitivity of features with respect to parameters\n",
    "\n",
    "Using the generated random parameters and features, this notebook performs a sensitivity analysis of the features with respect to the parameters.\n",
    "\n",
    "The pair-wise distance is computed between each random parameter pairn $(p_i, p_j)$ set as:\n",
    "\n",
    "\\begin{equation*}\n",
    "D_p(i, j)   = cos^{-1}\\frac{p_i \\cdot p_j}{|p_i||p_j|}\n",
    "\\end{equation*}\n",
    "\n",
    "Similarly, the distance between each resulting feature pair $(f_i, f_j)$ is:\n",
    "\n",
    "\\begin{equation*}\n",
    "D_f(i, j)   = cos^{-1}\\frac{f_i \\cdot f_j}{|f_i||f_j|}\n",
    "\\end{equation*}\n",
    "\n",
    "After computing the distances we can check how distance in parameter and feature spaces are related, and which set of features yields a higher distance (which should be easier to fit)."
   ]
  },
  {
   "cell_type": "code",
   "execution_count": null,
   "metadata": {},
   "outputs": [],
   "source": [
    "%load_ext autoreload\n",
    "%autoreload\n",
    "\n",
    "import bluepyopt as bpopt\n",
    "import bluepyopt.ephys as ephys\n",
    "\n",
    "import matplotlib.pyplot as plt\n",
    "import MEAutility as mu\n",
    "import json\n",
    "import numpy\n",
    "import time\n",
    "import numpy as np\n",
    "import pandas as pd\n",
    "import LFPy\n",
    "from pathlib import Path\n",
    "from scipy.stats import linregress\n",
    "\n",
    "%matplotlib notebook"
   ]
  },
  {
   "cell_type": "code",
   "execution_count": null,
   "metadata": {},
   "outputs": [],
   "source": [
    "random_params_file = 'config/params/random.csv'\n",
    "random_params = pd.read_csv(random_params_file, index_col='index')"
   ]
  },
  {
   "cell_type": "markdown",
   "metadata": {},
   "source": [
    "### Compute distance in parameter space"
   ]
  },
  {
   "cell_type": "code",
   "execution_count": null,
   "metadata": {},
   "outputs": [],
   "source": [
    "dist_params_mat = np.zeros((len(random_params), len(random_params)))\n",
    "for i in np.arange(len(random_params)):\n",
    "    for j in np.arange(i+1, len(random_params)):\n",
    "        p1 = random_params.iloc[i].values\n",
    "        p2 = random_params.iloc[j].values\n",
    "        cost = np.dot(p1, p2) / (np.linalg.norm(p1) * np.linalg.norm(p2))\n",
    "        if cost > 0.99999999:\n",
    "            cost = 1\n",
    "        dist_params_mat[i, j] =  np.arccos(cost)\n",
    "dist_params_array = dist_params_mat[dist_params_mat>0].ravel()\n",
    "\n",
    "plt.matshow(dist_params_mat)\n",
    "plt.colorbar()\n",
    "\n",
    "print(np.min(dist_params_array))\n",
    "print(np.max(dist_params_array))"
   ]
  },
  {
   "cell_type": "markdown",
   "metadata": {},
   "source": [
    "### Load features"
   ]
  },
  {
   "cell_type": "code",
   "execution_count": null,
   "metadata": {},
   "outputs": [],
   "source": [
    "# first we load the probe to get the number of files\n",
    "probe_file = Path('config/features/random_0/probe.json')\n",
    "\n",
    "with probe_file.open('r') as f:\n",
    "    probe_info = json.load(f)\n",
    "\n",
    "probe = mu.return_mea(info=probe_info)\n",
    "num_channels = probe.number_electrodes"
   ]
  },
  {
   "cell_type": "code",
   "execution_count": null,
   "metadata": {},
   "outputs": [],
   "source": [
    "features_soma = {}\n",
    "features_bap = {}\n",
    "features_extra = {}\n",
    "\n",
    "feature_list_file = Path('config/features_list.json')\n",
    "\n",
    "with feature_list_file.open('r') as f:\n",
    "    feature_list = json.load(f)\n",
    "\n",
    "for feat_set, features in feature_list.items():\n",
    "    for prot, prot_values in features.items():\n",
    "        for loc, feat_list in prot_values.items():\n",
    "            for feat in feat_list:\n",
    "                key_name = f'{prot}.{loc}.{feat}'\n",
    "                if feat_set == 'soma':\n",
    "                    features_soma[key_name] = np.array([np.nan]*len(random_params))\n",
    "                elif feat_set == 'bap':\n",
    "                    features_bap[key_name] = np.array([np.nan]*len(random_params))\n",
    "                elif feat_set == 'extra':\n",
    "                    if 'MEA' in key_name:\n",
    "                        for ch in np.arange(num_channels):\n",
    "                            features_extra[f'{key_name}_{ch}'] = np.array([np.nan]*len(random_params))\n",
    "                    else:\n",
    "                        features_extra[key_name] = np.array([np.nan]*len(random_params))"
   ]
  },
  {
   "cell_type": "code",
   "execution_count": null,
   "metadata": {},
   "outputs": [],
   "source": [
    "for index in np.arange(len(random_params)):\n",
    "    feature_folder = f'config/features/random_{index}'\n",
    "    \n",
    "    with (Path(feature_folder) / 'soma.json').open('r') as f:\n",
    "        soma_features = json.load(f)\n",
    "    with (Path(feature_folder) / 'bap.json').open('r') as f:\n",
    "        bap_features = json.load(f)\n",
    "    with (Path(feature_folder) / 'extra.json').open('r') as f:\n",
    "        extra_features = json.load(f)\n",
    "    \n",
    "    for prot, prot_values in soma_features.items():\n",
    "        for loc, loc_values in prot_values.items():\n",
    "            for feat, feat_values in loc_values.items():\n",
    "                key_name = f'{prot}.{loc}.{feat}'\n",
    "                features_soma[key_name][index] = feat_values[0]\n",
    "                \n",
    "    for prot, prot_values in bap_features.items():\n",
    "        for loc, loc_values in prot_values.items():\n",
    "            for feat, feat_values in loc_values.items():\n",
    "                key_name = f'{prot}.{loc}.{feat}'\n",
    "                features_bap[key_name][index] = feat_values[0]\n",
    "                \n",
    "    for prot, prot_values in extra_features.items():\n",
    "        for loc, loc_values in prot_values.items():\n",
    "            for feat, feat_values in loc_values.items():\n",
    "                key_name = f'{prot}.{loc}.{feat}'\n",
    "                features_extra[key_name][index] = feat_values[0]"
   ]
  },
  {
   "cell_type": "code",
   "execution_count": null,
   "metadata": {},
   "outputs": [],
   "source": [
    "df_features_soma = pd.DataFrame.from_dict(features_soma)\n",
    "df_features_bap = pd.DataFrame.from_dict(features_bap)\n",
    "df_features_extra = pd.DataFrame.from_dict(features_extra)"
   ]
  },
  {
   "cell_type": "markdown",
   "metadata": {},
   "source": [
    "Compute and visualize features for **soma**, **bap**, and **extra** sets"
   ]
  },
  {
   "cell_type": "code",
   "execution_count": null,
   "metadata": {},
   "outputs": [],
   "source": [
    "dist_feat_soma_mat = np.zeros((len(random_params), len(random_params)))\n",
    "for i in np.arange(len(random_params)):\n",
    "    for j in np.arange(i+1, len(random_params)):\n",
    "        f1 = df_features_soma.iloc[i].values\n",
    "        f2 = df_features_soma.iloc[j].values\n",
    "        cost = np.dot(f1, f2) / (np.linalg.norm(f1) * np.linalg.norm(f2))\n",
    "        if cost > 0.99999999:\n",
    "            cost = 1\n",
    "        dist_feat_soma_mat[i, j] =  np.arccos(cost)\n",
    "dist_feat_soma_array = dist_feat_soma_mat[dist_feat_soma_mat>0].ravel()\n",
    "\n",
    "plt.matshow(dist_feat_soma_mat)\n",
    "plt.colorbar()\n",
    "\n",
    "print(np.min(dist_feat_soma_array))\n",
    "print(np.max(dist_feat_soma_array))"
   ]
  },
  {
   "cell_type": "code",
   "execution_count": null,
   "metadata": {},
   "outputs": [],
   "source": [
    "dist_feat_bap_mat = np.zeros((len(random_params), len(random_params)))\n",
    "for i in np.arange(len(random_params)):\n",
    "    for j in np.arange(i+1, len(random_params)):\n",
    "        f1 = df_features_bap.iloc[i].values\n",
    "        f2 = df_features_bap.iloc[j].values\n",
    "        \n",
    "        # only compute distance on finite features\n",
    "        f1_not_nan = np.where(np.isnan(f1) == False)\n",
    "        f2_not_nan = np.where(np.isnan(f2) == False)\n",
    "        \n",
    "        not_nan = np.intersect1d(f1_not_nan, f2_not_nan)\n",
    "        f1 = f1[not_nan]\n",
    "        f2 = f2[not_nan]\n",
    "        cost = np.dot(f1, f2) / (np.linalg.norm(f1) * np.linalg.norm(f2))\n",
    "        if cost > 0.99999999:\n",
    "            cost = 1\n",
    "        dist_feat_bap_mat[i, j] =  np.arccos(cost)\n",
    "dist_feat_bap_array = dist_feat_bap_mat[dist_feat_bap_mat>0].ravel()\n",
    "\n",
    "plt.matshow(dist_feat_bap_mat)\n",
    "plt.colorbar()\n",
    "\n",
    "print(np.min(dist_feat_bap_array))\n",
    "print(np.max(dist_feat_bap_array))"
   ]
  },
  {
   "cell_type": "code",
   "execution_count": null,
   "metadata": {},
   "outputs": [],
   "source": [
    "dist_feat_extra_mat = np.zeros((len(random_params), len(random_params)))\n",
    "for i in np.arange(len(random_params)):\n",
    "    for j in np.arange(i+1, len(random_params)):\n",
    "        f1 = df_features_extra.iloc[i].values\n",
    "        f2 = df_features_extra.iloc[j].values\n",
    "        \n",
    "        # only compute distance on finite features\n",
    "        f1_not_nan = np.where(np.isnan(f1) == False)\n",
    "        f2_not_nan = np.where(np.isnan(f2) == False)\n",
    "        \n",
    "        not_nan = np.intersect1d(f1_not_nan, f2_not_nan)\n",
    "        f1 = f1[not_nan]\n",
    "        f2 = f2[not_nan]\n",
    "        cost = np.dot(f1, f2) / (np.linalg.norm(f1) * np.linalg.norm(f2))\n",
    "        if cost > 0.99999999:\n",
    "            cost = 1\n",
    "        dist_feat_extra_mat[i, j] =  np.arccos(cost)\n",
    "dist_feat_extra_array = dist_feat_extra_mat[dist_feat_extra_mat>0].ravel()\n",
    "\n",
    "plt.matshow(dist_feat_extra_mat)\n",
    "plt.colorbar()\n",
    "\n",
    "print(np.min(dist_feat_extra_array))\n",
    "print(np.max(dist_feat_extra_array))"
   ]
  },
  {
   "cell_type": "code",
   "execution_count": null,
   "metadata": {},
   "outputs": [],
   "source": [
    "fig1, axs1 = plt.subplots(1, 3)\n",
    "fig1.set_size_inches(9, 5)\n",
    "_ = axs1[0].hist(dist_feat_soma_array, bins=30, color='C0', alpha=0.2)\n",
    "_ = axs1[1].hist(dist_feat_bap_array, bins=30, color='C1', alpha=0.2)\n",
    "_ = axs1[2].hist(dist_feat_extra_array, bins=30, color='C2', alpha=0.2)\n",
    "axs1[0].set_ylabel('Frequency')\n",
    "axs1[1].set_xlabel('Norm. feature distance')\n",
    "fig1.tight_layout()"
   ]
  },
  {
   "cell_type": "code",
   "execution_count": null,
   "metadata": {},
   "outputs": [],
   "source": [
    "fig2, axs2 = plt.subplots(1, 3)\n",
    "fig2.set_size_inches(9, 5)\n",
    "_ = axs2[0].plot(dist_params_array, dist_feat_soma_array, color='C0', marker='o', ls='', alpha=0.2)\n",
    "_ = axs2[1].plot(dist_params_array, dist_feat_bap_array, color='C1', marker='o', ls='', alpha=0.2)\n",
    "_ = axs2[2].plot(dist_params_array, dist_feat_extra_array, color='C2', marker='o', ls='', alpha=0.2)\n",
    "axs2[0].set_ylabel('Norm. feature distance')\n",
    "axs2[1].set_xlabel('Norm. parameter distance')\n",
    "fig2.tight_layout()"
   ]
  }
 ],
 "metadata": {
  "kernelspec": {
   "display_name": "Python 3",
   "language": "python",
   "name": "python3"
  },
  "language_info": {
   "codemirror_mode": {
    "name": "ipython",
    "version": 3
   },
   "file_extension": ".py",
   "mimetype": "text/x-python",
   "name": "python",
   "nbconvert_exporter": "python",
   "pygments_lexer": "ipython3",
   "version": "3.6.10"
  }
 },
 "nbformat": 4,
 "nbformat_minor": 1
}
