{
 "cells": [
  {
   "cell_type": "markdown",
   "metadata": {},
   "source": [
    "# 2) Compute features for random parameters\n",
    "\n",
    "Using the generated random parameters, we next compute responses and features for 3 different feature sets:\n",
    "\n",
    "- 'bap': features extracted from somatic recording with 3 different steps + a pulse response measured at the soma plus two locations on the apical dendrite (Backpropagating Action Potential)\n",
    "\n",
    "- 'soma': features extracted from somatic recording with 3 different steps\n",
    "\n",
    "- 'extra': features extracted from somatic recording with 3 different steps and from mean extracellular action potential\n",
    "\n",
    "Computed features are saved in the `config/features/` folder for each parameter set and are ready to be used for optimization."
   ]
  },
  {
   "cell_type": "code",
   "execution_count": null,
   "metadata": {},
   "outputs": [],
   "source": [
    "%load_ext autoreload\n",
    "%autoreload\n",
    "\n",
    "import matplotlib.pyplot as plt\n",
    "import pandas as pd\n",
    "import numpy as np\n",
    "import seaborn as sns\n",
    "import numpy as np\n",
    "import os\n",
    "import json\n",
    "from pathlib import Path\n",
    "from scipy.spatial import distance\n",
    "import MEAutility as mu\n",
    "import LFPy\n",
    "from copy import copy\n",
    "import neuroplotlib as npl\n",
    "import time\n",
    "\n",
    "import bluepyopt as bpopt\n",
    "import bluepyopt.ephys as ephys\n",
    "\n",
    "%matplotlib notebook"
   ]
  },
  {
   "cell_type": "code",
   "execution_count": null,
   "metadata": {},
   "outputs": [],
   "source": [
    "import l5pc_model\n",
    "import l5pc_evaluator\n",
    "import l5pc_plot"
   ]
  },
  {
   "cell_type": "code",
   "execution_count": null,
   "metadata": {},
   "outputs": [],
   "source": [
    "np.random.seed(2308)"
   ]
  },
  {
   "cell_type": "code",
   "execution_count": null,
   "metadata": {},
   "outputs": [],
   "source": [
    "save_features = True"
   ]
  },
  {
   "cell_type": "markdown",
   "metadata": {},
   "source": [
    "### Define extracellular electrodes\n",
    "\n",
    "Importantly, if the electrode design changes, new features need to be generated. \n",
    "\n",
    "However, a subset of channels can be selected before running the optimization procedure."
   ]
  },
  {
   "cell_type": "code",
   "execution_count": null,
   "metadata": {},
   "outputs": [],
   "source": [
    "mea_type = 'planar' # 'linear' | 'planar'"
   ]
  },
  {
   "cell_type": "code",
   "execution_count": null,
   "metadata": {},
   "outputs": [],
   "source": [
    "if mea_type == 'linear':\n",
    "    mea_positions = np.zeros((20, 3))\n",
    "    mea_positions[:, 2] = 20\n",
    "    mea_positions[:, 1] = np.linspace(-500, 1000, 20)\n",
    "    probe = mu.return_mea(info={'pos': list([list(p) for p in mea_positions]), 'center': False, 'plane': 'xy'})\n",
    "elif mea_type == 'planar':\n",
    "    #mea_dim = [50, 20]  # n rows x n cols\n",
    "    mea_dim = [20, 4]\n",
    "#     mea_pitch = [35, 35]  # rows and cols pitch\n",
    "    mea_pitch = [70, 35]\n",
    "    mea_size = 8\n",
    "\n",
    "    mea_info = {'dim': mea_dim,\n",
    "                'electrode_name': 'hd-mea',\n",
    "                'pitch': mea_pitch,\n",
    "                'shape': 'square',\n",
    "                'size': 8,\n",
    "                'type': 'mea',\n",
    "                'plane': 'xy'}\n",
    "\n",
    "    probe = mu.return_mea(info=mea_info)\n",
    "    # Move the MEA out of the neuron plane (yz)\n",
    "    probe.move([0, 200, 20])\n",
    "    # Instantiate LFPy electrode object\n",
    "    # TODO calculate mapping here!!!!\n",
    "    \n",
    "electrode = LFPy.RecExtElectrode(probe=probe)\n",
    "# cell = LFPy.Cell('morphology/C060114A7.asc')\n",
    "# electrode.calc_mapping(cell)\n",
    "# del cell\n",
    "# print(electrode.mapping.shape)"
   ]
  },
  {
   "cell_type": "code",
   "execution_count": null,
   "metadata": {},
   "outputs": [],
   "source": [
    "ax = mu.plot_probe(probe)"
   ]
  },
  {
   "cell_type": "markdown",
   "metadata": {},
   "source": [
    "### Compute features\n",
    "\n",
    "Features for the different feature sets ('bap', 'soma', 'extra') are listed in the `config/feature_list.json` file.\n",
    "\n",
    "Here we loop through the different feature sets and random parameters, compute the corresponding features and save them in a `json` file that will be later used to construct the `CellEvaluator`.\n"
   ]
  },
  {
   "cell_type": "code",
   "execution_count": null,
   "metadata": {},
   "outputs": [],
   "source": [
    "random_params_file = 'config/params/smart_random.csv'\n",
    "random_params = pd.read_csv(random_params_file, index_col='index')\n",
    "random_params"
   ]
  },
  {
   "cell_type": "code",
   "execution_count": null,
   "metadata": {},
   "outputs": [],
   "source": [
    "#TODO improve this: compute all features once and populate different feature_dicts accordingly"
   ]
  },
  {
   "cell_type": "code",
   "execution_count": null,
   "metadata": {
    "scrolled": false
   },
   "outputs": [],
   "source": [
    "feature_sets = [\"extra\", \"soma\", \"bap\"] # 'soma'/'bap'\n",
    "channels = 'map'\n",
    "\n",
    "morphology = ephys.morphologies.NrnFileMorphology('morphology/C060114A7.asc', do_replace_axon=True)\n",
    "param_configs = json.load(open('config/parameters.json'))\n",
    "parameters = l5pc_model.define_parameters()\n",
    "mechanisms = l5pc_model.define_mechanisms()\n",
    "\n",
    "l5pc_cell = ephys.models.LFPyCellModel('l5pc', \n",
    "                                       v_init=-65., \n",
    "                                       morph=morphology, \n",
    "                                       mechs=mechanisms, \n",
    "                                       params=parameters)\n",
    "\n",
    "param_names = [param.name for param in l5pc_cell.params.values() if not param.frozen]      \n",
    "responses = {}\n",
    "features = {}\n",
    "for feature_set in feature_sets:\n",
    "    print(f'Feature set {feature_set}')\n",
    "    responses[feature_set] = []\n",
    "    features[feature_set] = []\n",
    "\n",
    "    if feature_set == \"extra\":\n",
    "        fitness_protocols = l5pc_evaluator.define_protocols(electrode) \n",
    "    else:\n",
    "        fitness_protocols = l5pc_evaluator.define_protocols() \n",
    "\n",
    "    if feature_set == \"extra\":\n",
    "        sim = ephys.simulators.LFPySimulator(LFPyCellModel=l5pc_cell, cvode_active=True, electrode=electrode)\n",
    "    else:\n",
    "        sim = ephys.simulators.LFPySimulator(LFPyCellModel=l5pc_cell, cvode_active=True)\n",
    "    \n",
    "    for i, (index, params) in enumerate(random_params.iterrows()):\n",
    "        print(f'{i+1} / {len(random_params)}, {index}')   \n",
    "        t_start = time.time()\n",
    "        if channels is 'map':\n",
    "            feature_folder = f'config/features/{index}_{mea_type}_map'\n",
    "        else:\n",
    "            feature_folder = f'config/features/{index}'\n",
    "        feature_file, response, feat_dict = l5pc_evaluator.compute_feature_values(params, l5pc_cell, \n",
    "                                                                                  fitness_protocols, sim, \n",
    "                                                                                  feature_set=feature_set, \n",
    "                                                                                  probe=probe, \n",
    "                                                                                  channels=channels,\n",
    "                                                                                  feature_folder=feature_folder, \n",
    "                                                                                  save_to_file=save_features)\n",
    "        t_stop = time.time()\n",
    "        print(f\"Elapsed time: {t_stop -  t_start}\")\n",
    "        features[feature_set].append(feat_dict)\n",
    "        responses[feature_set].append(response)\n",
    "        \n",
    "        if save_features:\n",
    "            # save probe yaml in the feature folder\n",
    "            with (Path(feature_folder) / 'probe.json').open('w') as f:\n",
    "                json.dump(probe.info, f, indent=4)\n",
    "            print(f\"Saved to {feature_file}\")"
   ]
  },
  {
   "cell_type": "code",
   "execution_count": null,
   "metadata": {},
   "outputs": [],
   "source": [
    "pos = features[\"extra\"][0]['Step1']['MEA']['pos_peak_relative'][0]"
   ]
  },
  {
   "cell_type": "code",
   "execution_count": null,
   "metadata": {},
   "outputs": [],
   "source": [
    "l5pc_plot.plot_feature_map(pos, probe)"
   ]
  },
  {
   "cell_type": "code",
   "execution_count": null,
   "metadata": {},
   "outputs": [],
   "source": [
    "eap = l5pc_evaluator.calculate_eap(responses=responses['extra'][0], protocols=fitness_protocols,\n",
    "                                   protocol_name='Step1')"
   ]
  },
  {
   "cell_type": "code",
   "execution_count": null,
   "metadata": {},
   "outputs": [],
   "source": [
    "eap"
   ]
  },
  {
   "cell_type": "code",
   "execution_count": null,
   "metadata": {
    "scrolled": false
   },
   "outputs": [],
   "source": [
    "fig = l5pc_plot.plot_multiple_responses(responses['bap'], return_fig=True)"
   ]
  },
  {
   "cell_type": "code",
   "execution_count": null,
   "metadata": {},
   "outputs": [],
   "source": [
    "eaps = []\n",
    "for i, resp in enumerate(responses['extra']):\n",
    "    eap = l5pc_evaluator.calculate_eap(resp, protocol_name='Step1', protocols=fitness_protocols)\n",
    "    eaps.append(eap)"
   ]
  },
  {
   "cell_type": "code",
   "execution_count": null,
   "metadata": {},
   "outputs": [],
   "source": [
    "eaps = np.array(eaps)\n",
    "eaps.shape"
   ]
  },
  {
   "cell_type": "code",
   "execution_count": null,
   "metadata": {},
   "outputs": [],
   "source": [
    "mu.plot_mea_recording(eaps, probe)"
   ]
  },
  {
   "cell_type": "code",
   "execution_count": null,
   "metadata": {},
   "outputs": [],
   "source": []
  }
 ],
 "metadata": {
  "kernelspec": {
   "display_name": "Python 3",
   "language": "python",
   "name": "python3"
  },
  "language_info": {
   "codemirror_mode": {
    "name": "ipython",
    "version": 3
   },
   "file_extension": ".py",
   "mimetype": "text/x-python",
   "name": "python",
   "nbconvert_exporter": "python",
   "pygments_lexer": "ipython3",
   "version": "3.6.10"
  }
 },
 "nbformat": 4,
 "nbformat_minor": 1
}
