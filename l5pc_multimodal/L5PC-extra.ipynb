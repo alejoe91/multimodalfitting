{
 "cells": [
  {
   "cell_type": "code",
   "execution_count": null,
   "metadata": {},
   "outputs": [],
   "source": [
    "%load_ext autoreload\n",
    "%autoreload\n",
    "\n",
    "# !nrnivmodl mechanisms\n",
    "import bluepyopt as bpopt\n",
    "import bluepyopt.ephys as ephys\n",
    "\n",
    "import pprint\n",
    "pp = pprint.PrettyPrinter(indent=2)\n",
    "\n",
    "import matplotlib.pyplot as plt\n",
    "%matplotlib notebook\n",
    "import MEAutility as mu\n",
    "\n",
    "import json\n",
    "import numpy\n",
    "import time\n",
    "import numpy as np\n",
    "import LFPy\n",
    "import neuroplotlib as nplt"
   ]
  },
  {
   "cell_type": "markdown",
   "metadata": {},
   "source": [
    "## Define extracellular electrodes"
   ]
  },
  {
   "cell_type": "code",
   "execution_count": null,
   "metadata": {},
   "outputs": [],
   "source": [
    "mea_positions = np.zeros((20, 3))\n",
    "mea_positions[:, 2] = 20\n",
    "mea_positions[:, 1] = np.linspace(-500, 1000, 20)\n",
    "probe = mu.return_mea(info={'pos': mea_positions, 'center': False, 'plane': 'xy'})\n",
    "electrode = LFPy.RecExtElectrode(probe=probe, method='linesource')"
   ]
  },
  {
   "cell_type": "code",
   "execution_count": null,
   "metadata": {
    "scrolled": false
   },
   "outputs": [],
   "source": [
    "ax = mu.plot_probe(probe)"
   ]
  },
  {
   "cell_type": "markdown",
   "metadata": {},
   "source": [
    "## Setup protocols, fitness, and evaluator"
   ]
  },
  {
   "cell_type": "code",
   "execution_count": null,
   "metadata": {},
   "outputs": [],
   "source": [
    "release_params = {\n",
    "    'gNaTs2_tbar_NaTs2_t.apical': 0.026145,\n",
    "    'gSKv3_1bar_SKv3_1.apical': 0.004226,\n",
    "    'gImbar_Im.apical': 0.000143,\n",
    "    'gNaTa_tbar_NaTa_t.axonal': 3.137968,\n",
    "    'gK_Tstbar_K_Tst.axonal': 0.089259,\n",
    "    'gamma_CaDynamics_E2.axonal': 0.002910,\n",
    "    'gNap_Et2bar_Nap_Et2.axonal': 0.006827,\n",
    "    'gSK_E2bar_SK_E2.axonal': 0.007104,\n",
    "    'gCa_HVAbar_Ca_HVA.axonal': 0.000990,\n",
    "    'gK_Pstbar_K_Pst.axonal': 0.973538,\n",
    "    'gSKv3_1bar_SKv3_1.axonal': 1.021945,\n",
    "    'decay_CaDynamics_E2.axonal': 287.198731,\n",
    "    'gCa_LVAstbar_Ca_LVAst.axonal': 0.008752,\n",
    "    'gamma_CaDynamics_E2.somatic': 0.000609,\n",
    "    'gSKv3_1bar_SKv3_1.somatic': 0.303472,\n",
    "    'gSK_E2bar_SK_E2.somatic': 0.008407,\n",
    "    'gCa_HVAbar_Ca_HVA.somatic': 0.000994,\n",
    "    'gNaTs2_tbar_NaTs2_t.somatic': 0.983955,\n",
    "    'decay_CaDynamics_E2.somatic': 210.485284,\n",
    "    'gCa_LVAstbar_Ca_LVAst.somatic': 0.000333\n",
    "}"
   ]
  },
  {
   "cell_type": "code",
   "execution_count": 7,
   "metadata": {},
   "outputs": [
    {
     "name": "stdout",
     "output_type": "stream",
     "text": [
      "Running bAP\n"
     ]
    },
    {
     "name": "stderr",
     "output_type": "stream",
     "text": [
      "/Users/abuccino/Documents/Codes/modeling/multimodal-fitting/BluePyOpt/bluepyopt/ephys/simulators.py:76: UserWarning: Unable to find Neuron hoc shared library in /Applications/NEURON-7.7/nrn/lib/python/neuron, not disabling banner\n",
      "  'not disabling banner' % nrnpy_path)\n"
     ]
    },
    {
     "name": "stdout",
     "output_type": "stream",
     "text": [
      "Running Step3\n"
     ]
    },
    {
     "name": "stderr",
     "output_type": "stream",
     "text": [
      "/Users/abuccino/Documents/Codes/modeling/multimodal-fitting/BluePyOpt/bluepyopt/ephys/simulators.py:76: UserWarning: Unable to find Neuron hoc shared library in /Applications/NEURON-7.7/nrn/lib/python/neuron, not disabling banner\n",
      "  'not disabling banner' % nrnpy_path)\n"
     ]
    },
    {
     "name": "stdout",
     "output_type": "stream",
     "text": [
      "Running Step2\n"
     ]
    },
    {
     "name": "stderr",
     "output_type": "stream",
     "text": [
      "/Users/abuccino/Documents/Codes/modeling/multimodal-fitting/BluePyOpt/bluepyopt/ephys/simulators.py:76: UserWarning: Unable to find Neuron hoc shared library in /Applications/NEURON-7.7/nrn/lib/python/neuron, not disabling banner\n",
      "  'not disabling banner' % nrnpy_path)\n"
     ]
    },
    {
     "name": "stdout",
     "output_type": "stream",
     "text": [
      "Running Step1\n"
     ]
    },
    {
     "name": "stderr",
     "output_type": "stream",
     "text": [
      "/Users/abuccino/Documents/Codes/modeling/multimodal-fitting/BluePyOpt/bluepyopt/ephys/simulators.py:76: UserWarning: Unable to find Neuron hoc shared library in /Applications/NEURON-7.7/nrn/lib/python/neuron, not disabling banner\n",
      "  'not disabling banner' % nrnpy_path)\n"
     ]
    },
    {
     "name": "stdout",
     "output_type": "stream",
     "text": [
      "Step3 Num features: 10\n",
      "Step3.soma.AP_height\n",
      "17.017958284437842\n",
      "Step3.soma.AHP_slow_time\n",
      "0.21586736652864358\n",
      "Step3.soma.ISI_CV\n",
      "0.09902926906713798\n",
      "Step3.soma.doublet_ISI\n",
      "21.100000000004798\n",
      "Step3.soma.adaptation_index2\n",
      "0.007140518671968469\n",
      "Step3.soma.mean_frequency\n",
      "16.08767784426209\n",
      "Step3.soma.AHP_depth_abs_slow\n",
      "-55.903842685412464\n",
      "Step3.soma.AP_width\n",
      "0.8593749999994067\n",
      "Step3.soma.time_to_first_spike\n",
      "10.600000000093019\n",
      "Step3.soma.AHP_depth_abs\n",
      "-56.75947804849142\n",
      "Step2 Num features: 10\n",
      "Step2.soma.AP_height\n",
      "26.49756615115496\n",
      "Step2.soma.AHP_slow_time\n",
      "0.1494249779232803\n",
      "Step2.soma.ISI_CV\n",
      "0.03602948430867007\n",
      "Step2.soma.doublet_ISI\n",
      "44.60000000001014\n",
      "Step2.soma.adaptation_index2\n",
      "-0.001441296000788097\n",
      "Step2.soma.mean_frequency\n",
      "8.846333975132124\n",
      "Step2.soma.AHP_depth_abs_slow\n",
      "-60.81958798459943\n",
      "Step2.soma.AP_width\n",
      "0.8882352941170197\n",
      "Step2.soma.time_to_first_spike\n",
      "23.000000000095838\n",
      "Step2.soma.AHP_depth_abs\n",
      "-60.693804249171926\n",
      "Step1 Num features: 150\n",
      "Step1.soma.AP_height\n",
      "27.891857515758772\n",
      "Step1.soma.AHP_slow_time\n",
      "0.14168337714714255\n",
      "Step1.soma.ISI_CV\n",
      "0.033651966750739545\n",
      "Step1.soma.doublet_ISI\n",
      "67.10000000001526\n",
      "Step1.soma.adaptation_index2\n",
      "-0.00414810830016809\n",
      "Step1.soma.mean_frequency\n",
      "7.106238262021964\n",
      "Step1.soma.AHP_depth_abs_slow\n",
      "-62.284927001025174\n",
      "Step1.soma.AP_width\n",
      "0.8714285714279981\n",
      "Step1.soma.time_to_first_spike\n",
      "33.30000000009818\n",
      "Step1.soma.AHP_depth_abs\n",
      "-62.133114430519\n",
      "Step1.MEA.peak_to_valley\n",
      "0.001445\n",
      "Step1.MEA.peak_to_valley\n",
      "0.0014500000000000001\n",
      "Step1.MEA.peak_to_valley\n",
      "0.0014000000000000002\n",
      "Step1.MEA.peak_to_valley\n",
      "0.0013050000000000002\n",
      "Step1.MEA.peak_to_valley\n",
      "0.0016200000000000001\n",
      "Step1.MEA.peak_to_valley\n",
      "0.0017400000000000002\n",
      "Step1.MEA.peak_to_valley\n",
      "0.0014550000000000001\n",
      "Step1.MEA.peak_to_valley\n",
      "-0.00068\n",
      "Step1.MEA.peak_to_valley\n",
      "-0.00111\n",
      "Step1.MEA.peak_to_valley\n",
      "-0.001445\n",
      "Step1.MEA.peak_to_valley\n",
      "-0.0019500000000000001\n",
      "Step1.MEA.peak_to_valley\n",
      "-0.0036500000000000005\n",
      "Step1.MEA.peak_to_valley\n",
      "-0.0057\n",
      "Step1.MEA.peak_to_valley\n",
      "-0.00691\n",
      "Step1.MEA.peak_to_valley\n",
      "-0.009945\n",
      "Step1.MEA.peak_to_valley\n",
      "-0.009945\n",
      "Step1.MEA.peak_to_valley\n",
      "-0.00995\n",
      "Step1.MEA.peak_to_valley\n",
      "-0.009955\n",
      "Step1.MEA.peak_to_valley\n",
      "-0.010020000000000001\n",
      "Step1.MEA.peak_to_valley\n",
      "-0.010020000000000001\n",
      "Step1.MEA.peak_trough_ratio\n",
      "-0.4269709423145095\n",
      "Step1.MEA.peak_trough_ratio\n",
      "-0.46125454635414426\n",
      "Step1.MEA.peak_trough_ratio\n",
      "-0.5101060335013099\n",
      "Step1.MEA.peak_trough_ratio\n",
      "-0.5871137385332115\n",
      "Step1.MEA.peak_trough_ratio\n",
      "-0.6384759859577943\n",
      "Step1.MEA.peak_trough_ratio\n",
      "-0.6071998316185309\n",
      "Step1.MEA.peak_trough_ratio\n",
      "-0.39436321976840716\n",
      "Step1.MEA.peak_trough_ratio\n",
      "-0.3461866845023398\n",
      "Step1.MEA.peak_trough_ratio\n",
      "-1.039102102356724\n",
      "Step1.MEA.peak_trough_ratio\n",
      "-1.329125310871361\n",
      "Step1.MEA.peak_trough_ratio\n",
      "-1.8018205378054912\n",
      "Step1.MEA.peak_trough_ratio\n",
      "-2.2800568647767068\n",
      "Step1.MEA.peak_trough_ratio\n",
      "-2.277415662087976\n",
      "Step1.MEA.peak_trough_ratio\n",
      "-2.4109590705082278\n",
      "Step1.MEA.peak_trough_ratio\n",
      "-2.640963683695253\n",
      "Step1.MEA.peak_trough_ratio\n",
      "-2.989241914143376\n",
      "Step1.MEA.peak_trough_ratio\n",
      "-4.574027354976894\n",
      "Step1.MEA.peak_trough_ratio\n",
      "-48.73551865417938\n",
      "Step1.MEA.peak_trough_ratio\n",
      "77.24175354396647\n",
      "Step1.MEA.peak_trough_ratio\n",
      "48.910975928694555\n",
      "Step1.MEA.halfwidth\n",
      "0.00063\n",
      "Step1.MEA.halfwidth\n",
      "0.000625\n",
      "Step1.MEA.halfwidth\n",
      "0.000625\n",
      "Step1.MEA.halfwidth\n",
      "0.000625\n",
      "Step1.MEA.halfwidth\n",
      "0.0006050000000000001\n",
      "Step1.MEA.halfwidth\n",
      "0.000595\n",
      "Step1.MEA.halfwidth\n",
      "0.00041500000000000006\n",
      "Step1.MEA.halfwidth\n",
      "-0.001195\n",
      "Step1.MEA.halfwidth\n",
      "-0.001445\n",
      "Step1.MEA.halfwidth\n",
      "-0.0019850000000000002\n",
      "Step1.MEA.halfwidth\n",
      "-0.00286\n",
      "Step1.MEA.halfwidth\n",
      "-0.004935\n",
      "Step1.MEA.halfwidth\n",
      "-0.007490000000000001\n",
      "Step1.MEA.halfwidth\n",
      "-0.009195\n",
      "Step1.MEA.halfwidth\n",
      "-0.012935\n",
      "Step1.MEA.halfwidth\n",
      "-0.013645000000000001\n",
      "Step1.MEA.halfwidth\n",
      "-0.014770000000000002\n",
      "Step1.MEA.halfwidth\n",
      "-0.016700000000000003\n",
      "Step1.MEA.halfwidth\n",
      "-0.018345\n",
      "Step1.MEA.halfwidth\n",
      "-0.018935\n",
      "Step1.MEA.neg_peak_relative\n",
      "0.004163098773195493\n",
      "Step1.MEA.neg_peak_relative\n",
      "0.005622426139795869\n",
      "Step1.MEA.neg_peak_relative\n",
      "0.008017922128310756\n",
      "Step1.MEA.neg_peak_relative\n",
      "0.012401636780886316\n",
      "Step1.MEA.neg_peak_relative\n",
      "0.024751139693938978\n",
      "Step1.MEA.neg_peak_relative\n",
      "0.08331326007550056\n",
      "Step1.MEA.neg_peak_relative\n",
      "1.0\n",
      "Step1.MEA.neg_peak_relative\n",
      "0.4116754933065595\n",
      "Step1.MEA.neg_peak_relative\n",
      "0.22883916129701243\n",
      "Step1.MEA.neg_peak_relative\n",
      "0.06124042291068994\n",
      "Step1.MEA.neg_peak_relative\n",
      "0.020320101606242032\n",
      "Step1.MEA.neg_peak_relative\n",
      "0.007906228545567752\n",
      "Step1.MEA.neg_peak_relative\n",
      "0.004663778406407895\n",
      "Step1.MEA.neg_peak_relative\n",
      "0.002922442911211\n",
      "Step1.MEA.neg_peak_relative\n",
      "0.0019141623015605132\n",
      "Step1.MEA.neg_peak_relative\n",
      "0.001286027743545906\n",
      "Step1.MEA.neg_peak_relative\n",
      "0.0006687571395479643\n",
      "Step1.MEA.neg_peak_relative\n",
      "5.1901480130194964e-05\n",
      "Step1.MEA.neg_peak_relative\n",
      "-2.7463606759996753e-05\n",
      "Step1.MEA.neg_peak_relative\n",
      "-3.625182213628093e-05\n",
      "Step1.MEA.pos_peak_relative\n",
      "0.0045073224809948605\n",
      "Step1.MEA.pos_peak_relative\n",
      "0.006576094038496294\n",
      "Step1.MEA.pos_peak_relative\n",
      "0.010371125522803214\n",
      "Step1.MEA.pos_peak_relative\n",
      "0.01846310956339456\n",
      "Step1.MEA.pos_peak_relative\n",
      "0.04007221649358484\n",
      "Step1.MEA.pos_peak_relative\n",
      "0.12827716925311364\n",
      "Step1.MEA.pos_peak_relative\n",
      "1.0\n",
      "Step1.MEA.pos_peak_relative\n",
      "0.36138404134735735\n",
      "Step1.MEA.pos_peak_relative\n",
      "0.6029650882374818\n",
      "Step1.MEA.pos_peak_relative\n",
      "0.20639905563927827\n",
      "Step1.MEA.pos_peak_relative\n",
      "0.09284125539375253\n",
      "Step1.MEA.pos_peak_relative\n",
      "0.04571078073761949\n",
      "Step1.MEA.pos_peak_relative\n",
      "0.026932942665136263\n",
      "Step1.MEA.pos_peak_relative\n",
      "0.017866499439182955\n",
      "Step1.MEA.pos_peak_relative\n",
      "0.01281872362764601\n",
      "Step1.MEA.pos_peak_relative\n",
      "0.009747988253103863\n",
      "Step1.MEA.pos_peak_relative\n",
      "0.007756589095516715\n",
      "Step1.MEA.pos_peak_relative\n",
      "0.006413999648725035\n",
      "Step1.MEA.pos_peak_relative\n",
      "0.005379145514710658\n",
      "Step1.MEA.pos_peak_relative\n",
      "0.004496139373545603\n",
      "Step1.MEA.neg_peak_diff\n",
      "-4e-05\n",
      "Step1.MEA.neg_peak_diff\n",
      "-4.5e-05\n",
      "Step1.MEA.neg_peak_diff\n",
      "-4.5e-05\n",
      "Step1.MEA.neg_peak_diff\n",
      "-5e-05\n",
      "Step1.MEA.neg_peak_diff\n",
      "-0.000415\n",
      "Step1.MEA.neg_peak_diff\n",
      "-0.000435\n",
      "Step1.MEA.neg_peak_diff\n",
      "0.0\n",
      "Step1.MEA.neg_peak_diff\n",
      "0.000265\n",
      "Step1.MEA.neg_peak_diff\n",
      "0.001125\n",
      "Step1.MEA.neg_peak_diff\n",
      "0.001505\n",
      "Step1.MEA.neg_peak_diff\n",
      "0.002105\n",
      "Step1.MEA.neg_peak_diff\n",
      "0.003955\n",
      "Step1.MEA.neg_peak_diff\n",
      "0.005705\n",
      "Step1.MEA.neg_peak_diff\n",
      "0.006905\n",
      "Step1.MEA.neg_peak_diff\n",
      "0.009935\n",
      "Step1.MEA.neg_peak_diff\n",
      "0.009935\n",
      "Step1.MEA.neg_peak_diff\n",
      "0.009935\n",
      "Step1.MEA.neg_peak_diff\n",
      "0.00994\n",
      "Step1.MEA.neg_peak_diff\n",
      "0.01\n",
      "Step1.MEA.neg_peak_diff\n",
      "0.01\n",
      "Step1.MEA.pos_peak_diff\n",
      "-5e-05\n",
      "Step1.MEA.pos_peak_diff\n",
      "-5e-05\n",
      "Step1.MEA.pos_peak_diff\n",
      "-0.0001\n",
      "Step1.MEA.pos_peak_diff\n",
      "-0.0002\n",
      "Step1.MEA.pos_peak_diff\n",
      "-0.00025\n",
      "Step1.MEA.pos_peak_diff\n",
      "-0.00015\n",
      "Step1.MEA.pos_peak_diff\n",
      "0.0\n",
      "Step1.MEA.pos_peak_diff\n",
      "-0.00187\n",
      "Step1.MEA.pos_peak_diff\n",
      "-0.00144\n",
      "Step1.MEA.pos_peak_diff\n",
      "-0.001395\n",
      "Step1.MEA.pos_peak_diff\n",
      "-0.0013\n",
      "Step1.MEA.pos_peak_diff\n",
      "-0.00115\n",
      "Step1.MEA.pos_peak_diff\n",
      "-0.00145\n",
      "Step1.MEA.pos_peak_diff\n",
      "-0.00146\n",
      "Step1.MEA.pos_peak_diff\n",
      "-0.001465\n",
      "Step1.MEA.pos_peak_diff\n",
      "-0.001465\n",
      "Step1.MEA.pos_peak_diff\n",
      "-0.00147\n",
      "Step1.MEA.pos_peak_diff\n",
      "-0.00147\n",
      "Step1.MEA.pos_peak_diff\n",
      "-0.001475\n",
      "Step1.MEA.pos_peak_diff\n",
      "-0.001475\n",
      "{'Step3': {'soma': {'AP_height': [17.017958284437842, 3.403591656887569], 'AHP_slow_time': [0.21586736652864358, 0.04317347330572872], 'ISI_CV': [0.09902926906713798, 0.019805853813427598], 'doublet_ISI': [21.100000000004798, 4.22000000000096], 'adaptation_index2': [0.007140518671968469, 0.0014281037343936939], 'mean_frequency': [16.08767784426209, 3.217535568852418], 'AHP_depth_abs_slow': [-55.903842685412464, 11.180768537082493], 'AP_width': [0.8593749999994067, 0.17187499999988134], 'time_to_first_spike': [10.600000000093019, 2.120000000018604], 'AHP_depth_abs': [-56.75947804849142, 11.351895609698284]}}, 'Step2': {'soma': {'AP_height': [26.49756615115496, 5.299513230230993], 'AHP_slow_time': [0.1494249779232803, 0.02988499558465606], 'ISI_CV': [0.03602948430867007, 0.007205896861734014], 'doublet_ISI': [44.60000000001014, 8.920000000002029], 'adaptation_index2': [-0.001441296000788097, 0.0002882592001576194], 'mean_frequency': [8.846333975132124, 1.769266795026425], 'AHP_depth_abs_slow': [-60.81958798459943, 12.163917596919887], 'AP_width': [0.8882352941170197, 0.17764705882340395], 'time_to_first_spike': [23.000000000095838, 4.600000000019167], 'AHP_depth_abs': [-60.693804249171926, 12.138760849834386]}}, 'Step1': {'soma': {'AP_height': [27.891857515758772, 5.578371503151755], 'AHP_slow_time': [0.14168337714714255, 0.028336675429428512], 'ISI_CV': [0.033651966750739545, 0.006730393350147909], 'doublet_ISI': [67.10000000001526, 13.420000000003052], 'adaptation_index2': [-0.00414810830016809, 0.000829621660033618], 'mean_frequency': [7.106238262021964, 1.4212476524043929], 'AHP_depth_abs_slow': [-62.284927001025174, 12.456985400205035], 'AP_width': [0.8714285714279981, 0.17428571428559964], 'time_to_first_spike': [33.30000000009818, 6.660000000019636], 'AHP_depth_abs': [-62.133114430519, 12.4266228861038]}, 'MEA': {'peak_to_valley_0': [0.001445, 0.00028900000000000003], 'peak_to_valley_1': [0.0014500000000000001, 0.00029000000000000006], 'peak_to_valley_2': [0.0014000000000000002, 0.00028000000000000003], 'peak_to_valley_3': [0.0013050000000000002, 0.00026100000000000006], 'peak_to_valley_4': [0.0016200000000000001, 0.00032400000000000007], 'peak_to_valley_5': [0.0017400000000000002, 0.00034800000000000006], 'peak_to_valley_6': [0.0014550000000000001, 0.000291], 'peak_to_valley_7': [-0.00068, 0.00013600000000000003], 'peak_to_valley_8': [-0.00111, 0.00022200000000000003], 'peak_to_valley_9': [-0.001445, 0.00028900000000000003], 'peak_to_valley_10': [-0.0019500000000000001, 0.00039000000000000005], 'peak_to_valley_11': [-0.0036500000000000005, 0.0007300000000000002], 'peak_to_valley_12': [-0.0057, 0.0011400000000000002], 'peak_to_valley_13': [-0.00691, 0.0013820000000000002], 'peak_to_valley_14': [-0.009945, 0.0019890000000000003], 'peak_to_valley_15': [-0.009945, 0.0019890000000000003], 'peak_to_valley_16': [-0.00995, 0.00199], 'peak_to_valley_17': [-0.009955, 0.001991], 'peak_to_valley_18': [-0.010020000000000001, 0.002004], 'peak_to_valley_19': [-0.010020000000000001, 0.002004], 'peak_trough_ratio_0': [-0.4269709423145095, 0.08539418846290191], 'peak_trough_ratio_1': [-0.46125454635414426, 0.09225090927082885], 'peak_trough_ratio_2': [-0.5101060335013099, 0.10202120670026199], 'peak_trough_ratio_3': [-0.5871137385332115, 0.1174227477066423], 'peak_trough_ratio_4': [-0.6384759859577943, 0.12769519719155886], 'peak_trough_ratio_5': [-0.6071998316185309, 0.12143996632370618], 'peak_trough_ratio_6': [-0.39436321976840716, 0.07887264395368143], 'peak_trough_ratio_7': [-0.3461866845023398, 0.06923733690046796], 'peak_trough_ratio_8': [-1.039102102356724, 0.2078204204713448], 'peak_trough_ratio_9': [-1.329125310871361, 0.2658250621742722], 'peak_trough_ratio_10': [-1.8018205378054912, 0.36036410756109827], 'peak_trough_ratio_11': [-2.2800568647767068, 0.4560113729553414], 'peak_trough_ratio_12': [-2.277415662087976, 0.4554831324175952], 'peak_trough_ratio_13': [-2.4109590705082278, 0.4821918141016456], 'peak_trough_ratio_14': [-2.640963683695253, 0.5281927367390507], 'peak_trough_ratio_15': [-2.989241914143376, 0.5978483828286753], 'peak_trough_ratio_16': [-4.574027354976894, 0.9148054709953789], 'peak_trough_ratio_17': [-48.73551865417938, 9.747103730835876], 'peak_trough_ratio_18': [77.24175354396647, 15.448350708793294], 'peak_trough_ratio_19': [48.910975928694555, 9.782195185738912], 'halfwidth_0': [0.00063, 0.000126], 'halfwidth_1': [0.000625, 0.000125], 'halfwidth_2': [0.000625, 0.000125], 'halfwidth_3': [0.000625, 0.000125], 'halfwidth_4': [0.0006050000000000001, 0.00012100000000000001], 'halfwidth_5': [0.000595, 0.00011900000000000002], 'halfwidth_6': [0.00041500000000000006, 8.300000000000001e-05], 'halfwidth_7': [-0.001195, 0.00023900000000000004], 'halfwidth_8': [-0.001445, 0.00028900000000000003], 'halfwidth_9': [-0.0019850000000000002, 0.00039700000000000005], 'halfwidth_10': [-0.00286, 0.000572], 'halfwidth_11': [-0.004935, 0.000987], 'halfwidth_12': [-0.007490000000000001, 0.0014980000000000002], 'halfwidth_13': [-0.009195, 0.0018390000000000001], 'halfwidth_14': [-0.012935, 0.0025870000000000003], 'halfwidth_15': [-0.013645000000000001, 0.0027290000000000005], 'halfwidth_16': [-0.014770000000000002, 0.0029540000000000005], 'halfwidth_17': [-0.016700000000000003, 0.003340000000000001], 'halfwidth_18': [-0.018345, 0.0036690000000000004], 'halfwidth_19': [-0.018935, 0.0037870000000000004], 'neg_peak_relative_0': [0.004163098773195493, 0.0008326197546390988], 'neg_peak_relative_1': [0.005622426139795869, 0.0011244852279591738], 'neg_peak_relative_2': [0.008017922128310756, 0.0016035844256621513], 'neg_peak_relative_3': [0.012401636780886316, 0.0024803273561772635], 'neg_peak_relative_4': [0.024751139693938978, 0.0049502279387877955], 'neg_peak_relative_5': [0.08331326007550056, 0.016662652015100112], 'neg_peak_relative_6': [1.0, 0.2], 'neg_peak_relative_7': [0.4116754933065595, 0.0823350986613119], 'neg_peak_relative_8': [0.22883916129701243, 0.04576783225940249], 'neg_peak_relative_9': [0.06124042291068994, 0.01224808458213799], 'neg_peak_relative_10': [0.020320101606242032, 0.004064020321248407], 'neg_peak_relative_11': [0.007906228545567752, 0.0015812457091135504], 'neg_peak_relative_12': [0.004663778406407895, 0.000932755681281579], 'neg_peak_relative_13': [0.002922442911211, 0.0005844885822422], 'neg_peak_relative_14': [0.0019141623015605132, 0.00038283246031210267], 'neg_peak_relative_15': [0.001286027743545906, 0.0002572055487091812], 'neg_peak_relative_16': [0.0006687571395479643, 0.00013375142790959286], 'neg_peak_relative_17': [5.1901480130194964e-05, 1.0380296026038994e-05], 'neg_peak_relative_18': [-2.7463606759996753e-05, 5.492721351999351e-06], 'neg_peak_relative_19': [-3.625182213628093e-05, 7.250364427256187e-06], 'pos_peak_relative_0': [0.0045073224809948605, 0.0009014644961989721], 'pos_peak_relative_1': [0.006576094038496294, 0.001315218807699259], 'pos_peak_relative_2': [0.010371125522803214, 0.002074225104560643], 'pos_peak_relative_3': [0.01846310956339456, 0.0036926219126789117], 'pos_peak_relative_4': [0.04007221649358484, 0.008014443298716969], 'pos_peak_relative_5': [0.12827716925311364, 0.02565543385062273], 'pos_peak_relative_6': [1.0, 0.2], 'pos_peak_relative_7': [0.36138404134735735, 0.07227680826947147], 'pos_peak_relative_8': [0.6029650882374818, 0.12059301764749637], 'pos_peak_relative_9': [0.20639905563927827, 0.041279811127855656], 'pos_peak_relative_10': [0.09284125539375253, 0.018568251078750507], 'pos_peak_relative_11': [0.04571078073761949, 0.0091421561475239], 'pos_peak_relative_12': [0.026932942665136263, 0.005386588533027253], 'pos_peak_relative_13': [0.017866499439182955, 0.003573299887836591], 'pos_peak_relative_14': [0.01281872362764601, 0.0025637447255292024], 'pos_peak_relative_15': [0.009747988253103863, 0.0019495976506207727], 'pos_peak_relative_16': [0.007756589095516715, 0.001551317819103343], 'pos_peak_relative_17': [0.006413999648725035, 0.001282799929745007], 'pos_peak_relative_18': [0.005379145514710658, 0.0010758291029421315], 'pos_peak_relative_19': [0.004496139373545603, 0.0008992278747091206], 'neg_peak_diff_0': [-4e-05, 8.000000000000001e-06], 'neg_peak_diff_1': [-4.5e-05, 9e-06], 'neg_peak_diff_2': [-4.5e-05, 9e-06], 'neg_peak_diff_3': [-5e-05, 1e-05], 'neg_peak_diff_4': [-0.000415, 8.300000000000001e-05], 'neg_peak_diff_5': [-0.000435, 8.7e-05], 'neg_peak_diff_6': [0.0, 0.0], 'neg_peak_diff_7': [0.000265, 5.3e-05], 'neg_peak_diff_8': [0.001125, 0.000225], 'neg_peak_diff_9': [0.001505, 0.00030100000000000005], 'neg_peak_diff_10': [0.002105, 0.00042100000000000004], 'neg_peak_diff_11': [0.003955, 0.000791], 'neg_peak_diff_12': [0.005705, 0.001141], 'neg_peak_diff_13': [0.006905, 0.001381], 'neg_peak_diff_14': [0.009935, 0.001987], 'neg_peak_diff_15': [0.009935, 0.001987], 'neg_peak_diff_16': [0.009935, 0.001987], 'neg_peak_diff_17': [0.00994, 0.0019879999999999997], 'neg_peak_diff_18': [0.01, 0.002], 'neg_peak_diff_19': [0.01, 0.002], 'pos_peak_diff_0': [-5e-05, 1e-05], 'pos_peak_diff_1': [-5e-05, 1e-05], 'pos_peak_diff_2': [-0.0001, 2e-05], 'pos_peak_diff_3': [-0.0002, 4e-05], 'pos_peak_diff_4': [-0.00025, 5e-05], 'pos_peak_diff_5': [-0.00015, 2.9999999999999997e-05], 'pos_peak_diff_6': [0.0, 0.0], 'pos_peak_diff_7': [-0.00187, 0.000374], 'pos_peak_diff_8': [-0.00144, 0.000288], 'pos_peak_diff_9': [-0.001395, 0.000279], 'pos_peak_diff_10': [-0.0013, 0.00026], 'pos_peak_diff_11': [-0.00115, 0.00023], 'pos_peak_diff_12': [-0.00145, 0.00029], 'pos_peak_diff_13': [-0.00146, 0.000292], 'pos_peak_diff_14': [-0.001465, 0.000293], 'pos_peak_diff_15': [-0.001465, 0.000293], 'pos_peak_diff_16': [-0.00147, 0.000294], 'pos_peak_diff_17': [-0.00147, 0.000294], 'pos_peak_diff_18': [-0.001475, 0.000295], 'pos_peak_diff_19': [-0.001475, 0.000295]}}}\n"
     ]
    }
   ],
   "source": [
    "import l5pc_model\n",
    "import l5pc_evaluator\n",
    "\n",
    "feature_set = \"extra\" # 'soma'/'bap'\n",
    "\n",
    "morphology = ephys.morphologies.NrnFileMorphology('morphology/C060114A7.asc', do_replace_axon=True)\n",
    "param_configs = json.load(open('config/parameters.json'))\n",
    "parameters = l5pc_model.define_parameters()\n",
    "mechanisms = l5pc_model.define_mechanisms()\n",
    "\n",
    "l5pc_cell = ephys.models.LFPyCellModel('l5pc', \n",
    "                                       v_init=-65., \n",
    "                                       morph=morphology, \n",
    "                                       mechs=mechanisms, \n",
    "                                       params=parameters)\n",
    "\n",
    "param_names = [param.name for param in l5pc_cell.params.values() if not param.frozen]      \n",
    "\n",
    "if feature_set == \"extra\":\n",
    "    fitness_protocols = l5pc_evaluator.define_protocols(electrode) \n",
    "else:\n",
    "    fitness_protocols = l5pc_evaluator.define_protocols() \n",
    "    \n",
    "if feature_set == \"extra\":\n",
    "    sim = ephys.simulators.LFPySimulator(LFPyCellModel=l5pc_cell, cvode_active=True, electrode=electrode)\n",
    "else:\n",
    "    sim = ephys.simulators.LFPySimulator(LFPyCellModel=l5pc_cell, cvode_active=True)\n",
    "\n",
    "feature_file, resp = l5pc_evaluator.compute_feature_values(release_params, l5pc_cell, fitness_protocols, sim, \n",
    "                                                     feature_set=feature_set, probe=probe, channels=None,\n",
    "                                                     feature_folder='config/features')\n",
    "\n",
    "fitness_calculator = l5pc_evaluator.define_fitness_calculator(fitness_protocols, feature_file=feature_file, \n",
    "                                                              probe=probe)\n",
    "\n",
    "evaluator = ephys.evaluators.CellEvaluator(                                          \n",
    "                cell_model=l5pc_cell,                                                       \n",
    "                param_names=param_names,                                                    \n",
    "                fitness_protocols=fitness_protocols,                                        \n",
    "                fitness_calculator=fitness_calculator,                                      \n",
    "                sim=sim) "
   ]
  },
  {
   "cell_type": "code",
   "execution_count": null,
   "metadata": {
    "scrolled": false
   },
   "outputs": [],
   "source": [
    "for objective in fitness_calculator.objectives:\n",
    "    print(objective.features[0].name)"
   ]
  },
  {
   "cell_type": "code",
   "execution_count": null,
   "metadata": {
    "scrolled": false
   },
   "outputs": [],
   "source": [
    "t_start = time.time()\n",
    "LFPy_responses = evaluator.run_protocols(protocols=fitness_protocols.values(), \n",
    "                                         param_values=release_params)\n",
    "t_end = time.time()\n",
    "print(t_end-t_start)"
   ]
  },
  {
   "cell_type": "code",
   "execution_count": null,
   "metadata": {},
   "outputs": [],
   "source": [
    "LFPy_responses"
   ]
  },
  {
   "cell_type": "markdown",
   "metadata": {},
   "source": [
    "### Visualize waveforms / features"
   ]
  },
  {
   "cell_type": "code",
   "execution_count": null,
   "metadata": {},
   "outputs": [],
   "source": [
    "extrafeat = fitness_calculator.objectives[-1].features[0]"
   ]
  },
  {
   "cell_type": "code",
   "execution_count": null,
   "metadata": {},
   "outputs": [],
   "source": [
    "feat, mean_wf = extrafeat.calculate_feature(LFPy_responses, return_waveforms=True)"
   ]
  },
  {
   "cell_type": "code",
   "execution_count": null,
   "metadata": {},
   "outputs": [],
   "source": [
    "mean_wf.shape"
   ]
  },
  {
   "cell_type": "code",
   "execution_count": null,
   "metadata": {},
   "outputs": [],
   "source": [
    "tr, pk = bpopt.ephys.extra_features_utils._get_trough_and_peak_idx(mean_wf, False)"
   ]
  },
  {
   "cell_type": "code",
   "execution_count": null,
   "metadata": {},
   "outputs": [],
   "source": [
    "plt.figure()\n",
    "cmap = plt.get_cmap('viridis')\n",
    "idxs = range(0, 10)\n",
    "for i, mw in enumerate(mean_wf):\n",
    "    if i in idxs:\n",
    "        color = cmap(i/len(mean_wf))\n",
    "        plt.plot(mw / np.max(np.abs(mw)), color=color, lw=0.3)\n",
    "        plt.axvline(tr[i], ls='--', color=color)\n",
    "        plt.axvline(pk[i], ls='-.', color=color)"
   ]
  },
  {
   "cell_type": "code",
   "execution_count": null,
   "metadata": {},
   "outputs": [],
   "source": [
    "mean_wf_norm = mean_wf / np.max(np.abs(mean_wf), 1, keepdims=True)\n",
    "mu.plot_mea_recording(mean_wf_norm, probe)\n",
    "\n",
    "mu.plot_mea_recording(mean_wf, probe)"
   ]
  },
  {
   "cell_type": "markdown",
   "metadata": {},
   "source": [
    "### TODO: make sure all values are correct"
   ]
  },
  {
   "cell_type": "code",
   "execution_count": null,
   "metadata": {},
   "outputs": [],
   "source": [
    "bpopt.ephys.extra_features_utils.calculate_features(mean_wf, extrafeat.fs * 1000, \n",
    "                                                    feature_names=['peak_to_valley', 'peak_trough_ratio', 'halfwidth',\n",
    "                                                                   'neg_peak_relative', 'pos_peak_relative', \n",
    "                                                                   'neg_peak_diff', 'pos_peak_diff'])"
   ]
  },
  {
   "cell_type": "code",
   "execution_count": null,
   "metadata": {},
   "outputs": [],
   "source": [
    "wf = mean_wf[3]\n",
    "plt.figure()\n",
    "plt.plot(wf, '*')"
   ]
  },
  {
   "cell_type": "code",
   "execution_count": null,
   "metadata": {},
   "outputs": [],
   "source": [
    "def plot_responses(responses):\n",
    "    resp_no_mea = {}\n",
    "    for (resp_name, response) in sorted(responses.items()):\n",
    "        if 'MEA' not in resp_name:\n",
    "            resp_no_mea[resp_name] = response\n",
    "        else:\n",
    "            print(resp_name)\n",
    "    fig, axes = plt.subplots(len(resp_no_mea), figsize=(10,10))\n",
    "    for index, (resp_name, response) in enumerate(sorted(resp_no_mea.items())):\n",
    "        axes[index].plot(response['time'], response['voltage'], label=resp_name)\n",
    "        axes[index].set_title(resp_name)\n",
    "    fig.tight_layout()\n",
    "    fig.show()"
   ]
  },
  {
   "cell_type": "code",
   "execution_count": null,
   "metadata": {},
   "outputs": [],
   "source": [
    "plot_responses(LFPy_responses)"
   ]
  },
  {
   "cell_type": "code",
   "execution_count": null,
   "metadata": {},
   "outputs": [],
   "source": [
    "# plot one MEA response\n",
    "plt.figure()\n",
    "mea_response = LFPy_responses['Step3.MEA.LFP']\n",
    "_ = plt.plot(mea_response['time'], mea_response['voltage'].T)"
   ]
  },
  {
   "cell_type": "markdown",
   "metadata": {},
   "source": [
    "## Optimization"
   ]
  },
  {
   "cell_type": "code",
   "execution_count": null,
   "metadata": {},
   "outputs": [],
   "source": [
    "offspring_size = 250\n",
    "max_ngen = 100"
   ]
  },
  {
   "cell_type": "code",
   "execution_count": null,
   "metadata": {},
   "outputs": [],
   "source": [
    "import multiprocessing\n",
    "\n",
    "pool = multiprocessing.Pool(processes=4)\n",
    "\n",
    "map_function = pool.map"
   ]
  },
  {
   "cell_type": "code",
   "execution_count": null,
   "metadata": {},
   "outputs": [],
   "source": [
    "opt = bpopt.optimisations.DEAPOptimisation(                                     \n",
    "    evaluator=evaluator,                                                            \n",
    "    offspring_size=offspring_size,\n",
    "    map_function=map_function) "
   ]
  },
  {
   "cell_type": "code",
   "execution_count": null,
   "metadata": {},
   "outputs": [],
   "source": [
    "t_start = time.time()\n",
    "final_pop, halloffame, log, hist = opt.run(max_ngen=max_ngen, cp_filename='checkpoints/checkpoint_extra.pkl')\n",
    "t_stop = time.time()\n",
    "print('Optimization time', t_stop - t_start)"
   ]
  },
  {
   "cell_type": "code",
   "execution_count": null,
   "metadata": {},
   "outputs": [],
   "source": [
    "best_params = evaluator.param_dict(halloffame[0])\n",
    "print(pp.pprint(best_params))\n",
    "best_responses = evaluator.run_protocols(protocols=fitness_protocols.values(), param_values=best_params)"
   ]
  },
  {
   "cell_type": "code",
   "execution_count": null,
   "metadata": {},
   "outputs": [],
   "source": [
    "plot_responses(best_responses)"
   ]
  }
 ],
 "metadata": {
  "kernelspec": {
   "display_name": "Python 3",
   "language": "python",
   "name": "python3"
  },
  "language_info": {
   "codemirror_mode": {
    "name": "ipython",
    "version": 3
   },
   "file_extension": ".py",
   "mimetype": "text/x-python",
   "name": "python",
   "nbconvert_exporter": "python",
   "pygments_lexer": "ipython3",
   "version": "3.6.10"
  }
 },
 "nbformat": 4,
 "nbformat_minor": 1
}
